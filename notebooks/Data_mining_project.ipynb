{
 "cells": [
  {
   "cell_type": "code",
   "execution_count": null,
   "metadata": {},
   "outputs": [],
   "source": [
    "# import packages\n",
    "import pandas as pd\n",
    "import numpy as np\n",
    "import urllib.request as request\n",
    "import matplotlib.pyplot as plt\n",
    "import matplotlib.ticker as ticker\n",
    "import seaborn as sns\n",
    "import plotly.express as px\n",
    "import plotly.graph_objects as go\n",
    "from plotly.offline import plot \n",
    "import datetime\n",
    "from ipywidgets import interact, interactive,fixed,interact_manual\n",
    "import ipywidgets as widgets\n",
    "import csv\n",
    "from sklearn.model_selection import  train_test_split\n",
    "from sklearn.linear_model import LogisticRegression,LinearRegression\n",
    "from sklearn.preprocessing import PolynomialFeatures\n",
    "import plotly.io as pio\n",
    "pio.renderers.default = 'notebook'"
   ]
  },
  {
   "cell_type": "code",
   "execution_count": null,
   "metadata": {},
   "outputs": [],
   "source": [
    "#Download data\n",
    "confirmed_df=pd.read_csv(\"https://raw.githubusercontent.com/CSSEGISandData/COVID-19/master/csse_covid_19_data/csse_covid_19_time_series/time_series_covid19_confirmed_global.csv\")\n",
    "recovered_df=pd.read_csv(\"https://raw.githubusercontent.com/CSSEGISandData/COVID-19/master/csse_covid_19_data/csse_covid_19_time_series/time_series_covid19_recovered_global.csv\")\n",
    "death_df=pd.read_csv(\"https://raw.githubusercontent.com/CSSEGISandData/COVID-19/master/csse_covid_19_data/csse_covid_19_time_series/time_series_covid19_deaths_global.csv\")\n",
    "cv19_cases_by_country = pd.read_csv(\"https://raw.githubusercontent.com/CSSEGISandData/COVID-19/master/csse_covid_19_data/csse_covid_19_daily_reports/12-15-2020.csv\")"
   ]
  },
  {
   "cell_type": "code",
   "execution_count": null,
   "metadata": {},
   "outputs": [],
   "source": [
    "cv19_confirmed_global =confirmed_df\n",
    "cv19_deaths_global =death_df\n",
    "cv19_recovered_global = recovered_df"
   ]
  },
  {
   "cell_type": "code",
   "execution_count": null,
   "metadata": {},
   "outputs": [],
   "source": [
    "# renaming\n",
    "confirmed_df.columns=map(str.lower,confirmed_df.columns)\n",
    "recovered_df.columns=map(str.lower,recovered_df.columns)\n",
    "death_df.columns=map(str.lower,death_df.columns)\n",
    "confirmed_df=confirmed_df.rename(columns={'province/state':'state','country/region':'country'})\n",
    "recovered_df=recovered_df.rename(columns={'province/state':'state','country/region':'country'})\n",
    "death_df=death_df.rename(columns={'province/state':'state','country/region':'country'})"
   ]
  },
  {
   "cell_type": "code",
   "execution_count": null,
   "metadata": {},
   "outputs": [],
   "source": [
    "clean_confirmed_data=confirmed_df.groupby('country').sum().reset_index()\n",
    "clean_recovered_data=recovered_df.groupby('country').sum().reset_index()\n",
    "clean_death_data=death_df.groupby('country').sum().reset_index()"
   ]
  },
  {
   "cell_type": "code",
   "execution_count": null,
   "metadata": {},
   "outputs": [],
   "source": [
    "covid_confirmed_count = confirmed_df.iloc[:, 4:].sum().max()\n",
    "covid_deaths_count = death_df.iloc[:, 4:].sum().max()\n",
    "covid_recovered_count = recovered_df.iloc[:, 4:].sum().max()\n",
    "world_df = pd.DataFrame({\n",
    "    'confirmed': [covid_confirmed_count],\n",
    "    'deaths': [covid_deaths_count],\n",
    "    'recovered': [covid_recovered_count],\n",
    "    'active': [covid_confirmed_count - covid_deaths_count - covid_recovered_count]\n",
    "})"
   ]
  },
  {
   "cell_type": "markdown",
   "metadata": {},
   "source": [
    "# World infected map over time from 2/1/20"
   ]
  },
  {
   "cell_type": "code",
   "execution_count": null,
   "metadata": {},
   "outputs": [],
   "source": [
    "clean_confirmed_data.loc[:, ['lat', 'long']] = clean_confirmed_data.groupby('country').mean().reset_index().loc[:, ['lat', 'long']]\n",
    "country_df_month=clean_confirmed_data.loc[:,['country','lat','long','2/1/20','3/1/20','4/1/20','5/1/20','6/1/20','7/1/20','8/1/20'\n",
    "                                             ,'9/1/20','10/1/20','11/1/20','12/1/20','1/1/21']]\n",
    "covid_confirmed_agg_long = pd.melt(country_df_month,\n",
    "                                   id_vars=country_df_month.iloc[:, :3],\n",
    "                                   var_name='date',\n",
    "                                   value_vars=country_df_month.iloc[:, 3:],\n",
    "                                   value_name='date_confirmed_cases')\n",
    "fig = px.scatter_geo(covid_confirmed_agg_long,\n",
    "                     lat=\"lat\", lon=\"long\", color=\"country\",\n",
    "                     hover_name=\"country\", size=\"date_confirmed_cases\",\n",
    "                     size_max=50, animation_frame=\"date\",\n",
    "                     projection=\"natural earth\",\n",
    "                     title=\"COVID-19 worldwide confirmed cases over time\")\n",
    "fig.show()"
   ]
  },
  {
   "cell_type": "markdown",
   "metadata": {},
   "source": [
    "# Top infected Countries"
   ]
  },
  {
   "cell_type": "code",
   "execution_count": null,
   "metadata": {
    "scrolled": true
   },
   "outputs": [],
   "source": [
    "country_df=clean_confirmed_data[['country']]\n",
    "country_df['Confirmed']=clean_confirmed_data.loc[:,'1/12/21']\n",
    "country_df['Death']=clean_death_data.loc[:,'1/12/21']\n",
    "country_df['Recovered']=clean_recovered_data.loc[:,'1/12/21']\n",
    "def draw_scatter(number,content):\n",
    "    #fig=px.scatter(sorted_country_df.head(number),x='country',y=content,size=content,color='country',hover_name=\"country\",size_max=60)\n",
    "    sorted_country_df=country_df.sort_values(content,ascending=False).head(191)\n",
    "    fig2 = px.bar(sorted_country_df.head(number), x='country', y=content, color=\"country\",\n",
    "                  hover_data=[content], height=400,title=\"Top infected Countries\")\n",
    "\n",
    "    fig2.show()\n",
    "    #fig.show()\n",
    "interact(draw_scatter, number=widgets.IntSlider(min=1,max=30,step=1,value=10),content=[\"Confirmed\",\"Recovered\",\"Death\"]);"
   ]
  },
  {
   "cell_type": "code",
   "execution_count": null,
   "metadata": {
    "scrolled": false
   },
   "outputs": [],
   "source": [
    "\n",
    "def plot_cases_for_country(country,Worldwide):\n",
    "    labels=['confirmed','deaths','recovered']\n",
    "    colors=['blue','red','green']\n",
    "    line_size=[1,1,1]\n",
    "\n",
    "    df_list=[confirmed_df,death_df,recovered_df]\n",
    "    \n",
    "    fig1=go.Figure()\n",
    "    \n",
    "    for i,df in enumerate(df_list):\n",
    "        if Worldwide==True:\n",
    "            x_data=np.array(list(df.iloc[:,5:].columns))\n",
    "            y_data=np.sum(np.asarray(df.iloc[:,5:]),axis=0)\n",
    "        else:\n",
    "            x_data=np.array(list(df.iloc[:,5:].columns))\n",
    "            y_data=np.sum(np.asarray(df[df['country']==country].iloc[:,5:]),axis=0)\n",
    "                    \n",
    "        fig1.add_trace(go.Scatter(x=x_data,y=y_data,mode='lines',name=labels[i],\n",
    "                                 line=dict(color=colors[i],width=line_size[i]),\n",
    "                                 connectgaps=True,\n",
    "                                 text=\"Total \"+ str(labels[i])+\": \"+str(y_data[-1])\n",
    "                                ))\n",
    "    fig1.update_layout(\n",
    "    title=\"Covid-19 Cases Daily Increase Timeseries\",\n",
    "    xaxis_title=\"Date\",\n",
    "    yaxis_title=\"Country\",)\n",
    "    fig1.show()\n",
    "\n",
    "#plot_cases_for_country('China')\n",
    "#interact(plot_cases_for_country,country='World');"
   ]
  },
  {
   "cell_type": "markdown",
   "metadata": {},
   "source": [
    "# Covid-19 cases daily increase timeseries"
   ]
  },
  {
   "cell_type": "code",
   "execution_count": null,
   "metadata": {},
   "outputs": [],
   "source": [
    "interact(plot_cases_for_country,country=confirmed_df['country'],Worldwide=False)"
   ]
  },
  {
   "cell_type": "code",
   "execution_count": null,
   "metadata": {},
   "outputs": [],
   "source": [
    "cv19_malaysia_cases = cv19_cases_by_country[cv19_cases_by_country['Country_Region'] == \"Malaysia\"]\n",
    "cv19_malaysia_data = cv19_malaysia_cases.copy().drop(['FIPS', 'Admin2', 'Province_State', 'Country_Region', 'Last_Update', 'Lat', 'Long_', 'Combined_Key', 'Incident_Rate', 'Case_Fatality_Ratio'], axis=1)\n",
    "cv19_malaysia_summary = pd.DataFrame(cv19_malaysia_data.sum()).transpose()"
   ]
  },
  {
   "cell_type": "code",
   "execution_count": null,
   "metadata": {},
   "outputs": [],
   "source": [
    "cv19_confirmed_malaysia = cv19_confirmed_global[cv19_confirmed_global['country/region'] == \"Malaysia\"]\n",
    "cv19_confirmed_malaysia_ts = cv19_confirmed_malaysia.copy().drop(['province/state', 'country/region', 'lat', 'long'], axis=1)\n",
    "cv19_confirmed_malaysia_ts_summary = cv19_confirmed_malaysia_ts.sum()"
   ]
  },
  {
   "cell_type": "markdown",
   "metadata": {},
   "source": [
    "# Total Confirmed Coronavirus Cases in Malaysia"
   ]
  },
  {
   "cell_type": "code",
   "execution_count": null,
   "metadata": {},
   "outputs": [],
   "source": [
    "fig_1 = go.Figure(data=go.Scatter(x=cv19_confirmed_malaysia_ts_summary.index, y=cv19_confirmed_malaysia_ts_summary.values, mode='lines+markers'))\n",
    "fig_1.update_layout(title='Total Confirmed Coronavirus Cases in Malaysia', yaxis_title='Confirmed Cases', xaxis_tickangle=315)\n",
    "fig_1.show()"
   ]
  },
  {
   "cell_type": "code",
   "execution_count": null,
   "metadata": {},
   "outputs": [],
   "source": [
    "color_arr = px.colors.qualitative.Dark24"
   ]
  },
  {
   "cell_type": "code",
   "execution_count": null,
   "metadata": {},
   "outputs": [],
   "source": [
    "def draw_plot(ts_array, ts_label, colors, mode_size, line_size, x_axis_title, y_axis_title, yaxis_type, title, additional_annotations, tickangle = 0):\n",
    "    #initialize figure\n",
    "    fig = go.Figure()\n",
    "    #add all traces\n",
    "    for index, ts in enumerate(ts_array):\n",
    "        fig.add_trace(go.Scatter(x=ts.index, y=ts.values, name=ts_label[index], line=dict(color=colors[index], width=line_size[index]), connectgaps=True))\n",
    "\n",
    "    #base x_axis prop\n",
    "    x_axis_dict = dict(showline=True, showgrid=True, showticklabels=True, linecolor='rgb(204, 204, 204)', linewidth=2, ticks='outside', tickfont=dict(family='Arial', size=12, color='rgb(82, 82, 82)'))\n",
    "    #setting x_axis params\n",
    "    if x_axis_title:\n",
    "        x_axis_dict['title'] = x_axis_title\n",
    "    if tickangle > 0:\n",
    "        x_axis_dict['tickangle'] = tickangle\n",
    "\n",
    "    #base y_axis prop\n",
    "    y_axis_dict = dict(showline=True, showgrid=True, showticklabels=True, linecolor='rgb(204, 204, 204)', linewidth=2)\n",
    "    #setting y_axis params\n",
    "    if yaxis_type := '':\n",
    "        y_axis_dict['type'] = yaxis_type\n",
    "    if y_axis_title:\n",
    "        y_axis_dict['title'] = y_axis_title\n",
    "\n",
    "    #updating layout\n",
    "    fig.update_layout(xaxis = x_axis_dict, yaxis=y_axis_dict, autosize=True, margin=dict(autoexpand=True, l=100, r=20, t=110), showlegend=True)\n",
    "\n",
    "    #base annotation for any graph\n",
    "    annotations = []\n",
    "    #Title\n",
    "    annotations.append(dict(xref='paper', yref='paper', x=0.0, y=1.05, xanchor='left', yanchor='bottom', text=title, font=dict(family='Arial', size=16, color='rgb(37, 37, 37)'), showarrow=False))\n",
    "    #adding annotations in params\n",
    "    if len(additional_annotations) > 0:\n",
    "        annotations.append(additional_annotations)\n",
    "\n",
    "    fig.update_layout(annotations=annotations)\n",
    "\n",
    "    return fig"
   ]
  },
  {
   "cell_type": "code",
   "execution_count": null,
   "metadata": {},
   "outputs": [],
   "source": [
    "cv19_deaths_malaysia_ts_summary = cv19_deaths_global[cv19_deaths_global[\"country/region\"] == \"Malaysia\"].copy().drop(['province/state', 'country/region', 'lat', 'long'], axis=1).sum()\n",
    "cv19_recovered_malaysia_ts_summary = cv19_recovered_global[cv19_recovered_global[\"country/region\"] == \"Malaysia\"].copy().drop(['province/state', 'country/region', 'lat', 'long'], axis=1).sum()\n",
    "\n",
    "cv19_active_malaysia_ts_summary = pd.Series(\n",
    "    data=np.array(\n",
    "        [x1 - x2 - x3 for (x1, x2, x3) in zip(cv19_confirmed_malaysia_ts_summary.values, cv19_deaths_malaysia_ts_summary.values, cv19_recovered_malaysia_ts_summary.values)]\n",
    "    ),\n",
    "    index=cv19_confirmed_malaysia_ts_summary.index\n",
    ")"
   ]
  },
  {
   "cell_type": "markdown",
   "metadata": {},
   "source": [
    "# Covid-19 Malaysia Timeseries"
   ]
  },
  {
   "cell_type": "code",
   "execution_count": null,
   "metadata": {},
   "outputs": [],
   "source": [
    "ts_array = [cv19_confirmed_malaysia_ts_summary, cv19_active_malaysia_ts_summary, cv19_recovered_malaysia_ts_summary, cv19_deaths_malaysia_ts_summary]\n",
    "labels = ['Confirmed', 'Active', 'Recovered', 'Deaths']\n",
    "colors = [color_arr[5], color_arr[0], color_arr[2], color_arr[3]]\n",
    "mode_size = [8, 8, 8, 8]\n",
    "line_size = [2, 2, 2, 2]\n",
    "\n",
    "fig_2 = draw_plot(ts_array = ts_array, ts_label = labels, title = 'Covid-19 Malaysia Timeseries', colors = colors, mode_size = mode_size, line_size = line_size, x_axis_title = 'Date', y_axis_title = 'Cases', tickangle = 500, yaxis_type = '', additional_annotations=[])\n",
    "\n",
    "fig_2.show()"
   ]
  },
  {
   "cell_type": "markdown",
   "metadata": {},
   "source": [
    "# Prediction for Future Data"
   ]
  },
  {
   "cell_type": "code",
   "execution_count": null,
   "metadata": {},
   "outputs": [],
   "source": [
    "pd.set_option('display.max_columns',1000)\n",
    "pd.set_option('display.width', 1000)\n",
    "pd.set_option('display.max_colwidth',1000)\n",
    "# .csv包含93列：Province/State表示省份，Country/Region表示国家，Lat，Long分别表示经纬度，后面每一列分别表示具体日期\n",
    "global confirmed_global_df\n",
    "confirmed_global_df=clean_confirmed_data\n",
    "cols = confirmed_global_df.keys()#列名\n",
    "dates = confirmed_global_df.loc[:, cols[4]:].keys()#提取日期列名\n",
    "global  start_date,end_date\n",
    "start_date=0\n",
    "end_date=30"
   ]
  },
  {
   "cell_type": "code",
   "execution_count": null,
   "metadata": {},
   "outputs": [],
   "source": [
    "def print_file(days_in_future,country,end_date):\n",
    "    if (end_date<350):\n",
    "        future_forcast = np.array([i for i in range(end_date - start_date + days_in_future)]).reshape(-1, 1)#未来预测序数列\n",
    "        first='1/22'\n",
    "        first_day = datetime.datetime.strptime(first, '%m/%d')\n",
    "        future_forcast_dates = []\n",
    "        confirmed_Province_df = confirmed_global_df.loc[confirmed_global_df[\"country\"] == country]\n",
    "        for i in range(len(future_forcast)):\n",
    "            future_forcast_dates.append((first_day + datetime.timedelta(days=i+start_date)).strftime('%m/%d'))\n",
    "\n",
    "\n",
    "        adjusted_dates = future_forcast_dates[:-days_in_future]#矫正后日期star-end,eg:'1/22','1/23'……\n",
    "        dates_array = np.array([i for i in range(end_date-start_date)]).reshape(-1, 1)#开始到结束日准确序数列[1，2，3，……]\n",
    "        confirmed_Province_array = np.array(confirmed_Province_df.iloc[:, start_date+4:end_date+4]).reshape(-1, 1)#准确患者人数列\n",
    "        # 将从1月22号的人员确诊数据分成0.9的训练集，0.1的测试集\n",
    "        X_train_confirmed, X_test_confirmed, y_train_confirmed, y_test_confirmed = train_test_split(dates_array,confirmed_Province_array, test_size=0.1, shuffle=False)\n",
    "\n",
    "        Logistic=LogisticRegression(C = 5, penalty = 'l2',max_iter=50000)\n",
    "        Logistic.fit(X_train_confirmed,y_train_confirmed.ravel())\n",
    "\n",
    "        Logistic_pred = Logistic.predict(future_forcast)\n",
    "        #多项式回归\n",
    "        poly_reg = PolynomialFeatures(degree=3)\n",
    "        x_poly = poly_reg.fit_transform(X_train_confirmed)\n",
    "        linear_reg = LinearRegression()\n",
    "        linear_reg.fit(x_poly, y_train_confirmed.ravel())\n",
    "        \n",
    "\n",
    "        fig= go.Figure()\n",
    "        fig.add_trace(go.Scatter(x=future_forcast_dates, y= Logistic_pred, mode='lines+markers',line=dict(color='firebrick', width=4,\n",
    "                              dash='dash')))\n",
    "        fig.add_trace(go.Scatter(x=future_forcast_dates,\n",
    "                      y=linear_reg.predict(poly_reg.fit_transform(future_forcast)),\n",
    "                      mode='lines+markers',line=dict(color='royalblue', width=4)))\n",
    "        fig.update_layout(title='Confirmed Coronavirus Cases Over Time', yaxis_title='confirmed Cases', xaxis_title='Time in Days')\n",
    "        fig.show()\n",
    "    else:\n",
    "        print(\"Please enter a number lower than 350.\")\n",
    "style = {'description_width': 'initial'}\n",
    "interact(print_file,days_in_future=widgets.IntSlider(description='Forecast days',value=1,disabled=False,style=style),country=confirmed_global_df[\"country\"],end_date=widgets.IntText(description='Used Days from 01/22/2020',style=style,min=10,max=350,step=1,value=80))"
   ]
  }
 ],
 "metadata": {
  "kernelspec": {
   "display_name": "Python 3",
   "language": "python",
   "name": "python3"
  },
  "language_info": {
   "codemirror_mode": {
    "name": "ipython",
    "version": 3
   },
   "file_extension": ".py",
   "mimetype": "text/x-python",
   "name": "python",
   "nbconvert_exporter": "python",
   "pygments_lexer": "ipython3",
   "version": "3.9.1"
  },
  "latex_envs": {
   "LaTeX_envs_menu_present": true,
   "autoclose": false,
   "autocomplete": true,
   "bibliofile": "biblio.bib",
   "cite_by": "apalike",
   "current_citInitial": 1,
   "eqLabelWithNumbers": true,
   "eqNumInitial": 1,
   "hotkeys": {
    "equation": "Ctrl-E",
    "itemize": "Ctrl-I"
   },
   "labels_anchors": false,
   "latex_user_defs": false,
   "report_style_numbering": false,
   "user_envs_cfg": true
  },
  "varInspector": {
   "cols": {
    "lenName": 16,
    "lenType": 16,
    "lenVar": 40
   },
   "kernels_config": {
    "python": {
     "delete_cmd_postfix": "",
     "delete_cmd_prefix": "del ",
     "library": "var_list.py",
     "varRefreshCmd": "print(var_dic_list())"
    },
    "r": {
     "delete_cmd_postfix": ") ",
     "delete_cmd_prefix": "rm(",
     "library": "var_list.r",
     "varRefreshCmd": "cat(var_dic_list()) "
    }
   },
   "position": {
    "height": "952.205px",
    "left": "1521.55px",
    "right": "20px",
    "top": "157.993px",
    "width": "350px"
   },
   "types_to_exclude": [
    "module",
    "function",
    "builtin_function_or_method",
    "instance",
    "_Feature"
   ],
   "window_display": false
  },
  "widgets": {
   "application/vnd.jupyter.widget-state+json": {
    "state": {
     "02aedf537979400aa718d98a4d7b4f29": {
      "model_module": "@jupyter-widgets/base",
      "model_module_version": "1.2.0",
      "model_name": "LayoutModel",
      "state": {}
     },
     "057cc329e44e4b42a5d461c745d122e4": {
      "model_module": "@jupyter-widgets/controls",
      "model_module_version": "1.5.0",
      "model_name": "VBoxModel",
      "state": {
       "_dom_classes": [
        "widget-interact"
       ],
       "children": [
        "IPY_MODEL_45c26edaaa7f46389d3b57a8db5aeb14",
        "IPY_MODEL_7820a3bf15a24b779187a41b1ecd65c3",
        "IPY_MODEL_713669fb8e3c4b33a95add78a1d649ef"
       ],
       "layout": "IPY_MODEL_3695982aea944e64a01e658a4c0abe07"
      }
     },
     "06047989825b49379e7632759d2d3531": {
      "model_module": "@jupyter-widgets/controls",
      "model_module_version": "1.5.0",
      "model_name": "SliderStyleModel",
      "state": {
       "description_width": ""
      }
     },
     "0a1704fb3708481e8b098a3f342c6928": {
      "model_module": "@jupyter-widgets/controls",
      "model_module_version": "1.5.0",
      "model_name": "DescriptionStyleModel",
      "state": {
       "description_width": ""
      }
     },
     "0d2872fa9b0c4bff87885a45bcebbd67": {
      "model_module": "@jupyter-widgets/base",
      "model_module_version": "1.2.0",
      "model_name": "LayoutModel",
      "state": {}
     },
     "0f8ad080be30442bba572da6b948380e": {
      "model_module": "@jupyter-widgets/base",
      "model_module_version": "1.2.0",
      "model_name": "LayoutModel",
      "state": {}
     },
     "1099c4f5feef4b9e8661bba9d9440c31": {
      "model_module": "@jupyter-widgets/controls",
      "model_module_version": "1.5.0",
      "model_name": "VBoxModel",
      "state": {
       "_dom_classes": [
        "widget-interact"
       ],
       "children": [
        "IPY_MODEL_2891c7e638f44dccb8e612b439eec2f8",
        "IPY_MODEL_80ec1cf2f44b4da1af4bf38c6f109d7c",
        "IPY_MODEL_a4f6058426bb4beeaa78909e550c51c6"
       ],
       "layout": "IPY_MODEL_418555e38b884f6bb5bc485d57cb21e6"
      }
     },
     "13e433395377463ea978193fd252e04c": {
      "model_module": "@jupyter-widgets/controls",
      "model_module_version": "1.5.0",
      "model_name": "DescriptionStyleModel",
      "state": {
       "description_width": ""
      }
     },
     "140b32a3870147c09dc92b6d80d7e53c": {
      "model_module": "@jupyter-widgets/base",
      "model_module_version": "1.2.0",
      "model_name": "LayoutModel",
      "state": {}
     },
     "1514250165014c45ac31e177f1e182a7": {
      "model_module": "@jupyter-widgets/output",
      "model_module_version": "1.0.0",
      "model_name": "OutputModel",
      "state": {
       "layout": "IPY_MODEL_66bc07cc000e4a0c97385b46f179f999",
       "outputs": [
        {
         "data": {
          "application/vnd.plotly.v1+json": {
           "config": {
            "plotlyServerURL": "https://plot.ly"
           },
           "data": [
            {
             "connectgaps": true,
             "line": {
              "color": "blue",
              "width": 1
             },
             "mode": "lines+markers",
             "name": "confirmed",
             "text": "Total confirmed: 93093478",
             "type": "scatter",
             "x": [
              "1/23/20",
              "1/24/20",
              "1/25/20",
              "1/26/20",
              "1/27/20",
              "1/28/20",
              "1/29/20",
              "1/30/20",
              "1/31/20",
              "2/1/20",
              "2/2/20",
              "2/3/20",
              "2/4/20",
              "2/5/20",
              "2/6/20",
              "2/7/20",
              "2/8/20",
              "2/9/20",
              "2/10/20",
              "2/11/20",
              "2/12/20",
              "2/13/20",
              "2/14/20",
              "2/15/20",
              "2/16/20",
              "2/17/20",
              "2/18/20",
              "2/19/20",
              "2/20/20",
              "2/21/20",
              "2/22/20",
              "2/23/20",
              "2/24/20",
              "2/25/20",
              "2/26/20",
              "2/27/20",
              "2/28/20",
              "2/29/20",
              "3/1/20",
              "3/2/20",
              "3/3/20",
              "3/4/20",
              "3/5/20",
              "3/6/20",
              "3/7/20",
              "3/8/20",
              "3/9/20",
              "3/10/20",
              "3/11/20",
              "3/12/20",
              "3/13/20",
              "3/14/20",
              "3/15/20",
              "3/16/20",
              "3/17/20",
              "3/18/20",
              "3/19/20",
              "3/20/20",
              "3/21/20",
              "3/22/20",
              "3/23/20",
              "3/24/20",
              "3/25/20",
              "3/26/20",
              "3/27/20",
              "3/28/20",
              "3/29/20",
              "3/30/20",
              "3/31/20",
              "4/1/20",
              "4/2/20",
              "4/3/20",
              "4/4/20",
              "4/5/20",
              "4/6/20",
              "4/7/20",
              "4/8/20",
              "4/9/20",
              "4/10/20",
              "4/11/20",
              "4/12/20",
              "4/13/20",
              "4/14/20",
              "4/15/20",
              "4/16/20",
              "4/17/20",
              "4/18/20",
              "4/19/20",
              "4/20/20",
              "4/21/20",
              "4/22/20",
              "4/23/20",
              "4/24/20",
              "4/25/20",
              "4/26/20",
              "4/27/20",
              "4/28/20",
              "4/29/20",
              "4/30/20",
              "5/1/20",
              "5/2/20",
              "5/3/20",
              "5/4/20",
              "5/5/20",
              "5/6/20",
              "5/7/20",
              "5/8/20",
              "5/9/20",
              "5/10/20",
              "5/11/20",
              "5/12/20",
              "5/13/20",
              "5/14/20",
              "5/15/20",
              "5/16/20",
              "5/17/20",
              "5/18/20",
              "5/19/20",
              "5/20/20",
              "5/21/20",
              "5/22/20",
              "5/23/20",
              "5/24/20",
              "5/25/20",
              "5/26/20",
              "5/27/20",
              "5/28/20",
              "5/29/20",
              "5/30/20",
              "5/31/20",
              "6/1/20",
              "6/2/20",
              "6/3/20",
              "6/4/20",
              "6/5/20",
              "6/6/20",
              "6/7/20",
              "6/8/20",
              "6/9/20",
              "6/10/20",
              "6/11/20",
              "6/12/20",
              "6/13/20",
              "6/14/20",
              "6/15/20",
              "6/16/20",
              "6/17/20",
              "6/18/20",
              "6/19/20",
              "6/20/20",
              "6/21/20",
              "6/22/20",
              "6/23/20",
              "6/24/20",
              "6/25/20",
              "6/26/20",
              "6/27/20",
              "6/28/20",
              "6/29/20",
              "6/30/20",
              "7/1/20",
              "7/2/20",
              "7/3/20",
              "7/4/20",
              "7/5/20",
              "7/6/20",
              "7/7/20",
              "7/8/20",
              "7/9/20",
              "7/10/20",
              "7/11/20",
              "7/12/20",
              "7/13/20",
              "7/14/20",
              "7/15/20",
              "7/16/20",
              "7/17/20",
              "7/18/20",
              "7/19/20",
              "7/20/20",
              "7/21/20",
              "7/22/20",
              "7/23/20",
              "7/24/20",
              "7/25/20",
              "7/26/20",
              "7/27/20",
              "7/28/20",
              "7/29/20",
              "7/30/20",
              "7/31/20",
              "8/1/20",
              "8/2/20",
              "8/3/20",
              "8/4/20",
              "8/5/20",
              "8/6/20",
              "8/7/20",
              "8/8/20",
              "8/9/20",
              "8/10/20",
              "8/11/20",
              "8/12/20",
              "8/13/20",
              "8/14/20",
              "8/15/20",
              "8/16/20",
              "8/17/20",
              "8/18/20",
              "8/19/20",
              "8/20/20",
              "8/21/20",
              "8/22/20",
              "8/23/20",
              "8/24/20",
              "8/25/20",
              "8/26/20",
              "8/27/20",
              "8/28/20",
              "8/29/20",
              "8/30/20",
              "8/31/20",
              "9/1/20",
              "9/2/20",
              "9/3/20",
              "9/4/20",
              "9/5/20",
              "9/6/20",
              "9/7/20",
              "9/8/20",
              "9/9/20",
              "9/10/20",
              "9/11/20",
              "9/12/20",
              "9/13/20",
              "9/14/20",
              "9/15/20",
              "9/16/20",
              "9/17/20",
              "9/18/20",
              "9/19/20",
              "9/20/20",
              "9/21/20",
              "9/22/20",
              "9/23/20",
              "9/24/20",
              "9/25/20",
              "9/26/20",
              "9/27/20",
              "9/28/20",
              "9/29/20",
              "9/30/20",
              "10/1/20",
              "10/2/20",
              "10/3/20",
              "10/4/20",
              "10/5/20",
              "10/6/20",
              "10/7/20",
              "10/8/20",
              "10/9/20",
              "10/10/20",
              "10/11/20",
              "10/12/20",
              "10/13/20",
              "10/14/20",
              "10/15/20",
              "10/16/20",
              "10/17/20",
              "10/18/20",
              "10/19/20",
              "10/20/20",
              "10/21/20",
              "10/22/20",
              "10/23/20",
              "10/24/20",
              "10/25/20",
              "10/26/20",
              "10/27/20",
              "10/28/20",
              "10/29/20",
              "10/30/20",
              "10/31/20",
              "11/1/20",
              "11/2/20",
              "11/3/20",
              "11/4/20",
              "11/5/20",
              "11/6/20",
              "11/7/20",
              "11/8/20",
              "11/9/20",
              "11/10/20",
              "11/11/20",
              "11/12/20",
              "11/13/20",
              "11/14/20",
              "11/15/20",
              "11/16/20",
              "11/17/20",
              "11/18/20",
              "11/19/20",
              "11/20/20",
              "11/21/20",
              "11/22/20",
              "11/23/20",
              "11/24/20",
              "11/25/20",
              "11/26/20",
              "11/27/20",
              "11/28/20",
              "11/29/20",
              "11/30/20",
              "12/1/20",
              "12/2/20",
              "12/3/20",
              "12/4/20",
              "12/5/20",
              "12/6/20",
              "12/7/20",
              "12/8/20",
              "12/9/20",
              "12/10/20",
              "12/11/20",
              "12/12/20",
              "12/13/20",
              "12/14/20",
              "12/15/20",
              "12/16/20",
              "12/17/20",
              "12/18/20",
              "12/19/20",
              "12/20/20",
              "12/21/20",
              "12/22/20",
              "12/23/20",
              "12/24/20",
              "12/25/20",
              "12/26/20",
              "12/27/20",
              "12/28/20",
              "12/29/20",
              "12/30/20",
              "12/31/20",
              "1/1/21",
              "1/2/21",
              "1/3/21",
              "1/4/21",
              "1/5/21",
              "1/6/21",
              "1/7/21",
              "1/8/21",
              "1/9/21",
              "1/10/21",
              "1/11/21",
              "1/12/21",
              "1/13/21",
              "1/14/21"
             ],
             "y": [
              655,
              941,
              1433,
              2118,
              2927,
              5578,
              6167,
              8235,
              9927,
              12038,
              16787,
              19887,
              23898,
              27643,
              30803,
              34396,
              37130,
              40160,
              42769,
              44811,
              45229,
              60382,
              66909,
              69052,
              71235,
              73270,
              75152,
              75652,
              76212,
              76841,
              78602,
              78982,
              79546,
              80399,
              81376,
              82736,
              84123,
              86013,
              88394,
              90377,
              92971,
              95279,
              98090,
              102003,
              106098,
              110047,
              114219,
              119041,
              126702,
              132492,
              146879,
              157952,
              169222,
              184032,
              199976,
              219535,
              246584,
              277361,
              309363,
              344194,
              387045,
              428205,
              479223,
              542053,
              607114,
              674360,
              733612,
              798890,
              875739,
              958530,
              1041577,
              1125107,
              1183515,
              1256123,
              1329293,
              1399126,
              1482482,
              1569522,
              1655055,
              1729410,
              1849130,
              1919850,
              2003793,
              2080933,
              2176493,
              2264175,
              2341486,
              2418187,
              2494206,
              2569825,
              2650976,
              2735250,
              2819268,
              2901569,
              2973235,
              3043343,
              3118638,
              3195702,
              3279215,
              3367609,
              3446844,
              3523315,
              3600908,
              3681350,
              3771315,
              3860002,
              3950433,
              4035545,
              4110806,
              4187331,
              4271681,
              4356653,
              4452847,
              4548556,
              4643327,
              4721202,
              4810242,
              4906995,
              5008753,
              5115397,
              5222008,
              5326935,
              5421118,
              5507934,
              5601730,
              5704578,
              5823437,
              5944620,
              6081443,
              6188003,
              6283740,
              6405306,
              6519632,
              6650360,
              6781599,
              6915809,
              7027920,
              7130512,
              7255254,
              7390160,
              7528132,
              7656636,
              7791899,
              7924414,
              8043943,
              8185766,
              8329049,
              8469359,
              8649128,
              8806225,
              8933824,
              9072458,
              9238408,
              9410004,
              9587983,
              9779341,
              9957016,
              10120364,
              10275226,
              10449239,
              10666613,
              10876170,
              11077352,
              11271372,
              11455457,
              11619346,
              11830649,
              12044989,
              12272080,
              12504604,
              12721935,
              12914457,
              13105504,
              13327834,
              13559388,
              13810612,
              14052849,
              14289359,
              14503083,
              14709814,
              14943853,
              15224074,
              15507209,
              15788459,
              16042653,
              16255895,
              16481981,
              16734601,
              17026219,
              17306440,
              17597272,
              17845830,
              18077070,
              18283614,
              18541345,
              18817570,
              19103047,
              19384879,
              19643611,
              19868566,
              20095339,
              20351986,
              20629458,
              20919298,
              21223476,
              21471051,
              21686091,
              21893779,
              22152087,
              22431761,
              22704263,
              22965388,
              23229929,
              23436264,
              23661740,
              23905622,
              24189689,
              24473559,
              24757323,
              25021467,
              25242686,
              25505493,
              25770258,
              26053847,
              26334927,
              26648892,
              26918880,
              27149664,
              27367472,
              27609600,
              27894137,
              28194135,
              28515277,
              28801890,
              29044694,
              29308184,
              29593557,
              29897572,
              30212448,
              30538257,
              30830440,
              31082534,
              31358408,
              31642628,
              31918270,
              32271044,
              32601773,
              32890135,
              33142027,
              33396565,
              33678868,
              34004908,
              34323117,
              34620674,
              34952974,
              35214615,
              35515428,
              35841632,
              36192388,
              36553559,
              36914202,
              37271241,
              37558410,
              37849863,
              38169037,
              38551176,
              38957956,
              39369523,
              39742055,
              40058763,
              40445552,
              40834602,
              41279240,
              41751832,
              42248219,
              42705119,
              43065638,
              43552009,
              44021819,
              44533131,
              45083528,
              45654084,
              46130636,
              46593088,
              47154801,
              47707967,
              48219087,
              48815263,
              49459644,
              50057513,
              50538443,
              51040980,
              51599370,
              52248166,
              52896477,
              53547650,
              54143875,
              54618009,
              55149556,
              55759536,
              56385958,
              57038197,
              57705825,
              58295341,
              58783734,
              59303960,
              59893643,
              60530326,
              61115160,
              61799055,
              62386339,
              62875351,
              63379704,
              63989386,
              64637619,
              65330449,
              66011684,
              66655385,
              67195599,
              67710541,
              68349706,
              69019562,
              70514553,
              71214071,
              71837776,
              72386761,
              72912199,
              73537713,
              74272015,
              75009181,
              75727329,
              76343362,
              76878587,
              77422372,
              78069744,
              78762734,
              79433051,
              79900957,
              80414260,
              80854018,
              81342586,
              82004651,
              82764230,
              83482639,
              84019364,
              84647530,
              85182122,
              85728246,
              86464253,
              87242203,
              88104270,
              88926204,
              89691203,
              90282153,
              90899901,
              91603910,
              92354150,
              93093478
             ]
            },
            {
             "connectgaps": true,
             "line": {
              "color": "red",
              "width": 1
             },
             "mode": "lines+markers",
             "name": "deaths",
             "text": "Total deaths: 1993858",
             "type": "scatter",
             "x": [
              "1/23/20",
              "1/24/20",
              "1/25/20",
              "1/26/20",
              "1/27/20",
              "1/28/20",
              "1/29/20",
              "1/30/20",
              "1/31/20",
              "2/1/20",
              "2/2/20",
              "2/3/20",
              "2/4/20",
              "2/5/20",
              "2/6/20",
              "2/7/20",
              "2/8/20",
              "2/9/20",
              "2/10/20",
              "2/11/20",
              "2/12/20",
              "2/13/20",
              "2/14/20",
              "2/15/20",
              "2/16/20",
              "2/17/20",
              "2/18/20",
              "2/19/20",
              "2/20/20",
              "2/21/20",
              "2/22/20",
              "2/23/20",
              "2/24/20",
              "2/25/20",
              "2/26/20",
              "2/27/20",
              "2/28/20",
              "2/29/20",
              "3/1/20",
              "3/2/20",
              "3/3/20",
              "3/4/20",
              "3/5/20",
              "3/6/20",
              "3/7/20",
              "3/8/20",
              "3/9/20",
              "3/10/20",
              "3/11/20",
              "3/12/20",
              "3/13/20",
              "3/14/20",
              "3/15/20",
              "3/16/20",
              "3/17/20",
              "3/18/20",
              "3/19/20",
              "3/20/20",
              "3/21/20",
              "3/22/20",
              "3/23/20",
              "3/24/20",
              "3/25/20",
              "3/26/20",
              "3/27/20",
              "3/28/20",
              "3/29/20",
              "3/30/20",
              "3/31/20",
              "4/1/20",
              "4/2/20",
              "4/3/20",
              "4/4/20",
              "4/5/20",
              "4/6/20",
              "4/7/20",
              "4/8/20",
              "4/9/20",
              "4/10/20",
              "4/11/20",
              "4/12/20",
              "4/13/20",
              "4/14/20",
              "4/15/20",
              "4/16/20",
              "4/17/20",
              "4/18/20",
              "4/19/20",
              "4/20/20",
              "4/21/20",
              "4/22/20",
              "4/23/20",
              "4/24/20",
              "4/25/20",
              "4/26/20",
              "4/27/20",
              "4/28/20",
              "4/29/20",
              "4/30/20",
              "5/1/20",
              "5/2/20",
              "5/3/20",
              "5/4/20",
              "5/5/20",
              "5/6/20",
              "5/7/20",
              "5/8/20",
              "5/9/20",
              "5/10/20",
              "5/11/20",
              "5/12/20",
              "5/13/20",
              "5/14/20",
              "5/15/20",
              "5/16/20",
              "5/17/20",
              "5/18/20",
              "5/19/20",
              "5/20/20",
              "5/21/20",
              "5/22/20",
              "5/23/20",
              "5/24/20",
              "5/25/20",
              "5/26/20",
              "5/27/20",
              "5/28/20",
              "5/29/20",
              "5/30/20",
              "5/31/20",
              "6/1/20",
              "6/2/20",
              "6/3/20",
              "6/4/20",
              "6/5/20",
              "6/6/20",
              "6/7/20",
              "6/8/20",
              "6/9/20",
              "6/10/20",
              "6/11/20",
              "6/12/20",
              "6/13/20",
              "6/14/20",
              "6/15/20",
              "6/16/20",
              "6/17/20",
              "6/18/20",
              "6/19/20",
              "6/20/20",
              "6/21/20",
              "6/22/20",
              "6/23/20",
              "6/24/20",
              "6/25/20",
              "6/26/20",
              "6/27/20",
              "6/28/20",
              "6/29/20",
              "6/30/20",
              "7/1/20",
              "7/2/20",
              "7/3/20",
              "7/4/20",
              "7/5/20",
              "7/6/20",
              "7/7/20",
              "7/8/20",
              "7/9/20",
              "7/10/20",
              "7/11/20",
              "7/12/20",
              "7/13/20",
              "7/14/20",
              "7/15/20",
              "7/16/20",
              "7/17/20",
              "7/18/20",
              "7/19/20",
              "7/20/20",
              "7/21/20",
              "7/22/20",
              "7/23/20",
              "7/24/20",
              "7/25/20",
              "7/26/20",
              "7/27/20",
              "7/28/20",
              "7/29/20",
              "7/30/20",
              "7/31/20",
              "8/1/20",
              "8/2/20",
              "8/3/20",
              "8/4/20",
              "8/5/20",
              "8/6/20",
              "8/7/20",
              "8/8/20",
              "8/9/20",
              "8/10/20",
              "8/11/20",
              "8/12/20",
              "8/13/20",
              "8/14/20",
              "8/15/20",
              "8/16/20",
              "8/17/20",
              "8/18/20",
              "8/19/20",
              "8/20/20",
              "8/21/20",
              "8/22/20",
              "8/23/20",
              "8/24/20",
              "8/25/20",
              "8/26/20",
              "8/27/20",
              "8/28/20",
              "8/29/20",
              "8/30/20",
              "8/31/20",
              "9/1/20",
              "9/2/20",
              "9/3/20",
              "9/4/20",
              "9/5/20",
              "9/6/20",
              "9/7/20",
              "9/8/20",
              "9/9/20",
              "9/10/20",
              "9/11/20",
              "9/12/20",
              "9/13/20",
              "9/14/20",
              "9/15/20",
              "9/16/20",
              "9/17/20",
              "9/18/20",
              "9/19/20",
              "9/20/20",
              "9/21/20",
              "9/22/20",
              "9/23/20",
              "9/24/20",
              "9/25/20",
              "9/26/20",
              "9/27/20",
              "9/28/20",
              "9/29/20",
              "9/30/20",
              "10/1/20",
              "10/2/20",
              "10/3/20",
              "10/4/20",
              "10/5/20",
              "10/6/20",
              "10/7/20",
              "10/8/20",
              "10/9/20",
              "10/10/20",
              "10/11/20",
              "10/12/20",
              "10/13/20",
              "10/14/20",
              "10/15/20",
              "10/16/20",
              "10/17/20",
              "10/18/20",
              "10/19/20",
              "10/20/20",
              "10/21/20",
              "10/22/20",
              "10/23/20",
              "10/24/20",
              "10/25/20",
              "10/26/20",
              "10/27/20",
              "10/28/20",
              "10/29/20",
              "10/30/20",
              "10/31/20",
              "11/1/20",
              "11/2/20",
              "11/3/20",
              "11/4/20",
              "11/5/20",
              "11/6/20",
              "11/7/20",
              "11/8/20",
              "11/9/20",
              "11/10/20",
              "11/11/20",
              "11/12/20",
              "11/13/20",
              "11/14/20",
              "11/15/20",
              "11/16/20",
              "11/17/20",
              "11/18/20",
              "11/19/20",
              "11/20/20",
              "11/21/20",
              "11/22/20",
              "11/23/20",
              "11/24/20",
              "11/25/20",
              "11/26/20",
              "11/27/20",
              "11/28/20",
              "11/29/20",
              "11/30/20",
              "12/1/20",
              "12/2/20",
              "12/3/20",
              "12/4/20",
              "12/5/20",
              "12/6/20",
              "12/7/20",
              "12/8/20",
              "12/9/20",
              "12/10/20",
              "12/11/20",
              "12/12/20",
              "12/13/20",
              "12/14/20",
              "12/15/20",
              "12/16/20",
              "12/17/20",
              "12/18/20",
              "12/19/20",
              "12/20/20",
              "12/21/20",
              "12/22/20",
              "12/23/20",
              "12/24/20",
              "12/25/20",
              "12/26/20",
              "12/27/20",
              "12/28/20",
              "12/29/20",
              "12/30/20",
              "12/31/20",
              "1/1/21",
              "1/2/21",
              "1/3/21",
              "1/4/21",
              "1/5/21",
              "1/6/21",
              "1/7/21",
              "1/8/21",
              "1/9/21",
              "1/10/21",
              "1/11/21",
              "1/12/21",
              "1/13/21",
              "1/14/21"
             ],
             "y": [
              18,
              26,
              42,
              56,
              82,
              131,
              133,
              171,
              213,
              259,
              362,
              426,
              492,
              564,
              634,
              719,
              806,
              906,
              1013,
              1113,
              1118,
              1371,
              1523,
              1666,
              1770,
              1868,
              2008,
              2123,
              2248,
              2252,
              2459,
              2470,
              2630,
              2710,
              2771,
              2814,
              2873,
              2942,
              2996,
              3085,
              3160,
              3255,
              3349,
              3460,
              3564,
              3803,
              3993,
              4267,
              4611,
              4917,
              5414,
              5834,
              6475,
              7153,
              7965,
              8868,
              9980,
              11461,
              13183,
              14857,
              16798,
              19083,
              21882,
              24902,
              28396,
              32112,
              35588,
              39640,
              44389,
              50348,
              56201,
              62325,
              68497,
              73681,
              79607,
              87838,
              94587,
              102333,
              109723,
              115958,
              121787,
              127714,
              134680,
              143030,
              150308,
              158673,
              164696,
              169958,
              175833,
              183013,
              189732,
              196559,
              203224,
              208863,
              212820,
              217492,
              224021,
              230747,
              236728,
              241888,
              247414,
              250899,
              255006,
              260879,
              267428,
              272716,
              278191,
              282471,
              286075,
              289540,
              295067,
              300138,
              305327,
              310446,
              314721,
              317919,
              321619,
              326314,
              331072,
              335793,
              341062,
              345034,
              348034,
              349236,
              353418,
              358483,
              363089,
              367687,
              371748,
              374728,
              377813,
              382526,
              387962,
              393092,
              397640,
              401496,
              404248,
              407938,
              412765,
              417817,
              422497,
              426710,
              430901,
              434318,
              437738,
              444460,
              449555,
              454516,
              460667,
              464871,
              468884,
              472444,
              477663,
              482840,
              487531,
              492239,
              496723,
              499875,
              503611,
              508543,
              513478,
              518548,
              523487,
              527880,
              531368,
              535205,
              541208,
              546510,
              551895,
              557181,
              561992,
              565987,
              569885,
              575473,
              580891,
              586662,
              593308,
              598933,
              603010,
              607211,
              613396,
              620320,
              630225,
              636283,
              641807,
              645515,
              650706,
              657000,
              663587,
              669625,
              675835,
              681298,
              685607,
              690278,
              696882,
              703887,
              710349,
              716643,
              722070,
              726653,
              731921,
              738131,
              744726,
              750936,
              761060,
              766448,
              770667,
              774818,
              781700,
              788395,
              794444,
              799878,
              805443,
              809308,
              813796,
              820059,
              826344,
              832230,
              837738,
              843058,
              847094,
              851256,
              857694,
              863773,
              869478,
              875351,
              880298,
              884089,
              893452,
              898365,
              904464,
              910270,
              916143,
              921047,
              924720,
              929136,
              935656,
              941458,
              946928,
              952614,
              957873,
              961599,
              965701,
              971662,
              977293,
              983967,
              989856,
              995187,
              998850,
              1002795,
              1008751,
              1015183,
              1023882,
              1028885,
              1034252,
              1038067,
              1044992,
              1050779,
              1056607,
              1062863,
              1069017,
              1073873,
              1077853,
              1081796,
              1087074,
              1093134,
              1099231,
              1105374,
              1110956,
              1114459,
              1119262,
              1125815,
              1132478,
              1138371,
              1145322,
              1151140,
              1155284,
              1160762,
              1168133,
              1175270,
              1182326,
              1189889,
              1196439,
              1201390,
              1207464,
              1216806,
              1226991,
              1235000,
              1244612,
              1252156,
              1257925,
              1265041,
              1275033,
              1285436,
              1295176,
              1304739,
              1313743,
              1320023,
              1327876,
              1338958,
              1350269,
              1361222,
              1373047,
              1381854,
              1388912,
              1397234,
              1409988,
              1422046,
              1432791,
              1444068,
              1453205,
              1460154,
              1468826,
              1481653,
              1494058,
              1506538,
              1518930,
              1529119,
              1536315,
              1544804,
              1557121,
              1569602,
              1582226,
              1595117,
              1605337,
              1612724,
              1621696,
              1635661,
              1649210,
              1662446,
              1675076,
              1685732,
              1693412,
              1702804,
              1717260,
              1730837,
              1742462,
              1750783,
              1757881,
              1765119,
              1774559,
              1790069,
              1805149,
              1818247,
              1827655,
              1835901,
              1843211,
              1853364,
              1868790,
              1883772,
              1898648,
              1913915,
              1926638,
              1934805,
              1945033,
              1962363,
              1978737,
              1993858
             ]
            },
            {
             "connectgaps": true,
             "line": {
              "color": "green",
              "width": 1
             },
             "mode": "lines+markers",
             "name": "recovered",
             "text": "Total recovered: 51347350",
             "type": "scatter",
             "x": [
              "1/23/20",
              "1/24/20",
              "1/25/20",
              "1/26/20",
              "1/27/20",
              "1/28/20",
              "1/29/20",
              "1/30/20",
              "1/31/20",
              "2/1/20",
              "2/2/20",
              "2/3/20",
              "2/4/20",
              "2/5/20",
              "2/6/20",
              "2/7/20",
              "2/8/20",
              "2/9/20",
              "2/10/20",
              "2/11/20",
              "2/12/20",
              "2/13/20",
              "2/14/20",
              "2/15/20",
              "2/16/20",
              "2/17/20",
              "2/18/20",
              "2/19/20",
              "2/20/20",
              "2/21/20",
              "2/22/20",
              "2/23/20",
              "2/24/20",
              "2/25/20",
              "2/26/20",
              "2/27/20",
              "2/28/20",
              "2/29/20",
              "3/1/20",
              "3/2/20",
              "3/3/20",
              "3/4/20",
              "3/5/20",
              "3/6/20",
              "3/7/20",
              "3/8/20",
              "3/9/20",
              "3/10/20",
              "3/11/20",
              "3/12/20",
              "3/13/20",
              "3/14/20",
              "3/15/20",
              "3/16/20",
              "3/17/20",
              "3/18/20",
              "3/19/20",
              "3/20/20",
              "3/21/20",
              "3/22/20",
              "3/23/20",
              "3/24/20",
              "3/25/20",
              "3/26/20",
              "3/27/20",
              "3/28/20",
              "3/29/20",
              "3/30/20",
              "3/31/20",
              "4/1/20",
              "4/2/20",
              "4/3/20",
              "4/4/20",
              "4/5/20",
              "4/6/20",
              "4/7/20",
              "4/8/20",
              "4/9/20",
              "4/10/20",
              "4/11/20",
              "4/12/20",
              "4/13/20",
              "4/14/20",
              "4/15/20",
              "4/16/20",
              "4/17/20",
              "4/18/20",
              "4/19/20",
              "4/20/20",
              "4/21/20",
              "4/22/20",
              "4/23/20",
              "4/24/20",
              "4/25/20",
              "4/26/20",
              "4/27/20",
              "4/28/20",
              "4/29/20",
              "4/30/20",
              "5/1/20",
              "5/2/20",
              "5/3/20",
              "5/4/20",
              "5/5/20",
              "5/6/20",
              "5/7/20",
              "5/8/20",
              "5/9/20",
              "5/10/20",
              "5/11/20",
              "5/12/20",
              "5/13/20",
              "5/14/20",
              "5/15/20",
              "5/16/20",
              "5/17/20",
              "5/18/20",
              "5/19/20",
              "5/20/20",
              "5/21/20",
              "5/22/20",
              "5/23/20",
              "5/24/20",
              "5/25/20",
              "5/26/20",
              "5/27/20",
              "5/28/20",
              "5/29/20",
              "5/30/20",
              "5/31/20",
              "6/1/20",
              "6/2/20",
              "6/3/20",
              "6/4/20",
              "6/5/20",
              "6/6/20",
              "6/7/20",
              "6/8/20",
              "6/9/20",
              "6/10/20",
              "6/11/20",
              "6/12/20",
              "6/13/20",
              "6/14/20",
              "6/15/20",
              "6/16/20",
              "6/17/20",
              "6/18/20",
              "6/19/20",
              "6/20/20",
              "6/21/20",
              "6/22/20",
              "6/23/20",
              "6/24/20",
              "6/25/20",
              "6/26/20",
              "6/27/20",
              "6/28/20",
              "6/29/20",
              "6/30/20",
              "7/1/20",
              "7/2/20",
              "7/3/20",
              "7/4/20",
              "7/5/20",
              "7/6/20",
              "7/7/20",
              "7/8/20",
              "7/9/20",
              "7/10/20",
              "7/11/20",
              "7/12/20",
              "7/13/20",
              "7/14/20",
              "7/15/20",
              "7/16/20",
              "7/17/20",
              "7/18/20",
              "7/19/20",
              "7/20/20",
              "7/21/20",
              "7/22/20",
              "7/23/20",
              "7/24/20",
              "7/25/20",
              "7/26/20",
              "7/27/20",
              "7/28/20",
              "7/29/20",
              "7/30/20",
              "7/31/20",
              "8/1/20",
              "8/2/20",
              "8/3/20",
              "8/4/20",
              "8/5/20",
              "8/6/20",
              "8/7/20",
              "8/8/20",
              "8/9/20",
              "8/10/20",
              "8/11/20",
              "8/12/20",
              "8/13/20",
              "8/14/20",
              "8/15/20",
              "8/16/20",
              "8/17/20",
              "8/18/20",
              "8/19/20",
              "8/20/20",
              "8/21/20",
              "8/22/20",
              "8/23/20",
              "8/24/20",
              "8/25/20",
              "8/26/20",
              "8/27/20",
              "8/28/20",
              "8/29/20",
              "8/30/20",
              "8/31/20",
              "9/1/20",
              "9/2/20",
              "9/3/20",
              "9/4/20",
              "9/5/20",
              "9/6/20",
              "9/7/20",
              "9/8/20",
              "9/9/20",
              "9/10/20",
              "9/11/20",
              "9/12/20",
              "9/13/20",
              "9/14/20",
              "9/15/20",
              "9/16/20",
              "9/17/20",
              "9/18/20",
              "9/19/20",
              "9/20/20",
              "9/21/20",
              "9/22/20",
              "9/23/20",
              "9/24/20",
              "9/25/20",
              "9/26/20",
              "9/27/20",
              "9/28/20",
              "9/29/20",
              "9/30/20",
              "10/1/20",
              "10/2/20",
              "10/3/20",
              "10/4/20",
              "10/5/20",
              "10/6/20",
              "10/7/20",
              "10/8/20",
              "10/9/20",
              "10/10/20",
              "10/11/20",
              "10/12/20",
              "10/13/20",
              "10/14/20",
              "10/15/20",
              "10/16/20",
              "10/17/20",
              "10/18/20",
              "10/19/20",
              "10/20/20",
              "10/21/20",
              "10/22/20",
              "10/23/20",
              "10/24/20",
              "10/25/20",
              "10/26/20",
              "10/27/20",
              "10/28/20",
              "10/29/20",
              "10/30/20",
              "10/31/20",
              "11/1/20",
              "11/2/20",
              "11/3/20",
              "11/4/20",
              "11/5/20",
              "11/6/20",
              "11/7/20",
              "11/8/20",
              "11/9/20",
              "11/10/20",
              "11/11/20",
              "11/12/20",
              "11/13/20",
              "11/14/20",
              "11/15/20",
              "11/16/20",
              "11/17/20",
              "11/18/20",
              "11/19/20",
              "11/20/20",
              "11/21/20",
              "11/22/20",
              "11/23/20",
              "11/24/20",
              "11/25/20",
              "11/26/20",
              "11/27/20",
              "11/28/20",
              "11/29/20",
              "11/30/20",
              "12/1/20",
              "12/2/20",
              "12/3/20",
              "12/4/20",
              "12/5/20",
              "12/6/20",
              "12/7/20",
              "12/8/20",
              "12/9/20",
              "12/10/20",
              "12/11/20",
              "12/12/20",
              "12/13/20",
              "12/14/20",
              "12/15/20",
              "12/16/20",
              "12/17/20",
              "12/18/20",
              "12/19/20",
              "12/20/20",
              "12/21/20",
              "12/22/20",
              "12/23/20",
              "12/24/20",
              "12/25/20",
              "12/26/20",
              "12/27/20",
              "12/28/20",
              "12/29/20",
              "12/30/20",
              "12/31/20",
              "1/1/21",
              "1/2/21",
              "1/3/21",
              "1/4/21",
              "1/5/21",
              "1/6/21",
              "1/7/21",
              "1/8/21",
              "1/9/21",
              "1/10/21",
              "1/11/21",
              "1/12/21",
              "1/13/21",
              "1/14/21"
             ],
             "y": [
              32,
              39,
              42,
              56,
              65,
              108,
              127,
              145,
              225,
              287,
              476,
              627,
              857,
              1129,
              1492,
              2016,
              2616,
              3245,
              3947,
              4684,
              5151,
              6294,
              8057,
              9396,
              10866,
              12583,
              14352,
              16121,
              18179,
              18892,
              22889,
              23394,
              25227,
              27905,
              30386,
              33278,
              36710,
              39781,
              42717,
              45601,
              48227,
              51169,
              53795,
              55863,
              58357,
              60694,
              62493,
              64400,
              66998,
              68321,
              70248,
              72619,
              76031,
              78086,
              80830,
              83316,
              84958,
              87403,
              91650,
              97868,
              98336,
              107975,
              113754,
              122126,
              130911,
              139422,
              148878,
              164221,
              177811,
              193083,
              210226,
              225648,
              246060,
              259896,
              276606,
              299868,
              328749,
              354002,
              375786,
              402036,
              421462,
              448720,
              473792,
              510366,
              541282,
              567473,
              591332,
              623097,
              645251,
              680052,
              710180,
              738911,
              788937,
              816705,
              845446,
              873294,
              906502,
              948550,
              1013645,
              1051769,
              1092429,
              1124923,
              1158983,
              1195450,
              1241566,
              1281058,
              1317467,
              1370954,
              1404741,
              1451612,
              1488648,
              1544558,
              1584235,
              1632322,
              1688733,
              1729735,
              1782629,
              1834691,
              1893678,
              1944890,
              2053490,
              2108337,
              2163864,
              2227564,
              2282728,
              2346070,
              2412936,
              2490221,
              2560679,
              2637065,
              2691986,
              2796103,
              2875194,
              2945260,
              3014448,
              3086663,
              3141769,
              3293367,
              3375638,
              3454831,
              3540697,
              3620439,
              3706341,
              3777160,
              3857422,
              3955282,
              4074109,
              4155262,
              4250256,
              4366114,
              4434801,
              4526428,
              4630485,
              4746229,
              4839116,
              4945101,
              5051384,
              5140583,
              5235162,
              5352501,
              5468415,
              5753351,
              5863237,
              6058998,
              6178356,
              6302043,
              6447068,
              6605125,
              6739752,
              6879196,
              7004895,
              7116722,
              7257042,
              7399286,
              7559103,
              7711594,
              7895014,
              8045805,
              8133862,
              8292990,
              8467684,
              8647419,
              8823647,
              9051952,
              9271763,
              9415063,
              9586444,
              9756902,
              9959504,
              10173018,
              10372622,
              10556520,
              10695236,
              10917682,
              11141339,
              11363031,
              11551839,
              11743885,
              11944138,
              12122912,
              12287102,
              12592173,
              12832813,
              12996720,
              13279951,
              13448562,
              13681512,
              13892523,
              14120141,
              14338141,
              14545934,
              14714431,
              14924359,
              15140884,
              15340287,
              15571781,
              15797517,
              16004741,
              16203860,
              16415283,
              16625513,
              16826288,
              17084235,
              17303469,
              17524827,
              17738330,
              17939336,
              18151103,
              18348621,
              18550439,
              18790684,
              19007332,
              19230990,
              19453921,
              19641755,
              19870221,
              20096496,
              20325970,
              20546164,
              20797307,
              21034284,
              21271336,
              21516778,
              21736266,
              21999681,
              22255324,
              22494541,
              22756691,
              22970549,
              23193065,
              23434352,
              23682551,
              23904098,
              24076401,
              24332013,
              24554144,
              24791579,
              25024212,
              25279405,
              25498907,
              25705707,
              25901127,
              26123757,
              26323829,
              26516266,
              26728520,
              26935794,
              27138781,
              27337093,
              27538505,
              27740913,
              27952394,
              28163855,
              28390641,
              28597469,
              28809035,
              29006250,
              29245329,
              29835051,
              30101025,
              30347682,
              30603433,
              30847856,
              31105741,
              31385632,
              31637087,
              31916319,
              32219865,
              32508227,
              32807319,
              33060197,
              33316898,
              33573902,
              33954264,
              34179697,
              34481742,
              34759816,
              34989513,
              35379509,
              35812900,
              36176040,
              36549116,
              36904479,
              37243708,
              37516087,
              37926107,
              38297648,
              38734618,
              39099831,
              39481581,
              39841414,
              40157836,
              40559217,
              41034794,
              41496184,
              41931940,
              42422551,
              42860396,
              43174342,
              43585969,
              44026864,
              44452819,
              44942050,
              45420612,
              46927624,
              47320022,
              41327851,
              41686372,
              42048017,
              42420687,
              42738659,
              43093742,
              43367172,
              43707973,
              44069220,
              44393812,
              44711774,
              45002559,
              45410291,
              45698093,
              45994203,
              46348935,
              46731568,
              47010049,
              47289078,
              47595212,
              47860306,
              48148226,
              48464481,
              48777336,
              49098418,
              49396392,
              49730327,
              49997720,
              50285515,
              50629426,
              50994811,
              51347350
             ]
            }
           ],
           "layout": {
            "template": {
             "data": {
              "bar": [
               {
                "error_x": {
                 "color": "#2a3f5f"
                },
                "error_y": {
                 "color": "#2a3f5f"
                },
                "marker": {
                 "line": {
                  "color": "#E5ECF6",
                  "width": 0.5
                 }
                },
                "type": "bar"
               }
              ],
              "barpolar": [
               {
                "marker": {
                 "line": {
                  "color": "#E5ECF6",
                  "width": 0.5
                 }
                },
                "type": "barpolar"
               }
              ],
              "carpet": [
               {
                "aaxis": {
                 "endlinecolor": "#2a3f5f",
                 "gridcolor": "white",
                 "linecolor": "white",
                 "minorgridcolor": "white",
                 "startlinecolor": "#2a3f5f"
                },
                "baxis": {
                 "endlinecolor": "#2a3f5f",
                 "gridcolor": "white",
                 "linecolor": "white",
                 "minorgridcolor": "white",
                 "startlinecolor": "#2a3f5f"
                },
                "type": "carpet"
               }
              ],
              "choropleth": [
               {
                "colorbar": {
                 "outlinewidth": 0,
                 "ticks": ""
                },
                "type": "choropleth"
               }
              ],
              "contour": [
               {
                "colorbar": {
                 "outlinewidth": 0,
                 "ticks": ""
                },
                "colorscale": [
                 [
                  0,
                  "#0d0887"
                 ],
                 [
                  0.1111111111111111,
                  "#46039f"
                 ],
                 [
                  0.2222222222222222,
                  "#7201a8"
                 ],
                 [
                  0.3333333333333333,
                  "#9c179e"
                 ],
                 [
                  0.4444444444444444,
                  "#bd3786"
                 ],
                 [
                  0.5555555555555556,
                  "#d8576b"
                 ],
                 [
                  0.6666666666666666,
                  "#ed7953"
                 ],
                 [
                  0.7777777777777778,
                  "#fb9f3a"
                 ],
                 [
                  0.8888888888888888,
                  "#fdca26"
                 ],
                 [
                  1,
                  "#f0f921"
                 ]
                ],
                "type": "contour"
               }
              ],
              "contourcarpet": [
               {
                "colorbar": {
                 "outlinewidth": 0,
                 "ticks": ""
                },
                "type": "contourcarpet"
               }
              ],
              "heatmap": [
               {
                "colorbar": {
                 "outlinewidth": 0,
                 "ticks": ""
                },
                "colorscale": [
                 [
                  0,
                  "#0d0887"
                 ],
                 [
                  0.1111111111111111,
                  "#46039f"
                 ],
                 [
                  0.2222222222222222,
                  "#7201a8"
                 ],
                 [
                  0.3333333333333333,
                  "#9c179e"
                 ],
                 [
                  0.4444444444444444,
                  "#bd3786"
                 ],
                 [
                  0.5555555555555556,
                  "#d8576b"
                 ],
                 [
                  0.6666666666666666,
                  "#ed7953"
                 ],
                 [
                  0.7777777777777778,
                  "#fb9f3a"
                 ],
                 [
                  0.8888888888888888,
                  "#fdca26"
                 ],
                 [
                  1,
                  "#f0f921"
                 ]
                ],
                "type": "heatmap"
               }
              ],
              "heatmapgl": [
               {
                "colorbar": {
                 "outlinewidth": 0,
                 "ticks": ""
                },
                "colorscale": [
                 [
                  0,
                  "#0d0887"
                 ],
                 [
                  0.1111111111111111,
                  "#46039f"
                 ],
                 [
                  0.2222222222222222,
                  "#7201a8"
                 ],
                 [
                  0.3333333333333333,
                  "#9c179e"
                 ],
                 [
                  0.4444444444444444,
                  "#bd3786"
                 ],
                 [
                  0.5555555555555556,
                  "#d8576b"
                 ],
                 [
                  0.6666666666666666,
                  "#ed7953"
                 ],
                 [
                  0.7777777777777778,
                  "#fb9f3a"
                 ],
                 [
                  0.8888888888888888,
                  "#fdca26"
                 ],
                 [
                  1,
                  "#f0f921"
                 ]
                ],
                "type": "heatmapgl"
               }
              ],
              "histogram": [
               {
                "marker": {
                 "colorbar": {
                  "outlinewidth": 0,
                  "ticks": ""
                 }
                },
                "type": "histogram"
               }
              ],
              "histogram2d": [
               {
                "colorbar": {
                 "outlinewidth": 0,
                 "ticks": ""
                },
                "colorscale": [
                 [
                  0,
                  "#0d0887"
                 ],
                 [
                  0.1111111111111111,
                  "#46039f"
                 ],
                 [
                  0.2222222222222222,
                  "#7201a8"
                 ],
                 [
                  0.3333333333333333,
                  "#9c179e"
                 ],
                 [
                  0.4444444444444444,
                  "#bd3786"
                 ],
                 [
                  0.5555555555555556,
                  "#d8576b"
                 ],
                 [
                  0.6666666666666666,
                  "#ed7953"
                 ],
                 [
                  0.7777777777777778,
                  "#fb9f3a"
                 ],
                 [
                  0.8888888888888888,
                  "#fdca26"
                 ],
                 [
                  1,
                  "#f0f921"
                 ]
                ],
                "type": "histogram2d"
               }
              ],
              "histogram2dcontour": [
               {
                "colorbar": {
                 "outlinewidth": 0,
                 "ticks": ""
                },
                "colorscale": [
                 [
                  0,
                  "#0d0887"
                 ],
                 [
                  0.1111111111111111,
                  "#46039f"
                 ],
                 [
                  0.2222222222222222,
                  "#7201a8"
                 ],
                 [
                  0.3333333333333333,
                  "#9c179e"
                 ],
                 [
                  0.4444444444444444,
                  "#bd3786"
                 ],
                 [
                  0.5555555555555556,
                  "#d8576b"
                 ],
                 [
                  0.6666666666666666,
                  "#ed7953"
                 ],
                 [
                  0.7777777777777778,
                  "#fb9f3a"
                 ],
                 [
                  0.8888888888888888,
                  "#fdca26"
                 ],
                 [
                  1,
                  "#f0f921"
                 ]
                ],
                "type": "histogram2dcontour"
               }
              ],
              "mesh3d": [
               {
                "colorbar": {
                 "outlinewidth": 0,
                 "ticks": ""
                },
                "type": "mesh3d"
               }
              ],
              "parcoords": [
               {
                "line": {
                 "colorbar": {
                  "outlinewidth": 0,
                  "ticks": ""
                 }
                },
                "type": "parcoords"
               }
              ],
              "pie": [
               {
                "automargin": true,
                "type": "pie"
               }
              ],
              "scatter": [
               {
                "marker": {
                 "colorbar": {
                  "outlinewidth": 0,
                  "ticks": ""
                 }
                },
                "type": "scatter"
               }
              ],
              "scatter3d": [
               {
                "line": {
                 "colorbar": {
                  "outlinewidth": 0,
                  "ticks": ""
                 }
                },
                "marker": {
                 "colorbar": {
                  "outlinewidth": 0,
                  "ticks": ""
                 }
                },
                "type": "scatter3d"
               }
              ],
              "scattercarpet": [
               {
                "marker": {
                 "colorbar": {
                  "outlinewidth": 0,
                  "ticks": ""
                 }
                },
                "type": "scattercarpet"
               }
              ],
              "scattergeo": [
               {
                "marker": {
                 "colorbar": {
                  "outlinewidth": 0,
                  "ticks": ""
                 }
                },
                "type": "scattergeo"
               }
              ],
              "scattergl": [
               {
                "marker": {
                 "colorbar": {
                  "outlinewidth": 0,
                  "ticks": ""
                 }
                },
                "type": "scattergl"
               }
              ],
              "scattermapbox": [
               {
                "marker": {
                 "colorbar": {
                  "outlinewidth": 0,
                  "ticks": ""
                 }
                },
                "type": "scattermapbox"
               }
              ],
              "scatterpolar": [
               {
                "marker": {
                 "colorbar": {
                  "outlinewidth": 0,
                  "ticks": ""
                 }
                },
                "type": "scatterpolar"
               }
              ],
              "scatterpolargl": [
               {
                "marker": {
                 "colorbar": {
                  "outlinewidth": 0,
                  "ticks": ""
                 }
                },
                "type": "scatterpolargl"
               }
              ],
              "scatterternary": [
               {
                "marker": {
                 "colorbar": {
                  "outlinewidth": 0,
                  "ticks": ""
                 }
                },
                "type": "scatterternary"
               }
              ],
              "surface": [
               {
                "colorbar": {
                 "outlinewidth": 0,
                 "ticks": ""
                },
                "colorscale": [
                 [
                  0,
                  "#0d0887"
                 ],
                 [
                  0.1111111111111111,
                  "#46039f"
                 ],
                 [
                  0.2222222222222222,
                  "#7201a8"
                 ],
                 [
                  0.3333333333333333,
                  "#9c179e"
                 ],
                 [
                  0.4444444444444444,
                  "#bd3786"
                 ],
                 [
                  0.5555555555555556,
                  "#d8576b"
                 ],
                 [
                  0.6666666666666666,
                  "#ed7953"
                 ],
                 [
                  0.7777777777777778,
                  "#fb9f3a"
                 ],
                 [
                  0.8888888888888888,
                  "#fdca26"
                 ],
                 [
                  1,
                  "#f0f921"
                 ]
                ],
                "type": "surface"
               }
              ],
              "table": [
               {
                "cells": {
                 "fill": {
                  "color": "#EBF0F8"
                 },
                 "line": {
                  "color": "white"
                 }
                },
                "header": {
                 "fill": {
                  "color": "#C8D4E3"
                 },
                 "line": {
                  "color": "white"
                 }
                },
                "type": "table"
               }
              ]
             },
             "layout": {
              "annotationdefaults": {
               "arrowcolor": "#2a3f5f",
               "arrowhead": 0,
               "arrowwidth": 1
              },
              "autotypenumbers": "strict",
              "coloraxis": {
               "colorbar": {
                "outlinewidth": 0,
                "ticks": ""
               }
              },
              "colorscale": {
               "diverging": [
                [
                 0,
                 "#8e0152"
                ],
                [
                 0.1,
                 "#c51b7d"
                ],
                [
                 0.2,
                 "#de77ae"
                ],
                [
                 0.3,
                 "#f1b6da"
                ],
                [
                 0.4,
                 "#fde0ef"
                ],
                [
                 0.5,
                 "#f7f7f7"
                ],
                [
                 0.6,
                 "#e6f5d0"
                ],
                [
                 0.7,
                 "#b8e186"
                ],
                [
                 0.8,
                 "#7fbc41"
                ],
                [
                 0.9,
                 "#4d9221"
                ],
                [
                 1,
                 "#276419"
                ]
               ],
               "sequential": [
                [
                 0,
                 "#0d0887"
                ],
                [
                 0.1111111111111111,
                 "#46039f"
                ],
                [
                 0.2222222222222222,
                 "#7201a8"
                ],
                [
                 0.3333333333333333,
                 "#9c179e"
                ],
                [
                 0.4444444444444444,
                 "#bd3786"
                ],
                [
                 0.5555555555555556,
                 "#d8576b"
                ],
                [
                 0.6666666666666666,
                 "#ed7953"
                ],
                [
                 0.7777777777777778,
                 "#fb9f3a"
                ],
                [
                 0.8888888888888888,
                 "#fdca26"
                ],
                [
                 1,
                 "#f0f921"
                ]
               ],
               "sequentialminus": [
                [
                 0,
                 "#0d0887"
                ],
                [
                 0.1111111111111111,
                 "#46039f"
                ],
                [
                 0.2222222222222222,
                 "#7201a8"
                ],
                [
                 0.3333333333333333,
                 "#9c179e"
                ],
                [
                 0.4444444444444444,
                 "#bd3786"
                ],
                [
                 0.5555555555555556,
                 "#d8576b"
                ],
                [
                 0.6666666666666666,
                 "#ed7953"
                ],
                [
                 0.7777777777777778,
                 "#fb9f3a"
                ],
                [
                 0.8888888888888888,
                 "#fdca26"
                ],
                [
                 1,
                 "#f0f921"
                ]
               ]
              },
              "colorway": [
               "#636efa",
               "#EF553B",
               "#00cc96",
               "#ab63fa",
               "#FFA15A",
               "#19d3f3",
               "#FF6692",
               "#B6E880",
               "#FF97FF",
               "#FECB52"
              ],
              "font": {
               "color": "#2a3f5f"
              },
              "geo": {
               "bgcolor": "white",
               "lakecolor": "white",
               "landcolor": "#E5ECF6",
               "showlakes": true,
               "showland": true,
               "subunitcolor": "white"
              },
              "hoverlabel": {
               "align": "left"
              },
              "hovermode": "closest",
              "mapbox": {
               "style": "light"
              },
              "paper_bgcolor": "white",
              "plot_bgcolor": "#E5ECF6",
              "polar": {
               "angularaxis": {
                "gridcolor": "white",
                "linecolor": "white",
                "ticks": ""
               },
               "bgcolor": "#E5ECF6",
               "radialaxis": {
                "gridcolor": "white",
                "linecolor": "white",
                "ticks": ""
               }
              },
              "scene": {
               "xaxis": {
                "backgroundcolor": "#E5ECF6",
                "gridcolor": "white",
                "gridwidth": 2,
                "linecolor": "white",
                "showbackground": true,
                "ticks": "",
                "zerolinecolor": "white"
               },
               "yaxis": {
                "backgroundcolor": "#E5ECF6",
                "gridcolor": "white",
                "gridwidth": 2,
                "linecolor": "white",
                "showbackground": true,
                "ticks": "",
                "zerolinecolor": "white"
               },
               "zaxis": {
                "backgroundcolor": "#E5ECF6",
                "gridcolor": "white",
                "gridwidth": 2,
                "linecolor": "white",
                "showbackground": true,
                "ticks": "",
                "zerolinecolor": "white"
               }
              },
              "shapedefaults": {
               "line": {
                "color": "#2a3f5f"
               }
              },
              "ternary": {
               "aaxis": {
                "gridcolor": "white",
                "linecolor": "white",
                "ticks": ""
               },
               "baxis": {
                "gridcolor": "white",
                "linecolor": "white",
                "ticks": ""
               },
               "bgcolor": "#E5ECF6",
               "caxis": {
                "gridcolor": "white",
                "linecolor": "white",
                "ticks": ""
               }
              },
              "title": {
               "x": 0.05
              },
              "xaxis": {
               "automargin": true,
               "gridcolor": "white",
               "linecolor": "white",
               "ticks": "",
               "title": {
                "standoff": 15
               },
               "zerolinecolor": "white",
               "zerolinewidth": 2
              },
              "yaxis": {
               "automargin": true,
               "gridcolor": "white",
               "linecolor": "white",
               "ticks": "",
               "title": {
                "standoff": 15
               },
               "zerolinecolor": "white",
               "zerolinewidth": 2
              }
             }
            },
            "title": {
             "text": "Covid-19 Cases Timeseries"
            },
            "xaxis": {
             "title": {
              "text": "Date"
             }
            },
            "yaxis": {
             "title": {
              "text": "Country"
             }
            }
           }
          },
          "text/html": "<div>                            <div id=\"cb7c4ee6-61d8-44b1-81c2-2aab36dc4405\" class=\"plotly-graph-div\" style=\"height:525px; width:100%;\"></div>            <script type=\"text/javascript\">                require([\"plotly\"], function(Plotly) {                    window.PLOTLYENV=window.PLOTLYENV || {};                                    if (document.getElementById(\"cb7c4ee6-61d8-44b1-81c2-2aab36dc4405\")) {                    Plotly.newPlot(                        \"cb7c4ee6-61d8-44b1-81c2-2aab36dc4405\",                        [{\"connectgaps\": true, \"line\": {\"color\": \"blue\", \"width\": 1}, \"mode\": \"lines+markers\", \"name\": \"confirmed\", \"text\": \"Total confirmed: 93093478\", \"type\": \"scatter\", \"x\": [\"1/23/20\", \"1/24/20\", \"1/25/20\", \"1/26/20\", \"1/27/20\", \"1/28/20\", \"1/29/20\", \"1/30/20\", \"1/31/20\", \"2/1/20\", \"2/2/20\", \"2/3/20\", \"2/4/20\", \"2/5/20\", \"2/6/20\", \"2/7/20\", \"2/8/20\", \"2/9/20\", \"2/10/20\", \"2/11/20\", \"2/12/20\", \"2/13/20\", \"2/14/20\", \"2/15/20\", \"2/16/20\", \"2/17/20\", \"2/18/20\", \"2/19/20\", \"2/20/20\", \"2/21/20\", \"2/22/20\", \"2/23/20\", \"2/24/20\", \"2/25/20\", \"2/26/20\", \"2/27/20\", \"2/28/20\", \"2/29/20\", \"3/1/20\", \"3/2/20\", \"3/3/20\", \"3/4/20\", \"3/5/20\", \"3/6/20\", \"3/7/20\", \"3/8/20\", \"3/9/20\", \"3/10/20\", \"3/11/20\", \"3/12/20\", \"3/13/20\", \"3/14/20\", \"3/15/20\", \"3/16/20\", \"3/17/20\", \"3/18/20\", \"3/19/20\", \"3/20/20\", \"3/21/20\", \"3/22/20\", \"3/23/20\", \"3/24/20\", \"3/25/20\", \"3/26/20\", \"3/27/20\", \"3/28/20\", \"3/29/20\", \"3/30/20\", \"3/31/20\", \"4/1/20\", \"4/2/20\", \"4/3/20\", \"4/4/20\", \"4/5/20\", \"4/6/20\", \"4/7/20\", \"4/8/20\", \"4/9/20\", \"4/10/20\", \"4/11/20\", \"4/12/20\", \"4/13/20\", \"4/14/20\", \"4/15/20\", \"4/16/20\", \"4/17/20\", \"4/18/20\", \"4/19/20\", \"4/20/20\", \"4/21/20\", \"4/22/20\", \"4/23/20\", \"4/24/20\", \"4/25/20\", \"4/26/20\", \"4/27/20\", \"4/28/20\", \"4/29/20\", \"4/30/20\", \"5/1/20\", \"5/2/20\", \"5/3/20\", \"5/4/20\", \"5/5/20\", \"5/6/20\", \"5/7/20\", \"5/8/20\", \"5/9/20\", \"5/10/20\", \"5/11/20\", \"5/12/20\", \"5/13/20\", \"5/14/20\", \"5/15/20\", \"5/16/20\", \"5/17/20\", \"5/18/20\", \"5/19/20\", \"5/20/20\", \"5/21/20\", \"5/22/20\", \"5/23/20\", \"5/24/20\", \"5/25/20\", \"5/26/20\", \"5/27/20\", \"5/28/20\", \"5/29/20\", \"5/30/20\", \"5/31/20\", \"6/1/20\", \"6/2/20\", \"6/3/20\", \"6/4/20\", \"6/5/20\", \"6/6/20\", \"6/7/20\", \"6/8/20\", \"6/9/20\", \"6/10/20\", \"6/11/20\", \"6/12/20\", \"6/13/20\", \"6/14/20\", \"6/15/20\", \"6/16/20\", \"6/17/20\", \"6/18/20\", \"6/19/20\", \"6/20/20\", \"6/21/20\", \"6/22/20\", \"6/23/20\", \"6/24/20\", \"6/25/20\", \"6/26/20\", \"6/27/20\", \"6/28/20\", \"6/29/20\", \"6/30/20\", \"7/1/20\", \"7/2/20\", \"7/3/20\", \"7/4/20\", \"7/5/20\", \"7/6/20\", \"7/7/20\", \"7/8/20\", \"7/9/20\", \"7/10/20\", \"7/11/20\", \"7/12/20\", \"7/13/20\", \"7/14/20\", \"7/15/20\", \"7/16/20\", \"7/17/20\", \"7/18/20\", \"7/19/20\", \"7/20/20\", \"7/21/20\", \"7/22/20\", \"7/23/20\", \"7/24/20\", \"7/25/20\", \"7/26/20\", \"7/27/20\", \"7/28/20\", \"7/29/20\", \"7/30/20\", \"7/31/20\", \"8/1/20\", \"8/2/20\", \"8/3/20\", \"8/4/20\", \"8/5/20\", \"8/6/20\", \"8/7/20\", \"8/8/20\", \"8/9/20\", \"8/10/20\", \"8/11/20\", \"8/12/20\", \"8/13/20\", \"8/14/20\", \"8/15/20\", \"8/16/20\", \"8/17/20\", \"8/18/20\", \"8/19/20\", \"8/20/20\", \"8/21/20\", \"8/22/20\", \"8/23/20\", \"8/24/20\", \"8/25/20\", \"8/26/20\", \"8/27/20\", \"8/28/20\", \"8/29/20\", \"8/30/20\", \"8/31/20\", \"9/1/20\", \"9/2/20\", \"9/3/20\", \"9/4/20\", \"9/5/20\", \"9/6/20\", \"9/7/20\", \"9/8/20\", \"9/9/20\", \"9/10/20\", \"9/11/20\", \"9/12/20\", \"9/13/20\", \"9/14/20\", \"9/15/20\", \"9/16/20\", \"9/17/20\", \"9/18/20\", \"9/19/20\", \"9/20/20\", \"9/21/20\", \"9/22/20\", \"9/23/20\", \"9/24/20\", \"9/25/20\", \"9/26/20\", \"9/27/20\", \"9/28/20\", \"9/29/20\", \"9/30/20\", \"10/1/20\", \"10/2/20\", \"10/3/20\", \"10/4/20\", \"10/5/20\", \"10/6/20\", \"10/7/20\", \"10/8/20\", \"10/9/20\", \"10/10/20\", \"10/11/20\", \"10/12/20\", \"10/13/20\", \"10/14/20\", \"10/15/20\", \"10/16/20\", \"10/17/20\", \"10/18/20\", \"10/19/20\", \"10/20/20\", \"10/21/20\", \"10/22/20\", \"10/23/20\", \"10/24/20\", \"10/25/20\", \"10/26/20\", \"10/27/20\", \"10/28/20\", \"10/29/20\", \"10/30/20\", \"10/31/20\", \"11/1/20\", \"11/2/20\", \"11/3/20\", \"11/4/20\", \"11/5/20\", \"11/6/20\", \"11/7/20\", \"11/8/20\", \"11/9/20\", \"11/10/20\", \"11/11/20\", \"11/12/20\", \"11/13/20\", \"11/14/20\", \"11/15/20\", \"11/16/20\", \"11/17/20\", \"11/18/20\", \"11/19/20\", \"11/20/20\", \"11/21/20\", \"11/22/20\", \"11/23/20\", \"11/24/20\", \"11/25/20\", \"11/26/20\", \"11/27/20\", \"11/28/20\", \"11/29/20\", \"11/30/20\", \"12/1/20\", \"12/2/20\", \"12/3/20\", \"12/4/20\", \"12/5/20\", \"12/6/20\", \"12/7/20\", \"12/8/20\", \"12/9/20\", \"12/10/20\", \"12/11/20\", \"12/12/20\", \"12/13/20\", \"12/14/20\", \"12/15/20\", \"12/16/20\", \"12/17/20\", \"12/18/20\", \"12/19/20\", \"12/20/20\", \"12/21/20\", \"12/22/20\", \"12/23/20\", \"12/24/20\", \"12/25/20\", \"12/26/20\", \"12/27/20\", \"12/28/20\", \"12/29/20\", \"12/30/20\", \"12/31/20\", \"1/1/21\", \"1/2/21\", \"1/3/21\", \"1/4/21\", \"1/5/21\", \"1/6/21\", \"1/7/21\", \"1/8/21\", \"1/9/21\", \"1/10/21\", \"1/11/21\", \"1/12/21\", \"1/13/21\", \"1/14/21\"], \"y\": [655, 941, 1433, 2118, 2927, 5578, 6167, 8235, 9927, 12038, 16787, 19887, 23898, 27643, 30803, 34396, 37130, 40160, 42769, 44811, 45229, 60382, 66909, 69052, 71235, 73270, 75152, 75652, 76212, 76841, 78602, 78982, 79546, 80399, 81376, 82736, 84123, 86013, 88394, 90377, 92971, 95279, 98090, 102003, 106098, 110047, 114219, 119041, 126702, 132492, 146879, 157952, 169222, 184032, 199976, 219535, 246584, 277361, 309363, 344194, 387045, 428205, 479223, 542053, 607114, 674360, 733612, 798890, 875739, 958530, 1041577, 1125107, 1183515, 1256123, 1329293, 1399126, 1482482, 1569522, 1655055, 1729410, 1849130, 1919850, 2003793, 2080933, 2176493, 2264175, 2341486, 2418187, 2494206, 2569825, 2650976, 2735250, 2819268, 2901569, 2973235, 3043343, 3118638, 3195702, 3279215, 3367609, 3446844, 3523315, 3600908, 3681350, 3771315, 3860002, 3950433, 4035545, 4110806, 4187331, 4271681, 4356653, 4452847, 4548556, 4643327, 4721202, 4810242, 4906995, 5008753, 5115397, 5222008, 5326935, 5421118, 5507934, 5601730, 5704578, 5823437, 5944620, 6081443, 6188003, 6283740, 6405306, 6519632, 6650360, 6781599, 6915809, 7027920, 7130512, 7255254, 7390160, 7528132, 7656636, 7791899, 7924414, 8043943, 8185766, 8329049, 8469359, 8649128, 8806225, 8933824, 9072458, 9238408, 9410004, 9587983, 9779341, 9957016, 10120364, 10275226, 10449239, 10666613, 10876170, 11077352, 11271372, 11455457, 11619346, 11830649, 12044989, 12272080, 12504604, 12721935, 12914457, 13105504, 13327834, 13559388, 13810612, 14052849, 14289359, 14503083, 14709814, 14943853, 15224074, 15507209, 15788459, 16042653, 16255895, 16481981, 16734601, 17026219, 17306440, 17597272, 17845830, 18077070, 18283614, 18541345, 18817570, 19103047, 19384879, 19643611, 19868566, 20095339, 20351986, 20629458, 20919298, 21223476, 21471051, 21686091, 21893779, 22152087, 22431761, 22704263, 22965388, 23229929, 23436264, 23661740, 23905622, 24189689, 24473559, 24757323, 25021467, 25242686, 25505493, 25770258, 26053847, 26334927, 26648892, 26918880, 27149664, 27367472, 27609600, 27894137, 28194135, 28515277, 28801890, 29044694, 29308184, 29593557, 29897572, 30212448, 30538257, 30830440, 31082534, 31358408, 31642628, 31918270, 32271044, 32601773, 32890135, 33142027, 33396565, 33678868, 34004908, 34323117, 34620674, 34952974, 35214615, 35515428, 35841632, 36192388, 36553559, 36914202, 37271241, 37558410, 37849863, 38169037, 38551176, 38957956, 39369523, 39742055, 40058763, 40445552, 40834602, 41279240, 41751832, 42248219, 42705119, 43065638, 43552009, 44021819, 44533131, 45083528, 45654084, 46130636, 46593088, 47154801, 47707967, 48219087, 48815263, 49459644, 50057513, 50538443, 51040980, 51599370, 52248166, 52896477, 53547650, 54143875, 54618009, 55149556, 55759536, 56385958, 57038197, 57705825, 58295341, 58783734, 59303960, 59893643, 60530326, 61115160, 61799055, 62386339, 62875351, 63379704, 63989386, 64637619, 65330449, 66011684, 66655385, 67195599, 67710541, 68349706, 69019562, 70514553, 71214071, 71837776, 72386761, 72912199, 73537713, 74272015, 75009181, 75727329, 76343362, 76878587, 77422372, 78069744, 78762734, 79433051, 79900957, 80414260, 80854018, 81342586, 82004651, 82764230, 83482639, 84019364, 84647530, 85182122, 85728246, 86464253, 87242203, 88104270, 88926204, 89691203, 90282153, 90899901, 91603910, 92354150, 93093478]}, {\"connectgaps\": true, \"line\": {\"color\": \"red\", \"width\": 1}, \"mode\": \"lines+markers\", \"name\": \"deaths\", \"text\": \"Total deaths: 1993858\", \"type\": \"scatter\", \"x\": [\"1/23/20\", \"1/24/20\", \"1/25/20\", \"1/26/20\", \"1/27/20\", \"1/28/20\", \"1/29/20\", \"1/30/20\", \"1/31/20\", \"2/1/20\", \"2/2/20\", \"2/3/20\", \"2/4/20\", \"2/5/20\", \"2/6/20\", \"2/7/20\", \"2/8/20\", \"2/9/20\", \"2/10/20\", \"2/11/20\", \"2/12/20\", \"2/13/20\", \"2/14/20\", \"2/15/20\", \"2/16/20\", \"2/17/20\", \"2/18/20\", \"2/19/20\", \"2/20/20\", \"2/21/20\", \"2/22/20\", \"2/23/20\", \"2/24/20\", \"2/25/20\", \"2/26/20\", \"2/27/20\", \"2/28/20\", \"2/29/20\", \"3/1/20\", \"3/2/20\", \"3/3/20\", \"3/4/20\", \"3/5/20\", \"3/6/20\", \"3/7/20\", \"3/8/20\", \"3/9/20\", \"3/10/20\", \"3/11/20\", \"3/12/20\", \"3/13/20\", \"3/14/20\", \"3/15/20\", \"3/16/20\", \"3/17/20\", \"3/18/20\", \"3/19/20\", \"3/20/20\", \"3/21/20\", \"3/22/20\", \"3/23/20\", \"3/24/20\", \"3/25/20\", \"3/26/20\", \"3/27/20\", \"3/28/20\", \"3/29/20\", \"3/30/20\", \"3/31/20\", \"4/1/20\", \"4/2/20\", \"4/3/20\", \"4/4/20\", \"4/5/20\", \"4/6/20\", \"4/7/20\", \"4/8/20\", \"4/9/20\", \"4/10/20\", \"4/11/20\", \"4/12/20\", \"4/13/20\", \"4/14/20\", \"4/15/20\", \"4/16/20\", \"4/17/20\", \"4/18/20\", \"4/19/20\", \"4/20/20\", \"4/21/20\", \"4/22/20\", \"4/23/20\", \"4/24/20\", \"4/25/20\", \"4/26/20\", \"4/27/20\", \"4/28/20\", \"4/29/20\", \"4/30/20\", \"5/1/20\", \"5/2/20\", \"5/3/20\", \"5/4/20\", \"5/5/20\", \"5/6/20\", \"5/7/20\", \"5/8/20\", \"5/9/20\", \"5/10/20\", \"5/11/20\", \"5/12/20\", \"5/13/20\", \"5/14/20\", \"5/15/20\", \"5/16/20\", \"5/17/20\", \"5/18/20\", \"5/19/20\", \"5/20/20\", \"5/21/20\", \"5/22/20\", \"5/23/20\", \"5/24/20\", \"5/25/20\", \"5/26/20\", \"5/27/20\", \"5/28/20\", \"5/29/20\", \"5/30/20\", \"5/31/20\", \"6/1/20\", \"6/2/20\", \"6/3/20\", \"6/4/20\", \"6/5/20\", \"6/6/20\", \"6/7/20\", \"6/8/20\", \"6/9/20\", \"6/10/20\", \"6/11/20\", \"6/12/20\", \"6/13/20\", \"6/14/20\", \"6/15/20\", \"6/16/20\", \"6/17/20\", \"6/18/20\", \"6/19/20\", \"6/20/20\", \"6/21/20\", \"6/22/20\", \"6/23/20\", \"6/24/20\", \"6/25/20\", \"6/26/20\", \"6/27/20\", \"6/28/20\", \"6/29/20\", \"6/30/20\", \"7/1/20\", \"7/2/20\", \"7/3/20\", \"7/4/20\", \"7/5/20\", \"7/6/20\", \"7/7/20\", \"7/8/20\", \"7/9/20\", \"7/10/20\", \"7/11/20\", \"7/12/20\", \"7/13/20\", \"7/14/20\", \"7/15/20\", \"7/16/20\", \"7/17/20\", \"7/18/20\", \"7/19/20\", \"7/20/20\", \"7/21/20\", \"7/22/20\", \"7/23/20\", \"7/24/20\", \"7/25/20\", \"7/26/20\", \"7/27/20\", \"7/28/20\", \"7/29/20\", \"7/30/20\", \"7/31/20\", \"8/1/20\", \"8/2/20\", \"8/3/20\", \"8/4/20\", \"8/5/20\", \"8/6/20\", \"8/7/20\", \"8/8/20\", \"8/9/20\", \"8/10/20\", \"8/11/20\", \"8/12/20\", \"8/13/20\", \"8/14/20\", \"8/15/20\", \"8/16/20\", \"8/17/20\", \"8/18/20\", \"8/19/20\", \"8/20/20\", \"8/21/20\", \"8/22/20\", \"8/23/20\", \"8/24/20\", \"8/25/20\", \"8/26/20\", \"8/27/20\", \"8/28/20\", \"8/29/20\", \"8/30/20\", \"8/31/20\", \"9/1/20\", \"9/2/20\", \"9/3/20\", \"9/4/20\", \"9/5/20\", \"9/6/20\", \"9/7/20\", \"9/8/20\", \"9/9/20\", \"9/10/20\", \"9/11/20\", \"9/12/20\", \"9/13/20\", \"9/14/20\", \"9/15/20\", \"9/16/20\", \"9/17/20\", \"9/18/20\", \"9/19/20\", \"9/20/20\", \"9/21/20\", \"9/22/20\", \"9/23/20\", \"9/24/20\", \"9/25/20\", \"9/26/20\", \"9/27/20\", \"9/28/20\", \"9/29/20\", \"9/30/20\", \"10/1/20\", \"10/2/20\", \"10/3/20\", \"10/4/20\", \"10/5/20\", \"10/6/20\", \"10/7/20\", \"10/8/20\", \"10/9/20\", \"10/10/20\", \"10/11/20\", \"10/12/20\", \"10/13/20\", \"10/14/20\", \"10/15/20\", \"10/16/20\", \"10/17/20\", \"10/18/20\", \"10/19/20\", \"10/20/20\", \"10/21/20\", \"10/22/20\", \"10/23/20\", \"10/24/20\", \"10/25/20\", \"10/26/20\", \"10/27/20\", \"10/28/20\", \"10/29/20\", \"10/30/20\", \"10/31/20\", \"11/1/20\", \"11/2/20\", \"11/3/20\", \"11/4/20\", \"11/5/20\", \"11/6/20\", \"11/7/20\", \"11/8/20\", \"11/9/20\", \"11/10/20\", \"11/11/20\", \"11/12/20\", \"11/13/20\", \"11/14/20\", \"11/15/20\", \"11/16/20\", \"11/17/20\", \"11/18/20\", \"11/19/20\", \"11/20/20\", \"11/21/20\", \"11/22/20\", \"11/23/20\", \"11/24/20\", \"11/25/20\", \"11/26/20\", \"11/27/20\", \"11/28/20\", \"11/29/20\", \"11/30/20\", \"12/1/20\", \"12/2/20\", \"12/3/20\", \"12/4/20\", \"12/5/20\", \"12/6/20\", \"12/7/20\", \"12/8/20\", \"12/9/20\", \"12/10/20\", \"12/11/20\", \"12/12/20\", \"12/13/20\", \"12/14/20\", \"12/15/20\", \"12/16/20\", \"12/17/20\", \"12/18/20\", \"12/19/20\", \"12/20/20\", \"12/21/20\", \"12/22/20\", \"12/23/20\", \"12/24/20\", \"12/25/20\", \"12/26/20\", \"12/27/20\", \"12/28/20\", \"12/29/20\", \"12/30/20\", \"12/31/20\", \"1/1/21\", \"1/2/21\", \"1/3/21\", \"1/4/21\", \"1/5/21\", \"1/6/21\", \"1/7/21\", \"1/8/21\", \"1/9/21\", \"1/10/21\", \"1/11/21\", \"1/12/21\", \"1/13/21\", \"1/14/21\"], \"y\": [18, 26, 42, 56, 82, 131, 133, 171, 213, 259, 362, 426, 492, 564, 634, 719, 806, 906, 1013, 1113, 1118, 1371, 1523, 1666, 1770, 1868, 2008, 2123, 2248, 2252, 2459, 2470, 2630, 2710, 2771, 2814, 2873, 2942, 2996, 3085, 3160, 3255, 3349, 3460, 3564, 3803, 3993, 4267, 4611, 4917, 5414, 5834, 6475, 7153, 7965, 8868, 9980, 11461, 13183, 14857, 16798, 19083, 21882, 24902, 28396, 32112, 35588, 39640, 44389, 50348, 56201, 62325, 68497, 73681, 79607, 87838, 94587, 102333, 109723, 115958, 121787, 127714, 134680, 143030, 150308, 158673, 164696, 169958, 175833, 183013, 189732, 196559, 203224, 208863, 212820, 217492, 224021, 230747, 236728, 241888, 247414, 250899, 255006, 260879, 267428, 272716, 278191, 282471, 286075, 289540, 295067, 300138, 305327, 310446, 314721, 317919, 321619, 326314, 331072, 335793, 341062, 345034, 348034, 349236, 353418, 358483, 363089, 367687, 371748, 374728, 377813, 382526, 387962, 393092, 397640, 401496, 404248, 407938, 412765, 417817, 422497, 426710, 430901, 434318, 437738, 444460, 449555, 454516, 460667, 464871, 468884, 472444, 477663, 482840, 487531, 492239, 496723, 499875, 503611, 508543, 513478, 518548, 523487, 527880, 531368, 535205, 541208, 546510, 551895, 557181, 561992, 565987, 569885, 575473, 580891, 586662, 593308, 598933, 603010, 607211, 613396, 620320, 630225, 636283, 641807, 645515, 650706, 657000, 663587, 669625, 675835, 681298, 685607, 690278, 696882, 703887, 710349, 716643, 722070, 726653, 731921, 738131, 744726, 750936, 761060, 766448, 770667, 774818, 781700, 788395, 794444, 799878, 805443, 809308, 813796, 820059, 826344, 832230, 837738, 843058, 847094, 851256, 857694, 863773, 869478, 875351, 880298, 884089, 893452, 898365, 904464, 910270, 916143, 921047, 924720, 929136, 935656, 941458, 946928, 952614, 957873, 961599, 965701, 971662, 977293, 983967, 989856, 995187, 998850, 1002795, 1008751, 1015183, 1023882, 1028885, 1034252, 1038067, 1044992, 1050779, 1056607, 1062863, 1069017, 1073873, 1077853, 1081796, 1087074, 1093134, 1099231, 1105374, 1110956, 1114459, 1119262, 1125815, 1132478, 1138371, 1145322, 1151140, 1155284, 1160762, 1168133, 1175270, 1182326, 1189889, 1196439, 1201390, 1207464, 1216806, 1226991, 1235000, 1244612, 1252156, 1257925, 1265041, 1275033, 1285436, 1295176, 1304739, 1313743, 1320023, 1327876, 1338958, 1350269, 1361222, 1373047, 1381854, 1388912, 1397234, 1409988, 1422046, 1432791, 1444068, 1453205, 1460154, 1468826, 1481653, 1494058, 1506538, 1518930, 1529119, 1536315, 1544804, 1557121, 1569602, 1582226, 1595117, 1605337, 1612724, 1621696, 1635661, 1649210, 1662446, 1675076, 1685732, 1693412, 1702804, 1717260, 1730837, 1742462, 1750783, 1757881, 1765119, 1774559, 1790069, 1805149, 1818247, 1827655, 1835901, 1843211, 1853364, 1868790, 1883772, 1898648, 1913915, 1926638, 1934805, 1945033, 1962363, 1978737, 1993858]}, {\"connectgaps\": true, \"line\": {\"color\": \"green\", \"width\": 1}, \"mode\": \"lines+markers\", \"name\": \"recovered\", \"text\": \"Total recovered: 51347350\", \"type\": \"scatter\", \"x\": [\"1/23/20\", \"1/24/20\", \"1/25/20\", \"1/26/20\", \"1/27/20\", \"1/28/20\", \"1/29/20\", \"1/30/20\", \"1/31/20\", \"2/1/20\", \"2/2/20\", \"2/3/20\", \"2/4/20\", \"2/5/20\", \"2/6/20\", \"2/7/20\", \"2/8/20\", \"2/9/20\", \"2/10/20\", \"2/11/20\", \"2/12/20\", \"2/13/20\", \"2/14/20\", \"2/15/20\", \"2/16/20\", \"2/17/20\", \"2/18/20\", \"2/19/20\", \"2/20/20\", \"2/21/20\", \"2/22/20\", \"2/23/20\", \"2/24/20\", \"2/25/20\", \"2/26/20\", \"2/27/20\", \"2/28/20\", \"2/29/20\", \"3/1/20\", \"3/2/20\", \"3/3/20\", \"3/4/20\", \"3/5/20\", \"3/6/20\", \"3/7/20\", \"3/8/20\", \"3/9/20\", \"3/10/20\", \"3/11/20\", \"3/12/20\", \"3/13/20\", \"3/14/20\", \"3/15/20\", \"3/16/20\", \"3/17/20\", \"3/18/20\", \"3/19/20\", \"3/20/20\", \"3/21/20\", \"3/22/20\", \"3/23/20\", \"3/24/20\", \"3/25/20\", \"3/26/20\", \"3/27/20\", \"3/28/20\", \"3/29/20\", \"3/30/20\", \"3/31/20\", \"4/1/20\", \"4/2/20\", \"4/3/20\", \"4/4/20\", \"4/5/20\", \"4/6/20\", \"4/7/20\", \"4/8/20\", \"4/9/20\", \"4/10/20\", \"4/11/20\", \"4/12/20\", \"4/13/20\", \"4/14/20\", \"4/15/20\", \"4/16/20\", \"4/17/20\", \"4/18/20\", \"4/19/20\", \"4/20/20\", \"4/21/20\", \"4/22/20\", \"4/23/20\", \"4/24/20\", \"4/25/20\", \"4/26/20\", \"4/27/20\", \"4/28/20\", \"4/29/20\", \"4/30/20\", \"5/1/20\", \"5/2/20\", \"5/3/20\", \"5/4/20\", \"5/5/20\", \"5/6/20\", \"5/7/20\", \"5/8/20\", \"5/9/20\", \"5/10/20\", \"5/11/20\", \"5/12/20\", \"5/13/20\", \"5/14/20\", \"5/15/20\", \"5/16/20\", \"5/17/20\", \"5/18/20\", \"5/19/20\", \"5/20/20\", \"5/21/20\", \"5/22/20\", \"5/23/20\", \"5/24/20\", \"5/25/20\", \"5/26/20\", \"5/27/20\", \"5/28/20\", \"5/29/20\", \"5/30/20\", \"5/31/20\", \"6/1/20\", \"6/2/20\", \"6/3/20\", \"6/4/20\", \"6/5/20\", \"6/6/20\", \"6/7/20\", \"6/8/20\", \"6/9/20\", \"6/10/20\", \"6/11/20\", \"6/12/20\", \"6/13/20\", \"6/14/20\", \"6/15/20\", \"6/16/20\", \"6/17/20\", \"6/18/20\", \"6/19/20\", \"6/20/20\", \"6/21/20\", \"6/22/20\", \"6/23/20\", \"6/24/20\", \"6/25/20\", \"6/26/20\", \"6/27/20\", \"6/28/20\", \"6/29/20\", \"6/30/20\", \"7/1/20\", \"7/2/20\", \"7/3/20\", \"7/4/20\", \"7/5/20\", \"7/6/20\", \"7/7/20\", \"7/8/20\", \"7/9/20\", \"7/10/20\", \"7/11/20\", \"7/12/20\", \"7/13/20\", \"7/14/20\", \"7/15/20\", \"7/16/20\", \"7/17/20\", \"7/18/20\", \"7/19/20\", \"7/20/20\", \"7/21/20\", \"7/22/20\", \"7/23/20\", \"7/24/20\", \"7/25/20\", \"7/26/20\", \"7/27/20\", \"7/28/20\", \"7/29/20\", \"7/30/20\", \"7/31/20\", \"8/1/20\", \"8/2/20\", \"8/3/20\", \"8/4/20\", \"8/5/20\", \"8/6/20\", \"8/7/20\", \"8/8/20\", \"8/9/20\", \"8/10/20\", \"8/11/20\", \"8/12/20\", \"8/13/20\", \"8/14/20\", \"8/15/20\", \"8/16/20\", \"8/17/20\", \"8/18/20\", \"8/19/20\", \"8/20/20\", \"8/21/20\", \"8/22/20\", \"8/23/20\", \"8/24/20\", \"8/25/20\", \"8/26/20\", \"8/27/20\", \"8/28/20\", \"8/29/20\", \"8/30/20\", \"8/31/20\", \"9/1/20\", \"9/2/20\", \"9/3/20\", \"9/4/20\", \"9/5/20\", \"9/6/20\", \"9/7/20\", \"9/8/20\", \"9/9/20\", \"9/10/20\", \"9/11/20\", \"9/12/20\", \"9/13/20\", \"9/14/20\", \"9/15/20\", \"9/16/20\", \"9/17/20\", \"9/18/20\", \"9/19/20\", \"9/20/20\", \"9/21/20\", \"9/22/20\", \"9/23/20\", \"9/24/20\", \"9/25/20\", \"9/26/20\", \"9/27/20\", \"9/28/20\", \"9/29/20\", \"9/30/20\", \"10/1/20\", \"10/2/20\", \"10/3/20\", \"10/4/20\", \"10/5/20\", \"10/6/20\", \"10/7/20\", \"10/8/20\", \"10/9/20\", \"10/10/20\", \"10/11/20\", \"10/12/20\", \"10/13/20\", \"10/14/20\", \"10/15/20\", \"10/16/20\", \"10/17/20\", \"10/18/20\", \"10/19/20\", \"10/20/20\", \"10/21/20\", \"10/22/20\", \"10/23/20\", \"10/24/20\", \"10/25/20\", \"10/26/20\", \"10/27/20\", \"10/28/20\", \"10/29/20\", \"10/30/20\", \"10/31/20\", \"11/1/20\", \"11/2/20\", \"11/3/20\", \"11/4/20\", \"11/5/20\", \"11/6/20\", \"11/7/20\", \"11/8/20\", \"11/9/20\", \"11/10/20\", \"11/11/20\", \"11/12/20\", \"11/13/20\", \"11/14/20\", \"11/15/20\", \"11/16/20\", \"11/17/20\", \"11/18/20\", \"11/19/20\", \"11/20/20\", \"11/21/20\", \"11/22/20\", \"11/23/20\", \"11/24/20\", \"11/25/20\", \"11/26/20\", \"11/27/20\", \"11/28/20\", \"11/29/20\", \"11/30/20\", \"12/1/20\", \"12/2/20\", \"12/3/20\", \"12/4/20\", \"12/5/20\", \"12/6/20\", \"12/7/20\", \"12/8/20\", \"12/9/20\", \"12/10/20\", \"12/11/20\", \"12/12/20\", \"12/13/20\", \"12/14/20\", \"12/15/20\", \"12/16/20\", \"12/17/20\", \"12/18/20\", \"12/19/20\", \"12/20/20\", \"12/21/20\", \"12/22/20\", \"12/23/20\", \"12/24/20\", \"12/25/20\", \"12/26/20\", \"12/27/20\", \"12/28/20\", \"12/29/20\", \"12/30/20\", \"12/31/20\", \"1/1/21\", \"1/2/21\", \"1/3/21\", \"1/4/21\", \"1/5/21\", \"1/6/21\", \"1/7/21\", \"1/8/21\", \"1/9/21\", \"1/10/21\", \"1/11/21\", \"1/12/21\", \"1/13/21\", \"1/14/21\"], \"y\": [32, 39, 42, 56, 65, 108, 127, 145, 225, 287, 476, 627, 857, 1129, 1492, 2016, 2616, 3245, 3947, 4684, 5151, 6294, 8057, 9396, 10866, 12583, 14352, 16121, 18179, 18892, 22889, 23394, 25227, 27905, 30386, 33278, 36710, 39781, 42717, 45601, 48227, 51169, 53795, 55863, 58357, 60694, 62493, 64400, 66998, 68321, 70248, 72619, 76031, 78086, 80830, 83316, 84958, 87403, 91650, 97868, 98336, 107975, 113754, 122126, 130911, 139422, 148878, 164221, 177811, 193083, 210226, 225648, 246060, 259896, 276606, 299868, 328749, 354002, 375786, 402036, 421462, 448720, 473792, 510366, 541282, 567473, 591332, 623097, 645251, 680052, 710180, 738911, 788937, 816705, 845446, 873294, 906502, 948550, 1013645, 1051769, 1092429, 1124923, 1158983, 1195450, 1241566, 1281058, 1317467, 1370954, 1404741, 1451612, 1488648, 1544558, 1584235, 1632322, 1688733, 1729735, 1782629, 1834691, 1893678, 1944890, 2053490, 2108337, 2163864, 2227564, 2282728, 2346070, 2412936, 2490221, 2560679, 2637065, 2691986, 2796103, 2875194, 2945260, 3014448, 3086663, 3141769, 3293367, 3375638, 3454831, 3540697, 3620439, 3706341, 3777160, 3857422, 3955282, 4074109, 4155262, 4250256, 4366114, 4434801, 4526428, 4630485, 4746229, 4839116, 4945101, 5051384, 5140583, 5235162, 5352501, 5468415, 5753351, 5863237, 6058998, 6178356, 6302043, 6447068, 6605125, 6739752, 6879196, 7004895, 7116722, 7257042, 7399286, 7559103, 7711594, 7895014, 8045805, 8133862, 8292990, 8467684, 8647419, 8823647, 9051952, 9271763, 9415063, 9586444, 9756902, 9959504, 10173018, 10372622, 10556520, 10695236, 10917682, 11141339, 11363031, 11551839, 11743885, 11944138, 12122912, 12287102, 12592173, 12832813, 12996720, 13279951, 13448562, 13681512, 13892523, 14120141, 14338141, 14545934, 14714431, 14924359, 15140884, 15340287, 15571781, 15797517, 16004741, 16203860, 16415283, 16625513, 16826288, 17084235, 17303469, 17524827, 17738330, 17939336, 18151103, 18348621, 18550439, 18790684, 19007332, 19230990, 19453921, 19641755, 19870221, 20096496, 20325970, 20546164, 20797307, 21034284, 21271336, 21516778, 21736266, 21999681, 22255324, 22494541, 22756691, 22970549, 23193065, 23434352, 23682551, 23904098, 24076401, 24332013, 24554144, 24791579, 25024212, 25279405, 25498907, 25705707, 25901127, 26123757, 26323829, 26516266, 26728520, 26935794, 27138781, 27337093, 27538505, 27740913, 27952394, 28163855, 28390641, 28597469, 28809035, 29006250, 29245329, 29835051, 30101025, 30347682, 30603433, 30847856, 31105741, 31385632, 31637087, 31916319, 32219865, 32508227, 32807319, 33060197, 33316898, 33573902, 33954264, 34179697, 34481742, 34759816, 34989513, 35379509, 35812900, 36176040, 36549116, 36904479, 37243708, 37516087, 37926107, 38297648, 38734618, 39099831, 39481581, 39841414, 40157836, 40559217, 41034794, 41496184, 41931940, 42422551, 42860396, 43174342, 43585969, 44026864, 44452819, 44942050, 45420612, 46927624, 47320022, 41327851, 41686372, 42048017, 42420687, 42738659, 43093742, 43367172, 43707973, 44069220, 44393812, 44711774, 45002559, 45410291, 45698093, 45994203, 46348935, 46731568, 47010049, 47289078, 47595212, 47860306, 48148226, 48464481, 48777336, 49098418, 49396392, 49730327, 49997720, 50285515, 50629426, 50994811, 51347350]}],                        {\"template\": {\"data\": {\"bar\": [{\"error_x\": {\"color\": \"#2a3f5f\"}, \"error_y\": {\"color\": \"#2a3f5f\"}, \"marker\": {\"line\": {\"color\": \"#E5ECF6\", \"width\": 0.5}}, \"type\": \"bar\"}], \"barpolar\": [{\"marker\": {\"line\": {\"color\": \"#E5ECF6\", \"width\": 0.5}}, \"type\": \"barpolar\"}], \"carpet\": [{\"aaxis\": {\"endlinecolor\": \"#2a3f5f\", \"gridcolor\": \"white\", \"linecolor\": \"white\", \"minorgridcolor\": \"white\", \"startlinecolor\": \"#2a3f5f\"}, \"baxis\": {\"endlinecolor\": \"#2a3f5f\", \"gridcolor\": \"white\", \"linecolor\": \"white\", \"minorgridcolor\": \"white\", \"startlinecolor\": \"#2a3f5f\"}, \"type\": \"carpet\"}], \"choropleth\": [{\"colorbar\": {\"outlinewidth\": 0, \"ticks\": \"\"}, \"type\": \"choropleth\"}], \"contour\": [{\"colorbar\": {\"outlinewidth\": 0, \"ticks\": \"\"}, \"colorscale\": [[0.0, \"#0d0887\"], [0.1111111111111111, \"#46039f\"], [0.2222222222222222, \"#7201a8\"], [0.3333333333333333, \"#9c179e\"], [0.4444444444444444, \"#bd3786\"], [0.5555555555555556, \"#d8576b\"], [0.6666666666666666, \"#ed7953\"], [0.7777777777777778, \"#fb9f3a\"], [0.8888888888888888, \"#fdca26\"], [1.0, \"#f0f921\"]], \"type\": \"contour\"}], \"contourcarpet\": [{\"colorbar\": {\"outlinewidth\": 0, \"ticks\": \"\"}, \"type\": \"contourcarpet\"}], \"heatmap\": [{\"colorbar\": {\"outlinewidth\": 0, \"ticks\": \"\"}, \"colorscale\": [[0.0, \"#0d0887\"], [0.1111111111111111, \"#46039f\"], [0.2222222222222222, \"#7201a8\"], [0.3333333333333333, \"#9c179e\"], [0.4444444444444444, \"#bd3786\"], [0.5555555555555556, \"#d8576b\"], [0.6666666666666666, \"#ed7953\"], [0.7777777777777778, \"#fb9f3a\"], [0.8888888888888888, \"#fdca26\"], [1.0, \"#f0f921\"]], \"type\": \"heatmap\"}], \"heatmapgl\": [{\"colorbar\": {\"outlinewidth\": 0, \"ticks\": \"\"}, \"colorscale\": [[0.0, \"#0d0887\"], [0.1111111111111111, \"#46039f\"], [0.2222222222222222, \"#7201a8\"], [0.3333333333333333, \"#9c179e\"], [0.4444444444444444, \"#bd3786\"], [0.5555555555555556, \"#d8576b\"], [0.6666666666666666, \"#ed7953\"], [0.7777777777777778, \"#fb9f3a\"], [0.8888888888888888, \"#fdca26\"], [1.0, \"#f0f921\"]], \"type\": \"heatmapgl\"}], \"histogram\": [{\"marker\": {\"colorbar\": {\"outlinewidth\": 0, \"ticks\": \"\"}}, \"type\": \"histogram\"}], \"histogram2d\": [{\"colorbar\": {\"outlinewidth\": 0, \"ticks\": \"\"}, \"colorscale\": [[0.0, \"#0d0887\"], [0.1111111111111111, \"#46039f\"], [0.2222222222222222, \"#7201a8\"], [0.3333333333333333, \"#9c179e\"], [0.4444444444444444, \"#bd3786\"], [0.5555555555555556, \"#d8576b\"], [0.6666666666666666, \"#ed7953\"], [0.7777777777777778, \"#fb9f3a\"], [0.8888888888888888, \"#fdca26\"], [1.0, \"#f0f921\"]], \"type\": \"histogram2d\"}], \"histogram2dcontour\": [{\"colorbar\": {\"outlinewidth\": 0, \"ticks\": \"\"}, \"colorscale\": [[0.0, \"#0d0887\"], [0.1111111111111111, \"#46039f\"], [0.2222222222222222, \"#7201a8\"], [0.3333333333333333, \"#9c179e\"], [0.4444444444444444, \"#bd3786\"], [0.5555555555555556, \"#d8576b\"], [0.6666666666666666, \"#ed7953\"], [0.7777777777777778, \"#fb9f3a\"], [0.8888888888888888, \"#fdca26\"], [1.0, \"#f0f921\"]], \"type\": \"histogram2dcontour\"}], \"mesh3d\": [{\"colorbar\": {\"outlinewidth\": 0, \"ticks\": \"\"}, \"type\": \"mesh3d\"}], \"parcoords\": [{\"line\": {\"colorbar\": {\"outlinewidth\": 0, \"ticks\": \"\"}}, \"type\": \"parcoords\"}], \"pie\": [{\"automargin\": true, \"type\": \"pie\"}], \"scatter\": [{\"marker\": {\"colorbar\": {\"outlinewidth\": 0, \"ticks\": \"\"}}, \"type\": \"scatter\"}], \"scatter3d\": [{\"line\": {\"colorbar\": {\"outlinewidth\": 0, \"ticks\": \"\"}}, \"marker\": {\"colorbar\": {\"outlinewidth\": 0, \"ticks\": \"\"}}, \"type\": \"scatter3d\"}], \"scattercarpet\": [{\"marker\": {\"colorbar\": {\"outlinewidth\": 0, \"ticks\": \"\"}}, \"type\": \"scattercarpet\"}], \"scattergeo\": [{\"marker\": {\"colorbar\": {\"outlinewidth\": 0, \"ticks\": \"\"}}, \"type\": \"scattergeo\"}], \"scattergl\": [{\"marker\": {\"colorbar\": {\"outlinewidth\": 0, \"ticks\": \"\"}}, \"type\": \"scattergl\"}], \"scattermapbox\": [{\"marker\": {\"colorbar\": {\"outlinewidth\": 0, \"ticks\": \"\"}}, \"type\": \"scattermapbox\"}], \"scatterpolar\": [{\"marker\": {\"colorbar\": {\"outlinewidth\": 0, \"ticks\": \"\"}}, \"type\": \"scatterpolar\"}], \"scatterpolargl\": [{\"marker\": {\"colorbar\": {\"outlinewidth\": 0, \"ticks\": \"\"}}, \"type\": \"scatterpolargl\"}], \"scatterternary\": [{\"marker\": {\"colorbar\": {\"outlinewidth\": 0, \"ticks\": \"\"}}, \"type\": \"scatterternary\"}], \"surface\": [{\"colorbar\": {\"outlinewidth\": 0, \"ticks\": \"\"}, \"colorscale\": [[0.0, \"#0d0887\"], [0.1111111111111111, \"#46039f\"], [0.2222222222222222, \"#7201a8\"], [0.3333333333333333, \"#9c179e\"], [0.4444444444444444, \"#bd3786\"], [0.5555555555555556, \"#d8576b\"], [0.6666666666666666, \"#ed7953\"], [0.7777777777777778, \"#fb9f3a\"], [0.8888888888888888, \"#fdca26\"], [1.0, \"#f0f921\"]], \"type\": \"surface\"}], \"table\": [{\"cells\": {\"fill\": {\"color\": \"#EBF0F8\"}, \"line\": {\"color\": \"white\"}}, \"header\": {\"fill\": {\"color\": \"#C8D4E3\"}, \"line\": {\"color\": \"white\"}}, \"type\": \"table\"}]}, \"layout\": {\"annotationdefaults\": {\"arrowcolor\": \"#2a3f5f\", \"arrowhead\": 0, \"arrowwidth\": 1}, \"autotypenumbers\": \"strict\", \"coloraxis\": {\"colorbar\": {\"outlinewidth\": 0, \"ticks\": \"\"}}, \"colorscale\": {\"diverging\": [[0, \"#8e0152\"], [0.1, \"#c51b7d\"], [0.2, \"#de77ae\"], [0.3, \"#f1b6da\"], [0.4, \"#fde0ef\"], [0.5, \"#f7f7f7\"], [0.6, \"#e6f5d0\"], [0.7, \"#b8e186\"], [0.8, \"#7fbc41\"], [0.9, \"#4d9221\"], [1, \"#276419\"]], \"sequential\": [[0.0, \"#0d0887\"], [0.1111111111111111, \"#46039f\"], [0.2222222222222222, \"#7201a8\"], [0.3333333333333333, \"#9c179e\"], [0.4444444444444444, \"#bd3786\"], [0.5555555555555556, \"#d8576b\"], [0.6666666666666666, \"#ed7953\"], [0.7777777777777778, \"#fb9f3a\"], [0.8888888888888888, \"#fdca26\"], [1.0, \"#f0f921\"]], \"sequentialminus\": [[0.0, \"#0d0887\"], [0.1111111111111111, \"#46039f\"], [0.2222222222222222, \"#7201a8\"], [0.3333333333333333, \"#9c179e\"], [0.4444444444444444, \"#bd3786\"], [0.5555555555555556, \"#d8576b\"], [0.6666666666666666, \"#ed7953\"], [0.7777777777777778, \"#fb9f3a\"], [0.8888888888888888, \"#fdca26\"], [1.0, \"#f0f921\"]]}, \"colorway\": [\"#636efa\", \"#EF553B\", \"#00cc96\", \"#ab63fa\", \"#FFA15A\", \"#19d3f3\", \"#FF6692\", \"#B6E880\", \"#FF97FF\", \"#FECB52\"], \"font\": {\"color\": \"#2a3f5f\"}, \"geo\": {\"bgcolor\": \"white\", \"lakecolor\": \"white\", \"landcolor\": \"#E5ECF6\", \"showlakes\": true, \"showland\": true, \"subunitcolor\": \"white\"}, \"hoverlabel\": {\"align\": \"left\"}, \"hovermode\": \"closest\", \"mapbox\": {\"style\": \"light\"}, \"paper_bgcolor\": \"white\", \"plot_bgcolor\": \"#E5ECF6\", \"polar\": {\"angularaxis\": {\"gridcolor\": \"white\", \"linecolor\": \"white\", \"ticks\": \"\"}, \"bgcolor\": \"#E5ECF6\", \"radialaxis\": {\"gridcolor\": \"white\", \"linecolor\": \"white\", \"ticks\": \"\"}}, \"scene\": {\"xaxis\": {\"backgroundcolor\": \"#E5ECF6\", \"gridcolor\": \"white\", \"gridwidth\": 2, \"linecolor\": \"white\", \"showbackground\": true, \"ticks\": \"\", \"zerolinecolor\": \"white\"}, \"yaxis\": {\"backgroundcolor\": \"#E5ECF6\", \"gridcolor\": \"white\", \"gridwidth\": 2, \"linecolor\": \"white\", \"showbackground\": true, \"ticks\": \"\", \"zerolinecolor\": \"white\"}, \"zaxis\": {\"backgroundcolor\": \"#E5ECF6\", \"gridcolor\": \"white\", \"gridwidth\": 2, \"linecolor\": \"white\", \"showbackground\": true, \"ticks\": \"\", \"zerolinecolor\": \"white\"}}, \"shapedefaults\": {\"line\": {\"color\": \"#2a3f5f\"}}, \"ternary\": {\"aaxis\": {\"gridcolor\": \"white\", \"linecolor\": \"white\", \"ticks\": \"\"}, \"baxis\": {\"gridcolor\": \"white\", \"linecolor\": \"white\", \"ticks\": \"\"}, \"bgcolor\": \"#E5ECF6\", \"caxis\": {\"gridcolor\": \"white\", \"linecolor\": \"white\", \"ticks\": \"\"}}, \"title\": {\"x\": 0.05}, \"xaxis\": {\"automargin\": true, \"gridcolor\": \"white\", \"linecolor\": \"white\", \"ticks\": \"\", \"title\": {\"standoff\": 15}, \"zerolinecolor\": \"white\", \"zerolinewidth\": 2}, \"yaxis\": {\"automargin\": true, \"gridcolor\": \"white\", \"linecolor\": \"white\", \"ticks\": \"\", \"title\": {\"standoff\": 15}, \"zerolinecolor\": \"white\", \"zerolinewidth\": 2}}}, \"title\": {\"text\": \"Covid-19 Cases Timeseries\"}, \"xaxis\": {\"title\": {\"text\": \"Date\"}}, \"yaxis\": {\"title\": {\"text\": \"Country\"}}},                        {\"responsive\": true}                    ).then(function(){\n                            \nvar gd = document.getElementById('cb7c4ee6-61d8-44b1-81c2-2aab36dc4405');\nvar x = new MutationObserver(function (mutations, observer) {{\n        var display = window.getComputedStyle(gd).display;\n        if (!display || display === 'none') {{\n            console.log([gd, 'removed!']);\n            Plotly.purge(gd);\n            observer.disconnect();\n        }}\n}});\n\n// Listen for the removal of the full notebook cells\nvar notebookContainer = gd.closest('#notebook-container');\nif (notebookContainer) {{\n    x.observe(notebookContainer, {childList: true});\n}}\n\n// Listen for the clearing of the current output cell\nvar outputEl = gd.closest('.output');\nif (outputEl) {{\n    x.observe(outputEl, {childList: true});\n}}\n\n                        })                };                });            </script>        </div>"
         },
         "metadata": {},
         "output_type": "display_data"
        }
       ]
      }
     },
     "1766826f3ac64b4f95809748b7b282b2": {
      "model_module": "@jupyter-widgets/base",
      "model_module_version": "1.2.0",
      "model_name": "LayoutModel",
      "state": {}
     },
     "1973c6b4113f424091de73b6050cba42": {
      "model_module": "@jupyter-widgets/base",
      "model_module_version": "1.2.0",
      "model_name": "LayoutModel",
      "state": {}
     },
     "1aa870a6fd7c43eebefc9e5957119ae1": {
      "model_module": "@jupyter-widgets/base",
      "model_module_version": "1.2.0",
      "model_name": "LayoutModel",
      "state": {}
     },
     "1b1660a4750b4bc6a5d80a7486c2450d": {
      "model_module": "@jupyter-widgets/base",
      "model_module_version": "1.2.0",
      "model_name": "LayoutModel",
      "state": {}
     },
     "1bfda4a8c9f440c7a1b9e1dde36e4f60": {
      "model_module": "@jupyter-widgets/controls",
      "model_module_version": "1.5.0",
      "model_name": "VBoxModel",
      "state": {
       "_dom_classes": [
        "widget-interact"
       ],
       "children": [
        "IPY_MODEL_ca1042465ba142e0bb13a64aff5e25e8",
        "IPY_MODEL_e2e6d1ec2ba643e99b70a4926ed804c3",
        "IPY_MODEL_89782d0e54ff46668032df3d51686161"
       ],
       "layout": "IPY_MODEL_1973c6b4113f424091de73b6050cba42"
      }
     },
     "1d9a3d258b6e4d84b87fc9d042b99ad4": {
      "model_module": "@jupyter-widgets/controls",
      "model_module_version": "1.5.0",
      "model_name": "SliderStyleModel",
      "state": {
       "description_width": ""
      }
     },
     "1dc90cf92ced476185876c39fc5771f0": {
      "model_module": "@jupyter-widgets/base",
      "model_module_version": "1.2.0",
      "model_name": "LayoutModel",
      "state": {}
     },
     "1f613d70484e4bc5a0fceb78980eb2b1": {
      "model_module": "@jupyter-widgets/controls",
      "model_module_version": "1.5.0",
      "model_name": "DropdownModel",
      "state": {
       "_options_labels": [
        "Confirmed",
        "Recovered",
        "Death"
       ],
       "description": "content",
       "index": 0,
       "layout": "IPY_MODEL_f7bbdcc165b2458ba4898769a2a53604",
       "style": "IPY_MODEL_f6905a5101604cf0aa575401d9b67c3a"
      }
     },
     "1f91688b0e4e49b0a0f824337edd7f18": {
      "model_module": "@jupyter-widgets/base",
      "model_module_version": "1.2.0",
      "model_name": "LayoutModel",
      "state": {}
     },
     "27c106d0c1744889b23d3c517de70830": {
      "model_module": "@jupyter-widgets/base",
      "model_module_version": "1.2.0",
      "model_name": "LayoutModel",
      "state": {}
     },
     "28524c6be55d4910a53b270c3340a48f": {
      "model_module": "@jupyter-widgets/base",
      "model_module_version": "1.2.0",
      "model_name": "LayoutModel",
      "state": {}
     },
     "2891c7e638f44dccb8e612b439eec2f8": {
      "model_module": "@jupyter-widgets/controls",
      "model_module_version": "1.5.0",
      "model_name": "DropdownModel",
      "state": {
       "_options_labels": [
        "Afghanistan",
        "Albania",
        "Algeria",
        "Andorra",
        "Angola",
        "Antigua and Barbuda",
        "Argentina",
        "Armenia",
        "Australia",
        "Australia",
        "Australia",
        "Australia",
        "Australia",
        "Australia",
        "Australia",
        "Australia",
        "Austria",
        "Azerbaijan",
        "Bahamas",
        "Bahrain",
        "Bangladesh",
        "Barbados",
        "Belarus",
        "Belgium",
        "Belize",
        "Benin",
        "Bhutan",
        "Bolivia",
        "Bosnia and Herzegovina",
        "Botswana",
        "Brazil",
        "Brunei",
        "Bulgaria",
        "Burkina Faso",
        "Burma",
        "Burundi",
        "Cabo Verde",
        "Cambodia",
        "Cameroon",
        "Canada",
        "Canada",
        "Canada",
        "Canada",
        "Canada",
        "Canada",
        "Canada",
        "Canada",
        "Canada",
        "Canada",
        "Canada",
        "Canada",
        "Canada",
        "Canada",
        "Canada",
        "Canada",
        "Central African Republic",
        "Chad",
        "Chile",
        "China",
        "China",
        "China",
        "China",
        "China",
        "China",
        "China",
        "China",
        "China",
        "China",
        "China",
        "China",
        "China",
        "China",
        "China",
        "China",
        "China",
        "China",
        "China",
        "China",
        "China",
        "China",
        "China",
        "China",
        "China",
        "China",
        "China",
        "China",
        "China",
        "China",
        "China",
        "China",
        "China",
        "Colombia",
        "Comoros",
        "Congo (Brazzaville)",
        "Congo (Kinshasa)",
        "Costa Rica",
        "Cote d'Ivoire",
        "Croatia",
        "Cuba",
        "Cyprus",
        "Czechia",
        "Denmark",
        "Denmark",
        "Denmark",
        "Diamond Princess",
        "Djibouti",
        "Dominica",
        "Dominican Republic",
        "Ecuador",
        "Egypt",
        "El Salvador",
        "Equatorial Guinea",
        "Eritrea",
        "Estonia",
        "Eswatini",
        "Ethiopia",
        "Fiji",
        "Finland",
        "France",
        "France",
        "France",
        "France",
        "France",
        "France",
        "France",
        "France",
        "France",
        "France",
        "France",
        "France",
        "Gabon",
        "Gambia",
        "Georgia",
        "Germany",
        "Ghana",
        "Greece",
        "Grenada",
        "Guatemala",
        "Guinea",
        "Guinea-Bissau",
        "Guyana",
        "Haiti",
        "Holy See",
        "Honduras",
        "Hungary",
        "Iceland",
        "India",
        "Indonesia",
        "Iran",
        "Iraq",
        "Ireland",
        "Israel",
        "Italy",
        "Jamaica",
        "Japan",
        "Jordan",
        "Kazakhstan",
        "Kenya",
        "Korea, South",
        "Kosovo",
        "Kuwait",
        "Kyrgyzstan",
        "Laos",
        "Latvia",
        "Lebanon",
        "Lesotho",
        "Liberia",
        "Libya",
        "Liechtenstein",
        "Lithuania",
        "Luxembourg",
        "MS Zaandam",
        "Madagascar",
        "Malawi",
        "Malaysia",
        "Maldives",
        "Mali",
        "Malta",
        "Marshall Islands",
        "Mauritania",
        "Mauritius",
        "Mexico",
        "Moldova",
        "Monaco",
        "Mongolia",
        "Montenegro",
        "Morocco",
        "Mozambique",
        "Namibia",
        "Nepal",
        "Netherlands",
        "Netherlands",
        "Netherlands",
        "Netherlands",
        "Netherlands",
        "New Zealand",
        "Nicaragua",
        "Niger",
        "Nigeria",
        "North Macedonia",
        "Norway",
        "Oman",
        "Pakistan",
        "Panama",
        "Papua New Guinea",
        "Paraguay",
        "Peru",
        "Philippines",
        "Poland",
        "Portugal",
        "Qatar",
        "Romania",
        "Russia",
        "Rwanda",
        "Saint Kitts and Nevis",
        "Saint Lucia",
        "Saint Vincent and the Grenadines",
        "Samoa",
        "San Marino",
        "Sao Tome and Principe",
        "Saudi Arabia",
        "Senegal",
        "Serbia",
        "Seychelles",
        "Sierra Leone",
        "Singapore",
        "Slovakia",
        "Slovenia",
        "Solomon Islands",
        "Somalia",
        "South Africa",
        "South Sudan",
        "Spain",
        "Sri Lanka",
        "Sudan",
        "Suriname",
        "Sweden",
        "Switzerland",
        "Syria",
        "Taiwan*",
        "Tajikistan",
        "Tanzania",
        "Thailand",
        "Timor-Leste",
        "Togo",
        "Trinidad and Tobago",
        "Tunisia",
        "Turkey",
        "US",
        "Uganda",
        "Ukraine",
        "United Arab Emirates",
        "United Kingdom",
        "United Kingdom",
        "United Kingdom",
        "United Kingdom",
        "United Kingdom",
        "United Kingdom",
        "United Kingdom",
        "United Kingdom",
        "United Kingdom",
        "United Kingdom",
        "United Kingdom",
        "Uruguay",
        "Uzbekistan",
        "Vanuatu",
        "Venezuela",
        "Vietnam",
        "West Bank and Gaza",
        "Yemen",
        "Zambia",
        "Zimbabwe"
       ],
       "description": "country",
       "index": 0,
       "layout": "IPY_MODEL_c1bad2676dd74e899e38c53fa1806d91",
       "style": "IPY_MODEL_854b6dae45d64e1fa3dbe1e8a2d92b58"
      }
     },
     "30a9481fb9a64a8f9bd222b3491597fa": {
      "model_module": "@jupyter-widgets/base",
      "model_module_version": "1.2.0",
      "model_name": "LayoutModel",
      "state": {}
     },
     "31e641478ad6417bbd58d22eb8503e17": {
      "model_module": "@jupyter-widgets/controls",
      "model_module_version": "1.5.0",
      "model_name": "DescriptionStyleModel",
      "state": {
       "description_width": ""
      }
     },
     "330ce59783f046de8fd32104adadcd1a": {
      "model_module": "@jupyter-widgets/controls",
      "model_module_version": "1.5.0",
      "model_name": "IntSliderModel",
      "state": {
       "description": "number",
       "layout": "IPY_MODEL_649e041beb4a423d99b019f1b7b03175",
       "max": 30,
       "min": 1,
       "style": "IPY_MODEL_455ecedd4714420499fc12f1c957098e",
       "value": 10
      }
     },
     "33f1284974e549d5a3020fee8b61aa42": {
      "model_module": "@jupyter-widgets/controls",
      "model_module_version": "1.5.0",
      "model_name": "VBoxModel",
      "state": {
       "_dom_classes": [
        "widget-interact"
       ],
       "children": [
        "IPY_MODEL_f2bea4be32db4ace93c4db73455b49e7",
        "IPY_MODEL_c8f9540817284cb9b126baf588568361",
        "IPY_MODEL_805a4bf7cd85416f8698cd1676088589"
       ],
       "layout": "IPY_MODEL_e845b2e0ba154856aac85f806e303d80"
      }
     },
     "3522cc8fb95743d4a3e74d96ac310405": {
      "model_module": "@jupyter-widgets/controls",
      "model_module_version": "1.5.0",
      "model_name": "DropdownModel",
      "state": {
       "_options_labels": [
        "Afghanistan",
        "Albania",
        "Algeria",
        "Andorra",
        "Angola",
        "Antigua and Barbuda",
        "Argentina",
        "Armenia",
        "Australia",
        "Australia",
        "Australia",
        "Australia",
        "Australia",
        "Australia",
        "Australia",
        "Australia",
        "Austria",
        "Azerbaijan",
        "Bahamas",
        "Bahrain",
        "Bangladesh",
        "Barbados",
        "Belarus",
        "Belgium",
        "Belize",
        "Benin",
        "Bhutan",
        "Bolivia",
        "Bosnia and Herzegovina",
        "Botswana",
        "Brazil",
        "Brunei",
        "Bulgaria",
        "Burkina Faso",
        "Burma",
        "Burundi",
        "Cabo Verde",
        "Cambodia",
        "Cameroon",
        "Canada",
        "Canada",
        "Canada",
        "Canada",
        "Canada",
        "Canada",
        "Canada",
        "Canada",
        "Canada",
        "Canada",
        "Canada",
        "Canada",
        "Canada",
        "Canada",
        "Canada",
        "Canada",
        "Central African Republic",
        "Chad",
        "Chile",
        "China",
        "China",
        "China",
        "China",
        "China",
        "China",
        "China",
        "China",
        "China",
        "China",
        "China",
        "China",
        "China",
        "China",
        "China",
        "China",
        "China",
        "China",
        "China",
        "China",
        "China",
        "China",
        "China",
        "China",
        "China",
        "China",
        "China",
        "China",
        "China",
        "China",
        "China",
        "China",
        "China",
        "Colombia",
        "Comoros",
        "Congo (Brazzaville)",
        "Congo (Kinshasa)",
        "Costa Rica",
        "Cote d'Ivoire",
        "Croatia",
        "Cuba",
        "Cyprus",
        "Czechia",
        "Denmark",
        "Denmark",
        "Denmark",
        "Diamond Princess",
        "Djibouti",
        "Dominica",
        "Dominican Republic",
        "Ecuador",
        "Egypt",
        "El Salvador",
        "Equatorial Guinea",
        "Eritrea",
        "Estonia",
        "Eswatini",
        "Ethiopia",
        "Fiji",
        "Finland",
        "France",
        "France",
        "France",
        "France",
        "France",
        "France",
        "France",
        "France",
        "France",
        "France",
        "France",
        "France",
        "Gabon",
        "Gambia",
        "Georgia",
        "Germany",
        "Ghana",
        "Greece",
        "Grenada",
        "Guatemala",
        "Guinea",
        "Guinea-Bissau",
        "Guyana",
        "Haiti",
        "Holy See",
        "Honduras",
        "Hungary",
        "Iceland",
        "India",
        "Indonesia",
        "Iran",
        "Iraq",
        "Ireland",
        "Israel",
        "Italy",
        "Jamaica",
        "Japan",
        "Jordan",
        "Kazakhstan",
        "Kenya",
        "Korea, South",
        "Kosovo",
        "Kuwait",
        "Kyrgyzstan",
        "Laos",
        "Latvia",
        "Lebanon",
        "Lesotho",
        "Liberia",
        "Libya",
        "Liechtenstein",
        "Lithuania",
        "Luxembourg",
        "MS Zaandam",
        "Madagascar",
        "Malawi",
        "Malaysia",
        "Maldives",
        "Mali",
        "Malta",
        "Marshall Islands",
        "Mauritania",
        "Mauritius",
        "Mexico",
        "Moldova",
        "Monaco",
        "Mongolia",
        "Montenegro",
        "Morocco",
        "Mozambique",
        "Namibia",
        "Nepal",
        "Netherlands",
        "Netherlands",
        "Netherlands",
        "Netherlands",
        "Netherlands",
        "New Zealand",
        "Nicaragua",
        "Niger",
        "Nigeria",
        "North Macedonia",
        "Norway",
        "Oman",
        "Pakistan",
        "Panama",
        "Papua New Guinea",
        "Paraguay",
        "Peru",
        "Philippines",
        "Poland",
        "Portugal",
        "Qatar",
        "Romania",
        "Russia",
        "Rwanda",
        "Saint Kitts and Nevis",
        "Saint Lucia",
        "Saint Vincent and the Grenadines",
        "Samoa",
        "San Marino",
        "Sao Tome and Principe",
        "Saudi Arabia",
        "Senegal",
        "Serbia",
        "Seychelles",
        "Sierra Leone",
        "Singapore",
        "Slovakia",
        "Slovenia",
        "Solomon Islands",
        "Somalia",
        "South Africa",
        "South Sudan",
        "Spain",
        "Sri Lanka",
        "Sudan",
        "Suriname",
        "Sweden",
        "Switzerland",
        "Syria",
        "Taiwan*",
        "Tajikistan",
        "Tanzania",
        "Thailand",
        "Timor-Leste",
        "Togo",
        "Trinidad and Tobago",
        "Tunisia",
        "Turkey",
        "US",
        "Uganda",
        "Ukraine",
        "United Arab Emirates",
        "United Kingdom",
        "United Kingdom",
        "United Kingdom",
        "United Kingdom",
        "United Kingdom",
        "United Kingdom",
        "United Kingdom",
        "United Kingdom",
        "United Kingdom",
        "United Kingdom",
        "United Kingdom",
        "Uruguay",
        "Uzbekistan",
        "Vanuatu",
        "Venezuela",
        "Vietnam",
        "West Bank and Gaza",
        "Yemen",
        "Zambia",
        "Zimbabwe"
       ],
       "description": "country",
       "index": 0,
       "layout": "IPY_MODEL_6689e5b1c202436698600b4224d7b638",
       "style": "IPY_MODEL_e501044e8b9642e7b1e836d5be834a54"
      }
     },
     "3695982aea944e64a01e658a4c0abe07": {
      "model_module": "@jupyter-widgets/base",
      "model_module_version": "1.2.0",
      "model_name": "LayoutModel",
      "state": {}
     },
     "37be00e524da4e728e1a893cfe0254b6": {
      "model_module": "@jupyter-widgets/controls",
      "model_module_version": "1.5.0",
      "model_name": "IntSliderModel",
      "state": {
       "description": "number",
       "layout": "IPY_MODEL_1766826f3ac64b4f95809748b7b282b2",
       "max": 30,
       "min": 1,
       "style": "IPY_MODEL_83497606dbe2423e8ce0cac5d8bca2cd",
       "value": 10
      }
     },
     "38000e6d81f245de8ce1cb4f42d0be87": {
      "model_module": "@jupyter-widgets/base",
      "model_module_version": "1.2.0",
      "model_name": "LayoutModel",
      "state": {}
     },
     "3d093928ff944d8e8b72fb6ce7394284": {
      "model_module": "@jupyter-widgets/controls",
      "model_module_version": "1.5.0",
      "model_name": "VBoxModel",
      "state": {
       "_dom_classes": [
        "widget-interact"
       ],
       "children": [
        "IPY_MODEL_8e9a7e52f13946ff95f203e0675c1e93",
        "IPY_MODEL_d69104dd8f174a93af0750a05a00c0a5",
        "IPY_MODEL_b60792556baa49a9b75e8df1a6a00874"
       ],
       "layout": "IPY_MODEL_0f8ad080be30442bba572da6b948380e"
      }
     },
     "3edb0e961c374c4dbe20ee8cff302457": {
      "model_module": "@jupyter-widgets/base",
      "model_module_version": "1.2.0",
      "model_name": "LayoutModel",
      "state": {}
     },
     "418555e38b884f6bb5bc485d57cb21e6": {
      "model_module": "@jupyter-widgets/base",
      "model_module_version": "1.2.0",
      "model_name": "LayoutModel",
      "state": {}
     },
     "455ecedd4714420499fc12f1c957098e": {
      "model_module": "@jupyter-widgets/controls",
      "model_module_version": "1.5.0",
      "model_name": "SliderStyleModel",
      "state": {
       "description_width": ""
      }
     },
     "45c26edaaa7f46389d3b57a8db5aeb14": {
      "model_module": "@jupyter-widgets/controls",
      "model_module_version": "1.5.0",
      "model_name": "DropdownModel",
      "state": {
       "_options_labels": [
        "Afghanistan",
        "Albania",
        "Algeria",
        "Andorra",
        "Angola",
        "Antigua and Barbuda",
        "Argentina",
        "Armenia",
        "Australia",
        "Australia",
        "Australia",
        "Australia",
        "Australia",
        "Australia",
        "Australia",
        "Australia",
        "Austria",
        "Azerbaijan",
        "Bahamas",
        "Bahrain",
        "Bangladesh",
        "Barbados",
        "Belarus",
        "Belgium",
        "Belize",
        "Benin",
        "Bhutan",
        "Bolivia",
        "Bosnia and Herzegovina",
        "Botswana",
        "Brazil",
        "Brunei",
        "Bulgaria",
        "Burkina Faso",
        "Burma",
        "Burundi",
        "Cabo Verde",
        "Cambodia",
        "Cameroon",
        "Canada",
        "Canada",
        "Canada",
        "Canada",
        "Canada",
        "Canada",
        "Canada",
        "Canada",
        "Canada",
        "Canada",
        "Canada",
        "Canada",
        "Canada",
        "Canada",
        "Canada",
        "Canada",
        "Central African Republic",
        "Chad",
        "Chile",
        "China",
        "China",
        "China",
        "China",
        "China",
        "China",
        "China",
        "China",
        "China",
        "China",
        "China",
        "China",
        "China",
        "China",
        "China",
        "China",
        "China",
        "China",
        "China",
        "China",
        "China",
        "China",
        "China",
        "China",
        "China",
        "China",
        "China",
        "China",
        "China",
        "China",
        "China",
        "China",
        "China",
        "Colombia",
        "Comoros",
        "Congo (Brazzaville)",
        "Congo (Kinshasa)",
        "Costa Rica",
        "Cote d'Ivoire",
        "Croatia",
        "Cuba",
        "Cyprus",
        "Czechia",
        "Denmark",
        "Denmark",
        "Denmark",
        "Diamond Princess",
        "Djibouti",
        "Dominica",
        "Dominican Republic",
        "Ecuador",
        "Egypt",
        "El Salvador",
        "Equatorial Guinea",
        "Eritrea",
        "Estonia",
        "Eswatini",
        "Ethiopia",
        "Fiji",
        "Finland",
        "France",
        "France",
        "France",
        "France",
        "France",
        "France",
        "France",
        "France",
        "France",
        "France",
        "France",
        "France",
        "Gabon",
        "Gambia",
        "Georgia",
        "Germany",
        "Ghana",
        "Greece",
        "Grenada",
        "Guatemala",
        "Guinea",
        "Guinea-Bissau",
        "Guyana",
        "Haiti",
        "Holy See",
        "Honduras",
        "Hungary",
        "Iceland",
        "India",
        "Indonesia",
        "Iran",
        "Iraq",
        "Ireland",
        "Israel",
        "Italy",
        "Jamaica",
        "Japan",
        "Jordan",
        "Kazakhstan",
        "Kenya",
        "Korea, South",
        "Kosovo",
        "Kuwait",
        "Kyrgyzstan",
        "Laos",
        "Latvia",
        "Lebanon",
        "Lesotho",
        "Liberia",
        "Libya",
        "Liechtenstein",
        "Lithuania",
        "Luxembourg",
        "MS Zaandam",
        "Madagascar",
        "Malawi",
        "Malaysia",
        "Maldives",
        "Mali",
        "Malta",
        "Marshall Islands",
        "Mauritania",
        "Mauritius",
        "Mexico",
        "Moldova",
        "Monaco",
        "Mongolia",
        "Montenegro",
        "Morocco",
        "Mozambique",
        "Namibia",
        "Nepal",
        "Netherlands",
        "Netherlands",
        "Netherlands",
        "Netherlands",
        "Netherlands",
        "New Zealand",
        "Nicaragua",
        "Niger",
        "Nigeria",
        "North Macedonia",
        "Norway",
        "Oman",
        "Pakistan",
        "Panama",
        "Papua New Guinea",
        "Paraguay",
        "Peru",
        "Philippines",
        "Poland",
        "Portugal",
        "Qatar",
        "Romania",
        "Russia",
        "Rwanda",
        "Saint Kitts and Nevis",
        "Saint Lucia",
        "Saint Vincent and the Grenadines",
        "Samoa",
        "San Marino",
        "Sao Tome and Principe",
        "Saudi Arabia",
        "Senegal",
        "Serbia",
        "Seychelles",
        "Sierra Leone",
        "Singapore",
        "Slovakia",
        "Slovenia",
        "Solomon Islands",
        "Somalia",
        "South Africa",
        "South Sudan",
        "Spain",
        "Sri Lanka",
        "Sudan",
        "Suriname",
        "Sweden",
        "Switzerland",
        "Syria",
        "Taiwan*",
        "Tajikistan",
        "Tanzania",
        "Thailand",
        "Timor-Leste",
        "Togo",
        "Trinidad and Tobago",
        "Tunisia",
        "Turkey",
        "US",
        "Uganda",
        "Ukraine",
        "United Arab Emirates",
        "United Kingdom",
        "United Kingdom",
        "United Kingdom",
        "United Kingdom",
        "United Kingdom",
        "United Kingdom",
        "United Kingdom",
        "United Kingdom",
        "United Kingdom",
        "United Kingdom",
        "United Kingdom",
        "Uruguay",
        "Uzbekistan",
        "Vanuatu",
        "Venezuela",
        "Vietnam",
        "West Bank and Gaza",
        "Yemen",
        "Zambia",
        "Zimbabwe"
       ],
       "description": "country",
       "index": 0,
       "layout": "IPY_MODEL_6f216bac770a45bfadfbd0aeb5733819",
       "style": "IPY_MODEL_6169884ac4a140dda86ab2d2c67058d0"
      }
     },
     "49b2c754d7fd429eac93218f800a7f9f": {
      "model_module": "@jupyter-widgets/controls",
      "model_module_version": "1.5.0",
      "model_name": "DescriptionStyleModel",
      "state": {
       "description_width": ""
      }
     },
     "4b6e4a5196424be08f4c86be881740db": {
      "model_module": "jupyter-vuetify",
      "model_module_version": "^1.6.1",
      "model_name": "ThemeColorsModel",
      "state": {
       "_model_module_version": "^1.6.1",
       "_theme_name": "light",
       "_view_module": null,
       "_view_module_version": "^1.6.1",
       "accent": "#82B1FF",
       "error": "#FF5252",
       "info": "#2196F3",
       "primary": "#1976D2",
       "secondary": "#424242",
       "success": "#4CAF50",
       "warning": "#FB8C00"
      }
     },
     "4c2c71a82d204ef0a88a1a1af548c066": {
      "model_module": "@jupyter-widgets/controls",
      "model_module_version": "1.5.0",
      "model_name": "DescriptionStyleModel",
      "state": {
       "description_width": ""
      }
     },
     "4d11b37b332348a0a8d7b18be898239c": {
      "model_module": "@jupyter-widgets/output",
      "model_module_version": "1.0.0",
      "model_name": "OutputModel",
      "state": {
       "layout": "IPY_MODEL_1aa870a6fd7c43eebefc9e5957119ae1",
       "outputs": [
        {
         "ename": "TypeError",
         "evalue": "'<' not supported between instances of 'method' and 'method'",
         "output_type": "error",
         "traceback": [
          "\u001b[1;31m--------------------------------------------------------\u001b[0m",
          "\u001b[1;31mTypeError\u001b[0m              Traceback (most recent call last)",
          "\u001b[1;32mc:\\users\\administrator\\appdata\\local\\programs\\python\\python39\\lib\\site-packages\\ipywidgets\\widgets\\interaction.py\u001b[0m in \u001b[0;36mupdate\u001b[1;34m(self, *args)\u001b[0m\n\u001b[0;32m    254\u001b[0m                     \u001b[0mvalue\u001b[0m \u001b[1;33m=\u001b[0m \u001b[0mwidget\u001b[0m\u001b[1;33m.\u001b[0m\u001b[0mget_interact_value\u001b[0m\u001b[1;33m(\u001b[0m\u001b[1;33m)\u001b[0m\u001b[1;33m\u001b[0m\u001b[1;33m\u001b[0m\u001b[0m\n\u001b[0;32m    255\u001b[0m                     \u001b[0mself\u001b[0m\u001b[1;33m.\u001b[0m\u001b[0mkwargs\u001b[0m\u001b[1;33m[\u001b[0m\u001b[0mwidget\u001b[0m\u001b[1;33m.\u001b[0m\u001b[0m_kwarg\u001b[0m\u001b[1;33m]\u001b[0m \u001b[1;33m=\u001b[0m \u001b[0mvalue\u001b[0m\u001b[1;33m\u001b[0m\u001b[1;33m\u001b[0m\u001b[0m\n\u001b[1;32m--> 256\u001b[1;33m                 \u001b[0mself\u001b[0m\u001b[1;33m.\u001b[0m\u001b[0mresult\u001b[0m \u001b[1;33m=\u001b[0m \u001b[0mself\u001b[0m\u001b[1;33m.\u001b[0m\u001b[0mf\u001b[0m\u001b[1;33m(\u001b[0m\u001b[1;33m**\u001b[0m\u001b[0mself\u001b[0m\u001b[1;33m.\u001b[0m\u001b[0mkwargs\u001b[0m\u001b[1;33m)\u001b[0m\u001b[1;33m\u001b[0m\u001b[1;33m\u001b[0m\u001b[0m\n\u001b[0m\u001b[0;32m    257\u001b[0m                 \u001b[0mshow_inline_matplotlib_plots\u001b[0m\u001b[1;33m(\u001b[0m\u001b[1;33m)\u001b[0m\u001b[1;33m\u001b[0m\u001b[1;33m\u001b[0m\u001b[0m\n\u001b[0;32m    258\u001b[0m                 \u001b[1;32mif\u001b[0m \u001b[0mself\u001b[0m\u001b[1;33m.\u001b[0m\u001b[0mauto_display\u001b[0m \u001b[1;32mand\u001b[0m \u001b[0mself\u001b[0m\u001b[1;33m.\u001b[0m\u001b[0mresult\u001b[0m \u001b[1;32mis\u001b[0m \u001b[1;32mnot\u001b[0m \u001b[1;32mNone\u001b[0m\u001b[1;33m:\u001b[0m\u001b[1;33m\u001b[0m\u001b[1;33m\u001b[0m\u001b[0m\n",
          "\u001b[1;32m<ipython-input-26-4e11bd5a73ca>\u001b[0m in \u001b[0;36mdraw_scatter\u001b[1;34m(number, content)\u001b[0m\n\u001b[0;32m      5\u001b[0m \u001b[1;32mdef\u001b[0m \u001b[0mdraw_scatter\u001b[0m\u001b[1;33m(\u001b[0m\u001b[0mnumber\u001b[0m\u001b[1;33m,\u001b[0m\u001b[0mcontent\u001b[0m\u001b[1;33m)\u001b[0m\u001b[1;33m:\u001b[0m\u001b[1;33m\u001b[0m\u001b[1;33m\u001b[0m\u001b[0m\n\u001b[0;32m      6\u001b[0m     \u001b[1;31m#fig=px.scatter(sorted_country_df.head(number),x='country',y=content,size=content,color='country',hover_name=\"country\",size_max=60)\u001b[0m\u001b[1;33m\u001b[0m\u001b[1;33m\u001b[0m\u001b[1;33m\u001b[0m\u001b[0m\n\u001b[1;32m----> 7\u001b[1;33m     \u001b[0msorted_country_df\u001b[0m\u001b[1;33m=\u001b[0m\u001b[0mcountry_df\u001b[0m\u001b[1;33m.\u001b[0m\u001b[0msort_values\u001b[0m\u001b[1;33m(\u001b[0m\u001b[0mcontent\u001b[0m\u001b[1;33m,\u001b[0m\u001b[0mascending\u001b[0m\u001b[1;33m=\u001b[0m\u001b[1;32mFalse\u001b[0m\u001b[1;33m)\u001b[0m\u001b[1;33m.\u001b[0m\u001b[0mhead\u001b[0m\u001b[1;33m(\u001b[0m\u001b[1;36m191\u001b[0m\u001b[1;33m)\u001b[0m\u001b[1;33m\u001b[0m\u001b[1;33m\u001b[0m\u001b[0m\n\u001b[0m\u001b[0;32m      8\u001b[0m     fig2 = px.bar(sorted_country_df.head(number), x='country', y=content, color=\"country\",\n\u001b[0;32m      9\u001b[0m                   hover_data=[content], height=400,title=\"Top infected Countries\")\n",
          "\u001b[1;32mc:\\users\\administrator\\appdata\\local\\programs\\python\\python39\\lib\\site-packages\\pandas\\core\\frame.py\u001b[0m in \u001b[0;36msort_values\u001b[1;34m(self, by, axis, ascending, inplace, kind, na_position, ignore_index, key)\u001b[0m\n\u001b[0;32m   5459\u001b[0m                 \u001b[0mascending\u001b[0m \u001b[1;33m=\u001b[0m \u001b[0mascending\u001b[0m\u001b[1;33m[\u001b[0m\u001b[1;36m0\u001b[0m\u001b[1;33m]\u001b[0m\u001b[1;33m\u001b[0m\u001b[1;33m\u001b[0m\u001b[0m\n\u001b[0;32m   5460\u001b[0m \u001b[1;33m\u001b[0m\u001b[0m\n\u001b[1;32m-> 5461\u001b[1;33m             indexer = nargsort(\n\u001b[0m\u001b[0;32m   5462\u001b[0m                 \u001b[0mk\u001b[0m\u001b[1;33m,\u001b[0m \u001b[0mkind\u001b[0m\u001b[1;33m=\u001b[0m\u001b[0mkind\u001b[0m\u001b[1;33m,\u001b[0m \u001b[0mascending\u001b[0m\u001b[1;33m=\u001b[0m\u001b[0mascending\u001b[0m\u001b[1;33m,\u001b[0m \u001b[0mna_position\u001b[0m\u001b[1;33m=\u001b[0m\u001b[0mna_position\u001b[0m\u001b[1;33m,\u001b[0m \u001b[0mkey\u001b[0m\u001b[1;33m=\u001b[0m\u001b[0mkey\u001b[0m\u001b[1;33m\u001b[0m\u001b[1;33m\u001b[0m\u001b[0m\n\u001b[0;32m   5463\u001b[0m             )\n",
          "\u001b[1;32mc:\\users\\administrator\\appdata\\local\\programs\\python\\python39\\lib\\site-packages\\pandas\\core\\sorting.py\u001b[0m in \u001b[0;36mnargsort\u001b[1;34m(items, kind, ascending, na_position, key, mask)\u001b[0m\n\u001b[0;32m    377\u001b[0m         \u001b[0mnon_nans\u001b[0m \u001b[1;33m=\u001b[0m \u001b[0mnon_nans\u001b[0m\u001b[1;33m[\u001b[0m\u001b[1;33m:\u001b[0m\u001b[1;33m:\u001b[0m\u001b[1;33m-\u001b[0m\u001b[1;36m1\u001b[0m\u001b[1;33m]\u001b[0m\u001b[1;33m\u001b[0m\u001b[1;33m\u001b[0m\u001b[0m\n\u001b[0;32m    378\u001b[0m         \u001b[0mnon_nan_idx\u001b[0m \u001b[1;33m=\u001b[0m \u001b[0mnon_nan_idx\u001b[0m\u001b[1;33m[\u001b[0m\u001b[1;33m:\u001b[0m\u001b[1;33m:\u001b[0m\u001b[1;33m-\u001b[0m\u001b[1;36m1\u001b[0m\u001b[1;33m]\u001b[0m\u001b[1;33m\u001b[0m\u001b[1;33m\u001b[0m\u001b[0m\n\u001b[1;32m--> 379\u001b[1;33m     \u001b[0mindexer\u001b[0m \u001b[1;33m=\u001b[0m \u001b[0mnon_nan_idx\u001b[0m\u001b[1;33m[\u001b[0m\u001b[0mnon_nans\u001b[0m\u001b[1;33m.\u001b[0m\u001b[0margsort\u001b[0m\u001b[1;33m(\u001b[0m\u001b[0mkind\u001b[0m\u001b[1;33m=\u001b[0m\u001b[0mkind\u001b[0m\u001b[1;33m)\u001b[0m\u001b[1;33m]\u001b[0m\u001b[1;33m\u001b[0m\u001b[1;33m\u001b[0m\u001b[0m\n\u001b[0m\u001b[0;32m    380\u001b[0m     \u001b[1;32mif\u001b[0m \u001b[1;32mnot\u001b[0m \u001b[0mascending\u001b[0m\u001b[1;33m:\u001b[0m\u001b[1;33m\u001b[0m\u001b[1;33m\u001b[0m\u001b[0m\n\u001b[0;32m    381\u001b[0m         \u001b[0mindexer\u001b[0m \u001b[1;33m=\u001b[0m \u001b[0mindexer\u001b[0m\u001b[1;33m[\u001b[0m\u001b[1;33m:\u001b[0m\u001b[1;33m:\u001b[0m\u001b[1;33m-\u001b[0m\u001b[1;36m1\u001b[0m\u001b[1;33m]\u001b[0m\u001b[1;33m\u001b[0m\u001b[1;33m\u001b[0m\u001b[0m\n",
          "\u001b[1;31mTypeError\u001b[0m: '<' not supported between instances of 'method' and 'method'"
         ]
        }
       ]
      }
     },
     "4d46c4b55b5244e8ac9d12c4ddf71779": {
      "model_module": "@jupyter-widgets/base",
      "model_module_version": "1.2.0",
      "model_name": "LayoutModel",
      "state": {}
     },
     "4d9fb5de6e50445ebba80841ef1c94fe": {
      "model_module": "@jupyter-widgets/controls",
      "model_module_version": "1.5.0",
      "model_name": "DescriptionStyleModel",
      "state": {
       "description_width": ""
      }
     },
     "4e29fb7ddf47418a858e1bb754dac5cd": {
      "model_module": "@jupyter-widgets/controls",
      "model_module_version": "1.5.0",
      "model_name": "DescriptionStyleModel",
      "state": {
       "description_width": ""
      }
     },
     "4ec95b6562ca4c97a0dee08ed5171f07": {
      "model_module": "@jupyter-widgets/controls",
      "model_module_version": "1.5.0",
      "model_name": "VBoxModel",
      "state": {
       "_dom_classes": [
        "widget-interact"
       ],
       "children": [
        "IPY_MODEL_a91816cc605e40d2ba089d8fb403507d",
        "IPY_MODEL_1f613d70484e4bc5a0fceb78980eb2b1",
        "IPY_MODEL_504b5397bd404108a9a4c38cdb061174"
       ],
       "layout": "IPY_MODEL_e5ffbdeb4c054c04a9e2ed199099ac49"
      }
     },
     "4f1b7c1c133845f3997d4a6486a065d7": {
      "model_module": "@jupyter-widgets/base",
      "model_module_version": "1.2.0",
      "model_name": "LayoutModel",
      "state": {}
     },
     "504b5397bd404108a9a4c38cdb061174": {
      "model_module": "@jupyter-widgets/output",
      "model_module_version": "1.0.0",
      "model_name": "OutputModel",
      "state": {
       "layout": "IPY_MODEL_ebd25b7d33894ddaae81b0e766b43d7c"
      }
     },
     "588df37f839b4d41a9bb550feb7c55a1": {
      "model_module": "@jupyter-widgets/controls",
      "model_module_version": "1.5.0",
      "model_name": "VBoxModel",
      "state": {
       "_dom_classes": [
        "widget-interact"
       ],
       "children": [
        "IPY_MODEL_37be00e524da4e728e1a893cfe0254b6",
        "IPY_MODEL_702b2ec8a0784db49d65de2f5f6b8297",
        "IPY_MODEL_777614c71a3e41d1a7ebee69649ff411"
       ],
       "layout": "IPY_MODEL_656ba6756f0e451a813d4affd8330c0e"
      }
     },
     "5b6e0b02c10c4a8ca4786c2d7ab41984": {
      "model_module": "@jupyter-widgets/base",
      "model_module_version": "1.2.0",
      "model_name": "LayoutModel",
      "state": {}
     },
     "5d46fe9fe15c478fbb6efe042c8f6320": {
      "model_module": "@jupyter-widgets/output",
      "model_module_version": "1.0.0",
      "model_name": "OutputModel",
      "state": {
       "layout": "IPY_MODEL_c422b7e39d9441b08d37beed39da29bd",
       "outputs": [
        {
         "data": {
          "application/vnd.plotly.v1+json": {
           "config": {
            "plotlyServerURL": "https://plot.ly"
           },
           "data": [
            {
             "connectgaps": true,
             "line": {
              "color": "blue",
              "width": 1
             },
             "mode": "lines+markers",
             "name": "confirmed",
             "text": "Total confirmed: 53775",
             "type": "scatter",
             "x": [
              "1/23/20",
              "1/24/20",
              "1/25/20",
              "1/26/20",
              "1/27/20",
              "1/28/20",
              "1/29/20",
              "1/30/20",
              "1/31/20",
              "2/1/20",
              "2/2/20",
              "2/3/20",
              "2/4/20",
              "2/5/20",
              "2/6/20",
              "2/7/20",
              "2/8/20",
              "2/9/20",
              "2/10/20",
              "2/11/20",
              "2/12/20",
              "2/13/20",
              "2/14/20",
              "2/15/20",
              "2/16/20",
              "2/17/20",
              "2/18/20",
              "2/19/20",
              "2/20/20",
              "2/21/20",
              "2/22/20",
              "2/23/20",
              "2/24/20",
              "2/25/20",
              "2/26/20",
              "2/27/20",
              "2/28/20",
              "2/29/20",
              "3/1/20",
              "3/2/20",
              "3/3/20",
              "3/4/20",
              "3/5/20",
              "3/6/20",
              "3/7/20",
              "3/8/20",
              "3/9/20",
              "3/10/20",
              "3/11/20",
              "3/12/20",
              "3/13/20",
              "3/14/20",
              "3/15/20",
              "3/16/20",
              "3/17/20",
              "3/18/20",
              "3/19/20",
              "3/20/20",
              "3/21/20",
              "3/22/20",
              "3/23/20",
              "3/24/20",
              "3/25/20",
              "3/26/20",
              "3/27/20",
              "3/28/20",
              "3/29/20",
              "3/30/20",
              "3/31/20",
              "4/1/20",
              "4/2/20",
              "4/3/20",
              "4/4/20",
              "4/5/20",
              "4/6/20",
              "4/7/20",
              "4/8/20",
              "4/9/20",
              "4/10/20",
              "4/11/20",
              "4/12/20",
              "4/13/20",
              "4/14/20",
              "4/15/20",
              "4/16/20",
              "4/17/20",
              "4/18/20",
              "4/19/20",
              "4/20/20",
              "4/21/20",
              "4/22/20",
              "4/23/20",
              "4/24/20",
              "4/25/20",
              "4/26/20",
              "4/27/20",
              "4/28/20",
              "4/29/20",
              "4/30/20",
              "5/1/20",
              "5/2/20",
              "5/3/20",
              "5/4/20",
              "5/5/20",
              "5/6/20",
              "5/7/20",
              "5/8/20",
              "5/9/20",
              "5/10/20",
              "5/11/20",
              "5/12/20",
              "5/13/20",
              "5/14/20",
              "5/15/20",
              "5/16/20",
              "5/17/20",
              "5/18/20",
              "5/19/20",
              "5/20/20",
              "5/21/20",
              "5/22/20",
              "5/23/20",
              "5/24/20",
              "5/25/20",
              "5/26/20",
              "5/27/20",
              "5/28/20",
              "5/29/20",
              "5/30/20",
              "5/31/20",
              "6/1/20",
              "6/2/20",
              "6/3/20",
              "6/4/20",
              "6/5/20",
              "6/6/20",
              "6/7/20",
              "6/8/20",
              "6/9/20",
              "6/10/20",
              "6/11/20",
              "6/12/20",
              "6/13/20",
              "6/14/20",
              "6/15/20",
              "6/16/20",
              "6/17/20",
              "6/18/20",
              "6/19/20",
              "6/20/20",
              "6/21/20",
              "6/22/20",
              "6/23/20",
              "6/24/20",
              "6/25/20",
              "6/26/20",
              "6/27/20",
              "6/28/20",
              "6/29/20",
              "6/30/20",
              "7/1/20",
              "7/2/20",
              "7/3/20",
              "7/4/20",
              "7/5/20",
              "7/6/20",
              "7/7/20",
              "7/8/20",
              "7/9/20",
              "7/10/20",
              "7/11/20",
              "7/12/20",
              "7/13/20",
              "7/14/20",
              "7/15/20",
              "7/16/20",
              "7/17/20",
              "7/18/20",
              "7/19/20",
              "7/20/20",
              "7/21/20",
              "7/22/20",
              "7/23/20",
              "7/24/20",
              "7/25/20",
              "7/26/20",
              "7/27/20",
              "7/28/20",
              "7/29/20",
              "7/30/20",
              "7/31/20",
              "8/1/20",
              "8/2/20",
              "8/3/20",
              "8/4/20",
              "8/5/20",
              "8/6/20",
              "8/7/20",
              "8/8/20",
              "8/9/20",
              "8/10/20",
              "8/11/20",
              "8/12/20",
              "8/13/20",
              "8/14/20",
              "8/15/20",
              "8/16/20",
              "8/17/20",
              "8/18/20",
              "8/19/20",
              "8/20/20",
              "8/21/20",
              "8/22/20",
              "8/23/20",
              "8/24/20",
              "8/25/20",
              "8/26/20",
              "8/27/20",
              "8/28/20",
              "8/29/20",
              "8/30/20",
              "8/31/20",
              "9/1/20",
              "9/2/20",
              "9/3/20",
              "9/4/20",
              "9/5/20",
              "9/6/20",
              "9/7/20",
              "9/8/20",
              "9/9/20",
              "9/10/20",
              "9/11/20",
              "9/12/20",
              "9/13/20",
              "9/14/20",
              "9/15/20",
              "9/16/20",
              "9/17/20",
              "9/18/20",
              "9/19/20",
              "9/20/20",
              "9/21/20",
              "9/22/20",
              "9/23/20",
              "9/24/20",
              "9/25/20",
              "9/26/20",
              "9/27/20",
              "9/28/20",
              "9/29/20",
              "9/30/20",
              "10/1/20",
              "10/2/20",
              "10/3/20",
              "10/4/20",
              "10/5/20",
              "10/6/20",
              "10/7/20",
              "10/8/20",
              "10/9/20",
              "10/10/20",
              "10/11/20",
              "10/12/20",
              "10/13/20",
              "10/14/20",
              "10/15/20",
              "10/16/20",
              "10/17/20",
              "10/18/20",
              "10/19/20",
              "10/20/20",
              "10/21/20",
              "10/22/20",
              "10/23/20",
              "10/24/20",
              "10/25/20",
              "10/26/20",
              "10/27/20",
              "10/28/20",
              "10/29/20",
              "10/30/20",
              "10/31/20",
              "11/1/20",
              "11/2/20",
              "11/3/20",
              "11/4/20",
              "11/5/20",
              "11/6/20",
              "11/7/20",
              "11/8/20",
              "11/9/20",
              "11/10/20",
              "11/11/20",
              "11/12/20",
              "11/13/20",
              "11/14/20",
              "11/15/20",
              "11/16/20",
              "11/17/20",
              "11/18/20",
              "11/19/20",
              "11/20/20",
              "11/21/20",
              "11/22/20",
              "11/23/20",
              "11/24/20",
              "11/25/20",
              "11/26/20",
              "11/27/20",
              "11/28/20",
              "11/29/20",
              "11/30/20",
              "12/1/20",
              "12/2/20",
              "12/3/20",
              "12/4/20",
              "12/5/20",
              "12/6/20",
              "12/7/20",
              "12/8/20",
              "12/9/20",
              "12/10/20",
              "12/11/20",
              "12/12/20",
              "12/13/20",
              "12/14/20",
              "12/15/20",
              "12/16/20",
              "12/17/20",
              "12/18/20",
              "12/19/20",
              "12/20/20",
              "12/21/20",
              "12/22/20",
              "12/23/20",
              "12/24/20",
              "12/25/20",
              "12/26/20",
              "12/27/20",
              "12/28/20",
              "12/29/20",
              "12/30/20",
              "12/31/20",
              "1/1/21",
              "1/2/21",
              "1/3/21",
              "1/4/21",
              "1/5/21",
              "1/6/21",
              "1/7/21",
              "1/8/21",
              "1/9/21",
              "1/10/21",
              "1/11/21",
              "1/12/21",
              "1/13/21",
              "1/14/21"
             ],
             "y": [
              0,
              0,
              0,
              0,
              0,
              0,
              0,
              0,
              0,
              0,
              0,
              0,
              0,
              0,
              0,
              0,
              0,
              0,
              0,
              0,
              0,
              0,
              0,
              0,
              0,
              0,
              0,
              0,
              0,
              0,
              0,
              0,
              1,
              1,
              1,
              1,
              1,
              1,
              1,
              1,
              2,
              4,
              4,
              4,
              4,
              5,
              7,
              8,
              11,
              12,
              13,
              15,
              16,
              18,
              20,
              24,
              25,
              29,
              30,
              34,
              41,
              43,
              76,
              80,
              91,
              107,
              118,
              146,
              175,
              197,
              240,
              275,
              300,
              338,
              368,
              424,
              445,
              485,
              532,
              556,
              608,
              666,
              715,
              785,
              841,
              907,
              934,
              997,
              1027,
              1093,
              1177,
              1236,
              1331,
              1464,
              1532,
              1704,
              1830,
              1940,
              2127,
              2291,
              2470,
              2705,
              2895,
              3225,
              3393,
              3564,
              3781,
              4042,
              4403,
              4687,
              4968,
              5227,
              5640,
              6054,
              6403,
              6665,
              7073,
              7654,
              8146,
              8677,
              9219,
              10001,
              10585,
              11176,
              11834,
              12459,
              13039,
              13662,
              14528,
              15208,
              15753,
              16512,
              17270,
              18057,
              18972,
              19554,
              20345,
              20920,
              21462,
              22146,
              22894,
              23550,
              24106,
              24770,
              25531,
              26314,
              26878,
              27536,
              27882,
              28428,
              28837,
              29147,
              29471,
              29705,
              30165,
              30441,
              30606,
              30957,
              31228,
              31507,
              31826,
              32012,
              32314,
              32662,
              32941,
              33180,
              33374,
              33584,
              33898,
              34184,
              34356,
              34441,
              34595,
              34730,
              34984,
              35060,
              35219,
              35279,
              35453,
              35493,
              35605,
              35717,
              35918,
              35978,
              36026,
              36147,
              36253,
              36358,
              36463,
              36532,
              36665,
              36700,
              36701,
              36737,
              36773,
              36820,
              36928,
              37006,
              37046,
              37083,
              37153,
              37260,
              37336,
              37422,
              37497,
              37542,
              37590,
              37667,
              37710,
              37750,
              37852,
              37885,
              37944,
              37990,
              38045,
              38061,
              38103,
              38119,
              38130,
              38133,
              38155,
              38159,
              38193,
              38243,
              38288,
              38304,
              38324,
              38398,
              38494,
              38520,
              38544,
              38572,
              38606,
              38641,
              38716,
              38772,
              38815,
              38855,
              38872,
              38897,
              38919,
              39044,
              39074,
              39096,
              39145,
              39170,
              39186,
              39192,
              39227,
              39239,
              39254,
              39268,
              39285,
              39290,
              39297,
              39341,
              39422,
              39486,
              39548,
              39616,
              39693,
              39703,
              39799,
              39870,
              39928,
              39994,
              40026,
              40088,
              40141,
              40200,
              40287,
              40369,
              40510,
              40626,
              40687,
              40768,
              40833,
              40937,
              41032,
              41145,
              41268,
              41334,
              41425,
              41501,
              41633,
              41728,
              41814,
              41935,
              41975,
              42033,
              42159,
              42297,
              42463,
              42609,
              42795,
              42969,
              43035,
              43240,
              43468,
              43681,
              43924,
              44177,
              44363,
              44503,
              44706,
              44988,
              45174,
              45384,
              45600,
              45723,
              45844,
              46116,
              46274,
              46516,
              46718,
              46837,
              46837,
              47072,
              47306,
              47516,
              47716,
              47851,
              48053,
              48116,
              48229,
              48527,
              48718,
              48952,
              49161,
              49378,
              49621,
              49681,
              49817,
              50013,
              50190,
              50433,
              50655,
              50810,
              50886,
              51039,
              51280,
              51350,
              51405,
              51526,
              51526,
              51526,
              51526,
              53011,
              53105,
              53105,
              53207,
              53332,
              53400,
              53489,
              53538,
              53584,
              53584,
              53775
             ]
            },
            {
             "connectgaps": true,
             "line": {
              "color": "red",
              "width": 1
             },
             "mode": "lines+markers",
             "name": "deaths",
             "text": "Total deaths: 2314",
             "type": "scatter",
             "x": [
              "1/23/20",
              "1/24/20",
              "1/25/20",
              "1/26/20",
              "1/27/20",
              "1/28/20",
              "1/29/20",
              "1/30/20",
              "1/31/20",
              "2/1/20",
              "2/2/20",
              "2/3/20",
              "2/4/20",
              "2/5/20",
              "2/6/20",
              "2/7/20",
              "2/8/20",
              "2/9/20",
              "2/10/20",
              "2/11/20",
              "2/12/20",
              "2/13/20",
              "2/14/20",
              "2/15/20",
              "2/16/20",
              "2/17/20",
              "2/18/20",
              "2/19/20",
              "2/20/20",
              "2/21/20",
              "2/22/20",
              "2/23/20",
              "2/24/20",
              "2/25/20",
              "2/26/20",
              "2/27/20",
              "2/28/20",
              "2/29/20",
              "3/1/20",
              "3/2/20",
              "3/3/20",
              "3/4/20",
              "3/5/20",
              "3/6/20",
              "3/7/20",
              "3/8/20",
              "3/9/20",
              "3/10/20",
              "3/11/20",
              "3/12/20",
              "3/13/20",
              "3/14/20",
              "3/15/20",
              "3/16/20",
              "3/17/20",
              "3/18/20",
              "3/19/20",
              "3/20/20",
              "3/21/20",
              "3/22/20",
              "3/23/20",
              "3/24/20",
              "3/25/20",
              "3/26/20",
              "3/27/20",
              "3/28/20",
              "3/29/20",
              "3/30/20",
              "3/31/20",
              "4/1/20",
              "4/2/20",
              "4/3/20",
              "4/4/20",
              "4/5/20",
              "4/6/20",
              "4/7/20",
              "4/8/20",
              "4/9/20",
              "4/10/20",
              "4/11/20",
              "4/12/20",
              "4/13/20",
              "4/14/20",
              "4/15/20",
              "4/16/20",
              "4/17/20",
              "4/18/20",
              "4/19/20",
              "4/20/20",
              "4/21/20",
              "4/22/20",
              "4/23/20",
              "4/24/20",
              "4/25/20",
              "4/26/20",
              "4/27/20",
              "4/28/20",
              "4/29/20",
              "4/30/20",
              "5/1/20",
              "5/2/20",
              "5/3/20",
              "5/4/20",
              "5/5/20",
              "5/6/20",
              "5/7/20",
              "5/8/20",
              "5/9/20",
              "5/10/20",
              "5/11/20",
              "5/12/20",
              "5/13/20",
              "5/14/20",
              "5/15/20",
              "5/16/20",
              "5/17/20",
              "5/18/20",
              "5/19/20",
              "5/20/20",
              "5/21/20",
              "5/22/20",
              "5/23/20",
              "5/24/20",
              "5/25/20",
              "5/26/20",
              "5/27/20",
              "5/28/20",
              "5/29/20",
              "5/30/20",
              "5/31/20",
              "6/1/20",
              "6/2/20",
              "6/3/20",
              "6/4/20",
              "6/5/20",
              "6/6/20",
              "6/7/20",
              "6/8/20",
              "6/9/20",
              "6/10/20",
              "6/11/20",
              "6/12/20",
              "6/13/20",
              "6/14/20",
              "6/15/20",
              "6/16/20",
              "6/17/20",
              "6/18/20",
              "6/19/20",
              "6/20/20",
              "6/21/20",
              "6/22/20",
              "6/23/20",
              "6/24/20",
              "6/25/20",
              "6/26/20",
              "6/27/20",
              "6/28/20",
              "6/29/20",
              "6/30/20",
              "7/1/20",
              "7/2/20",
              "7/3/20",
              "7/4/20",
              "7/5/20",
              "7/6/20",
              "7/7/20",
              "7/8/20",
              "7/9/20",
              "7/10/20",
              "7/11/20",
              "7/12/20",
              "7/13/20",
              "7/14/20",
              "7/15/20",
              "7/16/20",
              "7/17/20",
              "7/18/20",
              "7/19/20",
              "7/20/20",
              "7/21/20",
              "7/22/20",
              "7/23/20",
              "7/24/20",
              "7/25/20",
              "7/26/20",
              "7/27/20",
              "7/28/20",
              "7/29/20",
              "7/30/20",
              "7/31/20",
              "8/1/20",
              "8/2/20",
              "8/3/20",
              "8/4/20",
              "8/5/20",
              "8/6/20",
              "8/7/20",
              "8/8/20",
              "8/9/20",
              "8/10/20",
              "8/11/20",
              "8/12/20",
              "8/13/20",
              "8/14/20",
              "8/15/20",
              "8/16/20",
              "8/17/20",
              "8/18/20",
              "8/19/20",
              "8/20/20",
              "8/21/20",
              "8/22/20",
              "8/23/20",
              "8/24/20",
              "8/25/20",
              "8/26/20",
              "8/27/20",
              "8/28/20",
              "8/29/20",
              "8/30/20",
              "8/31/20",
              "9/1/20",
              "9/2/20",
              "9/3/20",
              "9/4/20",
              "9/5/20",
              "9/6/20",
              "9/7/20",
              "9/8/20",
              "9/9/20",
              "9/10/20",
              "9/11/20",
              "9/12/20",
              "9/13/20",
              "9/14/20",
              "9/15/20",
              "9/16/20",
              "9/17/20",
              "9/18/20",
              "9/19/20",
              "9/20/20",
              "9/21/20",
              "9/22/20",
              "9/23/20",
              "9/24/20",
              "9/25/20",
              "9/26/20",
              "9/27/20",
              "9/28/20",
              "9/29/20",
              "9/30/20",
              "10/1/20",
              "10/2/20",
              "10/3/20",
              "10/4/20",
              "10/5/20",
              "10/6/20",
              "10/7/20",
              "10/8/20",
              "10/9/20",
              "10/10/20",
              "10/11/20",
              "10/12/20",
              "10/13/20",
              "10/14/20",
              "10/15/20",
              "10/16/20",
              "10/17/20",
              "10/18/20",
              "10/19/20",
              "10/20/20",
              "10/21/20",
              "10/22/20",
              "10/23/20",
              "10/24/20",
              "10/25/20",
              "10/26/20",
              "10/27/20",
              "10/28/20",
              "10/29/20",
              "10/30/20",
              "10/31/20",
              "11/1/20",
              "11/2/20",
              "11/3/20",
              "11/4/20",
              "11/5/20",
              "11/6/20",
              "11/7/20",
              "11/8/20",
              "11/9/20",
              "11/10/20",
              "11/11/20",
              "11/12/20",
              "11/13/20",
              "11/14/20",
              "11/15/20",
              "11/16/20",
              "11/17/20",
              "11/18/20",
              "11/19/20",
              "11/20/20",
              "11/21/20",
              "11/22/20",
              "11/23/20",
              "11/24/20",
              "11/25/20",
              "11/26/20",
              "11/27/20",
              "11/28/20",
              "11/29/20",
              "11/30/20",
              "12/1/20",
              "12/2/20",
              "12/3/20",
              "12/4/20",
              "12/5/20",
              "12/6/20",
              "12/7/20",
              "12/8/20",
              "12/9/20",
              "12/10/20",
              "12/11/20",
              "12/12/20",
              "12/13/20",
              "12/14/20",
              "12/15/20",
              "12/16/20",
              "12/17/20",
              "12/18/20",
              "12/19/20",
              "12/20/20",
              "12/21/20",
              "12/22/20",
              "12/23/20",
              "12/24/20",
              "12/25/20",
              "12/26/20",
              "12/27/20",
              "12/28/20",
              "12/29/20",
              "12/30/20",
              "12/31/20",
              "1/1/21",
              "1/2/21",
              "1/3/21",
              "1/4/21",
              "1/5/21",
              "1/6/21",
              "1/7/21",
              "1/8/21",
              "1/9/21",
              "1/10/21",
              "1/11/21",
              "1/12/21",
              "1/13/21",
              "1/14/21"
             ],
             "y": [
              0,
              0,
              0,
              0,
              0,
              0,
              0,
              0,
              0,
              0,
              0,
              0,
              0,
              0,
              0,
              0,
              0,
              0,
              0,
              0,
              0,
              0,
              0,
              0,
              0,
              0,
              0,
              0,
              0,
              0,
              0,
              0,
              0,
              0,
              0,
              0,
              0,
              0,
              0,
              0,
              0,
              0,
              0,
              0,
              0,
              0,
              0,
              0,
              0,
              0,
              0,
              0,
              0,
              0,
              0,
              0,
              0,
              0,
              0,
              1,
              1,
              1,
              2,
              3,
              3,
              4,
              4,
              4,
              4,
              4,
              4,
              8,
              10,
              12,
              15,
              16,
              16,
              17,
              18,
              18,
              19,
              22,
              23,
              29,
              30,
              30,
              30,
              33,
              36,
              36,
              40,
              40,
              43,
              47,
              52,
              58,
              59,
              61,
              64,
              68,
              72,
              85,
              90,
              95,
              104,
              106,
              109,
              115,
              120,
              122,
              127,
              132,
              136,
              153,
              168,
              170,
              173,
              178,
              188,
              194,
              206,
              217,
              219,
              220,
              221,
              228,
              236,
              247,
              250,
              258,
              266,
              274,
              298,
              304,
              313,
              331,
              361,
              373,
              388,
              409,
              430,
              450,
              455,
              475,
              482,
              495,
              508,
              550,
              552,
              573,
              585,
              597,
              617,
              638,
              674,
              682,
              716,
              728,
              740,
              752,
              780,
              809,
              821,
              828,
              866,
              900,
              922,
              939,
              959,
              973,
              996,
              1012,
              1040,
              1064,
              1096,
              1117,
              1149,
              1166,
              1183,
              1185,
              1188,
              1192,
              1213,
              1227,
              1249,
              1261,
              1271,
              1272,
              1273,
              1283,
              1284,
              1285,
              1286,
              1290,
              1290,
              1296,
              1301,
              1310,
              1315,
              1321,
              1329,
              1346,
              1356,
              1365,
              1370,
              1371,
              1376,
              1378,
              1382,
              1384,
              1386,
              1386,
              1386,
              1388,
              1390,
              1398,
              1402,
              1402,
              1403,
              1403,
              1403,
              1403,
              1407,
              1410,
              1410,
              1410,
              1410,
              1413,
              1416,
              1419,
              1421,
              1421,
              1421,
              1421,
              1421,
              1427,
              1428,
              1438,
              1438,
              1439,
              1439,
              1443,
              1446,
              1447,
              1448,
              1453,
              1453,
              1455,
              1455,
              1458,
              1460,
              1460,
              1460,
              1460,
              1464,
              1464,
              1468,
              1469,
              1471,
              1472,
              1474,
              1475,
              1479,
              1481,
              1482,
              1483,
              1483,
              1487,
              1490,
              1494,
              1499,
              1501,
              1503,
              1507,
              1509,
              1513,
              1516,
              1520,
              1525,
              1531,
              1534,
              1535,
              1538,
              1538,
              1544,
              1547,
              1551,
              1557,
              1557,
              1559,
              1565,
              1577,
              1580,
              1584,
              1594,
              1598,
              1608,
              1620,
              1635,
              1641,
              1648,
              1653,
              1666,
              1678,
              1690,
              1702,
              1715,
              1728,
              1737,
              1740,
              1752,
              1774,
              1795,
              1822,
              1841,
              1846,
              1846,
              1864,
              1874,
              1900,
              1906,
              1919,
              1935,
              1945,
              1956,
              1965,
              1969,
              1995,
              2011,
              2025,
              2030,
              2047,
              2067,
              2082,
              2096,
              2117,
              2126,
              2139,
              2149,
              2160,
              2174,
              2179,
              2181,
              2191,
              2191,
              2191,
              2191,
              2237,
              2244,
              2244,
              2253,
              2257,
              2264,
              2277,
              2288,
              2301,
              2301,
              2314
             ]
            },
            {
             "connectgaps": true,
             "line": {
              "color": "green",
              "width": 1
             },
             "mode": "lines+markers",
             "name": "recovered",
             "text": "Total recovered: 45298",
             "type": "scatter",
             "x": [
              "1/23/20",
              "1/24/20",
              "1/25/20",
              "1/26/20",
              "1/27/20",
              "1/28/20",
              "1/29/20",
              "1/30/20",
              "1/31/20",
              "2/1/20",
              "2/2/20",
              "2/3/20",
              "2/4/20",
              "2/5/20",
              "2/6/20",
              "2/7/20",
              "2/8/20",
              "2/9/20",
              "2/10/20",
              "2/11/20",
              "2/12/20",
              "2/13/20",
              "2/14/20",
              "2/15/20",
              "2/16/20",
              "2/17/20",
              "2/18/20",
              "2/19/20",
              "2/20/20",
              "2/21/20",
              "2/22/20",
              "2/23/20",
              "2/24/20",
              "2/25/20",
              "2/26/20",
              "2/27/20",
              "2/28/20",
              "2/29/20",
              "3/1/20",
              "3/2/20",
              "3/3/20",
              "3/4/20",
              "3/5/20",
              "3/6/20",
              "3/7/20",
              "3/8/20",
              "3/9/20",
              "3/10/20",
              "3/11/20",
              "3/12/20",
              "3/13/20",
              "3/14/20",
              "3/15/20",
              "3/16/20",
              "3/17/20",
              "3/18/20",
              "3/19/20",
              "3/20/20",
              "3/21/20",
              "3/22/20",
              "3/23/20",
              "3/24/20",
              "3/25/20",
              "3/26/20",
              "3/27/20",
              "3/28/20",
              "3/29/20",
              "3/30/20",
              "3/31/20",
              "4/1/20",
              "4/2/20",
              "4/3/20",
              "4/4/20",
              "4/5/20",
              "4/6/20",
              "4/7/20",
              "4/8/20",
              "4/9/20",
              "4/10/20",
              "4/11/20",
              "4/12/20",
              "4/13/20",
              "4/14/20",
              "4/15/20",
              "4/16/20",
              "4/17/20",
              "4/18/20",
              "4/19/20",
              "4/20/20",
              "4/21/20",
              "4/22/20",
              "4/23/20",
              "4/24/20",
              "4/25/20",
              "4/26/20",
              "4/27/20",
              "4/28/20",
              "4/29/20",
              "4/30/20",
              "5/1/20",
              "5/2/20",
              "5/3/20",
              "5/4/20",
              "5/5/20",
              "5/6/20",
              "5/7/20",
              "5/8/20",
              "5/9/20",
              "5/10/20",
              "5/11/20",
              "5/12/20",
              "5/13/20",
              "5/14/20",
              "5/15/20",
              "5/16/20",
              "5/17/20",
              "5/18/20",
              "5/19/20",
              "5/20/20",
              "5/21/20",
              "5/22/20",
              "5/23/20",
              "5/24/20",
              "5/25/20",
              "5/26/20",
              "5/27/20",
              "5/28/20",
              "5/29/20",
              "5/30/20",
              "5/31/20",
              "6/1/20",
              "6/2/20",
              "6/3/20",
              "6/4/20",
              "6/5/20",
              "6/6/20",
              "6/7/20",
              "6/8/20",
              "6/9/20",
              "6/10/20",
              "6/11/20",
              "6/12/20",
              "6/13/20",
              "6/14/20",
              "6/15/20",
              "6/16/20",
              "6/17/20",
              "6/18/20",
              "6/19/20",
              "6/20/20",
              "6/21/20",
              "6/22/20",
              "6/23/20",
              "6/24/20",
              "6/25/20",
              "6/26/20",
              "6/27/20",
              "6/28/20",
              "6/29/20",
              "6/30/20",
              "7/1/20",
              "7/2/20",
              "7/3/20",
              "7/4/20",
              "7/5/20",
              "7/6/20",
              "7/7/20",
              "7/8/20",
              "7/9/20",
              "7/10/20",
              "7/11/20",
              "7/12/20",
              "7/13/20",
              "7/14/20",
              "7/15/20",
              "7/16/20",
              "7/17/20",
              "7/18/20",
              "7/19/20",
              "7/20/20",
              "7/21/20",
              "7/22/20",
              "7/23/20",
              "7/24/20",
              "7/25/20",
              "7/26/20",
              "7/27/20",
              "7/28/20",
              "7/29/20",
              "7/30/20",
              "7/31/20",
              "8/1/20",
              "8/2/20",
              "8/3/20",
              "8/4/20",
              "8/5/20",
              "8/6/20",
              "8/7/20",
              "8/8/20",
              "8/9/20",
              "8/10/20",
              "8/11/20",
              "8/12/20",
              "8/13/20",
              "8/14/20",
              "8/15/20",
              "8/16/20",
              "8/17/20",
              "8/18/20",
              "8/19/20",
              "8/20/20",
              "8/21/20",
              "8/22/20",
              "8/23/20",
              "8/24/20",
              "8/25/20",
              "8/26/20",
              "8/27/20",
              "8/28/20",
              "8/29/20",
              "8/30/20",
              "8/31/20",
              "9/1/20",
              "9/2/20",
              "9/3/20",
              "9/4/20",
              "9/5/20",
              "9/6/20",
              "9/7/20",
              "9/8/20",
              "9/9/20",
              "9/10/20",
              "9/11/20",
              "9/12/20",
              "9/13/20",
              "9/14/20",
              "9/15/20",
              "9/16/20",
              "9/17/20",
              "9/18/20",
              "9/19/20",
              "9/20/20",
              "9/21/20",
              "9/22/20",
              "9/23/20",
              "9/24/20",
              "9/25/20",
              "9/26/20",
              "9/27/20",
              "9/28/20",
              "9/29/20",
              "9/30/20",
              "10/1/20",
              "10/2/20",
              "10/3/20",
              "10/4/20",
              "10/5/20",
              "10/6/20",
              "10/7/20",
              "10/8/20",
              "10/9/20",
              "10/10/20",
              "10/11/20",
              "10/12/20",
              "10/13/20",
              "10/14/20",
              "10/15/20",
              "10/16/20",
              "10/17/20",
              "10/18/20",
              "10/19/20",
              "10/20/20",
              "10/21/20",
              "10/22/20",
              "10/23/20",
              "10/24/20",
              "10/25/20",
              "10/26/20",
              "10/27/20",
              "10/28/20",
              "10/29/20",
              "10/30/20",
              "10/31/20",
              "11/1/20",
              "11/2/20",
              "11/3/20",
              "11/4/20",
              "11/5/20",
              "11/6/20",
              "11/7/20",
              "11/8/20",
              "11/9/20",
              "11/10/20",
              "11/11/20",
              "11/12/20",
              "11/13/20",
              "11/14/20",
              "11/15/20",
              "11/16/20",
              "11/17/20",
              "11/18/20",
              "11/19/20",
              "11/20/20",
              "11/21/20",
              "11/22/20",
              "11/23/20",
              "11/24/20",
              "11/25/20",
              "11/26/20",
              "11/27/20",
              "11/28/20",
              "11/29/20",
              "11/30/20",
              "12/1/20",
              "12/2/20",
              "12/3/20",
              "12/4/20",
              "12/5/20",
              "12/6/20",
              "12/7/20",
              "12/8/20",
              "12/9/20",
              "12/10/20",
              "12/11/20",
              "12/12/20",
              "12/13/20",
              "12/14/20",
              "12/15/20",
              "12/16/20",
              "12/17/20",
              "12/18/20",
              "12/19/20",
              "12/20/20",
              "12/21/20",
              "12/22/20",
              "12/23/20",
              "12/24/20",
              "12/25/20",
              "12/26/20",
              "12/27/20",
              "12/28/20",
              "12/29/20",
              "12/30/20",
              "12/31/20",
              "1/1/21",
              "1/2/21",
              "1/3/21",
              "1/4/21",
              "1/5/21",
              "1/6/21",
              "1/7/21",
              "1/8/21",
              "1/9/21",
              "1/10/21",
              "1/11/21",
              "1/12/21",
              "1/13/21",
              "1/14/21"
             ],
             "y": [
              0,
              0,
              0,
              0,
              0,
              0,
              0,
              0,
              0,
              0,
              0,
              0,
              0,
              0,
              0,
              0,
              0,
              0,
              0,
              0,
              0,
              0,
              0,
              0,
              0,
              0,
              0,
              0,
              0,
              0,
              0,
              0,
              0,
              0,
              0,
              0,
              0,
              0,
              0,
              0,
              0,
              0,
              0,
              0,
              0,
              0,
              0,
              0,
              0,
              0,
              0,
              0,
              0,
              1,
              1,
              1,
              1,
              1,
              1,
              1,
              1,
              1,
              2,
              2,
              2,
              2,
              2,
              2,
              5,
              5,
              10,
              10,
              10,
              15,
              18,
              18,
              29,
              32,
              32,
              32,
              32,
              32,
              40,
              43,
              54,
              99,
              112,
              131,
              135,
              150,
              166,
              179,
              188,
              188,
              207,
              220,
              228,
              252,
              260,
              310,
              331,
              345,
              397,
              421,
              458,
              468,
              472,
              502,
              558,
              558,
              610,
              648,
              691,
              745,
              745,
              778,
              801,
              850,
              930,
              938,
              996,
              1040,
              1075,
              1097,
              1128,
              1138,
              1209,
              1259,
              1303,
              1328,
              1428,
              1450,
              1522,
              1585,
              1762,
              1830,
              1875,
              2171,
              2651,
              3013,
              3326,
              3928,
              4201,
              4725,
              5164,
              5508,
              6158,
              7660,
              7962,
              8292,
              8764,
              8841,
              9260,
              9869,
              10174,
              10306,
              10674,
              12604,
              13934,
              14131,
              15651,
              16041,
              17331,
              19164,
              19366,
              20103,
              20179,
              20700,
              20847,
              20882,
              21135,
              21216,
              21254,
              21454,
              22456,
              22824,
              23151,
              23273,
              23634,
              23741,
              23741,
              23924,
              24550,
              24602,
              24793,
              25180,
              25198,
              25358,
              25389,
              25471,
              25509,
              25509,
              25510,
              25669,
              25669,
              25742,
              25840,
              25903,
              25960,
              25960,
              26228,
              26415,
              26694,
              26714,
              26714,
              27166,
              27166,
              27166,
              27166,
              27166,
              27681,
              28016,
              28016,
              28180,
              28360,
              28440,
              29042,
              29046,
              29059,
              29063,
              29089,
              29089,
              29231,
              29315,
              29390,
              29713,
              30082,
              30537,
              30557,
              30715,
              31048,
              31129,
              31154,
              31234,
              31638,
              32073,
              32098,
              32503,
              32505,
              32576,
              32576,
              32576,
              32576,
              32576,
              32610,
              32619,
              32619,
              32635,
              32642,
              32642,
              32746,
              32789,
              32842,
              32842,
              32842,
              32852,
              32879,
              32977,
              33045,
              33058,
              33058,
              33064,
              33114,
              33118,
              33308,
              33354,
              33447,
              33516,
              33561,
              33614,
              33760,
              33790,
              33824,
              33831,
              34010,
              34023,
              34129,
              34150,
              34217,
              34237,
              34239,
              34258,
              34321,
              34326,
              34342,
              34355,
              34362,
              34440,
              34440,
              34446,
              34458,
              34721,
              34954,
              34967,
              35024,
              35036,
              35067,
              35092,
              35137,
              35160,
              35295,
              35350,
              35370,
              35422,
              35934,
              35976,
              36122,
              36145,
              36232,
              36295,
              36709,
              36716,
              36831,
              36946,
              37218,
              37260,
              37260,
              37393,
              37685,
              37879,
              37920,
              38032,
              38099,
              38141,
              38200,
              38250,
              38252,
              38336,
              38475,
              38505,
              38540,
              38613,
              39006,
              39508,
              39585,
              39692,
              40359,
              40444,
              40784,
              41096,
              41441,
              41543,
              41612,
              41727,
              41727,
              41727,
              41727,
              42530,
              42666,
              42666,
              43291,
              43440,
              43740,
              43948,
              44137,
              44608,
              44850,
              45298
             ]
            }
           ],
           "layout": {
            "template": {
             "data": {
              "bar": [
               {
                "error_x": {
                 "color": "#2a3f5f"
                },
                "error_y": {
                 "color": "#2a3f5f"
                },
                "marker": {
                 "line": {
                  "color": "#E5ECF6",
                  "width": 0.5
                 }
                },
                "type": "bar"
               }
              ],
              "barpolar": [
               {
                "marker": {
                 "line": {
                  "color": "#E5ECF6",
                  "width": 0.5
                 }
                },
                "type": "barpolar"
               }
              ],
              "carpet": [
               {
                "aaxis": {
                 "endlinecolor": "#2a3f5f",
                 "gridcolor": "white",
                 "linecolor": "white",
                 "minorgridcolor": "white",
                 "startlinecolor": "#2a3f5f"
                },
                "baxis": {
                 "endlinecolor": "#2a3f5f",
                 "gridcolor": "white",
                 "linecolor": "white",
                 "minorgridcolor": "white",
                 "startlinecolor": "#2a3f5f"
                },
                "type": "carpet"
               }
              ],
              "choropleth": [
               {
                "colorbar": {
                 "outlinewidth": 0,
                 "ticks": ""
                },
                "type": "choropleth"
               }
              ],
              "contour": [
               {
                "colorbar": {
                 "outlinewidth": 0,
                 "ticks": ""
                },
                "colorscale": [
                 [
                  0,
                  "#0d0887"
                 ],
                 [
                  0.1111111111111111,
                  "#46039f"
                 ],
                 [
                  0.2222222222222222,
                  "#7201a8"
                 ],
                 [
                  0.3333333333333333,
                  "#9c179e"
                 ],
                 [
                  0.4444444444444444,
                  "#bd3786"
                 ],
                 [
                  0.5555555555555556,
                  "#d8576b"
                 ],
                 [
                  0.6666666666666666,
                  "#ed7953"
                 ],
                 [
                  0.7777777777777778,
                  "#fb9f3a"
                 ],
                 [
                  0.8888888888888888,
                  "#fdca26"
                 ],
                 [
                  1,
                  "#f0f921"
                 ]
                ],
                "type": "contour"
               }
              ],
              "contourcarpet": [
               {
                "colorbar": {
                 "outlinewidth": 0,
                 "ticks": ""
                },
                "type": "contourcarpet"
               }
              ],
              "heatmap": [
               {
                "colorbar": {
                 "outlinewidth": 0,
                 "ticks": ""
                },
                "colorscale": [
                 [
                  0,
                  "#0d0887"
                 ],
                 [
                  0.1111111111111111,
                  "#46039f"
                 ],
                 [
                  0.2222222222222222,
                  "#7201a8"
                 ],
                 [
                  0.3333333333333333,
                  "#9c179e"
                 ],
                 [
                  0.4444444444444444,
                  "#bd3786"
                 ],
                 [
                  0.5555555555555556,
                  "#d8576b"
                 ],
                 [
                  0.6666666666666666,
                  "#ed7953"
                 ],
                 [
                  0.7777777777777778,
                  "#fb9f3a"
                 ],
                 [
                  0.8888888888888888,
                  "#fdca26"
                 ],
                 [
                  1,
                  "#f0f921"
                 ]
                ],
                "type": "heatmap"
               }
              ],
              "heatmapgl": [
               {
                "colorbar": {
                 "outlinewidth": 0,
                 "ticks": ""
                },
                "colorscale": [
                 [
                  0,
                  "#0d0887"
                 ],
                 [
                  0.1111111111111111,
                  "#46039f"
                 ],
                 [
                  0.2222222222222222,
                  "#7201a8"
                 ],
                 [
                  0.3333333333333333,
                  "#9c179e"
                 ],
                 [
                  0.4444444444444444,
                  "#bd3786"
                 ],
                 [
                  0.5555555555555556,
                  "#d8576b"
                 ],
                 [
                  0.6666666666666666,
                  "#ed7953"
                 ],
                 [
                  0.7777777777777778,
                  "#fb9f3a"
                 ],
                 [
                  0.8888888888888888,
                  "#fdca26"
                 ],
                 [
                  1,
                  "#f0f921"
                 ]
                ],
                "type": "heatmapgl"
               }
              ],
              "histogram": [
               {
                "marker": {
                 "colorbar": {
                  "outlinewidth": 0,
                  "ticks": ""
                 }
                },
                "type": "histogram"
               }
              ],
              "histogram2d": [
               {
                "colorbar": {
                 "outlinewidth": 0,
                 "ticks": ""
                },
                "colorscale": [
                 [
                  0,
                  "#0d0887"
                 ],
                 [
                  0.1111111111111111,
                  "#46039f"
                 ],
                 [
                  0.2222222222222222,
                  "#7201a8"
                 ],
                 [
                  0.3333333333333333,
                  "#9c179e"
                 ],
                 [
                  0.4444444444444444,
                  "#bd3786"
                 ],
                 [
                  0.5555555555555556,
                  "#d8576b"
                 ],
                 [
                  0.6666666666666666,
                  "#ed7953"
                 ],
                 [
                  0.7777777777777778,
                  "#fb9f3a"
                 ],
                 [
                  0.8888888888888888,
                  "#fdca26"
                 ],
                 [
                  1,
                  "#f0f921"
                 ]
                ],
                "type": "histogram2d"
               }
              ],
              "histogram2dcontour": [
               {
                "colorbar": {
                 "outlinewidth": 0,
                 "ticks": ""
                },
                "colorscale": [
                 [
                  0,
                  "#0d0887"
                 ],
                 [
                  0.1111111111111111,
                  "#46039f"
                 ],
                 [
                  0.2222222222222222,
                  "#7201a8"
                 ],
                 [
                  0.3333333333333333,
                  "#9c179e"
                 ],
                 [
                  0.4444444444444444,
                  "#bd3786"
                 ],
                 [
                  0.5555555555555556,
                  "#d8576b"
                 ],
                 [
                  0.6666666666666666,
                  "#ed7953"
                 ],
                 [
                  0.7777777777777778,
                  "#fb9f3a"
                 ],
                 [
                  0.8888888888888888,
                  "#fdca26"
                 ],
                 [
                  1,
                  "#f0f921"
                 ]
                ],
                "type": "histogram2dcontour"
               }
              ],
              "mesh3d": [
               {
                "colorbar": {
                 "outlinewidth": 0,
                 "ticks": ""
                },
                "type": "mesh3d"
               }
              ],
              "parcoords": [
               {
                "line": {
                 "colorbar": {
                  "outlinewidth": 0,
                  "ticks": ""
                 }
                },
                "type": "parcoords"
               }
              ],
              "pie": [
               {
                "automargin": true,
                "type": "pie"
               }
              ],
              "scatter": [
               {
                "marker": {
                 "colorbar": {
                  "outlinewidth": 0,
                  "ticks": ""
                 }
                },
                "type": "scatter"
               }
              ],
              "scatter3d": [
               {
                "line": {
                 "colorbar": {
                  "outlinewidth": 0,
                  "ticks": ""
                 }
                },
                "marker": {
                 "colorbar": {
                  "outlinewidth": 0,
                  "ticks": ""
                 }
                },
                "type": "scatter3d"
               }
              ],
              "scattercarpet": [
               {
                "marker": {
                 "colorbar": {
                  "outlinewidth": 0,
                  "ticks": ""
                 }
                },
                "type": "scattercarpet"
               }
              ],
              "scattergeo": [
               {
                "marker": {
                 "colorbar": {
                  "outlinewidth": 0,
                  "ticks": ""
                 }
                },
                "type": "scattergeo"
               }
              ],
              "scattergl": [
               {
                "marker": {
                 "colorbar": {
                  "outlinewidth": 0,
                  "ticks": ""
                 }
                },
                "type": "scattergl"
               }
              ],
              "scattermapbox": [
               {
                "marker": {
                 "colorbar": {
                  "outlinewidth": 0,
                  "ticks": ""
                 }
                },
                "type": "scattermapbox"
               }
              ],
              "scatterpolar": [
               {
                "marker": {
                 "colorbar": {
                  "outlinewidth": 0,
                  "ticks": ""
                 }
                },
                "type": "scatterpolar"
               }
              ],
              "scatterpolargl": [
               {
                "marker": {
                 "colorbar": {
                  "outlinewidth": 0,
                  "ticks": ""
                 }
                },
                "type": "scatterpolargl"
               }
              ],
              "scatterternary": [
               {
                "marker": {
                 "colorbar": {
                  "outlinewidth": 0,
                  "ticks": ""
                 }
                },
                "type": "scatterternary"
               }
              ],
              "surface": [
               {
                "colorbar": {
                 "outlinewidth": 0,
                 "ticks": ""
                },
                "colorscale": [
                 [
                  0,
                  "#0d0887"
                 ],
                 [
                  0.1111111111111111,
                  "#46039f"
                 ],
                 [
                  0.2222222222222222,
                  "#7201a8"
                 ],
                 [
                  0.3333333333333333,
                  "#9c179e"
                 ],
                 [
                  0.4444444444444444,
                  "#bd3786"
                 ],
                 [
                  0.5555555555555556,
                  "#d8576b"
                 ],
                 [
                  0.6666666666666666,
                  "#ed7953"
                 ],
                 [
                  0.7777777777777778,
                  "#fb9f3a"
                 ],
                 [
                  0.8888888888888888,
                  "#fdca26"
                 ],
                 [
                  1,
                  "#f0f921"
                 ]
                ],
                "type": "surface"
               }
              ],
              "table": [
               {
                "cells": {
                 "fill": {
                  "color": "#EBF0F8"
                 },
                 "line": {
                  "color": "white"
                 }
                },
                "header": {
                 "fill": {
                  "color": "#C8D4E3"
                 },
                 "line": {
                  "color": "white"
                 }
                },
                "type": "table"
               }
              ]
             },
             "layout": {
              "annotationdefaults": {
               "arrowcolor": "#2a3f5f",
               "arrowhead": 0,
               "arrowwidth": 1
              },
              "autotypenumbers": "strict",
              "coloraxis": {
               "colorbar": {
                "outlinewidth": 0,
                "ticks": ""
               }
              },
              "colorscale": {
               "diverging": [
                [
                 0,
                 "#8e0152"
                ],
                [
                 0.1,
                 "#c51b7d"
                ],
                [
                 0.2,
                 "#de77ae"
                ],
                [
                 0.3,
                 "#f1b6da"
                ],
                [
                 0.4,
                 "#fde0ef"
                ],
                [
                 0.5,
                 "#f7f7f7"
                ],
                [
                 0.6,
                 "#e6f5d0"
                ],
                [
                 0.7,
                 "#b8e186"
                ],
                [
                 0.8,
                 "#7fbc41"
                ],
                [
                 0.9,
                 "#4d9221"
                ],
                [
                 1,
                 "#276419"
                ]
               ],
               "sequential": [
                [
                 0,
                 "#0d0887"
                ],
                [
                 0.1111111111111111,
                 "#46039f"
                ],
                [
                 0.2222222222222222,
                 "#7201a8"
                ],
                [
                 0.3333333333333333,
                 "#9c179e"
                ],
                [
                 0.4444444444444444,
                 "#bd3786"
                ],
                [
                 0.5555555555555556,
                 "#d8576b"
                ],
                [
                 0.6666666666666666,
                 "#ed7953"
                ],
                [
                 0.7777777777777778,
                 "#fb9f3a"
                ],
                [
                 0.8888888888888888,
                 "#fdca26"
                ],
                [
                 1,
                 "#f0f921"
                ]
               ],
               "sequentialminus": [
                [
                 0,
                 "#0d0887"
                ],
                [
                 0.1111111111111111,
                 "#46039f"
                ],
                [
                 0.2222222222222222,
                 "#7201a8"
                ],
                [
                 0.3333333333333333,
                 "#9c179e"
                ],
                [
                 0.4444444444444444,
                 "#bd3786"
                ],
                [
                 0.5555555555555556,
                 "#d8576b"
                ],
                [
                 0.6666666666666666,
                 "#ed7953"
                ],
                [
                 0.7777777777777778,
                 "#fb9f3a"
                ],
                [
                 0.8888888888888888,
                 "#fdca26"
                ],
                [
                 1,
                 "#f0f921"
                ]
               ]
              },
              "colorway": [
               "#636efa",
               "#EF553B",
               "#00cc96",
               "#ab63fa",
               "#FFA15A",
               "#19d3f3",
               "#FF6692",
               "#B6E880",
               "#FF97FF",
               "#FECB52"
              ],
              "font": {
               "color": "#2a3f5f"
              },
              "geo": {
               "bgcolor": "white",
               "lakecolor": "white",
               "landcolor": "#E5ECF6",
               "showlakes": true,
               "showland": true,
               "subunitcolor": "white"
              },
              "hoverlabel": {
               "align": "left"
              },
              "hovermode": "closest",
              "mapbox": {
               "style": "light"
              },
              "paper_bgcolor": "white",
              "plot_bgcolor": "#E5ECF6",
              "polar": {
               "angularaxis": {
                "gridcolor": "white",
                "linecolor": "white",
                "ticks": ""
               },
               "bgcolor": "#E5ECF6",
               "radialaxis": {
                "gridcolor": "white",
                "linecolor": "white",
                "ticks": ""
               }
              },
              "scene": {
               "xaxis": {
                "backgroundcolor": "#E5ECF6",
                "gridcolor": "white",
                "gridwidth": 2,
                "linecolor": "white",
                "showbackground": true,
                "ticks": "",
                "zerolinecolor": "white"
               },
               "yaxis": {
                "backgroundcolor": "#E5ECF6",
                "gridcolor": "white",
                "gridwidth": 2,
                "linecolor": "white",
                "showbackground": true,
                "ticks": "",
                "zerolinecolor": "white"
               },
               "zaxis": {
                "backgroundcolor": "#E5ECF6",
                "gridcolor": "white",
                "gridwidth": 2,
                "linecolor": "white",
                "showbackground": true,
                "ticks": "",
                "zerolinecolor": "white"
               }
              },
              "shapedefaults": {
               "line": {
                "color": "#2a3f5f"
               }
              },
              "ternary": {
               "aaxis": {
                "gridcolor": "white",
                "linecolor": "white",
                "ticks": ""
               },
               "baxis": {
                "gridcolor": "white",
                "linecolor": "white",
                "ticks": ""
               },
               "bgcolor": "#E5ECF6",
               "caxis": {
                "gridcolor": "white",
                "linecolor": "white",
                "ticks": ""
               }
              },
              "title": {
               "x": 0.05
              },
              "xaxis": {
               "automargin": true,
               "gridcolor": "white",
               "linecolor": "white",
               "ticks": "",
               "title": {
                "standoff": 15
               },
               "zerolinecolor": "white",
               "zerolinewidth": 2
              },
              "yaxis": {
               "automargin": true,
               "gridcolor": "white",
               "linecolor": "white",
               "ticks": "",
               "title": {
                "standoff": 15
               },
               "zerolinecolor": "white",
               "zerolinewidth": 2
              }
             }
            },
            "title": {
             "text": "Covid-19 Cases Timeseries"
            },
            "xaxis": {
             "title": {
              "text": "Date"
             }
            },
            "yaxis": {
             "title": {
              "text": "Country"
             }
            }
           }
          },
          "text/html": "<div>                            <div id=\"3c3de428-d863-4c81-9f30-3dd10d91f322\" class=\"plotly-graph-div\" style=\"height:525px; width:100%;\"></div>            <script type=\"text/javascript\">                require([\"plotly\"], function(Plotly) {                    window.PLOTLYENV=window.PLOTLYENV || {};                                    if (document.getElementById(\"3c3de428-d863-4c81-9f30-3dd10d91f322\")) {                    Plotly.newPlot(                        \"3c3de428-d863-4c81-9f30-3dd10d91f322\",                        [{\"connectgaps\": true, \"line\": {\"color\": \"blue\", \"width\": 1}, \"mode\": \"lines+markers\", \"name\": \"confirmed\", \"text\": \"Total confirmed: 53775\", \"type\": \"scatter\", \"x\": [\"1/23/20\", \"1/24/20\", \"1/25/20\", \"1/26/20\", \"1/27/20\", \"1/28/20\", \"1/29/20\", \"1/30/20\", \"1/31/20\", \"2/1/20\", \"2/2/20\", \"2/3/20\", \"2/4/20\", \"2/5/20\", \"2/6/20\", \"2/7/20\", \"2/8/20\", \"2/9/20\", \"2/10/20\", \"2/11/20\", \"2/12/20\", \"2/13/20\", \"2/14/20\", \"2/15/20\", \"2/16/20\", \"2/17/20\", \"2/18/20\", \"2/19/20\", \"2/20/20\", \"2/21/20\", \"2/22/20\", \"2/23/20\", \"2/24/20\", \"2/25/20\", \"2/26/20\", \"2/27/20\", \"2/28/20\", \"2/29/20\", \"3/1/20\", \"3/2/20\", \"3/3/20\", \"3/4/20\", \"3/5/20\", \"3/6/20\", \"3/7/20\", \"3/8/20\", \"3/9/20\", \"3/10/20\", \"3/11/20\", \"3/12/20\", \"3/13/20\", \"3/14/20\", \"3/15/20\", \"3/16/20\", \"3/17/20\", \"3/18/20\", \"3/19/20\", \"3/20/20\", \"3/21/20\", \"3/22/20\", \"3/23/20\", \"3/24/20\", \"3/25/20\", \"3/26/20\", \"3/27/20\", \"3/28/20\", \"3/29/20\", \"3/30/20\", \"3/31/20\", \"4/1/20\", \"4/2/20\", \"4/3/20\", \"4/4/20\", \"4/5/20\", \"4/6/20\", \"4/7/20\", \"4/8/20\", \"4/9/20\", \"4/10/20\", \"4/11/20\", \"4/12/20\", \"4/13/20\", \"4/14/20\", \"4/15/20\", \"4/16/20\", \"4/17/20\", \"4/18/20\", \"4/19/20\", \"4/20/20\", \"4/21/20\", \"4/22/20\", \"4/23/20\", \"4/24/20\", \"4/25/20\", \"4/26/20\", \"4/27/20\", \"4/28/20\", \"4/29/20\", \"4/30/20\", \"5/1/20\", \"5/2/20\", \"5/3/20\", \"5/4/20\", \"5/5/20\", \"5/6/20\", \"5/7/20\", \"5/8/20\", \"5/9/20\", \"5/10/20\", \"5/11/20\", \"5/12/20\", \"5/13/20\", \"5/14/20\", \"5/15/20\", \"5/16/20\", \"5/17/20\", \"5/18/20\", \"5/19/20\", \"5/20/20\", \"5/21/20\", \"5/22/20\", \"5/23/20\", \"5/24/20\", \"5/25/20\", \"5/26/20\", \"5/27/20\", \"5/28/20\", \"5/29/20\", \"5/30/20\", \"5/31/20\", \"6/1/20\", \"6/2/20\", \"6/3/20\", \"6/4/20\", \"6/5/20\", \"6/6/20\", \"6/7/20\", \"6/8/20\", \"6/9/20\", \"6/10/20\", \"6/11/20\", \"6/12/20\", \"6/13/20\", \"6/14/20\", \"6/15/20\", \"6/16/20\", \"6/17/20\", \"6/18/20\", \"6/19/20\", \"6/20/20\", \"6/21/20\", \"6/22/20\", \"6/23/20\", \"6/24/20\", \"6/25/20\", \"6/26/20\", \"6/27/20\", \"6/28/20\", \"6/29/20\", \"6/30/20\", \"7/1/20\", \"7/2/20\", \"7/3/20\", \"7/4/20\", \"7/5/20\", \"7/6/20\", \"7/7/20\", \"7/8/20\", \"7/9/20\", \"7/10/20\", \"7/11/20\", \"7/12/20\", \"7/13/20\", \"7/14/20\", \"7/15/20\", \"7/16/20\", \"7/17/20\", \"7/18/20\", \"7/19/20\", \"7/20/20\", \"7/21/20\", \"7/22/20\", \"7/23/20\", \"7/24/20\", \"7/25/20\", \"7/26/20\", \"7/27/20\", \"7/28/20\", \"7/29/20\", \"7/30/20\", \"7/31/20\", \"8/1/20\", \"8/2/20\", \"8/3/20\", \"8/4/20\", \"8/5/20\", \"8/6/20\", \"8/7/20\", \"8/8/20\", \"8/9/20\", \"8/10/20\", \"8/11/20\", \"8/12/20\", \"8/13/20\", \"8/14/20\", \"8/15/20\", \"8/16/20\", \"8/17/20\", \"8/18/20\", \"8/19/20\", \"8/20/20\", \"8/21/20\", \"8/22/20\", \"8/23/20\", \"8/24/20\", \"8/25/20\", \"8/26/20\", \"8/27/20\", \"8/28/20\", \"8/29/20\", \"8/30/20\", \"8/31/20\", \"9/1/20\", \"9/2/20\", \"9/3/20\", \"9/4/20\", \"9/5/20\", \"9/6/20\", \"9/7/20\", \"9/8/20\", \"9/9/20\", \"9/10/20\", \"9/11/20\", \"9/12/20\", \"9/13/20\", \"9/14/20\", \"9/15/20\", \"9/16/20\", \"9/17/20\", \"9/18/20\", \"9/19/20\", \"9/20/20\", \"9/21/20\", \"9/22/20\", \"9/23/20\", \"9/24/20\", \"9/25/20\", \"9/26/20\", \"9/27/20\", \"9/28/20\", \"9/29/20\", \"9/30/20\", \"10/1/20\", \"10/2/20\", \"10/3/20\", \"10/4/20\", \"10/5/20\", \"10/6/20\", \"10/7/20\", \"10/8/20\", \"10/9/20\", \"10/10/20\", \"10/11/20\", \"10/12/20\", \"10/13/20\", \"10/14/20\", \"10/15/20\", \"10/16/20\", \"10/17/20\", \"10/18/20\", \"10/19/20\", \"10/20/20\", \"10/21/20\", \"10/22/20\", \"10/23/20\", \"10/24/20\", \"10/25/20\", \"10/26/20\", \"10/27/20\", \"10/28/20\", \"10/29/20\", \"10/30/20\", \"10/31/20\", \"11/1/20\", \"11/2/20\", \"11/3/20\", \"11/4/20\", \"11/5/20\", \"11/6/20\", \"11/7/20\", \"11/8/20\", \"11/9/20\", \"11/10/20\", \"11/11/20\", \"11/12/20\", \"11/13/20\", \"11/14/20\", \"11/15/20\", \"11/16/20\", \"11/17/20\", \"11/18/20\", \"11/19/20\", \"11/20/20\", \"11/21/20\", \"11/22/20\", \"11/23/20\", \"11/24/20\", \"11/25/20\", \"11/26/20\", \"11/27/20\", \"11/28/20\", \"11/29/20\", \"11/30/20\", \"12/1/20\", \"12/2/20\", \"12/3/20\", \"12/4/20\", \"12/5/20\", \"12/6/20\", \"12/7/20\", \"12/8/20\", \"12/9/20\", \"12/10/20\", \"12/11/20\", \"12/12/20\", \"12/13/20\", \"12/14/20\", \"12/15/20\", \"12/16/20\", \"12/17/20\", \"12/18/20\", \"12/19/20\", \"12/20/20\", \"12/21/20\", \"12/22/20\", \"12/23/20\", \"12/24/20\", \"12/25/20\", \"12/26/20\", \"12/27/20\", \"12/28/20\", \"12/29/20\", \"12/30/20\", \"12/31/20\", \"1/1/21\", \"1/2/21\", \"1/3/21\", \"1/4/21\", \"1/5/21\", \"1/6/21\", \"1/7/21\", \"1/8/21\", \"1/9/21\", \"1/10/21\", \"1/11/21\", \"1/12/21\", \"1/13/21\", \"1/14/21\"], \"y\": [0, 0, 0, 0, 0, 0, 0, 0, 0, 0, 0, 0, 0, 0, 0, 0, 0, 0, 0, 0, 0, 0, 0, 0, 0, 0, 0, 0, 0, 0, 0, 0, 1, 1, 1, 1, 1, 1, 1, 1, 2, 4, 4, 4, 4, 5, 7, 8, 11, 12, 13, 15, 16, 18, 20, 24, 25, 29, 30, 34, 41, 43, 76, 80, 91, 107, 118, 146, 175, 197, 240, 275, 300, 338, 368, 424, 445, 485, 532, 556, 608, 666, 715, 785, 841, 907, 934, 997, 1027, 1093, 1177, 1236, 1331, 1464, 1532, 1704, 1830, 1940, 2127, 2291, 2470, 2705, 2895, 3225, 3393, 3564, 3781, 4042, 4403, 4687, 4968, 5227, 5640, 6054, 6403, 6665, 7073, 7654, 8146, 8677, 9219, 10001, 10585, 11176, 11834, 12459, 13039, 13662, 14528, 15208, 15753, 16512, 17270, 18057, 18972, 19554, 20345, 20920, 21462, 22146, 22894, 23550, 24106, 24770, 25531, 26314, 26878, 27536, 27882, 28428, 28837, 29147, 29471, 29705, 30165, 30441, 30606, 30957, 31228, 31507, 31826, 32012, 32314, 32662, 32941, 33180, 33374, 33584, 33898, 34184, 34356, 34441, 34595, 34730, 34984, 35060, 35219, 35279, 35453, 35493, 35605, 35717, 35918, 35978, 36026, 36147, 36253, 36358, 36463, 36532, 36665, 36700, 36701, 36737, 36773, 36820, 36928, 37006, 37046, 37083, 37153, 37260, 37336, 37422, 37497, 37542, 37590, 37667, 37710, 37750, 37852, 37885, 37944, 37990, 38045, 38061, 38103, 38119, 38130, 38133, 38155, 38159, 38193, 38243, 38288, 38304, 38324, 38398, 38494, 38520, 38544, 38572, 38606, 38641, 38716, 38772, 38815, 38855, 38872, 38897, 38919, 39044, 39074, 39096, 39145, 39170, 39186, 39192, 39227, 39239, 39254, 39268, 39285, 39290, 39297, 39341, 39422, 39486, 39548, 39616, 39693, 39703, 39799, 39870, 39928, 39994, 40026, 40088, 40141, 40200, 40287, 40369, 40510, 40626, 40687, 40768, 40833, 40937, 41032, 41145, 41268, 41334, 41425, 41501, 41633, 41728, 41814, 41935, 41975, 42033, 42159, 42297, 42463, 42609, 42795, 42969, 43035, 43240, 43468, 43681, 43924, 44177, 44363, 44503, 44706, 44988, 45174, 45384, 45600, 45723, 45844, 46116, 46274, 46516, 46718, 46837, 46837, 47072, 47306, 47516, 47716, 47851, 48053, 48116, 48229, 48527, 48718, 48952, 49161, 49378, 49621, 49681, 49817, 50013, 50190, 50433, 50655, 50810, 50886, 51039, 51280, 51350, 51405, 51526, 51526, 51526, 51526, 53011, 53105, 53105, 53207, 53332, 53400, 53489, 53538, 53584, 53584, 53775]}, {\"connectgaps\": true, \"line\": {\"color\": \"red\", \"width\": 1}, \"mode\": \"lines+markers\", \"name\": \"deaths\", \"text\": \"Total deaths: 2314\", \"type\": \"scatter\", \"x\": [\"1/23/20\", \"1/24/20\", \"1/25/20\", \"1/26/20\", \"1/27/20\", \"1/28/20\", \"1/29/20\", \"1/30/20\", \"1/31/20\", \"2/1/20\", \"2/2/20\", \"2/3/20\", \"2/4/20\", \"2/5/20\", \"2/6/20\", \"2/7/20\", \"2/8/20\", \"2/9/20\", \"2/10/20\", \"2/11/20\", \"2/12/20\", \"2/13/20\", \"2/14/20\", \"2/15/20\", \"2/16/20\", \"2/17/20\", \"2/18/20\", \"2/19/20\", \"2/20/20\", \"2/21/20\", \"2/22/20\", \"2/23/20\", \"2/24/20\", \"2/25/20\", \"2/26/20\", \"2/27/20\", \"2/28/20\", \"2/29/20\", \"3/1/20\", \"3/2/20\", \"3/3/20\", \"3/4/20\", \"3/5/20\", \"3/6/20\", \"3/7/20\", \"3/8/20\", \"3/9/20\", \"3/10/20\", \"3/11/20\", \"3/12/20\", \"3/13/20\", \"3/14/20\", \"3/15/20\", \"3/16/20\", \"3/17/20\", \"3/18/20\", \"3/19/20\", \"3/20/20\", \"3/21/20\", \"3/22/20\", \"3/23/20\", \"3/24/20\", \"3/25/20\", \"3/26/20\", \"3/27/20\", \"3/28/20\", \"3/29/20\", \"3/30/20\", \"3/31/20\", \"4/1/20\", \"4/2/20\", \"4/3/20\", \"4/4/20\", \"4/5/20\", \"4/6/20\", \"4/7/20\", \"4/8/20\", \"4/9/20\", \"4/10/20\", \"4/11/20\", \"4/12/20\", \"4/13/20\", \"4/14/20\", \"4/15/20\", \"4/16/20\", \"4/17/20\", \"4/18/20\", \"4/19/20\", \"4/20/20\", \"4/21/20\", \"4/22/20\", \"4/23/20\", \"4/24/20\", \"4/25/20\", \"4/26/20\", \"4/27/20\", \"4/28/20\", \"4/29/20\", \"4/30/20\", \"5/1/20\", \"5/2/20\", \"5/3/20\", \"5/4/20\", \"5/5/20\", \"5/6/20\", \"5/7/20\", \"5/8/20\", \"5/9/20\", \"5/10/20\", \"5/11/20\", \"5/12/20\", \"5/13/20\", \"5/14/20\", \"5/15/20\", \"5/16/20\", \"5/17/20\", \"5/18/20\", \"5/19/20\", \"5/20/20\", \"5/21/20\", \"5/22/20\", \"5/23/20\", \"5/24/20\", \"5/25/20\", \"5/26/20\", \"5/27/20\", \"5/28/20\", \"5/29/20\", \"5/30/20\", \"5/31/20\", \"6/1/20\", \"6/2/20\", \"6/3/20\", \"6/4/20\", \"6/5/20\", \"6/6/20\", \"6/7/20\", \"6/8/20\", \"6/9/20\", \"6/10/20\", \"6/11/20\", \"6/12/20\", \"6/13/20\", \"6/14/20\", \"6/15/20\", \"6/16/20\", \"6/17/20\", \"6/18/20\", \"6/19/20\", \"6/20/20\", \"6/21/20\", \"6/22/20\", \"6/23/20\", \"6/24/20\", \"6/25/20\", \"6/26/20\", \"6/27/20\", \"6/28/20\", \"6/29/20\", \"6/30/20\", \"7/1/20\", \"7/2/20\", \"7/3/20\", \"7/4/20\", \"7/5/20\", \"7/6/20\", \"7/7/20\", \"7/8/20\", \"7/9/20\", \"7/10/20\", \"7/11/20\", \"7/12/20\", \"7/13/20\", \"7/14/20\", \"7/15/20\", \"7/16/20\", \"7/17/20\", \"7/18/20\", \"7/19/20\", \"7/20/20\", \"7/21/20\", \"7/22/20\", \"7/23/20\", \"7/24/20\", \"7/25/20\", \"7/26/20\", \"7/27/20\", \"7/28/20\", \"7/29/20\", \"7/30/20\", \"7/31/20\", \"8/1/20\", \"8/2/20\", \"8/3/20\", \"8/4/20\", \"8/5/20\", \"8/6/20\", \"8/7/20\", \"8/8/20\", \"8/9/20\", \"8/10/20\", \"8/11/20\", \"8/12/20\", \"8/13/20\", \"8/14/20\", \"8/15/20\", \"8/16/20\", \"8/17/20\", \"8/18/20\", \"8/19/20\", \"8/20/20\", \"8/21/20\", \"8/22/20\", \"8/23/20\", \"8/24/20\", \"8/25/20\", \"8/26/20\", \"8/27/20\", \"8/28/20\", \"8/29/20\", \"8/30/20\", \"8/31/20\", \"9/1/20\", \"9/2/20\", \"9/3/20\", \"9/4/20\", \"9/5/20\", \"9/6/20\", \"9/7/20\", \"9/8/20\", \"9/9/20\", \"9/10/20\", \"9/11/20\", \"9/12/20\", \"9/13/20\", \"9/14/20\", \"9/15/20\", \"9/16/20\", \"9/17/20\", \"9/18/20\", \"9/19/20\", \"9/20/20\", \"9/21/20\", \"9/22/20\", \"9/23/20\", \"9/24/20\", \"9/25/20\", \"9/26/20\", \"9/27/20\", \"9/28/20\", \"9/29/20\", \"9/30/20\", \"10/1/20\", \"10/2/20\", \"10/3/20\", \"10/4/20\", \"10/5/20\", \"10/6/20\", \"10/7/20\", \"10/8/20\", \"10/9/20\", \"10/10/20\", \"10/11/20\", \"10/12/20\", \"10/13/20\", \"10/14/20\", \"10/15/20\", \"10/16/20\", \"10/17/20\", \"10/18/20\", \"10/19/20\", \"10/20/20\", \"10/21/20\", \"10/22/20\", \"10/23/20\", \"10/24/20\", \"10/25/20\", \"10/26/20\", \"10/27/20\", \"10/28/20\", \"10/29/20\", \"10/30/20\", \"10/31/20\", \"11/1/20\", \"11/2/20\", \"11/3/20\", \"11/4/20\", \"11/5/20\", \"11/6/20\", \"11/7/20\", \"11/8/20\", \"11/9/20\", \"11/10/20\", \"11/11/20\", \"11/12/20\", \"11/13/20\", \"11/14/20\", \"11/15/20\", \"11/16/20\", \"11/17/20\", \"11/18/20\", \"11/19/20\", \"11/20/20\", \"11/21/20\", \"11/22/20\", \"11/23/20\", \"11/24/20\", \"11/25/20\", \"11/26/20\", \"11/27/20\", \"11/28/20\", \"11/29/20\", \"11/30/20\", \"12/1/20\", \"12/2/20\", \"12/3/20\", \"12/4/20\", \"12/5/20\", \"12/6/20\", \"12/7/20\", \"12/8/20\", \"12/9/20\", \"12/10/20\", \"12/11/20\", \"12/12/20\", \"12/13/20\", \"12/14/20\", \"12/15/20\", \"12/16/20\", \"12/17/20\", \"12/18/20\", \"12/19/20\", \"12/20/20\", \"12/21/20\", \"12/22/20\", \"12/23/20\", \"12/24/20\", \"12/25/20\", \"12/26/20\", \"12/27/20\", \"12/28/20\", \"12/29/20\", \"12/30/20\", \"12/31/20\", \"1/1/21\", \"1/2/21\", \"1/3/21\", \"1/4/21\", \"1/5/21\", \"1/6/21\", \"1/7/21\", \"1/8/21\", \"1/9/21\", \"1/10/21\", \"1/11/21\", \"1/12/21\", \"1/13/21\", \"1/14/21\"], \"y\": [0, 0, 0, 0, 0, 0, 0, 0, 0, 0, 0, 0, 0, 0, 0, 0, 0, 0, 0, 0, 0, 0, 0, 0, 0, 0, 0, 0, 0, 0, 0, 0, 0, 0, 0, 0, 0, 0, 0, 0, 0, 0, 0, 0, 0, 0, 0, 0, 0, 0, 0, 0, 0, 0, 0, 0, 0, 0, 0, 1, 1, 1, 2, 3, 3, 4, 4, 4, 4, 4, 4, 8, 10, 12, 15, 16, 16, 17, 18, 18, 19, 22, 23, 29, 30, 30, 30, 33, 36, 36, 40, 40, 43, 47, 52, 58, 59, 61, 64, 68, 72, 85, 90, 95, 104, 106, 109, 115, 120, 122, 127, 132, 136, 153, 168, 170, 173, 178, 188, 194, 206, 217, 219, 220, 221, 228, 236, 247, 250, 258, 266, 274, 298, 304, 313, 331, 361, 373, 388, 409, 430, 450, 455, 475, 482, 495, 508, 550, 552, 573, 585, 597, 617, 638, 674, 682, 716, 728, 740, 752, 780, 809, 821, 828, 866, 900, 922, 939, 959, 973, 996, 1012, 1040, 1064, 1096, 1117, 1149, 1166, 1183, 1185, 1188, 1192, 1213, 1227, 1249, 1261, 1271, 1272, 1273, 1283, 1284, 1285, 1286, 1290, 1290, 1296, 1301, 1310, 1315, 1321, 1329, 1346, 1356, 1365, 1370, 1371, 1376, 1378, 1382, 1384, 1386, 1386, 1386, 1388, 1390, 1398, 1402, 1402, 1403, 1403, 1403, 1403, 1407, 1410, 1410, 1410, 1410, 1413, 1416, 1419, 1421, 1421, 1421, 1421, 1421, 1427, 1428, 1438, 1438, 1439, 1439, 1443, 1446, 1447, 1448, 1453, 1453, 1455, 1455, 1458, 1460, 1460, 1460, 1460, 1464, 1464, 1468, 1469, 1471, 1472, 1474, 1475, 1479, 1481, 1482, 1483, 1483, 1487, 1490, 1494, 1499, 1501, 1503, 1507, 1509, 1513, 1516, 1520, 1525, 1531, 1534, 1535, 1538, 1538, 1544, 1547, 1551, 1557, 1557, 1559, 1565, 1577, 1580, 1584, 1594, 1598, 1608, 1620, 1635, 1641, 1648, 1653, 1666, 1678, 1690, 1702, 1715, 1728, 1737, 1740, 1752, 1774, 1795, 1822, 1841, 1846, 1846, 1864, 1874, 1900, 1906, 1919, 1935, 1945, 1956, 1965, 1969, 1995, 2011, 2025, 2030, 2047, 2067, 2082, 2096, 2117, 2126, 2139, 2149, 2160, 2174, 2179, 2181, 2191, 2191, 2191, 2191, 2237, 2244, 2244, 2253, 2257, 2264, 2277, 2288, 2301, 2301, 2314]}, {\"connectgaps\": true, \"line\": {\"color\": \"green\", \"width\": 1}, \"mode\": \"lines+markers\", \"name\": \"recovered\", \"text\": \"Total recovered: 45298\", \"type\": \"scatter\", \"x\": [\"1/23/20\", \"1/24/20\", \"1/25/20\", \"1/26/20\", \"1/27/20\", \"1/28/20\", \"1/29/20\", \"1/30/20\", \"1/31/20\", \"2/1/20\", \"2/2/20\", \"2/3/20\", \"2/4/20\", \"2/5/20\", \"2/6/20\", \"2/7/20\", \"2/8/20\", \"2/9/20\", \"2/10/20\", \"2/11/20\", \"2/12/20\", \"2/13/20\", \"2/14/20\", \"2/15/20\", \"2/16/20\", \"2/17/20\", \"2/18/20\", \"2/19/20\", \"2/20/20\", \"2/21/20\", \"2/22/20\", \"2/23/20\", \"2/24/20\", \"2/25/20\", \"2/26/20\", \"2/27/20\", \"2/28/20\", \"2/29/20\", \"3/1/20\", \"3/2/20\", \"3/3/20\", \"3/4/20\", \"3/5/20\", \"3/6/20\", \"3/7/20\", \"3/8/20\", \"3/9/20\", \"3/10/20\", \"3/11/20\", \"3/12/20\", \"3/13/20\", \"3/14/20\", \"3/15/20\", \"3/16/20\", \"3/17/20\", \"3/18/20\", \"3/19/20\", \"3/20/20\", \"3/21/20\", \"3/22/20\", \"3/23/20\", \"3/24/20\", \"3/25/20\", \"3/26/20\", \"3/27/20\", \"3/28/20\", \"3/29/20\", \"3/30/20\", \"3/31/20\", \"4/1/20\", \"4/2/20\", \"4/3/20\", \"4/4/20\", \"4/5/20\", \"4/6/20\", \"4/7/20\", \"4/8/20\", \"4/9/20\", \"4/10/20\", \"4/11/20\", \"4/12/20\", \"4/13/20\", \"4/14/20\", \"4/15/20\", \"4/16/20\", \"4/17/20\", \"4/18/20\", \"4/19/20\", \"4/20/20\", \"4/21/20\", \"4/22/20\", \"4/23/20\", \"4/24/20\", \"4/25/20\", \"4/26/20\", \"4/27/20\", \"4/28/20\", \"4/29/20\", \"4/30/20\", \"5/1/20\", \"5/2/20\", \"5/3/20\", \"5/4/20\", \"5/5/20\", \"5/6/20\", \"5/7/20\", \"5/8/20\", \"5/9/20\", \"5/10/20\", \"5/11/20\", \"5/12/20\", \"5/13/20\", \"5/14/20\", \"5/15/20\", \"5/16/20\", \"5/17/20\", \"5/18/20\", \"5/19/20\", \"5/20/20\", \"5/21/20\", \"5/22/20\", \"5/23/20\", \"5/24/20\", \"5/25/20\", \"5/26/20\", \"5/27/20\", \"5/28/20\", \"5/29/20\", \"5/30/20\", \"5/31/20\", \"6/1/20\", \"6/2/20\", \"6/3/20\", \"6/4/20\", \"6/5/20\", \"6/6/20\", \"6/7/20\", \"6/8/20\", \"6/9/20\", \"6/10/20\", \"6/11/20\", \"6/12/20\", \"6/13/20\", \"6/14/20\", \"6/15/20\", \"6/16/20\", \"6/17/20\", \"6/18/20\", \"6/19/20\", \"6/20/20\", \"6/21/20\", \"6/22/20\", \"6/23/20\", \"6/24/20\", \"6/25/20\", \"6/26/20\", \"6/27/20\", \"6/28/20\", \"6/29/20\", \"6/30/20\", \"7/1/20\", \"7/2/20\", \"7/3/20\", \"7/4/20\", \"7/5/20\", \"7/6/20\", \"7/7/20\", \"7/8/20\", \"7/9/20\", \"7/10/20\", \"7/11/20\", \"7/12/20\", \"7/13/20\", \"7/14/20\", \"7/15/20\", \"7/16/20\", \"7/17/20\", \"7/18/20\", \"7/19/20\", \"7/20/20\", \"7/21/20\", \"7/22/20\", \"7/23/20\", \"7/24/20\", \"7/25/20\", \"7/26/20\", \"7/27/20\", \"7/28/20\", \"7/29/20\", \"7/30/20\", \"7/31/20\", \"8/1/20\", \"8/2/20\", \"8/3/20\", \"8/4/20\", \"8/5/20\", \"8/6/20\", \"8/7/20\", \"8/8/20\", \"8/9/20\", \"8/10/20\", \"8/11/20\", \"8/12/20\", \"8/13/20\", \"8/14/20\", \"8/15/20\", \"8/16/20\", \"8/17/20\", \"8/18/20\", \"8/19/20\", \"8/20/20\", \"8/21/20\", \"8/22/20\", \"8/23/20\", \"8/24/20\", \"8/25/20\", \"8/26/20\", \"8/27/20\", \"8/28/20\", \"8/29/20\", \"8/30/20\", \"8/31/20\", \"9/1/20\", \"9/2/20\", \"9/3/20\", \"9/4/20\", \"9/5/20\", \"9/6/20\", \"9/7/20\", \"9/8/20\", \"9/9/20\", \"9/10/20\", \"9/11/20\", \"9/12/20\", \"9/13/20\", \"9/14/20\", \"9/15/20\", \"9/16/20\", \"9/17/20\", \"9/18/20\", \"9/19/20\", \"9/20/20\", \"9/21/20\", \"9/22/20\", \"9/23/20\", \"9/24/20\", \"9/25/20\", \"9/26/20\", \"9/27/20\", \"9/28/20\", \"9/29/20\", \"9/30/20\", \"10/1/20\", \"10/2/20\", \"10/3/20\", \"10/4/20\", \"10/5/20\", \"10/6/20\", \"10/7/20\", \"10/8/20\", \"10/9/20\", \"10/10/20\", \"10/11/20\", \"10/12/20\", \"10/13/20\", \"10/14/20\", \"10/15/20\", \"10/16/20\", \"10/17/20\", \"10/18/20\", \"10/19/20\", \"10/20/20\", \"10/21/20\", \"10/22/20\", \"10/23/20\", \"10/24/20\", \"10/25/20\", \"10/26/20\", \"10/27/20\", \"10/28/20\", \"10/29/20\", \"10/30/20\", \"10/31/20\", \"11/1/20\", \"11/2/20\", \"11/3/20\", \"11/4/20\", \"11/5/20\", \"11/6/20\", \"11/7/20\", \"11/8/20\", \"11/9/20\", \"11/10/20\", \"11/11/20\", \"11/12/20\", \"11/13/20\", \"11/14/20\", \"11/15/20\", \"11/16/20\", \"11/17/20\", \"11/18/20\", \"11/19/20\", \"11/20/20\", \"11/21/20\", \"11/22/20\", \"11/23/20\", \"11/24/20\", \"11/25/20\", \"11/26/20\", \"11/27/20\", \"11/28/20\", \"11/29/20\", \"11/30/20\", \"12/1/20\", \"12/2/20\", \"12/3/20\", \"12/4/20\", \"12/5/20\", \"12/6/20\", \"12/7/20\", \"12/8/20\", \"12/9/20\", \"12/10/20\", \"12/11/20\", \"12/12/20\", \"12/13/20\", \"12/14/20\", \"12/15/20\", \"12/16/20\", \"12/17/20\", \"12/18/20\", \"12/19/20\", \"12/20/20\", \"12/21/20\", \"12/22/20\", \"12/23/20\", \"12/24/20\", \"12/25/20\", \"12/26/20\", \"12/27/20\", \"12/28/20\", \"12/29/20\", \"12/30/20\", \"12/31/20\", \"1/1/21\", \"1/2/21\", \"1/3/21\", \"1/4/21\", \"1/5/21\", \"1/6/21\", \"1/7/21\", \"1/8/21\", \"1/9/21\", \"1/10/21\", \"1/11/21\", \"1/12/21\", \"1/13/21\", \"1/14/21\"], \"y\": [0, 0, 0, 0, 0, 0, 0, 0, 0, 0, 0, 0, 0, 0, 0, 0, 0, 0, 0, 0, 0, 0, 0, 0, 0, 0, 0, 0, 0, 0, 0, 0, 0, 0, 0, 0, 0, 0, 0, 0, 0, 0, 0, 0, 0, 0, 0, 0, 0, 0, 0, 0, 0, 1, 1, 1, 1, 1, 1, 1, 1, 1, 2, 2, 2, 2, 2, 2, 5, 5, 10, 10, 10, 15, 18, 18, 29, 32, 32, 32, 32, 32, 40, 43, 54, 99, 112, 131, 135, 150, 166, 179, 188, 188, 207, 220, 228, 252, 260, 310, 331, 345, 397, 421, 458, 468, 472, 502, 558, 558, 610, 648, 691, 745, 745, 778, 801, 850, 930, 938, 996, 1040, 1075, 1097, 1128, 1138, 1209, 1259, 1303, 1328, 1428, 1450, 1522, 1585, 1762, 1830, 1875, 2171, 2651, 3013, 3326, 3928, 4201, 4725, 5164, 5508, 6158, 7660, 7962, 8292, 8764, 8841, 9260, 9869, 10174, 10306, 10674, 12604, 13934, 14131, 15651, 16041, 17331, 19164, 19366, 20103, 20179, 20700, 20847, 20882, 21135, 21216, 21254, 21454, 22456, 22824, 23151, 23273, 23634, 23741, 23741, 23924, 24550, 24602, 24793, 25180, 25198, 25358, 25389, 25471, 25509, 25509, 25510, 25669, 25669, 25742, 25840, 25903, 25960, 25960, 26228, 26415, 26694, 26714, 26714, 27166, 27166, 27166, 27166, 27166, 27681, 28016, 28016, 28180, 28360, 28440, 29042, 29046, 29059, 29063, 29089, 29089, 29231, 29315, 29390, 29713, 30082, 30537, 30557, 30715, 31048, 31129, 31154, 31234, 31638, 32073, 32098, 32503, 32505, 32576, 32576, 32576, 32576, 32576, 32610, 32619, 32619, 32635, 32642, 32642, 32746, 32789, 32842, 32842, 32842, 32852, 32879, 32977, 33045, 33058, 33058, 33064, 33114, 33118, 33308, 33354, 33447, 33516, 33561, 33614, 33760, 33790, 33824, 33831, 34010, 34023, 34129, 34150, 34217, 34237, 34239, 34258, 34321, 34326, 34342, 34355, 34362, 34440, 34440, 34446, 34458, 34721, 34954, 34967, 35024, 35036, 35067, 35092, 35137, 35160, 35295, 35350, 35370, 35422, 35934, 35976, 36122, 36145, 36232, 36295, 36709, 36716, 36831, 36946, 37218, 37260, 37260, 37393, 37685, 37879, 37920, 38032, 38099, 38141, 38200, 38250, 38252, 38336, 38475, 38505, 38540, 38613, 39006, 39508, 39585, 39692, 40359, 40444, 40784, 41096, 41441, 41543, 41612, 41727, 41727, 41727, 41727, 42530, 42666, 42666, 43291, 43440, 43740, 43948, 44137, 44608, 44850, 45298]}],                        {\"template\": {\"data\": {\"bar\": [{\"error_x\": {\"color\": \"#2a3f5f\"}, \"error_y\": {\"color\": \"#2a3f5f\"}, \"marker\": {\"line\": {\"color\": \"#E5ECF6\", \"width\": 0.5}}, \"type\": \"bar\"}], \"barpolar\": [{\"marker\": {\"line\": {\"color\": \"#E5ECF6\", \"width\": 0.5}}, \"type\": \"barpolar\"}], \"carpet\": [{\"aaxis\": {\"endlinecolor\": \"#2a3f5f\", \"gridcolor\": \"white\", \"linecolor\": \"white\", \"minorgridcolor\": \"white\", \"startlinecolor\": \"#2a3f5f\"}, \"baxis\": {\"endlinecolor\": \"#2a3f5f\", \"gridcolor\": \"white\", \"linecolor\": \"white\", \"minorgridcolor\": \"white\", \"startlinecolor\": \"#2a3f5f\"}, \"type\": \"carpet\"}], \"choropleth\": [{\"colorbar\": {\"outlinewidth\": 0, \"ticks\": \"\"}, \"type\": \"choropleth\"}], \"contour\": [{\"colorbar\": {\"outlinewidth\": 0, \"ticks\": \"\"}, \"colorscale\": [[0.0, \"#0d0887\"], [0.1111111111111111, \"#46039f\"], [0.2222222222222222, \"#7201a8\"], [0.3333333333333333, \"#9c179e\"], [0.4444444444444444, \"#bd3786\"], [0.5555555555555556, \"#d8576b\"], [0.6666666666666666, \"#ed7953\"], [0.7777777777777778, \"#fb9f3a\"], [0.8888888888888888, \"#fdca26\"], [1.0, \"#f0f921\"]], \"type\": \"contour\"}], \"contourcarpet\": [{\"colorbar\": {\"outlinewidth\": 0, \"ticks\": \"\"}, \"type\": \"contourcarpet\"}], \"heatmap\": [{\"colorbar\": {\"outlinewidth\": 0, \"ticks\": \"\"}, \"colorscale\": [[0.0, \"#0d0887\"], [0.1111111111111111, \"#46039f\"], [0.2222222222222222, \"#7201a8\"], [0.3333333333333333, \"#9c179e\"], [0.4444444444444444, \"#bd3786\"], [0.5555555555555556, \"#d8576b\"], [0.6666666666666666, \"#ed7953\"], [0.7777777777777778, \"#fb9f3a\"], [0.8888888888888888, \"#fdca26\"], [1.0, \"#f0f921\"]], \"type\": \"heatmap\"}], \"heatmapgl\": [{\"colorbar\": {\"outlinewidth\": 0, \"ticks\": \"\"}, \"colorscale\": [[0.0, \"#0d0887\"], [0.1111111111111111, \"#46039f\"], [0.2222222222222222, \"#7201a8\"], [0.3333333333333333, \"#9c179e\"], [0.4444444444444444, \"#bd3786\"], [0.5555555555555556, \"#d8576b\"], [0.6666666666666666, \"#ed7953\"], [0.7777777777777778, \"#fb9f3a\"], [0.8888888888888888, \"#fdca26\"], [1.0, \"#f0f921\"]], \"type\": \"heatmapgl\"}], \"histogram\": [{\"marker\": {\"colorbar\": {\"outlinewidth\": 0, \"ticks\": \"\"}}, \"type\": \"histogram\"}], \"histogram2d\": [{\"colorbar\": {\"outlinewidth\": 0, \"ticks\": \"\"}, \"colorscale\": [[0.0, \"#0d0887\"], [0.1111111111111111, \"#46039f\"], [0.2222222222222222, \"#7201a8\"], [0.3333333333333333, \"#9c179e\"], [0.4444444444444444, \"#bd3786\"], [0.5555555555555556, \"#d8576b\"], [0.6666666666666666, \"#ed7953\"], [0.7777777777777778, \"#fb9f3a\"], [0.8888888888888888, \"#fdca26\"], [1.0, \"#f0f921\"]], \"type\": \"histogram2d\"}], \"histogram2dcontour\": [{\"colorbar\": {\"outlinewidth\": 0, \"ticks\": \"\"}, \"colorscale\": [[0.0, \"#0d0887\"], [0.1111111111111111, \"#46039f\"], [0.2222222222222222, \"#7201a8\"], [0.3333333333333333, \"#9c179e\"], [0.4444444444444444, \"#bd3786\"], [0.5555555555555556, \"#d8576b\"], [0.6666666666666666, \"#ed7953\"], [0.7777777777777778, \"#fb9f3a\"], [0.8888888888888888, \"#fdca26\"], [1.0, \"#f0f921\"]], \"type\": \"histogram2dcontour\"}], \"mesh3d\": [{\"colorbar\": {\"outlinewidth\": 0, \"ticks\": \"\"}, \"type\": \"mesh3d\"}], \"parcoords\": [{\"line\": {\"colorbar\": {\"outlinewidth\": 0, \"ticks\": \"\"}}, \"type\": \"parcoords\"}], \"pie\": [{\"automargin\": true, \"type\": \"pie\"}], \"scatter\": [{\"marker\": {\"colorbar\": {\"outlinewidth\": 0, \"ticks\": \"\"}}, \"type\": \"scatter\"}], \"scatter3d\": [{\"line\": {\"colorbar\": {\"outlinewidth\": 0, \"ticks\": \"\"}}, \"marker\": {\"colorbar\": {\"outlinewidth\": 0, \"ticks\": \"\"}}, \"type\": \"scatter3d\"}], \"scattercarpet\": [{\"marker\": {\"colorbar\": {\"outlinewidth\": 0, \"ticks\": \"\"}}, \"type\": \"scattercarpet\"}], \"scattergeo\": [{\"marker\": {\"colorbar\": {\"outlinewidth\": 0, \"ticks\": \"\"}}, \"type\": \"scattergeo\"}], \"scattergl\": [{\"marker\": {\"colorbar\": {\"outlinewidth\": 0, \"ticks\": \"\"}}, \"type\": \"scattergl\"}], \"scattermapbox\": [{\"marker\": {\"colorbar\": {\"outlinewidth\": 0, \"ticks\": \"\"}}, \"type\": \"scattermapbox\"}], \"scatterpolar\": [{\"marker\": {\"colorbar\": {\"outlinewidth\": 0, \"ticks\": \"\"}}, \"type\": \"scatterpolar\"}], \"scatterpolargl\": [{\"marker\": {\"colorbar\": {\"outlinewidth\": 0, \"ticks\": \"\"}}, \"type\": \"scatterpolargl\"}], \"scatterternary\": [{\"marker\": {\"colorbar\": {\"outlinewidth\": 0, \"ticks\": \"\"}}, \"type\": \"scatterternary\"}], \"surface\": [{\"colorbar\": {\"outlinewidth\": 0, \"ticks\": \"\"}, \"colorscale\": [[0.0, \"#0d0887\"], [0.1111111111111111, \"#46039f\"], [0.2222222222222222, \"#7201a8\"], [0.3333333333333333, \"#9c179e\"], [0.4444444444444444, \"#bd3786\"], [0.5555555555555556, \"#d8576b\"], [0.6666666666666666, \"#ed7953\"], [0.7777777777777778, \"#fb9f3a\"], [0.8888888888888888, \"#fdca26\"], [1.0, \"#f0f921\"]], \"type\": \"surface\"}], \"table\": [{\"cells\": {\"fill\": {\"color\": \"#EBF0F8\"}, \"line\": {\"color\": \"white\"}}, \"header\": {\"fill\": {\"color\": \"#C8D4E3\"}, \"line\": {\"color\": \"white\"}}, \"type\": \"table\"}]}, \"layout\": {\"annotationdefaults\": {\"arrowcolor\": \"#2a3f5f\", \"arrowhead\": 0, \"arrowwidth\": 1}, \"autotypenumbers\": \"strict\", \"coloraxis\": {\"colorbar\": {\"outlinewidth\": 0, \"ticks\": \"\"}}, \"colorscale\": {\"diverging\": [[0, \"#8e0152\"], [0.1, \"#c51b7d\"], [0.2, \"#de77ae\"], [0.3, \"#f1b6da\"], [0.4, \"#fde0ef\"], [0.5, \"#f7f7f7\"], [0.6, \"#e6f5d0\"], [0.7, \"#b8e186\"], [0.8, \"#7fbc41\"], [0.9, \"#4d9221\"], [1, \"#276419\"]], \"sequential\": [[0.0, \"#0d0887\"], [0.1111111111111111, \"#46039f\"], [0.2222222222222222, \"#7201a8\"], [0.3333333333333333, \"#9c179e\"], [0.4444444444444444, \"#bd3786\"], [0.5555555555555556, \"#d8576b\"], [0.6666666666666666, \"#ed7953\"], [0.7777777777777778, \"#fb9f3a\"], [0.8888888888888888, \"#fdca26\"], [1.0, \"#f0f921\"]], \"sequentialminus\": [[0.0, \"#0d0887\"], [0.1111111111111111, \"#46039f\"], [0.2222222222222222, \"#7201a8\"], [0.3333333333333333, \"#9c179e\"], [0.4444444444444444, \"#bd3786\"], [0.5555555555555556, \"#d8576b\"], [0.6666666666666666, \"#ed7953\"], [0.7777777777777778, \"#fb9f3a\"], [0.8888888888888888, \"#fdca26\"], [1.0, \"#f0f921\"]]}, \"colorway\": [\"#636efa\", \"#EF553B\", \"#00cc96\", \"#ab63fa\", \"#FFA15A\", \"#19d3f3\", \"#FF6692\", \"#B6E880\", \"#FF97FF\", \"#FECB52\"], \"font\": {\"color\": \"#2a3f5f\"}, \"geo\": {\"bgcolor\": \"white\", \"lakecolor\": \"white\", \"landcolor\": \"#E5ECF6\", \"showlakes\": true, \"showland\": true, \"subunitcolor\": \"white\"}, \"hoverlabel\": {\"align\": \"left\"}, \"hovermode\": \"closest\", \"mapbox\": {\"style\": \"light\"}, \"paper_bgcolor\": \"white\", \"plot_bgcolor\": \"#E5ECF6\", \"polar\": {\"angularaxis\": {\"gridcolor\": \"white\", \"linecolor\": \"white\", \"ticks\": \"\"}, \"bgcolor\": \"#E5ECF6\", \"radialaxis\": {\"gridcolor\": \"white\", \"linecolor\": \"white\", \"ticks\": \"\"}}, \"scene\": {\"xaxis\": {\"backgroundcolor\": \"#E5ECF6\", \"gridcolor\": \"white\", \"gridwidth\": 2, \"linecolor\": \"white\", \"showbackground\": true, \"ticks\": \"\", \"zerolinecolor\": \"white\"}, \"yaxis\": {\"backgroundcolor\": \"#E5ECF6\", \"gridcolor\": \"white\", \"gridwidth\": 2, \"linecolor\": \"white\", \"showbackground\": true, \"ticks\": \"\", \"zerolinecolor\": \"white\"}, \"zaxis\": {\"backgroundcolor\": \"#E5ECF6\", \"gridcolor\": \"white\", \"gridwidth\": 2, \"linecolor\": \"white\", \"showbackground\": true, \"ticks\": \"\", \"zerolinecolor\": \"white\"}}, \"shapedefaults\": {\"line\": {\"color\": \"#2a3f5f\"}}, \"ternary\": {\"aaxis\": {\"gridcolor\": \"white\", \"linecolor\": \"white\", \"ticks\": \"\"}, \"baxis\": {\"gridcolor\": \"white\", \"linecolor\": \"white\", \"ticks\": \"\"}, \"bgcolor\": \"#E5ECF6\", \"caxis\": {\"gridcolor\": \"white\", \"linecolor\": \"white\", \"ticks\": \"\"}}, \"title\": {\"x\": 0.05}, \"xaxis\": {\"automargin\": true, \"gridcolor\": \"white\", \"linecolor\": \"white\", \"ticks\": \"\", \"title\": {\"standoff\": 15}, \"zerolinecolor\": \"white\", \"zerolinewidth\": 2}, \"yaxis\": {\"automargin\": true, \"gridcolor\": \"white\", \"linecolor\": \"white\", \"ticks\": \"\", \"title\": {\"standoff\": 15}, \"zerolinecolor\": \"white\", \"zerolinewidth\": 2}}}, \"title\": {\"text\": \"Covid-19 Cases Timeseries\"}, \"xaxis\": {\"title\": {\"text\": \"Date\"}}, \"yaxis\": {\"title\": {\"text\": \"Country\"}}},                        {\"responsive\": true}                    ).then(function(){\n                            \nvar gd = document.getElementById('3c3de428-d863-4c81-9f30-3dd10d91f322');\nvar x = new MutationObserver(function (mutations, observer) {{\n        var display = window.getComputedStyle(gd).display;\n        if (!display || display === 'none') {{\n            console.log([gd, 'removed!']);\n            Plotly.purge(gd);\n            observer.disconnect();\n        }}\n}});\n\n// Listen for the removal of the full notebook cells\nvar notebookContainer = gd.closest('#notebook-container');\nif (notebookContainer) {{\n    x.observe(notebookContainer, {childList: true});\n}}\n\n// Listen for the clearing of the current output cell\nvar outputEl = gd.closest('.output');\nif (outputEl) {{\n    x.observe(outputEl, {childList: true});\n}}\n\n                        })                };                });            </script>        </div>"
         },
         "metadata": {},
         "output_type": "display_data"
        }
       ]
      }
     },
     "5ea83b3a2a9c4b69a9fb7fbac7709584": {
      "model_module": "@jupyter-widgets/output",
      "model_module_version": "1.0.0",
      "model_name": "OutputModel",
      "state": {
       "layout": "IPY_MODEL_89d2ede504d7436586ade4ac5227ef9b",
       "outputs": [
        {
         "data": {
          "application/vnd.plotly.v1+json": {
           "config": {
            "plotlyServerURL": "https://plot.ly"
           },
           "data": [
            {
             "connectgaps": true,
             "line": {
              "color": "blue",
              "width": 1
             },
             "mode": "lines+markers",
             "name": "confirmed",
             "text": "Total confirmed: 53775",
             "type": "scatter",
             "x": [
              "1/23/20",
              "1/24/20",
              "1/25/20",
              "1/26/20",
              "1/27/20",
              "1/28/20",
              "1/29/20",
              "1/30/20",
              "1/31/20",
              "2/1/20",
              "2/2/20",
              "2/3/20",
              "2/4/20",
              "2/5/20",
              "2/6/20",
              "2/7/20",
              "2/8/20",
              "2/9/20",
              "2/10/20",
              "2/11/20",
              "2/12/20",
              "2/13/20",
              "2/14/20",
              "2/15/20",
              "2/16/20",
              "2/17/20",
              "2/18/20",
              "2/19/20",
              "2/20/20",
              "2/21/20",
              "2/22/20",
              "2/23/20",
              "2/24/20",
              "2/25/20",
              "2/26/20",
              "2/27/20",
              "2/28/20",
              "2/29/20",
              "3/1/20",
              "3/2/20",
              "3/3/20",
              "3/4/20",
              "3/5/20",
              "3/6/20",
              "3/7/20",
              "3/8/20",
              "3/9/20",
              "3/10/20",
              "3/11/20",
              "3/12/20",
              "3/13/20",
              "3/14/20",
              "3/15/20",
              "3/16/20",
              "3/17/20",
              "3/18/20",
              "3/19/20",
              "3/20/20",
              "3/21/20",
              "3/22/20",
              "3/23/20",
              "3/24/20",
              "3/25/20",
              "3/26/20",
              "3/27/20",
              "3/28/20",
              "3/29/20",
              "3/30/20",
              "3/31/20",
              "4/1/20",
              "4/2/20",
              "4/3/20",
              "4/4/20",
              "4/5/20",
              "4/6/20",
              "4/7/20",
              "4/8/20",
              "4/9/20",
              "4/10/20",
              "4/11/20",
              "4/12/20",
              "4/13/20",
              "4/14/20",
              "4/15/20",
              "4/16/20",
              "4/17/20",
              "4/18/20",
              "4/19/20",
              "4/20/20",
              "4/21/20",
              "4/22/20",
              "4/23/20",
              "4/24/20",
              "4/25/20",
              "4/26/20",
              "4/27/20",
              "4/28/20",
              "4/29/20",
              "4/30/20",
              "5/1/20",
              "5/2/20",
              "5/3/20",
              "5/4/20",
              "5/5/20",
              "5/6/20",
              "5/7/20",
              "5/8/20",
              "5/9/20",
              "5/10/20",
              "5/11/20",
              "5/12/20",
              "5/13/20",
              "5/14/20",
              "5/15/20",
              "5/16/20",
              "5/17/20",
              "5/18/20",
              "5/19/20",
              "5/20/20",
              "5/21/20",
              "5/22/20",
              "5/23/20",
              "5/24/20",
              "5/25/20",
              "5/26/20",
              "5/27/20",
              "5/28/20",
              "5/29/20",
              "5/30/20",
              "5/31/20",
              "6/1/20",
              "6/2/20",
              "6/3/20",
              "6/4/20",
              "6/5/20",
              "6/6/20",
              "6/7/20",
              "6/8/20",
              "6/9/20",
              "6/10/20",
              "6/11/20",
              "6/12/20",
              "6/13/20",
              "6/14/20",
              "6/15/20",
              "6/16/20",
              "6/17/20",
              "6/18/20",
              "6/19/20",
              "6/20/20",
              "6/21/20",
              "6/22/20",
              "6/23/20",
              "6/24/20",
              "6/25/20",
              "6/26/20",
              "6/27/20",
              "6/28/20",
              "6/29/20",
              "6/30/20",
              "7/1/20",
              "7/2/20",
              "7/3/20",
              "7/4/20",
              "7/5/20",
              "7/6/20",
              "7/7/20",
              "7/8/20",
              "7/9/20",
              "7/10/20",
              "7/11/20",
              "7/12/20",
              "7/13/20",
              "7/14/20",
              "7/15/20",
              "7/16/20",
              "7/17/20",
              "7/18/20",
              "7/19/20",
              "7/20/20",
              "7/21/20",
              "7/22/20",
              "7/23/20",
              "7/24/20",
              "7/25/20",
              "7/26/20",
              "7/27/20",
              "7/28/20",
              "7/29/20",
              "7/30/20",
              "7/31/20",
              "8/1/20",
              "8/2/20",
              "8/3/20",
              "8/4/20",
              "8/5/20",
              "8/6/20",
              "8/7/20",
              "8/8/20",
              "8/9/20",
              "8/10/20",
              "8/11/20",
              "8/12/20",
              "8/13/20",
              "8/14/20",
              "8/15/20",
              "8/16/20",
              "8/17/20",
              "8/18/20",
              "8/19/20",
              "8/20/20",
              "8/21/20",
              "8/22/20",
              "8/23/20",
              "8/24/20",
              "8/25/20",
              "8/26/20",
              "8/27/20",
              "8/28/20",
              "8/29/20",
              "8/30/20",
              "8/31/20",
              "9/1/20",
              "9/2/20",
              "9/3/20",
              "9/4/20",
              "9/5/20",
              "9/6/20",
              "9/7/20",
              "9/8/20",
              "9/9/20",
              "9/10/20",
              "9/11/20",
              "9/12/20",
              "9/13/20",
              "9/14/20",
              "9/15/20",
              "9/16/20",
              "9/17/20",
              "9/18/20",
              "9/19/20",
              "9/20/20",
              "9/21/20",
              "9/22/20",
              "9/23/20",
              "9/24/20",
              "9/25/20",
              "9/26/20",
              "9/27/20",
              "9/28/20",
              "9/29/20",
              "9/30/20",
              "10/1/20",
              "10/2/20",
              "10/3/20",
              "10/4/20",
              "10/5/20",
              "10/6/20",
              "10/7/20",
              "10/8/20",
              "10/9/20",
              "10/10/20",
              "10/11/20",
              "10/12/20",
              "10/13/20",
              "10/14/20",
              "10/15/20",
              "10/16/20",
              "10/17/20",
              "10/18/20",
              "10/19/20",
              "10/20/20",
              "10/21/20",
              "10/22/20",
              "10/23/20",
              "10/24/20",
              "10/25/20",
              "10/26/20",
              "10/27/20",
              "10/28/20",
              "10/29/20",
              "10/30/20",
              "10/31/20",
              "11/1/20",
              "11/2/20",
              "11/3/20",
              "11/4/20",
              "11/5/20",
              "11/6/20",
              "11/7/20",
              "11/8/20",
              "11/9/20",
              "11/10/20",
              "11/11/20",
              "11/12/20",
              "11/13/20",
              "11/14/20",
              "11/15/20",
              "11/16/20",
              "11/17/20",
              "11/18/20",
              "11/19/20",
              "11/20/20",
              "11/21/20",
              "11/22/20",
              "11/23/20",
              "11/24/20",
              "11/25/20",
              "11/26/20",
              "11/27/20",
              "11/28/20",
              "11/29/20",
              "11/30/20",
              "12/1/20",
              "12/2/20",
              "12/3/20",
              "12/4/20",
              "12/5/20",
              "12/6/20",
              "12/7/20",
              "12/8/20",
              "12/9/20",
              "12/10/20",
              "12/11/20",
              "12/12/20",
              "12/13/20",
              "12/14/20",
              "12/15/20",
              "12/16/20",
              "12/17/20",
              "12/18/20",
              "12/19/20",
              "12/20/20",
              "12/21/20",
              "12/22/20",
              "12/23/20",
              "12/24/20",
              "12/25/20",
              "12/26/20",
              "12/27/20",
              "12/28/20",
              "12/29/20",
              "12/30/20",
              "12/31/20",
              "1/1/21",
              "1/2/21",
              "1/3/21",
              "1/4/21",
              "1/5/21",
              "1/6/21",
              "1/7/21",
              "1/8/21",
              "1/9/21",
              "1/10/21",
              "1/11/21",
              "1/12/21",
              "1/13/21",
              "1/14/21"
             ],
             "y": [
              0,
              0,
              0,
              0,
              0,
              0,
              0,
              0,
              0,
              0,
              0,
              0,
              0,
              0,
              0,
              0,
              0,
              0,
              0,
              0,
              0,
              0,
              0,
              0,
              0,
              0,
              0,
              0,
              0,
              0,
              0,
              0,
              1,
              1,
              1,
              1,
              1,
              1,
              1,
              1,
              2,
              4,
              4,
              4,
              4,
              5,
              7,
              8,
              11,
              12,
              13,
              15,
              16,
              18,
              20,
              24,
              25,
              29,
              30,
              34,
              41,
              43,
              76,
              80,
              91,
              107,
              118,
              146,
              175,
              197,
              240,
              275,
              300,
              338,
              368,
              424,
              445,
              485,
              532,
              556,
              608,
              666,
              715,
              785,
              841,
              907,
              934,
              997,
              1027,
              1093,
              1177,
              1236,
              1331,
              1464,
              1532,
              1704,
              1830,
              1940,
              2127,
              2291,
              2470,
              2705,
              2895,
              3225,
              3393,
              3564,
              3781,
              4042,
              4403,
              4687,
              4968,
              5227,
              5640,
              6054,
              6403,
              6665,
              7073,
              7654,
              8146,
              8677,
              9219,
              10001,
              10585,
              11176,
              11834,
              12459,
              13039,
              13662,
              14528,
              15208,
              15753,
              16512,
              17270,
              18057,
              18972,
              19554,
              20345,
              20920,
              21462,
              22146,
              22894,
              23550,
              24106,
              24770,
              25531,
              26314,
              26878,
              27536,
              27882,
              28428,
              28837,
              29147,
              29471,
              29705,
              30165,
              30441,
              30606,
              30957,
              31228,
              31507,
              31826,
              32012,
              32314,
              32662,
              32941,
              33180,
              33374,
              33584,
              33898,
              34184,
              34356,
              34441,
              34595,
              34730,
              34984,
              35060,
              35219,
              35279,
              35453,
              35493,
              35605,
              35717,
              35918,
              35978,
              36026,
              36147,
              36253,
              36358,
              36463,
              36532,
              36665,
              36700,
              36701,
              36737,
              36773,
              36820,
              36928,
              37006,
              37046,
              37083,
              37153,
              37260,
              37336,
              37422,
              37497,
              37542,
              37590,
              37667,
              37710,
              37750,
              37852,
              37885,
              37944,
              37990,
              38045,
              38061,
              38103,
              38119,
              38130,
              38133,
              38155,
              38159,
              38193,
              38243,
              38288,
              38304,
              38324,
              38398,
              38494,
              38520,
              38544,
              38572,
              38606,
              38641,
              38716,
              38772,
              38815,
              38855,
              38872,
              38897,
              38919,
              39044,
              39074,
              39096,
              39145,
              39170,
              39186,
              39192,
              39227,
              39239,
              39254,
              39268,
              39285,
              39290,
              39297,
              39341,
              39422,
              39486,
              39548,
              39616,
              39693,
              39703,
              39799,
              39870,
              39928,
              39994,
              40026,
              40088,
              40141,
              40200,
              40287,
              40369,
              40510,
              40626,
              40687,
              40768,
              40833,
              40937,
              41032,
              41145,
              41268,
              41334,
              41425,
              41501,
              41633,
              41728,
              41814,
              41935,
              41975,
              42033,
              42159,
              42297,
              42463,
              42609,
              42795,
              42969,
              43035,
              43240,
              43468,
              43681,
              43924,
              44177,
              44363,
              44503,
              44706,
              44988,
              45174,
              45384,
              45600,
              45723,
              45844,
              46116,
              46274,
              46516,
              46718,
              46837,
              46837,
              47072,
              47306,
              47516,
              47716,
              47851,
              48053,
              48116,
              48229,
              48527,
              48718,
              48952,
              49161,
              49378,
              49621,
              49681,
              49817,
              50013,
              50190,
              50433,
              50655,
              50810,
              50886,
              51039,
              51280,
              51350,
              51405,
              51526,
              51526,
              51526,
              51526,
              53011,
              53105,
              53105,
              53207,
              53332,
              53400,
              53489,
              53538,
              53584,
              53584,
              53775
             ]
            },
            {
             "connectgaps": true,
             "line": {
              "color": "red",
              "width": 1
             },
             "mode": "lines+markers",
             "name": "deaths",
             "text": "Total deaths: 2314",
             "type": "scatter",
             "x": [
              "1/23/20",
              "1/24/20",
              "1/25/20",
              "1/26/20",
              "1/27/20",
              "1/28/20",
              "1/29/20",
              "1/30/20",
              "1/31/20",
              "2/1/20",
              "2/2/20",
              "2/3/20",
              "2/4/20",
              "2/5/20",
              "2/6/20",
              "2/7/20",
              "2/8/20",
              "2/9/20",
              "2/10/20",
              "2/11/20",
              "2/12/20",
              "2/13/20",
              "2/14/20",
              "2/15/20",
              "2/16/20",
              "2/17/20",
              "2/18/20",
              "2/19/20",
              "2/20/20",
              "2/21/20",
              "2/22/20",
              "2/23/20",
              "2/24/20",
              "2/25/20",
              "2/26/20",
              "2/27/20",
              "2/28/20",
              "2/29/20",
              "3/1/20",
              "3/2/20",
              "3/3/20",
              "3/4/20",
              "3/5/20",
              "3/6/20",
              "3/7/20",
              "3/8/20",
              "3/9/20",
              "3/10/20",
              "3/11/20",
              "3/12/20",
              "3/13/20",
              "3/14/20",
              "3/15/20",
              "3/16/20",
              "3/17/20",
              "3/18/20",
              "3/19/20",
              "3/20/20",
              "3/21/20",
              "3/22/20",
              "3/23/20",
              "3/24/20",
              "3/25/20",
              "3/26/20",
              "3/27/20",
              "3/28/20",
              "3/29/20",
              "3/30/20",
              "3/31/20",
              "4/1/20",
              "4/2/20",
              "4/3/20",
              "4/4/20",
              "4/5/20",
              "4/6/20",
              "4/7/20",
              "4/8/20",
              "4/9/20",
              "4/10/20",
              "4/11/20",
              "4/12/20",
              "4/13/20",
              "4/14/20",
              "4/15/20",
              "4/16/20",
              "4/17/20",
              "4/18/20",
              "4/19/20",
              "4/20/20",
              "4/21/20",
              "4/22/20",
              "4/23/20",
              "4/24/20",
              "4/25/20",
              "4/26/20",
              "4/27/20",
              "4/28/20",
              "4/29/20",
              "4/30/20",
              "5/1/20",
              "5/2/20",
              "5/3/20",
              "5/4/20",
              "5/5/20",
              "5/6/20",
              "5/7/20",
              "5/8/20",
              "5/9/20",
              "5/10/20",
              "5/11/20",
              "5/12/20",
              "5/13/20",
              "5/14/20",
              "5/15/20",
              "5/16/20",
              "5/17/20",
              "5/18/20",
              "5/19/20",
              "5/20/20",
              "5/21/20",
              "5/22/20",
              "5/23/20",
              "5/24/20",
              "5/25/20",
              "5/26/20",
              "5/27/20",
              "5/28/20",
              "5/29/20",
              "5/30/20",
              "5/31/20",
              "6/1/20",
              "6/2/20",
              "6/3/20",
              "6/4/20",
              "6/5/20",
              "6/6/20",
              "6/7/20",
              "6/8/20",
              "6/9/20",
              "6/10/20",
              "6/11/20",
              "6/12/20",
              "6/13/20",
              "6/14/20",
              "6/15/20",
              "6/16/20",
              "6/17/20",
              "6/18/20",
              "6/19/20",
              "6/20/20",
              "6/21/20",
              "6/22/20",
              "6/23/20",
              "6/24/20",
              "6/25/20",
              "6/26/20",
              "6/27/20",
              "6/28/20",
              "6/29/20",
              "6/30/20",
              "7/1/20",
              "7/2/20",
              "7/3/20",
              "7/4/20",
              "7/5/20",
              "7/6/20",
              "7/7/20",
              "7/8/20",
              "7/9/20",
              "7/10/20",
              "7/11/20",
              "7/12/20",
              "7/13/20",
              "7/14/20",
              "7/15/20",
              "7/16/20",
              "7/17/20",
              "7/18/20",
              "7/19/20",
              "7/20/20",
              "7/21/20",
              "7/22/20",
              "7/23/20",
              "7/24/20",
              "7/25/20",
              "7/26/20",
              "7/27/20",
              "7/28/20",
              "7/29/20",
              "7/30/20",
              "7/31/20",
              "8/1/20",
              "8/2/20",
              "8/3/20",
              "8/4/20",
              "8/5/20",
              "8/6/20",
              "8/7/20",
              "8/8/20",
              "8/9/20",
              "8/10/20",
              "8/11/20",
              "8/12/20",
              "8/13/20",
              "8/14/20",
              "8/15/20",
              "8/16/20",
              "8/17/20",
              "8/18/20",
              "8/19/20",
              "8/20/20",
              "8/21/20",
              "8/22/20",
              "8/23/20",
              "8/24/20",
              "8/25/20",
              "8/26/20",
              "8/27/20",
              "8/28/20",
              "8/29/20",
              "8/30/20",
              "8/31/20",
              "9/1/20",
              "9/2/20",
              "9/3/20",
              "9/4/20",
              "9/5/20",
              "9/6/20",
              "9/7/20",
              "9/8/20",
              "9/9/20",
              "9/10/20",
              "9/11/20",
              "9/12/20",
              "9/13/20",
              "9/14/20",
              "9/15/20",
              "9/16/20",
              "9/17/20",
              "9/18/20",
              "9/19/20",
              "9/20/20",
              "9/21/20",
              "9/22/20",
              "9/23/20",
              "9/24/20",
              "9/25/20",
              "9/26/20",
              "9/27/20",
              "9/28/20",
              "9/29/20",
              "9/30/20",
              "10/1/20",
              "10/2/20",
              "10/3/20",
              "10/4/20",
              "10/5/20",
              "10/6/20",
              "10/7/20",
              "10/8/20",
              "10/9/20",
              "10/10/20",
              "10/11/20",
              "10/12/20",
              "10/13/20",
              "10/14/20",
              "10/15/20",
              "10/16/20",
              "10/17/20",
              "10/18/20",
              "10/19/20",
              "10/20/20",
              "10/21/20",
              "10/22/20",
              "10/23/20",
              "10/24/20",
              "10/25/20",
              "10/26/20",
              "10/27/20",
              "10/28/20",
              "10/29/20",
              "10/30/20",
              "10/31/20",
              "11/1/20",
              "11/2/20",
              "11/3/20",
              "11/4/20",
              "11/5/20",
              "11/6/20",
              "11/7/20",
              "11/8/20",
              "11/9/20",
              "11/10/20",
              "11/11/20",
              "11/12/20",
              "11/13/20",
              "11/14/20",
              "11/15/20",
              "11/16/20",
              "11/17/20",
              "11/18/20",
              "11/19/20",
              "11/20/20",
              "11/21/20",
              "11/22/20",
              "11/23/20",
              "11/24/20",
              "11/25/20",
              "11/26/20",
              "11/27/20",
              "11/28/20",
              "11/29/20",
              "11/30/20",
              "12/1/20",
              "12/2/20",
              "12/3/20",
              "12/4/20",
              "12/5/20",
              "12/6/20",
              "12/7/20",
              "12/8/20",
              "12/9/20",
              "12/10/20",
              "12/11/20",
              "12/12/20",
              "12/13/20",
              "12/14/20",
              "12/15/20",
              "12/16/20",
              "12/17/20",
              "12/18/20",
              "12/19/20",
              "12/20/20",
              "12/21/20",
              "12/22/20",
              "12/23/20",
              "12/24/20",
              "12/25/20",
              "12/26/20",
              "12/27/20",
              "12/28/20",
              "12/29/20",
              "12/30/20",
              "12/31/20",
              "1/1/21",
              "1/2/21",
              "1/3/21",
              "1/4/21",
              "1/5/21",
              "1/6/21",
              "1/7/21",
              "1/8/21",
              "1/9/21",
              "1/10/21",
              "1/11/21",
              "1/12/21",
              "1/13/21",
              "1/14/21"
             ],
             "y": [
              0,
              0,
              0,
              0,
              0,
              0,
              0,
              0,
              0,
              0,
              0,
              0,
              0,
              0,
              0,
              0,
              0,
              0,
              0,
              0,
              0,
              0,
              0,
              0,
              0,
              0,
              0,
              0,
              0,
              0,
              0,
              0,
              0,
              0,
              0,
              0,
              0,
              0,
              0,
              0,
              0,
              0,
              0,
              0,
              0,
              0,
              0,
              0,
              0,
              0,
              0,
              0,
              0,
              0,
              0,
              0,
              0,
              0,
              0,
              1,
              1,
              1,
              2,
              3,
              3,
              4,
              4,
              4,
              4,
              4,
              4,
              8,
              10,
              12,
              15,
              16,
              16,
              17,
              18,
              18,
              19,
              22,
              23,
              29,
              30,
              30,
              30,
              33,
              36,
              36,
              40,
              40,
              43,
              47,
              52,
              58,
              59,
              61,
              64,
              68,
              72,
              85,
              90,
              95,
              104,
              106,
              109,
              115,
              120,
              122,
              127,
              132,
              136,
              153,
              168,
              170,
              173,
              178,
              188,
              194,
              206,
              217,
              219,
              220,
              221,
              228,
              236,
              247,
              250,
              258,
              266,
              274,
              298,
              304,
              313,
              331,
              361,
              373,
              388,
              409,
              430,
              450,
              455,
              475,
              482,
              495,
              508,
              550,
              552,
              573,
              585,
              597,
              617,
              638,
              674,
              682,
              716,
              728,
              740,
              752,
              780,
              809,
              821,
              828,
              866,
              900,
              922,
              939,
              959,
              973,
              996,
              1012,
              1040,
              1064,
              1096,
              1117,
              1149,
              1166,
              1183,
              1185,
              1188,
              1192,
              1213,
              1227,
              1249,
              1261,
              1271,
              1272,
              1273,
              1283,
              1284,
              1285,
              1286,
              1290,
              1290,
              1296,
              1301,
              1310,
              1315,
              1321,
              1329,
              1346,
              1356,
              1365,
              1370,
              1371,
              1376,
              1378,
              1382,
              1384,
              1386,
              1386,
              1386,
              1388,
              1390,
              1398,
              1402,
              1402,
              1403,
              1403,
              1403,
              1403,
              1407,
              1410,
              1410,
              1410,
              1410,
              1413,
              1416,
              1419,
              1421,
              1421,
              1421,
              1421,
              1421,
              1427,
              1428,
              1438,
              1438,
              1439,
              1439,
              1443,
              1446,
              1447,
              1448,
              1453,
              1453,
              1455,
              1455,
              1458,
              1460,
              1460,
              1460,
              1460,
              1464,
              1464,
              1468,
              1469,
              1471,
              1472,
              1474,
              1475,
              1479,
              1481,
              1482,
              1483,
              1483,
              1487,
              1490,
              1494,
              1499,
              1501,
              1503,
              1507,
              1509,
              1513,
              1516,
              1520,
              1525,
              1531,
              1534,
              1535,
              1538,
              1538,
              1544,
              1547,
              1551,
              1557,
              1557,
              1559,
              1565,
              1577,
              1580,
              1584,
              1594,
              1598,
              1608,
              1620,
              1635,
              1641,
              1648,
              1653,
              1666,
              1678,
              1690,
              1702,
              1715,
              1728,
              1737,
              1740,
              1752,
              1774,
              1795,
              1822,
              1841,
              1846,
              1846,
              1864,
              1874,
              1900,
              1906,
              1919,
              1935,
              1945,
              1956,
              1965,
              1969,
              1995,
              2011,
              2025,
              2030,
              2047,
              2067,
              2082,
              2096,
              2117,
              2126,
              2139,
              2149,
              2160,
              2174,
              2179,
              2181,
              2191,
              2191,
              2191,
              2191,
              2237,
              2244,
              2244,
              2253,
              2257,
              2264,
              2277,
              2288,
              2301,
              2301,
              2314
             ]
            },
            {
             "connectgaps": true,
             "line": {
              "color": "green",
              "width": 1
             },
             "mode": "lines+markers",
             "name": "recovered",
             "text": "Total recovered: 45298",
             "type": "scatter",
             "x": [
              "1/23/20",
              "1/24/20",
              "1/25/20",
              "1/26/20",
              "1/27/20",
              "1/28/20",
              "1/29/20",
              "1/30/20",
              "1/31/20",
              "2/1/20",
              "2/2/20",
              "2/3/20",
              "2/4/20",
              "2/5/20",
              "2/6/20",
              "2/7/20",
              "2/8/20",
              "2/9/20",
              "2/10/20",
              "2/11/20",
              "2/12/20",
              "2/13/20",
              "2/14/20",
              "2/15/20",
              "2/16/20",
              "2/17/20",
              "2/18/20",
              "2/19/20",
              "2/20/20",
              "2/21/20",
              "2/22/20",
              "2/23/20",
              "2/24/20",
              "2/25/20",
              "2/26/20",
              "2/27/20",
              "2/28/20",
              "2/29/20",
              "3/1/20",
              "3/2/20",
              "3/3/20",
              "3/4/20",
              "3/5/20",
              "3/6/20",
              "3/7/20",
              "3/8/20",
              "3/9/20",
              "3/10/20",
              "3/11/20",
              "3/12/20",
              "3/13/20",
              "3/14/20",
              "3/15/20",
              "3/16/20",
              "3/17/20",
              "3/18/20",
              "3/19/20",
              "3/20/20",
              "3/21/20",
              "3/22/20",
              "3/23/20",
              "3/24/20",
              "3/25/20",
              "3/26/20",
              "3/27/20",
              "3/28/20",
              "3/29/20",
              "3/30/20",
              "3/31/20",
              "4/1/20",
              "4/2/20",
              "4/3/20",
              "4/4/20",
              "4/5/20",
              "4/6/20",
              "4/7/20",
              "4/8/20",
              "4/9/20",
              "4/10/20",
              "4/11/20",
              "4/12/20",
              "4/13/20",
              "4/14/20",
              "4/15/20",
              "4/16/20",
              "4/17/20",
              "4/18/20",
              "4/19/20",
              "4/20/20",
              "4/21/20",
              "4/22/20",
              "4/23/20",
              "4/24/20",
              "4/25/20",
              "4/26/20",
              "4/27/20",
              "4/28/20",
              "4/29/20",
              "4/30/20",
              "5/1/20",
              "5/2/20",
              "5/3/20",
              "5/4/20",
              "5/5/20",
              "5/6/20",
              "5/7/20",
              "5/8/20",
              "5/9/20",
              "5/10/20",
              "5/11/20",
              "5/12/20",
              "5/13/20",
              "5/14/20",
              "5/15/20",
              "5/16/20",
              "5/17/20",
              "5/18/20",
              "5/19/20",
              "5/20/20",
              "5/21/20",
              "5/22/20",
              "5/23/20",
              "5/24/20",
              "5/25/20",
              "5/26/20",
              "5/27/20",
              "5/28/20",
              "5/29/20",
              "5/30/20",
              "5/31/20",
              "6/1/20",
              "6/2/20",
              "6/3/20",
              "6/4/20",
              "6/5/20",
              "6/6/20",
              "6/7/20",
              "6/8/20",
              "6/9/20",
              "6/10/20",
              "6/11/20",
              "6/12/20",
              "6/13/20",
              "6/14/20",
              "6/15/20",
              "6/16/20",
              "6/17/20",
              "6/18/20",
              "6/19/20",
              "6/20/20",
              "6/21/20",
              "6/22/20",
              "6/23/20",
              "6/24/20",
              "6/25/20",
              "6/26/20",
              "6/27/20",
              "6/28/20",
              "6/29/20",
              "6/30/20",
              "7/1/20",
              "7/2/20",
              "7/3/20",
              "7/4/20",
              "7/5/20",
              "7/6/20",
              "7/7/20",
              "7/8/20",
              "7/9/20",
              "7/10/20",
              "7/11/20",
              "7/12/20",
              "7/13/20",
              "7/14/20",
              "7/15/20",
              "7/16/20",
              "7/17/20",
              "7/18/20",
              "7/19/20",
              "7/20/20",
              "7/21/20",
              "7/22/20",
              "7/23/20",
              "7/24/20",
              "7/25/20",
              "7/26/20",
              "7/27/20",
              "7/28/20",
              "7/29/20",
              "7/30/20",
              "7/31/20",
              "8/1/20",
              "8/2/20",
              "8/3/20",
              "8/4/20",
              "8/5/20",
              "8/6/20",
              "8/7/20",
              "8/8/20",
              "8/9/20",
              "8/10/20",
              "8/11/20",
              "8/12/20",
              "8/13/20",
              "8/14/20",
              "8/15/20",
              "8/16/20",
              "8/17/20",
              "8/18/20",
              "8/19/20",
              "8/20/20",
              "8/21/20",
              "8/22/20",
              "8/23/20",
              "8/24/20",
              "8/25/20",
              "8/26/20",
              "8/27/20",
              "8/28/20",
              "8/29/20",
              "8/30/20",
              "8/31/20",
              "9/1/20",
              "9/2/20",
              "9/3/20",
              "9/4/20",
              "9/5/20",
              "9/6/20",
              "9/7/20",
              "9/8/20",
              "9/9/20",
              "9/10/20",
              "9/11/20",
              "9/12/20",
              "9/13/20",
              "9/14/20",
              "9/15/20",
              "9/16/20",
              "9/17/20",
              "9/18/20",
              "9/19/20",
              "9/20/20",
              "9/21/20",
              "9/22/20",
              "9/23/20",
              "9/24/20",
              "9/25/20",
              "9/26/20",
              "9/27/20",
              "9/28/20",
              "9/29/20",
              "9/30/20",
              "10/1/20",
              "10/2/20",
              "10/3/20",
              "10/4/20",
              "10/5/20",
              "10/6/20",
              "10/7/20",
              "10/8/20",
              "10/9/20",
              "10/10/20",
              "10/11/20",
              "10/12/20",
              "10/13/20",
              "10/14/20",
              "10/15/20",
              "10/16/20",
              "10/17/20",
              "10/18/20",
              "10/19/20",
              "10/20/20",
              "10/21/20",
              "10/22/20",
              "10/23/20",
              "10/24/20",
              "10/25/20",
              "10/26/20",
              "10/27/20",
              "10/28/20",
              "10/29/20",
              "10/30/20",
              "10/31/20",
              "11/1/20",
              "11/2/20",
              "11/3/20",
              "11/4/20",
              "11/5/20",
              "11/6/20",
              "11/7/20",
              "11/8/20",
              "11/9/20",
              "11/10/20",
              "11/11/20",
              "11/12/20",
              "11/13/20",
              "11/14/20",
              "11/15/20",
              "11/16/20",
              "11/17/20",
              "11/18/20",
              "11/19/20",
              "11/20/20",
              "11/21/20",
              "11/22/20",
              "11/23/20",
              "11/24/20",
              "11/25/20",
              "11/26/20",
              "11/27/20",
              "11/28/20",
              "11/29/20",
              "11/30/20",
              "12/1/20",
              "12/2/20",
              "12/3/20",
              "12/4/20",
              "12/5/20",
              "12/6/20",
              "12/7/20",
              "12/8/20",
              "12/9/20",
              "12/10/20",
              "12/11/20",
              "12/12/20",
              "12/13/20",
              "12/14/20",
              "12/15/20",
              "12/16/20",
              "12/17/20",
              "12/18/20",
              "12/19/20",
              "12/20/20",
              "12/21/20",
              "12/22/20",
              "12/23/20",
              "12/24/20",
              "12/25/20",
              "12/26/20",
              "12/27/20",
              "12/28/20",
              "12/29/20",
              "12/30/20",
              "12/31/20",
              "1/1/21",
              "1/2/21",
              "1/3/21",
              "1/4/21",
              "1/5/21",
              "1/6/21",
              "1/7/21",
              "1/8/21",
              "1/9/21",
              "1/10/21",
              "1/11/21",
              "1/12/21",
              "1/13/21",
              "1/14/21"
             ],
             "y": [
              0,
              0,
              0,
              0,
              0,
              0,
              0,
              0,
              0,
              0,
              0,
              0,
              0,
              0,
              0,
              0,
              0,
              0,
              0,
              0,
              0,
              0,
              0,
              0,
              0,
              0,
              0,
              0,
              0,
              0,
              0,
              0,
              0,
              0,
              0,
              0,
              0,
              0,
              0,
              0,
              0,
              0,
              0,
              0,
              0,
              0,
              0,
              0,
              0,
              0,
              0,
              0,
              0,
              1,
              1,
              1,
              1,
              1,
              1,
              1,
              1,
              1,
              2,
              2,
              2,
              2,
              2,
              2,
              5,
              5,
              10,
              10,
              10,
              15,
              18,
              18,
              29,
              32,
              32,
              32,
              32,
              32,
              40,
              43,
              54,
              99,
              112,
              131,
              135,
              150,
              166,
              179,
              188,
              188,
              207,
              220,
              228,
              252,
              260,
              310,
              331,
              345,
              397,
              421,
              458,
              468,
              472,
              502,
              558,
              558,
              610,
              648,
              691,
              745,
              745,
              778,
              801,
              850,
              930,
              938,
              996,
              1040,
              1075,
              1097,
              1128,
              1138,
              1209,
              1259,
              1303,
              1328,
              1428,
              1450,
              1522,
              1585,
              1762,
              1830,
              1875,
              2171,
              2651,
              3013,
              3326,
              3928,
              4201,
              4725,
              5164,
              5508,
              6158,
              7660,
              7962,
              8292,
              8764,
              8841,
              9260,
              9869,
              10174,
              10306,
              10674,
              12604,
              13934,
              14131,
              15651,
              16041,
              17331,
              19164,
              19366,
              20103,
              20179,
              20700,
              20847,
              20882,
              21135,
              21216,
              21254,
              21454,
              22456,
              22824,
              23151,
              23273,
              23634,
              23741,
              23741,
              23924,
              24550,
              24602,
              24793,
              25180,
              25198,
              25358,
              25389,
              25471,
              25509,
              25509,
              25510,
              25669,
              25669,
              25742,
              25840,
              25903,
              25960,
              25960,
              26228,
              26415,
              26694,
              26714,
              26714,
              27166,
              27166,
              27166,
              27166,
              27166,
              27681,
              28016,
              28016,
              28180,
              28360,
              28440,
              29042,
              29046,
              29059,
              29063,
              29089,
              29089,
              29231,
              29315,
              29390,
              29713,
              30082,
              30537,
              30557,
              30715,
              31048,
              31129,
              31154,
              31234,
              31638,
              32073,
              32098,
              32503,
              32505,
              32576,
              32576,
              32576,
              32576,
              32576,
              32610,
              32619,
              32619,
              32635,
              32642,
              32642,
              32746,
              32789,
              32842,
              32842,
              32842,
              32852,
              32879,
              32977,
              33045,
              33058,
              33058,
              33064,
              33114,
              33118,
              33308,
              33354,
              33447,
              33516,
              33561,
              33614,
              33760,
              33790,
              33824,
              33831,
              34010,
              34023,
              34129,
              34150,
              34217,
              34237,
              34239,
              34258,
              34321,
              34326,
              34342,
              34355,
              34362,
              34440,
              34440,
              34446,
              34458,
              34721,
              34954,
              34967,
              35024,
              35036,
              35067,
              35092,
              35137,
              35160,
              35295,
              35350,
              35370,
              35422,
              35934,
              35976,
              36122,
              36145,
              36232,
              36295,
              36709,
              36716,
              36831,
              36946,
              37218,
              37260,
              37260,
              37393,
              37685,
              37879,
              37920,
              38032,
              38099,
              38141,
              38200,
              38250,
              38252,
              38336,
              38475,
              38505,
              38540,
              38613,
              39006,
              39508,
              39585,
              39692,
              40359,
              40444,
              40784,
              41096,
              41441,
              41543,
              41612,
              41727,
              41727,
              41727,
              41727,
              42530,
              42666,
              42666,
              43291,
              43440,
              43740,
              43948,
              44137,
              44608,
              44850,
              45298
             ]
            }
           ],
           "layout": {
            "template": {
             "data": {
              "bar": [
               {
                "error_x": {
                 "color": "#2a3f5f"
                },
                "error_y": {
                 "color": "#2a3f5f"
                },
                "marker": {
                 "line": {
                  "color": "#E5ECF6",
                  "width": 0.5
                 }
                },
                "type": "bar"
               }
              ],
              "barpolar": [
               {
                "marker": {
                 "line": {
                  "color": "#E5ECF6",
                  "width": 0.5
                 }
                },
                "type": "barpolar"
               }
              ],
              "carpet": [
               {
                "aaxis": {
                 "endlinecolor": "#2a3f5f",
                 "gridcolor": "white",
                 "linecolor": "white",
                 "minorgridcolor": "white",
                 "startlinecolor": "#2a3f5f"
                },
                "baxis": {
                 "endlinecolor": "#2a3f5f",
                 "gridcolor": "white",
                 "linecolor": "white",
                 "minorgridcolor": "white",
                 "startlinecolor": "#2a3f5f"
                },
                "type": "carpet"
               }
              ],
              "choropleth": [
               {
                "colorbar": {
                 "outlinewidth": 0,
                 "ticks": ""
                },
                "type": "choropleth"
               }
              ],
              "contour": [
               {
                "colorbar": {
                 "outlinewidth": 0,
                 "ticks": ""
                },
                "colorscale": [
                 [
                  0,
                  "#0d0887"
                 ],
                 [
                  0.1111111111111111,
                  "#46039f"
                 ],
                 [
                  0.2222222222222222,
                  "#7201a8"
                 ],
                 [
                  0.3333333333333333,
                  "#9c179e"
                 ],
                 [
                  0.4444444444444444,
                  "#bd3786"
                 ],
                 [
                  0.5555555555555556,
                  "#d8576b"
                 ],
                 [
                  0.6666666666666666,
                  "#ed7953"
                 ],
                 [
                  0.7777777777777778,
                  "#fb9f3a"
                 ],
                 [
                  0.8888888888888888,
                  "#fdca26"
                 ],
                 [
                  1,
                  "#f0f921"
                 ]
                ],
                "type": "contour"
               }
              ],
              "contourcarpet": [
               {
                "colorbar": {
                 "outlinewidth": 0,
                 "ticks": ""
                },
                "type": "contourcarpet"
               }
              ],
              "heatmap": [
               {
                "colorbar": {
                 "outlinewidth": 0,
                 "ticks": ""
                },
                "colorscale": [
                 [
                  0,
                  "#0d0887"
                 ],
                 [
                  0.1111111111111111,
                  "#46039f"
                 ],
                 [
                  0.2222222222222222,
                  "#7201a8"
                 ],
                 [
                  0.3333333333333333,
                  "#9c179e"
                 ],
                 [
                  0.4444444444444444,
                  "#bd3786"
                 ],
                 [
                  0.5555555555555556,
                  "#d8576b"
                 ],
                 [
                  0.6666666666666666,
                  "#ed7953"
                 ],
                 [
                  0.7777777777777778,
                  "#fb9f3a"
                 ],
                 [
                  0.8888888888888888,
                  "#fdca26"
                 ],
                 [
                  1,
                  "#f0f921"
                 ]
                ],
                "type": "heatmap"
               }
              ],
              "heatmapgl": [
               {
                "colorbar": {
                 "outlinewidth": 0,
                 "ticks": ""
                },
                "colorscale": [
                 [
                  0,
                  "#0d0887"
                 ],
                 [
                  0.1111111111111111,
                  "#46039f"
                 ],
                 [
                  0.2222222222222222,
                  "#7201a8"
                 ],
                 [
                  0.3333333333333333,
                  "#9c179e"
                 ],
                 [
                  0.4444444444444444,
                  "#bd3786"
                 ],
                 [
                  0.5555555555555556,
                  "#d8576b"
                 ],
                 [
                  0.6666666666666666,
                  "#ed7953"
                 ],
                 [
                  0.7777777777777778,
                  "#fb9f3a"
                 ],
                 [
                  0.8888888888888888,
                  "#fdca26"
                 ],
                 [
                  1,
                  "#f0f921"
                 ]
                ],
                "type": "heatmapgl"
               }
              ],
              "histogram": [
               {
                "marker": {
                 "colorbar": {
                  "outlinewidth": 0,
                  "ticks": ""
                 }
                },
                "type": "histogram"
               }
              ],
              "histogram2d": [
               {
                "colorbar": {
                 "outlinewidth": 0,
                 "ticks": ""
                },
                "colorscale": [
                 [
                  0,
                  "#0d0887"
                 ],
                 [
                  0.1111111111111111,
                  "#46039f"
                 ],
                 [
                  0.2222222222222222,
                  "#7201a8"
                 ],
                 [
                  0.3333333333333333,
                  "#9c179e"
                 ],
                 [
                  0.4444444444444444,
                  "#bd3786"
                 ],
                 [
                  0.5555555555555556,
                  "#d8576b"
                 ],
                 [
                  0.6666666666666666,
                  "#ed7953"
                 ],
                 [
                  0.7777777777777778,
                  "#fb9f3a"
                 ],
                 [
                  0.8888888888888888,
                  "#fdca26"
                 ],
                 [
                  1,
                  "#f0f921"
                 ]
                ],
                "type": "histogram2d"
               }
              ],
              "histogram2dcontour": [
               {
                "colorbar": {
                 "outlinewidth": 0,
                 "ticks": ""
                },
                "colorscale": [
                 [
                  0,
                  "#0d0887"
                 ],
                 [
                  0.1111111111111111,
                  "#46039f"
                 ],
                 [
                  0.2222222222222222,
                  "#7201a8"
                 ],
                 [
                  0.3333333333333333,
                  "#9c179e"
                 ],
                 [
                  0.4444444444444444,
                  "#bd3786"
                 ],
                 [
                  0.5555555555555556,
                  "#d8576b"
                 ],
                 [
                  0.6666666666666666,
                  "#ed7953"
                 ],
                 [
                  0.7777777777777778,
                  "#fb9f3a"
                 ],
                 [
                  0.8888888888888888,
                  "#fdca26"
                 ],
                 [
                  1,
                  "#f0f921"
                 ]
                ],
                "type": "histogram2dcontour"
               }
              ],
              "mesh3d": [
               {
                "colorbar": {
                 "outlinewidth": 0,
                 "ticks": ""
                },
                "type": "mesh3d"
               }
              ],
              "parcoords": [
               {
                "line": {
                 "colorbar": {
                  "outlinewidth": 0,
                  "ticks": ""
                 }
                },
                "type": "parcoords"
               }
              ],
              "pie": [
               {
                "automargin": true,
                "type": "pie"
               }
              ],
              "scatter": [
               {
                "marker": {
                 "colorbar": {
                  "outlinewidth": 0,
                  "ticks": ""
                 }
                },
                "type": "scatter"
               }
              ],
              "scatter3d": [
               {
                "line": {
                 "colorbar": {
                  "outlinewidth": 0,
                  "ticks": ""
                 }
                },
                "marker": {
                 "colorbar": {
                  "outlinewidth": 0,
                  "ticks": ""
                 }
                },
                "type": "scatter3d"
               }
              ],
              "scattercarpet": [
               {
                "marker": {
                 "colorbar": {
                  "outlinewidth": 0,
                  "ticks": ""
                 }
                },
                "type": "scattercarpet"
               }
              ],
              "scattergeo": [
               {
                "marker": {
                 "colorbar": {
                  "outlinewidth": 0,
                  "ticks": ""
                 }
                },
                "type": "scattergeo"
               }
              ],
              "scattergl": [
               {
                "marker": {
                 "colorbar": {
                  "outlinewidth": 0,
                  "ticks": ""
                 }
                },
                "type": "scattergl"
               }
              ],
              "scattermapbox": [
               {
                "marker": {
                 "colorbar": {
                  "outlinewidth": 0,
                  "ticks": ""
                 }
                },
                "type": "scattermapbox"
               }
              ],
              "scatterpolar": [
               {
                "marker": {
                 "colorbar": {
                  "outlinewidth": 0,
                  "ticks": ""
                 }
                },
                "type": "scatterpolar"
               }
              ],
              "scatterpolargl": [
               {
                "marker": {
                 "colorbar": {
                  "outlinewidth": 0,
                  "ticks": ""
                 }
                },
                "type": "scatterpolargl"
               }
              ],
              "scatterternary": [
               {
                "marker": {
                 "colorbar": {
                  "outlinewidth": 0,
                  "ticks": ""
                 }
                },
                "type": "scatterternary"
               }
              ],
              "surface": [
               {
                "colorbar": {
                 "outlinewidth": 0,
                 "ticks": ""
                },
                "colorscale": [
                 [
                  0,
                  "#0d0887"
                 ],
                 [
                  0.1111111111111111,
                  "#46039f"
                 ],
                 [
                  0.2222222222222222,
                  "#7201a8"
                 ],
                 [
                  0.3333333333333333,
                  "#9c179e"
                 ],
                 [
                  0.4444444444444444,
                  "#bd3786"
                 ],
                 [
                  0.5555555555555556,
                  "#d8576b"
                 ],
                 [
                  0.6666666666666666,
                  "#ed7953"
                 ],
                 [
                  0.7777777777777778,
                  "#fb9f3a"
                 ],
                 [
                  0.8888888888888888,
                  "#fdca26"
                 ],
                 [
                  1,
                  "#f0f921"
                 ]
                ],
                "type": "surface"
               }
              ],
              "table": [
               {
                "cells": {
                 "fill": {
                  "color": "#EBF0F8"
                 },
                 "line": {
                  "color": "white"
                 }
                },
                "header": {
                 "fill": {
                  "color": "#C8D4E3"
                 },
                 "line": {
                  "color": "white"
                 }
                },
                "type": "table"
               }
              ]
             },
             "layout": {
              "annotationdefaults": {
               "arrowcolor": "#2a3f5f",
               "arrowhead": 0,
               "arrowwidth": 1
              },
              "autotypenumbers": "strict",
              "coloraxis": {
               "colorbar": {
                "outlinewidth": 0,
                "ticks": ""
               }
              },
              "colorscale": {
               "diverging": [
                [
                 0,
                 "#8e0152"
                ],
                [
                 0.1,
                 "#c51b7d"
                ],
                [
                 0.2,
                 "#de77ae"
                ],
                [
                 0.3,
                 "#f1b6da"
                ],
                [
                 0.4,
                 "#fde0ef"
                ],
                [
                 0.5,
                 "#f7f7f7"
                ],
                [
                 0.6,
                 "#e6f5d0"
                ],
                [
                 0.7,
                 "#b8e186"
                ],
                [
                 0.8,
                 "#7fbc41"
                ],
                [
                 0.9,
                 "#4d9221"
                ],
                [
                 1,
                 "#276419"
                ]
               ],
               "sequential": [
                [
                 0,
                 "#0d0887"
                ],
                [
                 0.1111111111111111,
                 "#46039f"
                ],
                [
                 0.2222222222222222,
                 "#7201a8"
                ],
                [
                 0.3333333333333333,
                 "#9c179e"
                ],
                [
                 0.4444444444444444,
                 "#bd3786"
                ],
                [
                 0.5555555555555556,
                 "#d8576b"
                ],
                [
                 0.6666666666666666,
                 "#ed7953"
                ],
                [
                 0.7777777777777778,
                 "#fb9f3a"
                ],
                [
                 0.8888888888888888,
                 "#fdca26"
                ],
                [
                 1,
                 "#f0f921"
                ]
               ],
               "sequentialminus": [
                [
                 0,
                 "#0d0887"
                ],
                [
                 0.1111111111111111,
                 "#46039f"
                ],
                [
                 0.2222222222222222,
                 "#7201a8"
                ],
                [
                 0.3333333333333333,
                 "#9c179e"
                ],
                [
                 0.4444444444444444,
                 "#bd3786"
                ],
                [
                 0.5555555555555556,
                 "#d8576b"
                ],
                [
                 0.6666666666666666,
                 "#ed7953"
                ],
                [
                 0.7777777777777778,
                 "#fb9f3a"
                ],
                [
                 0.8888888888888888,
                 "#fdca26"
                ],
                [
                 1,
                 "#f0f921"
                ]
               ]
              },
              "colorway": [
               "#636efa",
               "#EF553B",
               "#00cc96",
               "#ab63fa",
               "#FFA15A",
               "#19d3f3",
               "#FF6692",
               "#B6E880",
               "#FF97FF",
               "#FECB52"
              ],
              "font": {
               "color": "#2a3f5f"
              },
              "geo": {
               "bgcolor": "white",
               "lakecolor": "white",
               "landcolor": "#E5ECF6",
               "showlakes": true,
               "showland": true,
               "subunitcolor": "white"
              },
              "hoverlabel": {
               "align": "left"
              },
              "hovermode": "closest",
              "mapbox": {
               "style": "light"
              },
              "paper_bgcolor": "white",
              "plot_bgcolor": "#E5ECF6",
              "polar": {
               "angularaxis": {
                "gridcolor": "white",
                "linecolor": "white",
                "ticks": ""
               },
               "bgcolor": "#E5ECF6",
               "radialaxis": {
                "gridcolor": "white",
                "linecolor": "white",
                "ticks": ""
               }
              },
              "scene": {
               "xaxis": {
                "backgroundcolor": "#E5ECF6",
                "gridcolor": "white",
                "gridwidth": 2,
                "linecolor": "white",
                "showbackground": true,
                "ticks": "",
                "zerolinecolor": "white"
               },
               "yaxis": {
                "backgroundcolor": "#E5ECF6",
                "gridcolor": "white",
                "gridwidth": 2,
                "linecolor": "white",
                "showbackground": true,
                "ticks": "",
                "zerolinecolor": "white"
               },
               "zaxis": {
                "backgroundcolor": "#E5ECF6",
                "gridcolor": "white",
                "gridwidth": 2,
                "linecolor": "white",
                "showbackground": true,
                "ticks": "",
                "zerolinecolor": "white"
               }
              },
              "shapedefaults": {
               "line": {
                "color": "#2a3f5f"
               }
              },
              "ternary": {
               "aaxis": {
                "gridcolor": "white",
                "linecolor": "white",
                "ticks": ""
               },
               "baxis": {
                "gridcolor": "white",
                "linecolor": "white",
                "ticks": ""
               },
               "bgcolor": "#E5ECF6",
               "caxis": {
                "gridcolor": "white",
                "linecolor": "white",
                "ticks": ""
               }
              },
              "title": {
               "x": 0.05
              },
              "xaxis": {
               "automargin": true,
               "gridcolor": "white",
               "linecolor": "white",
               "ticks": "",
               "title": {
                "standoff": 15
               },
               "zerolinecolor": "white",
               "zerolinewidth": 2
              },
              "yaxis": {
               "automargin": true,
               "gridcolor": "white",
               "linecolor": "white",
               "ticks": "",
               "title": {
                "standoff": 15
               },
               "zerolinecolor": "white",
               "zerolinewidth": 2
              }
             }
            },
            "title": {
             "text": "Covid-19 Cases Timeseries"
            },
            "xaxis": {
             "title": {
              "text": "Date"
             }
            },
            "yaxis": {
             "title": {
              "text": "Country"
             }
            }
           }
          },
          "text/html": "<div>                            <div id=\"2742a694-0b5f-4144-95fc-04e8c6e68611\" class=\"plotly-graph-div\" style=\"height:525px; width:100%;\"></div>            <script type=\"text/javascript\">                require([\"plotly\"], function(Plotly) {                    window.PLOTLYENV=window.PLOTLYENV || {};                                    if (document.getElementById(\"2742a694-0b5f-4144-95fc-04e8c6e68611\")) {                    Plotly.newPlot(                        \"2742a694-0b5f-4144-95fc-04e8c6e68611\",                        [{\"connectgaps\": true, \"line\": {\"color\": \"blue\", \"width\": 1}, \"mode\": \"lines+markers\", \"name\": \"confirmed\", \"text\": \"Total confirmed: 53775\", \"type\": \"scatter\", \"x\": [\"1/23/20\", \"1/24/20\", \"1/25/20\", \"1/26/20\", \"1/27/20\", \"1/28/20\", \"1/29/20\", \"1/30/20\", \"1/31/20\", \"2/1/20\", \"2/2/20\", \"2/3/20\", \"2/4/20\", \"2/5/20\", \"2/6/20\", \"2/7/20\", \"2/8/20\", \"2/9/20\", \"2/10/20\", \"2/11/20\", \"2/12/20\", \"2/13/20\", \"2/14/20\", \"2/15/20\", \"2/16/20\", \"2/17/20\", \"2/18/20\", \"2/19/20\", \"2/20/20\", \"2/21/20\", \"2/22/20\", \"2/23/20\", \"2/24/20\", \"2/25/20\", \"2/26/20\", \"2/27/20\", \"2/28/20\", \"2/29/20\", \"3/1/20\", \"3/2/20\", \"3/3/20\", \"3/4/20\", \"3/5/20\", \"3/6/20\", \"3/7/20\", \"3/8/20\", \"3/9/20\", \"3/10/20\", \"3/11/20\", \"3/12/20\", \"3/13/20\", \"3/14/20\", \"3/15/20\", \"3/16/20\", \"3/17/20\", \"3/18/20\", \"3/19/20\", \"3/20/20\", \"3/21/20\", \"3/22/20\", \"3/23/20\", \"3/24/20\", \"3/25/20\", \"3/26/20\", \"3/27/20\", \"3/28/20\", \"3/29/20\", \"3/30/20\", \"3/31/20\", \"4/1/20\", \"4/2/20\", \"4/3/20\", \"4/4/20\", \"4/5/20\", \"4/6/20\", \"4/7/20\", \"4/8/20\", \"4/9/20\", \"4/10/20\", \"4/11/20\", \"4/12/20\", \"4/13/20\", \"4/14/20\", \"4/15/20\", \"4/16/20\", \"4/17/20\", \"4/18/20\", \"4/19/20\", \"4/20/20\", \"4/21/20\", \"4/22/20\", \"4/23/20\", \"4/24/20\", \"4/25/20\", \"4/26/20\", \"4/27/20\", \"4/28/20\", \"4/29/20\", \"4/30/20\", \"5/1/20\", \"5/2/20\", \"5/3/20\", \"5/4/20\", \"5/5/20\", \"5/6/20\", \"5/7/20\", \"5/8/20\", \"5/9/20\", \"5/10/20\", \"5/11/20\", \"5/12/20\", \"5/13/20\", \"5/14/20\", \"5/15/20\", \"5/16/20\", \"5/17/20\", \"5/18/20\", \"5/19/20\", \"5/20/20\", \"5/21/20\", \"5/22/20\", \"5/23/20\", \"5/24/20\", \"5/25/20\", \"5/26/20\", \"5/27/20\", \"5/28/20\", \"5/29/20\", \"5/30/20\", \"5/31/20\", \"6/1/20\", \"6/2/20\", \"6/3/20\", \"6/4/20\", \"6/5/20\", \"6/6/20\", \"6/7/20\", \"6/8/20\", \"6/9/20\", \"6/10/20\", \"6/11/20\", \"6/12/20\", \"6/13/20\", \"6/14/20\", \"6/15/20\", \"6/16/20\", \"6/17/20\", \"6/18/20\", \"6/19/20\", \"6/20/20\", \"6/21/20\", \"6/22/20\", \"6/23/20\", \"6/24/20\", \"6/25/20\", \"6/26/20\", \"6/27/20\", \"6/28/20\", \"6/29/20\", \"6/30/20\", \"7/1/20\", \"7/2/20\", \"7/3/20\", \"7/4/20\", \"7/5/20\", \"7/6/20\", \"7/7/20\", \"7/8/20\", \"7/9/20\", \"7/10/20\", \"7/11/20\", \"7/12/20\", \"7/13/20\", \"7/14/20\", \"7/15/20\", \"7/16/20\", \"7/17/20\", \"7/18/20\", \"7/19/20\", \"7/20/20\", \"7/21/20\", \"7/22/20\", \"7/23/20\", \"7/24/20\", \"7/25/20\", \"7/26/20\", \"7/27/20\", \"7/28/20\", \"7/29/20\", \"7/30/20\", \"7/31/20\", \"8/1/20\", \"8/2/20\", \"8/3/20\", \"8/4/20\", \"8/5/20\", \"8/6/20\", \"8/7/20\", \"8/8/20\", \"8/9/20\", \"8/10/20\", \"8/11/20\", \"8/12/20\", \"8/13/20\", \"8/14/20\", \"8/15/20\", \"8/16/20\", \"8/17/20\", \"8/18/20\", \"8/19/20\", \"8/20/20\", \"8/21/20\", \"8/22/20\", \"8/23/20\", \"8/24/20\", \"8/25/20\", \"8/26/20\", \"8/27/20\", \"8/28/20\", \"8/29/20\", \"8/30/20\", \"8/31/20\", \"9/1/20\", \"9/2/20\", \"9/3/20\", \"9/4/20\", \"9/5/20\", \"9/6/20\", \"9/7/20\", \"9/8/20\", \"9/9/20\", \"9/10/20\", \"9/11/20\", \"9/12/20\", \"9/13/20\", \"9/14/20\", \"9/15/20\", \"9/16/20\", \"9/17/20\", \"9/18/20\", \"9/19/20\", \"9/20/20\", \"9/21/20\", \"9/22/20\", \"9/23/20\", \"9/24/20\", \"9/25/20\", \"9/26/20\", \"9/27/20\", \"9/28/20\", \"9/29/20\", \"9/30/20\", \"10/1/20\", \"10/2/20\", \"10/3/20\", \"10/4/20\", \"10/5/20\", \"10/6/20\", \"10/7/20\", \"10/8/20\", \"10/9/20\", \"10/10/20\", \"10/11/20\", \"10/12/20\", \"10/13/20\", \"10/14/20\", \"10/15/20\", \"10/16/20\", \"10/17/20\", \"10/18/20\", \"10/19/20\", \"10/20/20\", \"10/21/20\", \"10/22/20\", \"10/23/20\", \"10/24/20\", \"10/25/20\", \"10/26/20\", \"10/27/20\", \"10/28/20\", \"10/29/20\", \"10/30/20\", \"10/31/20\", \"11/1/20\", \"11/2/20\", \"11/3/20\", \"11/4/20\", \"11/5/20\", \"11/6/20\", \"11/7/20\", \"11/8/20\", \"11/9/20\", \"11/10/20\", \"11/11/20\", \"11/12/20\", \"11/13/20\", \"11/14/20\", \"11/15/20\", \"11/16/20\", \"11/17/20\", \"11/18/20\", \"11/19/20\", \"11/20/20\", \"11/21/20\", \"11/22/20\", \"11/23/20\", \"11/24/20\", \"11/25/20\", \"11/26/20\", \"11/27/20\", \"11/28/20\", \"11/29/20\", \"11/30/20\", \"12/1/20\", \"12/2/20\", \"12/3/20\", \"12/4/20\", \"12/5/20\", \"12/6/20\", \"12/7/20\", \"12/8/20\", \"12/9/20\", \"12/10/20\", \"12/11/20\", \"12/12/20\", \"12/13/20\", \"12/14/20\", \"12/15/20\", \"12/16/20\", \"12/17/20\", \"12/18/20\", \"12/19/20\", \"12/20/20\", \"12/21/20\", \"12/22/20\", \"12/23/20\", \"12/24/20\", \"12/25/20\", \"12/26/20\", \"12/27/20\", \"12/28/20\", \"12/29/20\", \"12/30/20\", \"12/31/20\", \"1/1/21\", \"1/2/21\", \"1/3/21\", \"1/4/21\", \"1/5/21\", \"1/6/21\", \"1/7/21\", \"1/8/21\", \"1/9/21\", \"1/10/21\", \"1/11/21\", \"1/12/21\", \"1/13/21\", \"1/14/21\"], \"y\": [0, 0, 0, 0, 0, 0, 0, 0, 0, 0, 0, 0, 0, 0, 0, 0, 0, 0, 0, 0, 0, 0, 0, 0, 0, 0, 0, 0, 0, 0, 0, 0, 1, 1, 1, 1, 1, 1, 1, 1, 2, 4, 4, 4, 4, 5, 7, 8, 11, 12, 13, 15, 16, 18, 20, 24, 25, 29, 30, 34, 41, 43, 76, 80, 91, 107, 118, 146, 175, 197, 240, 275, 300, 338, 368, 424, 445, 485, 532, 556, 608, 666, 715, 785, 841, 907, 934, 997, 1027, 1093, 1177, 1236, 1331, 1464, 1532, 1704, 1830, 1940, 2127, 2291, 2470, 2705, 2895, 3225, 3393, 3564, 3781, 4042, 4403, 4687, 4968, 5227, 5640, 6054, 6403, 6665, 7073, 7654, 8146, 8677, 9219, 10001, 10585, 11176, 11834, 12459, 13039, 13662, 14528, 15208, 15753, 16512, 17270, 18057, 18972, 19554, 20345, 20920, 21462, 22146, 22894, 23550, 24106, 24770, 25531, 26314, 26878, 27536, 27882, 28428, 28837, 29147, 29471, 29705, 30165, 30441, 30606, 30957, 31228, 31507, 31826, 32012, 32314, 32662, 32941, 33180, 33374, 33584, 33898, 34184, 34356, 34441, 34595, 34730, 34984, 35060, 35219, 35279, 35453, 35493, 35605, 35717, 35918, 35978, 36026, 36147, 36253, 36358, 36463, 36532, 36665, 36700, 36701, 36737, 36773, 36820, 36928, 37006, 37046, 37083, 37153, 37260, 37336, 37422, 37497, 37542, 37590, 37667, 37710, 37750, 37852, 37885, 37944, 37990, 38045, 38061, 38103, 38119, 38130, 38133, 38155, 38159, 38193, 38243, 38288, 38304, 38324, 38398, 38494, 38520, 38544, 38572, 38606, 38641, 38716, 38772, 38815, 38855, 38872, 38897, 38919, 39044, 39074, 39096, 39145, 39170, 39186, 39192, 39227, 39239, 39254, 39268, 39285, 39290, 39297, 39341, 39422, 39486, 39548, 39616, 39693, 39703, 39799, 39870, 39928, 39994, 40026, 40088, 40141, 40200, 40287, 40369, 40510, 40626, 40687, 40768, 40833, 40937, 41032, 41145, 41268, 41334, 41425, 41501, 41633, 41728, 41814, 41935, 41975, 42033, 42159, 42297, 42463, 42609, 42795, 42969, 43035, 43240, 43468, 43681, 43924, 44177, 44363, 44503, 44706, 44988, 45174, 45384, 45600, 45723, 45844, 46116, 46274, 46516, 46718, 46837, 46837, 47072, 47306, 47516, 47716, 47851, 48053, 48116, 48229, 48527, 48718, 48952, 49161, 49378, 49621, 49681, 49817, 50013, 50190, 50433, 50655, 50810, 50886, 51039, 51280, 51350, 51405, 51526, 51526, 51526, 51526, 53011, 53105, 53105, 53207, 53332, 53400, 53489, 53538, 53584, 53584, 53775]}, {\"connectgaps\": true, \"line\": {\"color\": \"red\", \"width\": 1}, \"mode\": \"lines+markers\", \"name\": \"deaths\", \"text\": \"Total deaths: 2314\", \"type\": \"scatter\", \"x\": [\"1/23/20\", \"1/24/20\", \"1/25/20\", \"1/26/20\", \"1/27/20\", \"1/28/20\", \"1/29/20\", \"1/30/20\", \"1/31/20\", \"2/1/20\", \"2/2/20\", \"2/3/20\", \"2/4/20\", \"2/5/20\", \"2/6/20\", \"2/7/20\", \"2/8/20\", \"2/9/20\", \"2/10/20\", \"2/11/20\", \"2/12/20\", \"2/13/20\", \"2/14/20\", \"2/15/20\", \"2/16/20\", \"2/17/20\", \"2/18/20\", \"2/19/20\", \"2/20/20\", \"2/21/20\", \"2/22/20\", \"2/23/20\", \"2/24/20\", \"2/25/20\", \"2/26/20\", \"2/27/20\", \"2/28/20\", \"2/29/20\", \"3/1/20\", \"3/2/20\", \"3/3/20\", \"3/4/20\", \"3/5/20\", \"3/6/20\", \"3/7/20\", \"3/8/20\", \"3/9/20\", \"3/10/20\", \"3/11/20\", \"3/12/20\", \"3/13/20\", \"3/14/20\", \"3/15/20\", \"3/16/20\", \"3/17/20\", \"3/18/20\", \"3/19/20\", \"3/20/20\", \"3/21/20\", \"3/22/20\", \"3/23/20\", \"3/24/20\", \"3/25/20\", \"3/26/20\", \"3/27/20\", \"3/28/20\", \"3/29/20\", \"3/30/20\", \"3/31/20\", \"4/1/20\", \"4/2/20\", \"4/3/20\", \"4/4/20\", \"4/5/20\", \"4/6/20\", \"4/7/20\", \"4/8/20\", \"4/9/20\", \"4/10/20\", \"4/11/20\", \"4/12/20\", \"4/13/20\", \"4/14/20\", \"4/15/20\", \"4/16/20\", \"4/17/20\", \"4/18/20\", \"4/19/20\", \"4/20/20\", \"4/21/20\", \"4/22/20\", \"4/23/20\", \"4/24/20\", \"4/25/20\", \"4/26/20\", \"4/27/20\", \"4/28/20\", \"4/29/20\", \"4/30/20\", \"5/1/20\", \"5/2/20\", \"5/3/20\", \"5/4/20\", \"5/5/20\", \"5/6/20\", \"5/7/20\", \"5/8/20\", \"5/9/20\", \"5/10/20\", \"5/11/20\", \"5/12/20\", \"5/13/20\", \"5/14/20\", \"5/15/20\", \"5/16/20\", \"5/17/20\", \"5/18/20\", \"5/19/20\", \"5/20/20\", \"5/21/20\", \"5/22/20\", \"5/23/20\", \"5/24/20\", \"5/25/20\", \"5/26/20\", \"5/27/20\", \"5/28/20\", \"5/29/20\", \"5/30/20\", \"5/31/20\", \"6/1/20\", \"6/2/20\", \"6/3/20\", \"6/4/20\", \"6/5/20\", \"6/6/20\", \"6/7/20\", \"6/8/20\", \"6/9/20\", \"6/10/20\", \"6/11/20\", \"6/12/20\", \"6/13/20\", \"6/14/20\", \"6/15/20\", \"6/16/20\", \"6/17/20\", \"6/18/20\", \"6/19/20\", \"6/20/20\", \"6/21/20\", \"6/22/20\", \"6/23/20\", \"6/24/20\", \"6/25/20\", \"6/26/20\", \"6/27/20\", \"6/28/20\", \"6/29/20\", \"6/30/20\", \"7/1/20\", \"7/2/20\", \"7/3/20\", \"7/4/20\", \"7/5/20\", \"7/6/20\", \"7/7/20\", \"7/8/20\", \"7/9/20\", \"7/10/20\", \"7/11/20\", \"7/12/20\", \"7/13/20\", \"7/14/20\", \"7/15/20\", \"7/16/20\", \"7/17/20\", \"7/18/20\", \"7/19/20\", \"7/20/20\", \"7/21/20\", \"7/22/20\", \"7/23/20\", \"7/24/20\", \"7/25/20\", \"7/26/20\", \"7/27/20\", \"7/28/20\", \"7/29/20\", \"7/30/20\", \"7/31/20\", \"8/1/20\", \"8/2/20\", \"8/3/20\", \"8/4/20\", \"8/5/20\", \"8/6/20\", \"8/7/20\", \"8/8/20\", \"8/9/20\", \"8/10/20\", \"8/11/20\", \"8/12/20\", \"8/13/20\", \"8/14/20\", \"8/15/20\", \"8/16/20\", \"8/17/20\", \"8/18/20\", \"8/19/20\", \"8/20/20\", \"8/21/20\", \"8/22/20\", \"8/23/20\", \"8/24/20\", \"8/25/20\", \"8/26/20\", \"8/27/20\", \"8/28/20\", \"8/29/20\", \"8/30/20\", \"8/31/20\", \"9/1/20\", \"9/2/20\", \"9/3/20\", \"9/4/20\", \"9/5/20\", \"9/6/20\", \"9/7/20\", \"9/8/20\", \"9/9/20\", \"9/10/20\", \"9/11/20\", \"9/12/20\", \"9/13/20\", \"9/14/20\", \"9/15/20\", \"9/16/20\", \"9/17/20\", \"9/18/20\", \"9/19/20\", \"9/20/20\", \"9/21/20\", \"9/22/20\", \"9/23/20\", \"9/24/20\", \"9/25/20\", \"9/26/20\", \"9/27/20\", \"9/28/20\", \"9/29/20\", \"9/30/20\", \"10/1/20\", \"10/2/20\", \"10/3/20\", \"10/4/20\", \"10/5/20\", \"10/6/20\", \"10/7/20\", \"10/8/20\", \"10/9/20\", \"10/10/20\", \"10/11/20\", \"10/12/20\", \"10/13/20\", \"10/14/20\", \"10/15/20\", \"10/16/20\", \"10/17/20\", \"10/18/20\", \"10/19/20\", \"10/20/20\", \"10/21/20\", \"10/22/20\", \"10/23/20\", \"10/24/20\", \"10/25/20\", \"10/26/20\", \"10/27/20\", \"10/28/20\", \"10/29/20\", \"10/30/20\", \"10/31/20\", \"11/1/20\", \"11/2/20\", \"11/3/20\", \"11/4/20\", \"11/5/20\", \"11/6/20\", \"11/7/20\", \"11/8/20\", \"11/9/20\", \"11/10/20\", \"11/11/20\", \"11/12/20\", \"11/13/20\", \"11/14/20\", \"11/15/20\", \"11/16/20\", \"11/17/20\", \"11/18/20\", \"11/19/20\", \"11/20/20\", \"11/21/20\", \"11/22/20\", \"11/23/20\", \"11/24/20\", \"11/25/20\", \"11/26/20\", \"11/27/20\", \"11/28/20\", \"11/29/20\", \"11/30/20\", \"12/1/20\", \"12/2/20\", \"12/3/20\", \"12/4/20\", \"12/5/20\", \"12/6/20\", \"12/7/20\", \"12/8/20\", \"12/9/20\", \"12/10/20\", \"12/11/20\", \"12/12/20\", \"12/13/20\", \"12/14/20\", \"12/15/20\", \"12/16/20\", \"12/17/20\", \"12/18/20\", \"12/19/20\", \"12/20/20\", \"12/21/20\", \"12/22/20\", \"12/23/20\", \"12/24/20\", \"12/25/20\", \"12/26/20\", \"12/27/20\", \"12/28/20\", \"12/29/20\", \"12/30/20\", \"12/31/20\", \"1/1/21\", \"1/2/21\", \"1/3/21\", \"1/4/21\", \"1/5/21\", \"1/6/21\", \"1/7/21\", \"1/8/21\", \"1/9/21\", \"1/10/21\", \"1/11/21\", \"1/12/21\", \"1/13/21\", \"1/14/21\"], \"y\": [0, 0, 0, 0, 0, 0, 0, 0, 0, 0, 0, 0, 0, 0, 0, 0, 0, 0, 0, 0, 0, 0, 0, 0, 0, 0, 0, 0, 0, 0, 0, 0, 0, 0, 0, 0, 0, 0, 0, 0, 0, 0, 0, 0, 0, 0, 0, 0, 0, 0, 0, 0, 0, 0, 0, 0, 0, 0, 0, 1, 1, 1, 2, 3, 3, 4, 4, 4, 4, 4, 4, 8, 10, 12, 15, 16, 16, 17, 18, 18, 19, 22, 23, 29, 30, 30, 30, 33, 36, 36, 40, 40, 43, 47, 52, 58, 59, 61, 64, 68, 72, 85, 90, 95, 104, 106, 109, 115, 120, 122, 127, 132, 136, 153, 168, 170, 173, 178, 188, 194, 206, 217, 219, 220, 221, 228, 236, 247, 250, 258, 266, 274, 298, 304, 313, 331, 361, 373, 388, 409, 430, 450, 455, 475, 482, 495, 508, 550, 552, 573, 585, 597, 617, 638, 674, 682, 716, 728, 740, 752, 780, 809, 821, 828, 866, 900, 922, 939, 959, 973, 996, 1012, 1040, 1064, 1096, 1117, 1149, 1166, 1183, 1185, 1188, 1192, 1213, 1227, 1249, 1261, 1271, 1272, 1273, 1283, 1284, 1285, 1286, 1290, 1290, 1296, 1301, 1310, 1315, 1321, 1329, 1346, 1356, 1365, 1370, 1371, 1376, 1378, 1382, 1384, 1386, 1386, 1386, 1388, 1390, 1398, 1402, 1402, 1403, 1403, 1403, 1403, 1407, 1410, 1410, 1410, 1410, 1413, 1416, 1419, 1421, 1421, 1421, 1421, 1421, 1427, 1428, 1438, 1438, 1439, 1439, 1443, 1446, 1447, 1448, 1453, 1453, 1455, 1455, 1458, 1460, 1460, 1460, 1460, 1464, 1464, 1468, 1469, 1471, 1472, 1474, 1475, 1479, 1481, 1482, 1483, 1483, 1487, 1490, 1494, 1499, 1501, 1503, 1507, 1509, 1513, 1516, 1520, 1525, 1531, 1534, 1535, 1538, 1538, 1544, 1547, 1551, 1557, 1557, 1559, 1565, 1577, 1580, 1584, 1594, 1598, 1608, 1620, 1635, 1641, 1648, 1653, 1666, 1678, 1690, 1702, 1715, 1728, 1737, 1740, 1752, 1774, 1795, 1822, 1841, 1846, 1846, 1864, 1874, 1900, 1906, 1919, 1935, 1945, 1956, 1965, 1969, 1995, 2011, 2025, 2030, 2047, 2067, 2082, 2096, 2117, 2126, 2139, 2149, 2160, 2174, 2179, 2181, 2191, 2191, 2191, 2191, 2237, 2244, 2244, 2253, 2257, 2264, 2277, 2288, 2301, 2301, 2314]}, {\"connectgaps\": true, \"line\": {\"color\": \"green\", \"width\": 1}, \"mode\": \"lines+markers\", \"name\": \"recovered\", \"text\": \"Total recovered: 45298\", \"type\": \"scatter\", \"x\": [\"1/23/20\", \"1/24/20\", \"1/25/20\", \"1/26/20\", \"1/27/20\", \"1/28/20\", \"1/29/20\", \"1/30/20\", \"1/31/20\", \"2/1/20\", \"2/2/20\", \"2/3/20\", \"2/4/20\", \"2/5/20\", \"2/6/20\", \"2/7/20\", \"2/8/20\", \"2/9/20\", \"2/10/20\", \"2/11/20\", \"2/12/20\", \"2/13/20\", \"2/14/20\", \"2/15/20\", \"2/16/20\", \"2/17/20\", \"2/18/20\", \"2/19/20\", \"2/20/20\", \"2/21/20\", \"2/22/20\", \"2/23/20\", \"2/24/20\", \"2/25/20\", \"2/26/20\", \"2/27/20\", \"2/28/20\", \"2/29/20\", \"3/1/20\", \"3/2/20\", \"3/3/20\", \"3/4/20\", \"3/5/20\", \"3/6/20\", \"3/7/20\", \"3/8/20\", \"3/9/20\", \"3/10/20\", \"3/11/20\", \"3/12/20\", \"3/13/20\", \"3/14/20\", \"3/15/20\", \"3/16/20\", \"3/17/20\", \"3/18/20\", \"3/19/20\", \"3/20/20\", \"3/21/20\", \"3/22/20\", \"3/23/20\", \"3/24/20\", \"3/25/20\", \"3/26/20\", \"3/27/20\", \"3/28/20\", \"3/29/20\", \"3/30/20\", \"3/31/20\", \"4/1/20\", \"4/2/20\", \"4/3/20\", \"4/4/20\", \"4/5/20\", \"4/6/20\", \"4/7/20\", \"4/8/20\", \"4/9/20\", \"4/10/20\", \"4/11/20\", \"4/12/20\", \"4/13/20\", \"4/14/20\", \"4/15/20\", \"4/16/20\", \"4/17/20\", \"4/18/20\", \"4/19/20\", \"4/20/20\", \"4/21/20\", \"4/22/20\", \"4/23/20\", \"4/24/20\", \"4/25/20\", \"4/26/20\", \"4/27/20\", \"4/28/20\", \"4/29/20\", \"4/30/20\", \"5/1/20\", \"5/2/20\", \"5/3/20\", \"5/4/20\", \"5/5/20\", \"5/6/20\", \"5/7/20\", \"5/8/20\", \"5/9/20\", \"5/10/20\", \"5/11/20\", \"5/12/20\", \"5/13/20\", \"5/14/20\", \"5/15/20\", \"5/16/20\", \"5/17/20\", \"5/18/20\", \"5/19/20\", \"5/20/20\", \"5/21/20\", \"5/22/20\", \"5/23/20\", \"5/24/20\", \"5/25/20\", \"5/26/20\", \"5/27/20\", \"5/28/20\", \"5/29/20\", \"5/30/20\", \"5/31/20\", \"6/1/20\", \"6/2/20\", \"6/3/20\", \"6/4/20\", \"6/5/20\", \"6/6/20\", \"6/7/20\", \"6/8/20\", \"6/9/20\", \"6/10/20\", \"6/11/20\", \"6/12/20\", \"6/13/20\", \"6/14/20\", \"6/15/20\", \"6/16/20\", \"6/17/20\", \"6/18/20\", \"6/19/20\", \"6/20/20\", \"6/21/20\", \"6/22/20\", \"6/23/20\", \"6/24/20\", \"6/25/20\", \"6/26/20\", \"6/27/20\", \"6/28/20\", \"6/29/20\", \"6/30/20\", \"7/1/20\", \"7/2/20\", \"7/3/20\", \"7/4/20\", \"7/5/20\", \"7/6/20\", \"7/7/20\", \"7/8/20\", \"7/9/20\", \"7/10/20\", \"7/11/20\", \"7/12/20\", \"7/13/20\", \"7/14/20\", \"7/15/20\", \"7/16/20\", \"7/17/20\", \"7/18/20\", \"7/19/20\", \"7/20/20\", \"7/21/20\", \"7/22/20\", \"7/23/20\", \"7/24/20\", \"7/25/20\", \"7/26/20\", \"7/27/20\", \"7/28/20\", \"7/29/20\", \"7/30/20\", \"7/31/20\", \"8/1/20\", \"8/2/20\", \"8/3/20\", \"8/4/20\", \"8/5/20\", \"8/6/20\", \"8/7/20\", \"8/8/20\", \"8/9/20\", \"8/10/20\", \"8/11/20\", \"8/12/20\", \"8/13/20\", \"8/14/20\", \"8/15/20\", \"8/16/20\", \"8/17/20\", \"8/18/20\", \"8/19/20\", \"8/20/20\", \"8/21/20\", \"8/22/20\", \"8/23/20\", \"8/24/20\", \"8/25/20\", \"8/26/20\", \"8/27/20\", \"8/28/20\", \"8/29/20\", \"8/30/20\", \"8/31/20\", \"9/1/20\", \"9/2/20\", \"9/3/20\", \"9/4/20\", \"9/5/20\", \"9/6/20\", \"9/7/20\", \"9/8/20\", \"9/9/20\", \"9/10/20\", \"9/11/20\", \"9/12/20\", \"9/13/20\", \"9/14/20\", \"9/15/20\", \"9/16/20\", \"9/17/20\", \"9/18/20\", \"9/19/20\", \"9/20/20\", \"9/21/20\", \"9/22/20\", \"9/23/20\", \"9/24/20\", \"9/25/20\", \"9/26/20\", \"9/27/20\", \"9/28/20\", \"9/29/20\", \"9/30/20\", \"10/1/20\", \"10/2/20\", \"10/3/20\", \"10/4/20\", \"10/5/20\", \"10/6/20\", \"10/7/20\", \"10/8/20\", \"10/9/20\", \"10/10/20\", \"10/11/20\", \"10/12/20\", \"10/13/20\", \"10/14/20\", \"10/15/20\", \"10/16/20\", \"10/17/20\", \"10/18/20\", \"10/19/20\", \"10/20/20\", \"10/21/20\", \"10/22/20\", \"10/23/20\", \"10/24/20\", \"10/25/20\", \"10/26/20\", \"10/27/20\", \"10/28/20\", \"10/29/20\", \"10/30/20\", \"10/31/20\", \"11/1/20\", \"11/2/20\", \"11/3/20\", \"11/4/20\", \"11/5/20\", \"11/6/20\", \"11/7/20\", \"11/8/20\", \"11/9/20\", \"11/10/20\", \"11/11/20\", \"11/12/20\", \"11/13/20\", \"11/14/20\", \"11/15/20\", \"11/16/20\", \"11/17/20\", \"11/18/20\", \"11/19/20\", \"11/20/20\", \"11/21/20\", \"11/22/20\", \"11/23/20\", \"11/24/20\", \"11/25/20\", \"11/26/20\", \"11/27/20\", \"11/28/20\", \"11/29/20\", \"11/30/20\", \"12/1/20\", \"12/2/20\", \"12/3/20\", \"12/4/20\", \"12/5/20\", \"12/6/20\", \"12/7/20\", \"12/8/20\", \"12/9/20\", \"12/10/20\", \"12/11/20\", \"12/12/20\", \"12/13/20\", \"12/14/20\", \"12/15/20\", \"12/16/20\", \"12/17/20\", \"12/18/20\", \"12/19/20\", \"12/20/20\", \"12/21/20\", \"12/22/20\", \"12/23/20\", \"12/24/20\", \"12/25/20\", \"12/26/20\", \"12/27/20\", \"12/28/20\", \"12/29/20\", \"12/30/20\", \"12/31/20\", \"1/1/21\", \"1/2/21\", \"1/3/21\", \"1/4/21\", \"1/5/21\", \"1/6/21\", \"1/7/21\", \"1/8/21\", \"1/9/21\", \"1/10/21\", \"1/11/21\", \"1/12/21\", \"1/13/21\", \"1/14/21\"], \"y\": [0, 0, 0, 0, 0, 0, 0, 0, 0, 0, 0, 0, 0, 0, 0, 0, 0, 0, 0, 0, 0, 0, 0, 0, 0, 0, 0, 0, 0, 0, 0, 0, 0, 0, 0, 0, 0, 0, 0, 0, 0, 0, 0, 0, 0, 0, 0, 0, 0, 0, 0, 0, 0, 1, 1, 1, 1, 1, 1, 1, 1, 1, 2, 2, 2, 2, 2, 2, 5, 5, 10, 10, 10, 15, 18, 18, 29, 32, 32, 32, 32, 32, 40, 43, 54, 99, 112, 131, 135, 150, 166, 179, 188, 188, 207, 220, 228, 252, 260, 310, 331, 345, 397, 421, 458, 468, 472, 502, 558, 558, 610, 648, 691, 745, 745, 778, 801, 850, 930, 938, 996, 1040, 1075, 1097, 1128, 1138, 1209, 1259, 1303, 1328, 1428, 1450, 1522, 1585, 1762, 1830, 1875, 2171, 2651, 3013, 3326, 3928, 4201, 4725, 5164, 5508, 6158, 7660, 7962, 8292, 8764, 8841, 9260, 9869, 10174, 10306, 10674, 12604, 13934, 14131, 15651, 16041, 17331, 19164, 19366, 20103, 20179, 20700, 20847, 20882, 21135, 21216, 21254, 21454, 22456, 22824, 23151, 23273, 23634, 23741, 23741, 23924, 24550, 24602, 24793, 25180, 25198, 25358, 25389, 25471, 25509, 25509, 25510, 25669, 25669, 25742, 25840, 25903, 25960, 25960, 26228, 26415, 26694, 26714, 26714, 27166, 27166, 27166, 27166, 27166, 27681, 28016, 28016, 28180, 28360, 28440, 29042, 29046, 29059, 29063, 29089, 29089, 29231, 29315, 29390, 29713, 30082, 30537, 30557, 30715, 31048, 31129, 31154, 31234, 31638, 32073, 32098, 32503, 32505, 32576, 32576, 32576, 32576, 32576, 32610, 32619, 32619, 32635, 32642, 32642, 32746, 32789, 32842, 32842, 32842, 32852, 32879, 32977, 33045, 33058, 33058, 33064, 33114, 33118, 33308, 33354, 33447, 33516, 33561, 33614, 33760, 33790, 33824, 33831, 34010, 34023, 34129, 34150, 34217, 34237, 34239, 34258, 34321, 34326, 34342, 34355, 34362, 34440, 34440, 34446, 34458, 34721, 34954, 34967, 35024, 35036, 35067, 35092, 35137, 35160, 35295, 35350, 35370, 35422, 35934, 35976, 36122, 36145, 36232, 36295, 36709, 36716, 36831, 36946, 37218, 37260, 37260, 37393, 37685, 37879, 37920, 38032, 38099, 38141, 38200, 38250, 38252, 38336, 38475, 38505, 38540, 38613, 39006, 39508, 39585, 39692, 40359, 40444, 40784, 41096, 41441, 41543, 41612, 41727, 41727, 41727, 41727, 42530, 42666, 42666, 43291, 43440, 43740, 43948, 44137, 44608, 44850, 45298]}],                        {\"template\": {\"data\": {\"bar\": [{\"error_x\": {\"color\": \"#2a3f5f\"}, \"error_y\": {\"color\": \"#2a3f5f\"}, \"marker\": {\"line\": {\"color\": \"#E5ECF6\", \"width\": 0.5}}, \"type\": \"bar\"}], \"barpolar\": [{\"marker\": {\"line\": {\"color\": \"#E5ECF6\", \"width\": 0.5}}, \"type\": \"barpolar\"}], \"carpet\": [{\"aaxis\": {\"endlinecolor\": \"#2a3f5f\", \"gridcolor\": \"white\", \"linecolor\": \"white\", \"minorgridcolor\": \"white\", \"startlinecolor\": \"#2a3f5f\"}, \"baxis\": {\"endlinecolor\": \"#2a3f5f\", \"gridcolor\": \"white\", \"linecolor\": \"white\", \"minorgridcolor\": \"white\", \"startlinecolor\": \"#2a3f5f\"}, \"type\": \"carpet\"}], \"choropleth\": [{\"colorbar\": {\"outlinewidth\": 0, \"ticks\": \"\"}, \"type\": \"choropleth\"}], \"contour\": [{\"colorbar\": {\"outlinewidth\": 0, \"ticks\": \"\"}, \"colorscale\": [[0.0, \"#0d0887\"], [0.1111111111111111, \"#46039f\"], [0.2222222222222222, \"#7201a8\"], [0.3333333333333333, \"#9c179e\"], [0.4444444444444444, \"#bd3786\"], [0.5555555555555556, \"#d8576b\"], [0.6666666666666666, \"#ed7953\"], [0.7777777777777778, \"#fb9f3a\"], [0.8888888888888888, \"#fdca26\"], [1.0, \"#f0f921\"]], \"type\": \"contour\"}], \"contourcarpet\": [{\"colorbar\": {\"outlinewidth\": 0, \"ticks\": \"\"}, \"type\": \"contourcarpet\"}], \"heatmap\": [{\"colorbar\": {\"outlinewidth\": 0, \"ticks\": \"\"}, \"colorscale\": [[0.0, \"#0d0887\"], [0.1111111111111111, \"#46039f\"], [0.2222222222222222, \"#7201a8\"], [0.3333333333333333, \"#9c179e\"], [0.4444444444444444, \"#bd3786\"], [0.5555555555555556, \"#d8576b\"], [0.6666666666666666, \"#ed7953\"], [0.7777777777777778, \"#fb9f3a\"], [0.8888888888888888, \"#fdca26\"], [1.0, \"#f0f921\"]], \"type\": \"heatmap\"}], \"heatmapgl\": [{\"colorbar\": {\"outlinewidth\": 0, \"ticks\": \"\"}, \"colorscale\": [[0.0, \"#0d0887\"], [0.1111111111111111, \"#46039f\"], [0.2222222222222222, \"#7201a8\"], [0.3333333333333333, \"#9c179e\"], [0.4444444444444444, \"#bd3786\"], [0.5555555555555556, \"#d8576b\"], [0.6666666666666666, \"#ed7953\"], [0.7777777777777778, \"#fb9f3a\"], [0.8888888888888888, \"#fdca26\"], [1.0, \"#f0f921\"]], \"type\": \"heatmapgl\"}], \"histogram\": [{\"marker\": {\"colorbar\": {\"outlinewidth\": 0, \"ticks\": \"\"}}, \"type\": \"histogram\"}], \"histogram2d\": [{\"colorbar\": {\"outlinewidth\": 0, \"ticks\": \"\"}, \"colorscale\": [[0.0, \"#0d0887\"], [0.1111111111111111, \"#46039f\"], [0.2222222222222222, \"#7201a8\"], [0.3333333333333333, \"#9c179e\"], [0.4444444444444444, \"#bd3786\"], [0.5555555555555556, \"#d8576b\"], [0.6666666666666666, \"#ed7953\"], [0.7777777777777778, \"#fb9f3a\"], [0.8888888888888888, \"#fdca26\"], [1.0, \"#f0f921\"]], \"type\": \"histogram2d\"}], \"histogram2dcontour\": [{\"colorbar\": {\"outlinewidth\": 0, \"ticks\": \"\"}, \"colorscale\": [[0.0, \"#0d0887\"], [0.1111111111111111, \"#46039f\"], [0.2222222222222222, \"#7201a8\"], [0.3333333333333333, \"#9c179e\"], [0.4444444444444444, \"#bd3786\"], [0.5555555555555556, \"#d8576b\"], [0.6666666666666666, \"#ed7953\"], [0.7777777777777778, \"#fb9f3a\"], [0.8888888888888888, \"#fdca26\"], [1.0, \"#f0f921\"]], \"type\": \"histogram2dcontour\"}], \"mesh3d\": [{\"colorbar\": {\"outlinewidth\": 0, \"ticks\": \"\"}, \"type\": \"mesh3d\"}], \"parcoords\": [{\"line\": {\"colorbar\": {\"outlinewidth\": 0, \"ticks\": \"\"}}, \"type\": \"parcoords\"}], \"pie\": [{\"automargin\": true, \"type\": \"pie\"}], \"scatter\": [{\"marker\": {\"colorbar\": {\"outlinewidth\": 0, \"ticks\": \"\"}}, \"type\": \"scatter\"}], \"scatter3d\": [{\"line\": {\"colorbar\": {\"outlinewidth\": 0, \"ticks\": \"\"}}, \"marker\": {\"colorbar\": {\"outlinewidth\": 0, \"ticks\": \"\"}}, \"type\": \"scatter3d\"}], \"scattercarpet\": [{\"marker\": {\"colorbar\": {\"outlinewidth\": 0, \"ticks\": \"\"}}, \"type\": \"scattercarpet\"}], \"scattergeo\": [{\"marker\": {\"colorbar\": {\"outlinewidth\": 0, \"ticks\": \"\"}}, \"type\": \"scattergeo\"}], \"scattergl\": [{\"marker\": {\"colorbar\": {\"outlinewidth\": 0, \"ticks\": \"\"}}, \"type\": \"scattergl\"}], \"scattermapbox\": [{\"marker\": {\"colorbar\": {\"outlinewidth\": 0, \"ticks\": \"\"}}, \"type\": \"scattermapbox\"}], \"scatterpolar\": [{\"marker\": {\"colorbar\": {\"outlinewidth\": 0, \"ticks\": \"\"}}, \"type\": \"scatterpolar\"}], \"scatterpolargl\": [{\"marker\": {\"colorbar\": {\"outlinewidth\": 0, \"ticks\": \"\"}}, \"type\": \"scatterpolargl\"}], \"scatterternary\": [{\"marker\": {\"colorbar\": {\"outlinewidth\": 0, \"ticks\": \"\"}}, \"type\": \"scatterternary\"}], \"surface\": [{\"colorbar\": {\"outlinewidth\": 0, \"ticks\": \"\"}, \"colorscale\": [[0.0, \"#0d0887\"], [0.1111111111111111, \"#46039f\"], [0.2222222222222222, \"#7201a8\"], [0.3333333333333333, \"#9c179e\"], [0.4444444444444444, \"#bd3786\"], [0.5555555555555556, \"#d8576b\"], [0.6666666666666666, \"#ed7953\"], [0.7777777777777778, \"#fb9f3a\"], [0.8888888888888888, \"#fdca26\"], [1.0, \"#f0f921\"]], \"type\": \"surface\"}], \"table\": [{\"cells\": {\"fill\": {\"color\": \"#EBF0F8\"}, \"line\": {\"color\": \"white\"}}, \"header\": {\"fill\": {\"color\": \"#C8D4E3\"}, \"line\": {\"color\": \"white\"}}, \"type\": \"table\"}]}, \"layout\": {\"annotationdefaults\": {\"arrowcolor\": \"#2a3f5f\", \"arrowhead\": 0, \"arrowwidth\": 1}, \"autotypenumbers\": \"strict\", \"coloraxis\": {\"colorbar\": {\"outlinewidth\": 0, \"ticks\": \"\"}}, \"colorscale\": {\"diverging\": [[0, \"#8e0152\"], [0.1, \"#c51b7d\"], [0.2, \"#de77ae\"], [0.3, \"#f1b6da\"], [0.4, \"#fde0ef\"], [0.5, \"#f7f7f7\"], [0.6, \"#e6f5d0\"], [0.7, \"#b8e186\"], [0.8, \"#7fbc41\"], [0.9, \"#4d9221\"], [1, \"#276419\"]], \"sequential\": [[0.0, \"#0d0887\"], [0.1111111111111111, \"#46039f\"], [0.2222222222222222, \"#7201a8\"], [0.3333333333333333, \"#9c179e\"], [0.4444444444444444, \"#bd3786\"], [0.5555555555555556, \"#d8576b\"], [0.6666666666666666, \"#ed7953\"], [0.7777777777777778, \"#fb9f3a\"], [0.8888888888888888, \"#fdca26\"], [1.0, \"#f0f921\"]], \"sequentialminus\": [[0.0, \"#0d0887\"], [0.1111111111111111, \"#46039f\"], [0.2222222222222222, \"#7201a8\"], [0.3333333333333333, \"#9c179e\"], [0.4444444444444444, \"#bd3786\"], [0.5555555555555556, \"#d8576b\"], [0.6666666666666666, \"#ed7953\"], [0.7777777777777778, \"#fb9f3a\"], [0.8888888888888888, \"#fdca26\"], [1.0, \"#f0f921\"]]}, \"colorway\": [\"#636efa\", \"#EF553B\", \"#00cc96\", \"#ab63fa\", \"#FFA15A\", \"#19d3f3\", \"#FF6692\", \"#B6E880\", \"#FF97FF\", \"#FECB52\"], \"font\": {\"color\": \"#2a3f5f\"}, \"geo\": {\"bgcolor\": \"white\", \"lakecolor\": \"white\", \"landcolor\": \"#E5ECF6\", \"showlakes\": true, \"showland\": true, \"subunitcolor\": \"white\"}, \"hoverlabel\": {\"align\": \"left\"}, \"hovermode\": \"closest\", \"mapbox\": {\"style\": \"light\"}, \"paper_bgcolor\": \"white\", \"plot_bgcolor\": \"#E5ECF6\", \"polar\": {\"angularaxis\": {\"gridcolor\": \"white\", \"linecolor\": \"white\", \"ticks\": \"\"}, \"bgcolor\": \"#E5ECF6\", \"radialaxis\": {\"gridcolor\": \"white\", \"linecolor\": \"white\", \"ticks\": \"\"}}, \"scene\": {\"xaxis\": {\"backgroundcolor\": \"#E5ECF6\", \"gridcolor\": \"white\", \"gridwidth\": 2, \"linecolor\": \"white\", \"showbackground\": true, \"ticks\": \"\", \"zerolinecolor\": \"white\"}, \"yaxis\": {\"backgroundcolor\": \"#E5ECF6\", \"gridcolor\": \"white\", \"gridwidth\": 2, \"linecolor\": \"white\", \"showbackground\": true, \"ticks\": \"\", \"zerolinecolor\": \"white\"}, \"zaxis\": {\"backgroundcolor\": \"#E5ECF6\", \"gridcolor\": \"white\", \"gridwidth\": 2, \"linecolor\": \"white\", \"showbackground\": true, \"ticks\": \"\", \"zerolinecolor\": \"white\"}}, \"shapedefaults\": {\"line\": {\"color\": \"#2a3f5f\"}}, \"ternary\": {\"aaxis\": {\"gridcolor\": \"white\", \"linecolor\": \"white\", \"ticks\": \"\"}, \"baxis\": {\"gridcolor\": \"white\", \"linecolor\": \"white\", \"ticks\": \"\"}, \"bgcolor\": \"#E5ECF6\", \"caxis\": {\"gridcolor\": \"white\", \"linecolor\": \"white\", \"ticks\": \"\"}}, \"title\": {\"x\": 0.05}, \"xaxis\": {\"automargin\": true, \"gridcolor\": \"white\", \"linecolor\": \"white\", \"ticks\": \"\", \"title\": {\"standoff\": 15}, \"zerolinecolor\": \"white\", \"zerolinewidth\": 2}, \"yaxis\": {\"automargin\": true, \"gridcolor\": \"white\", \"linecolor\": \"white\", \"ticks\": \"\", \"title\": {\"standoff\": 15}, \"zerolinecolor\": \"white\", \"zerolinewidth\": 2}}}, \"title\": {\"text\": \"Covid-19 Cases Timeseries\"}, \"xaxis\": {\"title\": {\"text\": \"Date\"}}, \"yaxis\": {\"title\": {\"text\": \"Country\"}}},                        {\"responsive\": true}                    ).then(function(){\n                            \nvar gd = document.getElementById('2742a694-0b5f-4144-95fc-04e8c6e68611');\nvar x = new MutationObserver(function (mutations, observer) {{\n        var display = window.getComputedStyle(gd).display;\n        if (!display || display === 'none') {{\n            console.log([gd, 'removed!']);\n            Plotly.purge(gd);\n            observer.disconnect();\n        }}\n}});\n\n// Listen for the removal of the full notebook cells\nvar notebookContainer = gd.closest('#notebook-container');\nif (notebookContainer) {{\n    x.observe(notebookContainer, {childList: true});\n}}\n\n// Listen for the clearing of the current output cell\nvar outputEl = gd.closest('.output');\nif (outputEl) {{\n    x.observe(outputEl, {childList: true});\n}}\n\n                        })                };                });            </script>        </div>"
         },
         "metadata": {},
         "output_type": "display_data"
        }
       ]
      }
     },
     "5fae99555ddc4a0bbab49c716877d133": {
      "model_module": "jupyter-vuetify",
      "model_module_version": "^1.6.1",
      "model_name": "ThemeModel",
      "state": {
       "_model_module_version": "^1.6.1",
       "_view_module": null,
       "_view_module_version": "^1.6.1",
       "dark": false
      }
     },
     "611dd9a3984b42b98756e19133bcbad3": {
      "model_module": "@jupyter-widgets/base",
      "model_module_version": "1.2.0",
      "model_name": "LayoutModel",
      "state": {}
     },
     "6169884ac4a140dda86ab2d2c67058d0": {
      "model_module": "@jupyter-widgets/controls",
      "model_module_version": "1.5.0",
      "model_name": "DescriptionStyleModel",
      "state": {
       "description_width": ""
      }
     },
     "636c9b05c8c3491494d32cda6efaa914": {
      "model_module": "@jupyter-widgets/base",
      "model_module_version": "1.2.0",
      "model_name": "LayoutModel",
      "state": {}
     },
     "649e041beb4a423d99b019f1b7b03175": {
      "model_module": "@jupyter-widgets/base",
      "model_module_version": "1.2.0",
      "model_name": "LayoutModel",
      "state": {}
     },
     "64b8372f6c7047aa97f6442ced24c941": {
      "model_module": "@jupyter-widgets/controls",
      "model_module_version": "1.5.0",
      "model_name": "DescriptionStyleModel",
      "state": {
       "description_width": ""
      }
     },
     "656ba6756f0e451a813d4affd8330c0e": {
      "model_module": "@jupyter-widgets/base",
      "model_module_version": "1.2.0",
      "model_name": "LayoutModel",
      "state": {}
     },
     "66333a7d28094af6921391f9a90182f3": {
      "model_module": "@jupyter-widgets/controls",
      "model_module_version": "1.5.0",
      "model_name": "VBoxModel",
      "state": {
       "_dom_classes": [
        "widget-interact"
       ],
       "children": [
        "IPY_MODEL_96f53d520e52493c99c4bd81b894a123",
        "IPY_MODEL_f222ad5d38f246d1a108e0e08fa2a131",
        "IPY_MODEL_1514250165014c45ac31e177f1e182a7"
       ],
       "layout": "IPY_MODEL_636c9b05c8c3491494d32cda6efaa914"
      }
     },
     "6689e5b1c202436698600b4224d7b638": {
      "model_module": "@jupyter-widgets/base",
      "model_module_version": "1.2.0",
      "model_name": "LayoutModel",
      "state": {}
     },
     "66bc07cc000e4a0c97385b46f179f999": {
      "model_module": "@jupyter-widgets/base",
      "model_module_version": "1.2.0",
      "model_name": "LayoutModel",
      "state": {}
     },
     "66cd534c49484adc8d826a2c267c9ab7": {
      "model_module": "@jupyter-widgets/controls",
      "model_module_version": "1.5.0",
      "model_name": "DropdownModel",
      "state": {
       "_options_labels": [
        "Afghanistan",
        "Albania",
        "Algeria",
        "Andorra",
        "Angola",
        "Antigua and Barbuda",
        "Argentina",
        "Armenia",
        "Australia",
        "Australia",
        "Australia",
        "Australia",
        "Australia",
        "Australia",
        "Australia",
        "Australia",
        "Austria",
        "Azerbaijan",
        "Bahamas",
        "Bahrain",
        "Bangladesh",
        "Barbados",
        "Belarus",
        "Belgium",
        "Belize",
        "Benin",
        "Bhutan",
        "Bolivia",
        "Bosnia and Herzegovina",
        "Botswana",
        "Brazil",
        "Brunei",
        "Bulgaria",
        "Burkina Faso",
        "Burma",
        "Burundi",
        "Cabo Verde",
        "Cambodia",
        "Cameroon",
        "Canada",
        "Canada",
        "Canada",
        "Canada",
        "Canada",
        "Canada",
        "Canada",
        "Canada",
        "Canada",
        "Canada",
        "Canada",
        "Canada",
        "Canada",
        "Canada",
        "Canada",
        "Canada",
        "Central African Republic",
        "Chad",
        "Chile",
        "China",
        "China",
        "China",
        "China",
        "China",
        "China",
        "China",
        "China",
        "China",
        "China",
        "China",
        "China",
        "China",
        "China",
        "China",
        "China",
        "China",
        "China",
        "China",
        "China",
        "China",
        "China",
        "China",
        "China",
        "China",
        "China",
        "China",
        "China",
        "China",
        "China",
        "China",
        "China",
        "China",
        "Colombia",
        "Comoros",
        "Congo (Brazzaville)",
        "Congo (Kinshasa)",
        "Costa Rica",
        "Cote d'Ivoire",
        "Croatia",
        "Cuba",
        "Cyprus",
        "Czechia",
        "Denmark",
        "Denmark",
        "Denmark",
        "Diamond Princess",
        "Djibouti",
        "Dominica",
        "Dominican Republic",
        "Ecuador",
        "Egypt",
        "El Salvador",
        "Equatorial Guinea",
        "Eritrea",
        "Estonia",
        "Eswatini",
        "Ethiopia",
        "Fiji",
        "Finland",
        "France",
        "France",
        "France",
        "France",
        "France",
        "France",
        "France",
        "France",
        "France",
        "France",
        "France",
        "France",
        "Gabon",
        "Gambia",
        "Georgia",
        "Germany",
        "Ghana",
        "Greece",
        "Grenada",
        "Guatemala",
        "Guinea",
        "Guinea-Bissau",
        "Guyana",
        "Haiti",
        "Holy See",
        "Honduras",
        "Hungary",
        "Iceland",
        "India",
        "Indonesia",
        "Iran",
        "Iraq",
        "Ireland",
        "Israel",
        "Italy",
        "Jamaica",
        "Japan",
        "Jordan",
        "Kazakhstan",
        "Kenya",
        "Korea, South",
        "Kosovo",
        "Kuwait",
        "Kyrgyzstan",
        "Laos",
        "Latvia",
        "Lebanon",
        "Lesotho",
        "Liberia",
        "Libya",
        "Liechtenstein",
        "Lithuania",
        "Luxembourg",
        "MS Zaandam",
        "Madagascar",
        "Malawi",
        "Malaysia",
        "Maldives",
        "Mali",
        "Malta",
        "Marshall Islands",
        "Mauritania",
        "Mauritius",
        "Mexico",
        "Moldova",
        "Monaco",
        "Mongolia",
        "Montenegro",
        "Morocco",
        "Mozambique",
        "Namibia",
        "Nepal",
        "Netherlands",
        "Netherlands",
        "Netherlands",
        "Netherlands",
        "Netherlands",
        "New Zealand",
        "Nicaragua",
        "Niger",
        "Nigeria",
        "North Macedonia",
        "Norway",
        "Oman",
        "Pakistan",
        "Panama",
        "Papua New Guinea",
        "Paraguay",
        "Peru",
        "Philippines",
        "Poland",
        "Portugal",
        "Qatar",
        "Romania",
        "Russia",
        "Rwanda",
        "Saint Kitts and Nevis",
        "Saint Lucia",
        "Saint Vincent and the Grenadines",
        "Samoa",
        "San Marino",
        "Sao Tome and Principe",
        "Saudi Arabia",
        "Senegal",
        "Serbia",
        "Seychelles",
        "Sierra Leone",
        "Singapore",
        "Slovakia",
        "Slovenia",
        "Solomon Islands",
        "Somalia",
        "South Africa",
        "South Sudan",
        "Spain",
        "Sri Lanka",
        "Sudan",
        "Suriname",
        "Sweden",
        "Switzerland",
        "Syria",
        "Taiwan*",
        "Tajikistan",
        "Tanzania",
        "Thailand",
        "Timor-Leste",
        "Togo",
        "Trinidad and Tobago",
        "Tunisia",
        "Turkey",
        "US",
        "Uganda",
        "Ukraine",
        "United Arab Emirates",
        "United Kingdom",
        "United Kingdom",
        "United Kingdom",
        "United Kingdom",
        "United Kingdom",
        "United Kingdom",
        "United Kingdom",
        "United Kingdom",
        "United Kingdom",
        "United Kingdom",
        "United Kingdom",
        "Uruguay",
        "Uzbekistan",
        "Vanuatu",
        "Venezuela",
        "Vietnam",
        "West Bank and Gaza",
        "Yemen",
        "Zambia",
        "Zimbabwe"
       ],
       "description": "country",
       "index": 0,
       "layout": "IPY_MODEL_8b4e218144564dad830c8a3f02b7fa7f",
       "style": "IPY_MODEL_af85346e2d8a4c8c8c64652fccd07710"
      }
     },
     "6c50b95b8f114891807228623c3bfd5b": {
      "model_module": "@jupyter-widgets/controls",
      "model_module_version": "1.5.0",
      "model_name": "CheckboxModel",
      "state": {
       "description": "Worldwide",
       "disabled": false,
       "layout": "IPY_MODEL_ed49d7b691c3403b885531be19b11d08",
       "style": "IPY_MODEL_f4f1a4551e384c70a4ab962bace62d84",
       "value": false
      }
     },
     "6eccf0de998d4d47ae154a5c1016f6d6": {
      "model_module": "@jupyter-widgets/controls",
      "model_module_version": "1.5.0",
      "model_name": "IntSliderModel",
      "state": {
       "description": "number",
       "layout": "IPY_MODEL_0d2872fa9b0c4bff87885a45bcebbd67",
       "max": 30,
       "min": 1,
       "style": "IPY_MODEL_f95eebdfbed14520876fffe95d896dbf",
       "value": 1
      }
     },
     "6f216bac770a45bfadfbd0aeb5733819": {
      "model_module": "@jupyter-widgets/base",
      "model_module_version": "1.2.0",
      "model_name": "LayoutModel",
      "state": {}
     },
     "6f4947efdb6a45a9a9ba16f3bc767e59": {
      "model_module": "@jupyter-widgets/base",
      "model_module_version": "1.2.0",
      "model_name": "LayoutModel",
      "state": {}
     },
     "702b2ec8a0784db49d65de2f5f6b8297": {
      "model_module": "@jupyter-widgets/controls",
      "model_module_version": "1.5.0",
      "model_name": "DropdownModel",
      "state": {
       "_options_labels": [
        "Confirmed",
        "Recovered",
        "Death"
       ],
       "description": "content",
       "index": 0,
       "layout": "IPY_MODEL_b2700af34f674b268b9270ccfd9c8b96",
       "style": "IPY_MODEL_31e641478ad6417bbd58d22eb8503e17"
      }
     },
     "713669fb8e3c4b33a95add78a1d649ef": {
      "model_module": "@jupyter-widgets/output",
      "model_module_version": "1.0.0",
      "model_name": "OutputModel",
      "state": {
       "layout": "IPY_MODEL_611dd9a3984b42b98756e19133bcbad3",
       "outputs": [
        {
         "data": {
          "application/vnd.plotly.v1+json": {
           "config": {
            "plotlyServerURL": "https://plot.ly"
           },
           "data": [
            {
             "connectgaps": true,
             "line": {
              "color": "blue",
              "width": 1
             },
             "mode": "lines+markers",
             "name": "confirmed",
             "text": "Total confirmed: 53775",
             "type": "scatter",
             "x": [
              "1/23/20",
              "1/24/20",
              "1/25/20",
              "1/26/20",
              "1/27/20",
              "1/28/20",
              "1/29/20",
              "1/30/20",
              "1/31/20",
              "2/1/20",
              "2/2/20",
              "2/3/20",
              "2/4/20",
              "2/5/20",
              "2/6/20",
              "2/7/20",
              "2/8/20",
              "2/9/20",
              "2/10/20",
              "2/11/20",
              "2/12/20",
              "2/13/20",
              "2/14/20",
              "2/15/20",
              "2/16/20",
              "2/17/20",
              "2/18/20",
              "2/19/20",
              "2/20/20",
              "2/21/20",
              "2/22/20",
              "2/23/20",
              "2/24/20",
              "2/25/20",
              "2/26/20",
              "2/27/20",
              "2/28/20",
              "2/29/20",
              "3/1/20",
              "3/2/20",
              "3/3/20",
              "3/4/20",
              "3/5/20",
              "3/6/20",
              "3/7/20",
              "3/8/20",
              "3/9/20",
              "3/10/20",
              "3/11/20",
              "3/12/20",
              "3/13/20",
              "3/14/20",
              "3/15/20",
              "3/16/20",
              "3/17/20",
              "3/18/20",
              "3/19/20",
              "3/20/20",
              "3/21/20",
              "3/22/20",
              "3/23/20",
              "3/24/20",
              "3/25/20",
              "3/26/20",
              "3/27/20",
              "3/28/20",
              "3/29/20",
              "3/30/20",
              "3/31/20",
              "4/1/20",
              "4/2/20",
              "4/3/20",
              "4/4/20",
              "4/5/20",
              "4/6/20",
              "4/7/20",
              "4/8/20",
              "4/9/20",
              "4/10/20",
              "4/11/20",
              "4/12/20",
              "4/13/20",
              "4/14/20",
              "4/15/20",
              "4/16/20",
              "4/17/20",
              "4/18/20",
              "4/19/20",
              "4/20/20",
              "4/21/20",
              "4/22/20",
              "4/23/20",
              "4/24/20",
              "4/25/20",
              "4/26/20",
              "4/27/20",
              "4/28/20",
              "4/29/20",
              "4/30/20",
              "5/1/20",
              "5/2/20",
              "5/3/20",
              "5/4/20",
              "5/5/20",
              "5/6/20",
              "5/7/20",
              "5/8/20",
              "5/9/20",
              "5/10/20",
              "5/11/20",
              "5/12/20",
              "5/13/20",
              "5/14/20",
              "5/15/20",
              "5/16/20",
              "5/17/20",
              "5/18/20",
              "5/19/20",
              "5/20/20",
              "5/21/20",
              "5/22/20",
              "5/23/20",
              "5/24/20",
              "5/25/20",
              "5/26/20",
              "5/27/20",
              "5/28/20",
              "5/29/20",
              "5/30/20",
              "5/31/20",
              "6/1/20",
              "6/2/20",
              "6/3/20",
              "6/4/20",
              "6/5/20",
              "6/6/20",
              "6/7/20",
              "6/8/20",
              "6/9/20",
              "6/10/20",
              "6/11/20",
              "6/12/20",
              "6/13/20",
              "6/14/20",
              "6/15/20",
              "6/16/20",
              "6/17/20",
              "6/18/20",
              "6/19/20",
              "6/20/20",
              "6/21/20",
              "6/22/20",
              "6/23/20",
              "6/24/20",
              "6/25/20",
              "6/26/20",
              "6/27/20",
              "6/28/20",
              "6/29/20",
              "6/30/20",
              "7/1/20",
              "7/2/20",
              "7/3/20",
              "7/4/20",
              "7/5/20",
              "7/6/20",
              "7/7/20",
              "7/8/20",
              "7/9/20",
              "7/10/20",
              "7/11/20",
              "7/12/20",
              "7/13/20",
              "7/14/20",
              "7/15/20",
              "7/16/20",
              "7/17/20",
              "7/18/20",
              "7/19/20",
              "7/20/20",
              "7/21/20",
              "7/22/20",
              "7/23/20",
              "7/24/20",
              "7/25/20",
              "7/26/20",
              "7/27/20",
              "7/28/20",
              "7/29/20",
              "7/30/20",
              "7/31/20",
              "8/1/20",
              "8/2/20",
              "8/3/20",
              "8/4/20",
              "8/5/20",
              "8/6/20",
              "8/7/20",
              "8/8/20",
              "8/9/20",
              "8/10/20",
              "8/11/20",
              "8/12/20",
              "8/13/20",
              "8/14/20",
              "8/15/20",
              "8/16/20",
              "8/17/20",
              "8/18/20",
              "8/19/20",
              "8/20/20",
              "8/21/20",
              "8/22/20",
              "8/23/20",
              "8/24/20",
              "8/25/20",
              "8/26/20",
              "8/27/20",
              "8/28/20",
              "8/29/20",
              "8/30/20",
              "8/31/20",
              "9/1/20",
              "9/2/20",
              "9/3/20",
              "9/4/20",
              "9/5/20",
              "9/6/20",
              "9/7/20",
              "9/8/20",
              "9/9/20",
              "9/10/20",
              "9/11/20",
              "9/12/20",
              "9/13/20",
              "9/14/20",
              "9/15/20",
              "9/16/20",
              "9/17/20",
              "9/18/20",
              "9/19/20",
              "9/20/20",
              "9/21/20",
              "9/22/20",
              "9/23/20",
              "9/24/20",
              "9/25/20",
              "9/26/20",
              "9/27/20",
              "9/28/20",
              "9/29/20",
              "9/30/20",
              "10/1/20",
              "10/2/20",
              "10/3/20",
              "10/4/20",
              "10/5/20",
              "10/6/20",
              "10/7/20",
              "10/8/20",
              "10/9/20",
              "10/10/20",
              "10/11/20",
              "10/12/20",
              "10/13/20",
              "10/14/20",
              "10/15/20",
              "10/16/20",
              "10/17/20",
              "10/18/20",
              "10/19/20",
              "10/20/20",
              "10/21/20",
              "10/22/20",
              "10/23/20",
              "10/24/20",
              "10/25/20",
              "10/26/20",
              "10/27/20",
              "10/28/20",
              "10/29/20",
              "10/30/20",
              "10/31/20",
              "11/1/20",
              "11/2/20",
              "11/3/20",
              "11/4/20",
              "11/5/20",
              "11/6/20",
              "11/7/20",
              "11/8/20",
              "11/9/20",
              "11/10/20",
              "11/11/20",
              "11/12/20",
              "11/13/20",
              "11/14/20",
              "11/15/20",
              "11/16/20",
              "11/17/20",
              "11/18/20",
              "11/19/20",
              "11/20/20",
              "11/21/20",
              "11/22/20",
              "11/23/20",
              "11/24/20",
              "11/25/20",
              "11/26/20",
              "11/27/20",
              "11/28/20",
              "11/29/20",
              "11/30/20",
              "12/1/20",
              "12/2/20",
              "12/3/20",
              "12/4/20",
              "12/5/20",
              "12/6/20",
              "12/7/20",
              "12/8/20",
              "12/9/20",
              "12/10/20",
              "12/11/20",
              "12/12/20",
              "12/13/20",
              "12/14/20",
              "12/15/20",
              "12/16/20",
              "12/17/20",
              "12/18/20",
              "12/19/20",
              "12/20/20",
              "12/21/20",
              "12/22/20",
              "12/23/20",
              "12/24/20",
              "12/25/20",
              "12/26/20",
              "12/27/20",
              "12/28/20",
              "12/29/20",
              "12/30/20",
              "12/31/20",
              "1/1/21",
              "1/2/21",
              "1/3/21",
              "1/4/21",
              "1/5/21",
              "1/6/21",
              "1/7/21",
              "1/8/21",
              "1/9/21",
              "1/10/21",
              "1/11/21",
              "1/12/21",
              "1/13/21",
              "1/14/21"
             ],
             "y": [
              0,
              0,
              0,
              0,
              0,
              0,
              0,
              0,
              0,
              0,
              0,
              0,
              0,
              0,
              0,
              0,
              0,
              0,
              0,
              0,
              0,
              0,
              0,
              0,
              0,
              0,
              0,
              0,
              0,
              0,
              0,
              0,
              1,
              1,
              1,
              1,
              1,
              1,
              1,
              1,
              2,
              4,
              4,
              4,
              4,
              5,
              7,
              8,
              11,
              12,
              13,
              15,
              16,
              18,
              20,
              24,
              25,
              29,
              30,
              34,
              41,
              43,
              76,
              80,
              91,
              107,
              118,
              146,
              175,
              197,
              240,
              275,
              300,
              338,
              368,
              424,
              445,
              485,
              532,
              556,
              608,
              666,
              715,
              785,
              841,
              907,
              934,
              997,
              1027,
              1093,
              1177,
              1236,
              1331,
              1464,
              1532,
              1704,
              1830,
              1940,
              2127,
              2291,
              2470,
              2705,
              2895,
              3225,
              3393,
              3564,
              3781,
              4042,
              4403,
              4687,
              4968,
              5227,
              5640,
              6054,
              6403,
              6665,
              7073,
              7654,
              8146,
              8677,
              9219,
              10001,
              10585,
              11176,
              11834,
              12459,
              13039,
              13662,
              14528,
              15208,
              15753,
              16512,
              17270,
              18057,
              18972,
              19554,
              20345,
              20920,
              21462,
              22146,
              22894,
              23550,
              24106,
              24770,
              25531,
              26314,
              26878,
              27536,
              27882,
              28428,
              28837,
              29147,
              29471,
              29705,
              30165,
              30441,
              30606,
              30957,
              31228,
              31507,
              31826,
              32012,
              32314,
              32662,
              32941,
              33180,
              33374,
              33584,
              33898,
              34184,
              34356,
              34441,
              34595,
              34730,
              34984,
              35060,
              35219,
              35279,
              35453,
              35493,
              35605,
              35717,
              35918,
              35978,
              36026,
              36147,
              36253,
              36358,
              36463,
              36532,
              36665,
              36700,
              36701,
              36737,
              36773,
              36820,
              36928,
              37006,
              37046,
              37083,
              37153,
              37260,
              37336,
              37422,
              37497,
              37542,
              37590,
              37667,
              37710,
              37750,
              37852,
              37885,
              37944,
              37990,
              38045,
              38061,
              38103,
              38119,
              38130,
              38133,
              38155,
              38159,
              38193,
              38243,
              38288,
              38304,
              38324,
              38398,
              38494,
              38520,
              38544,
              38572,
              38606,
              38641,
              38716,
              38772,
              38815,
              38855,
              38872,
              38897,
              38919,
              39044,
              39074,
              39096,
              39145,
              39170,
              39186,
              39192,
              39227,
              39239,
              39254,
              39268,
              39285,
              39290,
              39297,
              39341,
              39422,
              39486,
              39548,
              39616,
              39693,
              39703,
              39799,
              39870,
              39928,
              39994,
              40026,
              40088,
              40141,
              40200,
              40287,
              40369,
              40510,
              40626,
              40687,
              40768,
              40833,
              40937,
              41032,
              41145,
              41268,
              41334,
              41425,
              41501,
              41633,
              41728,
              41814,
              41935,
              41975,
              42033,
              42159,
              42297,
              42463,
              42609,
              42795,
              42969,
              43035,
              43240,
              43468,
              43681,
              43924,
              44177,
              44363,
              44503,
              44706,
              44988,
              45174,
              45384,
              45600,
              45723,
              45844,
              46116,
              46274,
              46516,
              46718,
              46837,
              46837,
              47072,
              47306,
              47516,
              47716,
              47851,
              48053,
              48116,
              48229,
              48527,
              48718,
              48952,
              49161,
              49378,
              49621,
              49681,
              49817,
              50013,
              50190,
              50433,
              50655,
              50810,
              50886,
              51039,
              51280,
              51350,
              51405,
              51526,
              51526,
              51526,
              51526,
              53011,
              53105,
              53105,
              53207,
              53332,
              53400,
              53489,
              53538,
              53584,
              53584,
              53775
             ]
            },
            {
             "connectgaps": true,
             "line": {
              "color": "red",
              "width": 1
             },
             "mode": "lines+markers",
             "name": "deaths",
             "text": "Total deaths: 2314",
             "type": "scatter",
             "x": [
              "1/23/20",
              "1/24/20",
              "1/25/20",
              "1/26/20",
              "1/27/20",
              "1/28/20",
              "1/29/20",
              "1/30/20",
              "1/31/20",
              "2/1/20",
              "2/2/20",
              "2/3/20",
              "2/4/20",
              "2/5/20",
              "2/6/20",
              "2/7/20",
              "2/8/20",
              "2/9/20",
              "2/10/20",
              "2/11/20",
              "2/12/20",
              "2/13/20",
              "2/14/20",
              "2/15/20",
              "2/16/20",
              "2/17/20",
              "2/18/20",
              "2/19/20",
              "2/20/20",
              "2/21/20",
              "2/22/20",
              "2/23/20",
              "2/24/20",
              "2/25/20",
              "2/26/20",
              "2/27/20",
              "2/28/20",
              "2/29/20",
              "3/1/20",
              "3/2/20",
              "3/3/20",
              "3/4/20",
              "3/5/20",
              "3/6/20",
              "3/7/20",
              "3/8/20",
              "3/9/20",
              "3/10/20",
              "3/11/20",
              "3/12/20",
              "3/13/20",
              "3/14/20",
              "3/15/20",
              "3/16/20",
              "3/17/20",
              "3/18/20",
              "3/19/20",
              "3/20/20",
              "3/21/20",
              "3/22/20",
              "3/23/20",
              "3/24/20",
              "3/25/20",
              "3/26/20",
              "3/27/20",
              "3/28/20",
              "3/29/20",
              "3/30/20",
              "3/31/20",
              "4/1/20",
              "4/2/20",
              "4/3/20",
              "4/4/20",
              "4/5/20",
              "4/6/20",
              "4/7/20",
              "4/8/20",
              "4/9/20",
              "4/10/20",
              "4/11/20",
              "4/12/20",
              "4/13/20",
              "4/14/20",
              "4/15/20",
              "4/16/20",
              "4/17/20",
              "4/18/20",
              "4/19/20",
              "4/20/20",
              "4/21/20",
              "4/22/20",
              "4/23/20",
              "4/24/20",
              "4/25/20",
              "4/26/20",
              "4/27/20",
              "4/28/20",
              "4/29/20",
              "4/30/20",
              "5/1/20",
              "5/2/20",
              "5/3/20",
              "5/4/20",
              "5/5/20",
              "5/6/20",
              "5/7/20",
              "5/8/20",
              "5/9/20",
              "5/10/20",
              "5/11/20",
              "5/12/20",
              "5/13/20",
              "5/14/20",
              "5/15/20",
              "5/16/20",
              "5/17/20",
              "5/18/20",
              "5/19/20",
              "5/20/20",
              "5/21/20",
              "5/22/20",
              "5/23/20",
              "5/24/20",
              "5/25/20",
              "5/26/20",
              "5/27/20",
              "5/28/20",
              "5/29/20",
              "5/30/20",
              "5/31/20",
              "6/1/20",
              "6/2/20",
              "6/3/20",
              "6/4/20",
              "6/5/20",
              "6/6/20",
              "6/7/20",
              "6/8/20",
              "6/9/20",
              "6/10/20",
              "6/11/20",
              "6/12/20",
              "6/13/20",
              "6/14/20",
              "6/15/20",
              "6/16/20",
              "6/17/20",
              "6/18/20",
              "6/19/20",
              "6/20/20",
              "6/21/20",
              "6/22/20",
              "6/23/20",
              "6/24/20",
              "6/25/20",
              "6/26/20",
              "6/27/20",
              "6/28/20",
              "6/29/20",
              "6/30/20",
              "7/1/20",
              "7/2/20",
              "7/3/20",
              "7/4/20",
              "7/5/20",
              "7/6/20",
              "7/7/20",
              "7/8/20",
              "7/9/20",
              "7/10/20",
              "7/11/20",
              "7/12/20",
              "7/13/20",
              "7/14/20",
              "7/15/20",
              "7/16/20",
              "7/17/20",
              "7/18/20",
              "7/19/20",
              "7/20/20",
              "7/21/20",
              "7/22/20",
              "7/23/20",
              "7/24/20",
              "7/25/20",
              "7/26/20",
              "7/27/20",
              "7/28/20",
              "7/29/20",
              "7/30/20",
              "7/31/20",
              "8/1/20",
              "8/2/20",
              "8/3/20",
              "8/4/20",
              "8/5/20",
              "8/6/20",
              "8/7/20",
              "8/8/20",
              "8/9/20",
              "8/10/20",
              "8/11/20",
              "8/12/20",
              "8/13/20",
              "8/14/20",
              "8/15/20",
              "8/16/20",
              "8/17/20",
              "8/18/20",
              "8/19/20",
              "8/20/20",
              "8/21/20",
              "8/22/20",
              "8/23/20",
              "8/24/20",
              "8/25/20",
              "8/26/20",
              "8/27/20",
              "8/28/20",
              "8/29/20",
              "8/30/20",
              "8/31/20",
              "9/1/20",
              "9/2/20",
              "9/3/20",
              "9/4/20",
              "9/5/20",
              "9/6/20",
              "9/7/20",
              "9/8/20",
              "9/9/20",
              "9/10/20",
              "9/11/20",
              "9/12/20",
              "9/13/20",
              "9/14/20",
              "9/15/20",
              "9/16/20",
              "9/17/20",
              "9/18/20",
              "9/19/20",
              "9/20/20",
              "9/21/20",
              "9/22/20",
              "9/23/20",
              "9/24/20",
              "9/25/20",
              "9/26/20",
              "9/27/20",
              "9/28/20",
              "9/29/20",
              "9/30/20",
              "10/1/20",
              "10/2/20",
              "10/3/20",
              "10/4/20",
              "10/5/20",
              "10/6/20",
              "10/7/20",
              "10/8/20",
              "10/9/20",
              "10/10/20",
              "10/11/20",
              "10/12/20",
              "10/13/20",
              "10/14/20",
              "10/15/20",
              "10/16/20",
              "10/17/20",
              "10/18/20",
              "10/19/20",
              "10/20/20",
              "10/21/20",
              "10/22/20",
              "10/23/20",
              "10/24/20",
              "10/25/20",
              "10/26/20",
              "10/27/20",
              "10/28/20",
              "10/29/20",
              "10/30/20",
              "10/31/20",
              "11/1/20",
              "11/2/20",
              "11/3/20",
              "11/4/20",
              "11/5/20",
              "11/6/20",
              "11/7/20",
              "11/8/20",
              "11/9/20",
              "11/10/20",
              "11/11/20",
              "11/12/20",
              "11/13/20",
              "11/14/20",
              "11/15/20",
              "11/16/20",
              "11/17/20",
              "11/18/20",
              "11/19/20",
              "11/20/20",
              "11/21/20",
              "11/22/20",
              "11/23/20",
              "11/24/20",
              "11/25/20",
              "11/26/20",
              "11/27/20",
              "11/28/20",
              "11/29/20",
              "11/30/20",
              "12/1/20",
              "12/2/20",
              "12/3/20",
              "12/4/20",
              "12/5/20",
              "12/6/20",
              "12/7/20",
              "12/8/20",
              "12/9/20",
              "12/10/20",
              "12/11/20",
              "12/12/20",
              "12/13/20",
              "12/14/20",
              "12/15/20",
              "12/16/20",
              "12/17/20",
              "12/18/20",
              "12/19/20",
              "12/20/20",
              "12/21/20",
              "12/22/20",
              "12/23/20",
              "12/24/20",
              "12/25/20",
              "12/26/20",
              "12/27/20",
              "12/28/20",
              "12/29/20",
              "12/30/20",
              "12/31/20",
              "1/1/21",
              "1/2/21",
              "1/3/21",
              "1/4/21",
              "1/5/21",
              "1/6/21",
              "1/7/21",
              "1/8/21",
              "1/9/21",
              "1/10/21",
              "1/11/21",
              "1/12/21",
              "1/13/21",
              "1/14/21"
             ],
             "y": [
              0,
              0,
              0,
              0,
              0,
              0,
              0,
              0,
              0,
              0,
              0,
              0,
              0,
              0,
              0,
              0,
              0,
              0,
              0,
              0,
              0,
              0,
              0,
              0,
              0,
              0,
              0,
              0,
              0,
              0,
              0,
              0,
              0,
              0,
              0,
              0,
              0,
              0,
              0,
              0,
              0,
              0,
              0,
              0,
              0,
              0,
              0,
              0,
              0,
              0,
              0,
              0,
              0,
              0,
              0,
              0,
              0,
              0,
              0,
              1,
              1,
              1,
              2,
              3,
              3,
              4,
              4,
              4,
              4,
              4,
              4,
              8,
              10,
              12,
              15,
              16,
              16,
              17,
              18,
              18,
              19,
              22,
              23,
              29,
              30,
              30,
              30,
              33,
              36,
              36,
              40,
              40,
              43,
              47,
              52,
              58,
              59,
              61,
              64,
              68,
              72,
              85,
              90,
              95,
              104,
              106,
              109,
              115,
              120,
              122,
              127,
              132,
              136,
              153,
              168,
              170,
              173,
              178,
              188,
              194,
              206,
              217,
              219,
              220,
              221,
              228,
              236,
              247,
              250,
              258,
              266,
              274,
              298,
              304,
              313,
              331,
              361,
              373,
              388,
              409,
              430,
              450,
              455,
              475,
              482,
              495,
              508,
              550,
              552,
              573,
              585,
              597,
              617,
              638,
              674,
              682,
              716,
              728,
              740,
              752,
              780,
              809,
              821,
              828,
              866,
              900,
              922,
              939,
              959,
              973,
              996,
              1012,
              1040,
              1064,
              1096,
              1117,
              1149,
              1166,
              1183,
              1185,
              1188,
              1192,
              1213,
              1227,
              1249,
              1261,
              1271,
              1272,
              1273,
              1283,
              1284,
              1285,
              1286,
              1290,
              1290,
              1296,
              1301,
              1310,
              1315,
              1321,
              1329,
              1346,
              1356,
              1365,
              1370,
              1371,
              1376,
              1378,
              1382,
              1384,
              1386,
              1386,
              1386,
              1388,
              1390,
              1398,
              1402,
              1402,
              1403,
              1403,
              1403,
              1403,
              1407,
              1410,
              1410,
              1410,
              1410,
              1413,
              1416,
              1419,
              1421,
              1421,
              1421,
              1421,
              1421,
              1427,
              1428,
              1438,
              1438,
              1439,
              1439,
              1443,
              1446,
              1447,
              1448,
              1453,
              1453,
              1455,
              1455,
              1458,
              1460,
              1460,
              1460,
              1460,
              1464,
              1464,
              1468,
              1469,
              1471,
              1472,
              1474,
              1475,
              1479,
              1481,
              1482,
              1483,
              1483,
              1487,
              1490,
              1494,
              1499,
              1501,
              1503,
              1507,
              1509,
              1513,
              1516,
              1520,
              1525,
              1531,
              1534,
              1535,
              1538,
              1538,
              1544,
              1547,
              1551,
              1557,
              1557,
              1559,
              1565,
              1577,
              1580,
              1584,
              1594,
              1598,
              1608,
              1620,
              1635,
              1641,
              1648,
              1653,
              1666,
              1678,
              1690,
              1702,
              1715,
              1728,
              1737,
              1740,
              1752,
              1774,
              1795,
              1822,
              1841,
              1846,
              1846,
              1864,
              1874,
              1900,
              1906,
              1919,
              1935,
              1945,
              1956,
              1965,
              1969,
              1995,
              2011,
              2025,
              2030,
              2047,
              2067,
              2082,
              2096,
              2117,
              2126,
              2139,
              2149,
              2160,
              2174,
              2179,
              2181,
              2191,
              2191,
              2191,
              2191,
              2237,
              2244,
              2244,
              2253,
              2257,
              2264,
              2277,
              2288,
              2301,
              2301,
              2314
             ]
            },
            {
             "connectgaps": true,
             "line": {
              "color": "green",
              "width": 1
             },
             "mode": "lines+markers",
             "name": "recovered",
             "text": "Total recovered: 45298",
             "type": "scatter",
             "x": [
              "1/23/20",
              "1/24/20",
              "1/25/20",
              "1/26/20",
              "1/27/20",
              "1/28/20",
              "1/29/20",
              "1/30/20",
              "1/31/20",
              "2/1/20",
              "2/2/20",
              "2/3/20",
              "2/4/20",
              "2/5/20",
              "2/6/20",
              "2/7/20",
              "2/8/20",
              "2/9/20",
              "2/10/20",
              "2/11/20",
              "2/12/20",
              "2/13/20",
              "2/14/20",
              "2/15/20",
              "2/16/20",
              "2/17/20",
              "2/18/20",
              "2/19/20",
              "2/20/20",
              "2/21/20",
              "2/22/20",
              "2/23/20",
              "2/24/20",
              "2/25/20",
              "2/26/20",
              "2/27/20",
              "2/28/20",
              "2/29/20",
              "3/1/20",
              "3/2/20",
              "3/3/20",
              "3/4/20",
              "3/5/20",
              "3/6/20",
              "3/7/20",
              "3/8/20",
              "3/9/20",
              "3/10/20",
              "3/11/20",
              "3/12/20",
              "3/13/20",
              "3/14/20",
              "3/15/20",
              "3/16/20",
              "3/17/20",
              "3/18/20",
              "3/19/20",
              "3/20/20",
              "3/21/20",
              "3/22/20",
              "3/23/20",
              "3/24/20",
              "3/25/20",
              "3/26/20",
              "3/27/20",
              "3/28/20",
              "3/29/20",
              "3/30/20",
              "3/31/20",
              "4/1/20",
              "4/2/20",
              "4/3/20",
              "4/4/20",
              "4/5/20",
              "4/6/20",
              "4/7/20",
              "4/8/20",
              "4/9/20",
              "4/10/20",
              "4/11/20",
              "4/12/20",
              "4/13/20",
              "4/14/20",
              "4/15/20",
              "4/16/20",
              "4/17/20",
              "4/18/20",
              "4/19/20",
              "4/20/20",
              "4/21/20",
              "4/22/20",
              "4/23/20",
              "4/24/20",
              "4/25/20",
              "4/26/20",
              "4/27/20",
              "4/28/20",
              "4/29/20",
              "4/30/20",
              "5/1/20",
              "5/2/20",
              "5/3/20",
              "5/4/20",
              "5/5/20",
              "5/6/20",
              "5/7/20",
              "5/8/20",
              "5/9/20",
              "5/10/20",
              "5/11/20",
              "5/12/20",
              "5/13/20",
              "5/14/20",
              "5/15/20",
              "5/16/20",
              "5/17/20",
              "5/18/20",
              "5/19/20",
              "5/20/20",
              "5/21/20",
              "5/22/20",
              "5/23/20",
              "5/24/20",
              "5/25/20",
              "5/26/20",
              "5/27/20",
              "5/28/20",
              "5/29/20",
              "5/30/20",
              "5/31/20",
              "6/1/20",
              "6/2/20",
              "6/3/20",
              "6/4/20",
              "6/5/20",
              "6/6/20",
              "6/7/20",
              "6/8/20",
              "6/9/20",
              "6/10/20",
              "6/11/20",
              "6/12/20",
              "6/13/20",
              "6/14/20",
              "6/15/20",
              "6/16/20",
              "6/17/20",
              "6/18/20",
              "6/19/20",
              "6/20/20",
              "6/21/20",
              "6/22/20",
              "6/23/20",
              "6/24/20",
              "6/25/20",
              "6/26/20",
              "6/27/20",
              "6/28/20",
              "6/29/20",
              "6/30/20",
              "7/1/20",
              "7/2/20",
              "7/3/20",
              "7/4/20",
              "7/5/20",
              "7/6/20",
              "7/7/20",
              "7/8/20",
              "7/9/20",
              "7/10/20",
              "7/11/20",
              "7/12/20",
              "7/13/20",
              "7/14/20",
              "7/15/20",
              "7/16/20",
              "7/17/20",
              "7/18/20",
              "7/19/20",
              "7/20/20",
              "7/21/20",
              "7/22/20",
              "7/23/20",
              "7/24/20",
              "7/25/20",
              "7/26/20",
              "7/27/20",
              "7/28/20",
              "7/29/20",
              "7/30/20",
              "7/31/20",
              "8/1/20",
              "8/2/20",
              "8/3/20",
              "8/4/20",
              "8/5/20",
              "8/6/20",
              "8/7/20",
              "8/8/20",
              "8/9/20",
              "8/10/20",
              "8/11/20",
              "8/12/20",
              "8/13/20",
              "8/14/20",
              "8/15/20",
              "8/16/20",
              "8/17/20",
              "8/18/20",
              "8/19/20",
              "8/20/20",
              "8/21/20",
              "8/22/20",
              "8/23/20",
              "8/24/20",
              "8/25/20",
              "8/26/20",
              "8/27/20",
              "8/28/20",
              "8/29/20",
              "8/30/20",
              "8/31/20",
              "9/1/20",
              "9/2/20",
              "9/3/20",
              "9/4/20",
              "9/5/20",
              "9/6/20",
              "9/7/20",
              "9/8/20",
              "9/9/20",
              "9/10/20",
              "9/11/20",
              "9/12/20",
              "9/13/20",
              "9/14/20",
              "9/15/20",
              "9/16/20",
              "9/17/20",
              "9/18/20",
              "9/19/20",
              "9/20/20",
              "9/21/20",
              "9/22/20",
              "9/23/20",
              "9/24/20",
              "9/25/20",
              "9/26/20",
              "9/27/20",
              "9/28/20",
              "9/29/20",
              "9/30/20",
              "10/1/20",
              "10/2/20",
              "10/3/20",
              "10/4/20",
              "10/5/20",
              "10/6/20",
              "10/7/20",
              "10/8/20",
              "10/9/20",
              "10/10/20",
              "10/11/20",
              "10/12/20",
              "10/13/20",
              "10/14/20",
              "10/15/20",
              "10/16/20",
              "10/17/20",
              "10/18/20",
              "10/19/20",
              "10/20/20",
              "10/21/20",
              "10/22/20",
              "10/23/20",
              "10/24/20",
              "10/25/20",
              "10/26/20",
              "10/27/20",
              "10/28/20",
              "10/29/20",
              "10/30/20",
              "10/31/20",
              "11/1/20",
              "11/2/20",
              "11/3/20",
              "11/4/20",
              "11/5/20",
              "11/6/20",
              "11/7/20",
              "11/8/20",
              "11/9/20",
              "11/10/20",
              "11/11/20",
              "11/12/20",
              "11/13/20",
              "11/14/20",
              "11/15/20",
              "11/16/20",
              "11/17/20",
              "11/18/20",
              "11/19/20",
              "11/20/20",
              "11/21/20",
              "11/22/20",
              "11/23/20",
              "11/24/20",
              "11/25/20",
              "11/26/20",
              "11/27/20",
              "11/28/20",
              "11/29/20",
              "11/30/20",
              "12/1/20",
              "12/2/20",
              "12/3/20",
              "12/4/20",
              "12/5/20",
              "12/6/20",
              "12/7/20",
              "12/8/20",
              "12/9/20",
              "12/10/20",
              "12/11/20",
              "12/12/20",
              "12/13/20",
              "12/14/20",
              "12/15/20",
              "12/16/20",
              "12/17/20",
              "12/18/20",
              "12/19/20",
              "12/20/20",
              "12/21/20",
              "12/22/20",
              "12/23/20",
              "12/24/20",
              "12/25/20",
              "12/26/20",
              "12/27/20",
              "12/28/20",
              "12/29/20",
              "12/30/20",
              "12/31/20",
              "1/1/21",
              "1/2/21",
              "1/3/21",
              "1/4/21",
              "1/5/21",
              "1/6/21",
              "1/7/21",
              "1/8/21",
              "1/9/21",
              "1/10/21",
              "1/11/21",
              "1/12/21",
              "1/13/21",
              "1/14/21"
             ],
             "y": [
              0,
              0,
              0,
              0,
              0,
              0,
              0,
              0,
              0,
              0,
              0,
              0,
              0,
              0,
              0,
              0,
              0,
              0,
              0,
              0,
              0,
              0,
              0,
              0,
              0,
              0,
              0,
              0,
              0,
              0,
              0,
              0,
              0,
              0,
              0,
              0,
              0,
              0,
              0,
              0,
              0,
              0,
              0,
              0,
              0,
              0,
              0,
              0,
              0,
              0,
              0,
              0,
              0,
              1,
              1,
              1,
              1,
              1,
              1,
              1,
              1,
              1,
              2,
              2,
              2,
              2,
              2,
              2,
              5,
              5,
              10,
              10,
              10,
              15,
              18,
              18,
              29,
              32,
              32,
              32,
              32,
              32,
              40,
              43,
              54,
              99,
              112,
              131,
              135,
              150,
              166,
              179,
              188,
              188,
              207,
              220,
              228,
              252,
              260,
              310,
              331,
              345,
              397,
              421,
              458,
              468,
              472,
              502,
              558,
              558,
              610,
              648,
              691,
              745,
              745,
              778,
              801,
              850,
              930,
              938,
              996,
              1040,
              1075,
              1097,
              1128,
              1138,
              1209,
              1259,
              1303,
              1328,
              1428,
              1450,
              1522,
              1585,
              1762,
              1830,
              1875,
              2171,
              2651,
              3013,
              3326,
              3928,
              4201,
              4725,
              5164,
              5508,
              6158,
              7660,
              7962,
              8292,
              8764,
              8841,
              9260,
              9869,
              10174,
              10306,
              10674,
              12604,
              13934,
              14131,
              15651,
              16041,
              17331,
              19164,
              19366,
              20103,
              20179,
              20700,
              20847,
              20882,
              21135,
              21216,
              21254,
              21454,
              22456,
              22824,
              23151,
              23273,
              23634,
              23741,
              23741,
              23924,
              24550,
              24602,
              24793,
              25180,
              25198,
              25358,
              25389,
              25471,
              25509,
              25509,
              25510,
              25669,
              25669,
              25742,
              25840,
              25903,
              25960,
              25960,
              26228,
              26415,
              26694,
              26714,
              26714,
              27166,
              27166,
              27166,
              27166,
              27166,
              27681,
              28016,
              28016,
              28180,
              28360,
              28440,
              29042,
              29046,
              29059,
              29063,
              29089,
              29089,
              29231,
              29315,
              29390,
              29713,
              30082,
              30537,
              30557,
              30715,
              31048,
              31129,
              31154,
              31234,
              31638,
              32073,
              32098,
              32503,
              32505,
              32576,
              32576,
              32576,
              32576,
              32576,
              32610,
              32619,
              32619,
              32635,
              32642,
              32642,
              32746,
              32789,
              32842,
              32842,
              32842,
              32852,
              32879,
              32977,
              33045,
              33058,
              33058,
              33064,
              33114,
              33118,
              33308,
              33354,
              33447,
              33516,
              33561,
              33614,
              33760,
              33790,
              33824,
              33831,
              34010,
              34023,
              34129,
              34150,
              34217,
              34237,
              34239,
              34258,
              34321,
              34326,
              34342,
              34355,
              34362,
              34440,
              34440,
              34446,
              34458,
              34721,
              34954,
              34967,
              35024,
              35036,
              35067,
              35092,
              35137,
              35160,
              35295,
              35350,
              35370,
              35422,
              35934,
              35976,
              36122,
              36145,
              36232,
              36295,
              36709,
              36716,
              36831,
              36946,
              37218,
              37260,
              37260,
              37393,
              37685,
              37879,
              37920,
              38032,
              38099,
              38141,
              38200,
              38250,
              38252,
              38336,
              38475,
              38505,
              38540,
              38613,
              39006,
              39508,
              39585,
              39692,
              40359,
              40444,
              40784,
              41096,
              41441,
              41543,
              41612,
              41727,
              41727,
              41727,
              41727,
              42530,
              42666,
              42666,
              43291,
              43440,
              43740,
              43948,
              44137,
              44608,
              44850,
              45298
             ]
            }
           ],
           "layout": {
            "template": {
             "data": {
              "bar": [
               {
                "error_x": {
                 "color": "#2a3f5f"
                },
                "error_y": {
                 "color": "#2a3f5f"
                },
                "marker": {
                 "line": {
                  "color": "#E5ECF6",
                  "width": 0.5
                 }
                },
                "type": "bar"
               }
              ],
              "barpolar": [
               {
                "marker": {
                 "line": {
                  "color": "#E5ECF6",
                  "width": 0.5
                 }
                },
                "type": "barpolar"
               }
              ],
              "carpet": [
               {
                "aaxis": {
                 "endlinecolor": "#2a3f5f",
                 "gridcolor": "white",
                 "linecolor": "white",
                 "minorgridcolor": "white",
                 "startlinecolor": "#2a3f5f"
                },
                "baxis": {
                 "endlinecolor": "#2a3f5f",
                 "gridcolor": "white",
                 "linecolor": "white",
                 "minorgridcolor": "white",
                 "startlinecolor": "#2a3f5f"
                },
                "type": "carpet"
               }
              ],
              "choropleth": [
               {
                "colorbar": {
                 "outlinewidth": 0,
                 "ticks": ""
                },
                "type": "choropleth"
               }
              ],
              "contour": [
               {
                "colorbar": {
                 "outlinewidth": 0,
                 "ticks": ""
                },
                "colorscale": [
                 [
                  0,
                  "#0d0887"
                 ],
                 [
                  0.1111111111111111,
                  "#46039f"
                 ],
                 [
                  0.2222222222222222,
                  "#7201a8"
                 ],
                 [
                  0.3333333333333333,
                  "#9c179e"
                 ],
                 [
                  0.4444444444444444,
                  "#bd3786"
                 ],
                 [
                  0.5555555555555556,
                  "#d8576b"
                 ],
                 [
                  0.6666666666666666,
                  "#ed7953"
                 ],
                 [
                  0.7777777777777778,
                  "#fb9f3a"
                 ],
                 [
                  0.8888888888888888,
                  "#fdca26"
                 ],
                 [
                  1,
                  "#f0f921"
                 ]
                ],
                "type": "contour"
               }
              ],
              "contourcarpet": [
               {
                "colorbar": {
                 "outlinewidth": 0,
                 "ticks": ""
                },
                "type": "contourcarpet"
               }
              ],
              "heatmap": [
               {
                "colorbar": {
                 "outlinewidth": 0,
                 "ticks": ""
                },
                "colorscale": [
                 [
                  0,
                  "#0d0887"
                 ],
                 [
                  0.1111111111111111,
                  "#46039f"
                 ],
                 [
                  0.2222222222222222,
                  "#7201a8"
                 ],
                 [
                  0.3333333333333333,
                  "#9c179e"
                 ],
                 [
                  0.4444444444444444,
                  "#bd3786"
                 ],
                 [
                  0.5555555555555556,
                  "#d8576b"
                 ],
                 [
                  0.6666666666666666,
                  "#ed7953"
                 ],
                 [
                  0.7777777777777778,
                  "#fb9f3a"
                 ],
                 [
                  0.8888888888888888,
                  "#fdca26"
                 ],
                 [
                  1,
                  "#f0f921"
                 ]
                ],
                "type": "heatmap"
               }
              ],
              "heatmapgl": [
               {
                "colorbar": {
                 "outlinewidth": 0,
                 "ticks": ""
                },
                "colorscale": [
                 [
                  0,
                  "#0d0887"
                 ],
                 [
                  0.1111111111111111,
                  "#46039f"
                 ],
                 [
                  0.2222222222222222,
                  "#7201a8"
                 ],
                 [
                  0.3333333333333333,
                  "#9c179e"
                 ],
                 [
                  0.4444444444444444,
                  "#bd3786"
                 ],
                 [
                  0.5555555555555556,
                  "#d8576b"
                 ],
                 [
                  0.6666666666666666,
                  "#ed7953"
                 ],
                 [
                  0.7777777777777778,
                  "#fb9f3a"
                 ],
                 [
                  0.8888888888888888,
                  "#fdca26"
                 ],
                 [
                  1,
                  "#f0f921"
                 ]
                ],
                "type": "heatmapgl"
               }
              ],
              "histogram": [
               {
                "marker": {
                 "colorbar": {
                  "outlinewidth": 0,
                  "ticks": ""
                 }
                },
                "type": "histogram"
               }
              ],
              "histogram2d": [
               {
                "colorbar": {
                 "outlinewidth": 0,
                 "ticks": ""
                },
                "colorscale": [
                 [
                  0,
                  "#0d0887"
                 ],
                 [
                  0.1111111111111111,
                  "#46039f"
                 ],
                 [
                  0.2222222222222222,
                  "#7201a8"
                 ],
                 [
                  0.3333333333333333,
                  "#9c179e"
                 ],
                 [
                  0.4444444444444444,
                  "#bd3786"
                 ],
                 [
                  0.5555555555555556,
                  "#d8576b"
                 ],
                 [
                  0.6666666666666666,
                  "#ed7953"
                 ],
                 [
                  0.7777777777777778,
                  "#fb9f3a"
                 ],
                 [
                  0.8888888888888888,
                  "#fdca26"
                 ],
                 [
                  1,
                  "#f0f921"
                 ]
                ],
                "type": "histogram2d"
               }
              ],
              "histogram2dcontour": [
               {
                "colorbar": {
                 "outlinewidth": 0,
                 "ticks": ""
                },
                "colorscale": [
                 [
                  0,
                  "#0d0887"
                 ],
                 [
                  0.1111111111111111,
                  "#46039f"
                 ],
                 [
                  0.2222222222222222,
                  "#7201a8"
                 ],
                 [
                  0.3333333333333333,
                  "#9c179e"
                 ],
                 [
                  0.4444444444444444,
                  "#bd3786"
                 ],
                 [
                  0.5555555555555556,
                  "#d8576b"
                 ],
                 [
                  0.6666666666666666,
                  "#ed7953"
                 ],
                 [
                  0.7777777777777778,
                  "#fb9f3a"
                 ],
                 [
                  0.8888888888888888,
                  "#fdca26"
                 ],
                 [
                  1,
                  "#f0f921"
                 ]
                ],
                "type": "histogram2dcontour"
               }
              ],
              "mesh3d": [
               {
                "colorbar": {
                 "outlinewidth": 0,
                 "ticks": ""
                },
                "type": "mesh3d"
               }
              ],
              "parcoords": [
               {
                "line": {
                 "colorbar": {
                  "outlinewidth": 0,
                  "ticks": ""
                 }
                },
                "type": "parcoords"
               }
              ],
              "pie": [
               {
                "automargin": true,
                "type": "pie"
               }
              ],
              "scatter": [
               {
                "marker": {
                 "colorbar": {
                  "outlinewidth": 0,
                  "ticks": ""
                 }
                },
                "type": "scatter"
               }
              ],
              "scatter3d": [
               {
                "line": {
                 "colorbar": {
                  "outlinewidth": 0,
                  "ticks": ""
                 }
                },
                "marker": {
                 "colorbar": {
                  "outlinewidth": 0,
                  "ticks": ""
                 }
                },
                "type": "scatter3d"
               }
              ],
              "scattercarpet": [
               {
                "marker": {
                 "colorbar": {
                  "outlinewidth": 0,
                  "ticks": ""
                 }
                },
                "type": "scattercarpet"
               }
              ],
              "scattergeo": [
               {
                "marker": {
                 "colorbar": {
                  "outlinewidth": 0,
                  "ticks": ""
                 }
                },
                "type": "scattergeo"
               }
              ],
              "scattergl": [
               {
                "marker": {
                 "colorbar": {
                  "outlinewidth": 0,
                  "ticks": ""
                 }
                },
                "type": "scattergl"
               }
              ],
              "scattermapbox": [
               {
                "marker": {
                 "colorbar": {
                  "outlinewidth": 0,
                  "ticks": ""
                 }
                },
                "type": "scattermapbox"
               }
              ],
              "scatterpolar": [
               {
                "marker": {
                 "colorbar": {
                  "outlinewidth": 0,
                  "ticks": ""
                 }
                },
                "type": "scatterpolar"
               }
              ],
              "scatterpolargl": [
               {
                "marker": {
                 "colorbar": {
                  "outlinewidth": 0,
                  "ticks": ""
                 }
                },
                "type": "scatterpolargl"
               }
              ],
              "scatterternary": [
               {
                "marker": {
                 "colorbar": {
                  "outlinewidth": 0,
                  "ticks": ""
                 }
                },
                "type": "scatterternary"
               }
              ],
              "surface": [
               {
                "colorbar": {
                 "outlinewidth": 0,
                 "ticks": ""
                },
                "colorscale": [
                 [
                  0,
                  "#0d0887"
                 ],
                 [
                  0.1111111111111111,
                  "#46039f"
                 ],
                 [
                  0.2222222222222222,
                  "#7201a8"
                 ],
                 [
                  0.3333333333333333,
                  "#9c179e"
                 ],
                 [
                  0.4444444444444444,
                  "#bd3786"
                 ],
                 [
                  0.5555555555555556,
                  "#d8576b"
                 ],
                 [
                  0.6666666666666666,
                  "#ed7953"
                 ],
                 [
                  0.7777777777777778,
                  "#fb9f3a"
                 ],
                 [
                  0.8888888888888888,
                  "#fdca26"
                 ],
                 [
                  1,
                  "#f0f921"
                 ]
                ],
                "type": "surface"
               }
              ],
              "table": [
               {
                "cells": {
                 "fill": {
                  "color": "#EBF0F8"
                 },
                 "line": {
                  "color": "white"
                 }
                },
                "header": {
                 "fill": {
                  "color": "#C8D4E3"
                 },
                 "line": {
                  "color": "white"
                 }
                },
                "type": "table"
               }
              ]
             },
             "layout": {
              "annotationdefaults": {
               "arrowcolor": "#2a3f5f",
               "arrowhead": 0,
               "arrowwidth": 1
              },
              "autotypenumbers": "strict",
              "coloraxis": {
               "colorbar": {
                "outlinewidth": 0,
                "ticks": ""
               }
              },
              "colorscale": {
               "diverging": [
                [
                 0,
                 "#8e0152"
                ],
                [
                 0.1,
                 "#c51b7d"
                ],
                [
                 0.2,
                 "#de77ae"
                ],
                [
                 0.3,
                 "#f1b6da"
                ],
                [
                 0.4,
                 "#fde0ef"
                ],
                [
                 0.5,
                 "#f7f7f7"
                ],
                [
                 0.6,
                 "#e6f5d0"
                ],
                [
                 0.7,
                 "#b8e186"
                ],
                [
                 0.8,
                 "#7fbc41"
                ],
                [
                 0.9,
                 "#4d9221"
                ],
                [
                 1,
                 "#276419"
                ]
               ],
               "sequential": [
                [
                 0,
                 "#0d0887"
                ],
                [
                 0.1111111111111111,
                 "#46039f"
                ],
                [
                 0.2222222222222222,
                 "#7201a8"
                ],
                [
                 0.3333333333333333,
                 "#9c179e"
                ],
                [
                 0.4444444444444444,
                 "#bd3786"
                ],
                [
                 0.5555555555555556,
                 "#d8576b"
                ],
                [
                 0.6666666666666666,
                 "#ed7953"
                ],
                [
                 0.7777777777777778,
                 "#fb9f3a"
                ],
                [
                 0.8888888888888888,
                 "#fdca26"
                ],
                [
                 1,
                 "#f0f921"
                ]
               ],
               "sequentialminus": [
                [
                 0,
                 "#0d0887"
                ],
                [
                 0.1111111111111111,
                 "#46039f"
                ],
                [
                 0.2222222222222222,
                 "#7201a8"
                ],
                [
                 0.3333333333333333,
                 "#9c179e"
                ],
                [
                 0.4444444444444444,
                 "#bd3786"
                ],
                [
                 0.5555555555555556,
                 "#d8576b"
                ],
                [
                 0.6666666666666666,
                 "#ed7953"
                ],
                [
                 0.7777777777777778,
                 "#fb9f3a"
                ],
                [
                 0.8888888888888888,
                 "#fdca26"
                ],
                [
                 1,
                 "#f0f921"
                ]
               ]
              },
              "colorway": [
               "#636efa",
               "#EF553B",
               "#00cc96",
               "#ab63fa",
               "#FFA15A",
               "#19d3f3",
               "#FF6692",
               "#B6E880",
               "#FF97FF",
               "#FECB52"
              ],
              "font": {
               "color": "#2a3f5f"
              },
              "geo": {
               "bgcolor": "white",
               "lakecolor": "white",
               "landcolor": "#E5ECF6",
               "showlakes": true,
               "showland": true,
               "subunitcolor": "white"
              },
              "hoverlabel": {
               "align": "left"
              },
              "hovermode": "closest",
              "mapbox": {
               "style": "light"
              },
              "paper_bgcolor": "white",
              "plot_bgcolor": "#E5ECF6",
              "polar": {
               "angularaxis": {
                "gridcolor": "white",
                "linecolor": "white",
                "ticks": ""
               },
               "bgcolor": "#E5ECF6",
               "radialaxis": {
                "gridcolor": "white",
                "linecolor": "white",
                "ticks": ""
               }
              },
              "scene": {
               "xaxis": {
                "backgroundcolor": "#E5ECF6",
                "gridcolor": "white",
                "gridwidth": 2,
                "linecolor": "white",
                "showbackground": true,
                "ticks": "",
                "zerolinecolor": "white"
               },
               "yaxis": {
                "backgroundcolor": "#E5ECF6",
                "gridcolor": "white",
                "gridwidth": 2,
                "linecolor": "white",
                "showbackground": true,
                "ticks": "",
                "zerolinecolor": "white"
               },
               "zaxis": {
                "backgroundcolor": "#E5ECF6",
                "gridcolor": "white",
                "gridwidth": 2,
                "linecolor": "white",
                "showbackground": true,
                "ticks": "",
                "zerolinecolor": "white"
               }
              },
              "shapedefaults": {
               "line": {
                "color": "#2a3f5f"
               }
              },
              "ternary": {
               "aaxis": {
                "gridcolor": "white",
                "linecolor": "white",
                "ticks": ""
               },
               "baxis": {
                "gridcolor": "white",
                "linecolor": "white",
                "ticks": ""
               },
               "bgcolor": "#E5ECF6",
               "caxis": {
                "gridcolor": "white",
                "linecolor": "white",
                "ticks": ""
               }
              },
              "title": {
               "x": 0.05
              },
              "xaxis": {
               "automargin": true,
               "gridcolor": "white",
               "linecolor": "white",
               "ticks": "",
               "title": {
                "standoff": 15
               },
               "zerolinecolor": "white",
               "zerolinewidth": 2
              },
              "yaxis": {
               "automargin": true,
               "gridcolor": "white",
               "linecolor": "white",
               "ticks": "",
               "title": {
                "standoff": 15
               },
               "zerolinecolor": "white",
               "zerolinewidth": 2
              }
             }
            },
            "title": {
             "text": "Covid-19 Cases Timeseries"
            },
            "xaxis": {
             "title": {
              "text": "Date"
             }
            },
            "yaxis": {
             "title": {
              "text": "Country"
             }
            }
           }
          },
          "text/html": "<div>                            <div id=\"44de9ac4-cb5c-4262-9322-006a38baf2cc\" class=\"plotly-graph-div\" style=\"height:525px; width:100%;\"></div>            <script type=\"text/javascript\">                require([\"plotly\"], function(Plotly) {                    window.PLOTLYENV=window.PLOTLYENV || {};                                    if (document.getElementById(\"44de9ac4-cb5c-4262-9322-006a38baf2cc\")) {                    Plotly.newPlot(                        \"44de9ac4-cb5c-4262-9322-006a38baf2cc\",                        [{\"connectgaps\": true, \"line\": {\"color\": \"blue\", \"width\": 1}, \"mode\": \"lines+markers\", \"name\": \"confirmed\", \"text\": \"Total confirmed: 53775\", \"type\": \"scatter\", \"x\": [\"1/23/20\", \"1/24/20\", \"1/25/20\", \"1/26/20\", \"1/27/20\", \"1/28/20\", \"1/29/20\", \"1/30/20\", \"1/31/20\", \"2/1/20\", \"2/2/20\", \"2/3/20\", \"2/4/20\", \"2/5/20\", \"2/6/20\", \"2/7/20\", \"2/8/20\", \"2/9/20\", \"2/10/20\", \"2/11/20\", \"2/12/20\", \"2/13/20\", \"2/14/20\", \"2/15/20\", \"2/16/20\", \"2/17/20\", \"2/18/20\", \"2/19/20\", \"2/20/20\", \"2/21/20\", \"2/22/20\", \"2/23/20\", \"2/24/20\", \"2/25/20\", \"2/26/20\", \"2/27/20\", \"2/28/20\", \"2/29/20\", \"3/1/20\", \"3/2/20\", \"3/3/20\", \"3/4/20\", \"3/5/20\", \"3/6/20\", \"3/7/20\", \"3/8/20\", \"3/9/20\", \"3/10/20\", \"3/11/20\", \"3/12/20\", \"3/13/20\", \"3/14/20\", \"3/15/20\", \"3/16/20\", \"3/17/20\", \"3/18/20\", \"3/19/20\", \"3/20/20\", \"3/21/20\", \"3/22/20\", \"3/23/20\", \"3/24/20\", \"3/25/20\", \"3/26/20\", \"3/27/20\", \"3/28/20\", \"3/29/20\", \"3/30/20\", \"3/31/20\", \"4/1/20\", \"4/2/20\", \"4/3/20\", \"4/4/20\", \"4/5/20\", \"4/6/20\", \"4/7/20\", \"4/8/20\", \"4/9/20\", \"4/10/20\", \"4/11/20\", \"4/12/20\", \"4/13/20\", \"4/14/20\", \"4/15/20\", \"4/16/20\", \"4/17/20\", \"4/18/20\", \"4/19/20\", \"4/20/20\", \"4/21/20\", \"4/22/20\", \"4/23/20\", \"4/24/20\", \"4/25/20\", \"4/26/20\", \"4/27/20\", \"4/28/20\", \"4/29/20\", \"4/30/20\", \"5/1/20\", \"5/2/20\", \"5/3/20\", \"5/4/20\", \"5/5/20\", \"5/6/20\", \"5/7/20\", \"5/8/20\", \"5/9/20\", \"5/10/20\", \"5/11/20\", \"5/12/20\", \"5/13/20\", \"5/14/20\", \"5/15/20\", \"5/16/20\", \"5/17/20\", \"5/18/20\", \"5/19/20\", \"5/20/20\", \"5/21/20\", \"5/22/20\", \"5/23/20\", \"5/24/20\", \"5/25/20\", \"5/26/20\", \"5/27/20\", \"5/28/20\", \"5/29/20\", \"5/30/20\", \"5/31/20\", \"6/1/20\", \"6/2/20\", \"6/3/20\", \"6/4/20\", \"6/5/20\", \"6/6/20\", \"6/7/20\", \"6/8/20\", \"6/9/20\", \"6/10/20\", \"6/11/20\", \"6/12/20\", \"6/13/20\", \"6/14/20\", \"6/15/20\", \"6/16/20\", \"6/17/20\", \"6/18/20\", \"6/19/20\", \"6/20/20\", \"6/21/20\", \"6/22/20\", \"6/23/20\", \"6/24/20\", \"6/25/20\", \"6/26/20\", \"6/27/20\", \"6/28/20\", \"6/29/20\", \"6/30/20\", \"7/1/20\", \"7/2/20\", \"7/3/20\", \"7/4/20\", \"7/5/20\", \"7/6/20\", \"7/7/20\", \"7/8/20\", \"7/9/20\", \"7/10/20\", \"7/11/20\", \"7/12/20\", \"7/13/20\", \"7/14/20\", \"7/15/20\", \"7/16/20\", \"7/17/20\", \"7/18/20\", \"7/19/20\", \"7/20/20\", \"7/21/20\", \"7/22/20\", \"7/23/20\", \"7/24/20\", \"7/25/20\", \"7/26/20\", \"7/27/20\", \"7/28/20\", \"7/29/20\", \"7/30/20\", \"7/31/20\", \"8/1/20\", \"8/2/20\", \"8/3/20\", \"8/4/20\", \"8/5/20\", \"8/6/20\", \"8/7/20\", \"8/8/20\", \"8/9/20\", \"8/10/20\", \"8/11/20\", \"8/12/20\", \"8/13/20\", \"8/14/20\", \"8/15/20\", \"8/16/20\", \"8/17/20\", \"8/18/20\", \"8/19/20\", \"8/20/20\", \"8/21/20\", \"8/22/20\", \"8/23/20\", \"8/24/20\", \"8/25/20\", \"8/26/20\", \"8/27/20\", \"8/28/20\", \"8/29/20\", \"8/30/20\", \"8/31/20\", \"9/1/20\", \"9/2/20\", \"9/3/20\", \"9/4/20\", \"9/5/20\", \"9/6/20\", \"9/7/20\", \"9/8/20\", \"9/9/20\", \"9/10/20\", \"9/11/20\", \"9/12/20\", \"9/13/20\", \"9/14/20\", \"9/15/20\", \"9/16/20\", \"9/17/20\", \"9/18/20\", \"9/19/20\", \"9/20/20\", \"9/21/20\", \"9/22/20\", \"9/23/20\", \"9/24/20\", \"9/25/20\", \"9/26/20\", \"9/27/20\", \"9/28/20\", \"9/29/20\", \"9/30/20\", \"10/1/20\", \"10/2/20\", \"10/3/20\", \"10/4/20\", \"10/5/20\", \"10/6/20\", \"10/7/20\", \"10/8/20\", \"10/9/20\", \"10/10/20\", \"10/11/20\", \"10/12/20\", \"10/13/20\", \"10/14/20\", \"10/15/20\", \"10/16/20\", \"10/17/20\", \"10/18/20\", \"10/19/20\", \"10/20/20\", \"10/21/20\", \"10/22/20\", \"10/23/20\", \"10/24/20\", \"10/25/20\", \"10/26/20\", \"10/27/20\", \"10/28/20\", \"10/29/20\", \"10/30/20\", \"10/31/20\", \"11/1/20\", \"11/2/20\", \"11/3/20\", \"11/4/20\", \"11/5/20\", \"11/6/20\", \"11/7/20\", \"11/8/20\", \"11/9/20\", \"11/10/20\", \"11/11/20\", \"11/12/20\", \"11/13/20\", \"11/14/20\", \"11/15/20\", \"11/16/20\", \"11/17/20\", \"11/18/20\", \"11/19/20\", \"11/20/20\", \"11/21/20\", \"11/22/20\", \"11/23/20\", \"11/24/20\", \"11/25/20\", \"11/26/20\", \"11/27/20\", \"11/28/20\", \"11/29/20\", \"11/30/20\", \"12/1/20\", \"12/2/20\", \"12/3/20\", \"12/4/20\", \"12/5/20\", \"12/6/20\", \"12/7/20\", \"12/8/20\", \"12/9/20\", \"12/10/20\", \"12/11/20\", \"12/12/20\", \"12/13/20\", \"12/14/20\", \"12/15/20\", \"12/16/20\", \"12/17/20\", \"12/18/20\", \"12/19/20\", \"12/20/20\", \"12/21/20\", \"12/22/20\", \"12/23/20\", \"12/24/20\", \"12/25/20\", \"12/26/20\", \"12/27/20\", \"12/28/20\", \"12/29/20\", \"12/30/20\", \"12/31/20\", \"1/1/21\", \"1/2/21\", \"1/3/21\", \"1/4/21\", \"1/5/21\", \"1/6/21\", \"1/7/21\", \"1/8/21\", \"1/9/21\", \"1/10/21\", \"1/11/21\", \"1/12/21\", \"1/13/21\", \"1/14/21\"], \"y\": [0, 0, 0, 0, 0, 0, 0, 0, 0, 0, 0, 0, 0, 0, 0, 0, 0, 0, 0, 0, 0, 0, 0, 0, 0, 0, 0, 0, 0, 0, 0, 0, 1, 1, 1, 1, 1, 1, 1, 1, 2, 4, 4, 4, 4, 5, 7, 8, 11, 12, 13, 15, 16, 18, 20, 24, 25, 29, 30, 34, 41, 43, 76, 80, 91, 107, 118, 146, 175, 197, 240, 275, 300, 338, 368, 424, 445, 485, 532, 556, 608, 666, 715, 785, 841, 907, 934, 997, 1027, 1093, 1177, 1236, 1331, 1464, 1532, 1704, 1830, 1940, 2127, 2291, 2470, 2705, 2895, 3225, 3393, 3564, 3781, 4042, 4403, 4687, 4968, 5227, 5640, 6054, 6403, 6665, 7073, 7654, 8146, 8677, 9219, 10001, 10585, 11176, 11834, 12459, 13039, 13662, 14528, 15208, 15753, 16512, 17270, 18057, 18972, 19554, 20345, 20920, 21462, 22146, 22894, 23550, 24106, 24770, 25531, 26314, 26878, 27536, 27882, 28428, 28837, 29147, 29471, 29705, 30165, 30441, 30606, 30957, 31228, 31507, 31826, 32012, 32314, 32662, 32941, 33180, 33374, 33584, 33898, 34184, 34356, 34441, 34595, 34730, 34984, 35060, 35219, 35279, 35453, 35493, 35605, 35717, 35918, 35978, 36026, 36147, 36253, 36358, 36463, 36532, 36665, 36700, 36701, 36737, 36773, 36820, 36928, 37006, 37046, 37083, 37153, 37260, 37336, 37422, 37497, 37542, 37590, 37667, 37710, 37750, 37852, 37885, 37944, 37990, 38045, 38061, 38103, 38119, 38130, 38133, 38155, 38159, 38193, 38243, 38288, 38304, 38324, 38398, 38494, 38520, 38544, 38572, 38606, 38641, 38716, 38772, 38815, 38855, 38872, 38897, 38919, 39044, 39074, 39096, 39145, 39170, 39186, 39192, 39227, 39239, 39254, 39268, 39285, 39290, 39297, 39341, 39422, 39486, 39548, 39616, 39693, 39703, 39799, 39870, 39928, 39994, 40026, 40088, 40141, 40200, 40287, 40369, 40510, 40626, 40687, 40768, 40833, 40937, 41032, 41145, 41268, 41334, 41425, 41501, 41633, 41728, 41814, 41935, 41975, 42033, 42159, 42297, 42463, 42609, 42795, 42969, 43035, 43240, 43468, 43681, 43924, 44177, 44363, 44503, 44706, 44988, 45174, 45384, 45600, 45723, 45844, 46116, 46274, 46516, 46718, 46837, 46837, 47072, 47306, 47516, 47716, 47851, 48053, 48116, 48229, 48527, 48718, 48952, 49161, 49378, 49621, 49681, 49817, 50013, 50190, 50433, 50655, 50810, 50886, 51039, 51280, 51350, 51405, 51526, 51526, 51526, 51526, 53011, 53105, 53105, 53207, 53332, 53400, 53489, 53538, 53584, 53584, 53775]}, {\"connectgaps\": true, \"line\": {\"color\": \"red\", \"width\": 1}, \"mode\": \"lines+markers\", \"name\": \"deaths\", \"text\": \"Total deaths: 2314\", \"type\": \"scatter\", \"x\": [\"1/23/20\", \"1/24/20\", \"1/25/20\", \"1/26/20\", \"1/27/20\", \"1/28/20\", \"1/29/20\", \"1/30/20\", \"1/31/20\", \"2/1/20\", \"2/2/20\", \"2/3/20\", \"2/4/20\", \"2/5/20\", \"2/6/20\", \"2/7/20\", \"2/8/20\", \"2/9/20\", \"2/10/20\", \"2/11/20\", \"2/12/20\", \"2/13/20\", \"2/14/20\", \"2/15/20\", \"2/16/20\", \"2/17/20\", \"2/18/20\", \"2/19/20\", \"2/20/20\", \"2/21/20\", \"2/22/20\", \"2/23/20\", \"2/24/20\", \"2/25/20\", \"2/26/20\", \"2/27/20\", \"2/28/20\", \"2/29/20\", \"3/1/20\", \"3/2/20\", \"3/3/20\", \"3/4/20\", \"3/5/20\", \"3/6/20\", \"3/7/20\", \"3/8/20\", \"3/9/20\", \"3/10/20\", \"3/11/20\", \"3/12/20\", \"3/13/20\", \"3/14/20\", \"3/15/20\", \"3/16/20\", \"3/17/20\", \"3/18/20\", \"3/19/20\", \"3/20/20\", \"3/21/20\", \"3/22/20\", \"3/23/20\", \"3/24/20\", \"3/25/20\", \"3/26/20\", \"3/27/20\", \"3/28/20\", \"3/29/20\", \"3/30/20\", \"3/31/20\", \"4/1/20\", \"4/2/20\", \"4/3/20\", \"4/4/20\", \"4/5/20\", \"4/6/20\", \"4/7/20\", \"4/8/20\", \"4/9/20\", \"4/10/20\", \"4/11/20\", \"4/12/20\", \"4/13/20\", \"4/14/20\", \"4/15/20\", \"4/16/20\", \"4/17/20\", \"4/18/20\", \"4/19/20\", \"4/20/20\", \"4/21/20\", \"4/22/20\", \"4/23/20\", \"4/24/20\", \"4/25/20\", \"4/26/20\", \"4/27/20\", \"4/28/20\", \"4/29/20\", \"4/30/20\", \"5/1/20\", \"5/2/20\", \"5/3/20\", \"5/4/20\", \"5/5/20\", \"5/6/20\", \"5/7/20\", \"5/8/20\", \"5/9/20\", \"5/10/20\", \"5/11/20\", \"5/12/20\", \"5/13/20\", \"5/14/20\", \"5/15/20\", \"5/16/20\", \"5/17/20\", \"5/18/20\", \"5/19/20\", \"5/20/20\", \"5/21/20\", \"5/22/20\", \"5/23/20\", \"5/24/20\", \"5/25/20\", \"5/26/20\", \"5/27/20\", \"5/28/20\", \"5/29/20\", \"5/30/20\", \"5/31/20\", \"6/1/20\", \"6/2/20\", \"6/3/20\", \"6/4/20\", \"6/5/20\", \"6/6/20\", \"6/7/20\", \"6/8/20\", \"6/9/20\", \"6/10/20\", \"6/11/20\", \"6/12/20\", \"6/13/20\", \"6/14/20\", \"6/15/20\", \"6/16/20\", \"6/17/20\", \"6/18/20\", \"6/19/20\", \"6/20/20\", \"6/21/20\", \"6/22/20\", \"6/23/20\", \"6/24/20\", \"6/25/20\", \"6/26/20\", \"6/27/20\", \"6/28/20\", \"6/29/20\", \"6/30/20\", \"7/1/20\", \"7/2/20\", \"7/3/20\", \"7/4/20\", \"7/5/20\", \"7/6/20\", \"7/7/20\", \"7/8/20\", \"7/9/20\", \"7/10/20\", \"7/11/20\", \"7/12/20\", \"7/13/20\", \"7/14/20\", \"7/15/20\", \"7/16/20\", \"7/17/20\", \"7/18/20\", \"7/19/20\", \"7/20/20\", \"7/21/20\", \"7/22/20\", \"7/23/20\", \"7/24/20\", \"7/25/20\", \"7/26/20\", \"7/27/20\", \"7/28/20\", \"7/29/20\", \"7/30/20\", \"7/31/20\", \"8/1/20\", \"8/2/20\", \"8/3/20\", \"8/4/20\", \"8/5/20\", \"8/6/20\", \"8/7/20\", \"8/8/20\", \"8/9/20\", \"8/10/20\", \"8/11/20\", \"8/12/20\", \"8/13/20\", \"8/14/20\", \"8/15/20\", \"8/16/20\", \"8/17/20\", \"8/18/20\", \"8/19/20\", \"8/20/20\", \"8/21/20\", \"8/22/20\", \"8/23/20\", \"8/24/20\", \"8/25/20\", \"8/26/20\", \"8/27/20\", \"8/28/20\", \"8/29/20\", \"8/30/20\", \"8/31/20\", \"9/1/20\", \"9/2/20\", \"9/3/20\", \"9/4/20\", \"9/5/20\", \"9/6/20\", \"9/7/20\", \"9/8/20\", \"9/9/20\", \"9/10/20\", \"9/11/20\", \"9/12/20\", \"9/13/20\", \"9/14/20\", \"9/15/20\", \"9/16/20\", \"9/17/20\", \"9/18/20\", \"9/19/20\", \"9/20/20\", \"9/21/20\", \"9/22/20\", \"9/23/20\", \"9/24/20\", \"9/25/20\", \"9/26/20\", \"9/27/20\", \"9/28/20\", \"9/29/20\", \"9/30/20\", \"10/1/20\", \"10/2/20\", \"10/3/20\", \"10/4/20\", \"10/5/20\", \"10/6/20\", \"10/7/20\", \"10/8/20\", \"10/9/20\", \"10/10/20\", \"10/11/20\", \"10/12/20\", \"10/13/20\", \"10/14/20\", \"10/15/20\", \"10/16/20\", \"10/17/20\", \"10/18/20\", \"10/19/20\", \"10/20/20\", \"10/21/20\", \"10/22/20\", \"10/23/20\", \"10/24/20\", \"10/25/20\", \"10/26/20\", \"10/27/20\", \"10/28/20\", \"10/29/20\", \"10/30/20\", \"10/31/20\", \"11/1/20\", \"11/2/20\", \"11/3/20\", \"11/4/20\", \"11/5/20\", \"11/6/20\", \"11/7/20\", \"11/8/20\", \"11/9/20\", \"11/10/20\", \"11/11/20\", \"11/12/20\", \"11/13/20\", \"11/14/20\", \"11/15/20\", \"11/16/20\", \"11/17/20\", \"11/18/20\", \"11/19/20\", \"11/20/20\", \"11/21/20\", \"11/22/20\", \"11/23/20\", \"11/24/20\", \"11/25/20\", \"11/26/20\", \"11/27/20\", \"11/28/20\", \"11/29/20\", \"11/30/20\", \"12/1/20\", \"12/2/20\", \"12/3/20\", \"12/4/20\", \"12/5/20\", \"12/6/20\", \"12/7/20\", \"12/8/20\", \"12/9/20\", \"12/10/20\", \"12/11/20\", \"12/12/20\", \"12/13/20\", \"12/14/20\", \"12/15/20\", \"12/16/20\", \"12/17/20\", \"12/18/20\", \"12/19/20\", \"12/20/20\", \"12/21/20\", \"12/22/20\", \"12/23/20\", \"12/24/20\", \"12/25/20\", \"12/26/20\", \"12/27/20\", \"12/28/20\", \"12/29/20\", \"12/30/20\", \"12/31/20\", \"1/1/21\", \"1/2/21\", \"1/3/21\", \"1/4/21\", \"1/5/21\", \"1/6/21\", \"1/7/21\", \"1/8/21\", \"1/9/21\", \"1/10/21\", \"1/11/21\", \"1/12/21\", \"1/13/21\", \"1/14/21\"], \"y\": [0, 0, 0, 0, 0, 0, 0, 0, 0, 0, 0, 0, 0, 0, 0, 0, 0, 0, 0, 0, 0, 0, 0, 0, 0, 0, 0, 0, 0, 0, 0, 0, 0, 0, 0, 0, 0, 0, 0, 0, 0, 0, 0, 0, 0, 0, 0, 0, 0, 0, 0, 0, 0, 0, 0, 0, 0, 0, 0, 1, 1, 1, 2, 3, 3, 4, 4, 4, 4, 4, 4, 8, 10, 12, 15, 16, 16, 17, 18, 18, 19, 22, 23, 29, 30, 30, 30, 33, 36, 36, 40, 40, 43, 47, 52, 58, 59, 61, 64, 68, 72, 85, 90, 95, 104, 106, 109, 115, 120, 122, 127, 132, 136, 153, 168, 170, 173, 178, 188, 194, 206, 217, 219, 220, 221, 228, 236, 247, 250, 258, 266, 274, 298, 304, 313, 331, 361, 373, 388, 409, 430, 450, 455, 475, 482, 495, 508, 550, 552, 573, 585, 597, 617, 638, 674, 682, 716, 728, 740, 752, 780, 809, 821, 828, 866, 900, 922, 939, 959, 973, 996, 1012, 1040, 1064, 1096, 1117, 1149, 1166, 1183, 1185, 1188, 1192, 1213, 1227, 1249, 1261, 1271, 1272, 1273, 1283, 1284, 1285, 1286, 1290, 1290, 1296, 1301, 1310, 1315, 1321, 1329, 1346, 1356, 1365, 1370, 1371, 1376, 1378, 1382, 1384, 1386, 1386, 1386, 1388, 1390, 1398, 1402, 1402, 1403, 1403, 1403, 1403, 1407, 1410, 1410, 1410, 1410, 1413, 1416, 1419, 1421, 1421, 1421, 1421, 1421, 1427, 1428, 1438, 1438, 1439, 1439, 1443, 1446, 1447, 1448, 1453, 1453, 1455, 1455, 1458, 1460, 1460, 1460, 1460, 1464, 1464, 1468, 1469, 1471, 1472, 1474, 1475, 1479, 1481, 1482, 1483, 1483, 1487, 1490, 1494, 1499, 1501, 1503, 1507, 1509, 1513, 1516, 1520, 1525, 1531, 1534, 1535, 1538, 1538, 1544, 1547, 1551, 1557, 1557, 1559, 1565, 1577, 1580, 1584, 1594, 1598, 1608, 1620, 1635, 1641, 1648, 1653, 1666, 1678, 1690, 1702, 1715, 1728, 1737, 1740, 1752, 1774, 1795, 1822, 1841, 1846, 1846, 1864, 1874, 1900, 1906, 1919, 1935, 1945, 1956, 1965, 1969, 1995, 2011, 2025, 2030, 2047, 2067, 2082, 2096, 2117, 2126, 2139, 2149, 2160, 2174, 2179, 2181, 2191, 2191, 2191, 2191, 2237, 2244, 2244, 2253, 2257, 2264, 2277, 2288, 2301, 2301, 2314]}, {\"connectgaps\": true, \"line\": {\"color\": \"green\", \"width\": 1}, \"mode\": \"lines+markers\", \"name\": \"recovered\", \"text\": \"Total recovered: 45298\", \"type\": \"scatter\", \"x\": [\"1/23/20\", \"1/24/20\", \"1/25/20\", \"1/26/20\", \"1/27/20\", \"1/28/20\", \"1/29/20\", \"1/30/20\", \"1/31/20\", \"2/1/20\", \"2/2/20\", \"2/3/20\", \"2/4/20\", \"2/5/20\", \"2/6/20\", \"2/7/20\", \"2/8/20\", \"2/9/20\", \"2/10/20\", \"2/11/20\", \"2/12/20\", \"2/13/20\", \"2/14/20\", \"2/15/20\", \"2/16/20\", \"2/17/20\", \"2/18/20\", \"2/19/20\", \"2/20/20\", \"2/21/20\", \"2/22/20\", \"2/23/20\", \"2/24/20\", \"2/25/20\", \"2/26/20\", \"2/27/20\", \"2/28/20\", \"2/29/20\", \"3/1/20\", \"3/2/20\", \"3/3/20\", \"3/4/20\", \"3/5/20\", \"3/6/20\", \"3/7/20\", \"3/8/20\", \"3/9/20\", \"3/10/20\", \"3/11/20\", \"3/12/20\", \"3/13/20\", \"3/14/20\", \"3/15/20\", \"3/16/20\", \"3/17/20\", \"3/18/20\", \"3/19/20\", \"3/20/20\", \"3/21/20\", \"3/22/20\", \"3/23/20\", \"3/24/20\", \"3/25/20\", \"3/26/20\", \"3/27/20\", \"3/28/20\", \"3/29/20\", \"3/30/20\", \"3/31/20\", \"4/1/20\", \"4/2/20\", \"4/3/20\", \"4/4/20\", \"4/5/20\", \"4/6/20\", \"4/7/20\", \"4/8/20\", \"4/9/20\", \"4/10/20\", \"4/11/20\", \"4/12/20\", \"4/13/20\", \"4/14/20\", \"4/15/20\", \"4/16/20\", \"4/17/20\", \"4/18/20\", \"4/19/20\", \"4/20/20\", \"4/21/20\", \"4/22/20\", \"4/23/20\", \"4/24/20\", \"4/25/20\", \"4/26/20\", \"4/27/20\", \"4/28/20\", \"4/29/20\", \"4/30/20\", \"5/1/20\", \"5/2/20\", \"5/3/20\", \"5/4/20\", \"5/5/20\", \"5/6/20\", \"5/7/20\", \"5/8/20\", \"5/9/20\", \"5/10/20\", \"5/11/20\", \"5/12/20\", \"5/13/20\", \"5/14/20\", \"5/15/20\", \"5/16/20\", \"5/17/20\", \"5/18/20\", \"5/19/20\", \"5/20/20\", \"5/21/20\", \"5/22/20\", \"5/23/20\", \"5/24/20\", \"5/25/20\", \"5/26/20\", \"5/27/20\", \"5/28/20\", \"5/29/20\", \"5/30/20\", \"5/31/20\", \"6/1/20\", \"6/2/20\", \"6/3/20\", \"6/4/20\", \"6/5/20\", \"6/6/20\", \"6/7/20\", \"6/8/20\", \"6/9/20\", \"6/10/20\", \"6/11/20\", \"6/12/20\", \"6/13/20\", \"6/14/20\", \"6/15/20\", \"6/16/20\", \"6/17/20\", \"6/18/20\", \"6/19/20\", \"6/20/20\", \"6/21/20\", \"6/22/20\", \"6/23/20\", \"6/24/20\", \"6/25/20\", \"6/26/20\", \"6/27/20\", \"6/28/20\", \"6/29/20\", \"6/30/20\", \"7/1/20\", \"7/2/20\", \"7/3/20\", \"7/4/20\", \"7/5/20\", \"7/6/20\", \"7/7/20\", \"7/8/20\", \"7/9/20\", \"7/10/20\", \"7/11/20\", \"7/12/20\", \"7/13/20\", \"7/14/20\", \"7/15/20\", \"7/16/20\", \"7/17/20\", \"7/18/20\", \"7/19/20\", \"7/20/20\", \"7/21/20\", \"7/22/20\", \"7/23/20\", \"7/24/20\", \"7/25/20\", \"7/26/20\", \"7/27/20\", \"7/28/20\", \"7/29/20\", \"7/30/20\", \"7/31/20\", \"8/1/20\", \"8/2/20\", \"8/3/20\", \"8/4/20\", \"8/5/20\", \"8/6/20\", \"8/7/20\", \"8/8/20\", \"8/9/20\", \"8/10/20\", \"8/11/20\", \"8/12/20\", \"8/13/20\", \"8/14/20\", \"8/15/20\", \"8/16/20\", \"8/17/20\", \"8/18/20\", \"8/19/20\", \"8/20/20\", \"8/21/20\", \"8/22/20\", \"8/23/20\", \"8/24/20\", \"8/25/20\", \"8/26/20\", \"8/27/20\", \"8/28/20\", \"8/29/20\", \"8/30/20\", \"8/31/20\", \"9/1/20\", \"9/2/20\", \"9/3/20\", \"9/4/20\", \"9/5/20\", \"9/6/20\", \"9/7/20\", \"9/8/20\", \"9/9/20\", \"9/10/20\", \"9/11/20\", \"9/12/20\", \"9/13/20\", \"9/14/20\", \"9/15/20\", \"9/16/20\", \"9/17/20\", \"9/18/20\", \"9/19/20\", \"9/20/20\", \"9/21/20\", \"9/22/20\", \"9/23/20\", \"9/24/20\", \"9/25/20\", \"9/26/20\", \"9/27/20\", \"9/28/20\", \"9/29/20\", \"9/30/20\", \"10/1/20\", \"10/2/20\", \"10/3/20\", \"10/4/20\", \"10/5/20\", \"10/6/20\", \"10/7/20\", \"10/8/20\", \"10/9/20\", \"10/10/20\", \"10/11/20\", \"10/12/20\", \"10/13/20\", \"10/14/20\", \"10/15/20\", \"10/16/20\", \"10/17/20\", \"10/18/20\", \"10/19/20\", \"10/20/20\", \"10/21/20\", \"10/22/20\", \"10/23/20\", \"10/24/20\", \"10/25/20\", \"10/26/20\", \"10/27/20\", \"10/28/20\", \"10/29/20\", \"10/30/20\", \"10/31/20\", \"11/1/20\", \"11/2/20\", \"11/3/20\", \"11/4/20\", \"11/5/20\", \"11/6/20\", \"11/7/20\", \"11/8/20\", \"11/9/20\", \"11/10/20\", \"11/11/20\", \"11/12/20\", \"11/13/20\", \"11/14/20\", \"11/15/20\", \"11/16/20\", \"11/17/20\", \"11/18/20\", \"11/19/20\", \"11/20/20\", \"11/21/20\", \"11/22/20\", \"11/23/20\", \"11/24/20\", \"11/25/20\", \"11/26/20\", \"11/27/20\", \"11/28/20\", \"11/29/20\", \"11/30/20\", \"12/1/20\", \"12/2/20\", \"12/3/20\", \"12/4/20\", \"12/5/20\", \"12/6/20\", \"12/7/20\", \"12/8/20\", \"12/9/20\", \"12/10/20\", \"12/11/20\", \"12/12/20\", \"12/13/20\", \"12/14/20\", \"12/15/20\", \"12/16/20\", \"12/17/20\", \"12/18/20\", \"12/19/20\", \"12/20/20\", \"12/21/20\", \"12/22/20\", \"12/23/20\", \"12/24/20\", \"12/25/20\", \"12/26/20\", \"12/27/20\", \"12/28/20\", \"12/29/20\", \"12/30/20\", \"12/31/20\", \"1/1/21\", \"1/2/21\", \"1/3/21\", \"1/4/21\", \"1/5/21\", \"1/6/21\", \"1/7/21\", \"1/8/21\", \"1/9/21\", \"1/10/21\", \"1/11/21\", \"1/12/21\", \"1/13/21\", \"1/14/21\"], \"y\": [0, 0, 0, 0, 0, 0, 0, 0, 0, 0, 0, 0, 0, 0, 0, 0, 0, 0, 0, 0, 0, 0, 0, 0, 0, 0, 0, 0, 0, 0, 0, 0, 0, 0, 0, 0, 0, 0, 0, 0, 0, 0, 0, 0, 0, 0, 0, 0, 0, 0, 0, 0, 0, 1, 1, 1, 1, 1, 1, 1, 1, 1, 2, 2, 2, 2, 2, 2, 5, 5, 10, 10, 10, 15, 18, 18, 29, 32, 32, 32, 32, 32, 40, 43, 54, 99, 112, 131, 135, 150, 166, 179, 188, 188, 207, 220, 228, 252, 260, 310, 331, 345, 397, 421, 458, 468, 472, 502, 558, 558, 610, 648, 691, 745, 745, 778, 801, 850, 930, 938, 996, 1040, 1075, 1097, 1128, 1138, 1209, 1259, 1303, 1328, 1428, 1450, 1522, 1585, 1762, 1830, 1875, 2171, 2651, 3013, 3326, 3928, 4201, 4725, 5164, 5508, 6158, 7660, 7962, 8292, 8764, 8841, 9260, 9869, 10174, 10306, 10674, 12604, 13934, 14131, 15651, 16041, 17331, 19164, 19366, 20103, 20179, 20700, 20847, 20882, 21135, 21216, 21254, 21454, 22456, 22824, 23151, 23273, 23634, 23741, 23741, 23924, 24550, 24602, 24793, 25180, 25198, 25358, 25389, 25471, 25509, 25509, 25510, 25669, 25669, 25742, 25840, 25903, 25960, 25960, 26228, 26415, 26694, 26714, 26714, 27166, 27166, 27166, 27166, 27166, 27681, 28016, 28016, 28180, 28360, 28440, 29042, 29046, 29059, 29063, 29089, 29089, 29231, 29315, 29390, 29713, 30082, 30537, 30557, 30715, 31048, 31129, 31154, 31234, 31638, 32073, 32098, 32503, 32505, 32576, 32576, 32576, 32576, 32576, 32610, 32619, 32619, 32635, 32642, 32642, 32746, 32789, 32842, 32842, 32842, 32852, 32879, 32977, 33045, 33058, 33058, 33064, 33114, 33118, 33308, 33354, 33447, 33516, 33561, 33614, 33760, 33790, 33824, 33831, 34010, 34023, 34129, 34150, 34217, 34237, 34239, 34258, 34321, 34326, 34342, 34355, 34362, 34440, 34440, 34446, 34458, 34721, 34954, 34967, 35024, 35036, 35067, 35092, 35137, 35160, 35295, 35350, 35370, 35422, 35934, 35976, 36122, 36145, 36232, 36295, 36709, 36716, 36831, 36946, 37218, 37260, 37260, 37393, 37685, 37879, 37920, 38032, 38099, 38141, 38200, 38250, 38252, 38336, 38475, 38505, 38540, 38613, 39006, 39508, 39585, 39692, 40359, 40444, 40784, 41096, 41441, 41543, 41612, 41727, 41727, 41727, 41727, 42530, 42666, 42666, 43291, 43440, 43740, 43948, 44137, 44608, 44850, 45298]}],                        {\"template\": {\"data\": {\"bar\": [{\"error_x\": {\"color\": \"#2a3f5f\"}, \"error_y\": {\"color\": \"#2a3f5f\"}, \"marker\": {\"line\": {\"color\": \"#E5ECF6\", \"width\": 0.5}}, \"type\": \"bar\"}], \"barpolar\": [{\"marker\": {\"line\": {\"color\": \"#E5ECF6\", \"width\": 0.5}}, \"type\": \"barpolar\"}], \"carpet\": [{\"aaxis\": {\"endlinecolor\": \"#2a3f5f\", \"gridcolor\": \"white\", \"linecolor\": \"white\", \"minorgridcolor\": \"white\", \"startlinecolor\": \"#2a3f5f\"}, \"baxis\": {\"endlinecolor\": \"#2a3f5f\", \"gridcolor\": \"white\", \"linecolor\": \"white\", \"minorgridcolor\": \"white\", \"startlinecolor\": \"#2a3f5f\"}, \"type\": \"carpet\"}], \"choropleth\": [{\"colorbar\": {\"outlinewidth\": 0, \"ticks\": \"\"}, \"type\": \"choropleth\"}], \"contour\": [{\"colorbar\": {\"outlinewidth\": 0, \"ticks\": \"\"}, \"colorscale\": [[0.0, \"#0d0887\"], [0.1111111111111111, \"#46039f\"], [0.2222222222222222, \"#7201a8\"], [0.3333333333333333, \"#9c179e\"], [0.4444444444444444, \"#bd3786\"], [0.5555555555555556, \"#d8576b\"], [0.6666666666666666, \"#ed7953\"], [0.7777777777777778, \"#fb9f3a\"], [0.8888888888888888, \"#fdca26\"], [1.0, \"#f0f921\"]], \"type\": \"contour\"}], \"contourcarpet\": [{\"colorbar\": {\"outlinewidth\": 0, \"ticks\": \"\"}, \"type\": \"contourcarpet\"}], \"heatmap\": [{\"colorbar\": {\"outlinewidth\": 0, \"ticks\": \"\"}, \"colorscale\": [[0.0, \"#0d0887\"], [0.1111111111111111, \"#46039f\"], [0.2222222222222222, \"#7201a8\"], [0.3333333333333333, \"#9c179e\"], [0.4444444444444444, \"#bd3786\"], [0.5555555555555556, \"#d8576b\"], [0.6666666666666666, \"#ed7953\"], [0.7777777777777778, \"#fb9f3a\"], [0.8888888888888888, \"#fdca26\"], [1.0, \"#f0f921\"]], \"type\": \"heatmap\"}], \"heatmapgl\": [{\"colorbar\": {\"outlinewidth\": 0, \"ticks\": \"\"}, \"colorscale\": [[0.0, \"#0d0887\"], [0.1111111111111111, \"#46039f\"], [0.2222222222222222, \"#7201a8\"], [0.3333333333333333, \"#9c179e\"], [0.4444444444444444, \"#bd3786\"], [0.5555555555555556, \"#d8576b\"], [0.6666666666666666, \"#ed7953\"], [0.7777777777777778, \"#fb9f3a\"], [0.8888888888888888, \"#fdca26\"], [1.0, \"#f0f921\"]], \"type\": \"heatmapgl\"}], \"histogram\": [{\"marker\": {\"colorbar\": {\"outlinewidth\": 0, \"ticks\": \"\"}}, \"type\": \"histogram\"}], \"histogram2d\": [{\"colorbar\": {\"outlinewidth\": 0, \"ticks\": \"\"}, \"colorscale\": [[0.0, \"#0d0887\"], [0.1111111111111111, \"#46039f\"], [0.2222222222222222, \"#7201a8\"], [0.3333333333333333, \"#9c179e\"], [0.4444444444444444, \"#bd3786\"], [0.5555555555555556, \"#d8576b\"], [0.6666666666666666, \"#ed7953\"], [0.7777777777777778, \"#fb9f3a\"], [0.8888888888888888, \"#fdca26\"], [1.0, \"#f0f921\"]], \"type\": \"histogram2d\"}], \"histogram2dcontour\": [{\"colorbar\": {\"outlinewidth\": 0, \"ticks\": \"\"}, \"colorscale\": [[0.0, \"#0d0887\"], [0.1111111111111111, \"#46039f\"], [0.2222222222222222, \"#7201a8\"], [0.3333333333333333, \"#9c179e\"], [0.4444444444444444, \"#bd3786\"], [0.5555555555555556, \"#d8576b\"], [0.6666666666666666, \"#ed7953\"], [0.7777777777777778, \"#fb9f3a\"], [0.8888888888888888, \"#fdca26\"], [1.0, \"#f0f921\"]], \"type\": \"histogram2dcontour\"}], \"mesh3d\": [{\"colorbar\": {\"outlinewidth\": 0, \"ticks\": \"\"}, \"type\": \"mesh3d\"}], \"parcoords\": [{\"line\": {\"colorbar\": {\"outlinewidth\": 0, \"ticks\": \"\"}}, \"type\": \"parcoords\"}], \"pie\": [{\"automargin\": true, \"type\": \"pie\"}], \"scatter\": [{\"marker\": {\"colorbar\": {\"outlinewidth\": 0, \"ticks\": \"\"}}, \"type\": \"scatter\"}], \"scatter3d\": [{\"line\": {\"colorbar\": {\"outlinewidth\": 0, \"ticks\": \"\"}}, \"marker\": {\"colorbar\": {\"outlinewidth\": 0, \"ticks\": \"\"}}, \"type\": \"scatter3d\"}], \"scattercarpet\": [{\"marker\": {\"colorbar\": {\"outlinewidth\": 0, \"ticks\": \"\"}}, \"type\": \"scattercarpet\"}], \"scattergeo\": [{\"marker\": {\"colorbar\": {\"outlinewidth\": 0, \"ticks\": \"\"}}, \"type\": \"scattergeo\"}], \"scattergl\": [{\"marker\": {\"colorbar\": {\"outlinewidth\": 0, \"ticks\": \"\"}}, \"type\": \"scattergl\"}], \"scattermapbox\": [{\"marker\": {\"colorbar\": {\"outlinewidth\": 0, \"ticks\": \"\"}}, \"type\": \"scattermapbox\"}], \"scatterpolar\": [{\"marker\": {\"colorbar\": {\"outlinewidth\": 0, \"ticks\": \"\"}}, \"type\": \"scatterpolar\"}], \"scatterpolargl\": [{\"marker\": {\"colorbar\": {\"outlinewidth\": 0, \"ticks\": \"\"}}, \"type\": \"scatterpolargl\"}], \"scatterternary\": [{\"marker\": {\"colorbar\": {\"outlinewidth\": 0, \"ticks\": \"\"}}, \"type\": \"scatterternary\"}], \"surface\": [{\"colorbar\": {\"outlinewidth\": 0, \"ticks\": \"\"}, \"colorscale\": [[0.0, \"#0d0887\"], [0.1111111111111111, \"#46039f\"], [0.2222222222222222, \"#7201a8\"], [0.3333333333333333, \"#9c179e\"], [0.4444444444444444, \"#bd3786\"], [0.5555555555555556, \"#d8576b\"], [0.6666666666666666, \"#ed7953\"], [0.7777777777777778, \"#fb9f3a\"], [0.8888888888888888, \"#fdca26\"], [1.0, \"#f0f921\"]], \"type\": \"surface\"}], \"table\": [{\"cells\": {\"fill\": {\"color\": \"#EBF0F8\"}, \"line\": {\"color\": \"white\"}}, \"header\": {\"fill\": {\"color\": \"#C8D4E3\"}, \"line\": {\"color\": \"white\"}}, \"type\": \"table\"}]}, \"layout\": {\"annotationdefaults\": {\"arrowcolor\": \"#2a3f5f\", \"arrowhead\": 0, \"arrowwidth\": 1}, \"autotypenumbers\": \"strict\", \"coloraxis\": {\"colorbar\": {\"outlinewidth\": 0, \"ticks\": \"\"}}, \"colorscale\": {\"diverging\": [[0, \"#8e0152\"], [0.1, \"#c51b7d\"], [0.2, \"#de77ae\"], [0.3, \"#f1b6da\"], [0.4, \"#fde0ef\"], [0.5, \"#f7f7f7\"], [0.6, \"#e6f5d0\"], [0.7, \"#b8e186\"], [0.8, \"#7fbc41\"], [0.9, \"#4d9221\"], [1, \"#276419\"]], \"sequential\": [[0.0, \"#0d0887\"], [0.1111111111111111, \"#46039f\"], [0.2222222222222222, \"#7201a8\"], [0.3333333333333333, \"#9c179e\"], [0.4444444444444444, \"#bd3786\"], [0.5555555555555556, \"#d8576b\"], [0.6666666666666666, \"#ed7953\"], [0.7777777777777778, \"#fb9f3a\"], [0.8888888888888888, \"#fdca26\"], [1.0, \"#f0f921\"]], \"sequentialminus\": [[0.0, \"#0d0887\"], [0.1111111111111111, \"#46039f\"], [0.2222222222222222, \"#7201a8\"], [0.3333333333333333, \"#9c179e\"], [0.4444444444444444, \"#bd3786\"], [0.5555555555555556, \"#d8576b\"], [0.6666666666666666, \"#ed7953\"], [0.7777777777777778, \"#fb9f3a\"], [0.8888888888888888, \"#fdca26\"], [1.0, \"#f0f921\"]]}, \"colorway\": [\"#636efa\", \"#EF553B\", \"#00cc96\", \"#ab63fa\", \"#FFA15A\", \"#19d3f3\", \"#FF6692\", \"#B6E880\", \"#FF97FF\", \"#FECB52\"], \"font\": {\"color\": \"#2a3f5f\"}, \"geo\": {\"bgcolor\": \"white\", \"lakecolor\": \"white\", \"landcolor\": \"#E5ECF6\", \"showlakes\": true, \"showland\": true, \"subunitcolor\": \"white\"}, \"hoverlabel\": {\"align\": \"left\"}, \"hovermode\": \"closest\", \"mapbox\": {\"style\": \"light\"}, \"paper_bgcolor\": \"white\", \"plot_bgcolor\": \"#E5ECF6\", \"polar\": {\"angularaxis\": {\"gridcolor\": \"white\", \"linecolor\": \"white\", \"ticks\": \"\"}, \"bgcolor\": \"#E5ECF6\", \"radialaxis\": {\"gridcolor\": \"white\", \"linecolor\": \"white\", \"ticks\": \"\"}}, \"scene\": {\"xaxis\": {\"backgroundcolor\": \"#E5ECF6\", \"gridcolor\": \"white\", \"gridwidth\": 2, \"linecolor\": \"white\", \"showbackground\": true, \"ticks\": \"\", \"zerolinecolor\": \"white\"}, \"yaxis\": {\"backgroundcolor\": \"#E5ECF6\", \"gridcolor\": \"white\", \"gridwidth\": 2, \"linecolor\": \"white\", \"showbackground\": true, \"ticks\": \"\", \"zerolinecolor\": \"white\"}, \"zaxis\": {\"backgroundcolor\": \"#E5ECF6\", \"gridcolor\": \"white\", \"gridwidth\": 2, \"linecolor\": \"white\", \"showbackground\": true, \"ticks\": \"\", \"zerolinecolor\": \"white\"}}, \"shapedefaults\": {\"line\": {\"color\": \"#2a3f5f\"}}, \"ternary\": {\"aaxis\": {\"gridcolor\": \"white\", \"linecolor\": \"white\", \"ticks\": \"\"}, \"baxis\": {\"gridcolor\": \"white\", \"linecolor\": \"white\", \"ticks\": \"\"}, \"bgcolor\": \"#E5ECF6\", \"caxis\": {\"gridcolor\": \"white\", \"linecolor\": \"white\", \"ticks\": \"\"}}, \"title\": {\"x\": 0.05}, \"xaxis\": {\"automargin\": true, \"gridcolor\": \"white\", \"linecolor\": \"white\", \"ticks\": \"\", \"title\": {\"standoff\": 15}, \"zerolinecolor\": \"white\", \"zerolinewidth\": 2}, \"yaxis\": {\"automargin\": true, \"gridcolor\": \"white\", \"linecolor\": \"white\", \"ticks\": \"\", \"title\": {\"standoff\": 15}, \"zerolinecolor\": \"white\", \"zerolinewidth\": 2}}}, \"title\": {\"text\": \"Covid-19 Cases Timeseries\"}, \"xaxis\": {\"title\": {\"text\": \"Date\"}}, \"yaxis\": {\"title\": {\"text\": \"Country\"}}},                        {\"responsive\": true}                    ).then(function(){\n                            \nvar gd = document.getElementById('44de9ac4-cb5c-4262-9322-006a38baf2cc');\nvar x = new MutationObserver(function (mutations, observer) {{\n        var display = window.getComputedStyle(gd).display;\n        if (!display || display === 'none') {{\n            console.log([gd, 'removed!']);\n            Plotly.purge(gd);\n            observer.disconnect();\n        }}\n}});\n\n// Listen for the removal of the full notebook cells\nvar notebookContainer = gd.closest('#notebook-container');\nif (notebookContainer) {{\n    x.observe(notebookContainer, {childList: true});\n}}\n\n// Listen for the clearing of the current output cell\nvar outputEl = gd.closest('.output');\nif (outputEl) {{\n    x.observe(outputEl, {childList: true});\n}}\n\n                        })                };                });            </script>        </div>"
         },
         "metadata": {},
         "output_type": "display_data"
        }
       ]
      }
     },
     "7727ebd621484d668720861754203d68": {
      "model_module": "@jupyter-widgets/controls",
      "model_module_version": "1.5.0",
      "model_name": "VBoxModel",
      "state": {
       "_dom_classes": [
        "widget-interact"
       ],
       "children": [
        "IPY_MODEL_66cd534c49484adc8d826a2c267c9ab7",
        "IPY_MODEL_6c50b95b8f114891807228623c3bfd5b",
        "IPY_MODEL_5d46fe9fe15c478fbb6efe042c8f6320"
       ],
       "layout": "IPY_MODEL_4f1b7c1c133845f3997d4a6486a065d7"
      }
     },
     "777614c71a3e41d1a7ebee69649ff411": {
      "model_module": "@jupyter-widgets/output",
      "model_module_version": "1.0.0",
      "model_name": "OutputModel",
      "state": {
       "layout": "IPY_MODEL_27c106d0c1744889b23d3c517de70830",
       "outputs": [
        {
         "data": {
          "application/vnd.plotly.v1+json": {
           "config": {
            "plotlyServerURL": "https://plot.ly"
           },
           "data": [
            {
             "alignmentgroup": "True",
             "customdata": [
              [
               22847637
              ]
             ],
             "hovertemplate": "country=%{x}<br>Confirmed=%{customdata[0]}<extra></extra>",
             "legendgroup": "US",
             "marker": {
              "color": "#636efa"
             },
             "name": "US",
             "offsetgroup": "US",
             "orientation": "v",
             "showlegend": true,
             "textposition": "auto",
             "type": "bar",
             "x": [
              "US"
             ],
             "xaxis": "x",
             "y": [
              22847637
             ],
             "yaxis": "y"
            },
            {
             "alignmentgroup": "True",
             "customdata": [
              [
               10495147
              ]
             ],
             "hovertemplate": "country=%{x}<br>Confirmed=%{customdata[0]}<extra></extra>",
             "legendgroup": "India",
             "marker": {
              "color": "#EF553B"
             },
             "name": "India",
             "offsetgroup": "India",
             "orientation": "v",
             "showlegend": true,
             "textposition": "auto",
             "type": "bar",
             "x": [
              "India"
             ],
             "xaxis": "x",
             "y": [
              10495147
             ],
             "yaxis": "y"
            },
            {
             "alignmentgroup": "True",
             "customdata": [
              [
               8195637
              ]
             ],
             "hovertemplate": "country=%{x}<br>Confirmed=%{customdata[0]}<extra></extra>",
             "legendgroup": "Brazil",
             "marker": {
              "color": "#00cc96"
             },
             "name": "Brazil",
             "offsetgroup": "Brazil",
             "orientation": "v",
             "showlegend": true,
             "textposition": "auto",
             "type": "bar",
             "x": [
              "Brazil"
             ],
             "xaxis": "x",
             "y": [
              8195637
             ],
             "yaxis": "y"
            },
            {
             "alignmentgroup": "True",
             "customdata": [
              [
               3412390
              ]
             ],
             "hovertemplate": "country=%{x}<br>Confirmed=%{customdata[0]}<extra></extra>",
             "legendgroup": "Russia",
             "marker": {
              "color": "#ab63fa"
             },
             "name": "Russia",
             "offsetgroup": "Russia",
             "orientation": "v",
             "showlegend": true,
             "textposition": "auto",
             "type": "bar",
             "x": [
              "Russia"
             ],
             "xaxis": "x",
             "y": [
              3412390
             ],
             "yaxis": "y"
            },
            {
             "alignmentgroup": "True",
             "customdata": [
              [
               3173291
              ]
             ],
             "hovertemplate": "country=%{x}<br>Confirmed=%{customdata[0]}<extra></extra>",
             "legendgroup": "United Kingdom",
             "marker": {
              "color": "#FFA15A"
             },
             "name": "United Kingdom",
             "offsetgroup": "United Kingdom",
             "orientation": "v",
             "showlegend": true,
             "textposition": "auto",
             "type": "bar",
             "x": [
              "United Kingdom"
             ],
             "xaxis": "x",
             "y": [
              3173291
             ],
             "yaxis": "y"
            },
            {
             "alignmentgroup": "True",
             "customdata": [
              [
               2864360
              ]
             ],
             "hovertemplate": "country=%{x}<br>Confirmed=%{customdata[0]}<extra></extra>",
             "legendgroup": "France",
             "marker": {
              "color": "#19d3f3"
             },
             "name": "France",
             "offsetgroup": "France",
             "orientation": "v",
             "showlegend": true,
             "textposition": "auto",
             "type": "bar",
             "x": [
              "France"
             ],
             "xaxis": "x",
             "y": [
              2864360
             ],
             "yaxis": "y"
            },
            {
             "alignmentgroup": "True",
             "customdata": [
              [
               2346285
              ]
             ],
             "hovertemplate": "country=%{x}<br>Confirmed=%{customdata[0]}<extra></extra>",
             "legendgroup": "Turkey",
             "marker": {
              "color": "#FF6692"
             },
             "name": "Turkey",
             "offsetgroup": "Turkey",
             "orientation": "v",
             "showlegend": true,
             "textposition": "auto",
             "type": "bar",
             "x": [
              "Turkey"
             ],
             "xaxis": "x",
             "y": [
              2346285
             ],
             "yaxis": "y"
            },
            {
             "alignmentgroup": "True",
             "customdata": [
              [
               2303263
              ]
             ],
             "hovertemplate": "country=%{x}<br>Confirmed=%{customdata[0]}<extra></extra>",
             "legendgroup": "Italy",
             "marker": {
              "color": "#B6E880"
             },
             "name": "Italy",
             "offsetgroup": "Italy",
             "orientation": "v",
             "showlegend": true,
             "textposition": "auto",
             "type": "bar",
             "x": [
              "Italy"
             ],
             "xaxis": "x",
             "y": [
              2303263
             ],
             "yaxis": "y"
            },
            {
             "alignmentgroup": "True",
             "customdata": [
              [
               2137220
              ]
             ],
             "hovertemplate": "country=%{x}<br>Confirmed=%{customdata[0]}<extra></extra>",
             "legendgroup": "Spain",
             "marker": {
              "color": "#FF97FF"
             },
             "name": "Spain",
             "offsetgroup": "Spain",
             "orientation": "v",
             "showlegend": true,
             "textposition": "auto",
             "type": "bar",
             "x": [
              "Spain"
             ],
             "xaxis": "x",
             "y": [
              2137220
             ],
             "yaxis": "y"
            },
            {
             "alignmentgroup": "True",
             "customdata": [
              [
               1968326
              ]
             ],
             "hovertemplate": "country=%{x}<br>Confirmed=%{customdata[0]}<extra></extra>",
             "legendgroup": "Germany",
             "marker": {
              "color": "#FECB52"
             },
             "name": "Germany",
             "offsetgroup": "Germany",
             "orientation": "v",
             "showlegend": true,
             "textposition": "auto",
             "type": "bar",
             "x": [
              "Germany"
             ],
             "xaxis": "x",
             "y": [
              1968326
             ],
             "yaxis": "y"
            }
           ],
           "layout": {
            "barmode": "relative",
            "height": 400,
            "legend": {
             "title": {
              "text": "country"
             },
             "tracegroupgap": 0
            },
            "template": {
             "data": {
              "bar": [
               {
                "error_x": {
                 "color": "#2a3f5f"
                },
                "error_y": {
                 "color": "#2a3f5f"
                },
                "marker": {
                 "line": {
                  "color": "#E5ECF6",
                  "width": 0.5
                 }
                },
                "type": "bar"
               }
              ],
              "barpolar": [
               {
                "marker": {
                 "line": {
                  "color": "#E5ECF6",
                  "width": 0.5
                 }
                },
                "type": "barpolar"
               }
              ],
              "carpet": [
               {
                "aaxis": {
                 "endlinecolor": "#2a3f5f",
                 "gridcolor": "white",
                 "linecolor": "white",
                 "minorgridcolor": "white",
                 "startlinecolor": "#2a3f5f"
                },
                "baxis": {
                 "endlinecolor": "#2a3f5f",
                 "gridcolor": "white",
                 "linecolor": "white",
                 "minorgridcolor": "white",
                 "startlinecolor": "#2a3f5f"
                },
                "type": "carpet"
               }
              ],
              "choropleth": [
               {
                "colorbar": {
                 "outlinewidth": 0,
                 "ticks": ""
                },
                "type": "choropleth"
               }
              ],
              "contour": [
               {
                "colorbar": {
                 "outlinewidth": 0,
                 "ticks": ""
                },
                "colorscale": [
                 [
                  0,
                  "#0d0887"
                 ],
                 [
                  0.1111111111111111,
                  "#46039f"
                 ],
                 [
                  0.2222222222222222,
                  "#7201a8"
                 ],
                 [
                  0.3333333333333333,
                  "#9c179e"
                 ],
                 [
                  0.4444444444444444,
                  "#bd3786"
                 ],
                 [
                  0.5555555555555556,
                  "#d8576b"
                 ],
                 [
                  0.6666666666666666,
                  "#ed7953"
                 ],
                 [
                  0.7777777777777778,
                  "#fb9f3a"
                 ],
                 [
                  0.8888888888888888,
                  "#fdca26"
                 ],
                 [
                  1,
                  "#f0f921"
                 ]
                ],
                "type": "contour"
               }
              ],
              "contourcarpet": [
               {
                "colorbar": {
                 "outlinewidth": 0,
                 "ticks": ""
                },
                "type": "contourcarpet"
               }
              ],
              "heatmap": [
               {
                "colorbar": {
                 "outlinewidth": 0,
                 "ticks": ""
                },
                "colorscale": [
                 [
                  0,
                  "#0d0887"
                 ],
                 [
                  0.1111111111111111,
                  "#46039f"
                 ],
                 [
                  0.2222222222222222,
                  "#7201a8"
                 ],
                 [
                  0.3333333333333333,
                  "#9c179e"
                 ],
                 [
                  0.4444444444444444,
                  "#bd3786"
                 ],
                 [
                  0.5555555555555556,
                  "#d8576b"
                 ],
                 [
                  0.6666666666666666,
                  "#ed7953"
                 ],
                 [
                  0.7777777777777778,
                  "#fb9f3a"
                 ],
                 [
                  0.8888888888888888,
                  "#fdca26"
                 ],
                 [
                  1,
                  "#f0f921"
                 ]
                ],
                "type": "heatmap"
               }
              ],
              "heatmapgl": [
               {
                "colorbar": {
                 "outlinewidth": 0,
                 "ticks": ""
                },
                "colorscale": [
                 [
                  0,
                  "#0d0887"
                 ],
                 [
                  0.1111111111111111,
                  "#46039f"
                 ],
                 [
                  0.2222222222222222,
                  "#7201a8"
                 ],
                 [
                  0.3333333333333333,
                  "#9c179e"
                 ],
                 [
                  0.4444444444444444,
                  "#bd3786"
                 ],
                 [
                  0.5555555555555556,
                  "#d8576b"
                 ],
                 [
                  0.6666666666666666,
                  "#ed7953"
                 ],
                 [
                  0.7777777777777778,
                  "#fb9f3a"
                 ],
                 [
                  0.8888888888888888,
                  "#fdca26"
                 ],
                 [
                  1,
                  "#f0f921"
                 ]
                ],
                "type": "heatmapgl"
               }
              ],
              "histogram": [
               {
                "marker": {
                 "colorbar": {
                  "outlinewidth": 0,
                  "ticks": ""
                 }
                },
                "type": "histogram"
               }
              ],
              "histogram2d": [
               {
                "colorbar": {
                 "outlinewidth": 0,
                 "ticks": ""
                },
                "colorscale": [
                 [
                  0,
                  "#0d0887"
                 ],
                 [
                  0.1111111111111111,
                  "#46039f"
                 ],
                 [
                  0.2222222222222222,
                  "#7201a8"
                 ],
                 [
                  0.3333333333333333,
                  "#9c179e"
                 ],
                 [
                  0.4444444444444444,
                  "#bd3786"
                 ],
                 [
                  0.5555555555555556,
                  "#d8576b"
                 ],
                 [
                  0.6666666666666666,
                  "#ed7953"
                 ],
                 [
                  0.7777777777777778,
                  "#fb9f3a"
                 ],
                 [
                  0.8888888888888888,
                  "#fdca26"
                 ],
                 [
                  1,
                  "#f0f921"
                 ]
                ],
                "type": "histogram2d"
               }
              ],
              "histogram2dcontour": [
               {
                "colorbar": {
                 "outlinewidth": 0,
                 "ticks": ""
                },
                "colorscale": [
                 [
                  0,
                  "#0d0887"
                 ],
                 [
                  0.1111111111111111,
                  "#46039f"
                 ],
                 [
                  0.2222222222222222,
                  "#7201a8"
                 ],
                 [
                  0.3333333333333333,
                  "#9c179e"
                 ],
                 [
                  0.4444444444444444,
                  "#bd3786"
                 ],
                 [
                  0.5555555555555556,
                  "#d8576b"
                 ],
                 [
                  0.6666666666666666,
                  "#ed7953"
                 ],
                 [
                  0.7777777777777778,
                  "#fb9f3a"
                 ],
                 [
                  0.8888888888888888,
                  "#fdca26"
                 ],
                 [
                  1,
                  "#f0f921"
                 ]
                ],
                "type": "histogram2dcontour"
               }
              ],
              "mesh3d": [
               {
                "colorbar": {
                 "outlinewidth": 0,
                 "ticks": ""
                },
                "type": "mesh3d"
               }
              ],
              "parcoords": [
               {
                "line": {
                 "colorbar": {
                  "outlinewidth": 0,
                  "ticks": ""
                 }
                },
                "type": "parcoords"
               }
              ],
              "pie": [
               {
                "automargin": true,
                "type": "pie"
               }
              ],
              "scatter": [
               {
                "marker": {
                 "colorbar": {
                  "outlinewidth": 0,
                  "ticks": ""
                 }
                },
                "type": "scatter"
               }
              ],
              "scatter3d": [
               {
                "line": {
                 "colorbar": {
                  "outlinewidth": 0,
                  "ticks": ""
                 }
                },
                "marker": {
                 "colorbar": {
                  "outlinewidth": 0,
                  "ticks": ""
                 }
                },
                "type": "scatter3d"
               }
              ],
              "scattercarpet": [
               {
                "marker": {
                 "colorbar": {
                  "outlinewidth": 0,
                  "ticks": ""
                 }
                },
                "type": "scattercarpet"
               }
              ],
              "scattergeo": [
               {
                "marker": {
                 "colorbar": {
                  "outlinewidth": 0,
                  "ticks": ""
                 }
                },
                "type": "scattergeo"
               }
              ],
              "scattergl": [
               {
                "marker": {
                 "colorbar": {
                  "outlinewidth": 0,
                  "ticks": ""
                 }
                },
                "type": "scattergl"
               }
              ],
              "scattermapbox": [
               {
                "marker": {
                 "colorbar": {
                  "outlinewidth": 0,
                  "ticks": ""
                 }
                },
                "type": "scattermapbox"
               }
              ],
              "scatterpolar": [
               {
                "marker": {
                 "colorbar": {
                  "outlinewidth": 0,
                  "ticks": ""
                 }
                },
                "type": "scatterpolar"
               }
              ],
              "scatterpolargl": [
               {
                "marker": {
                 "colorbar": {
                  "outlinewidth": 0,
                  "ticks": ""
                 }
                },
                "type": "scatterpolargl"
               }
              ],
              "scatterternary": [
               {
                "marker": {
                 "colorbar": {
                  "outlinewidth": 0,
                  "ticks": ""
                 }
                },
                "type": "scatterternary"
               }
              ],
              "surface": [
               {
                "colorbar": {
                 "outlinewidth": 0,
                 "ticks": ""
                },
                "colorscale": [
                 [
                  0,
                  "#0d0887"
                 ],
                 [
                  0.1111111111111111,
                  "#46039f"
                 ],
                 [
                  0.2222222222222222,
                  "#7201a8"
                 ],
                 [
                  0.3333333333333333,
                  "#9c179e"
                 ],
                 [
                  0.4444444444444444,
                  "#bd3786"
                 ],
                 [
                  0.5555555555555556,
                  "#d8576b"
                 ],
                 [
                  0.6666666666666666,
                  "#ed7953"
                 ],
                 [
                  0.7777777777777778,
                  "#fb9f3a"
                 ],
                 [
                  0.8888888888888888,
                  "#fdca26"
                 ],
                 [
                  1,
                  "#f0f921"
                 ]
                ],
                "type": "surface"
               }
              ],
              "table": [
               {
                "cells": {
                 "fill": {
                  "color": "#EBF0F8"
                 },
                 "line": {
                  "color": "white"
                 }
                },
                "header": {
                 "fill": {
                  "color": "#C8D4E3"
                 },
                 "line": {
                  "color": "white"
                 }
                },
                "type": "table"
               }
              ]
             },
             "layout": {
              "annotationdefaults": {
               "arrowcolor": "#2a3f5f",
               "arrowhead": 0,
               "arrowwidth": 1
              },
              "autotypenumbers": "strict",
              "coloraxis": {
               "colorbar": {
                "outlinewidth": 0,
                "ticks": ""
               }
              },
              "colorscale": {
               "diverging": [
                [
                 0,
                 "#8e0152"
                ],
                [
                 0.1,
                 "#c51b7d"
                ],
                [
                 0.2,
                 "#de77ae"
                ],
                [
                 0.3,
                 "#f1b6da"
                ],
                [
                 0.4,
                 "#fde0ef"
                ],
                [
                 0.5,
                 "#f7f7f7"
                ],
                [
                 0.6,
                 "#e6f5d0"
                ],
                [
                 0.7,
                 "#b8e186"
                ],
                [
                 0.8,
                 "#7fbc41"
                ],
                [
                 0.9,
                 "#4d9221"
                ],
                [
                 1,
                 "#276419"
                ]
               ],
               "sequential": [
                [
                 0,
                 "#0d0887"
                ],
                [
                 0.1111111111111111,
                 "#46039f"
                ],
                [
                 0.2222222222222222,
                 "#7201a8"
                ],
                [
                 0.3333333333333333,
                 "#9c179e"
                ],
                [
                 0.4444444444444444,
                 "#bd3786"
                ],
                [
                 0.5555555555555556,
                 "#d8576b"
                ],
                [
                 0.6666666666666666,
                 "#ed7953"
                ],
                [
                 0.7777777777777778,
                 "#fb9f3a"
                ],
                [
                 0.8888888888888888,
                 "#fdca26"
                ],
                [
                 1,
                 "#f0f921"
                ]
               ],
               "sequentialminus": [
                [
                 0,
                 "#0d0887"
                ],
                [
                 0.1111111111111111,
                 "#46039f"
                ],
                [
                 0.2222222222222222,
                 "#7201a8"
                ],
                [
                 0.3333333333333333,
                 "#9c179e"
                ],
                [
                 0.4444444444444444,
                 "#bd3786"
                ],
                [
                 0.5555555555555556,
                 "#d8576b"
                ],
                [
                 0.6666666666666666,
                 "#ed7953"
                ],
                [
                 0.7777777777777778,
                 "#fb9f3a"
                ],
                [
                 0.8888888888888888,
                 "#fdca26"
                ],
                [
                 1,
                 "#f0f921"
                ]
               ]
              },
              "colorway": [
               "#636efa",
               "#EF553B",
               "#00cc96",
               "#ab63fa",
               "#FFA15A",
               "#19d3f3",
               "#FF6692",
               "#B6E880",
               "#FF97FF",
               "#FECB52"
              ],
              "font": {
               "color": "#2a3f5f"
              },
              "geo": {
               "bgcolor": "white",
               "lakecolor": "white",
               "landcolor": "#E5ECF6",
               "showlakes": true,
               "showland": true,
               "subunitcolor": "white"
              },
              "hoverlabel": {
               "align": "left"
              },
              "hovermode": "closest",
              "mapbox": {
               "style": "light"
              },
              "paper_bgcolor": "white",
              "plot_bgcolor": "#E5ECF6",
              "polar": {
               "angularaxis": {
                "gridcolor": "white",
                "linecolor": "white",
                "ticks": ""
               },
               "bgcolor": "#E5ECF6",
               "radialaxis": {
                "gridcolor": "white",
                "linecolor": "white",
                "ticks": ""
               }
              },
              "scene": {
               "xaxis": {
                "backgroundcolor": "#E5ECF6",
                "gridcolor": "white",
                "gridwidth": 2,
                "linecolor": "white",
                "showbackground": true,
                "ticks": "",
                "zerolinecolor": "white"
               },
               "yaxis": {
                "backgroundcolor": "#E5ECF6",
                "gridcolor": "white",
                "gridwidth": 2,
                "linecolor": "white",
                "showbackground": true,
                "ticks": "",
                "zerolinecolor": "white"
               },
               "zaxis": {
                "backgroundcolor": "#E5ECF6",
                "gridcolor": "white",
                "gridwidth": 2,
                "linecolor": "white",
                "showbackground": true,
                "ticks": "",
                "zerolinecolor": "white"
               }
              },
              "shapedefaults": {
               "line": {
                "color": "#2a3f5f"
               }
              },
              "ternary": {
               "aaxis": {
                "gridcolor": "white",
                "linecolor": "white",
                "ticks": ""
               },
               "baxis": {
                "gridcolor": "white",
                "linecolor": "white",
                "ticks": ""
               },
               "bgcolor": "#E5ECF6",
               "caxis": {
                "gridcolor": "white",
                "linecolor": "white",
                "ticks": ""
               }
              },
              "title": {
               "x": 0.05
              },
              "xaxis": {
               "automargin": true,
               "gridcolor": "white",
               "linecolor": "white",
               "ticks": "",
               "title": {
                "standoff": 15
               },
               "zerolinecolor": "white",
               "zerolinewidth": 2
              },
              "yaxis": {
               "automargin": true,
               "gridcolor": "white",
               "linecolor": "white",
               "ticks": "",
               "title": {
                "standoff": 15
               },
               "zerolinecolor": "white",
               "zerolinewidth": 2
              }
             }
            },
            "title": {
             "text": "Top infected Countries"
            },
            "xaxis": {
             "anchor": "y",
             "categoryarray": [
              "US",
              "India",
              "Brazil",
              "Russia",
              "United Kingdom",
              "France",
              "Turkey",
              "Italy",
              "Spain",
              "Germany"
             ],
             "categoryorder": "array",
             "domain": [
              0,
              1
             ],
             "title": {
              "text": "country"
             }
            },
            "yaxis": {
             "anchor": "x",
             "domain": [
              0,
              1
             ],
             "title": {
              "text": "Confirmed"
             }
            }
           }
          },
          "text/html": "<div>                            <div id=\"18908b96-fe6e-498f-a03e-0a70a1c3aaf7\" class=\"plotly-graph-div\" style=\"height:400px; width:100%;\"></div>            <script type=\"text/javascript\">                require([\"plotly\"], function(Plotly) {                    window.PLOTLYENV=window.PLOTLYENV || {};                                    if (document.getElementById(\"18908b96-fe6e-498f-a03e-0a70a1c3aaf7\")) {                    Plotly.newPlot(                        \"18908b96-fe6e-498f-a03e-0a70a1c3aaf7\",                        [{\"alignmentgroup\": \"True\", \"customdata\": [[22847637]], \"hovertemplate\": \"country=%{x}<br>Confirmed=%{customdata[0]}<extra></extra>\", \"legendgroup\": \"US\", \"marker\": {\"color\": \"#636efa\"}, \"name\": \"US\", \"offsetgroup\": \"US\", \"orientation\": \"v\", \"showlegend\": true, \"textposition\": \"auto\", \"type\": \"bar\", \"x\": [\"US\"], \"xaxis\": \"x\", \"y\": [22847637], \"yaxis\": \"y\"}, {\"alignmentgroup\": \"True\", \"customdata\": [[10495147]], \"hovertemplate\": \"country=%{x}<br>Confirmed=%{customdata[0]}<extra></extra>\", \"legendgroup\": \"India\", \"marker\": {\"color\": \"#EF553B\"}, \"name\": \"India\", \"offsetgroup\": \"India\", \"orientation\": \"v\", \"showlegend\": true, \"textposition\": \"auto\", \"type\": \"bar\", \"x\": [\"India\"], \"xaxis\": \"x\", \"y\": [10495147], \"yaxis\": \"y\"}, {\"alignmentgroup\": \"True\", \"customdata\": [[8195637]], \"hovertemplate\": \"country=%{x}<br>Confirmed=%{customdata[0]}<extra></extra>\", \"legendgroup\": \"Brazil\", \"marker\": {\"color\": \"#00cc96\"}, \"name\": \"Brazil\", \"offsetgroup\": \"Brazil\", \"orientation\": \"v\", \"showlegend\": true, \"textposition\": \"auto\", \"type\": \"bar\", \"x\": [\"Brazil\"], \"xaxis\": \"x\", \"y\": [8195637], \"yaxis\": \"y\"}, {\"alignmentgroup\": \"True\", \"customdata\": [[3412390]], \"hovertemplate\": \"country=%{x}<br>Confirmed=%{customdata[0]}<extra></extra>\", \"legendgroup\": \"Russia\", \"marker\": {\"color\": \"#ab63fa\"}, \"name\": \"Russia\", \"offsetgroup\": \"Russia\", \"orientation\": \"v\", \"showlegend\": true, \"textposition\": \"auto\", \"type\": \"bar\", \"x\": [\"Russia\"], \"xaxis\": \"x\", \"y\": [3412390], \"yaxis\": \"y\"}, {\"alignmentgroup\": \"True\", \"customdata\": [[3173291]], \"hovertemplate\": \"country=%{x}<br>Confirmed=%{customdata[0]}<extra></extra>\", \"legendgroup\": \"United Kingdom\", \"marker\": {\"color\": \"#FFA15A\"}, \"name\": \"United Kingdom\", \"offsetgroup\": \"United Kingdom\", \"orientation\": \"v\", \"showlegend\": true, \"textposition\": \"auto\", \"type\": \"bar\", \"x\": [\"United Kingdom\"], \"xaxis\": \"x\", \"y\": [3173291], \"yaxis\": \"y\"}, {\"alignmentgroup\": \"True\", \"customdata\": [[2864360]], \"hovertemplate\": \"country=%{x}<br>Confirmed=%{customdata[0]}<extra></extra>\", \"legendgroup\": \"France\", \"marker\": {\"color\": \"#19d3f3\"}, \"name\": \"France\", \"offsetgroup\": \"France\", \"orientation\": \"v\", \"showlegend\": true, \"textposition\": \"auto\", \"type\": \"bar\", \"x\": [\"France\"], \"xaxis\": \"x\", \"y\": [2864360], \"yaxis\": \"y\"}, {\"alignmentgroup\": \"True\", \"customdata\": [[2346285]], \"hovertemplate\": \"country=%{x}<br>Confirmed=%{customdata[0]}<extra></extra>\", \"legendgroup\": \"Turkey\", \"marker\": {\"color\": \"#FF6692\"}, \"name\": \"Turkey\", \"offsetgroup\": \"Turkey\", \"orientation\": \"v\", \"showlegend\": true, \"textposition\": \"auto\", \"type\": \"bar\", \"x\": [\"Turkey\"], \"xaxis\": \"x\", \"y\": [2346285], \"yaxis\": \"y\"}, {\"alignmentgroup\": \"True\", \"customdata\": [[2303263]], \"hovertemplate\": \"country=%{x}<br>Confirmed=%{customdata[0]}<extra></extra>\", \"legendgroup\": \"Italy\", \"marker\": {\"color\": \"#B6E880\"}, \"name\": \"Italy\", \"offsetgroup\": \"Italy\", \"orientation\": \"v\", \"showlegend\": true, \"textposition\": \"auto\", \"type\": \"bar\", \"x\": [\"Italy\"], \"xaxis\": \"x\", \"y\": [2303263], \"yaxis\": \"y\"}, {\"alignmentgroup\": \"True\", \"customdata\": [[2137220]], \"hovertemplate\": \"country=%{x}<br>Confirmed=%{customdata[0]}<extra></extra>\", \"legendgroup\": \"Spain\", \"marker\": {\"color\": \"#FF97FF\"}, \"name\": \"Spain\", \"offsetgroup\": \"Spain\", \"orientation\": \"v\", \"showlegend\": true, \"textposition\": \"auto\", \"type\": \"bar\", \"x\": [\"Spain\"], \"xaxis\": \"x\", \"y\": [2137220], \"yaxis\": \"y\"}, {\"alignmentgroup\": \"True\", \"customdata\": [[1968326]], \"hovertemplate\": \"country=%{x}<br>Confirmed=%{customdata[0]}<extra></extra>\", \"legendgroup\": \"Germany\", \"marker\": {\"color\": \"#FECB52\"}, \"name\": \"Germany\", \"offsetgroup\": \"Germany\", \"orientation\": \"v\", \"showlegend\": true, \"textposition\": \"auto\", \"type\": \"bar\", \"x\": [\"Germany\"], \"xaxis\": \"x\", \"y\": [1968326], \"yaxis\": \"y\"}],                        {\"barmode\": \"relative\", \"height\": 400, \"legend\": {\"title\": {\"text\": \"country\"}, \"tracegroupgap\": 0}, \"template\": {\"data\": {\"bar\": [{\"error_x\": {\"color\": \"#2a3f5f\"}, \"error_y\": {\"color\": \"#2a3f5f\"}, \"marker\": {\"line\": {\"color\": \"#E5ECF6\", \"width\": 0.5}}, \"type\": \"bar\"}], \"barpolar\": [{\"marker\": {\"line\": {\"color\": \"#E5ECF6\", \"width\": 0.5}}, \"type\": \"barpolar\"}], \"carpet\": [{\"aaxis\": {\"endlinecolor\": \"#2a3f5f\", \"gridcolor\": \"white\", \"linecolor\": \"white\", \"minorgridcolor\": \"white\", \"startlinecolor\": \"#2a3f5f\"}, \"baxis\": {\"endlinecolor\": \"#2a3f5f\", \"gridcolor\": \"white\", \"linecolor\": \"white\", \"minorgridcolor\": \"white\", \"startlinecolor\": \"#2a3f5f\"}, \"type\": \"carpet\"}], \"choropleth\": [{\"colorbar\": {\"outlinewidth\": 0, \"ticks\": \"\"}, \"type\": \"choropleth\"}], \"contour\": [{\"colorbar\": {\"outlinewidth\": 0, \"ticks\": \"\"}, \"colorscale\": [[0.0, \"#0d0887\"], [0.1111111111111111, \"#46039f\"], [0.2222222222222222, \"#7201a8\"], [0.3333333333333333, \"#9c179e\"], [0.4444444444444444, \"#bd3786\"], [0.5555555555555556, \"#d8576b\"], [0.6666666666666666, \"#ed7953\"], [0.7777777777777778, \"#fb9f3a\"], [0.8888888888888888, \"#fdca26\"], [1.0, \"#f0f921\"]], \"type\": \"contour\"}], \"contourcarpet\": [{\"colorbar\": {\"outlinewidth\": 0, \"ticks\": \"\"}, \"type\": \"contourcarpet\"}], \"heatmap\": [{\"colorbar\": {\"outlinewidth\": 0, \"ticks\": \"\"}, \"colorscale\": [[0.0, \"#0d0887\"], [0.1111111111111111, \"#46039f\"], [0.2222222222222222, \"#7201a8\"], [0.3333333333333333, \"#9c179e\"], [0.4444444444444444, \"#bd3786\"], [0.5555555555555556, \"#d8576b\"], [0.6666666666666666, \"#ed7953\"], [0.7777777777777778, \"#fb9f3a\"], [0.8888888888888888, \"#fdca26\"], [1.0, \"#f0f921\"]], \"type\": \"heatmap\"}], \"heatmapgl\": [{\"colorbar\": {\"outlinewidth\": 0, \"ticks\": \"\"}, \"colorscale\": [[0.0, \"#0d0887\"], [0.1111111111111111, \"#46039f\"], [0.2222222222222222, \"#7201a8\"], [0.3333333333333333, \"#9c179e\"], [0.4444444444444444, \"#bd3786\"], [0.5555555555555556, \"#d8576b\"], [0.6666666666666666, \"#ed7953\"], [0.7777777777777778, \"#fb9f3a\"], [0.8888888888888888, \"#fdca26\"], [1.0, \"#f0f921\"]], \"type\": \"heatmapgl\"}], \"histogram\": [{\"marker\": {\"colorbar\": {\"outlinewidth\": 0, \"ticks\": \"\"}}, \"type\": \"histogram\"}], \"histogram2d\": [{\"colorbar\": {\"outlinewidth\": 0, \"ticks\": \"\"}, \"colorscale\": [[0.0, \"#0d0887\"], [0.1111111111111111, \"#46039f\"], [0.2222222222222222, \"#7201a8\"], [0.3333333333333333, \"#9c179e\"], [0.4444444444444444, \"#bd3786\"], [0.5555555555555556, \"#d8576b\"], [0.6666666666666666, \"#ed7953\"], [0.7777777777777778, \"#fb9f3a\"], [0.8888888888888888, \"#fdca26\"], [1.0, \"#f0f921\"]], \"type\": \"histogram2d\"}], \"histogram2dcontour\": [{\"colorbar\": {\"outlinewidth\": 0, \"ticks\": \"\"}, \"colorscale\": [[0.0, \"#0d0887\"], [0.1111111111111111, \"#46039f\"], [0.2222222222222222, \"#7201a8\"], [0.3333333333333333, \"#9c179e\"], [0.4444444444444444, \"#bd3786\"], [0.5555555555555556, \"#d8576b\"], [0.6666666666666666, \"#ed7953\"], [0.7777777777777778, \"#fb9f3a\"], [0.8888888888888888, \"#fdca26\"], [1.0, \"#f0f921\"]], \"type\": \"histogram2dcontour\"}], \"mesh3d\": [{\"colorbar\": {\"outlinewidth\": 0, \"ticks\": \"\"}, \"type\": \"mesh3d\"}], \"parcoords\": [{\"line\": {\"colorbar\": {\"outlinewidth\": 0, \"ticks\": \"\"}}, \"type\": \"parcoords\"}], \"pie\": [{\"automargin\": true, \"type\": \"pie\"}], \"scatter\": [{\"marker\": {\"colorbar\": {\"outlinewidth\": 0, \"ticks\": \"\"}}, \"type\": \"scatter\"}], \"scatter3d\": [{\"line\": {\"colorbar\": {\"outlinewidth\": 0, \"ticks\": \"\"}}, \"marker\": {\"colorbar\": {\"outlinewidth\": 0, \"ticks\": \"\"}}, \"type\": \"scatter3d\"}], \"scattercarpet\": [{\"marker\": {\"colorbar\": {\"outlinewidth\": 0, \"ticks\": \"\"}}, \"type\": \"scattercarpet\"}], \"scattergeo\": [{\"marker\": {\"colorbar\": {\"outlinewidth\": 0, \"ticks\": \"\"}}, \"type\": \"scattergeo\"}], \"scattergl\": [{\"marker\": {\"colorbar\": {\"outlinewidth\": 0, \"ticks\": \"\"}}, \"type\": \"scattergl\"}], \"scattermapbox\": [{\"marker\": {\"colorbar\": {\"outlinewidth\": 0, \"ticks\": \"\"}}, \"type\": \"scattermapbox\"}], \"scatterpolar\": [{\"marker\": {\"colorbar\": {\"outlinewidth\": 0, \"ticks\": \"\"}}, \"type\": \"scatterpolar\"}], \"scatterpolargl\": [{\"marker\": {\"colorbar\": {\"outlinewidth\": 0, \"ticks\": \"\"}}, \"type\": \"scatterpolargl\"}], \"scatterternary\": [{\"marker\": {\"colorbar\": {\"outlinewidth\": 0, \"ticks\": \"\"}}, \"type\": \"scatterternary\"}], \"surface\": [{\"colorbar\": {\"outlinewidth\": 0, \"ticks\": \"\"}, \"colorscale\": [[0.0, \"#0d0887\"], [0.1111111111111111, \"#46039f\"], [0.2222222222222222, \"#7201a8\"], [0.3333333333333333, \"#9c179e\"], [0.4444444444444444, \"#bd3786\"], [0.5555555555555556, \"#d8576b\"], [0.6666666666666666, \"#ed7953\"], [0.7777777777777778, \"#fb9f3a\"], [0.8888888888888888, \"#fdca26\"], [1.0, \"#f0f921\"]], \"type\": \"surface\"}], \"table\": [{\"cells\": {\"fill\": {\"color\": \"#EBF0F8\"}, \"line\": {\"color\": \"white\"}}, \"header\": {\"fill\": {\"color\": \"#C8D4E3\"}, \"line\": {\"color\": \"white\"}}, \"type\": \"table\"}]}, \"layout\": {\"annotationdefaults\": {\"arrowcolor\": \"#2a3f5f\", \"arrowhead\": 0, \"arrowwidth\": 1}, \"autotypenumbers\": \"strict\", \"coloraxis\": {\"colorbar\": {\"outlinewidth\": 0, \"ticks\": \"\"}}, \"colorscale\": {\"diverging\": [[0, \"#8e0152\"], [0.1, \"#c51b7d\"], [0.2, \"#de77ae\"], [0.3, \"#f1b6da\"], [0.4, \"#fde0ef\"], [0.5, \"#f7f7f7\"], [0.6, \"#e6f5d0\"], [0.7, \"#b8e186\"], [0.8, \"#7fbc41\"], [0.9, \"#4d9221\"], [1, \"#276419\"]], \"sequential\": [[0.0, \"#0d0887\"], [0.1111111111111111, \"#46039f\"], [0.2222222222222222, \"#7201a8\"], [0.3333333333333333, \"#9c179e\"], [0.4444444444444444, \"#bd3786\"], [0.5555555555555556, \"#d8576b\"], [0.6666666666666666, \"#ed7953\"], [0.7777777777777778, \"#fb9f3a\"], [0.8888888888888888, \"#fdca26\"], [1.0, \"#f0f921\"]], \"sequentialminus\": [[0.0, \"#0d0887\"], [0.1111111111111111, \"#46039f\"], [0.2222222222222222, \"#7201a8\"], [0.3333333333333333, \"#9c179e\"], [0.4444444444444444, \"#bd3786\"], [0.5555555555555556, \"#d8576b\"], [0.6666666666666666, \"#ed7953\"], [0.7777777777777778, \"#fb9f3a\"], [0.8888888888888888, \"#fdca26\"], [1.0, \"#f0f921\"]]}, \"colorway\": [\"#636efa\", \"#EF553B\", \"#00cc96\", \"#ab63fa\", \"#FFA15A\", \"#19d3f3\", \"#FF6692\", \"#B6E880\", \"#FF97FF\", \"#FECB52\"], \"font\": {\"color\": \"#2a3f5f\"}, \"geo\": {\"bgcolor\": \"white\", \"lakecolor\": \"white\", \"landcolor\": \"#E5ECF6\", \"showlakes\": true, \"showland\": true, \"subunitcolor\": \"white\"}, \"hoverlabel\": {\"align\": \"left\"}, \"hovermode\": \"closest\", \"mapbox\": {\"style\": \"light\"}, \"paper_bgcolor\": \"white\", \"plot_bgcolor\": \"#E5ECF6\", \"polar\": {\"angularaxis\": {\"gridcolor\": \"white\", \"linecolor\": \"white\", \"ticks\": \"\"}, \"bgcolor\": \"#E5ECF6\", \"radialaxis\": {\"gridcolor\": \"white\", \"linecolor\": \"white\", \"ticks\": \"\"}}, \"scene\": {\"xaxis\": {\"backgroundcolor\": \"#E5ECF6\", \"gridcolor\": \"white\", \"gridwidth\": 2, \"linecolor\": \"white\", \"showbackground\": true, \"ticks\": \"\", \"zerolinecolor\": \"white\"}, \"yaxis\": {\"backgroundcolor\": \"#E5ECF6\", \"gridcolor\": \"white\", \"gridwidth\": 2, \"linecolor\": \"white\", \"showbackground\": true, \"ticks\": \"\", \"zerolinecolor\": \"white\"}, \"zaxis\": {\"backgroundcolor\": \"#E5ECF6\", \"gridcolor\": \"white\", \"gridwidth\": 2, \"linecolor\": \"white\", \"showbackground\": true, \"ticks\": \"\", \"zerolinecolor\": \"white\"}}, \"shapedefaults\": {\"line\": {\"color\": \"#2a3f5f\"}}, \"ternary\": {\"aaxis\": {\"gridcolor\": \"white\", \"linecolor\": \"white\", \"ticks\": \"\"}, \"baxis\": {\"gridcolor\": \"white\", \"linecolor\": \"white\", \"ticks\": \"\"}, \"bgcolor\": \"#E5ECF6\", \"caxis\": {\"gridcolor\": \"white\", \"linecolor\": \"white\", \"ticks\": \"\"}}, \"title\": {\"x\": 0.05}, \"xaxis\": {\"automargin\": true, \"gridcolor\": \"white\", \"linecolor\": \"white\", \"ticks\": \"\", \"title\": {\"standoff\": 15}, \"zerolinecolor\": \"white\", \"zerolinewidth\": 2}, \"yaxis\": {\"automargin\": true, \"gridcolor\": \"white\", \"linecolor\": \"white\", \"ticks\": \"\", \"title\": {\"standoff\": 15}, \"zerolinecolor\": \"white\", \"zerolinewidth\": 2}}}, \"title\": {\"text\": \"Top infected Countries\"}, \"xaxis\": {\"anchor\": \"y\", \"categoryarray\": [\"US\", \"India\", \"Brazil\", \"Russia\", \"United Kingdom\", \"France\", \"Turkey\", \"Italy\", \"Spain\", \"Germany\"], \"categoryorder\": \"array\", \"domain\": [0.0, 1.0], \"title\": {\"text\": \"country\"}}, \"yaxis\": {\"anchor\": \"x\", \"domain\": [0.0, 1.0], \"title\": {\"text\": \"Confirmed\"}}},                        {\"responsive\": true}                    ).then(function(){\n                            \nvar gd = document.getElementById('18908b96-fe6e-498f-a03e-0a70a1c3aaf7');\nvar x = new MutationObserver(function (mutations, observer) {{\n        var display = window.getComputedStyle(gd).display;\n        if (!display || display === 'none') {{\n            console.log([gd, 'removed!']);\n            Plotly.purge(gd);\n            observer.disconnect();\n        }}\n}});\n\n// Listen for the removal of the full notebook cells\nvar notebookContainer = gd.closest('#notebook-container');\nif (notebookContainer) {{\n    x.observe(notebookContainer, {childList: true});\n}}\n\n// Listen for the clearing of the current output cell\nvar outputEl = gd.closest('.output');\nif (outputEl) {{\n    x.observe(outputEl, {childList: true});\n}}\n\n                        })                };                });            </script>        </div>"
         },
         "metadata": {},
         "output_type": "display_data"
        }
       ]
      }
     },
     "7820a3bf15a24b779187a41b1ecd65c3": {
      "model_module": "@jupyter-widgets/controls",
      "model_module_version": "1.5.0",
      "model_name": "CheckboxModel",
      "state": {
       "description": "Worldwide",
       "disabled": false,
       "layout": "IPY_MODEL_ff18481996114c6196f978eeac193d2b",
       "style": "IPY_MODEL_c7b00052e33e4e8d8bb678013937814b",
       "value": false
      }
     },
     "7c354e54acf4479ab2a2fe6fbff9d3ba": {
      "model_module": "@jupyter-widgets/controls",
      "model_module_version": "1.5.0",
      "model_name": "DropdownModel",
      "state": {
       "_options_labels": [
        "Confirmed",
        "Recovered",
        "Death"
       ],
       "description": "content",
       "index": 0,
       "layout": "IPY_MODEL_6f4947efdb6a45a9a9ba16f3bc767e59",
       "style": "IPY_MODEL_4d9fb5de6e50445ebba80841ef1c94fe"
      }
     },
     "7c62e0a025914f1bb70cc3d0fe22a763": {
      "model_module": "@jupyter-widgets/base",
      "model_module_version": "1.2.0",
      "model_name": "LayoutModel",
      "state": {}
     },
     "7dd7aba3f5854c92a44187561e19a89f": {
      "model_module": "@jupyter-widgets/controls",
      "model_module_version": "1.5.0",
      "model_name": "DescriptionStyleModel",
      "state": {
       "description_width": ""
      }
     },
     "7e3d593b14fb482a96c822885c555aa5": {
      "model_module": "@jupyter-widgets/controls",
      "model_module_version": "1.5.0",
      "model_name": "IntSliderModel",
      "state": {
       "description": "number",
       "layout": "IPY_MODEL_8d53791a937141fda51027bdb2db54e6",
       "max": 30,
       "min": 1,
       "style": "IPY_MODEL_9e4fae0777e9478b9bef2020c426bb5a",
       "value": 10
      }
     },
     "805a4bf7cd85416f8698cd1676088589": {
      "model_module": "@jupyter-widgets/output",
      "model_module_version": "1.0.0",
      "model_name": "OutputModel",
      "state": {
       "layout": "IPY_MODEL_ed188ac3dcb64f1aa703c4b810c0f8df",
       "outputs": [
        {
         "data": {
          "application/vnd.plotly.v1+json": {
           "config": {
            "plotlyServerURL": "https://plot.ly"
           },
           "data": [
            {
             "alignmentgroup": "True",
             "customdata": [
              [
               22847637
              ]
             ],
             "hovertemplate": "country=%{x}<br>Confirmed=%{customdata[0]}<extra></extra>",
             "legendgroup": "US",
             "marker": {
              "color": "#636efa"
             },
             "name": "US",
             "offsetgroup": "US",
             "orientation": "v",
             "showlegend": true,
             "textposition": "auto",
             "type": "bar",
             "x": [
              "US"
             ],
             "xaxis": "x",
             "y": [
              22847637
             ],
             "yaxis": "y"
            },
            {
             "alignmentgroup": "True",
             "customdata": [
              [
               10495147
              ]
             ],
             "hovertemplate": "country=%{x}<br>Confirmed=%{customdata[0]}<extra></extra>",
             "legendgroup": "India",
             "marker": {
              "color": "#EF553B"
             },
             "name": "India",
             "offsetgroup": "India",
             "orientation": "v",
             "showlegend": true,
             "textposition": "auto",
             "type": "bar",
             "x": [
              "India"
             ],
             "xaxis": "x",
             "y": [
              10495147
             ],
             "yaxis": "y"
            },
            {
             "alignmentgroup": "True",
             "customdata": [
              [
               8195637
              ]
             ],
             "hovertemplate": "country=%{x}<br>Confirmed=%{customdata[0]}<extra></extra>",
             "legendgroup": "Brazil",
             "marker": {
              "color": "#00cc96"
             },
             "name": "Brazil",
             "offsetgroup": "Brazil",
             "orientation": "v",
             "showlegend": true,
             "textposition": "auto",
             "type": "bar",
             "x": [
              "Brazil"
             ],
             "xaxis": "x",
             "y": [
              8195637
             ],
             "yaxis": "y"
            },
            {
             "alignmentgroup": "True",
             "customdata": [
              [
               3412390
              ]
             ],
             "hovertemplate": "country=%{x}<br>Confirmed=%{customdata[0]}<extra></extra>",
             "legendgroup": "Russia",
             "marker": {
              "color": "#ab63fa"
             },
             "name": "Russia",
             "offsetgroup": "Russia",
             "orientation": "v",
             "showlegend": true,
             "textposition": "auto",
             "type": "bar",
             "x": [
              "Russia"
             ],
             "xaxis": "x",
             "y": [
              3412390
             ],
             "yaxis": "y"
            },
            {
             "alignmentgroup": "True",
             "customdata": [
              [
               3173291
              ]
             ],
             "hovertemplate": "country=%{x}<br>Confirmed=%{customdata[0]}<extra></extra>",
             "legendgroup": "United Kingdom",
             "marker": {
              "color": "#FFA15A"
             },
             "name": "United Kingdom",
             "offsetgroup": "United Kingdom",
             "orientation": "v",
             "showlegend": true,
             "textposition": "auto",
             "type": "bar",
             "x": [
              "United Kingdom"
             ],
             "xaxis": "x",
             "y": [
              3173291
             ],
             "yaxis": "y"
            },
            {
             "alignmentgroup": "True",
             "customdata": [
              [
               2864360
              ]
             ],
             "hovertemplate": "country=%{x}<br>Confirmed=%{customdata[0]}<extra></extra>",
             "legendgroup": "France",
             "marker": {
              "color": "#19d3f3"
             },
             "name": "France",
             "offsetgroup": "France",
             "orientation": "v",
             "showlegend": true,
             "textposition": "auto",
             "type": "bar",
             "x": [
              "France"
             ],
             "xaxis": "x",
             "y": [
              2864360
             ],
             "yaxis": "y"
            },
            {
             "alignmentgroup": "True",
             "customdata": [
              [
               2346285
              ]
             ],
             "hovertemplate": "country=%{x}<br>Confirmed=%{customdata[0]}<extra></extra>",
             "legendgroup": "Turkey",
             "marker": {
              "color": "#FF6692"
             },
             "name": "Turkey",
             "offsetgroup": "Turkey",
             "orientation": "v",
             "showlegend": true,
             "textposition": "auto",
             "type": "bar",
             "x": [
              "Turkey"
             ],
             "xaxis": "x",
             "y": [
              2346285
             ],
             "yaxis": "y"
            },
            {
             "alignmentgroup": "True",
             "customdata": [
              [
               2303263
              ]
             ],
             "hovertemplate": "country=%{x}<br>Confirmed=%{customdata[0]}<extra></extra>",
             "legendgroup": "Italy",
             "marker": {
              "color": "#B6E880"
             },
             "name": "Italy",
             "offsetgroup": "Italy",
             "orientation": "v",
             "showlegend": true,
             "textposition": "auto",
             "type": "bar",
             "x": [
              "Italy"
             ],
             "xaxis": "x",
             "y": [
              2303263
             ],
             "yaxis": "y"
            },
            {
             "alignmentgroup": "True",
             "customdata": [
              [
               2137220
              ]
             ],
             "hovertemplate": "country=%{x}<br>Confirmed=%{customdata[0]}<extra></extra>",
             "legendgroup": "Spain",
             "marker": {
              "color": "#FF97FF"
             },
             "name": "Spain",
             "offsetgroup": "Spain",
             "orientation": "v",
             "showlegend": true,
             "textposition": "auto",
             "type": "bar",
             "x": [
              "Spain"
             ],
             "xaxis": "x",
             "y": [
              2137220
             ],
             "yaxis": "y"
            },
            {
             "alignmentgroup": "True",
             "customdata": [
              [
               1968326
              ]
             ],
             "hovertemplate": "country=%{x}<br>Confirmed=%{customdata[0]}<extra></extra>",
             "legendgroup": "Germany",
             "marker": {
              "color": "#FECB52"
             },
             "name": "Germany",
             "offsetgroup": "Germany",
             "orientation": "v",
             "showlegend": true,
             "textposition": "auto",
             "type": "bar",
             "x": [
              "Germany"
             ],
             "xaxis": "x",
             "y": [
              1968326
             ],
             "yaxis": "y"
            }
           ],
           "layout": {
            "barmode": "relative",
            "height": 400,
            "legend": {
             "title": {
              "text": "country"
             },
             "tracegroupgap": 0
            },
            "template": {
             "data": {
              "bar": [
               {
                "error_x": {
                 "color": "#2a3f5f"
                },
                "error_y": {
                 "color": "#2a3f5f"
                },
                "marker": {
                 "line": {
                  "color": "#E5ECF6",
                  "width": 0.5
                 }
                },
                "type": "bar"
               }
              ],
              "barpolar": [
               {
                "marker": {
                 "line": {
                  "color": "#E5ECF6",
                  "width": 0.5
                 }
                },
                "type": "barpolar"
               }
              ],
              "carpet": [
               {
                "aaxis": {
                 "endlinecolor": "#2a3f5f",
                 "gridcolor": "white",
                 "linecolor": "white",
                 "minorgridcolor": "white",
                 "startlinecolor": "#2a3f5f"
                },
                "baxis": {
                 "endlinecolor": "#2a3f5f",
                 "gridcolor": "white",
                 "linecolor": "white",
                 "minorgridcolor": "white",
                 "startlinecolor": "#2a3f5f"
                },
                "type": "carpet"
               }
              ],
              "choropleth": [
               {
                "colorbar": {
                 "outlinewidth": 0,
                 "ticks": ""
                },
                "type": "choropleth"
               }
              ],
              "contour": [
               {
                "colorbar": {
                 "outlinewidth": 0,
                 "ticks": ""
                },
                "colorscale": [
                 [
                  0,
                  "#0d0887"
                 ],
                 [
                  0.1111111111111111,
                  "#46039f"
                 ],
                 [
                  0.2222222222222222,
                  "#7201a8"
                 ],
                 [
                  0.3333333333333333,
                  "#9c179e"
                 ],
                 [
                  0.4444444444444444,
                  "#bd3786"
                 ],
                 [
                  0.5555555555555556,
                  "#d8576b"
                 ],
                 [
                  0.6666666666666666,
                  "#ed7953"
                 ],
                 [
                  0.7777777777777778,
                  "#fb9f3a"
                 ],
                 [
                  0.8888888888888888,
                  "#fdca26"
                 ],
                 [
                  1,
                  "#f0f921"
                 ]
                ],
                "type": "contour"
               }
              ],
              "contourcarpet": [
               {
                "colorbar": {
                 "outlinewidth": 0,
                 "ticks": ""
                },
                "type": "contourcarpet"
               }
              ],
              "heatmap": [
               {
                "colorbar": {
                 "outlinewidth": 0,
                 "ticks": ""
                },
                "colorscale": [
                 [
                  0,
                  "#0d0887"
                 ],
                 [
                  0.1111111111111111,
                  "#46039f"
                 ],
                 [
                  0.2222222222222222,
                  "#7201a8"
                 ],
                 [
                  0.3333333333333333,
                  "#9c179e"
                 ],
                 [
                  0.4444444444444444,
                  "#bd3786"
                 ],
                 [
                  0.5555555555555556,
                  "#d8576b"
                 ],
                 [
                  0.6666666666666666,
                  "#ed7953"
                 ],
                 [
                  0.7777777777777778,
                  "#fb9f3a"
                 ],
                 [
                  0.8888888888888888,
                  "#fdca26"
                 ],
                 [
                  1,
                  "#f0f921"
                 ]
                ],
                "type": "heatmap"
               }
              ],
              "heatmapgl": [
               {
                "colorbar": {
                 "outlinewidth": 0,
                 "ticks": ""
                },
                "colorscale": [
                 [
                  0,
                  "#0d0887"
                 ],
                 [
                  0.1111111111111111,
                  "#46039f"
                 ],
                 [
                  0.2222222222222222,
                  "#7201a8"
                 ],
                 [
                  0.3333333333333333,
                  "#9c179e"
                 ],
                 [
                  0.4444444444444444,
                  "#bd3786"
                 ],
                 [
                  0.5555555555555556,
                  "#d8576b"
                 ],
                 [
                  0.6666666666666666,
                  "#ed7953"
                 ],
                 [
                  0.7777777777777778,
                  "#fb9f3a"
                 ],
                 [
                  0.8888888888888888,
                  "#fdca26"
                 ],
                 [
                  1,
                  "#f0f921"
                 ]
                ],
                "type": "heatmapgl"
               }
              ],
              "histogram": [
               {
                "marker": {
                 "colorbar": {
                  "outlinewidth": 0,
                  "ticks": ""
                 }
                },
                "type": "histogram"
               }
              ],
              "histogram2d": [
               {
                "colorbar": {
                 "outlinewidth": 0,
                 "ticks": ""
                },
                "colorscale": [
                 [
                  0,
                  "#0d0887"
                 ],
                 [
                  0.1111111111111111,
                  "#46039f"
                 ],
                 [
                  0.2222222222222222,
                  "#7201a8"
                 ],
                 [
                  0.3333333333333333,
                  "#9c179e"
                 ],
                 [
                  0.4444444444444444,
                  "#bd3786"
                 ],
                 [
                  0.5555555555555556,
                  "#d8576b"
                 ],
                 [
                  0.6666666666666666,
                  "#ed7953"
                 ],
                 [
                  0.7777777777777778,
                  "#fb9f3a"
                 ],
                 [
                  0.8888888888888888,
                  "#fdca26"
                 ],
                 [
                  1,
                  "#f0f921"
                 ]
                ],
                "type": "histogram2d"
               }
              ],
              "histogram2dcontour": [
               {
                "colorbar": {
                 "outlinewidth": 0,
                 "ticks": ""
                },
                "colorscale": [
                 [
                  0,
                  "#0d0887"
                 ],
                 [
                  0.1111111111111111,
                  "#46039f"
                 ],
                 [
                  0.2222222222222222,
                  "#7201a8"
                 ],
                 [
                  0.3333333333333333,
                  "#9c179e"
                 ],
                 [
                  0.4444444444444444,
                  "#bd3786"
                 ],
                 [
                  0.5555555555555556,
                  "#d8576b"
                 ],
                 [
                  0.6666666666666666,
                  "#ed7953"
                 ],
                 [
                  0.7777777777777778,
                  "#fb9f3a"
                 ],
                 [
                  0.8888888888888888,
                  "#fdca26"
                 ],
                 [
                  1,
                  "#f0f921"
                 ]
                ],
                "type": "histogram2dcontour"
               }
              ],
              "mesh3d": [
               {
                "colorbar": {
                 "outlinewidth": 0,
                 "ticks": ""
                },
                "type": "mesh3d"
               }
              ],
              "parcoords": [
               {
                "line": {
                 "colorbar": {
                  "outlinewidth": 0,
                  "ticks": ""
                 }
                },
                "type": "parcoords"
               }
              ],
              "pie": [
               {
                "automargin": true,
                "type": "pie"
               }
              ],
              "scatter": [
               {
                "marker": {
                 "colorbar": {
                  "outlinewidth": 0,
                  "ticks": ""
                 }
                },
                "type": "scatter"
               }
              ],
              "scatter3d": [
               {
                "line": {
                 "colorbar": {
                  "outlinewidth": 0,
                  "ticks": ""
                 }
                },
                "marker": {
                 "colorbar": {
                  "outlinewidth": 0,
                  "ticks": ""
                 }
                },
                "type": "scatter3d"
               }
              ],
              "scattercarpet": [
               {
                "marker": {
                 "colorbar": {
                  "outlinewidth": 0,
                  "ticks": ""
                 }
                },
                "type": "scattercarpet"
               }
              ],
              "scattergeo": [
               {
                "marker": {
                 "colorbar": {
                  "outlinewidth": 0,
                  "ticks": ""
                 }
                },
                "type": "scattergeo"
               }
              ],
              "scattergl": [
               {
                "marker": {
                 "colorbar": {
                  "outlinewidth": 0,
                  "ticks": ""
                 }
                },
                "type": "scattergl"
               }
              ],
              "scattermapbox": [
               {
                "marker": {
                 "colorbar": {
                  "outlinewidth": 0,
                  "ticks": ""
                 }
                },
                "type": "scattermapbox"
               }
              ],
              "scatterpolar": [
               {
                "marker": {
                 "colorbar": {
                  "outlinewidth": 0,
                  "ticks": ""
                 }
                },
                "type": "scatterpolar"
               }
              ],
              "scatterpolargl": [
               {
                "marker": {
                 "colorbar": {
                  "outlinewidth": 0,
                  "ticks": ""
                 }
                },
                "type": "scatterpolargl"
               }
              ],
              "scatterternary": [
               {
                "marker": {
                 "colorbar": {
                  "outlinewidth": 0,
                  "ticks": ""
                 }
                },
                "type": "scatterternary"
               }
              ],
              "surface": [
               {
                "colorbar": {
                 "outlinewidth": 0,
                 "ticks": ""
                },
                "colorscale": [
                 [
                  0,
                  "#0d0887"
                 ],
                 [
                  0.1111111111111111,
                  "#46039f"
                 ],
                 [
                  0.2222222222222222,
                  "#7201a8"
                 ],
                 [
                  0.3333333333333333,
                  "#9c179e"
                 ],
                 [
                  0.4444444444444444,
                  "#bd3786"
                 ],
                 [
                  0.5555555555555556,
                  "#d8576b"
                 ],
                 [
                  0.6666666666666666,
                  "#ed7953"
                 ],
                 [
                  0.7777777777777778,
                  "#fb9f3a"
                 ],
                 [
                  0.8888888888888888,
                  "#fdca26"
                 ],
                 [
                  1,
                  "#f0f921"
                 ]
                ],
                "type": "surface"
               }
              ],
              "table": [
               {
                "cells": {
                 "fill": {
                  "color": "#EBF0F8"
                 },
                 "line": {
                  "color": "white"
                 }
                },
                "header": {
                 "fill": {
                  "color": "#C8D4E3"
                 },
                 "line": {
                  "color": "white"
                 }
                },
                "type": "table"
               }
              ]
             },
             "layout": {
              "annotationdefaults": {
               "arrowcolor": "#2a3f5f",
               "arrowhead": 0,
               "arrowwidth": 1
              },
              "autotypenumbers": "strict",
              "coloraxis": {
               "colorbar": {
                "outlinewidth": 0,
                "ticks": ""
               }
              },
              "colorscale": {
               "diverging": [
                [
                 0,
                 "#8e0152"
                ],
                [
                 0.1,
                 "#c51b7d"
                ],
                [
                 0.2,
                 "#de77ae"
                ],
                [
                 0.3,
                 "#f1b6da"
                ],
                [
                 0.4,
                 "#fde0ef"
                ],
                [
                 0.5,
                 "#f7f7f7"
                ],
                [
                 0.6,
                 "#e6f5d0"
                ],
                [
                 0.7,
                 "#b8e186"
                ],
                [
                 0.8,
                 "#7fbc41"
                ],
                [
                 0.9,
                 "#4d9221"
                ],
                [
                 1,
                 "#276419"
                ]
               ],
               "sequential": [
                [
                 0,
                 "#0d0887"
                ],
                [
                 0.1111111111111111,
                 "#46039f"
                ],
                [
                 0.2222222222222222,
                 "#7201a8"
                ],
                [
                 0.3333333333333333,
                 "#9c179e"
                ],
                [
                 0.4444444444444444,
                 "#bd3786"
                ],
                [
                 0.5555555555555556,
                 "#d8576b"
                ],
                [
                 0.6666666666666666,
                 "#ed7953"
                ],
                [
                 0.7777777777777778,
                 "#fb9f3a"
                ],
                [
                 0.8888888888888888,
                 "#fdca26"
                ],
                [
                 1,
                 "#f0f921"
                ]
               ],
               "sequentialminus": [
                [
                 0,
                 "#0d0887"
                ],
                [
                 0.1111111111111111,
                 "#46039f"
                ],
                [
                 0.2222222222222222,
                 "#7201a8"
                ],
                [
                 0.3333333333333333,
                 "#9c179e"
                ],
                [
                 0.4444444444444444,
                 "#bd3786"
                ],
                [
                 0.5555555555555556,
                 "#d8576b"
                ],
                [
                 0.6666666666666666,
                 "#ed7953"
                ],
                [
                 0.7777777777777778,
                 "#fb9f3a"
                ],
                [
                 0.8888888888888888,
                 "#fdca26"
                ],
                [
                 1,
                 "#f0f921"
                ]
               ]
              },
              "colorway": [
               "#636efa",
               "#EF553B",
               "#00cc96",
               "#ab63fa",
               "#FFA15A",
               "#19d3f3",
               "#FF6692",
               "#B6E880",
               "#FF97FF",
               "#FECB52"
              ],
              "font": {
               "color": "#2a3f5f"
              },
              "geo": {
               "bgcolor": "white",
               "lakecolor": "white",
               "landcolor": "#E5ECF6",
               "showlakes": true,
               "showland": true,
               "subunitcolor": "white"
              },
              "hoverlabel": {
               "align": "left"
              },
              "hovermode": "closest",
              "mapbox": {
               "style": "light"
              },
              "paper_bgcolor": "white",
              "plot_bgcolor": "#E5ECF6",
              "polar": {
               "angularaxis": {
                "gridcolor": "white",
                "linecolor": "white",
                "ticks": ""
               },
               "bgcolor": "#E5ECF6",
               "radialaxis": {
                "gridcolor": "white",
                "linecolor": "white",
                "ticks": ""
               }
              },
              "scene": {
               "xaxis": {
                "backgroundcolor": "#E5ECF6",
                "gridcolor": "white",
                "gridwidth": 2,
                "linecolor": "white",
                "showbackground": true,
                "ticks": "",
                "zerolinecolor": "white"
               },
               "yaxis": {
                "backgroundcolor": "#E5ECF6",
                "gridcolor": "white",
                "gridwidth": 2,
                "linecolor": "white",
                "showbackground": true,
                "ticks": "",
                "zerolinecolor": "white"
               },
               "zaxis": {
                "backgroundcolor": "#E5ECF6",
                "gridcolor": "white",
                "gridwidth": 2,
                "linecolor": "white",
                "showbackground": true,
                "ticks": "",
                "zerolinecolor": "white"
               }
              },
              "shapedefaults": {
               "line": {
                "color": "#2a3f5f"
               }
              },
              "ternary": {
               "aaxis": {
                "gridcolor": "white",
                "linecolor": "white",
                "ticks": ""
               },
               "baxis": {
                "gridcolor": "white",
                "linecolor": "white",
                "ticks": ""
               },
               "bgcolor": "#E5ECF6",
               "caxis": {
                "gridcolor": "white",
                "linecolor": "white",
                "ticks": ""
               }
              },
              "title": {
               "x": 0.05
              },
              "xaxis": {
               "automargin": true,
               "gridcolor": "white",
               "linecolor": "white",
               "ticks": "",
               "title": {
                "standoff": 15
               },
               "zerolinecolor": "white",
               "zerolinewidth": 2
              },
              "yaxis": {
               "automargin": true,
               "gridcolor": "white",
               "linecolor": "white",
               "ticks": "",
               "title": {
                "standoff": 15
               },
               "zerolinecolor": "white",
               "zerolinewidth": 2
              }
             }
            },
            "title": {
             "text": "Top infected Countries"
            },
            "xaxis": {
             "anchor": "y",
             "categoryarray": [
              "US",
              "India",
              "Brazil",
              "Russia",
              "United Kingdom",
              "France",
              "Turkey",
              "Italy",
              "Spain",
              "Germany"
             ],
             "categoryorder": "array",
             "domain": [
              0,
              1
             ],
             "title": {
              "text": "country"
             }
            },
            "yaxis": {
             "anchor": "x",
             "domain": [
              0,
              1
             ],
             "title": {
              "text": "Confirmed"
             }
            }
           }
          },
          "text/html": "<div>                            <div id=\"a7e0e4f6-d800-418a-972b-26b0483f4003\" class=\"plotly-graph-div\" style=\"height:400px; width:100%;\"></div>            <script type=\"text/javascript\">                require([\"plotly\"], function(Plotly) {                    window.PLOTLYENV=window.PLOTLYENV || {};                                    if (document.getElementById(\"a7e0e4f6-d800-418a-972b-26b0483f4003\")) {                    Plotly.newPlot(                        \"a7e0e4f6-d800-418a-972b-26b0483f4003\",                        [{\"alignmentgroup\": \"True\", \"customdata\": [[22847637]], \"hovertemplate\": \"country=%{x}<br>Confirmed=%{customdata[0]}<extra></extra>\", \"legendgroup\": \"US\", \"marker\": {\"color\": \"#636efa\"}, \"name\": \"US\", \"offsetgroup\": \"US\", \"orientation\": \"v\", \"showlegend\": true, \"textposition\": \"auto\", \"type\": \"bar\", \"x\": [\"US\"], \"xaxis\": \"x\", \"y\": [22847637], \"yaxis\": \"y\"}, {\"alignmentgroup\": \"True\", \"customdata\": [[10495147]], \"hovertemplate\": \"country=%{x}<br>Confirmed=%{customdata[0]}<extra></extra>\", \"legendgroup\": \"India\", \"marker\": {\"color\": \"#EF553B\"}, \"name\": \"India\", \"offsetgroup\": \"India\", \"orientation\": \"v\", \"showlegend\": true, \"textposition\": \"auto\", \"type\": \"bar\", \"x\": [\"India\"], \"xaxis\": \"x\", \"y\": [10495147], \"yaxis\": \"y\"}, {\"alignmentgroup\": \"True\", \"customdata\": [[8195637]], \"hovertemplate\": \"country=%{x}<br>Confirmed=%{customdata[0]}<extra></extra>\", \"legendgroup\": \"Brazil\", \"marker\": {\"color\": \"#00cc96\"}, \"name\": \"Brazil\", \"offsetgroup\": \"Brazil\", \"orientation\": \"v\", \"showlegend\": true, \"textposition\": \"auto\", \"type\": \"bar\", \"x\": [\"Brazil\"], \"xaxis\": \"x\", \"y\": [8195637], \"yaxis\": \"y\"}, {\"alignmentgroup\": \"True\", \"customdata\": [[3412390]], \"hovertemplate\": \"country=%{x}<br>Confirmed=%{customdata[0]}<extra></extra>\", \"legendgroup\": \"Russia\", \"marker\": {\"color\": \"#ab63fa\"}, \"name\": \"Russia\", \"offsetgroup\": \"Russia\", \"orientation\": \"v\", \"showlegend\": true, \"textposition\": \"auto\", \"type\": \"bar\", \"x\": [\"Russia\"], \"xaxis\": \"x\", \"y\": [3412390], \"yaxis\": \"y\"}, {\"alignmentgroup\": \"True\", \"customdata\": [[3173291]], \"hovertemplate\": \"country=%{x}<br>Confirmed=%{customdata[0]}<extra></extra>\", \"legendgroup\": \"United Kingdom\", \"marker\": {\"color\": \"#FFA15A\"}, \"name\": \"United Kingdom\", \"offsetgroup\": \"United Kingdom\", \"orientation\": \"v\", \"showlegend\": true, \"textposition\": \"auto\", \"type\": \"bar\", \"x\": [\"United Kingdom\"], \"xaxis\": \"x\", \"y\": [3173291], \"yaxis\": \"y\"}, {\"alignmentgroup\": \"True\", \"customdata\": [[2864360]], \"hovertemplate\": \"country=%{x}<br>Confirmed=%{customdata[0]}<extra></extra>\", \"legendgroup\": \"France\", \"marker\": {\"color\": \"#19d3f3\"}, \"name\": \"France\", \"offsetgroup\": \"France\", \"orientation\": \"v\", \"showlegend\": true, \"textposition\": \"auto\", \"type\": \"bar\", \"x\": [\"France\"], \"xaxis\": \"x\", \"y\": [2864360], \"yaxis\": \"y\"}, {\"alignmentgroup\": \"True\", \"customdata\": [[2346285]], \"hovertemplate\": \"country=%{x}<br>Confirmed=%{customdata[0]}<extra></extra>\", \"legendgroup\": \"Turkey\", \"marker\": {\"color\": \"#FF6692\"}, \"name\": \"Turkey\", \"offsetgroup\": \"Turkey\", \"orientation\": \"v\", \"showlegend\": true, \"textposition\": \"auto\", \"type\": \"bar\", \"x\": [\"Turkey\"], \"xaxis\": \"x\", \"y\": [2346285], \"yaxis\": \"y\"}, {\"alignmentgroup\": \"True\", \"customdata\": [[2303263]], \"hovertemplate\": \"country=%{x}<br>Confirmed=%{customdata[0]}<extra></extra>\", \"legendgroup\": \"Italy\", \"marker\": {\"color\": \"#B6E880\"}, \"name\": \"Italy\", \"offsetgroup\": \"Italy\", \"orientation\": \"v\", \"showlegend\": true, \"textposition\": \"auto\", \"type\": \"bar\", \"x\": [\"Italy\"], \"xaxis\": \"x\", \"y\": [2303263], \"yaxis\": \"y\"}, {\"alignmentgroup\": \"True\", \"customdata\": [[2137220]], \"hovertemplate\": \"country=%{x}<br>Confirmed=%{customdata[0]}<extra></extra>\", \"legendgroup\": \"Spain\", \"marker\": {\"color\": \"#FF97FF\"}, \"name\": \"Spain\", \"offsetgroup\": \"Spain\", \"orientation\": \"v\", \"showlegend\": true, \"textposition\": \"auto\", \"type\": \"bar\", \"x\": [\"Spain\"], \"xaxis\": \"x\", \"y\": [2137220], \"yaxis\": \"y\"}, {\"alignmentgroup\": \"True\", \"customdata\": [[1968326]], \"hovertemplate\": \"country=%{x}<br>Confirmed=%{customdata[0]}<extra></extra>\", \"legendgroup\": \"Germany\", \"marker\": {\"color\": \"#FECB52\"}, \"name\": \"Germany\", \"offsetgroup\": \"Germany\", \"orientation\": \"v\", \"showlegend\": true, \"textposition\": \"auto\", \"type\": \"bar\", \"x\": [\"Germany\"], \"xaxis\": \"x\", \"y\": [1968326], \"yaxis\": \"y\"}],                        {\"barmode\": \"relative\", \"height\": 400, \"legend\": {\"title\": {\"text\": \"country\"}, \"tracegroupgap\": 0}, \"template\": {\"data\": {\"bar\": [{\"error_x\": {\"color\": \"#2a3f5f\"}, \"error_y\": {\"color\": \"#2a3f5f\"}, \"marker\": {\"line\": {\"color\": \"#E5ECF6\", \"width\": 0.5}}, \"type\": \"bar\"}], \"barpolar\": [{\"marker\": {\"line\": {\"color\": \"#E5ECF6\", \"width\": 0.5}}, \"type\": \"barpolar\"}], \"carpet\": [{\"aaxis\": {\"endlinecolor\": \"#2a3f5f\", \"gridcolor\": \"white\", \"linecolor\": \"white\", \"minorgridcolor\": \"white\", \"startlinecolor\": \"#2a3f5f\"}, \"baxis\": {\"endlinecolor\": \"#2a3f5f\", \"gridcolor\": \"white\", \"linecolor\": \"white\", \"minorgridcolor\": \"white\", \"startlinecolor\": \"#2a3f5f\"}, \"type\": \"carpet\"}], \"choropleth\": [{\"colorbar\": {\"outlinewidth\": 0, \"ticks\": \"\"}, \"type\": \"choropleth\"}], \"contour\": [{\"colorbar\": {\"outlinewidth\": 0, \"ticks\": \"\"}, \"colorscale\": [[0.0, \"#0d0887\"], [0.1111111111111111, \"#46039f\"], [0.2222222222222222, \"#7201a8\"], [0.3333333333333333, \"#9c179e\"], [0.4444444444444444, \"#bd3786\"], [0.5555555555555556, \"#d8576b\"], [0.6666666666666666, \"#ed7953\"], [0.7777777777777778, \"#fb9f3a\"], [0.8888888888888888, \"#fdca26\"], [1.0, \"#f0f921\"]], \"type\": \"contour\"}], \"contourcarpet\": [{\"colorbar\": {\"outlinewidth\": 0, \"ticks\": \"\"}, \"type\": \"contourcarpet\"}], \"heatmap\": [{\"colorbar\": {\"outlinewidth\": 0, \"ticks\": \"\"}, \"colorscale\": [[0.0, \"#0d0887\"], [0.1111111111111111, \"#46039f\"], [0.2222222222222222, \"#7201a8\"], [0.3333333333333333, \"#9c179e\"], [0.4444444444444444, \"#bd3786\"], [0.5555555555555556, \"#d8576b\"], [0.6666666666666666, \"#ed7953\"], [0.7777777777777778, \"#fb9f3a\"], [0.8888888888888888, \"#fdca26\"], [1.0, \"#f0f921\"]], \"type\": \"heatmap\"}], \"heatmapgl\": [{\"colorbar\": {\"outlinewidth\": 0, \"ticks\": \"\"}, \"colorscale\": [[0.0, \"#0d0887\"], [0.1111111111111111, \"#46039f\"], [0.2222222222222222, \"#7201a8\"], [0.3333333333333333, \"#9c179e\"], [0.4444444444444444, \"#bd3786\"], [0.5555555555555556, \"#d8576b\"], [0.6666666666666666, \"#ed7953\"], [0.7777777777777778, \"#fb9f3a\"], [0.8888888888888888, \"#fdca26\"], [1.0, \"#f0f921\"]], \"type\": \"heatmapgl\"}], \"histogram\": [{\"marker\": {\"colorbar\": {\"outlinewidth\": 0, \"ticks\": \"\"}}, \"type\": \"histogram\"}], \"histogram2d\": [{\"colorbar\": {\"outlinewidth\": 0, \"ticks\": \"\"}, \"colorscale\": [[0.0, \"#0d0887\"], [0.1111111111111111, \"#46039f\"], [0.2222222222222222, \"#7201a8\"], [0.3333333333333333, \"#9c179e\"], [0.4444444444444444, \"#bd3786\"], [0.5555555555555556, \"#d8576b\"], [0.6666666666666666, \"#ed7953\"], [0.7777777777777778, \"#fb9f3a\"], [0.8888888888888888, \"#fdca26\"], [1.0, \"#f0f921\"]], \"type\": \"histogram2d\"}], \"histogram2dcontour\": [{\"colorbar\": {\"outlinewidth\": 0, \"ticks\": \"\"}, \"colorscale\": [[0.0, \"#0d0887\"], [0.1111111111111111, \"#46039f\"], [0.2222222222222222, \"#7201a8\"], [0.3333333333333333, \"#9c179e\"], [0.4444444444444444, \"#bd3786\"], [0.5555555555555556, \"#d8576b\"], [0.6666666666666666, \"#ed7953\"], [0.7777777777777778, \"#fb9f3a\"], [0.8888888888888888, \"#fdca26\"], [1.0, \"#f0f921\"]], \"type\": \"histogram2dcontour\"}], \"mesh3d\": [{\"colorbar\": {\"outlinewidth\": 0, \"ticks\": \"\"}, \"type\": \"mesh3d\"}], \"parcoords\": [{\"line\": {\"colorbar\": {\"outlinewidth\": 0, \"ticks\": \"\"}}, \"type\": \"parcoords\"}], \"pie\": [{\"automargin\": true, \"type\": \"pie\"}], \"scatter\": [{\"marker\": {\"colorbar\": {\"outlinewidth\": 0, \"ticks\": \"\"}}, \"type\": \"scatter\"}], \"scatter3d\": [{\"line\": {\"colorbar\": {\"outlinewidth\": 0, \"ticks\": \"\"}}, \"marker\": {\"colorbar\": {\"outlinewidth\": 0, \"ticks\": \"\"}}, \"type\": \"scatter3d\"}], \"scattercarpet\": [{\"marker\": {\"colorbar\": {\"outlinewidth\": 0, \"ticks\": \"\"}}, \"type\": \"scattercarpet\"}], \"scattergeo\": [{\"marker\": {\"colorbar\": {\"outlinewidth\": 0, \"ticks\": \"\"}}, \"type\": \"scattergeo\"}], \"scattergl\": [{\"marker\": {\"colorbar\": {\"outlinewidth\": 0, \"ticks\": \"\"}}, \"type\": \"scattergl\"}], \"scattermapbox\": [{\"marker\": {\"colorbar\": {\"outlinewidth\": 0, \"ticks\": \"\"}}, \"type\": \"scattermapbox\"}], \"scatterpolar\": [{\"marker\": {\"colorbar\": {\"outlinewidth\": 0, \"ticks\": \"\"}}, \"type\": \"scatterpolar\"}], \"scatterpolargl\": [{\"marker\": {\"colorbar\": {\"outlinewidth\": 0, \"ticks\": \"\"}}, \"type\": \"scatterpolargl\"}], \"scatterternary\": [{\"marker\": {\"colorbar\": {\"outlinewidth\": 0, \"ticks\": \"\"}}, \"type\": \"scatterternary\"}], \"surface\": [{\"colorbar\": {\"outlinewidth\": 0, \"ticks\": \"\"}, \"colorscale\": [[0.0, \"#0d0887\"], [0.1111111111111111, \"#46039f\"], [0.2222222222222222, \"#7201a8\"], [0.3333333333333333, \"#9c179e\"], [0.4444444444444444, \"#bd3786\"], [0.5555555555555556, \"#d8576b\"], [0.6666666666666666, \"#ed7953\"], [0.7777777777777778, \"#fb9f3a\"], [0.8888888888888888, \"#fdca26\"], [1.0, \"#f0f921\"]], \"type\": \"surface\"}], \"table\": [{\"cells\": {\"fill\": {\"color\": \"#EBF0F8\"}, \"line\": {\"color\": \"white\"}}, \"header\": {\"fill\": {\"color\": \"#C8D4E3\"}, \"line\": {\"color\": \"white\"}}, \"type\": \"table\"}]}, \"layout\": {\"annotationdefaults\": {\"arrowcolor\": \"#2a3f5f\", \"arrowhead\": 0, \"arrowwidth\": 1}, \"autotypenumbers\": \"strict\", \"coloraxis\": {\"colorbar\": {\"outlinewidth\": 0, \"ticks\": \"\"}}, \"colorscale\": {\"diverging\": [[0, \"#8e0152\"], [0.1, \"#c51b7d\"], [0.2, \"#de77ae\"], [0.3, \"#f1b6da\"], [0.4, \"#fde0ef\"], [0.5, \"#f7f7f7\"], [0.6, \"#e6f5d0\"], [0.7, \"#b8e186\"], [0.8, \"#7fbc41\"], [0.9, \"#4d9221\"], [1, \"#276419\"]], \"sequential\": [[0.0, \"#0d0887\"], [0.1111111111111111, \"#46039f\"], [0.2222222222222222, \"#7201a8\"], [0.3333333333333333, \"#9c179e\"], [0.4444444444444444, \"#bd3786\"], [0.5555555555555556, \"#d8576b\"], [0.6666666666666666, \"#ed7953\"], [0.7777777777777778, \"#fb9f3a\"], [0.8888888888888888, \"#fdca26\"], [1.0, \"#f0f921\"]], \"sequentialminus\": [[0.0, \"#0d0887\"], [0.1111111111111111, \"#46039f\"], [0.2222222222222222, \"#7201a8\"], [0.3333333333333333, \"#9c179e\"], [0.4444444444444444, \"#bd3786\"], [0.5555555555555556, \"#d8576b\"], [0.6666666666666666, \"#ed7953\"], [0.7777777777777778, \"#fb9f3a\"], [0.8888888888888888, \"#fdca26\"], [1.0, \"#f0f921\"]]}, \"colorway\": [\"#636efa\", \"#EF553B\", \"#00cc96\", \"#ab63fa\", \"#FFA15A\", \"#19d3f3\", \"#FF6692\", \"#B6E880\", \"#FF97FF\", \"#FECB52\"], \"font\": {\"color\": \"#2a3f5f\"}, \"geo\": {\"bgcolor\": \"white\", \"lakecolor\": \"white\", \"landcolor\": \"#E5ECF6\", \"showlakes\": true, \"showland\": true, \"subunitcolor\": \"white\"}, \"hoverlabel\": {\"align\": \"left\"}, \"hovermode\": \"closest\", \"mapbox\": {\"style\": \"light\"}, \"paper_bgcolor\": \"white\", \"plot_bgcolor\": \"#E5ECF6\", \"polar\": {\"angularaxis\": {\"gridcolor\": \"white\", \"linecolor\": \"white\", \"ticks\": \"\"}, \"bgcolor\": \"#E5ECF6\", \"radialaxis\": {\"gridcolor\": \"white\", \"linecolor\": \"white\", \"ticks\": \"\"}}, \"scene\": {\"xaxis\": {\"backgroundcolor\": \"#E5ECF6\", \"gridcolor\": \"white\", \"gridwidth\": 2, \"linecolor\": \"white\", \"showbackground\": true, \"ticks\": \"\", \"zerolinecolor\": \"white\"}, \"yaxis\": {\"backgroundcolor\": \"#E5ECF6\", \"gridcolor\": \"white\", \"gridwidth\": 2, \"linecolor\": \"white\", \"showbackground\": true, \"ticks\": \"\", \"zerolinecolor\": \"white\"}, \"zaxis\": {\"backgroundcolor\": \"#E5ECF6\", \"gridcolor\": \"white\", \"gridwidth\": 2, \"linecolor\": \"white\", \"showbackground\": true, \"ticks\": \"\", \"zerolinecolor\": \"white\"}}, \"shapedefaults\": {\"line\": {\"color\": \"#2a3f5f\"}}, \"ternary\": {\"aaxis\": {\"gridcolor\": \"white\", \"linecolor\": \"white\", \"ticks\": \"\"}, \"baxis\": {\"gridcolor\": \"white\", \"linecolor\": \"white\", \"ticks\": \"\"}, \"bgcolor\": \"#E5ECF6\", \"caxis\": {\"gridcolor\": \"white\", \"linecolor\": \"white\", \"ticks\": \"\"}}, \"title\": {\"x\": 0.05}, \"xaxis\": {\"automargin\": true, \"gridcolor\": \"white\", \"linecolor\": \"white\", \"ticks\": \"\", \"title\": {\"standoff\": 15}, \"zerolinecolor\": \"white\", \"zerolinewidth\": 2}, \"yaxis\": {\"automargin\": true, \"gridcolor\": \"white\", \"linecolor\": \"white\", \"ticks\": \"\", \"title\": {\"standoff\": 15}, \"zerolinecolor\": \"white\", \"zerolinewidth\": 2}}}, \"title\": {\"text\": \"Top infected Countries\"}, \"xaxis\": {\"anchor\": \"y\", \"categoryarray\": [\"US\", \"India\", \"Brazil\", \"Russia\", \"United Kingdom\", \"France\", \"Turkey\", \"Italy\", \"Spain\", \"Germany\"], \"categoryorder\": \"array\", \"domain\": [0.0, 1.0], \"title\": {\"text\": \"country\"}}, \"yaxis\": {\"anchor\": \"x\", \"domain\": [0.0, 1.0], \"title\": {\"text\": \"Confirmed\"}}},                        {\"responsive\": true}                    ).then(function(){\n                            \nvar gd = document.getElementById('a7e0e4f6-d800-418a-972b-26b0483f4003');\nvar x = new MutationObserver(function (mutations, observer) {{\n        var display = window.getComputedStyle(gd).display;\n        if (!display || display === 'none') {{\n            console.log([gd, 'removed!']);\n            Plotly.purge(gd);\n            observer.disconnect();\n        }}\n}});\n\n// Listen for the removal of the full notebook cells\nvar notebookContainer = gd.closest('#notebook-container');\nif (notebookContainer) {{\n    x.observe(notebookContainer, {childList: true});\n}}\n\n// Listen for the clearing of the current output cell\nvar outputEl = gd.closest('.output');\nif (outputEl) {{\n    x.observe(outputEl, {childList: true});\n}}\n\n                        })                };                });            </script>        </div>"
         },
         "metadata": {},
         "output_type": "display_data"
        }
       ]
      }
     },
     "80ec1cf2f44b4da1af4bf38c6f109d7c": {
      "model_module": "@jupyter-widgets/controls",
      "model_module_version": "1.5.0",
      "model_name": "CheckboxModel",
      "state": {
       "description": "Worldwide",
       "disabled": false,
       "layout": "IPY_MODEL_d334527dbd254711be6dccc15406525c",
       "style": "IPY_MODEL_b0a85042776d4f00b50a3e802bee176e",
       "value": false
      }
     },
     "82bfb38c917e4d9b901b959b1f0c8088": {
      "model_module": "@jupyter-widgets/controls",
      "model_module_version": "1.5.0",
      "model_name": "IntSliderModel",
      "state": {
       "description": "number",
       "layout": "IPY_MODEL_d7c475c985fd4cb7952aa6c7296296ff",
       "max": 30,
       "min": 1,
       "style": "IPY_MODEL_ff02f066ab5448999fc3742f8eab3ad4",
       "value": 10
      }
     },
     "83497606dbe2423e8ce0cac5d8bca2cd": {
      "model_module": "@jupyter-widgets/controls",
      "model_module_version": "1.5.0",
      "model_name": "SliderStyleModel",
      "state": {
       "description_width": ""
      }
     },
     "854b6dae45d64e1fa3dbe1e8a2d92b58": {
      "model_module": "@jupyter-widgets/controls",
      "model_module_version": "1.5.0",
      "model_name": "DescriptionStyleModel",
      "state": {
       "description_width": ""
      }
     },
     "861ac5607f6341e1ad9c4a7b427a762e": {
      "model_module": "@jupyter-widgets/controls",
      "model_module_version": "1.5.0",
      "model_name": "DropdownModel",
      "state": {
       "_options_labels": [
        "Confirmed",
        "Recovered",
        "Death"
       ],
       "description": "content",
       "index": 0,
       "layout": "IPY_MODEL_5b6e0b02c10c4a8ca4786c2d7ab41984",
       "style": "IPY_MODEL_4e29fb7ddf47418a858e1bb754dac5cd"
      }
     },
     "89782d0e54ff46668032df3d51686161": {
      "model_module": "@jupyter-widgets/output",
      "model_module_version": "1.0.0",
      "model_name": "OutputModel",
      "state": {
       "layout": "IPY_MODEL_8b64f8102cda4cfd92cf351453da3345"
      }
     },
     "89d2ede504d7436586ade4ac5227ef9b": {
      "model_module": "@jupyter-widgets/base",
      "model_module_version": "1.2.0",
      "model_name": "LayoutModel",
      "state": {}
     },
     "8b4e218144564dad830c8a3f02b7fa7f": {
      "model_module": "@jupyter-widgets/base",
      "model_module_version": "1.2.0",
      "model_name": "LayoutModel",
      "state": {}
     },
     "8b64f8102cda4cfd92cf351453da3345": {
      "model_module": "@jupyter-widgets/base",
      "model_module_version": "1.2.0",
      "model_name": "LayoutModel",
      "state": {}
     },
     "8d53791a937141fda51027bdb2db54e6": {
      "model_module": "@jupyter-widgets/base",
      "model_module_version": "1.2.0",
      "model_name": "LayoutModel",
      "state": {}
     },
     "8dc9481203854028ae83e809025ab629": {
      "model_module": "@jupyter-widgets/controls",
      "model_module_version": "1.5.0",
      "model_name": "DropdownModel",
      "state": {
       "_options_labels": [
        "Confirmed",
        "Recovered",
        "Death"
       ],
       "description": "content",
       "index": 0,
       "layout": "IPY_MODEL_9ca883d296e84a41bc01d3a62a815fe7",
       "style": "IPY_MODEL_13e433395377463ea978193fd252e04c"
      }
     },
     "8e9a7e52f13946ff95f203e0675c1e93": {
      "model_module": "@jupyter-widgets/controls",
      "model_module_version": "1.5.0",
      "model_name": "IntSliderModel",
      "state": {
       "description": "number",
       "layout": "IPY_MODEL_af6cc53954c1484b97b86920b5bf02c2",
       "max": 30,
       "min": 1,
       "style": "IPY_MODEL_f0aa9b5ffb0e496f8bfca044cb577031",
       "value": 10
      }
     },
     "9042df63e9264c518bae83f9e9205005": {
      "model_module": "@jupyter-widgets/controls",
      "model_module_version": "1.5.0",
      "model_name": "VBoxModel",
      "state": {
       "_dom_classes": [
        "widget-interact"
       ],
       "children": [
        "IPY_MODEL_7e3d593b14fb482a96c822885c555aa5",
        "IPY_MODEL_c01eb40e2a1244728db609eca6cdf75c",
        "IPY_MODEL_4d11b37b332348a0a8d7b18be898239c"
       ],
       "layout": "IPY_MODEL_bc66245f9abf4487b3e868971d8823fa"
      }
     },
     "913dcb3da59644eb906179a27710a405": {
      "model_module": "@jupyter-widgets/controls",
      "model_module_version": "1.5.0",
      "model_name": "DescriptionStyleModel",
      "state": {
       "description_width": ""
      }
     },
     "96f53d520e52493c99c4bd81b894a123": {
      "model_module": "@jupyter-widgets/controls",
      "model_module_version": "1.5.0",
      "model_name": "DropdownModel",
      "state": {
       "_options_labels": [
        "Afghanistan",
        "Albania",
        "Algeria",
        "Andorra",
        "Angola",
        "Antigua and Barbuda",
        "Argentina",
        "Armenia",
        "Australia",
        "Australia",
        "Australia",
        "Australia",
        "Australia",
        "Australia",
        "Australia",
        "Australia",
        "Austria",
        "Azerbaijan",
        "Bahamas",
        "Bahrain",
        "Bangladesh",
        "Barbados",
        "Belarus",
        "Belgium",
        "Belize",
        "Benin",
        "Bhutan",
        "Bolivia",
        "Bosnia and Herzegovina",
        "Botswana",
        "Brazil",
        "Brunei",
        "Bulgaria",
        "Burkina Faso",
        "Burma",
        "Burundi",
        "Cabo Verde",
        "Cambodia",
        "Cameroon",
        "Canada",
        "Canada",
        "Canada",
        "Canada",
        "Canada",
        "Canada",
        "Canada",
        "Canada",
        "Canada",
        "Canada",
        "Canada",
        "Canada",
        "Canada",
        "Canada",
        "Canada",
        "Canada",
        "Central African Republic",
        "Chad",
        "Chile",
        "China",
        "China",
        "China",
        "China",
        "China",
        "China",
        "China",
        "China",
        "China",
        "China",
        "China",
        "China",
        "China",
        "China",
        "China",
        "China",
        "China",
        "China",
        "China",
        "China",
        "China",
        "China",
        "China",
        "China",
        "China",
        "China",
        "China",
        "China",
        "China",
        "China",
        "China",
        "China",
        "China",
        "Colombia",
        "Comoros",
        "Congo (Brazzaville)",
        "Congo (Kinshasa)",
        "Costa Rica",
        "Cote d'Ivoire",
        "Croatia",
        "Cuba",
        "Cyprus",
        "Czechia",
        "Denmark",
        "Denmark",
        "Denmark",
        "Diamond Princess",
        "Djibouti",
        "Dominica",
        "Dominican Republic",
        "Ecuador",
        "Egypt",
        "El Salvador",
        "Equatorial Guinea",
        "Eritrea",
        "Estonia",
        "Eswatini",
        "Ethiopia",
        "Fiji",
        "Finland",
        "France",
        "France",
        "France",
        "France",
        "France",
        "France",
        "France",
        "France",
        "France",
        "France",
        "France",
        "France",
        "Gabon",
        "Gambia",
        "Georgia",
        "Germany",
        "Ghana",
        "Greece",
        "Grenada",
        "Guatemala",
        "Guinea",
        "Guinea-Bissau",
        "Guyana",
        "Haiti",
        "Holy See",
        "Honduras",
        "Hungary",
        "Iceland",
        "India",
        "Indonesia",
        "Iran",
        "Iraq",
        "Ireland",
        "Israel",
        "Italy",
        "Jamaica",
        "Japan",
        "Jordan",
        "Kazakhstan",
        "Kenya",
        "Korea, South",
        "Kosovo",
        "Kuwait",
        "Kyrgyzstan",
        "Laos",
        "Latvia",
        "Lebanon",
        "Lesotho",
        "Liberia",
        "Libya",
        "Liechtenstein",
        "Lithuania",
        "Luxembourg",
        "MS Zaandam",
        "Madagascar",
        "Malawi",
        "Malaysia",
        "Maldives",
        "Mali",
        "Malta",
        "Marshall Islands",
        "Mauritania",
        "Mauritius",
        "Mexico",
        "Moldova",
        "Monaco",
        "Mongolia",
        "Montenegro",
        "Morocco",
        "Mozambique",
        "Namibia",
        "Nepal",
        "Netherlands",
        "Netherlands",
        "Netherlands",
        "Netherlands",
        "Netherlands",
        "New Zealand",
        "Nicaragua",
        "Niger",
        "Nigeria",
        "North Macedonia",
        "Norway",
        "Oman",
        "Pakistan",
        "Panama",
        "Papua New Guinea",
        "Paraguay",
        "Peru",
        "Philippines",
        "Poland",
        "Portugal",
        "Qatar",
        "Romania",
        "Russia",
        "Rwanda",
        "Saint Kitts and Nevis",
        "Saint Lucia",
        "Saint Vincent and the Grenadines",
        "Samoa",
        "San Marino",
        "Sao Tome and Principe",
        "Saudi Arabia",
        "Senegal",
        "Serbia",
        "Seychelles",
        "Sierra Leone",
        "Singapore",
        "Slovakia",
        "Slovenia",
        "Solomon Islands",
        "Somalia",
        "South Africa",
        "South Sudan",
        "Spain",
        "Sri Lanka",
        "Sudan",
        "Suriname",
        "Sweden",
        "Switzerland",
        "Syria",
        "Taiwan*",
        "Tajikistan",
        "Tanzania",
        "Thailand",
        "Timor-Leste",
        "Togo",
        "Trinidad and Tobago",
        "Tunisia",
        "Turkey",
        "US",
        "Uganda",
        "Ukraine",
        "United Arab Emirates",
        "United Kingdom",
        "United Kingdom",
        "United Kingdom",
        "United Kingdom",
        "United Kingdom",
        "United Kingdom",
        "United Kingdom",
        "United Kingdom",
        "United Kingdom",
        "United Kingdom",
        "United Kingdom",
        "Uruguay",
        "Uzbekistan",
        "Vanuatu",
        "Venezuela",
        "Vietnam",
        "West Bank and Gaza",
        "Yemen",
        "Zambia",
        "Zimbabwe"
       ],
       "description": "country",
       "index": 0,
       "layout": "IPY_MODEL_af7de8104cba4f138e668f43bd0ae569",
       "style": "IPY_MODEL_dd30c984008e4f0aaaccda2f218cf8cf"
      }
     },
     "9ca883d296e84a41bc01d3a62a815fe7": {
      "model_module": "@jupyter-widgets/base",
      "model_module_version": "1.2.0",
      "model_name": "LayoutModel",
      "state": {}
     },
     "9d87e120f5614b4aaac941d75266c99c": {
      "model_module": "jupyter-vuetify",
      "model_module_version": "^1.6.1",
      "model_name": "ThemeColorsModel",
      "state": {
       "_model_module_version": "^1.6.1",
       "_theme_name": "dark",
       "_view_module": null,
       "_view_module_version": "^1.6.1",
       "accent": "#FF4081",
       "error": "#FF5252",
       "info": "#2196F3",
       "primary": "#2196F3",
       "secondary": "#424242",
       "success": "#4CAF50",
       "warning": "#FB8C00"
      }
     },
     "9e4fae0777e9478b9bef2020c426bb5a": {
      "model_module": "@jupyter-widgets/controls",
      "model_module_version": "1.5.0",
      "model_name": "SliderStyleModel",
      "state": {
       "description_width": ""
      }
     },
     "a411ad37fcf44d6f99d84302a363c300": {
      "model_module": "@jupyter-widgets/controls",
      "model_module_version": "1.5.0",
      "model_name": "VBoxModel",
      "state": {
       "_dom_classes": [
        "widget-interact"
       ],
       "children": [
        "IPY_MODEL_3522cc8fb95743d4a3e74d96ac310405",
        "IPY_MODEL_cf39e95a736e491a95c045441086bff2",
        "IPY_MODEL_5ea83b3a2a9c4b69a9fb7fbac7709584"
       ],
       "layout": "IPY_MODEL_4d46c4b55b5244e8ac9d12c4ddf71779"
      }
     },
     "a4f6058426bb4beeaa78909e550c51c6": {
      "model_module": "@jupyter-widgets/output",
      "model_module_version": "1.0.0",
      "model_name": "OutputModel",
      "state": {
       "layout": "IPY_MODEL_7c62e0a025914f1bb70cc3d0fe22a763",
       "outputs": [
        {
         "data": {
          "application/vnd.plotly.v1+json": {
           "config": {
            "plotlyServerURL": "https://plot.ly"
           },
           "data": [
            {
             "connectgaps": true,
             "line": {
              "color": "blue",
              "width": 1
             },
             "mode": "lines+markers",
             "name": "confirmed",
             "text": "Total confirmed: 53775",
             "type": "scatter",
             "x": [
              "1/23/20",
              "1/24/20",
              "1/25/20",
              "1/26/20",
              "1/27/20",
              "1/28/20",
              "1/29/20",
              "1/30/20",
              "1/31/20",
              "2/1/20",
              "2/2/20",
              "2/3/20",
              "2/4/20",
              "2/5/20",
              "2/6/20",
              "2/7/20",
              "2/8/20",
              "2/9/20",
              "2/10/20",
              "2/11/20",
              "2/12/20",
              "2/13/20",
              "2/14/20",
              "2/15/20",
              "2/16/20",
              "2/17/20",
              "2/18/20",
              "2/19/20",
              "2/20/20",
              "2/21/20",
              "2/22/20",
              "2/23/20",
              "2/24/20",
              "2/25/20",
              "2/26/20",
              "2/27/20",
              "2/28/20",
              "2/29/20",
              "3/1/20",
              "3/2/20",
              "3/3/20",
              "3/4/20",
              "3/5/20",
              "3/6/20",
              "3/7/20",
              "3/8/20",
              "3/9/20",
              "3/10/20",
              "3/11/20",
              "3/12/20",
              "3/13/20",
              "3/14/20",
              "3/15/20",
              "3/16/20",
              "3/17/20",
              "3/18/20",
              "3/19/20",
              "3/20/20",
              "3/21/20",
              "3/22/20",
              "3/23/20",
              "3/24/20",
              "3/25/20",
              "3/26/20",
              "3/27/20",
              "3/28/20",
              "3/29/20",
              "3/30/20",
              "3/31/20",
              "4/1/20",
              "4/2/20",
              "4/3/20",
              "4/4/20",
              "4/5/20",
              "4/6/20",
              "4/7/20",
              "4/8/20",
              "4/9/20",
              "4/10/20",
              "4/11/20",
              "4/12/20",
              "4/13/20",
              "4/14/20",
              "4/15/20",
              "4/16/20",
              "4/17/20",
              "4/18/20",
              "4/19/20",
              "4/20/20",
              "4/21/20",
              "4/22/20",
              "4/23/20",
              "4/24/20",
              "4/25/20",
              "4/26/20",
              "4/27/20",
              "4/28/20",
              "4/29/20",
              "4/30/20",
              "5/1/20",
              "5/2/20",
              "5/3/20",
              "5/4/20",
              "5/5/20",
              "5/6/20",
              "5/7/20",
              "5/8/20",
              "5/9/20",
              "5/10/20",
              "5/11/20",
              "5/12/20",
              "5/13/20",
              "5/14/20",
              "5/15/20",
              "5/16/20",
              "5/17/20",
              "5/18/20",
              "5/19/20",
              "5/20/20",
              "5/21/20",
              "5/22/20",
              "5/23/20",
              "5/24/20",
              "5/25/20",
              "5/26/20",
              "5/27/20",
              "5/28/20",
              "5/29/20",
              "5/30/20",
              "5/31/20",
              "6/1/20",
              "6/2/20",
              "6/3/20",
              "6/4/20",
              "6/5/20",
              "6/6/20",
              "6/7/20",
              "6/8/20",
              "6/9/20",
              "6/10/20",
              "6/11/20",
              "6/12/20",
              "6/13/20",
              "6/14/20",
              "6/15/20",
              "6/16/20",
              "6/17/20",
              "6/18/20",
              "6/19/20",
              "6/20/20",
              "6/21/20",
              "6/22/20",
              "6/23/20",
              "6/24/20",
              "6/25/20",
              "6/26/20",
              "6/27/20",
              "6/28/20",
              "6/29/20",
              "6/30/20",
              "7/1/20",
              "7/2/20",
              "7/3/20",
              "7/4/20",
              "7/5/20",
              "7/6/20",
              "7/7/20",
              "7/8/20",
              "7/9/20",
              "7/10/20",
              "7/11/20",
              "7/12/20",
              "7/13/20",
              "7/14/20",
              "7/15/20",
              "7/16/20",
              "7/17/20",
              "7/18/20",
              "7/19/20",
              "7/20/20",
              "7/21/20",
              "7/22/20",
              "7/23/20",
              "7/24/20",
              "7/25/20",
              "7/26/20",
              "7/27/20",
              "7/28/20",
              "7/29/20",
              "7/30/20",
              "7/31/20",
              "8/1/20",
              "8/2/20",
              "8/3/20",
              "8/4/20",
              "8/5/20",
              "8/6/20",
              "8/7/20",
              "8/8/20",
              "8/9/20",
              "8/10/20",
              "8/11/20",
              "8/12/20",
              "8/13/20",
              "8/14/20",
              "8/15/20",
              "8/16/20",
              "8/17/20",
              "8/18/20",
              "8/19/20",
              "8/20/20",
              "8/21/20",
              "8/22/20",
              "8/23/20",
              "8/24/20",
              "8/25/20",
              "8/26/20",
              "8/27/20",
              "8/28/20",
              "8/29/20",
              "8/30/20",
              "8/31/20",
              "9/1/20",
              "9/2/20",
              "9/3/20",
              "9/4/20",
              "9/5/20",
              "9/6/20",
              "9/7/20",
              "9/8/20",
              "9/9/20",
              "9/10/20",
              "9/11/20",
              "9/12/20",
              "9/13/20",
              "9/14/20",
              "9/15/20",
              "9/16/20",
              "9/17/20",
              "9/18/20",
              "9/19/20",
              "9/20/20",
              "9/21/20",
              "9/22/20",
              "9/23/20",
              "9/24/20",
              "9/25/20",
              "9/26/20",
              "9/27/20",
              "9/28/20",
              "9/29/20",
              "9/30/20",
              "10/1/20",
              "10/2/20",
              "10/3/20",
              "10/4/20",
              "10/5/20",
              "10/6/20",
              "10/7/20",
              "10/8/20",
              "10/9/20",
              "10/10/20",
              "10/11/20",
              "10/12/20",
              "10/13/20",
              "10/14/20",
              "10/15/20",
              "10/16/20",
              "10/17/20",
              "10/18/20",
              "10/19/20",
              "10/20/20",
              "10/21/20",
              "10/22/20",
              "10/23/20",
              "10/24/20",
              "10/25/20",
              "10/26/20",
              "10/27/20",
              "10/28/20",
              "10/29/20",
              "10/30/20",
              "10/31/20",
              "11/1/20",
              "11/2/20",
              "11/3/20",
              "11/4/20",
              "11/5/20",
              "11/6/20",
              "11/7/20",
              "11/8/20",
              "11/9/20",
              "11/10/20",
              "11/11/20",
              "11/12/20",
              "11/13/20",
              "11/14/20",
              "11/15/20",
              "11/16/20",
              "11/17/20",
              "11/18/20",
              "11/19/20",
              "11/20/20",
              "11/21/20",
              "11/22/20",
              "11/23/20",
              "11/24/20",
              "11/25/20",
              "11/26/20",
              "11/27/20",
              "11/28/20",
              "11/29/20",
              "11/30/20",
              "12/1/20",
              "12/2/20",
              "12/3/20",
              "12/4/20",
              "12/5/20",
              "12/6/20",
              "12/7/20",
              "12/8/20",
              "12/9/20",
              "12/10/20",
              "12/11/20",
              "12/12/20",
              "12/13/20",
              "12/14/20",
              "12/15/20",
              "12/16/20",
              "12/17/20",
              "12/18/20",
              "12/19/20",
              "12/20/20",
              "12/21/20",
              "12/22/20",
              "12/23/20",
              "12/24/20",
              "12/25/20",
              "12/26/20",
              "12/27/20",
              "12/28/20",
              "12/29/20",
              "12/30/20",
              "12/31/20",
              "1/1/21",
              "1/2/21",
              "1/3/21",
              "1/4/21",
              "1/5/21",
              "1/6/21",
              "1/7/21",
              "1/8/21",
              "1/9/21",
              "1/10/21",
              "1/11/21",
              "1/12/21",
              "1/13/21",
              "1/14/21"
             ],
             "y": [
              0,
              0,
              0,
              0,
              0,
              0,
              0,
              0,
              0,
              0,
              0,
              0,
              0,
              0,
              0,
              0,
              0,
              0,
              0,
              0,
              0,
              0,
              0,
              0,
              0,
              0,
              0,
              0,
              0,
              0,
              0,
              0,
              1,
              1,
              1,
              1,
              1,
              1,
              1,
              1,
              2,
              4,
              4,
              4,
              4,
              5,
              7,
              8,
              11,
              12,
              13,
              15,
              16,
              18,
              20,
              24,
              25,
              29,
              30,
              34,
              41,
              43,
              76,
              80,
              91,
              107,
              118,
              146,
              175,
              197,
              240,
              275,
              300,
              338,
              368,
              424,
              445,
              485,
              532,
              556,
              608,
              666,
              715,
              785,
              841,
              907,
              934,
              997,
              1027,
              1093,
              1177,
              1236,
              1331,
              1464,
              1532,
              1704,
              1830,
              1940,
              2127,
              2291,
              2470,
              2705,
              2895,
              3225,
              3393,
              3564,
              3781,
              4042,
              4403,
              4687,
              4968,
              5227,
              5640,
              6054,
              6403,
              6665,
              7073,
              7654,
              8146,
              8677,
              9219,
              10001,
              10585,
              11176,
              11834,
              12459,
              13039,
              13662,
              14528,
              15208,
              15753,
              16512,
              17270,
              18057,
              18972,
              19554,
              20345,
              20920,
              21462,
              22146,
              22894,
              23550,
              24106,
              24770,
              25531,
              26314,
              26878,
              27536,
              27882,
              28428,
              28837,
              29147,
              29471,
              29705,
              30165,
              30441,
              30606,
              30957,
              31228,
              31507,
              31826,
              32012,
              32314,
              32662,
              32941,
              33180,
              33374,
              33584,
              33898,
              34184,
              34356,
              34441,
              34595,
              34730,
              34984,
              35060,
              35219,
              35279,
              35453,
              35493,
              35605,
              35717,
              35918,
              35978,
              36026,
              36147,
              36253,
              36358,
              36463,
              36532,
              36665,
              36700,
              36701,
              36737,
              36773,
              36820,
              36928,
              37006,
              37046,
              37083,
              37153,
              37260,
              37336,
              37422,
              37497,
              37542,
              37590,
              37667,
              37710,
              37750,
              37852,
              37885,
              37944,
              37990,
              38045,
              38061,
              38103,
              38119,
              38130,
              38133,
              38155,
              38159,
              38193,
              38243,
              38288,
              38304,
              38324,
              38398,
              38494,
              38520,
              38544,
              38572,
              38606,
              38641,
              38716,
              38772,
              38815,
              38855,
              38872,
              38897,
              38919,
              39044,
              39074,
              39096,
              39145,
              39170,
              39186,
              39192,
              39227,
              39239,
              39254,
              39268,
              39285,
              39290,
              39297,
              39341,
              39422,
              39486,
              39548,
              39616,
              39693,
              39703,
              39799,
              39870,
              39928,
              39994,
              40026,
              40088,
              40141,
              40200,
              40287,
              40369,
              40510,
              40626,
              40687,
              40768,
              40833,
              40937,
              41032,
              41145,
              41268,
              41334,
              41425,
              41501,
              41633,
              41728,
              41814,
              41935,
              41975,
              42033,
              42159,
              42297,
              42463,
              42609,
              42795,
              42969,
              43035,
              43240,
              43468,
              43681,
              43924,
              44177,
              44363,
              44503,
              44706,
              44988,
              45174,
              45384,
              45600,
              45723,
              45844,
              46116,
              46274,
              46516,
              46718,
              46837,
              46837,
              47072,
              47306,
              47516,
              47716,
              47851,
              48053,
              48116,
              48229,
              48527,
              48718,
              48952,
              49161,
              49378,
              49621,
              49681,
              49817,
              50013,
              50190,
              50433,
              50655,
              50810,
              50886,
              51039,
              51280,
              51350,
              51405,
              51526,
              51526,
              51526,
              51526,
              53011,
              53105,
              53105,
              53207,
              53332,
              53400,
              53489,
              53538,
              53584,
              53584,
              53775
             ]
            },
            {
             "connectgaps": true,
             "line": {
              "color": "red",
              "width": 1
             },
             "mode": "lines+markers",
             "name": "deaths",
             "text": "Total deaths: 2314",
             "type": "scatter",
             "x": [
              "1/23/20",
              "1/24/20",
              "1/25/20",
              "1/26/20",
              "1/27/20",
              "1/28/20",
              "1/29/20",
              "1/30/20",
              "1/31/20",
              "2/1/20",
              "2/2/20",
              "2/3/20",
              "2/4/20",
              "2/5/20",
              "2/6/20",
              "2/7/20",
              "2/8/20",
              "2/9/20",
              "2/10/20",
              "2/11/20",
              "2/12/20",
              "2/13/20",
              "2/14/20",
              "2/15/20",
              "2/16/20",
              "2/17/20",
              "2/18/20",
              "2/19/20",
              "2/20/20",
              "2/21/20",
              "2/22/20",
              "2/23/20",
              "2/24/20",
              "2/25/20",
              "2/26/20",
              "2/27/20",
              "2/28/20",
              "2/29/20",
              "3/1/20",
              "3/2/20",
              "3/3/20",
              "3/4/20",
              "3/5/20",
              "3/6/20",
              "3/7/20",
              "3/8/20",
              "3/9/20",
              "3/10/20",
              "3/11/20",
              "3/12/20",
              "3/13/20",
              "3/14/20",
              "3/15/20",
              "3/16/20",
              "3/17/20",
              "3/18/20",
              "3/19/20",
              "3/20/20",
              "3/21/20",
              "3/22/20",
              "3/23/20",
              "3/24/20",
              "3/25/20",
              "3/26/20",
              "3/27/20",
              "3/28/20",
              "3/29/20",
              "3/30/20",
              "3/31/20",
              "4/1/20",
              "4/2/20",
              "4/3/20",
              "4/4/20",
              "4/5/20",
              "4/6/20",
              "4/7/20",
              "4/8/20",
              "4/9/20",
              "4/10/20",
              "4/11/20",
              "4/12/20",
              "4/13/20",
              "4/14/20",
              "4/15/20",
              "4/16/20",
              "4/17/20",
              "4/18/20",
              "4/19/20",
              "4/20/20",
              "4/21/20",
              "4/22/20",
              "4/23/20",
              "4/24/20",
              "4/25/20",
              "4/26/20",
              "4/27/20",
              "4/28/20",
              "4/29/20",
              "4/30/20",
              "5/1/20",
              "5/2/20",
              "5/3/20",
              "5/4/20",
              "5/5/20",
              "5/6/20",
              "5/7/20",
              "5/8/20",
              "5/9/20",
              "5/10/20",
              "5/11/20",
              "5/12/20",
              "5/13/20",
              "5/14/20",
              "5/15/20",
              "5/16/20",
              "5/17/20",
              "5/18/20",
              "5/19/20",
              "5/20/20",
              "5/21/20",
              "5/22/20",
              "5/23/20",
              "5/24/20",
              "5/25/20",
              "5/26/20",
              "5/27/20",
              "5/28/20",
              "5/29/20",
              "5/30/20",
              "5/31/20",
              "6/1/20",
              "6/2/20",
              "6/3/20",
              "6/4/20",
              "6/5/20",
              "6/6/20",
              "6/7/20",
              "6/8/20",
              "6/9/20",
              "6/10/20",
              "6/11/20",
              "6/12/20",
              "6/13/20",
              "6/14/20",
              "6/15/20",
              "6/16/20",
              "6/17/20",
              "6/18/20",
              "6/19/20",
              "6/20/20",
              "6/21/20",
              "6/22/20",
              "6/23/20",
              "6/24/20",
              "6/25/20",
              "6/26/20",
              "6/27/20",
              "6/28/20",
              "6/29/20",
              "6/30/20",
              "7/1/20",
              "7/2/20",
              "7/3/20",
              "7/4/20",
              "7/5/20",
              "7/6/20",
              "7/7/20",
              "7/8/20",
              "7/9/20",
              "7/10/20",
              "7/11/20",
              "7/12/20",
              "7/13/20",
              "7/14/20",
              "7/15/20",
              "7/16/20",
              "7/17/20",
              "7/18/20",
              "7/19/20",
              "7/20/20",
              "7/21/20",
              "7/22/20",
              "7/23/20",
              "7/24/20",
              "7/25/20",
              "7/26/20",
              "7/27/20",
              "7/28/20",
              "7/29/20",
              "7/30/20",
              "7/31/20",
              "8/1/20",
              "8/2/20",
              "8/3/20",
              "8/4/20",
              "8/5/20",
              "8/6/20",
              "8/7/20",
              "8/8/20",
              "8/9/20",
              "8/10/20",
              "8/11/20",
              "8/12/20",
              "8/13/20",
              "8/14/20",
              "8/15/20",
              "8/16/20",
              "8/17/20",
              "8/18/20",
              "8/19/20",
              "8/20/20",
              "8/21/20",
              "8/22/20",
              "8/23/20",
              "8/24/20",
              "8/25/20",
              "8/26/20",
              "8/27/20",
              "8/28/20",
              "8/29/20",
              "8/30/20",
              "8/31/20",
              "9/1/20",
              "9/2/20",
              "9/3/20",
              "9/4/20",
              "9/5/20",
              "9/6/20",
              "9/7/20",
              "9/8/20",
              "9/9/20",
              "9/10/20",
              "9/11/20",
              "9/12/20",
              "9/13/20",
              "9/14/20",
              "9/15/20",
              "9/16/20",
              "9/17/20",
              "9/18/20",
              "9/19/20",
              "9/20/20",
              "9/21/20",
              "9/22/20",
              "9/23/20",
              "9/24/20",
              "9/25/20",
              "9/26/20",
              "9/27/20",
              "9/28/20",
              "9/29/20",
              "9/30/20",
              "10/1/20",
              "10/2/20",
              "10/3/20",
              "10/4/20",
              "10/5/20",
              "10/6/20",
              "10/7/20",
              "10/8/20",
              "10/9/20",
              "10/10/20",
              "10/11/20",
              "10/12/20",
              "10/13/20",
              "10/14/20",
              "10/15/20",
              "10/16/20",
              "10/17/20",
              "10/18/20",
              "10/19/20",
              "10/20/20",
              "10/21/20",
              "10/22/20",
              "10/23/20",
              "10/24/20",
              "10/25/20",
              "10/26/20",
              "10/27/20",
              "10/28/20",
              "10/29/20",
              "10/30/20",
              "10/31/20",
              "11/1/20",
              "11/2/20",
              "11/3/20",
              "11/4/20",
              "11/5/20",
              "11/6/20",
              "11/7/20",
              "11/8/20",
              "11/9/20",
              "11/10/20",
              "11/11/20",
              "11/12/20",
              "11/13/20",
              "11/14/20",
              "11/15/20",
              "11/16/20",
              "11/17/20",
              "11/18/20",
              "11/19/20",
              "11/20/20",
              "11/21/20",
              "11/22/20",
              "11/23/20",
              "11/24/20",
              "11/25/20",
              "11/26/20",
              "11/27/20",
              "11/28/20",
              "11/29/20",
              "11/30/20",
              "12/1/20",
              "12/2/20",
              "12/3/20",
              "12/4/20",
              "12/5/20",
              "12/6/20",
              "12/7/20",
              "12/8/20",
              "12/9/20",
              "12/10/20",
              "12/11/20",
              "12/12/20",
              "12/13/20",
              "12/14/20",
              "12/15/20",
              "12/16/20",
              "12/17/20",
              "12/18/20",
              "12/19/20",
              "12/20/20",
              "12/21/20",
              "12/22/20",
              "12/23/20",
              "12/24/20",
              "12/25/20",
              "12/26/20",
              "12/27/20",
              "12/28/20",
              "12/29/20",
              "12/30/20",
              "12/31/20",
              "1/1/21",
              "1/2/21",
              "1/3/21",
              "1/4/21",
              "1/5/21",
              "1/6/21",
              "1/7/21",
              "1/8/21",
              "1/9/21",
              "1/10/21",
              "1/11/21",
              "1/12/21",
              "1/13/21",
              "1/14/21"
             ],
             "y": [
              0,
              0,
              0,
              0,
              0,
              0,
              0,
              0,
              0,
              0,
              0,
              0,
              0,
              0,
              0,
              0,
              0,
              0,
              0,
              0,
              0,
              0,
              0,
              0,
              0,
              0,
              0,
              0,
              0,
              0,
              0,
              0,
              0,
              0,
              0,
              0,
              0,
              0,
              0,
              0,
              0,
              0,
              0,
              0,
              0,
              0,
              0,
              0,
              0,
              0,
              0,
              0,
              0,
              0,
              0,
              0,
              0,
              0,
              0,
              1,
              1,
              1,
              2,
              3,
              3,
              4,
              4,
              4,
              4,
              4,
              4,
              8,
              10,
              12,
              15,
              16,
              16,
              17,
              18,
              18,
              19,
              22,
              23,
              29,
              30,
              30,
              30,
              33,
              36,
              36,
              40,
              40,
              43,
              47,
              52,
              58,
              59,
              61,
              64,
              68,
              72,
              85,
              90,
              95,
              104,
              106,
              109,
              115,
              120,
              122,
              127,
              132,
              136,
              153,
              168,
              170,
              173,
              178,
              188,
              194,
              206,
              217,
              219,
              220,
              221,
              228,
              236,
              247,
              250,
              258,
              266,
              274,
              298,
              304,
              313,
              331,
              361,
              373,
              388,
              409,
              430,
              450,
              455,
              475,
              482,
              495,
              508,
              550,
              552,
              573,
              585,
              597,
              617,
              638,
              674,
              682,
              716,
              728,
              740,
              752,
              780,
              809,
              821,
              828,
              866,
              900,
              922,
              939,
              959,
              973,
              996,
              1012,
              1040,
              1064,
              1096,
              1117,
              1149,
              1166,
              1183,
              1185,
              1188,
              1192,
              1213,
              1227,
              1249,
              1261,
              1271,
              1272,
              1273,
              1283,
              1284,
              1285,
              1286,
              1290,
              1290,
              1296,
              1301,
              1310,
              1315,
              1321,
              1329,
              1346,
              1356,
              1365,
              1370,
              1371,
              1376,
              1378,
              1382,
              1384,
              1386,
              1386,
              1386,
              1388,
              1390,
              1398,
              1402,
              1402,
              1403,
              1403,
              1403,
              1403,
              1407,
              1410,
              1410,
              1410,
              1410,
              1413,
              1416,
              1419,
              1421,
              1421,
              1421,
              1421,
              1421,
              1427,
              1428,
              1438,
              1438,
              1439,
              1439,
              1443,
              1446,
              1447,
              1448,
              1453,
              1453,
              1455,
              1455,
              1458,
              1460,
              1460,
              1460,
              1460,
              1464,
              1464,
              1468,
              1469,
              1471,
              1472,
              1474,
              1475,
              1479,
              1481,
              1482,
              1483,
              1483,
              1487,
              1490,
              1494,
              1499,
              1501,
              1503,
              1507,
              1509,
              1513,
              1516,
              1520,
              1525,
              1531,
              1534,
              1535,
              1538,
              1538,
              1544,
              1547,
              1551,
              1557,
              1557,
              1559,
              1565,
              1577,
              1580,
              1584,
              1594,
              1598,
              1608,
              1620,
              1635,
              1641,
              1648,
              1653,
              1666,
              1678,
              1690,
              1702,
              1715,
              1728,
              1737,
              1740,
              1752,
              1774,
              1795,
              1822,
              1841,
              1846,
              1846,
              1864,
              1874,
              1900,
              1906,
              1919,
              1935,
              1945,
              1956,
              1965,
              1969,
              1995,
              2011,
              2025,
              2030,
              2047,
              2067,
              2082,
              2096,
              2117,
              2126,
              2139,
              2149,
              2160,
              2174,
              2179,
              2181,
              2191,
              2191,
              2191,
              2191,
              2237,
              2244,
              2244,
              2253,
              2257,
              2264,
              2277,
              2288,
              2301,
              2301,
              2314
             ]
            },
            {
             "connectgaps": true,
             "line": {
              "color": "green",
              "width": 1
             },
             "mode": "lines+markers",
             "name": "recovered",
             "text": "Total recovered: 45298",
             "type": "scatter",
             "x": [
              "1/23/20",
              "1/24/20",
              "1/25/20",
              "1/26/20",
              "1/27/20",
              "1/28/20",
              "1/29/20",
              "1/30/20",
              "1/31/20",
              "2/1/20",
              "2/2/20",
              "2/3/20",
              "2/4/20",
              "2/5/20",
              "2/6/20",
              "2/7/20",
              "2/8/20",
              "2/9/20",
              "2/10/20",
              "2/11/20",
              "2/12/20",
              "2/13/20",
              "2/14/20",
              "2/15/20",
              "2/16/20",
              "2/17/20",
              "2/18/20",
              "2/19/20",
              "2/20/20",
              "2/21/20",
              "2/22/20",
              "2/23/20",
              "2/24/20",
              "2/25/20",
              "2/26/20",
              "2/27/20",
              "2/28/20",
              "2/29/20",
              "3/1/20",
              "3/2/20",
              "3/3/20",
              "3/4/20",
              "3/5/20",
              "3/6/20",
              "3/7/20",
              "3/8/20",
              "3/9/20",
              "3/10/20",
              "3/11/20",
              "3/12/20",
              "3/13/20",
              "3/14/20",
              "3/15/20",
              "3/16/20",
              "3/17/20",
              "3/18/20",
              "3/19/20",
              "3/20/20",
              "3/21/20",
              "3/22/20",
              "3/23/20",
              "3/24/20",
              "3/25/20",
              "3/26/20",
              "3/27/20",
              "3/28/20",
              "3/29/20",
              "3/30/20",
              "3/31/20",
              "4/1/20",
              "4/2/20",
              "4/3/20",
              "4/4/20",
              "4/5/20",
              "4/6/20",
              "4/7/20",
              "4/8/20",
              "4/9/20",
              "4/10/20",
              "4/11/20",
              "4/12/20",
              "4/13/20",
              "4/14/20",
              "4/15/20",
              "4/16/20",
              "4/17/20",
              "4/18/20",
              "4/19/20",
              "4/20/20",
              "4/21/20",
              "4/22/20",
              "4/23/20",
              "4/24/20",
              "4/25/20",
              "4/26/20",
              "4/27/20",
              "4/28/20",
              "4/29/20",
              "4/30/20",
              "5/1/20",
              "5/2/20",
              "5/3/20",
              "5/4/20",
              "5/5/20",
              "5/6/20",
              "5/7/20",
              "5/8/20",
              "5/9/20",
              "5/10/20",
              "5/11/20",
              "5/12/20",
              "5/13/20",
              "5/14/20",
              "5/15/20",
              "5/16/20",
              "5/17/20",
              "5/18/20",
              "5/19/20",
              "5/20/20",
              "5/21/20",
              "5/22/20",
              "5/23/20",
              "5/24/20",
              "5/25/20",
              "5/26/20",
              "5/27/20",
              "5/28/20",
              "5/29/20",
              "5/30/20",
              "5/31/20",
              "6/1/20",
              "6/2/20",
              "6/3/20",
              "6/4/20",
              "6/5/20",
              "6/6/20",
              "6/7/20",
              "6/8/20",
              "6/9/20",
              "6/10/20",
              "6/11/20",
              "6/12/20",
              "6/13/20",
              "6/14/20",
              "6/15/20",
              "6/16/20",
              "6/17/20",
              "6/18/20",
              "6/19/20",
              "6/20/20",
              "6/21/20",
              "6/22/20",
              "6/23/20",
              "6/24/20",
              "6/25/20",
              "6/26/20",
              "6/27/20",
              "6/28/20",
              "6/29/20",
              "6/30/20",
              "7/1/20",
              "7/2/20",
              "7/3/20",
              "7/4/20",
              "7/5/20",
              "7/6/20",
              "7/7/20",
              "7/8/20",
              "7/9/20",
              "7/10/20",
              "7/11/20",
              "7/12/20",
              "7/13/20",
              "7/14/20",
              "7/15/20",
              "7/16/20",
              "7/17/20",
              "7/18/20",
              "7/19/20",
              "7/20/20",
              "7/21/20",
              "7/22/20",
              "7/23/20",
              "7/24/20",
              "7/25/20",
              "7/26/20",
              "7/27/20",
              "7/28/20",
              "7/29/20",
              "7/30/20",
              "7/31/20",
              "8/1/20",
              "8/2/20",
              "8/3/20",
              "8/4/20",
              "8/5/20",
              "8/6/20",
              "8/7/20",
              "8/8/20",
              "8/9/20",
              "8/10/20",
              "8/11/20",
              "8/12/20",
              "8/13/20",
              "8/14/20",
              "8/15/20",
              "8/16/20",
              "8/17/20",
              "8/18/20",
              "8/19/20",
              "8/20/20",
              "8/21/20",
              "8/22/20",
              "8/23/20",
              "8/24/20",
              "8/25/20",
              "8/26/20",
              "8/27/20",
              "8/28/20",
              "8/29/20",
              "8/30/20",
              "8/31/20",
              "9/1/20",
              "9/2/20",
              "9/3/20",
              "9/4/20",
              "9/5/20",
              "9/6/20",
              "9/7/20",
              "9/8/20",
              "9/9/20",
              "9/10/20",
              "9/11/20",
              "9/12/20",
              "9/13/20",
              "9/14/20",
              "9/15/20",
              "9/16/20",
              "9/17/20",
              "9/18/20",
              "9/19/20",
              "9/20/20",
              "9/21/20",
              "9/22/20",
              "9/23/20",
              "9/24/20",
              "9/25/20",
              "9/26/20",
              "9/27/20",
              "9/28/20",
              "9/29/20",
              "9/30/20",
              "10/1/20",
              "10/2/20",
              "10/3/20",
              "10/4/20",
              "10/5/20",
              "10/6/20",
              "10/7/20",
              "10/8/20",
              "10/9/20",
              "10/10/20",
              "10/11/20",
              "10/12/20",
              "10/13/20",
              "10/14/20",
              "10/15/20",
              "10/16/20",
              "10/17/20",
              "10/18/20",
              "10/19/20",
              "10/20/20",
              "10/21/20",
              "10/22/20",
              "10/23/20",
              "10/24/20",
              "10/25/20",
              "10/26/20",
              "10/27/20",
              "10/28/20",
              "10/29/20",
              "10/30/20",
              "10/31/20",
              "11/1/20",
              "11/2/20",
              "11/3/20",
              "11/4/20",
              "11/5/20",
              "11/6/20",
              "11/7/20",
              "11/8/20",
              "11/9/20",
              "11/10/20",
              "11/11/20",
              "11/12/20",
              "11/13/20",
              "11/14/20",
              "11/15/20",
              "11/16/20",
              "11/17/20",
              "11/18/20",
              "11/19/20",
              "11/20/20",
              "11/21/20",
              "11/22/20",
              "11/23/20",
              "11/24/20",
              "11/25/20",
              "11/26/20",
              "11/27/20",
              "11/28/20",
              "11/29/20",
              "11/30/20",
              "12/1/20",
              "12/2/20",
              "12/3/20",
              "12/4/20",
              "12/5/20",
              "12/6/20",
              "12/7/20",
              "12/8/20",
              "12/9/20",
              "12/10/20",
              "12/11/20",
              "12/12/20",
              "12/13/20",
              "12/14/20",
              "12/15/20",
              "12/16/20",
              "12/17/20",
              "12/18/20",
              "12/19/20",
              "12/20/20",
              "12/21/20",
              "12/22/20",
              "12/23/20",
              "12/24/20",
              "12/25/20",
              "12/26/20",
              "12/27/20",
              "12/28/20",
              "12/29/20",
              "12/30/20",
              "12/31/20",
              "1/1/21",
              "1/2/21",
              "1/3/21",
              "1/4/21",
              "1/5/21",
              "1/6/21",
              "1/7/21",
              "1/8/21",
              "1/9/21",
              "1/10/21",
              "1/11/21",
              "1/12/21",
              "1/13/21",
              "1/14/21"
             ],
             "y": [
              0,
              0,
              0,
              0,
              0,
              0,
              0,
              0,
              0,
              0,
              0,
              0,
              0,
              0,
              0,
              0,
              0,
              0,
              0,
              0,
              0,
              0,
              0,
              0,
              0,
              0,
              0,
              0,
              0,
              0,
              0,
              0,
              0,
              0,
              0,
              0,
              0,
              0,
              0,
              0,
              0,
              0,
              0,
              0,
              0,
              0,
              0,
              0,
              0,
              0,
              0,
              0,
              0,
              1,
              1,
              1,
              1,
              1,
              1,
              1,
              1,
              1,
              2,
              2,
              2,
              2,
              2,
              2,
              5,
              5,
              10,
              10,
              10,
              15,
              18,
              18,
              29,
              32,
              32,
              32,
              32,
              32,
              40,
              43,
              54,
              99,
              112,
              131,
              135,
              150,
              166,
              179,
              188,
              188,
              207,
              220,
              228,
              252,
              260,
              310,
              331,
              345,
              397,
              421,
              458,
              468,
              472,
              502,
              558,
              558,
              610,
              648,
              691,
              745,
              745,
              778,
              801,
              850,
              930,
              938,
              996,
              1040,
              1075,
              1097,
              1128,
              1138,
              1209,
              1259,
              1303,
              1328,
              1428,
              1450,
              1522,
              1585,
              1762,
              1830,
              1875,
              2171,
              2651,
              3013,
              3326,
              3928,
              4201,
              4725,
              5164,
              5508,
              6158,
              7660,
              7962,
              8292,
              8764,
              8841,
              9260,
              9869,
              10174,
              10306,
              10674,
              12604,
              13934,
              14131,
              15651,
              16041,
              17331,
              19164,
              19366,
              20103,
              20179,
              20700,
              20847,
              20882,
              21135,
              21216,
              21254,
              21454,
              22456,
              22824,
              23151,
              23273,
              23634,
              23741,
              23741,
              23924,
              24550,
              24602,
              24793,
              25180,
              25198,
              25358,
              25389,
              25471,
              25509,
              25509,
              25510,
              25669,
              25669,
              25742,
              25840,
              25903,
              25960,
              25960,
              26228,
              26415,
              26694,
              26714,
              26714,
              27166,
              27166,
              27166,
              27166,
              27166,
              27681,
              28016,
              28016,
              28180,
              28360,
              28440,
              29042,
              29046,
              29059,
              29063,
              29089,
              29089,
              29231,
              29315,
              29390,
              29713,
              30082,
              30537,
              30557,
              30715,
              31048,
              31129,
              31154,
              31234,
              31638,
              32073,
              32098,
              32503,
              32505,
              32576,
              32576,
              32576,
              32576,
              32576,
              32610,
              32619,
              32619,
              32635,
              32642,
              32642,
              32746,
              32789,
              32842,
              32842,
              32842,
              32852,
              32879,
              32977,
              33045,
              33058,
              33058,
              33064,
              33114,
              33118,
              33308,
              33354,
              33447,
              33516,
              33561,
              33614,
              33760,
              33790,
              33824,
              33831,
              34010,
              34023,
              34129,
              34150,
              34217,
              34237,
              34239,
              34258,
              34321,
              34326,
              34342,
              34355,
              34362,
              34440,
              34440,
              34446,
              34458,
              34721,
              34954,
              34967,
              35024,
              35036,
              35067,
              35092,
              35137,
              35160,
              35295,
              35350,
              35370,
              35422,
              35934,
              35976,
              36122,
              36145,
              36232,
              36295,
              36709,
              36716,
              36831,
              36946,
              37218,
              37260,
              37260,
              37393,
              37685,
              37879,
              37920,
              38032,
              38099,
              38141,
              38200,
              38250,
              38252,
              38336,
              38475,
              38505,
              38540,
              38613,
              39006,
              39508,
              39585,
              39692,
              40359,
              40444,
              40784,
              41096,
              41441,
              41543,
              41612,
              41727,
              41727,
              41727,
              41727,
              42530,
              42666,
              42666,
              43291,
              43440,
              43740,
              43948,
              44137,
              44608,
              44850,
              45298
             ]
            }
           ],
           "layout": {
            "template": {
             "data": {
              "bar": [
               {
                "error_x": {
                 "color": "#2a3f5f"
                },
                "error_y": {
                 "color": "#2a3f5f"
                },
                "marker": {
                 "line": {
                  "color": "#E5ECF6",
                  "width": 0.5
                 }
                },
                "type": "bar"
               }
              ],
              "barpolar": [
               {
                "marker": {
                 "line": {
                  "color": "#E5ECF6",
                  "width": 0.5
                 }
                },
                "type": "barpolar"
               }
              ],
              "carpet": [
               {
                "aaxis": {
                 "endlinecolor": "#2a3f5f",
                 "gridcolor": "white",
                 "linecolor": "white",
                 "minorgridcolor": "white",
                 "startlinecolor": "#2a3f5f"
                },
                "baxis": {
                 "endlinecolor": "#2a3f5f",
                 "gridcolor": "white",
                 "linecolor": "white",
                 "minorgridcolor": "white",
                 "startlinecolor": "#2a3f5f"
                },
                "type": "carpet"
               }
              ],
              "choropleth": [
               {
                "colorbar": {
                 "outlinewidth": 0,
                 "ticks": ""
                },
                "type": "choropleth"
               }
              ],
              "contour": [
               {
                "colorbar": {
                 "outlinewidth": 0,
                 "ticks": ""
                },
                "colorscale": [
                 [
                  0,
                  "#0d0887"
                 ],
                 [
                  0.1111111111111111,
                  "#46039f"
                 ],
                 [
                  0.2222222222222222,
                  "#7201a8"
                 ],
                 [
                  0.3333333333333333,
                  "#9c179e"
                 ],
                 [
                  0.4444444444444444,
                  "#bd3786"
                 ],
                 [
                  0.5555555555555556,
                  "#d8576b"
                 ],
                 [
                  0.6666666666666666,
                  "#ed7953"
                 ],
                 [
                  0.7777777777777778,
                  "#fb9f3a"
                 ],
                 [
                  0.8888888888888888,
                  "#fdca26"
                 ],
                 [
                  1,
                  "#f0f921"
                 ]
                ],
                "type": "contour"
               }
              ],
              "contourcarpet": [
               {
                "colorbar": {
                 "outlinewidth": 0,
                 "ticks": ""
                },
                "type": "contourcarpet"
               }
              ],
              "heatmap": [
               {
                "colorbar": {
                 "outlinewidth": 0,
                 "ticks": ""
                },
                "colorscale": [
                 [
                  0,
                  "#0d0887"
                 ],
                 [
                  0.1111111111111111,
                  "#46039f"
                 ],
                 [
                  0.2222222222222222,
                  "#7201a8"
                 ],
                 [
                  0.3333333333333333,
                  "#9c179e"
                 ],
                 [
                  0.4444444444444444,
                  "#bd3786"
                 ],
                 [
                  0.5555555555555556,
                  "#d8576b"
                 ],
                 [
                  0.6666666666666666,
                  "#ed7953"
                 ],
                 [
                  0.7777777777777778,
                  "#fb9f3a"
                 ],
                 [
                  0.8888888888888888,
                  "#fdca26"
                 ],
                 [
                  1,
                  "#f0f921"
                 ]
                ],
                "type": "heatmap"
               }
              ],
              "heatmapgl": [
               {
                "colorbar": {
                 "outlinewidth": 0,
                 "ticks": ""
                },
                "colorscale": [
                 [
                  0,
                  "#0d0887"
                 ],
                 [
                  0.1111111111111111,
                  "#46039f"
                 ],
                 [
                  0.2222222222222222,
                  "#7201a8"
                 ],
                 [
                  0.3333333333333333,
                  "#9c179e"
                 ],
                 [
                  0.4444444444444444,
                  "#bd3786"
                 ],
                 [
                  0.5555555555555556,
                  "#d8576b"
                 ],
                 [
                  0.6666666666666666,
                  "#ed7953"
                 ],
                 [
                  0.7777777777777778,
                  "#fb9f3a"
                 ],
                 [
                  0.8888888888888888,
                  "#fdca26"
                 ],
                 [
                  1,
                  "#f0f921"
                 ]
                ],
                "type": "heatmapgl"
               }
              ],
              "histogram": [
               {
                "marker": {
                 "colorbar": {
                  "outlinewidth": 0,
                  "ticks": ""
                 }
                },
                "type": "histogram"
               }
              ],
              "histogram2d": [
               {
                "colorbar": {
                 "outlinewidth": 0,
                 "ticks": ""
                },
                "colorscale": [
                 [
                  0,
                  "#0d0887"
                 ],
                 [
                  0.1111111111111111,
                  "#46039f"
                 ],
                 [
                  0.2222222222222222,
                  "#7201a8"
                 ],
                 [
                  0.3333333333333333,
                  "#9c179e"
                 ],
                 [
                  0.4444444444444444,
                  "#bd3786"
                 ],
                 [
                  0.5555555555555556,
                  "#d8576b"
                 ],
                 [
                  0.6666666666666666,
                  "#ed7953"
                 ],
                 [
                  0.7777777777777778,
                  "#fb9f3a"
                 ],
                 [
                  0.8888888888888888,
                  "#fdca26"
                 ],
                 [
                  1,
                  "#f0f921"
                 ]
                ],
                "type": "histogram2d"
               }
              ],
              "histogram2dcontour": [
               {
                "colorbar": {
                 "outlinewidth": 0,
                 "ticks": ""
                },
                "colorscale": [
                 [
                  0,
                  "#0d0887"
                 ],
                 [
                  0.1111111111111111,
                  "#46039f"
                 ],
                 [
                  0.2222222222222222,
                  "#7201a8"
                 ],
                 [
                  0.3333333333333333,
                  "#9c179e"
                 ],
                 [
                  0.4444444444444444,
                  "#bd3786"
                 ],
                 [
                  0.5555555555555556,
                  "#d8576b"
                 ],
                 [
                  0.6666666666666666,
                  "#ed7953"
                 ],
                 [
                  0.7777777777777778,
                  "#fb9f3a"
                 ],
                 [
                  0.8888888888888888,
                  "#fdca26"
                 ],
                 [
                  1,
                  "#f0f921"
                 ]
                ],
                "type": "histogram2dcontour"
               }
              ],
              "mesh3d": [
               {
                "colorbar": {
                 "outlinewidth": 0,
                 "ticks": ""
                },
                "type": "mesh3d"
               }
              ],
              "parcoords": [
               {
                "line": {
                 "colorbar": {
                  "outlinewidth": 0,
                  "ticks": ""
                 }
                },
                "type": "parcoords"
               }
              ],
              "pie": [
               {
                "automargin": true,
                "type": "pie"
               }
              ],
              "scatter": [
               {
                "marker": {
                 "colorbar": {
                  "outlinewidth": 0,
                  "ticks": ""
                 }
                },
                "type": "scatter"
               }
              ],
              "scatter3d": [
               {
                "line": {
                 "colorbar": {
                  "outlinewidth": 0,
                  "ticks": ""
                 }
                },
                "marker": {
                 "colorbar": {
                  "outlinewidth": 0,
                  "ticks": ""
                 }
                },
                "type": "scatter3d"
               }
              ],
              "scattercarpet": [
               {
                "marker": {
                 "colorbar": {
                  "outlinewidth": 0,
                  "ticks": ""
                 }
                },
                "type": "scattercarpet"
               }
              ],
              "scattergeo": [
               {
                "marker": {
                 "colorbar": {
                  "outlinewidth": 0,
                  "ticks": ""
                 }
                },
                "type": "scattergeo"
               }
              ],
              "scattergl": [
               {
                "marker": {
                 "colorbar": {
                  "outlinewidth": 0,
                  "ticks": ""
                 }
                },
                "type": "scattergl"
               }
              ],
              "scattermapbox": [
               {
                "marker": {
                 "colorbar": {
                  "outlinewidth": 0,
                  "ticks": ""
                 }
                },
                "type": "scattermapbox"
               }
              ],
              "scatterpolar": [
               {
                "marker": {
                 "colorbar": {
                  "outlinewidth": 0,
                  "ticks": ""
                 }
                },
                "type": "scatterpolar"
               }
              ],
              "scatterpolargl": [
               {
                "marker": {
                 "colorbar": {
                  "outlinewidth": 0,
                  "ticks": ""
                 }
                },
                "type": "scatterpolargl"
               }
              ],
              "scatterternary": [
               {
                "marker": {
                 "colorbar": {
                  "outlinewidth": 0,
                  "ticks": ""
                 }
                },
                "type": "scatterternary"
               }
              ],
              "surface": [
               {
                "colorbar": {
                 "outlinewidth": 0,
                 "ticks": ""
                },
                "colorscale": [
                 [
                  0,
                  "#0d0887"
                 ],
                 [
                  0.1111111111111111,
                  "#46039f"
                 ],
                 [
                  0.2222222222222222,
                  "#7201a8"
                 ],
                 [
                  0.3333333333333333,
                  "#9c179e"
                 ],
                 [
                  0.4444444444444444,
                  "#bd3786"
                 ],
                 [
                  0.5555555555555556,
                  "#d8576b"
                 ],
                 [
                  0.6666666666666666,
                  "#ed7953"
                 ],
                 [
                  0.7777777777777778,
                  "#fb9f3a"
                 ],
                 [
                  0.8888888888888888,
                  "#fdca26"
                 ],
                 [
                  1,
                  "#f0f921"
                 ]
                ],
                "type": "surface"
               }
              ],
              "table": [
               {
                "cells": {
                 "fill": {
                  "color": "#EBF0F8"
                 },
                 "line": {
                  "color": "white"
                 }
                },
                "header": {
                 "fill": {
                  "color": "#C8D4E3"
                 },
                 "line": {
                  "color": "white"
                 }
                },
                "type": "table"
               }
              ]
             },
             "layout": {
              "annotationdefaults": {
               "arrowcolor": "#2a3f5f",
               "arrowhead": 0,
               "arrowwidth": 1
              },
              "autotypenumbers": "strict",
              "coloraxis": {
               "colorbar": {
                "outlinewidth": 0,
                "ticks": ""
               }
              },
              "colorscale": {
               "diverging": [
                [
                 0,
                 "#8e0152"
                ],
                [
                 0.1,
                 "#c51b7d"
                ],
                [
                 0.2,
                 "#de77ae"
                ],
                [
                 0.3,
                 "#f1b6da"
                ],
                [
                 0.4,
                 "#fde0ef"
                ],
                [
                 0.5,
                 "#f7f7f7"
                ],
                [
                 0.6,
                 "#e6f5d0"
                ],
                [
                 0.7,
                 "#b8e186"
                ],
                [
                 0.8,
                 "#7fbc41"
                ],
                [
                 0.9,
                 "#4d9221"
                ],
                [
                 1,
                 "#276419"
                ]
               ],
               "sequential": [
                [
                 0,
                 "#0d0887"
                ],
                [
                 0.1111111111111111,
                 "#46039f"
                ],
                [
                 0.2222222222222222,
                 "#7201a8"
                ],
                [
                 0.3333333333333333,
                 "#9c179e"
                ],
                [
                 0.4444444444444444,
                 "#bd3786"
                ],
                [
                 0.5555555555555556,
                 "#d8576b"
                ],
                [
                 0.6666666666666666,
                 "#ed7953"
                ],
                [
                 0.7777777777777778,
                 "#fb9f3a"
                ],
                [
                 0.8888888888888888,
                 "#fdca26"
                ],
                [
                 1,
                 "#f0f921"
                ]
               ],
               "sequentialminus": [
                [
                 0,
                 "#0d0887"
                ],
                [
                 0.1111111111111111,
                 "#46039f"
                ],
                [
                 0.2222222222222222,
                 "#7201a8"
                ],
                [
                 0.3333333333333333,
                 "#9c179e"
                ],
                [
                 0.4444444444444444,
                 "#bd3786"
                ],
                [
                 0.5555555555555556,
                 "#d8576b"
                ],
                [
                 0.6666666666666666,
                 "#ed7953"
                ],
                [
                 0.7777777777777778,
                 "#fb9f3a"
                ],
                [
                 0.8888888888888888,
                 "#fdca26"
                ],
                [
                 1,
                 "#f0f921"
                ]
               ]
              },
              "colorway": [
               "#636efa",
               "#EF553B",
               "#00cc96",
               "#ab63fa",
               "#FFA15A",
               "#19d3f3",
               "#FF6692",
               "#B6E880",
               "#FF97FF",
               "#FECB52"
              ],
              "font": {
               "color": "#2a3f5f"
              },
              "geo": {
               "bgcolor": "white",
               "lakecolor": "white",
               "landcolor": "#E5ECF6",
               "showlakes": true,
               "showland": true,
               "subunitcolor": "white"
              },
              "hoverlabel": {
               "align": "left"
              },
              "hovermode": "closest",
              "mapbox": {
               "style": "light"
              },
              "paper_bgcolor": "white",
              "plot_bgcolor": "#E5ECF6",
              "polar": {
               "angularaxis": {
                "gridcolor": "white",
                "linecolor": "white",
                "ticks": ""
               },
               "bgcolor": "#E5ECF6",
               "radialaxis": {
                "gridcolor": "white",
                "linecolor": "white",
                "ticks": ""
               }
              },
              "scene": {
               "xaxis": {
                "backgroundcolor": "#E5ECF6",
                "gridcolor": "white",
                "gridwidth": 2,
                "linecolor": "white",
                "showbackground": true,
                "ticks": "",
                "zerolinecolor": "white"
               },
               "yaxis": {
                "backgroundcolor": "#E5ECF6",
                "gridcolor": "white",
                "gridwidth": 2,
                "linecolor": "white",
                "showbackground": true,
                "ticks": "",
                "zerolinecolor": "white"
               },
               "zaxis": {
                "backgroundcolor": "#E5ECF6",
                "gridcolor": "white",
                "gridwidth": 2,
                "linecolor": "white",
                "showbackground": true,
                "ticks": "",
                "zerolinecolor": "white"
               }
              },
              "shapedefaults": {
               "line": {
                "color": "#2a3f5f"
               }
              },
              "ternary": {
               "aaxis": {
                "gridcolor": "white",
                "linecolor": "white",
                "ticks": ""
               },
               "baxis": {
                "gridcolor": "white",
                "linecolor": "white",
                "ticks": ""
               },
               "bgcolor": "#E5ECF6",
               "caxis": {
                "gridcolor": "white",
                "linecolor": "white",
                "ticks": ""
               }
              },
              "title": {
               "x": 0.05
              },
              "xaxis": {
               "automargin": true,
               "gridcolor": "white",
               "linecolor": "white",
               "ticks": "",
               "title": {
                "standoff": 15
               },
               "zerolinecolor": "white",
               "zerolinewidth": 2
              },
              "yaxis": {
               "automargin": true,
               "gridcolor": "white",
               "linecolor": "white",
               "ticks": "",
               "title": {
                "standoff": 15
               },
               "zerolinecolor": "white",
               "zerolinewidth": 2
              }
             }
            },
            "title": {
             "text": "Covid-19 Cases Timeseries"
            },
            "xaxis": {
             "title": {
              "text": "Date"
             }
            },
            "yaxis": {
             "title": {
              "text": "Country"
             }
            }
           }
          },
          "text/html": "<div>                            <div id=\"927fc7fc-0285-4269-9577-c3849bb055e5\" class=\"plotly-graph-div\" style=\"height:525px; width:100%;\"></div>            <script type=\"text/javascript\">                require([\"plotly\"], function(Plotly) {                    window.PLOTLYENV=window.PLOTLYENV || {};                                    if (document.getElementById(\"927fc7fc-0285-4269-9577-c3849bb055e5\")) {                    Plotly.newPlot(                        \"927fc7fc-0285-4269-9577-c3849bb055e5\",                        [{\"connectgaps\": true, \"line\": {\"color\": \"blue\", \"width\": 1}, \"mode\": \"lines+markers\", \"name\": \"confirmed\", \"text\": \"Total confirmed: 53775\", \"type\": \"scatter\", \"x\": [\"1/23/20\", \"1/24/20\", \"1/25/20\", \"1/26/20\", \"1/27/20\", \"1/28/20\", \"1/29/20\", \"1/30/20\", \"1/31/20\", \"2/1/20\", \"2/2/20\", \"2/3/20\", \"2/4/20\", \"2/5/20\", \"2/6/20\", \"2/7/20\", \"2/8/20\", \"2/9/20\", \"2/10/20\", \"2/11/20\", \"2/12/20\", \"2/13/20\", \"2/14/20\", \"2/15/20\", \"2/16/20\", \"2/17/20\", \"2/18/20\", \"2/19/20\", \"2/20/20\", \"2/21/20\", \"2/22/20\", \"2/23/20\", \"2/24/20\", \"2/25/20\", \"2/26/20\", \"2/27/20\", \"2/28/20\", \"2/29/20\", \"3/1/20\", \"3/2/20\", \"3/3/20\", \"3/4/20\", \"3/5/20\", \"3/6/20\", \"3/7/20\", \"3/8/20\", \"3/9/20\", \"3/10/20\", \"3/11/20\", \"3/12/20\", \"3/13/20\", \"3/14/20\", \"3/15/20\", \"3/16/20\", \"3/17/20\", \"3/18/20\", \"3/19/20\", \"3/20/20\", \"3/21/20\", \"3/22/20\", \"3/23/20\", \"3/24/20\", \"3/25/20\", \"3/26/20\", \"3/27/20\", \"3/28/20\", \"3/29/20\", \"3/30/20\", \"3/31/20\", \"4/1/20\", \"4/2/20\", \"4/3/20\", \"4/4/20\", \"4/5/20\", \"4/6/20\", \"4/7/20\", \"4/8/20\", \"4/9/20\", \"4/10/20\", \"4/11/20\", \"4/12/20\", \"4/13/20\", \"4/14/20\", \"4/15/20\", \"4/16/20\", \"4/17/20\", \"4/18/20\", \"4/19/20\", \"4/20/20\", \"4/21/20\", \"4/22/20\", \"4/23/20\", \"4/24/20\", \"4/25/20\", \"4/26/20\", \"4/27/20\", \"4/28/20\", \"4/29/20\", \"4/30/20\", \"5/1/20\", \"5/2/20\", \"5/3/20\", \"5/4/20\", \"5/5/20\", \"5/6/20\", \"5/7/20\", \"5/8/20\", \"5/9/20\", \"5/10/20\", \"5/11/20\", \"5/12/20\", \"5/13/20\", \"5/14/20\", \"5/15/20\", \"5/16/20\", \"5/17/20\", \"5/18/20\", \"5/19/20\", \"5/20/20\", \"5/21/20\", \"5/22/20\", \"5/23/20\", \"5/24/20\", \"5/25/20\", \"5/26/20\", \"5/27/20\", \"5/28/20\", \"5/29/20\", \"5/30/20\", \"5/31/20\", \"6/1/20\", \"6/2/20\", \"6/3/20\", \"6/4/20\", \"6/5/20\", \"6/6/20\", \"6/7/20\", \"6/8/20\", \"6/9/20\", \"6/10/20\", \"6/11/20\", \"6/12/20\", \"6/13/20\", \"6/14/20\", \"6/15/20\", \"6/16/20\", \"6/17/20\", \"6/18/20\", \"6/19/20\", \"6/20/20\", \"6/21/20\", \"6/22/20\", \"6/23/20\", \"6/24/20\", \"6/25/20\", \"6/26/20\", \"6/27/20\", \"6/28/20\", \"6/29/20\", \"6/30/20\", \"7/1/20\", \"7/2/20\", \"7/3/20\", \"7/4/20\", \"7/5/20\", \"7/6/20\", \"7/7/20\", \"7/8/20\", \"7/9/20\", \"7/10/20\", \"7/11/20\", \"7/12/20\", \"7/13/20\", \"7/14/20\", \"7/15/20\", \"7/16/20\", \"7/17/20\", \"7/18/20\", \"7/19/20\", \"7/20/20\", \"7/21/20\", \"7/22/20\", \"7/23/20\", \"7/24/20\", \"7/25/20\", \"7/26/20\", \"7/27/20\", \"7/28/20\", \"7/29/20\", \"7/30/20\", \"7/31/20\", \"8/1/20\", \"8/2/20\", \"8/3/20\", \"8/4/20\", \"8/5/20\", \"8/6/20\", \"8/7/20\", \"8/8/20\", \"8/9/20\", \"8/10/20\", \"8/11/20\", \"8/12/20\", \"8/13/20\", \"8/14/20\", \"8/15/20\", \"8/16/20\", \"8/17/20\", \"8/18/20\", \"8/19/20\", \"8/20/20\", \"8/21/20\", \"8/22/20\", \"8/23/20\", \"8/24/20\", \"8/25/20\", \"8/26/20\", \"8/27/20\", \"8/28/20\", \"8/29/20\", \"8/30/20\", \"8/31/20\", \"9/1/20\", \"9/2/20\", \"9/3/20\", \"9/4/20\", \"9/5/20\", \"9/6/20\", \"9/7/20\", \"9/8/20\", \"9/9/20\", \"9/10/20\", \"9/11/20\", \"9/12/20\", \"9/13/20\", \"9/14/20\", \"9/15/20\", \"9/16/20\", \"9/17/20\", \"9/18/20\", \"9/19/20\", \"9/20/20\", \"9/21/20\", \"9/22/20\", \"9/23/20\", \"9/24/20\", \"9/25/20\", \"9/26/20\", \"9/27/20\", \"9/28/20\", \"9/29/20\", \"9/30/20\", \"10/1/20\", \"10/2/20\", \"10/3/20\", \"10/4/20\", \"10/5/20\", \"10/6/20\", \"10/7/20\", \"10/8/20\", \"10/9/20\", \"10/10/20\", \"10/11/20\", \"10/12/20\", \"10/13/20\", \"10/14/20\", \"10/15/20\", \"10/16/20\", \"10/17/20\", \"10/18/20\", \"10/19/20\", \"10/20/20\", \"10/21/20\", \"10/22/20\", \"10/23/20\", \"10/24/20\", \"10/25/20\", \"10/26/20\", \"10/27/20\", \"10/28/20\", \"10/29/20\", \"10/30/20\", \"10/31/20\", \"11/1/20\", \"11/2/20\", \"11/3/20\", \"11/4/20\", \"11/5/20\", \"11/6/20\", \"11/7/20\", \"11/8/20\", \"11/9/20\", \"11/10/20\", \"11/11/20\", \"11/12/20\", \"11/13/20\", \"11/14/20\", \"11/15/20\", \"11/16/20\", \"11/17/20\", \"11/18/20\", \"11/19/20\", \"11/20/20\", \"11/21/20\", \"11/22/20\", \"11/23/20\", \"11/24/20\", \"11/25/20\", \"11/26/20\", \"11/27/20\", \"11/28/20\", \"11/29/20\", \"11/30/20\", \"12/1/20\", \"12/2/20\", \"12/3/20\", \"12/4/20\", \"12/5/20\", \"12/6/20\", \"12/7/20\", \"12/8/20\", \"12/9/20\", \"12/10/20\", \"12/11/20\", \"12/12/20\", \"12/13/20\", \"12/14/20\", \"12/15/20\", \"12/16/20\", \"12/17/20\", \"12/18/20\", \"12/19/20\", \"12/20/20\", \"12/21/20\", \"12/22/20\", \"12/23/20\", \"12/24/20\", \"12/25/20\", \"12/26/20\", \"12/27/20\", \"12/28/20\", \"12/29/20\", \"12/30/20\", \"12/31/20\", \"1/1/21\", \"1/2/21\", \"1/3/21\", \"1/4/21\", \"1/5/21\", \"1/6/21\", \"1/7/21\", \"1/8/21\", \"1/9/21\", \"1/10/21\", \"1/11/21\", \"1/12/21\", \"1/13/21\", \"1/14/21\"], \"y\": [0, 0, 0, 0, 0, 0, 0, 0, 0, 0, 0, 0, 0, 0, 0, 0, 0, 0, 0, 0, 0, 0, 0, 0, 0, 0, 0, 0, 0, 0, 0, 0, 1, 1, 1, 1, 1, 1, 1, 1, 2, 4, 4, 4, 4, 5, 7, 8, 11, 12, 13, 15, 16, 18, 20, 24, 25, 29, 30, 34, 41, 43, 76, 80, 91, 107, 118, 146, 175, 197, 240, 275, 300, 338, 368, 424, 445, 485, 532, 556, 608, 666, 715, 785, 841, 907, 934, 997, 1027, 1093, 1177, 1236, 1331, 1464, 1532, 1704, 1830, 1940, 2127, 2291, 2470, 2705, 2895, 3225, 3393, 3564, 3781, 4042, 4403, 4687, 4968, 5227, 5640, 6054, 6403, 6665, 7073, 7654, 8146, 8677, 9219, 10001, 10585, 11176, 11834, 12459, 13039, 13662, 14528, 15208, 15753, 16512, 17270, 18057, 18972, 19554, 20345, 20920, 21462, 22146, 22894, 23550, 24106, 24770, 25531, 26314, 26878, 27536, 27882, 28428, 28837, 29147, 29471, 29705, 30165, 30441, 30606, 30957, 31228, 31507, 31826, 32012, 32314, 32662, 32941, 33180, 33374, 33584, 33898, 34184, 34356, 34441, 34595, 34730, 34984, 35060, 35219, 35279, 35453, 35493, 35605, 35717, 35918, 35978, 36026, 36147, 36253, 36358, 36463, 36532, 36665, 36700, 36701, 36737, 36773, 36820, 36928, 37006, 37046, 37083, 37153, 37260, 37336, 37422, 37497, 37542, 37590, 37667, 37710, 37750, 37852, 37885, 37944, 37990, 38045, 38061, 38103, 38119, 38130, 38133, 38155, 38159, 38193, 38243, 38288, 38304, 38324, 38398, 38494, 38520, 38544, 38572, 38606, 38641, 38716, 38772, 38815, 38855, 38872, 38897, 38919, 39044, 39074, 39096, 39145, 39170, 39186, 39192, 39227, 39239, 39254, 39268, 39285, 39290, 39297, 39341, 39422, 39486, 39548, 39616, 39693, 39703, 39799, 39870, 39928, 39994, 40026, 40088, 40141, 40200, 40287, 40369, 40510, 40626, 40687, 40768, 40833, 40937, 41032, 41145, 41268, 41334, 41425, 41501, 41633, 41728, 41814, 41935, 41975, 42033, 42159, 42297, 42463, 42609, 42795, 42969, 43035, 43240, 43468, 43681, 43924, 44177, 44363, 44503, 44706, 44988, 45174, 45384, 45600, 45723, 45844, 46116, 46274, 46516, 46718, 46837, 46837, 47072, 47306, 47516, 47716, 47851, 48053, 48116, 48229, 48527, 48718, 48952, 49161, 49378, 49621, 49681, 49817, 50013, 50190, 50433, 50655, 50810, 50886, 51039, 51280, 51350, 51405, 51526, 51526, 51526, 51526, 53011, 53105, 53105, 53207, 53332, 53400, 53489, 53538, 53584, 53584, 53775]}, {\"connectgaps\": true, \"line\": {\"color\": \"red\", \"width\": 1}, \"mode\": \"lines+markers\", \"name\": \"deaths\", \"text\": \"Total deaths: 2314\", \"type\": \"scatter\", \"x\": [\"1/23/20\", \"1/24/20\", \"1/25/20\", \"1/26/20\", \"1/27/20\", \"1/28/20\", \"1/29/20\", \"1/30/20\", \"1/31/20\", \"2/1/20\", \"2/2/20\", \"2/3/20\", \"2/4/20\", \"2/5/20\", \"2/6/20\", \"2/7/20\", \"2/8/20\", \"2/9/20\", \"2/10/20\", \"2/11/20\", \"2/12/20\", \"2/13/20\", \"2/14/20\", \"2/15/20\", \"2/16/20\", \"2/17/20\", \"2/18/20\", \"2/19/20\", \"2/20/20\", \"2/21/20\", \"2/22/20\", \"2/23/20\", \"2/24/20\", \"2/25/20\", \"2/26/20\", \"2/27/20\", \"2/28/20\", \"2/29/20\", \"3/1/20\", \"3/2/20\", \"3/3/20\", \"3/4/20\", \"3/5/20\", \"3/6/20\", \"3/7/20\", \"3/8/20\", \"3/9/20\", \"3/10/20\", \"3/11/20\", \"3/12/20\", \"3/13/20\", \"3/14/20\", \"3/15/20\", \"3/16/20\", \"3/17/20\", \"3/18/20\", \"3/19/20\", \"3/20/20\", \"3/21/20\", \"3/22/20\", \"3/23/20\", \"3/24/20\", \"3/25/20\", \"3/26/20\", \"3/27/20\", \"3/28/20\", \"3/29/20\", \"3/30/20\", \"3/31/20\", \"4/1/20\", \"4/2/20\", \"4/3/20\", \"4/4/20\", \"4/5/20\", \"4/6/20\", \"4/7/20\", \"4/8/20\", \"4/9/20\", \"4/10/20\", \"4/11/20\", \"4/12/20\", \"4/13/20\", \"4/14/20\", \"4/15/20\", \"4/16/20\", \"4/17/20\", \"4/18/20\", \"4/19/20\", \"4/20/20\", \"4/21/20\", \"4/22/20\", \"4/23/20\", \"4/24/20\", \"4/25/20\", \"4/26/20\", \"4/27/20\", \"4/28/20\", \"4/29/20\", \"4/30/20\", \"5/1/20\", \"5/2/20\", \"5/3/20\", \"5/4/20\", \"5/5/20\", \"5/6/20\", \"5/7/20\", \"5/8/20\", \"5/9/20\", \"5/10/20\", \"5/11/20\", \"5/12/20\", \"5/13/20\", \"5/14/20\", \"5/15/20\", \"5/16/20\", \"5/17/20\", \"5/18/20\", \"5/19/20\", \"5/20/20\", \"5/21/20\", \"5/22/20\", \"5/23/20\", \"5/24/20\", \"5/25/20\", \"5/26/20\", \"5/27/20\", \"5/28/20\", \"5/29/20\", \"5/30/20\", \"5/31/20\", \"6/1/20\", \"6/2/20\", \"6/3/20\", \"6/4/20\", \"6/5/20\", \"6/6/20\", \"6/7/20\", \"6/8/20\", \"6/9/20\", \"6/10/20\", \"6/11/20\", \"6/12/20\", \"6/13/20\", \"6/14/20\", \"6/15/20\", \"6/16/20\", \"6/17/20\", \"6/18/20\", \"6/19/20\", \"6/20/20\", \"6/21/20\", \"6/22/20\", \"6/23/20\", \"6/24/20\", \"6/25/20\", \"6/26/20\", \"6/27/20\", \"6/28/20\", \"6/29/20\", \"6/30/20\", \"7/1/20\", \"7/2/20\", \"7/3/20\", \"7/4/20\", \"7/5/20\", \"7/6/20\", \"7/7/20\", \"7/8/20\", \"7/9/20\", \"7/10/20\", \"7/11/20\", \"7/12/20\", \"7/13/20\", \"7/14/20\", \"7/15/20\", \"7/16/20\", \"7/17/20\", \"7/18/20\", \"7/19/20\", \"7/20/20\", \"7/21/20\", \"7/22/20\", \"7/23/20\", \"7/24/20\", \"7/25/20\", \"7/26/20\", \"7/27/20\", \"7/28/20\", \"7/29/20\", \"7/30/20\", \"7/31/20\", \"8/1/20\", \"8/2/20\", \"8/3/20\", \"8/4/20\", \"8/5/20\", \"8/6/20\", \"8/7/20\", \"8/8/20\", \"8/9/20\", \"8/10/20\", \"8/11/20\", \"8/12/20\", \"8/13/20\", \"8/14/20\", \"8/15/20\", \"8/16/20\", \"8/17/20\", \"8/18/20\", \"8/19/20\", \"8/20/20\", \"8/21/20\", \"8/22/20\", \"8/23/20\", \"8/24/20\", \"8/25/20\", \"8/26/20\", \"8/27/20\", \"8/28/20\", \"8/29/20\", \"8/30/20\", \"8/31/20\", \"9/1/20\", \"9/2/20\", \"9/3/20\", \"9/4/20\", \"9/5/20\", \"9/6/20\", \"9/7/20\", \"9/8/20\", \"9/9/20\", \"9/10/20\", \"9/11/20\", \"9/12/20\", \"9/13/20\", \"9/14/20\", \"9/15/20\", \"9/16/20\", \"9/17/20\", \"9/18/20\", \"9/19/20\", \"9/20/20\", \"9/21/20\", \"9/22/20\", \"9/23/20\", \"9/24/20\", \"9/25/20\", \"9/26/20\", \"9/27/20\", \"9/28/20\", \"9/29/20\", \"9/30/20\", \"10/1/20\", \"10/2/20\", \"10/3/20\", \"10/4/20\", \"10/5/20\", \"10/6/20\", \"10/7/20\", \"10/8/20\", \"10/9/20\", \"10/10/20\", \"10/11/20\", \"10/12/20\", \"10/13/20\", \"10/14/20\", \"10/15/20\", \"10/16/20\", \"10/17/20\", \"10/18/20\", \"10/19/20\", \"10/20/20\", \"10/21/20\", \"10/22/20\", \"10/23/20\", \"10/24/20\", \"10/25/20\", \"10/26/20\", \"10/27/20\", \"10/28/20\", \"10/29/20\", \"10/30/20\", \"10/31/20\", \"11/1/20\", \"11/2/20\", \"11/3/20\", \"11/4/20\", \"11/5/20\", \"11/6/20\", \"11/7/20\", \"11/8/20\", \"11/9/20\", \"11/10/20\", \"11/11/20\", \"11/12/20\", \"11/13/20\", \"11/14/20\", \"11/15/20\", \"11/16/20\", \"11/17/20\", \"11/18/20\", \"11/19/20\", \"11/20/20\", \"11/21/20\", \"11/22/20\", \"11/23/20\", \"11/24/20\", \"11/25/20\", \"11/26/20\", \"11/27/20\", \"11/28/20\", \"11/29/20\", \"11/30/20\", \"12/1/20\", \"12/2/20\", \"12/3/20\", \"12/4/20\", \"12/5/20\", \"12/6/20\", \"12/7/20\", \"12/8/20\", \"12/9/20\", \"12/10/20\", \"12/11/20\", \"12/12/20\", \"12/13/20\", \"12/14/20\", \"12/15/20\", \"12/16/20\", \"12/17/20\", \"12/18/20\", \"12/19/20\", \"12/20/20\", \"12/21/20\", \"12/22/20\", \"12/23/20\", \"12/24/20\", \"12/25/20\", \"12/26/20\", \"12/27/20\", \"12/28/20\", \"12/29/20\", \"12/30/20\", \"12/31/20\", \"1/1/21\", \"1/2/21\", \"1/3/21\", \"1/4/21\", \"1/5/21\", \"1/6/21\", \"1/7/21\", \"1/8/21\", \"1/9/21\", \"1/10/21\", \"1/11/21\", \"1/12/21\", \"1/13/21\", \"1/14/21\"], \"y\": [0, 0, 0, 0, 0, 0, 0, 0, 0, 0, 0, 0, 0, 0, 0, 0, 0, 0, 0, 0, 0, 0, 0, 0, 0, 0, 0, 0, 0, 0, 0, 0, 0, 0, 0, 0, 0, 0, 0, 0, 0, 0, 0, 0, 0, 0, 0, 0, 0, 0, 0, 0, 0, 0, 0, 0, 0, 0, 0, 1, 1, 1, 2, 3, 3, 4, 4, 4, 4, 4, 4, 8, 10, 12, 15, 16, 16, 17, 18, 18, 19, 22, 23, 29, 30, 30, 30, 33, 36, 36, 40, 40, 43, 47, 52, 58, 59, 61, 64, 68, 72, 85, 90, 95, 104, 106, 109, 115, 120, 122, 127, 132, 136, 153, 168, 170, 173, 178, 188, 194, 206, 217, 219, 220, 221, 228, 236, 247, 250, 258, 266, 274, 298, 304, 313, 331, 361, 373, 388, 409, 430, 450, 455, 475, 482, 495, 508, 550, 552, 573, 585, 597, 617, 638, 674, 682, 716, 728, 740, 752, 780, 809, 821, 828, 866, 900, 922, 939, 959, 973, 996, 1012, 1040, 1064, 1096, 1117, 1149, 1166, 1183, 1185, 1188, 1192, 1213, 1227, 1249, 1261, 1271, 1272, 1273, 1283, 1284, 1285, 1286, 1290, 1290, 1296, 1301, 1310, 1315, 1321, 1329, 1346, 1356, 1365, 1370, 1371, 1376, 1378, 1382, 1384, 1386, 1386, 1386, 1388, 1390, 1398, 1402, 1402, 1403, 1403, 1403, 1403, 1407, 1410, 1410, 1410, 1410, 1413, 1416, 1419, 1421, 1421, 1421, 1421, 1421, 1427, 1428, 1438, 1438, 1439, 1439, 1443, 1446, 1447, 1448, 1453, 1453, 1455, 1455, 1458, 1460, 1460, 1460, 1460, 1464, 1464, 1468, 1469, 1471, 1472, 1474, 1475, 1479, 1481, 1482, 1483, 1483, 1487, 1490, 1494, 1499, 1501, 1503, 1507, 1509, 1513, 1516, 1520, 1525, 1531, 1534, 1535, 1538, 1538, 1544, 1547, 1551, 1557, 1557, 1559, 1565, 1577, 1580, 1584, 1594, 1598, 1608, 1620, 1635, 1641, 1648, 1653, 1666, 1678, 1690, 1702, 1715, 1728, 1737, 1740, 1752, 1774, 1795, 1822, 1841, 1846, 1846, 1864, 1874, 1900, 1906, 1919, 1935, 1945, 1956, 1965, 1969, 1995, 2011, 2025, 2030, 2047, 2067, 2082, 2096, 2117, 2126, 2139, 2149, 2160, 2174, 2179, 2181, 2191, 2191, 2191, 2191, 2237, 2244, 2244, 2253, 2257, 2264, 2277, 2288, 2301, 2301, 2314]}, {\"connectgaps\": true, \"line\": {\"color\": \"green\", \"width\": 1}, \"mode\": \"lines+markers\", \"name\": \"recovered\", \"text\": \"Total recovered: 45298\", \"type\": \"scatter\", \"x\": [\"1/23/20\", \"1/24/20\", \"1/25/20\", \"1/26/20\", \"1/27/20\", \"1/28/20\", \"1/29/20\", \"1/30/20\", \"1/31/20\", \"2/1/20\", \"2/2/20\", \"2/3/20\", \"2/4/20\", \"2/5/20\", \"2/6/20\", \"2/7/20\", \"2/8/20\", \"2/9/20\", \"2/10/20\", \"2/11/20\", \"2/12/20\", \"2/13/20\", \"2/14/20\", \"2/15/20\", \"2/16/20\", \"2/17/20\", \"2/18/20\", \"2/19/20\", \"2/20/20\", \"2/21/20\", \"2/22/20\", \"2/23/20\", \"2/24/20\", \"2/25/20\", \"2/26/20\", \"2/27/20\", \"2/28/20\", \"2/29/20\", \"3/1/20\", \"3/2/20\", \"3/3/20\", \"3/4/20\", \"3/5/20\", \"3/6/20\", \"3/7/20\", \"3/8/20\", \"3/9/20\", \"3/10/20\", \"3/11/20\", \"3/12/20\", \"3/13/20\", \"3/14/20\", \"3/15/20\", \"3/16/20\", \"3/17/20\", \"3/18/20\", \"3/19/20\", \"3/20/20\", \"3/21/20\", \"3/22/20\", \"3/23/20\", \"3/24/20\", \"3/25/20\", \"3/26/20\", \"3/27/20\", \"3/28/20\", \"3/29/20\", \"3/30/20\", \"3/31/20\", \"4/1/20\", \"4/2/20\", \"4/3/20\", \"4/4/20\", \"4/5/20\", \"4/6/20\", \"4/7/20\", \"4/8/20\", \"4/9/20\", \"4/10/20\", \"4/11/20\", \"4/12/20\", \"4/13/20\", \"4/14/20\", \"4/15/20\", \"4/16/20\", \"4/17/20\", \"4/18/20\", \"4/19/20\", \"4/20/20\", \"4/21/20\", \"4/22/20\", \"4/23/20\", \"4/24/20\", \"4/25/20\", \"4/26/20\", \"4/27/20\", \"4/28/20\", \"4/29/20\", \"4/30/20\", \"5/1/20\", \"5/2/20\", \"5/3/20\", \"5/4/20\", \"5/5/20\", \"5/6/20\", \"5/7/20\", \"5/8/20\", \"5/9/20\", \"5/10/20\", \"5/11/20\", \"5/12/20\", \"5/13/20\", \"5/14/20\", \"5/15/20\", \"5/16/20\", \"5/17/20\", \"5/18/20\", \"5/19/20\", \"5/20/20\", \"5/21/20\", \"5/22/20\", \"5/23/20\", \"5/24/20\", \"5/25/20\", \"5/26/20\", \"5/27/20\", \"5/28/20\", \"5/29/20\", \"5/30/20\", \"5/31/20\", \"6/1/20\", \"6/2/20\", \"6/3/20\", \"6/4/20\", \"6/5/20\", \"6/6/20\", \"6/7/20\", \"6/8/20\", \"6/9/20\", \"6/10/20\", \"6/11/20\", \"6/12/20\", \"6/13/20\", \"6/14/20\", \"6/15/20\", \"6/16/20\", \"6/17/20\", \"6/18/20\", \"6/19/20\", \"6/20/20\", \"6/21/20\", \"6/22/20\", \"6/23/20\", \"6/24/20\", \"6/25/20\", \"6/26/20\", \"6/27/20\", \"6/28/20\", \"6/29/20\", \"6/30/20\", \"7/1/20\", \"7/2/20\", \"7/3/20\", \"7/4/20\", \"7/5/20\", \"7/6/20\", \"7/7/20\", \"7/8/20\", \"7/9/20\", \"7/10/20\", \"7/11/20\", \"7/12/20\", \"7/13/20\", \"7/14/20\", \"7/15/20\", \"7/16/20\", \"7/17/20\", \"7/18/20\", \"7/19/20\", \"7/20/20\", \"7/21/20\", \"7/22/20\", \"7/23/20\", \"7/24/20\", \"7/25/20\", \"7/26/20\", \"7/27/20\", \"7/28/20\", \"7/29/20\", \"7/30/20\", \"7/31/20\", \"8/1/20\", \"8/2/20\", \"8/3/20\", \"8/4/20\", \"8/5/20\", \"8/6/20\", \"8/7/20\", \"8/8/20\", \"8/9/20\", \"8/10/20\", \"8/11/20\", \"8/12/20\", \"8/13/20\", \"8/14/20\", \"8/15/20\", \"8/16/20\", \"8/17/20\", \"8/18/20\", \"8/19/20\", \"8/20/20\", \"8/21/20\", \"8/22/20\", \"8/23/20\", \"8/24/20\", \"8/25/20\", \"8/26/20\", \"8/27/20\", \"8/28/20\", \"8/29/20\", \"8/30/20\", \"8/31/20\", \"9/1/20\", \"9/2/20\", \"9/3/20\", \"9/4/20\", \"9/5/20\", \"9/6/20\", \"9/7/20\", \"9/8/20\", \"9/9/20\", \"9/10/20\", \"9/11/20\", \"9/12/20\", \"9/13/20\", \"9/14/20\", \"9/15/20\", \"9/16/20\", \"9/17/20\", \"9/18/20\", \"9/19/20\", \"9/20/20\", \"9/21/20\", \"9/22/20\", \"9/23/20\", \"9/24/20\", \"9/25/20\", \"9/26/20\", \"9/27/20\", \"9/28/20\", \"9/29/20\", \"9/30/20\", \"10/1/20\", \"10/2/20\", \"10/3/20\", \"10/4/20\", \"10/5/20\", \"10/6/20\", \"10/7/20\", \"10/8/20\", \"10/9/20\", \"10/10/20\", \"10/11/20\", \"10/12/20\", \"10/13/20\", \"10/14/20\", \"10/15/20\", \"10/16/20\", \"10/17/20\", \"10/18/20\", \"10/19/20\", \"10/20/20\", \"10/21/20\", \"10/22/20\", \"10/23/20\", \"10/24/20\", \"10/25/20\", \"10/26/20\", \"10/27/20\", \"10/28/20\", \"10/29/20\", \"10/30/20\", \"10/31/20\", \"11/1/20\", \"11/2/20\", \"11/3/20\", \"11/4/20\", \"11/5/20\", \"11/6/20\", \"11/7/20\", \"11/8/20\", \"11/9/20\", \"11/10/20\", \"11/11/20\", \"11/12/20\", \"11/13/20\", \"11/14/20\", \"11/15/20\", \"11/16/20\", \"11/17/20\", \"11/18/20\", \"11/19/20\", \"11/20/20\", \"11/21/20\", \"11/22/20\", \"11/23/20\", \"11/24/20\", \"11/25/20\", \"11/26/20\", \"11/27/20\", \"11/28/20\", \"11/29/20\", \"11/30/20\", \"12/1/20\", \"12/2/20\", \"12/3/20\", \"12/4/20\", \"12/5/20\", \"12/6/20\", \"12/7/20\", \"12/8/20\", \"12/9/20\", \"12/10/20\", \"12/11/20\", \"12/12/20\", \"12/13/20\", \"12/14/20\", \"12/15/20\", \"12/16/20\", \"12/17/20\", \"12/18/20\", \"12/19/20\", \"12/20/20\", \"12/21/20\", \"12/22/20\", \"12/23/20\", \"12/24/20\", \"12/25/20\", \"12/26/20\", \"12/27/20\", \"12/28/20\", \"12/29/20\", \"12/30/20\", \"12/31/20\", \"1/1/21\", \"1/2/21\", \"1/3/21\", \"1/4/21\", \"1/5/21\", \"1/6/21\", \"1/7/21\", \"1/8/21\", \"1/9/21\", \"1/10/21\", \"1/11/21\", \"1/12/21\", \"1/13/21\", \"1/14/21\"], \"y\": [0, 0, 0, 0, 0, 0, 0, 0, 0, 0, 0, 0, 0, 0, 0, 0, 0, 0, 0, 0, 0, 0, 0, 0, 0, 0, 0, 0, 0, 0, 0, 0, 0, 0, 0, 0, 0, 0, 0, 0, 0, 0, 0, 0, 0, 0, 0, 0, 0, 0, 0, 0, 0, 1, 1, 1, 1, 1, 1, 1, 1, 1, 2, 2, 2, 2, 2, 2, 5, 5, 10, 10, 10, 15, 18, 18, 29, 32, 32, 32, 32, 32, 40, 43, 54, 99, 112, 131, 135, 150, 166, 179, 188, 188, 207, 220, 228, 252, 260, 310, 331, 345, 397, 421, 458, 468, 472, 502, 558, 558, 610, 648, 691, 745, 745, 778, 801, 850, 930, 938, 996, 1040, 1075, 1097, 1128, 1138, 1209, 1259, 1303, 1328, 1428, 1450, 1522, 1585, 1762, 1830, 1875, 2171, 2651, 3013, 3326, 3928, 4201, 4725, 5164, 5508, 6158, 7660, 7962, 8292, 8764, 8841, 9260, 9869, 10174, 10306, 10674, 12604, 13934, 14131, 15651, 16041, 17331, 19164, 19366, 20103, 20179, 20700, 20847, 20882, 21135, 21216, 21254, 21454, 22456, 22824, 23151, 23273, 23634, 23741, 23741, 23924, 24550, 24602, 24793, 25180, 25198, 25358, 25389, 25471, 25509, 25509, 25510, 25669, 25669, 25742, 25840, 25903, 25960, 25960, 26228, 26415, 26694, 26714, 26714, 27166, 27166, 27166, 27166, 27166, 27681, 28016, 28016, 28180, 28360, 28440, 29042, 29046, 29059, 29063, 29089, 29089, 29231, 29315, 29390, 29713, 30082, 30537, 30557, 30715, 31048, 31129, 31154, 31234, 31638, 32073, 32098, 32503, 32505, 32576, 32576, 32576, 32576, 32576, 32610, 32619, 32619, 32635, 32642, 32642, 32746, 32789, 32842, 32842, 32842, 32852, 32879, 32977, 33045, 33058, 33058, 33064, 33114, 33118, 33308, 33354, 33447, 33516, 33561, 33614, 33760, 33790, 33824, 33831, 34010, 34023, 34129, 34150, 34217, 34237, 34239, 34258, 34321, 34326, 34342, 34355, 34362, 34440, 34440, 34446, 34458, 34721, 34954, 34967, 35024, 35036, 35067, 35092, 35137, 35160, 35295, 35350, 35370, 35422, 35934, 35976, 36122, 36145, 36232, 36295, 36709, 36716, 36831, 36946, 37218, 37260, 37260, 37393, 37685, 37879, 37920, 38032, 38099, 38141, 38200, 38250, 38252, 38336, 38475, 38505, 38540, 38613, 39006, 39508, 39585, 39692, 40359, 40444, 40784, 41096, 41441, 41543, 41612, 41727, 41727, 41727, 41727, 42530, 42666, 42666, 43291, 43440, 43740, 43948, 44137, 44608, 44850, 45298]}],                        {\"template\": {\"data\": {\"bar\": [{\"error_x\": {\"color\": \"#2a3f5f\"}, \"error_y\": {\"color\": \"#2a3f5f\"}, \"marker\": {\"line\": {\"color\": \"#E5ECF6\", \"width\": 0.5}}, \"type\": \"bar\"}], \"barpolar\": [{\"marker\": {\"line\": {\"color\": \"#E5ECF6\", \"width\": 0.5}}, \"type\": \"barpolar\"}], \"carpet\": [{\"aaxis\": {\"endlinecolor\": \"#2a3f5f\", \"gridcolor\": \"white\", \"linecolor\": \"white\", \"minorgridcolor\": \"white\", \"startlinecolor\": \"#2a3f5f\"}, \"baxis\": {\"endlinecolor\": \"#2a3f5f\", \"gridcolor\": \"white\", \"linecolor\": \"white\", \"minorgridcolor\": \"white\", \"startlinecolor\": \"#2a3f5f\"}, \"type\": \"carpet\"}], \"choropleth\": [{\"colorbar\": {\"outlinewidth\": 0, \"ticks\": \"\"}, \"type\": \"choropleth\"}], \"contour\": [{\"colorbar\": {\"outlinewidth\": 0, \"ticks\": \"\"}, \"colorscale\": [[0.0, \"#0d0887\"], [0.1111111111111111, \"#46039f\"], [0.2222222222222222, \"#7201a8\"], [0.3333333333333333, \"#9c179e\"], [0.4444444444444444, \"#bd3786\"], [0.5555555555555556, \"#d8576b\"], [0.6666666666666666, \"#ed7953\"], [0.7777777777777778, \"#fb9f3a\"], [0.8888888888888888, \"#fdca26\"], [1.0, \"#f0f921\"]], \"type\": \"contour\"}], \"contourcarpet\": [{\"colorbar\": {\"outlinewidth\": 0, \"ticks\": \"\"}, \"type\": \"contourcarpet\"}], \"heatmap\": [{\"colorbar\": {\"outlinewidth\": 0, \"ticks\": \"\"}, \"colorscale\": [[0.0, \"#0d0887\"], [0.1111111111111111, \"#46039f\"], [0.2222222222222222, \"#7201a8\"], [0.3333333333333333, \"#9c179e\"], [0.4444444444444444, \"#bd3786\"], [0.5555555555555556, \"#d8576b\"], [0.6666666666666666, \"#ed7953\"], [0.7777777777777778, \"#fb9f3a\"], [0.8888888888888888, \"#fdca26\"], [1.0, \"#f0f921\"]], \"type\": \"heatmap\"}], \"heatmapgl\": [{\"colorbar\": {\"outlinewidth\": 0, \"ticks\": \"\"}, \"colorscale\": [[0.0, \"#0d0887\"], [0.1111111111111111, \"#46039f\"], [0.2222222222222222, \"#7201a8\"], [0.3333333333333333, \"#9c179e\"], [0.4444444444444444, \"#bd3786\"], [0.5555555555555556, \"#d8576b\"], [0.6666666666666666, \"#ed7953\"], [0.7777777777777778, \"#fb9f3a\"], [0.8888888888888888, \"#fdca26\"], [1.0, \"#f0f921\"]], \"type\": \"heatmapgl\"}], \"histogram\": [{\"marker\": {\"colorbar\": {\"outlinewidth\": 0, \"ticks\": \"\"}}, \"type\": \"histogram\"}], \"histogram2d\": [{\"colorbar\": {\"outlinewidth\": 0, \"ticks\": \"\"}, \"colorscale\": [[0.0, \"#0d0887\"], [0.1111111111111111, \"#46039f\"], [0.2222222222222222, \"#7201a8\"], [0.3333333333333333, \"#9c179e\"], [0.4444444444444444, \"#bd3786\"], [0.5555555555555556, \"#d8576b\"], [0.6666666666666666, \"#ed7953\"], [0.7777777777777778, \"#fb9f3a\"], [0.8888888888888888, \"#fdca26\"], [1.0, \"#f0f921\"]], \"type\": \"histogram2d\"}], \"histogram2dcontour\": [{\"colorbar\": {\"outlinewidth\": 0, \"ticks\": \"\"}, \"colorscale\": [[0.0, \"#0d0887\"], [0.1111111111111111, \"#46039f\"], [0.2222222222222222, \"#7201a8\"], [0.3333333333333333, \"#9c179e\"], [0.4444444444444444, \"#bd3786\"], [0.5555555555555556, \"#d8576b\"], [0.6666666666666666, \"#ed7953\"], [0.7777777777777778, \"#fb9f3a\"], [0.8888888888888888, \"#fdca26\"], [1.0, \"#f0f921\"]], \"type\": \"histogram2dcontour\"}], \"mesh3d\": [{\"colorbar\": {\"outlinewidth\": 0, \"ticks\": \"\"}, \"type\": \"mesh3d\"}], \"parcoords\": [{\"line\": {\"colorbar\": {\"outlinewidth\": 0, \"ticks\": \"\"}}, \"type\": \"parcoords\"}], \"pie\": [{\"automargin\": true, \"type\": \"pie\"}], \"scatter\": [{\"marker\": {\"colorbar\": {\"outlinewidth\": 0, \"ticks\": \"\"}}, \"type\": \"scatter\"}], \"scatter3d\": [{\"line\": {\"colorbar\": {\"outlinewidth\": 0, \"ticks\": \"\"}}, \"marker\": {\"colorbar\": {\"outlinewidth\": 0, \"ticks\": \"\"}}, \"type\": \"scatter3d\"}], \"scattercarpet\": [{\"marker\": {\"colorbar\": {\"outlinewidth\": 0, \"ticks\": \"\"}}, \"type\": \"scattercarpet\"}], \"scattergeo\": [{\"marker\": {\"colorbar\": {\"outlinewidth\": 0, \"ticks\": \"\"}}, \"type\": \"scattergeo\"}], \"scattergl\": [{\"marker\": {\"colorbar\": {\"outlinewidth\": 0, \"ticks\": \"\"}}, \"type\": \"scattergl\"}], \"scattermapbox\": [{\"marker\": {\"colorbar\": {\"outlinewidth\": 0, \"ticks\": \"\"}}, \"type\": \"scattermapbox\"}], \"scatterpolar\": [{\"marker\": {\"colorbar\": {\"outlinewidth\": 0, \"ticks\": \"\"}}, \"type\": \"scatterpolar\"}], \"scatterpolargl\": [{\"marker\": {\"colorbar\": {\"outlinewidth\": 0, \"ticks\": \"\"}}, \"type\": \"scatterpolargl\"}], \"scatterternary\": [{\"marker\": {\"colorbar\": {\"outlinewidth\": 0, \"ticks\": \"\"}}, \"type\": \"scatterternary\"}], \"surface\": [{\"colorbar\": {\"outlinewidth\": 0, \"ticks\": \"\"}, \"colorscale\": [[0.0, \"#0d0887\"], [0.1111111111111111, \"#46039f\"], [0.2222222222222222, \"#7201a8\"], [0.3333333333333333, \"#9c179e\"], [0.4444444444444444, \"#bd3786\"], [0.5555555555555556, \"#d8576b\"], [0.6666666666666666, \"#ed7953\"], [0.7777777777777778, \"#fb9f3a\"], [0.8888888888888888, \"#fdca26\"], [1.0, \"#f0f921\"]], \"type\": \"surface\"}], \"table\": [{\"cells\": {\"fill\": {\"color\": \"#EBF0F8\"}, \"line\": {\"color\": \"white\"}}, \"header\": {\"fill\": {\"color\": \"#C8D4E3\"}, \"line\": {\"color\": \"white\"}}, \"type\": \"table\"}]}, \"layout\": {\"annotationdefaults\": {\"arrowcolor\": \"#2a3f5f\", \"arrowhead\": 0, \"arrowwidth\": 1}, \"autotypenumbers\": \"strict\", \"coloraxis\": {\"colorbar\": {\"outlinewidth\": 0, \"ticks\": \"\"}}, \"colorscale\": {\"diverging\": [[0, \"#8e0152\"], [0.1, \"#c51b7d\"], [0.2, \"#de77ae\"], [0.3, \"#f1b6da\"], [0.4, \"#fde0ef\"], [0.5, \"#f7f7f7\"], [0.6, \"#e6f5d0\"], [0.7, \"#b8e186\"], [0.8, \"#7fbc41\"], [0.9, \"#4d9221\"], [1, \"#276419\"]], \"sequential\": [[0.0, \"#0d0887\"], [0.1111111111111111, \"#46039f\"], [0.2222222222222222, \"#7201a8\"], [0.3333333333333333, \"#9c179e\"], [0.4444444444444444, \"#bd3786\"], [0.5555555555555556, \"#d8576b\"], [0.6666666666666666, \"#ed7953\"], [0.7777777777777778, \"#fb9f3a\"], [0.8888888888888888, \"#fdca26\"], [1.0, \"#f0f921\"]], \"sequentialminus\": [[0.0, \"#0d0887\"], [0.1111111111111111, \"#46039f\"], [0.2222222222222222, \"#7201a8\"], [0.3333333333333333, \"#9c179e\"], [0.4444444444444444, \"#bd3786\"], [0.5555555555555556, \"#d8576b\"], [0.6666666666666666, \"#ed7953\"], [0.7777777777777778, \"#fb9f3a\"], [0.8888888888888888, \"#fdca26\"], [1.0, \"#f0f921\"]]}, \"colorway\": [\"#636efa\", \"#EF553B\", \"#00cc96\", \"#ab63fa\", \"#FFA15A\", \"#19d3f3\", \"#FF6692\", \"#B6E880\", \"#FF97FF\", \"#FECB52\"], \"font\": {\"color\": \"#2a3f5f\"}, \"geo\": {\"bgcolor\": \"white\", \"lakecolor\": \"white\", \"landcolor\": \"#E5ECF6\", \"showlakes\": true, \"showland\": true, \"subunitcolor\": \"white\"}, \"hoverlabel\": {\"align\": \"left\"}, \"hovermode\": \"closest\", \"mapbox\": {\"style\": \"light\"}, \"paper_bgcolor\": \"white\", \"plot_bgcolor\": \"#E5ECF6\", \"polar\": {\"angularaxis\": {\"gridcolor\": \"white\", \"linecolor\": \"white\", \"ticks\": \"\"}, \"bgcolor\": \"#E5ECF6\", \"radialaxis\": {\"gridcolor\": \"white\", \"linecolor\": \"white\", \"ticks\": \"\"}}, \"scene\": {\"xaxis\": {\"backgroundcolor\": \"#E5ECF6\", \"gridcolor\": \"white\", \"gridwidth\": 2, \"linecolor\": \"white\", \"showbackground\": true, \"ticks\": \"\", \"zerolinecolor\": \"white\"}, \"yaxis\": {\"backgroundcolor\": \"#E5ECF6\", \"gridcolor\": \"white\", \"gridwidth\": 2, \"linecolor\": \"white\", \"showbackground\": true, \"ticks\": \"\", \"zerolinecolor\": \"white\"}, \"zaxis\": {\"backgroundcolor\": \"#E5ECF6\", \"gridcolor\": \"white\", \"gridwidth\": 2, \"linecolor\": \"white\", \"showbackground\": true, \"ticks\": \"\", \"zerolinecolor\": \"white\"}}, \"shapedefaults\": {\"line\": {\"color\": \"#2a3f5f\"}}, \"ternary\": {\"aaxis\": {\"gridcolor\": \"white\", \"linecolor\": \"white\", \"ticks\": \"\"}, \"baxis\": {\"gridcolor\": \"white\", \"linecolor\": \"white\", \"ticks\": \"\"}, \"bgcolor\": \"#E5ECF6\", \"caxis\": {\"gridcolor\": \"white\", \"linecolor\": \"white\", \"ticks\": \"\"}}, \"title\": {\"x\": 0.05}, \"xaxis\": {\"automargin\": true, \"gridcolor\": \"white\", \"linecolor\": \"white\", \"ticks\": \"\", \"title\": {\"standoff\": 15}, \"zerolinecolor\": \"white\", \"zerolinewidth\": 2}, \"yaxis\": {\"automargin\": true, \"gridcolor\": \"white\", \"linecolor\": \"white\", \"ticks\": \"\", \"title\": {\"standoff\": 15}, \"zerolinecolor\": \"white\", \"zerolinewidth\": 2}}}, \"title\": {\"text\": \"Covid-19 Cases Timeseries\"}, \"xaxis\": {\"title\": {\"text\": \"Date\"}}, \"yaxis\": {\"title\": {\"text\": \"Country\"}}},                        {\"responsive\": true}                    ).then(function(){\n                            \nvar gd = document.getElementById('927fc7fc-0285-4269-9577-c3849bb055e5');\nvar x = new MutationObserver(function (mutations, observer) {{\n        var display = window.getComputedStyle(gd).display;\n        if (!display || display === 'none') {{\n            console.log([gd, 'removed!']);\n            Plotly.purge(gd);\n            observer.disconnect();\n        }}\n}});\n\n// Listen for the removal of the full notebook cells\nvar notebookContainer = gd.closest('#notebook-container');\nif (notebookContainer) {{\n    x.observe(notebookContainer, {childList: true});\n}}\n\n// Listen for the clearing of the current output cell\nvar outputEl = gd.closest('.output');\nif (outputEl) {{\n    x.observe(outputEl, {childList: true});\n}}\n\n                        })                };                });            </script>        </div>"
         },
         "metadata": {},
         "output_type": "display_data"
        }
       ]
      }
     },
     "a707cb681c7b4d2db502d95483a56062": {
      "model_module": "@jupyter-widgets/controls",
      "model_module_version": "1.5.0",
      "model_name": "VBoxModel",
      "state": {
       "_dom_classes": [
        "widget-interact"
       ],
       "children": [
        "IPY_MODEL_6eccf0de998d4d47ae154a5c1016f6d6",
        "IPY_MODEL_7c354e54acf4479ab2a2fe6fbff9d3ba",
        "IPY_MODEL_c80520e5525d48808573672c31d2ba11"
       ],
       "layout": "IPY_MODEL_da6596def03a4af0adfde0066ee83c8e"
      }
     },
     "a91816cc605e40d2ba089d8fb403507d": {
      "model_module": "@jupyter-widgets/controls",
      "model_module_version": "1.5.0",
      "model_name": "IntSliderModel",
      "state": {
       "description": "number",
       "layout": "IPY_MODEL_d9a1fe98d2ed4794b55e981ac2105f1b",
       "max": 30,
       "min": 1,
       "style": "IPY_MODEL_d023050e383145abaf78f03c90f8bfc3",
       "value": 10
      }
     },
     "a9d45241e74449ab9176aff9480cbfae": {
      "model_module": "@jupyter-widgets/base",
      "model_module_version": "1.2.0",
      "model_name": "LayoutModel",
      "state": {}
     },
     "ab50e7346ca840b2be65ad8099e84780": {
      "model_module": "@jupyter-widgets/controls",
      "model_module_version": "1.5.0",
      "model_name": "VBoxModel",
      "state": {
       "_dom_classes": [
        "widget-interact"
       ],
       "children": [
        "IPY_MODEL_b3b2dd23237441a7b8b9181a4f90e857",
        "IPY_MODEL_8dc9481203854028ae83e809025ab629",
        "IPY_MODEL_db1c272d90ff497ba5c24d5f5f117cf3"
       ],
       "layout": "IPY_MODEL_38000e6d81f245de8ce1cb4f42d0be87"
      }
     },
     "ae0472b7ae43443d8a5e1fd330e249ce": {
      "model_module": "@jupyter-widgets/controls",
      "model_module_version": "1.5.0",
      "model_name": "VBoxModel",
      "state": {
       "_dom_classes": [
        "widget-interact"
       ],
       "children": [
        "IPY_MODEL_82bfb38c917e4d9b901b959b1f0c8088",
        "IPY_MODEL_e4d167e887f848168dfdf3f4d04c44f1",
        "IPY_MODEL_dff5f56976894aa4ae89b5c6246f0554"
       ],
       "layout": "IPY_MODEL_1f91688b0e4e49b0a0f824337edd7f18"
      }
     },
     "af6cc53954c1484b97b86920b5bf02c2": {
      "model_module": "@jupyter-widgets/base",
      "model_module_version": "1.2.0",
      "model_name": "LayoutModel",
      "state": {}
     },
     "af7de8104cba4f138e668f43bd0ae569": {
      "model_module": "@jupyter-widgets/base",
      "model_module_version": "1.2.0",
      "model_name": "LayoutModel",
      "state": {}
     },
     "af85346e2d8a4c8c8c64652fccd07710": {
      "model_module": "@jupyter-widgets/controls",
      "model_module_version": "1.5.0",
      "model_name": "DescriptionStyleModel",
      "state": {
       "description_width": ""
      }
     },
     "aff844e17ae342f0a2f859fd9879652e": {
      "model_module": "@jupyter-widgets/controls",
      "model_module_version": "1.5.0",
      "model_name": "VBoxModel",
      "state": {
       "_dom_classes": [
        "widget-interact"
       ],
       "children": [
        "IPY_MODEL_330ce59783f046de8fd32104adadcd1a",
        "IPY_MODEL_b2968c65b7a54167816d694829da40e4",
        "IPY_MODEL_b97dacd2f00b44b5850d4efd01f60ce4"
       ],
       "layout": "IPY_MODEL_30a9481fb9a64a8f9bd222b3491597fa"
      }
     },
     "b0a85042776d4f00b50a3e802bee176e": {
      "model_module": "@jupyter-widgets/controls",
      "model_module_version": "1.5.0",
      "model_name": "DescriptionStyleModel",
      "state": {
       "description_width": ""
      }
     },
     "b1f0f79a8b424ad19d73a37ea8d168e5": {
      "model_module": "@jupyter-widgets/base",
      "model_module_version": "1.2.0",
      "model_name": "LayoutModel",
      "state": {}
     },
     "b1f495c3bdea4b0ab4c2fa3c765a4b74": {
      "model_module": "@jupyter-widgets/base",
      "model_module_version": "1.2.0",
      "model_name": "LayoutModel",
      "state": {}
     },
     "b2700af34f674b268b9270ccfd9c8b96": {
      "model_module": "@jupyter-widgets/base",
      "model_module_version": "1.2.0",
      "model_name": "LayoutModel",
      "state": {}
     },
     "b2968c65b7a54167816d694829da40e4": {
      "model_module": "@jupyter-widgets/controls",
      "model_module_version": "1.5.0",
      "model_name": "DropdownModel",
      "state": {
       "_options_labels": [
        "Confirmed",
        "Recovered",
        "Death"
       ],
       "description": "content",
       "index": 0,
       "layout": "IPY_MODEL_e0b16a9facc44782b8c33dab27c907b0",
       "style": "IPY_MODEL_913dcb3da59644eb906179a27710a405"
      }
     },
     "b3b2dd23237441a7b8b9181a4f90e857": {
      "model_module": "@jupyter-widgets/controls",
      "model_module_version": "1.5.0",
      "model_name": "IntSliderModel",
      "state": {
       "description": "number",
       "layout": "IPY_MODEL_1dc90cf92ced476185876c39fc5771f0",
       "max": 30,
       "min": 1,
       "style": "IPY_MODEL_1d9a3d258b6e4d84b87fc9d042b99ad4",
       "value": 10
      }
     },
     "b60792556baa49a9b75e8df1a6a00874": {
      "model_module": "@jupyter-widgets/output",
      "model_module_version": "1.0.0",
      "model_name": "OutputModel",
      "state": {
       "layout": "IPY_MODEL_a9d45241e74449ab9176aff9480cbfae",
       "outputs": [
        {
         "data": {
          "application/vnd.plotly.v1+json": {
           "config": {
            "plotlyServerURL": "https://plot.ly"
           },
           "data": [
            {
             "alignmentgroup": "True",
             "customdata": [
              [
               22847637
              ]
             ],
             "hovertemplate": "country=%{x}<br>Confirmed=%{customdata[0]}<extra></extra>",
             "legendgroup": "US",
             "marker": {
              "color": "#636efa"
             },
             "name": "US",
             "offsetgroup": "US",
             "orientation": "v",
             "showlegend": true,
             "textposition": "auto",
             "type": "bar",
             "x": [
              "US"
             ],
             "xaxis": "x",
             "y": [
              22847637
             ],
             "yaxis": "y"
            },
            {
             "alignmentgroup": "True",
             "customdata": [
              [
               10495147
              ]
             ],
             "hovertemplate": "country=%{x}<br>Confirmed=%{customdata[0]}<extra></extra>",
             "legendgroup": "India",
             "marker": {
              "color": "#EF553B"
             },
             "name": "India",
             "offsetgroup": "India",
             "orientation": "v",
             "showlegend": true,
             "textposition": "auto",
             "type": "bar",
             "x": [
              "India"
             ],
             "xaxis": "x",
             "y": [
              10495147
             ],
             "yaxis": "y"
            },
            {
             "alignmentgroup": "True",
             "customdata": [
              [
               8195637
              ]
             ],
             "hovertemplate": "country=%{x}<br>Confirmed=%{customdata[0]}<extra></extra>",
             "legendgroup": "Brazil",
             "marker": {
              "color": "#00cc96"
             },
             "name": "Brazil",
             "offsetgroup": "Brazil",
             "orientation": "v",
             "showlegend": true,
             "textposition": "auto",
             "type": "bar",
             "x": [
              "Brazil"
             ],
             "xaxis": "x",
             "y": [
              8195637
             ],
             "yaxis": "y"
            },
            {
             "alignmentgroup": "True",
             "customdata": [
              [
               3412390
              ]
             ],
             "hovertemplate": "country=%{x}<br>Confirmed=%{customdata[0]}<extra></extra>",
             "legendgroup": "Russia",
             "marker": {
              "color": "#ab63fa"
             },
             "name": "Russia",
             "offsetgroup": "Russia",
             "orientation": "v",
             "showlegend": true,
             "textposition": "auto",
             "type": "bar",
             "x": [
              "Russia"
             ],
             "xaxis": "x",
             "y": [
              3412390
             ],
             "yaxis": "y"
            },
            {
             "alignmentgroup": "True",
             "customdata": [
              [
               3173291
              ]
             ],
             "hovertemplate": "country=%{x}<br>Confirmed=%{customdata[0]}<extra></extra>",
             "legendgroup": "United Kingdom",
             "marker": {
              "color": "#FFA15A"
             },
             "name": "United Kingdom",
             "offsetgroup": "United Kingdom",
             "orientation": "v",
             "showlegend": true,
             "textposition": "auto",
             "type": "bar",
             "x": [
              "United Kingdom"
             ],
             "xaxis": "x",
             "y": [
              3173291
             ],
             "yaxis": "y"
            },
            {
             "alignmentgroup": "True",
             "customdata": [
              [
               2864360
              ]
             ],
             "hovertemplate": "country=%{x}<br>Confirmed=%{customdata[0]}<extra></extra>",
             "legendgroup": "France",
             "marker": {
              "color": "#19d3f3"
             },
             "name": "France",
             "offsetgroup": "France",
             "orientation": "v",
             "showlegend": true,
             "textposition": "auto",
             "type": "bar",
             "x": [
              "France"
             ],
             "xaxis": "x",
             "y": [
              2864360
             ],
             "yaxis": "y"
            },
            {
             "alignmentgroup": "True",
             "customdata": [
              [
               2346285
              ]
             ],
             "hovertemplate": "country=%{x}<br>Confirmed=%{customdata[0]}<extra></extra>",
             "legendgroup": "Turkey",
             "marker": {
              "color": "#FF6692"
             },
             "name": "Turkey",
             "offsetgroup": "Turkey",
             "orientation": "v",
             "showlegend": true,
             "textposition": "auto",
             "type": "bar",
             "x": [
              "Turkey"
             ],
             "xaxis": "x",
             "y": [
              2346285
             ],
             "yaxis": "y"
            },
            {
             "alignmentgroup": "True",
             "customdata": [
              [
               2303263
              ]
             ],
             "hovertemplate": "country=%{x}<br>Confirmed=%{customdata[0]}<extra></extra>",
             "legendgroup": "Italy",
             "marker": {
              "color": "#B6E880"
             },
             "name": "Italy",
             "offsetgroup": "Italy",
             "orientation": "v",
             "showlegend": true,
             "textposition": "auto",
             "type": "bar",
             "x": [
              "Italy"
             ],
             "xaxis": "x",
             "y": [
              2303263
             ],
             "yaxis": "y"
            },
            {
             "alignmentgroup": "True",
             "customdata": [
              [
               2137220
              ]
             ],
             "hovertemplate": "country=%{x}<br>Confirmed=%{customdata[0]}<extra></extra>",
             "legendgroup": "Spain",
             "marker": {
              "color": "#FF97FF"
             },
             "name": "Spain",
             "offsetgroup": "Spain",
             "orientation": "v",
             "showlegend": true,
             "textposition": "auto",
             "type": "bar",
             "x": [
              "Spain"
             ],
             "xaxis": "x",
             "y": [
              2137220
             ],
             "yaxis": "y"
            },
            {
             "alignmentgroup": "True",
             "customdata": [
              [
               1968326
              ]
             ],
             "hovertemplate": "country=%{x}<br>Confirmed=%{customdata[0]}<extra></extra>",
             "legendgroup": "Germany",
             "marker": {
              "color": "#FECB52"
             },
             "name": "Germany",
             "offsetgroup": "Germany",
             "orientation": "v",
             "showlegend": true,
             "textposition": "auto",
             "type": "bar",
             "x": [
              "Germany"
             ],
             "xaxis": "x",
             "y": [
              1968326
             ],
             "yaxis": "y"
            }
           ],
           "layout": {
            "barmode": "relative",
            "height": 400,
            "legend": {
             "title": {
              "text": "country"
             },
             "tracegroupgap": 0
            },
            "template": {
             "data": {
              "bar": [
               {
                "error_x": {
                 "color": "#2a3f5f"
                },
                "error_y": {
                 "color": "#2a3f5f"
                },
                "marker": {
                 "line": {
                  "color": "#E5ECF6",
                  "width": 0.5
                 }
                },
                "type": "bar"
               }
              ],
              "barpolar": [
               {
                "marker": {
                 "line": {
                  "color": "#E5ECF6",
                  "width": 0.5
                 }
                },
                "type": "barpolar"
               }
              ],
              "carpet": [
               {
                "aaxis": {
                 "endlinecolor": "#2a3f5f",
                 "gridcolor": "white",
                 "linecolor": "white",
                 "minorgridcolor": "white",
                 "startlinecolor": "#2a3f5f"
                },
                "baxis": {
                 "endlinecolor": "#2a3f5f",
                 "gridcolor": "white",
                 "linecolor": "white",
                 "minorgridcolor": "white",
                 "startlinecolor": "#2a3f5f"
                },
                "type": "carpet"
               }
              ],
              "choropleth": [
               {
                "colorbar": {
                 "outlinewidth": 0,
                 "ticks": ""
                },
                "type": "choropleth"
               }
              ],
              "contour": [
               {
                "colorbar": {
                 "outlinewidth": 0,
                 "ticks": ""
                },
                "colorscale": [
                 [
                  0,
                  "#0d0887"
                 ],
                 [
                  0.1111111111111111,
                  "#46039f"
                 ],
                 [
                  0.2222222222222222,
                  "#7201a8"
                 ],
                 [
                  0.3333333333333333,
                  "#9c179e"
                 ],
                 [
                  0.4444444444444444,
                  "#bd3786"
                 ],
                 [
                  0.5555555555555556,
                  "#d8576b"
                 ],
                 [
                  0.6666666666666666,
                  "#ed7953"
                 ],
                 [
                  0.7777777777777778,
                  "#fb9f3a"
                 ],
                 [
                  0.8888888888888888,
                  "#fdca26"
                 ],
                 [
                  1,
                  "#f0f921"
                 ]
                ],
                "type": "contour"
               }
              ],
              "contourcarpet": [
               {
                "colorbar": {
                 "outlinewidth": 0,
                 "ticks": ""
                },
                "type": "contourcarpet"
               }
              ],
              "heatmap": [
               {
                "colorbar": {
                 "outlinewidth": 0,
                 "ticks": ""
                },
                "colorscale": [
                 [
                  0,
                  "#0d0887"
                 ],
                 [
                  0.1111111111111111,
                  "#46039f"
                 ],
                 [
                  0.2222222222222222,
                  "#7201a8"
                 ],
                 [
                  0.3333333333333333,
                  "#9c179e"
                 ],
                 [
                  0.4444444444444444,
                  "#bd3786"
                 ],
                 [
                  0.5555555555555556,
                  "#d8576b"
                 ],
                 [
                  0.6666666666666666,
                  "#ed7953"
                 ],
                 [
                  0.7777777777777778,
                  "#fb9f3a"
                 ],
                 [
                  0.8888888888888888,
                  "#fdca26"
                 ],
                 [
                  1,
                  "#f0f921"
                 ]
                ],
                "type": "heatmap"
               }
              ],
              "heatmapgl": [
               {
                "colorbar": {
                 "outlinewidth": 0,
                 "ticks": ""
                },
                "colorscale": [
                 [
                  0,
                  "#0d0887"
                 ],
                 [
                  0.1111111111111111,
                  "#46039f"
                 ],
                 [
                  0.2222222222222222,
                  "#7201a8"
                 ],
                 [
                  0.3333333333333333,
                  "#9c179e"
                 ],
                 [
                  0.4444444444444444,
                  "#bd3786"
                 ],
                 [
                  0.5555555555555556,
                  "#d8576b"
                 ],
                 [
                  0.6666666666666666,
                  "#ed7953"
                 ],
                 [
                  0.7777777777777778,
                  "#fb9f3a"
                 ],
                 [
                  0.8888888888888888,
                  "#fdca26"
                 ],
                 [
                  1,
                  "#f0f921"
                 ]
                ],
                "type": "heatmapgl"
               }
              ],
              "histogram": [
               {
                "marker": {
                 "colorbar": {
                  "outlinewidth": 0,
                  "ticks": ""
                 }
                },
                "type": "histogram"
               }
              ],
              "histogram2d": [
               {
                "colorbar": {
                 "outlinewidth": 0,
                 "ticks": ""
                },
                "colorscale": [
                 [
                  0,
                  "#0d0887"
                 ],
                 [
                  0.1111111111111111,
                  "#46039f"
                 ],
                 [
                  0.2222222222222222,
                  "#7201a8"
                 ],
                 [
                  0.3333333333333333,
                  "#9c179e"
                 ],
                 [
                  0.4444444444444444,
                  "#bd3786"
                 ],
                 [
                  0.5555555555555556,
                  "#d8576b"
                 ],
                 [
                  0.6666666666666666,
                  "#ed7953"
                 ],
                 [
                  0.7777777777777778,
                  "#fb9f3a"
                 ],
                 [
                  0.8888888888888888,
                  "#fdca26"
                 ],
                 [
                  1,
                  "#f0f921"
                 ]
                ],
                "type": "histogram2d"
               }
              ],
              "histogram2dcontour": [
               {
                "colorbar": {
                 "outlinewidth": 0,
                 "ticks": ""
                },
                "colorscale": [
                 [
                  0,
                  "#0d0887"
                 ],
                 [
                  0.1111111111111111,
                  "#46039f"
                 ],
                 [
                  0.2222222222222222,
                  "#7201a8"
                 ],
                 [
                  0.3333333333333333,
                  "#9c179e"
                 ],
                 [
                  0.4444444444444444,
                  "#bd3786"
                 ],
                 [
                  0.5555555555555556,
                  "#d8576b"
                 ],
                 [
                  0.6666666666666666,
                  "#ed7953"
                 ],
                 [
                  0.7777777777777778,
                  "#fb9f3a"
                 ],
                 [
                  0.8888888888888888,
                  "#fdca26"
                 ],
                 [
                  1,
                  "#f0f921"
                 ]
                ],
                "type": "histogram2dcontour"
               }
              ],
              "mesh3d": [
               {
                "colorbar": {
                 "outlinewidth": 0,
                 "ticks": ""
                },
                "type": "mesh3d"
               }
              ],
              "parcoords": [
               {
                "line": {
                 "colorbar": {
                  "outlinewidth": 0,
                  "ticks": ""
                 }
                },
                "type": "parcoords"
               }
              ],
              "pie": [
               {
                "automargin": true,
                "type": "pie"
               }
              ],
              "scatter": [
               {
                "marker": {
                 "colorbar": {
                  "outlinewidth": 0,
                  "ticks": ""
                 }
                },
                "type": "scatter"
               }
              ],
              "scatter3d": [
               {
                "line": {
                 "colorbar": {
                  "outlinewidth": 0,
                  "ticks": ""
                 }
                },
                "marker": {
                 "colorbar": {
                  "outlinewidth": 0,
                  "ticks": ""
                 }
                },
                "type": "scatter3d"
               }
              ],
              "scattercarpet": [
               {
                "marker": {
                 "colorbar": {
                  "outlinewidth": 0,
                  "ticks": ""
                 }
                },
                "type": "scattercarpet"
               }
              ],
              "scattergeo": [
               {
                "marker": {
                 "colorbar": {
                  "outlinewidth": 0,
                  "ticks": ""
                 }
                },
                "type": "scattergeo"
               }
              ],
              "scattergl": [
               {
                "marker": {
                 "colorbar": {
                  "outlinewidth": 0,
                  "ticks": ""
                 }
                },
                "type": "scattergl"
               }
              ],
              "scattermapbox": [
               {
                "marker": {
                 "colorbar": {
                  "outlinewidth": 0,
                  "ticks": ""
                 }
                },
                "type": "scattermapbox"
               }
              ],
              "scatterpolar": [
               {
                "marker": {
                 "colorbar": {
                  "outlinewidth": 0,
                  "ticks": ""
                 }
                },
                "type": "scatterpolar"
               }
              ],
              "scatterpolargl": [
               {
                "marker": {
                 "colorbar": {
                  "outlinewidth": 0,
                  "ticks": ""
                 }
                },
                "type": "scatterpolargl"
               }
              ],
              "scatterternary": [
               {
                "marker": {
                 "colorbar": {
                  "outlinewidth": 0,
                  "ticks": ""
                 }
                },
                "type": "scatterternary"
               }
              ],
              "surface": [
               {
                "colorbar": {
                 "outlinewidth": 0,
                 "ticks": ""
                },
                "colorscale": [
                 [
                  0,
                  "#0d0887"
                 ],
                 [
                  0.1111111111111111,
                  "#46039f"
                 ],
                 [
                  0.2222222222222222,
                  "#7201a8"
                 ],
                 [
                  0.3333333333333333,
                  "#9c179e"
                 ],
                 [
                  0.4444444444444444,
                  "#bd3786"
                 ],
                 [
                  0.5555555555555556,
                  "#d8576b"
                 ],
                 [
                  0.6666666666666666,
                  "#ed7953"
                 ],
                 [
                  0.7777777777777778,
                  "#fb9f3a"
                 ],
                 [
                  0.8888888888888888,
                  "#fdca26"
                 ],
                 [
                  1,
                  "#f0f921"
                 ]
                ],
                "type": "surface"
               }
              ],
              "table": [
               {
                "cells": {
                 "fill": {
                  "color": "#EBF0F8"
                 },
                 "line": {
                  "color": "white"
                 }
                },
                "header": {
                 "fill": {
                  "color": "#C8D4E3"
                 },
                 "line": {
                  "color": "white"
                 }
                },
                "type": "table"
               }
              ]
             },
             "layout": {
              "annotationdefaults": {
               "arrowcolor": "#2a3f5f",
               "arrowhead": 0,
               "arrowwidth": 1
              },
              "autotypenumbers": "strict",
              "coloraxis": {
               "colorbar": {
                "outlinewidth": 0,
                "ticks": ""
               }
              },
              "colorscale": {
               "diverging": [
                [
                 0,
                 "#8e0152"
                ],
                [
                 0.1,
                 "#c51b7d"
                ],
                [
                 0.2,
                 "#de77ae"
                ],
                [
                 0.3,
                 "#f1b6da"
                ],
                [
                 0.4,
                 "#fde0ef"
                ],
                [
                 0.5,
                 "#f7f7f7"
                ],
                [
                 0.6,
                 "#e6f5d0"
                ],
                [
                 0.7,
                 "#b8e186"
                ],
                [
                 0.8,
                 "#7fbc41"
                ],
                [
                 0.9,
                 "#4d9221"
                ],
                [
                 1,
                 "#276419"
                ]
               ],
               "sequential": [
                [
                 0,
                 "#0d0887"
                ],
                [
                 0.1111111111111111,
                 "#46039f"
                ],
                [
                 0.2222222222222222,
                 "#7201a8"
                ],
                [
                 0.3333333333333333,
                 "#9c179e"
                ],
                [
                 0.4444444444444444,
                 "#bd3786"
                ],
                [
                 0.5555555555555556,
                 "#d8576b"
                ],
                [
                 0.6666666666666666,
                 "#ed7953"
                ],
                [
                 0.7777777777777778,
                 "#fb9f3a"
                ],
                [
                 0.8888888888888888,
                 "#fdca26"
                ],
                [
                 1,
                 "#f0f921"
                ]
               ],
               "sequentialminus": [
                [
                 0,
                 "#0d0887"
                ],
                [
                 0.1111111111111111,
                 "#46039f"
                ],
                [
                 0.2222222222222222,
                 "#7201a8"
                ],
                [
                 0.3333333333333333,
                 "#9c179e"
                ],
                [
                 0.4444444444444444,
                 "#bd3786"
                ],
                [
                 0.5555555555555556,
                 "#d8576b"
                ],
                [
                 0.6666666666666666,
                 "#ed7953"
                ],
                [
                 0.7777777777777778,
                 "#fb9f3a"
                ],
                [
                 0.8888888888888888,
                 "#fdca26"
                ],
                [
                 1,
                 "#f0f921"
                ]
               ]
              },
              "colorway": [
               "#636efa",
               "#EF553B",
               "#00cc96",
               "#ab63fa",
               "#FFA15A",
               "#19d3f3",
               "#FF6692",
               "#B6E880",
               "#FF97FF",
               "#FECB52"
              ],
              "font": {
               "color": "#2a3f5f"
              },
              "geo": {
               "bgcolor": "white",
               "lakecolor": "white",
               "landcolor": "#E5ECF6",
               "showlakes": true,
               "showland": true,
               "subunitcolor": "white"
              },
              "hoverlabel": {
               "align": "left"
              },
              "hovermode": "closest",
              "mapbox": {
               "style": "light"
              },
              "paper_bgcolor": "white",
              "plot_bgcolor": "#E5ECF6",
              "polar": {
               "angularaxis": {
                "gridcolor": "white",
                "linecolor": "white",
                "ticks": ""
               },
               "bgcolor": "#E5ECF6",
               "radialaxis": {
                "gridcolor": "white",
                "linecolor": "white",
                "ticks": ""
               }
              },
              "scene": {
               "xaxis": {
                "backgroundcolor": "#E5ECF6",
                "gridcolor": "white",
                "gridwidth": 2,
                "linecolor": "white",
                "showbackground": true,
                "ticks": "",
                "zerolinecolor": "white"
               },
               "yaxis": {
                "backgroundcolor": "#E5ECF6",
                "gridcolor": "white",
                "gridwidth": 2,
                "linecolor": "white",
                "showbackground": true,
                "ticks": "",
                "zerolinecolor": "white"
               },
               "zaxis": {
                "backgroundcolor": "#E5ECF6",
                "gridcolor": "white",
                "gridwidth": 2,
                "linecolor": "white",
                "showbackground": true,
                "ticks": "",
                "zerolinecolor": "white"
               }
              },
              "shapedefaults": {
               "line": {
                "color": "#2a3f5f"
               }
              },
              "ternary": {
               "aaxis": {
                "gridcolor": "white",
                "linecolor": "white",
                "ticks": ""
               },
               "baxis": {
                "gridcolor": "white",
                "linecolor": "white",
                "ticks": ""
               },
               "bgcolor": "#E5ECF6",
               "caxis": {
                "gridcolor": "white",
                "linecolor": "white",
                "ticks": ""
               }
              },
              "title": {
               "x": 0.05
              },
              "xaxis": {
               "automargin": true,
               "gridcolor": "white",
               "linecolor": "white",
               "ticks": "",
               "title": {
                "standoff": 15
               },
               "zerolinecolor": "white",
               "zerolinewidth": 2
              },
              "yaxis": {
               "automargin": true,
               "gridcolor": "white",
               "linecolor": "white",
               "ticks": "",
               "title": {
                "standoff": 15
               },
               "zerolinecolor": "white",
               "zerolinewidth": 2
              }
             }
            },
            "title": {
             "text": "Top infected Countries"
            },
            "xaxis": {
             "anchor": "y",
             "categoryarray": [
              "US",
              "India",
              "Brazil",
              "Russia",
              "United Kingdom",
              "France",
              "Turkey",
              "Italy",
              "Spain",
              "Germany"
             ],
             "categoryorder": "array",
             "domain": [
              0,
              1
             ],
             "title": {
              "text": "country"
             }
            },
            "yaxis": {
             "anchor": "x",
             "domain": [
              0,
              1
             ],
             "title": {
              "text": "Confirmed"
             }
            }
           }
          },
          "text/html": "<div>                            <div id=\"e57ddf7c-bdd1-4a4b-89cb-f29879b599dd\" class=\"plotly-graph-div\" style=\"height:400px; width:100%;\"></div>            <script type=\"text/javascript\">                require([\"plotly\"], function(Plotly) {                    window.PLOTLYENV=window.PLOTLYENV || {};                                    if (document.getElementById(\"e57ddf7c-bdd1-4a4b-89cb-f29879b599dd\")) {                    Plotly.newPlot(                        \"e57ddf7c-bdd1-4a4b-89cb-f29879b599dd\",                        [{\"alignmentgroup\": \"True\", \"customdata\": [[22847637]], \"hovertemplate\": \"country=%{x}<br>Confirmed=%{customdata[0]}<extra></extra>\", \"legendgroup\": \"US\", \"marker\": {\"color\": \"#636efa\"}, \"name\": \"US\", \"offsetgroup\": \"US\", \"orientation\": \"v\", \"showlegend\": true, \"textposition\": \"auto\", \"type\": \"bar\", \"x\": [\"US\"], \"xaxis\": \"x\", \"y\": [22847637], \"yaxis\": \"y\"}, {\"alignmentgroup\": \"True\", \"customdata\": [[10495147]], \"hovertemplate\": \"country=%{x}<br>Confirmed=%{customdata[0]}<extra></extra>\", \"legendgroup\": \"India\", \"marker\": {\"color\": \"#EF553B\"}, \"name\": \"India\", \"offsetgroup\": \"India\", \"orientation\": \"v\", \"showlegend\": true, \"textposition\": \"auto\", \"type\": \"bar\", \"x\": [\"India\"], \"xaxis\": \"x\", \"y\": [10495147], \"yaxis\": \"y\"}, {\"alignmentgroup\": \"True\", \"customdata\": [[8195637]], \"hovertemplate\": \"country=%{x}<br>Confirmed=%{customdata[0]}<extra></extra>\", \"legendgroup\": \"Brazil\", \"marker\": {\"color\": \"#00cc96\"}, \"name\": \"Brazil\", \"offsetgroup\": \"Brazil\", \"orientation\": \"v\", \"showlegend\": true, \"textposition\": \"auto\", \"type\": \"bar\", \"x\": [\"Brazil\"], \"xaxis\": \"x\", \"y\": [8195637], \"yaxis\": \"y\"}, {\"alignmentgroup\": \"True\", \"customdata\": [[3412390]], \"hovertemplate\": \"country=%{x}<br>Confirmed=%{customdata[0]}<extra></extra>\", \"legendgroup\": \"Russia\", \"marker\": {\"color\": \"#ab63fa\"}, \"name\": \"Russia\", \"offsetgroup\": \"Russia\", \"orientation\": \"v\", \"showlegend\": true, \"textposition\": \"auto\", \"type\": \"bar\", \"x\": [\"Russia\"], \"xaxis\": \"x\", \"y\": [3412390], \"yaxis\": \"y\"}, {\"alignmentgroup\": \"True\", \"customdata\": [[3173291]], \"hovertemplate\": \"country=%{x}<br>Confirmed=%{customdata[0]}<extra></extra>\", \"legendgroup\": \"United Kingdom\", \"marker\": {\"color\": \"#FFA15A\"}, \"name\": \"United Kingdom\", \"offsetgroup\": \"United Kingdom\", \"orientation\": \"v\", \"showlegend\": true, \"textposition\": \"auto\", \"type\": \"bar\", \"x\": [\"United Kingdom\"], \"xaxis\": \"x\", \"y\": [3173291], \"yaxis\": \"y\"}, {\"alignmentgroup\": \"True\", \"customdata\": [[2864360]], \"hovertemplate\": \"country=%{x}<br>Confirmed=%{customdata[0]}<extra></extra>\", \"legendgroup\": \"France\", \"marker\": {\"color\": \"#19d3f3\"}, \"name\": \"France\", \"offsetgroup\": \"France\", \"orientation\": \"v\", \"showlegend\": true, \"textposition\": \"auto\", \"type\": \"bar\", \"x\": [\"France\"], \"xaxis\": \"x\", \"y\": [2864360], \"yaxis\": \"y\"}, {\"alignmentgroup\": \"True\", \"customdata\": [[2346285]], \"hovertemplate\": \"country=%{x}<br>Confirmed=%{customdata[0]}<extra></extra>\", \"legendgroup\": \"Turkey\", \"marker\": {\"color\": \"#FF6692\"}, \"name\": \"Turkey\", \"offsetgroup\": \"Turkey\", \"orientation\": \"v\", \"showlegend\": true, \"textposition\": \"auto\", \"type\": \"bar\", \"x\": [\"Turkey\"], \"xaxis\": \"x\", \"y\": [2346285], \"yaxis\": \"y\"}, {\"alignmentgroup\": \"True\", \"customdata\": [[2303263]], \"hovertemplate\": \"country=%{x}<br>Confirmed=%{customdata[0]}<extra></extra>\", \"legendgroup\": \"Italy\", \"marker\": {\"color\": \"#B6E880\"}, \"name\": \"Italy\", \"offsetgroup\": \"Italy\", \"orientation\": \"v\", \"showlegend\": true, \"textposition\": \"auto\", \"type\": \"bar\", \"x\": [\"Italy\"], \"xaxis\": \"x\", \"y\": [2303263], \"yaxis\": \"y\"}, {\"alignmentgroup\": \"True\", \"customdata\": [[2137220]], \"hovertemplate\": \"country=%{x}<br>Confirmed=%{customdata[0]}<extra></extra>\", \"legendgroup\": \"Spain\", \"marker\": {\"color\": \"#FF97FF\"}, \"name\": \"Spain\", \"offsetgroup\": \"Spain\", \"orientation\": \"v\", \"showlegend\": true, \"textposition\": \"auto\", \"type\": \"bar\", \"x\": [\"Spain\"], \"xaxis\": \"x\", \"y\": [2137220], \"yaxis\": \"y\"}, {\"alignmentgroup\": \"True\", \"customdata\": [[1968326]], \"hovertemplate\": \"country=%{x}<br>Confirmed=%{customdata[0]}<extra></extra>\", \"legendgroup\": \"Germany\", \"marker\": {\"color\": \"#FECB52\"}, \"name\": \"Germany\", \"offsetgroup\": \"Germany\", \"orientation\": \"v\", \"showlegend\": true, \"textposition\": \"auto\", \"type\": \"bar\", \"x\": [\"Germany\"], \"xaxis\": \"x\", \"y\": [1968326], \"yaxis\": \"y\"}],                        {\"barmode\": \"relative\", \"height\": 400, \"legend\": {\"title\": {\"text\": \"country\"}, \"tracegroupgap\": 0}, \"template\": {\"data\": {\"bar\": [{\"error_x\": {\"color\": \"#2a3f5f\"}, \"error_y\": {\"color\": \"#2a3f5f\"}, \"marker\": {\"line\": {\"color\": \"#E5ECF6\", \"width\": 0.5}}, \"type\": \"bar\"}], \"barpolar\": [{\"marker\": {\"line\": {\"color\": \"#E5ECF6\", \"width\": 0.5}}, \"type\": \"barpolar\"}], \"carpet\": [{\"aaxis\": {\"endlinecolor\": \"#2a3f5f\", \"gridcolor\": \"white\", \"linecolor\": \"white\", \"minorgridcolor\": \"white\", \"startlinecolor\": \"#2a3f5f\"}, \"baxis\": {\"endlinecolor\": \"#2a3f5f\", \"gridcolor\": \"white\", \"linecolor\": \"white\", \"minorgridcolor\": \"white\", \"startlinecolor\": \"#2a3f5f\"}, \"type\": \"carpet\"}], \"choropleth\": [{\"colorbar\": {\"outlinewidth\": 0, \"ticks\": \"\"}, \"type\": \"choropleth\"}], \"contour\": [{\"colorbar\": {\"outlinewidth\": 0, \"ticks\": \"\"}, \"colorscale\": [[0.0, \"#0d0887\"], [0.1111111111111111, \"#46039f\"], [0.2222222222222222, \"#7201a8\"], [0.3333333333333333, \"#9c179e\"], [0.4444444444444444, \"#bd3786\"], [0.5555555555555556, \"#d8576b\"], [0.6666666666666666, \"#ed7953\"], [0.7777777777777778, \"#fb9f3a\"], [0.8888888888888888, \"#fdca26\"], [1.0, \"#f0f921\"]], \"type\": \"contour\"}], \"contourcarpet\": [{\"colorbar\": {\"outlinewidth\": 0, \"ticks\": \"\"}, \"type\": \"contourcarpet\"}], \"heatmap\": [{\"colorbar\": {\"outlinewidth\": 0, \"ticks\": \"\"}, \"colorscale\": [[0.0, \"#0d0887\"], [0.1111111111111111, \"#46039f\"], [0.2222222222222222, \"#7201a8\"], [0.3333333333333333, \"#9c179e\"], [0.4444444444444444, \"#bd3786\"], [0.5555555555555556, \"#d8576b\"], [0.6666666666666666, \"#ed7953\"], [0.7777777777777778, \"#fb9f3a\"], [0.8888888888888888, \"#fdca26\"], [1.0, \"#f0f921\"]], \"type\": \"heatmap\"}], \"heatmapgl\": [{\"colorbar\": {\"outlinewidth\": 0, \"ticks\": \"\"}, \"colorscale\": [[0.0, \"#0d0887\"], [0.1111111111111111, \"#46039f\"], [0.2222222222222222, \"#7201a8\"], [0.3333333333333333, \"#9c179e\"], [0.4444444444444444, \"#bd3786\"], [0.5555555555555556, \"#d8576b\"], [0.6666666666666666, \"#ed7953\"], [0.7777777777777778, \"#fb9f3a\"], [0.8888888888888888, \"#fdca26\"], [1.0, \"#f0f921\"]], \"type\": \"heatmapgl\"}], \"histogram\": [{\"marker\": {\"colorbar\": {\"outlinewidth\": 0, \"ticks\": \"\"}}, \"type\": \"histogram\"}], \"histogram2d\": [{\"colorbar\": {\"outlinewidth\": 0, \"ticks\": \"\"}, \"colorscale\": [[0.0, \"#0d0887\"], [0.1111111111111111, \"#46039f\"], [0.2222222222222222, \"#7201a8\"], [0.3333333333333333, \"#9c179e\"], [0.4444444444444444, \"#bd3786\"], [0.5555555555555556, \"#d8576b\"], [0.6666666666666666, \"#ed7953\"], [0.7777777777777778, \"#fb9f3a\"], [0.8888888888888888, \"#fdca26\"], [1.0, \"#f0f921\"]], \"type\": \"histogram2d\"}], \"histogram2dcontour\": [{\"colorbar\": {\"outlinewidth\": 0, \"ticks\": \"\"}, \"colorscale\": [[0.0, \"#0d0887\"], [0.1111111111111111, \"#46039f\"], [0.2222222222222222, \"#7201a8\"], [0.3333333333333333, \"#9c179e\"], [0.4444444444444444, \"#bd3786\"], [0.5555555555555556, \"#d8576b\"], [0.6666666666666666, \"#ed7953\"], [0.7777777777777778, \"#fb9f3a\"], [0.8888888888888888, \"#fdca26\"], [1.0, \"#f0f921\"]], \"type\": \"histogram2dcontour\"}], \"mesh3d\": [{\"colorbar\": {\"outlinewidth\": 0, \"ticks\": \"\"}, \"type\": \"mesh3d\"}], \"parcoords\": [{\"line\": {\"colorbar\": {\"outlinewidth\": 0, \"ticks\": \"\"}}, \"type\": \"parcoords\"}], \"pie\": [{\"automargin\": true, \"type\": \"pie\"}], \"scatter\": [{\"marker\": {\"colorbar\": {\"outlinewidth\": 0, \"ticks\": \"\"}}, \"type\": \"scatter\"}], \"scatter3d\": [{\"line\": {\"colorbar\": {\"outlinewidth\": 0, \"ticks\": \"\"}}, \"marker\": {\"colorbar\": {\"outlinewidth\": 0, \"ticks\": \"\"}}, \"type\": \"scatter3d\"}], \"scattercarpet\": [{\"marker\": {\"colorbar\": {\"outlinewidth\": 0, \"ticks\": \"\"}}, \"type\": \"scattercarpet\"}], \"scattergeo\": [{\"marker\": {\"colorbar\": {\"outlinewidth\": 0, \"ticks\": \"\"}}, \"type\": \"scattergeo\"}], \"scattergl\": [{\"marker\": {\"colorbar\": {\"outlinewidth\": 0, \"ticks\": \"\"}}, \"type\": \"scattergl\"}], \"scattermapbox\": [{\"marker\": {\"colorbar\": {\"outlinewidth\": 0, \"ticks\": \"\"}}, \"type\": \"scattermapbox\"}], \"scatterpolar\": [{\"marker\": {\"colorbar\": {\"outlinewidth\": 0, \"ticks\": \"\"}}, \"type\": \"scatterpolar\"}], \"scatterpolargl\": [{\"marker\": {\"colorbar\": {\"outlinewidth\": 0, \"ticks\": \"\"}}, \"type\": \"scatterpolargl\"}], \"scatterternary\": [{\"marker\": {\"colorbar\": {\"outlinewidth\": 0, \"ticks\": \"\"}}, \"type\": \"scatterternary\"}], \"surface\": [{\"colorbar\": {\"outlinewidth\": 0, \"ticks\": \"\"}, \"colorscale\": [[0.0, \"#0d0887\"], [0.1111111111111111, \"#46039f\"], [0.2222222222222222, \"#7201a8\"], [0.3333333333333333, \"#9c179e\"], [0.4444444444444444, \"#bd3786\"], [0.5555555555555556, \"#d8576b\"], [0.6666666666666666, \"#ed7953\"], [0.7777777777777778, \"#fb9f3a\"], [0.8888888888888888, \"#fdca26\"], [1.0, \"#f0f921\"]], \"type\": \"surface\"}], \"table\": [{\"cells\": {\"fill\": {\"color\": \"#EBF0F8\"}, \"line\": {\"color\": \"white\"}}, \"header\": {\"fill\": {\"color\": \"#C8D4E3\"}, \"line\": {\"color\": \"white\"}}, \"type\": \"table\"}]}, \"layout\": {\"annotationdefaults\": {\"arrowcolor\": \"#2a3f5f\", \"arrowhead\": 0, \"arrowwidth\": 1}, \"autotypenumbers\": \"strict\", \"coloraxis\": {\"colorbar\": {\"outlinewidth\": 0, \"ticks\": \"\"}}, \"colorscale\": {\"diverging\": [[0, \"#8e0152\"], [0.1, \"#c51b7d\"], [0.2, \"#de77ae\"], [0.3, \"#f1b6da\"], [0.4, \"#fde0ef\"], [0.5, \"#f7f7f7\"], [0.6, \"#e6f5d0\"], [0.7, \"#b8e186\"], [0.8, \"#7fbc41\"], [0.9, \"#4d9221\"], [1, \"#276419\"]], \"sequential\": [[0.0, \"#0d0887\"], [0.1111111111111111, \"#46039f\"], [0.2222222222222222, \"#7201a8\"], [0.3333333333333333, \"#9c179e\"], [0.4444444444444444, \"#bd3786\"], [0.5555555555555556, \"#d8576b\"], [0.6666666666666666, \"#ed7953\"], [0.7777777777777778, \"#fb9f3a\"], [0.8888888888888888, \"#fdca26\"], [1.0, \"#f0f921\"]], \"sequentialminus\": [[0.0, \"#0d0887\"], [0.1111111111111111, \"#46039f\"], [0.2222222222222222, \"#7201a8\"], [0.3333333333333333, \"#9c179e\"], [0.4444444444444444, \"#bd3786\"], [0.5555555555555556, \"#d8576b\"], [0.6666666666666666, \"#ed7953\"], [0.7777777777777778, \"#fb9f3a\"], [0.8888888888888888, \"#fdca26\"], [1.0, \"#f0f921\"]]}, \"colorway\": [\"#636efa\", \"#EF553B\", \"#00cc96\", \"#ab63fa\", \"#FFA15A\", \"#19d3f3\", \"#FF6692\", \"#B6E880\", \"#FF97FF\", \"#FECB52\"], \"font\": {\"color\": \"#2a3f5f\"}, \"geo\": {\"bgcolor\": \"white\", \"lakecolor\": \"white\", \"landcolor\": \"#E5ECF6\", \"showlakes\": true, \"showland\": true, \"subunitcolor\": \"white\"}, \"hoverlabel\": {\"align\": \"left\"}, \"hovermode\": \"closest\", \"mapbox\": {\"style\": \"light\"}, \"paper_bgcolor\": \"white\", \"plot_bgcolor\": \"#E5ECF6\", \"polar\": {\"angularaxis\": {\"gridcolor\": \"white\", \"linecolor\": \"white\", \"ticks\": \"\"}, \"bgcolor\": \"#E5ECF6\", \"radialaxis\": {\"gridcolor\": \"white\", \"linecolor\": \"white\", \"ticks\": \"\"}}, \"scene\": {\"xaxis\": {\"backgroundcolor\": \"#E5ECF6\", \"gridcolor\": \"white\", \"gridwidth\": 2, \"linecolor\": \"white\", \"showbackground\": true, \"ticks\": \"\", \"zerolinecolor\": \"white\"}, \"yaxis\": {\"backgroundcolor\": \"#E5ECF6\", \"gridcolor\": \"white\", \"gridwidth\": 2, \"linecolor\": \"white\", \"showbackground\": true, \"ticks\": \"\", \"zerolinecolor\": \"white\"}, \"zaxis\": {\"backgroundcolor\": \"#E5ECF6\", \"gridcolor\": \"white\", \"gridwidth\": 2, \"linecolor\": \"white\", \"showbackground\": true, \"ticks\": \"\", \"zerolinecolor\": \"white\"}}, \"shapedefaults\": {\"line\": {\"color\": \"#2a3f5f\"}}, \"ternary\": {\"aaxis\": {\"gridcolor\": \"white\", \"linecolor\": \"white\", \"ticks\": \"\"}, \"baxis\": {\"gridcolor\": \"white\", \"linecolor\": \"white\", \"ticks\": \"\"}, \"bgcolor\": \"#E5ECF6\", \"caxis\": {\"gridcolor\": \"white\", \"linecolor\": \"white\", \"ticks\": \"\"}}, \"title\": {\"x\": 0.05}, \"xaxis\": {\"automargin\": true, \"gridcolor\": \"white\", \"linecolor\": \"white\", \"ticks\": \"\", \"title\": {\"standoff\": 15}, \"zerolinecolor\": \"white\", \"zerolinewidth\": 2}, \"yaxis\": {\"automargin\": true, \"gridcolor\": \"white\", \"linecolor\": \"white\", \"ticks\": \"\", \"title\": {\"standoff\": 15}, \"zerolinecolor\": \"white\", \"zerolinewidth\": 2}}}, \"title\": {\"text\": \"Top infected Countries\"}, \"xaxis\": {\"anchor\": \"y\", \"categoryarray\": [\"US\", \"India\", \"Brazil\", \"Russia\", \"United Kingdom\", \"France\", \"Turkey\", \"Italy\", \"Spain\", \"Germany\"], \"categoryorder\": \"array\", \"domain\": [0.0, 1.0], \"title\": {\"text\": \"country\"}}, \"yaxis\": {\"anchor\": \"x\", \"domain\": [0.0, 1.0], \"title\": {\"text\": \"Confirmed\"}}},                        {\"responsive\": true}                    ).then(function(){\n                            \nvar gd = document.getElementById('e57ddf7c-bdd1-4a4b-89cb-f29879b599dd');\nvar x = new MutationObserver(function (mutations, observer) {{\n        var display = window.getComputedStyle(gd).display;\n        if (!display || display === 'none') {{\n            console.log([gd, 'removed!']);\n            Plotly.purge(gd);\n            observer.disconnect();\n        }}\n}});\n\n// Listen for the removal of the full notebook cells\nvar notebookContainer = gd.closest('#notebook-container');\nif (notebookContainer) {{\n    x.observe(notebookContainer, {childList: true});\n}}\n\n// Listen for the clearing of the current output cell\nvar outputEl = gd.closest('.output');\nif (outputEl) {{\n    x.observe(outputEl, {childList: true});\n}}\n\n                        })                };                });            </script>        </div>"
         },
         "metadata": {},
         "output_type": "display_data"
        }
       ]
      }
     },
     "b97dacd2f00b44b5850d4efd01f60ce4": {
      "model_module": "@jupyter-widgets/output",
      "model_module_version": "1.0.0",
      "model_name": "OutputModel",
      "state": {
       "layout": "IPY_MODEL_be22897daa7a415ca03bba7837aefea7",
       "outputs": [
        {
         "data": {
          "application/vnd.plotly.v1+json": {
           "config": {
            "plotlyServerURL": "https://plot.ly"
           },
           "data": [
            {
             "alignmentgroup": "True",
             "customdata": [
              [
               22847637
              ]
             ],
             "hovertemplate": "country=%{x}<br>Confirmed=%{customdata[0]}<extra></extra>",
             "legendgroup": "US",
             "marker": {
              "color": "#636efa"
             },
             "name": "US",
             "offsetgroup": "US",
             "orientation": "v",
             "showlegend": true,
             "textposition": "auto",
             "type": "bar",
             "x": [
              "US"
             ],
             "xaxis": "x",
             "y": [
              22847637
             ],
             "yaxis": "y"
            },
            {
             "alignmentgroup": "True",
             "customdata": [
              [
               10495147
              ]
             ],
             "hovertemplate": "country=%{x}<br>Confirmed=%{customdata[0]}<extra></extra>",
             "legendgroup": "India",
             "marker": {
              "color": "#EF553B"
             },
             "name": "India",
             "offsetgroup": "India",
             "orientation": "v",
             "showlegend": true,
             "textposition": "auto",
             "type": "bar",
             "x": [
              "India"
             ],
             "xaxis": "x",
             "y": [
              10495147
             ],
             "yaxis": "y"
            },
            {
             "alignmentgroup": "True",
             "customdata": [
              [
               8195637
              ]
             ],
             "hovertemplate": "country=%{x}<br>Confirmed=%{customdata[0]}<extra></extra>",
             "legendgroup": "Brazil",
             "marker": {
              "color": "#00cc96"
             },
             "name": "Brazil",
             "offsetgroup": "Brazil",
             "orientation": "v",
             "showlegend": true,
             "textposition": "auto",
             "type": "bar",
             "x": [
              "Brazil"
             ],
             "xaxis": "x",
             "y": [
              8195637
             ],
             "yaxis": "y"
            },
            {
             "alignmentgroup": "True",
             "customdata": [
              [
               3412390
              ]
             ],
             "hovertemplate": "country=%{x}<br>Confirmed=%{customdata[0]}<extra></extra>",
             "legendgroup": "Russia",
             "marker": {
              "color": "#ab63fa"
             },
             "name": "Russia",
             "offsetgroup": "Russia",
             "orientation": "v",
             "showlegend": true,
             "textposition": "auto",
             "type": "bar",
             "x": [
              "Russia"
             ],
             "xaxis": "x",
             "y": [
              3412390
             ],
             "yaxis": "y"
            },
            {
             "alignmentgroup": "True",
             "customdata": [
              [
               3173291
              ]
             ],
             "hovertemplate": "country=%{x}<br>Confirmed=%{customdata[0]}<extra></extra>",
             "legendgroup": "United Kingdom",
             "marker": {
              "color": "#FFA15A"
             },
             "name": "United Kingdom",
             "offsetgroup": "United Kingdom",
             "orientation": "v",
             "showlegend": true,
             "textposition": "auto",
             "type": "bar",
             "x": [
              "United Kingdom"
             ],
             "xaxis": "x",
             "y": [
              3173291
             ],
             "yaxis": "y"
            },
            {
             "alignmentgroup": "True",
             "customdata": [
              [
               2864360
              ]
             ],
             "hovertemplate": "country=%{x}<br>Confirmed=%{customdata[0]}<extra></extra>",
             "legendgroup": "France",
             "marker": {
              "color": "#19d3f3"
             },
             "name": "France",
             "offsetgroup": "France",
             "orientation": "v",
             "showlegend": true,
             "textposition": "auto",
             "type": "bar",
             "x": [
              "France"
             ],
             "xaxis": "x",
             "y": [
              2864360
             ],
             "yaxis": "y"
            },
            {
             "alignmentgroup": "True",
             "customdata": [
              [
               2346285
              ]
             ],
             "hovertemplate": "country=%{x}<br>Confirmed=%{customdata[0]}<extra></extra>",
             "legendgroup": "Turkey",
             "marker": {
              "color": "#FF6692"
             },
             "name": "Turkey",
             "offsetgroup": "Turkey",
             "orientation": "v",
             "showlegend": true,
             "textposition": "auto",
             "type": "bar",
             "x": [
              "Turkey"
             ],
             "xaxis": "x",
             "y": [
              2346285
             ],
             "yaxis": "y"
            },
            {
             "alignmentgroup": "True",
             "customdata": [
              [
               2303263
              ]
             ],
             "hovertemplate": "country=%{x}<br>Confirmed=%{customdata[0]}<extra></extra>",
             "legendgroup": "Italy",
             "marker": {
              "color": "#B6E880"
             },
             "name": "Italy",
             "offsetgroup": "Italy",
             "orientation": "v",
             "showlegend": true,
             "textposition": "auto",
             "type": "bar",
             "x": [
              "Italy"
             ],
             "xaxis": "x",
             "y": [
              2303263
             ],
             "yaxis": "y"
            },
            {
             "alignmentgroup": "True",
             "customdata": [
              [
               2137220
              ]
             ],
             "hovertemplate": "country=%{x}<br>Confirmed=%{customdata[0]}<extra></extra>",
             "legendgroup": "Spain",
             "marker": {
              "color": "#FF97FF"
             },
             "name": "Spain",
             "offsetgroup": "Spain",
             "orientation": "v",
             "showlegend": true,
             "textposition": "auto",
             "type": "bar",
             "x": [
              "Spain"
             ],
             "xaxis": "x",
             "y": [
              2137220
             ],
             "yaxis": "y"
            },
            {
             "alignmentgroup": "True",
             "customdata": [
              [
               1968326
              ]
             ],
             "hovertemplate": "country=%{x}<br>Confirmed=%{customdata[0]}<extra></extra>",
             "legendgroup": "Germany",
             "marker": {
              "color": "#FECB52"
             },
             "name": "Germany",
             "offsetgroup": "Germany",
             "orientation": "v",
             "showlegend": true,
             "textposition": "auto",
             "type": "bar",
             "x": [
              "Germany"
             ],
             "xaxis": "x",
             "y": [
              1968326
             ],
             "yaxis": "y"
            }
           ],
           "layout": {
            "barmode": "relative",
            "height": 400,
            "legend": {
             "title": {
              "text": "country"
             },
             "tracegroupgap": 0
            },
            "template": {
             "data": {
              "bar": [
               {
                "error_x": {
                 "color": "#2a3f5f"
                },
                "error_y": {
                 "color": "#2a3f5f"
                },
                "marker": {
                 "line": {
                  "color": "#E5ECF6",
                  "width": 0.5
                 }
                },
                "type": "bar"
               }
              ],
              "barpolar": [
               {
                "marker": {
                 "line": {
                  "color": "#E5ECF6",
                  "width": 0.5
                 }
                },
                "type": "barpolar"
               }
              ],
              "carpet": [
               {
                "aaxis": {
                 "endlinecolor": "#2a3f5f",
                 "gridcolor": "white",
                 "linecolor": "white",
                 "minorgridcolor": "white",
                 "startlinecolor": "#2a3f5f"
                },
                "baxis": {
                 "endlinecolor": "#2a3f5f",
                 "gridcolor": "white",
                 "linecolor": "white",
                 "minorgridcolor": "white",
                 "startlinecolor": "#2a3f5f"
                },
                "type": "carpet"
               }
              ],
              "choropleth": [
               {
                "colorbar": {
                 "outlinewidth": 0,
                 "ticks": ""
                },
                "type": "choropleth"
               }
              ],
              "contour": [
               {
                "colorbar": {
                 "outlinewidth": 0,
                 "ticks": ""
                },
                "colorscale": [
                 [
                  0,
                  "#0d0887"
                 ],
                 [
                  0.1111111111111111,
                  "#46039f"
                 ],
                 [
                  0.2222222222222222,
                  "#7201a8"
                 ],
                 [
                  0.3333333333333333,
                  "#9c179e"
                 ],
                 [
                  0.4444444444444444,
                  "#bd3786"
                 ],
                 [
                  0.5555555555555556,
                  "#d8576b"
                 ],
                 [
                  0.6666666666666666,
                  "#ed7953"
                 ],
                 [
                  0.7777777777777778,
                  "#fb9f3a"
                 ],
                 [
                  0.8888888888888888,
                  "#fdca26"
                 ],
                 [
                  1,
                  "#f0f921"
                 ]
                ],
                "type": "contour"
               }
              ],
              "contourcarpet": [
               {
                "colorbar": {
                 "outlinewidth": 0,
                 "ticks": ""
                },
                "type": "contourcarpet"
               }
              ],
              "heatmap": [
               {
                "colorbar": {
                 "outlinewidth": 0,
                 "ticks": ""
                },
                "colorscale": [
                 [
                  0,
                  "#0d0887"
                 ],
                 [
                  0.1111111111111111,
                  "#46039f"
                 ],
                 [
                  0.2222222222222222,
                  "#7201a8"
                 ],
                 [
                  0.3333333333333333,
                  "#9c179e"
                 ],
                 [
                  0.4444444444444444,
                  "#bd3786"
                 ],
                 [
                  0.5555555555555556,
                  "#d8576b"
                 ],
                 [
                  0.6666666666666666,
                  "#ed7953"
                 ],
                 [
                  0.7777777777777778,
                  "#fb9f3a"
                 ],
                 [
                  0.8888888888888888,
                  "#fdca26"
                 ],
                 [
                  1,
                  "#f0f921"
                 ]
                ],
                "type": "heatmap"
               }
              ],
              "heatmapgl": [
               {
                "colorbar": {
                 "outlinewidth": 0,
                 "ticks": ""
                },
                "colorscale": [
                 [
                  0,
                  "#0d0887"
                 ],
                 [
                  0.1111111111111111,
                  "#46039f"
                 ],
                 [
                  0.2222222222222222,
                  "#7201a8"
                 ],
                 [
                  0.3333333333333333,
                  "#9c179e"
                 ],
                 [
                  0.4444444444444444,
                  "#bd3786"
                 ],
                 [
                  0.5555555555555556,
                  "#d8576b"
                 ],
                 [
                  0.6666666666666666,
                  "#ed7953"
                 ],
                 [
                  0.7777777777777778,
                  "#fb9f3a"
                 ],
                 [
                  0.8888888888888888,
                  "#fdca26"
                 ],
                 [
                  1,
                  "#f0f921"
                 ]
                ],
                "type": "heatmapgl"
               }
              ],
              "histogram": [
               {
                "marker": {
                 "colorbar": {
                  "outlinewidth": 0,
                  "ticks": ""
                 }
                },
                "type": "histogram"
               }
              ],
              "histogram2d": [
               {
                "colorbar": {
                 "outlinewidth": 0,
                 "ticks": ""
                },
                "colorscale": [
                 [
                  0,
                  "#0d0887"
                 ],
                 [
                  0.1111111111111111,
                  "#46039f"
                 ],
                 [
                  0.2222222222222222,
                  "#7201a8"
                 ],
                 [
                  0.3333333333333333,
                  "#9c179e"
                 ],
                 [
                  0.4444444444444444,
                  "#bd3786"
                 ],
                 [
                  0.5555555555555556,
                  "#d8576b"
                 ],
                 [
                  0.6666666666666666,
                  "#ed7953"
                 ],
                 [
                  0.7777777777777778,
                  "#fb9f3a"
                 ],
                 [
                  0.8888888888888888,
                  "#fdca26"
                 ],
                 [
                  1,
                  "#f0f921"
                 ]
                ],
                "type": "histogram2d"
               }
              ],
              "histogram2dcontour": [
               {
                "colorbar": {
                 "outlinewidth": 0,
                 "ticks": ""
                },
                "colorscale": [
                 [
                  0,
                  "#0d0887"
                 ],
                 [
                  0.1111111111111111,
                  "#46039f"
                 ],
                 [
                  0.2222222222222222,
                  "#7201a8"
                 ],
                 [
                  0.3333333333333333,
                  "#9c179e"
                 ],
                 [
                  0.4444444444444444,
                  "#bd3786"
                 ],
                 [
                  0.5555555555555556,
                  "#d8576b"
                 ],
                 [
                  0.6666666666666666,
                  "#ed7953"
                 ],
                 [
                  0.7777777777777778,
                  "#fb9f3a"
                 ],
                 [
                  0.8888888888888888,
                  "#fdca26"
                 ],
                 [
                  1,
                  "#f0f921"
                 ]
                ],
                "type": "histogram2dcontour"
               }
              ],
              "mesh3d": [
               {
                "colorbar": {
                 "outlinewidth": 0,
                 "ticks": ""
                },
                "type": "mesh3d"
               }
              ],
              "parcoords": [
               {
                "line": {
                 "colorbar": {
                  "outlinewidth": 0,
                  "ticks": ""
                 }
                },
                "type": "parcoords"
               }
              ],
              "pie": [
               {
                "automargin": true,
                "type": "pie"
               }
              ],
              "scatter": [
               {
                "marker": {
                 "colorbar": {
                  "outlinewidth": 0,
                  "ticks": ""
                 }
                },
                "type": "scatter"
               }
              ],
              "scatter3d": [
               {
                "line": {
                 "colorbar": {
                  "outlinewidth": 0,
                  "ticks": ""
                 }
                },
                "marker": {
                 "colorbar": {
                  "outlinewidth": 0,
                  "ticks": ""
                 }
                },
                "type": "scatter3d"
               }
              ],
              "scattercarpet": [
               {
                "marker": {
                 "colorbar": {
                  "outlinewidth": 0,
                  "ticks": ""
                 }
                },
                "type": "scattercarpet"
               }
              ],
              "scattergeo": [
               {
                "marker": {
                 "colorbar": {
                  "outlinewidth": 0,
                  "ticks": ""
                 }
                },
                "type": "scattergeo"
               }
              ],
              "scattergl": [
               {
                "marker": {
                 "colorbar": {
                  "outlinewidth": 0,
                  "ticks": ""
                 }
                },
                "type": "scattergl"
               }
              ],
              "scattermapbox": [
               {
                "marker": {
                 "colorbar": {
                  "outlinewidth": 0,
                  "ticks": ""
                 }
                },
                "type": "scattermapbox"
               }
              ],
              "scatterpolar": [
               {
                "marker": {
                 "colorbar": {
                  "outlinewidth": 0,
                  "ticks": ""
                 }
                },
                "type": "scatterpolar"
               }
              ],
              "scatterpolargl": [
               {
                "marker": {
                 "colorbar": {
                  "outlinewidth": 0,
                  "ticks": ""
                 }
                },
                "type": "scatterpolargl"
               }
              ],
              "scatterternary": [
               {
                "marker": {
                 "colorbar": {
                  "outlinewidth": 0,
                  "ticks": ""
                 }
                },
                "type": "scatterternary"
               }
              ],
              "surface": [
               {
                "colorbar": {
                 "outlinewidth": 0,
                 "ticks": ""
                },
                "colorscale": [
                 [
                  0,
                  "#0d0887"
                 ],
                 [
                  0.1111111111111111,
                  "#46039f"
                 ],
                 [
                  0.2222222222222222,
                  "#7201a8"
                 ],
                 [
                  0.3333333333333333,
                  "#9c179e"
                 ],
                 [
                  0.4444444444444444,
                  "#bd3786"
                 ],
                 [
                  0.5555555555555556,
                  "#d8576b"
                 ],
                 [
                  0.6666666666666666,
                  "#ed7953"
                 ],
                 [
                  0.7777777777777778,
                  "#fb9f3a"
                 ],
                 [
                  0.8888888888888888,
                  "#fdca26"
                 ],
                 [
                  1,
                  "#f0f921"
                 ]
                ],
                "type": "surface"
               }
              ],
              "table": [
               {
                "cells": {
                 "fill": {
                  "color": "#EBF0F8"
                 },
                 "line": {
                  "color": "white"
                 }
                },
                "header": {
                 "fill": {
                  "color": "#C8D4E3"
                 },
                 "line": {
                  "color": "white"
                 }
                },
                "type": "table"
               }
              ]
             },
             "layout": {
              "annotationdefaults": {
               "arrowcolor": "#2a3f5f",
               "arrowhead": 0,
               "arrowwidth": 1
              },
              "autotypenumbers": "strict",
              "coloraxis": {
               "colorbar": {
                "outlinewidth": 0,
                "ticks": ""
               }
              },
              "colorscale": {
               "diverging": [
                [
                 0,
                 "#8e0152"
                ],
                [
                 0.1,
                 "#c51b7d"
                ],
                [
                 0.2,
                 "#de77ae"
                ],
                [
                 0.3,
                 "#f1b6da"
                ],
                [
                 0.4,
                 "#fde0ef"
                ],
                [
                 0.5,
                 "#f7f7f7"
                ],
                [
                 0.6,
                 "#e6f5d0"
                ],
                [
                 0.7,
                 "#b8e186"
                ],
                [
                 0.8,
                 "#7fbc41"
                ],
                [
                 0.9,
                 "#4d9221"
                ],
                [
                 1,
                 "#276419"
                ]
               ],
               "sequential": [
                [
                 0,
                 "#0d0887"
                ],
                [
                 0.1111111111111111,
                 "#46039f"
                ],
                [
                 0.2222222222222222,
                 "#7201a8"
                ],
                [
                 0.3333333333333333,
                 "#9c179e"
                ],
                [
                 0.4444444444444444,
                 "#bd3786"
                ],
                [
                 0.5555555555555556,
                 "#d8576b"
                ],
                [
                 0.6666666666666666,
                 "#ed7953"
                ],
                [
                 0.7777777777777778,
                 "#fb9f3a"
                ],
                [
                 0.8888888888888888,
                 "#fdca26"
                ],
                [
                 1,
                 "#f0f921"
                ]
               ],
               "sequentialminus": [
                [
                 0,
                 "#0d0887"
                ],
                [
                 0.1111111111111111,
                 "#46039f"
                ],
                [
                 0.2222222222222222,
                 "#7201a8"
                ],
                [
                 0.3333333333333333,
                 "#9c179e"
                ],
                [
                 0.4444444444444444,
                 "#bd3786"
                ],
                [
                 0.5555555555555556,
                 "#d8576b"
                ],
                [
                 0.6666666666666666,
                 "#ed7953"
                ],
                [
                 0.7777777777777778,
                 "#fb9f3a"
                ],
                [
                 0.8888888888888888,
                 "#fdca26"
                ],
                [
                 1,
                 "#f0f921"
                ]
               ]
              },
              "colorway": [
               "#636efa",
               "#EF553B",
               "#00cc96",
               "#ab63fa",
               "#FFA15A",
               "#19d3f3",
               "#FF6692",
               "#B6E880",
               "#FF97FF",
               "#FECB52"
              ],
              "font": {
               "color": "#2a3f5f"
              },
              "geo": {
               "bgcolor": "white",
               "lakecolor": "white",
               "landcolor": "#E5ECF6",
               "showlakes": true,
               "showland": true,
               "subunitcolor": "white"
              },
              "hoverlabel": {
               "align": "left"
              },
              "hovermode": "closest",
              "mapbox": {
               "style": "light"
              },
              "paper_bgcolor": "white",
              "plot_bgcolor": "#E5ECF6",
              "polar": {
               "angularaxis": {
                "gridcolor": "white",
                "linecolor": "white",
                "ticks": ""
               },
               "bgcolor": "#E5ECF6",
               "radialaxis": {
                "gridcolor": "white",
                "linecolor": "white",
                "ticks": ""
               }
              },
              "scene": {
               "xaxis": {
                "backgroundcolor": "#E5ECF6",
                "gridcolor": "white",
                "gridwidth": 2,
                "linecolor": "white",
                "showbackground": true,
                "ticks": "",
                "zerolinecolor": "white"
               },
               "yaxis": {
                "backgroundcolor": "#E5ECF6",
                "gridcolor": "white",
                "gridwidth": 2,
                "linecolor": "white",
                "showbackground": true,
                "ticks": "",
                "zerolinecolor": "white"
               },
               "zaxis": {
                "backgroundcolor": "#E5ECF6",
                "gridcolor": "white",
                "gridwidth": 2,
                "linecolor": "white",
                "showbackground": true,
                "ticks": "",
                "zerolinecolor": "white"
               }
              },
              "shapedefaults": {
               "line": {
                "color": "#2a3f5f"
               }
              },
              "ternary": {
               "aaxis": {
                "gridcolor": "white",
                "linecolor": "white",
                "ticks": ""
               },
               "baxis": {
                "gridcolor": "white",
                "linecolor": "white",
                "ticks": ""
               },
               "bgcolor": "#E5ECF6",
               "caxis": {
                "gridcolor": "white",
                "linecolor": "white",
                "ticks": ""
               }
              },
              "title": {
               "x": 0.05
              },
              "xaxis": {
               "automargin": true,
               "gridcolor": "white",
               "linecolor": "white",
               "ticks": "",
               "title": {
                "standoff": 15
               },
               "zerolinecolor": "white",
               "zerolinewidth": 2
              },
              "yaxis": {
               "automargin": true,
               "gridcolor": "white",
               "linecolor": "white",
               "ticks": "",
               "title": {
                "standoff": 15
               },
               "zerolinecolor": "white",
               "zerolinewidth": 2
              }
             }
            },
            "title": {
             "text": "Top infected Countries"
            },
            "xaxis": {
             "anchor": "y",
             "categoryarray": [
              "US",
              "India",
              "Brazil",
              "Russia",
              "United Kingdom",
              "France",
              "Turkey",
              "Italy",
              "Spain",
              "Germany"
             ],
             "categoryorder": "array",
             "domain": [
              0,
              1
             ],
             "title": {
              "text": "country"
             }
            },
            "yaxis": {
             "anchor": "x",
             "domain": [
              0,
              1
             ],
             "title": {
              "text": "Confirmed"
             }
            }
           }
          },
          "text/html": "<div>                            <div id=\"1eea3a70-2ec8-4d3f-a244-80d03dbea2e7\" class=\"plotly-graph-div\" style=\"height:400px; width:100%;\"></div>            <script type=\"text/javascript\">                require([\"plotly\"], function(Plotly) {                    window.PLOTLYENV=window.PLOTLYENV || {};                                    if (document.getElementById(\"1eea3a70-2ec8-4d3f-a244-80d03dbea2e7\")) {                    Plotly.newPlot(                        \"1eea3a70-2ec8-4d3f-a244-80d03dbea2e7\",                        [{\"alignmentgroup\": \"True\", \"customdata\": [[22847637]], \"hovertemplate\": \"country=%{x}<br>Confirmed=%{customdata[0]}<extra></extra>\", \"legendgroup\": \"US\", \"marker\": {\"color\": \"#636efa\"}, \"name\": \"US\", \"offsetgroup\": \"US\", \"orientation\": \"v\", \"showlegend\": true, \"textposition\": \"auto\", \"type\": \"bar\", \"x\": [\"US\"], \"xaxis\": \"x\", \"y\": [22847637], \"yaxis\": \"y\"}, {\"alignmentgroup\": \"True\", \"customdata\": [[10495147]], \"hovertemplate\": \"country=%{x}<br>Confirmed=%{customdata[0]}<extra></extra>\", \"legendgroup\": \"India\", \"marker\": {\"color\": \"#EF553B\"}, \"name\": \"India\", \"offsetgroup\": \"India\", \"orientation\": \"v\", \"showlegend\": true, \"textposition\": \"auto\", \"type\": \"bar\", \"x\": [\"India\"], \"xaxis\": \"x\", \"y\": [10495147], \"yaxis\": \"y\"}, {\"alignmentgroup\": \"True\", \"customdata\": [[8195637]], \"hovertemplate\": \"country=%{x}<br>Confirmed=%{customdata[0]}<extra></extra>\", \"legendgroup\": \"Brazil\", \"marker\": {\"color\": \"#00cc96\"}, \"name\": \"Brazil\", \"offsetgroup\": \"Brazil\", \"orientation\": \"v\", \"showlegend\": true, \"textposition\": \"auto\", \"type\": \"bar\", \"x\": [\"Brazil\"], \"xaxis\": \"x\", \"y\": [8195637], \"yaxis\": \"y\"}, {\"alignmentgroup\": \"True\", \"customdata\": [[3412390]], \"hovertemplate\": \"country=%{x}<br>Confirmed=%{customdata[0]}<extra></extra>\", \"legendgroup\": \"Russia\", \"marker\": {\"color\": \"#ab63fa\"}, \"name\": \"Russia\", \"offsetgroup\": \"Russia\", \"orientation\": \"v\", \"showlegend\": true, \"textposition\": \"auto\", \"type\": \"bar\", \"x\": [\"Russia\"], \"xaxis\": \"x\", \"y\": [3412390], \"yaxis\": \"y\"}, {\"alignmentgroup\": \"True\", \"customdata\": [[3173291]], \"hovertemplate\": \"country=%{x}<br>Confirmed=%{customdata[0]}<extra></extra>\", \"legendgroup\": \"United Kingdom\", \"marker\": {\"color\": \"#FFA15A\"}, \"name\": \"United Kingdom\", \"offsetgroup\": \"United Kingdom\", \"orientation\": \"v\", \"showlegend\": true, \"textposition\": \"auto\", \"type\": \"bar\", \"x\": [\"United Kingdom\"], \"xaxis\": \"x\", \"y\": [3173291], \"yaxis\": \"y\"}, {\"alignmentgroup\": \"True\", \"customdata\": [[2864360]], \"hovertemplate\": \"country=%{x}<br>Confirmed=%{customdata[0]}<extra></extra>\", \"legendgroup\": \"France\", \"marker\": {\"color\": \"#19d3f3\"}, \"name\": \"France\", \"offsetgroup\": \"France\", \"orientation\": \"v\", \"showlegend\": true, \"textposition\": \"auto\", \"type\": \"bar\", \"x\": [\"France\"], \"xaxis\": \"x\", \"y\": [2864360], \"yaxis\": \"y\"}, {\"alignmentgroup\": \"True\", \"customdata\": [[2346285]], \"hovertemplate\": \"country=%{x}<br>Confirmed=%{customdata[0]}<extra></extra>\", \"legendgroup\": \"Turkey\", \"marker\": {\"color\": \"#FF6692\"}, \"name\": \"Turkey\", \"offsetgroup\": \"Turkey\", \"orientation\": \"v\", \"showlegend\": true, \"textposition\": \"auto\", \"type\": \"bar\", \"x\": [\"Turkey\"], \"xaxis\": \"x\", \"y\": [2346285], \"yaxis\": \"y\"}, {\"alignmentgroup\": \"True\", \"customdata\": [[2303263]], \"hovertemplate\": \"country=%{x}<br>Confirmed=%{customdata[0]}<extra></extra>\", \"legendgroup\": \"Italy\", \"marker\": {\"color\": \"#B6E880\"}, \"name\": \"Italy\", \"offsetgroup\": \"Italy\", \"orientation\": \"v\", \"showlegend\": true, \"textposition\": \"auto\", \"type\": \"bar\", \"x\": [\"Italy\"], \"xaxis\": \"x\", \"y\": [2303263], \"yaxis\": \"y\"}, {\"alignmentgroup\": \"True\", \"customdata\": [[2137220]], \"hovertemplate\": \"country=%{x}<br>Confirmed=%{customdata[0]}<extra></extra>\", \"legendgroup\": \"Spain\", \"marker\": {\"color\": \"#FF97FF\"}, \"name\": \"Spain\", \"offsetgroup\": \"Spain\", \"orientation\": \"v\", \"showlegend\": true, \"textposition\": \"auto\", \"type\": \"bar\", \"x\": [\"Spain\"], \"xaxis\": \"x\", \"y\": [2137220], \"yaxis\": \"y\"}, {\"alignmentgroup\": \"True\", \"customdata\": [[1968326]], \"hovertemplate\": \"country=%{x}<br>Confirmed=%{customdata[0]}<extra></extra>\", \"legendgroup\": \"Germany\", \"marker\": {\"color\": \"#FECB52\"}, \"name\": \"Germany\", \"offsetgroup\": \"Germany\", \"orientation\": \"v\", \"showlegend\": true, \"textposition\": \"auto\", \"type\": \"bar\", \"x\": [\"Germany\"], \"xaxis\": \"x\", \"y\": [1968326], \"yaxis\": \"y\"}],                        {\"barmode\": \"relative\", \"height\": 400, \"legend\": {\"title\": {\"text\": \"country\"}, \"tracegroupgap\": 0}, \"template\": {\"data\": {\"bar\": [{\"error_x\": {\"color\": \"#2a3f5f\"}, \"error_y\": {\"color\": \"#2a3f5f\"}, \"marker\": {\"line\": {\"color\": \"#E5ECF6\", \"width\": 0.5}}, \"type\": \"bar\"}], \"barpolar\": [{\"marker\": {\"line\": {\"color\": \"#E5ECF6\", \"width\": 0.5}}, \"type\": \"barpolar\"}], \"carpet\": [{\"aaxis\": {\"endlinecolor\": \"#2a3f5f\", \"gridcolor\": \"white\", \"linecolor\": \"white\", \"minorgridcolor\": \"white\", \"startlinecolor\": \"#2a3f5f\"}, \"baxis\": {\"endlinecolor\": \"#2a3f5f\", \"gridcolor\": \"white\", \"linecolor\": \"white\", \"minorgridcolor\": \"white\", \"startlinecolor\": \"#2a3f5f\"}, \"type\": \"carpet\"}], \"choropleth\": [{\"colorbar\": {\"outlinewidth\": 0, \"ticks\": \"\"}, \"type\": \"choropleth\"}], \"contour\": [{\"colorbar\": {\"outlinewidth\": 0, \"ticks\": \"\"}, \"colorscale\": [[0.0, \"#0d0887\"], [0.1111111111111111, \"#46039f\"], [0.2222222222222222, \"#7201a8\"], [0.3333333333333333, \"#9c179e\"], [0.4444444444444444, \"#bd3786\"], [0.5555555555555556, \"#d8576b\"], [0.6666666666666666, \"#ed7953\"], [0.7777777777777778, \"#fb9f3a\"], [0.8888888888888888, \"#fdca26\"], [1.0, \"#f0f921\"]], \"type\": \"contour\"}], \"contourcarpet\": [{\"colorbar\": {\"outlinewidth\": 0, \"ticks\": \"\"}, \"type\": \"contourcarpet\"}], \"heatmap\": [{\"colorbar\": {\"outlinewidth\": 0, \"ticks\": \"\"}, \"colorscale\": [[0.0, \"#0d0887\"], [0.1111111111111111, \"#46039f\"], [0.2222222222222222, \"#7201a8\"], [0.3333333333333333, \"#9c179e\"], [0.4444444444444444, \"#bd3786\"], [0.5555555555555556, \"#d8576b\"], [0.6666666666666666, \"#ed7953\"], [0.7777777777777778, \"#fb9f3a\"], [0.8888888888888888, \"#fdca26\"], [1.0, \"#f0f921\"]], \"type\": \"heatmap\"}], \"heatmapgl\": [{\"colorbar\": {\"outlinewidth\": 0, \"ticks\": \"\"}, \"colorscale\": [[0.0, \"#0d0887\"], [0.1111111111111111, \"#46039f\"], [0.2222222222222222, \"#7201a8\"], [0.3333333333333333, \"#9c179e\"], [0.4444444444444444, \"#bd3786\"], [0.5555555555555556, \"#d8576b\"], [0.6666666666666666, \"#ed7953\"], [0.7777777777777778, \"#fb9f3a\"], [0.8888888888888888, \"#fdca26\"], [1.0, \"#f0f921\"]], \"type\": \"heatmapgl\"}], \"histogram\": [{\"marker\": {\"colorbar\": {\"outlinewidth\": 0, \"ticks\": \"\"}}, \"type\": \"histogram\"}], \"histogram2d\": [{\"colorbar\": {\"outlinewidth\": 0, \"ticks\": \"\"}, \"colorscale\": [[0.0, \"#0d0887\"], [0.1111111111111111, \"#46039f\"], [0.2222222222222222, \"#7201a8\"], [0.3333333333333333, \"#9c179e\"], [0.4444444444444444, \"#bd3786\"], [0.5555555555555556, \"#d8576b\"], [0.6666666666666666, \"#ed7953\"], [0.7777777777777778, \"#fb9f3a\"], [0.8888888888888888, \"#fdca26\"], [1.0, \"#f0f921\"]], \"type\": \"histogram2d\"}], \"histogram2dcontour\": [{\"colorbar\": {\"outlinewidth\": 0, \"ticks\": \"\"}, \"colorscale\": [[0.0, \"#0d0887\"], [0.1111111111111111, \"#46039f\"], [0.2222222222222222, \"#7201a8\"], [0.3333333333333333, \"#9c179e\"], [0.4444444444444444, \"#bd3786\"], [0.5555555555555556, \"#d8576b\"], [0.6666666666666666, \"#ed7953\"], [0.7777777777777778, \"#fb9f3a\"], [0.8888888888888888, \"#fdca26\"], [1.0, \"#f0f921\"]], \"type\": \"histogram2dcontour\"}], \"mesh3d\": [{\"colorbar\": {\"outlinewidth\": 0, \"ticks\": \"\"}, \"type\": \"mesh3d\"}], \"parcoords\": [{\"line\": {\"colorbar\": {\"outlinewidth\": 0, \"ticks\": \"\"}}, \"type\": \"parcoords\"}], \"pie\": [{\"automargin\": true, \"type\": \"pie\"}], \"scatter\": [{\"marker\": {\"colorbar\": {\"outlinewidth\": 0, \"ticks\": \"\"}}, \"type\": \"scatter\"}], \"scatter3d\": [{\"line\": {\"colorbar\": {\"outlinewidth\": 0, \"ticks\": \"\"}}, \"marker\": {\"colorbar\": {\"outlinewidth\": 0, \"ticks\": \"\"}}, \"type\": \"scatter3d\"}], \"scattercarpet\": [{\"marker\": {\"colorbar\": {\"outlinewidth\": 0, \"ticks\": \"\"}}, \"type\": \"scattercarpet\"}], \"scattergeo\": [{\"marker\": {\"colorbar\": {\"outlinewidth\": 0, \"ticks\": \"\"}}, \"type\": \"scattergeo\"}], \"scattergl\": [{\"marker\": {\"colorbar\": {\"outlinewidth\": 0, \"ticks\": \"\"}}, \"type\": \"scattergl\"}], \"scattermapbox\": [{\"marker\": {\"colorbar\": {\"outlinewidth\": 0, \"ticks\": \"\"}}, \"type\": \"scattermapbox\"}], \"scatterpolar\": [{\"marker\": {\"colorbar\": {\"outlinewidth\": 0, \"ticks\": \"\"}}, \"type\": \"scatterpolar\"}], \"scatterpolargl\": [{\"marker\": {\"colorbar\": {\"outlinewidth\": 0, \"ticks\": \"\"}}, \"type\": \"scatterpolargl\"}], \"scatterternary\": [{\"marker\": {\"colorbar\": {\"outlinewidth\": 0, \"ticks\": \"\"}}, \"type\": \"scatterternary\"}], \"surface\": [{\"colorbar\": {\"outlinewidth\": 0, \"ticks\": \"\"}, \"colorscale\": [[0.0, \"#0d0887\"], [0.1111111111111111, \"#46039f\"], [0.2222222222222222, \"#7201a8\"], [0.3333333333333333, \"#9c179e\"], [0.4444444444444444, \"#bd3786\"], [0.5555555555555556, \"#d8576b\"], [0.6666666666666666, \"#ed7953\"], [0.7777777777777778, \"#fb9f3a\"], [0.8888888888888888, \"#fdca26\"], [1.0, \"#f0f921\"]], \"type\": \"surface\"}], \"table\": [{\"cells\": {\"fill\": {\"color\": \"#EBF0F8\"}, \"line\": {\"color\": \"white\"}}, \"header\": {\"fill\": {\"color\": \"#C8D4E3\"}, \"line\": {\"color\": \"white\"}}, \"type\": \"table\"}]}, \"layout\": {\"annotationdefaults\": {\"arrowcolor\": \"#2a3f5f\", \"arrowhead\": 0, \"arrowwidth\": 1}, \"autotypenumbers\": \"strict\", \"coloraxis\": {\"colorbar\": {\"outlinewidth\": 0, \"ticks\": \"\"}}, \"colorscale\": {\"diverging\": [[0, \"#8e0152\"], [0.1, \"#c51b7d\"], [0.2, \"#de77ae\"], [0.3, \"#f1b6da\"], [0.4, \"#fde0ef\"], [0.5, \"#f7f7f7\"], [0.6, \"#e6f5d0\"], [0.7, \"#b8e186\"], [0.8, \"#7fbc41\"], [0.9, \"#4d9221\"], [1, \"#276419\"]], \"sequential\": [[0.0, \"#0d0887\"], [0.1111111111111111, \"#46039f\"], [0.2222222222222222, \"#7201a8\"], [0.3333333333333333, \"#9c179e\"], [0.4444444444444444, \"#bd3786\"], [0.5555555555555556, \"#d8576b\"], [0.6666666666666666, \"#ed7953\"], [0.7777777777777778, \"#fb9f3a\"], [0.8888888888888888, \"#fdca26\"], [1.0, \"#f0f921\"]], \"sequentialminus\": [[0.0, \"#0d0887\"], [0.1111111111111111, \"#46039f\"], [0.2222222222222222, \"#7201a8\"], [0.3333333333333333, \"#9c179e\"], [0.4444444444444444, \"#bd3786\"], [0.5555555555555556, \"#d8576b\"], [0.6666666666666666, \"#ed7953\"], [0.7777777777777778, \"#fb9f3a\"], [0.8888888888888888, \"#fdca26\"], [1.0, \"#f0f921\"]]}, \"colorway\": [\"#636efa\", \"#EF553B\", \"#00cc96\", \"#ab63fa\", \"#FFA15A\", \"#19d3f3\", \"#FF6692\", \"#B6E880\", \"#FF97FF\", \"#FECB52\"], \"font\": {\"color\": \"#2a3f5f\"}, \"geo\": {\"bgcolor\": \"white\", \"lakecolor\": \"white\", \"landcolor\": \"#E5ECF6\", \"showlakes\": true, \"showland\": true, \"subunitcolor\": \"white\"}, \"hoverlabel\": {\"align\": \"left\"}, \"hovermode\": \"closest\", \"mapbox\": {\"style\": \"light\"}, \"paper_bgcolor\": \"white\", \"plot_bgcolor\": \"#E5ECF6\", \"polar\": {\"angularaxis\": {\"gridcolor\": \"white\", \"linecolor\": \"white\", \"ticks\": \"\"}, \"bgcolor\": \"#E5ECF6\", \"radialaxis\": {\"gridcolor\": \"white\", \"linecolor\": \"white\", \"ticks\": \"\"}}, \"scene\": {\"xaxis\": {\"backgroundcolor\": \"#E5ECF6\", \"gridcolor\": \"white\", \"gridwidth\": 2, \"linecolor\": \"white\", \"showbackground\": true, \"ticks\": \"\", \"zerolinecolor\": \"white\"}, \"yaxis\": {\"backgroundcolor\": \"#E5ECF6\", \"gridcolor\": \"white\", \"gridwidth\": 2, \"linecolor\": \"white\", \"showbackground\": true, \"ticks\": \"\", \"zerolinecolor\": \"white\"}, \"zaxis\": {\"backgroundcolor\": \"#E5ECF6\", \"gridcolor\": \"white\", \"gridwidth\": 2, \"linecolor\": \"white\", \"showbackground\": true, \"ticks\": \"\", \"zerolinecolor\": \"white\"}}, \"shapedefaults\": {\"line\": {\"color\": \"#2a3f5f\"}}, \"ternary\": {\"aaxis\": {\"gridcolor\": \"white\", \"linecolor\": \"white\", \"ticks\": \"\"}, \"baxis\": {\"gridcolor\": \"white\", \"linecolor\": \"white\", \"ticks\": \"\"}, \"bgcolor\": \"#E5ECF6\", \"caxis\": {\"gridcolor\": \"white\", \"linecolor\": \"white\", \"ticks\": \"\"}}, \"title\": {\"x\": 0.05}, \"xaxis\": {\"automargin\": true, \"gridcolor\": \"white\", \"linecolor\": \"white\", \"ticks\": \"\", \"title\": {\"standoff\": 15}, \"zerolinecolor\": \"white\", \"zerolinewidth\": 2}, \"yaxis\": {\"automargin\": true, \"gridcolor\": \"white\", \"linecolor\": \"white\", \"ticks\": \"\", \"title\": {\"standoff\": 15}, \"zerolinecolor\": \"white\", \"zerolinewidth\": 2}}}, \"title\": {\"text\": \"Top infected Countries\"}, \"xaxis\": {\"anchor\": \"y\", \"categoryarray\": [\"US\", \"India\", \"Brazil\", \"Russia\", \"United Kingdom\", \"France\", \"Turkey\", \"Italy\", \"Spain\", \"Germany\"], \"categoryorder\": \"array\", \"domain\": [0.0, 1.0], \"title\": {\"text\": \"country\"}}, \"yaxis\": {\"anchor\": \"x\", \"domain\": [0.0, 1.0], \"title\": {\"text\": \"Confirmed\"}}},                        {\"responsive\": true}                    ).then(function(){\n                            \nvar gd = document.getElementById('1eea3a70-2ec8-4d3f-a244-80d03dbea2e7');\nvar x = new MutationObserver(function (mutations, observer) {{\n        var display = window.getComputedStyle(gd).display;\n        if (!display || display === 'none') {{\n            console.log([gd, 'removed!']);\n            Plotly.purge(gd);\n            observer.disconnect();\n        }}\n}});\n\n// Listen for the removal of the full notebook cells\nvar notebookContainer = gd.closest('#notebook-container');\nif (notebookContainer) {{\n    x.observe(notebookContainer, {childList: true});\n}}\n\n// Listen for the clearing of the current output cell\nvar outputEl = gd.closest('.output');\nif (outputEl) {{\n    x.observe(outputEl, {childList: true});\n}}\n\n                        })                };                });            </script>        </div>"
         },
         "metadata": {},
         "output_type": "display_data"
        }
       ]
      }
     },
     "bc31c62a910d4a75aa9543ea91ab86fe": {
      "model_module": "@jupyter-widgets/base",
      "model_module_version": "1.2.0",
      "model_name": "LayoutModel",
      "state": {}
     },
     "bc66245f9abf4487b3e868971d8823fa": {
      "model_module": "@jupyter-widgets/base",
      "model_module_version": "1.2.0",
      "model_name": "LayoutModel",
      "state": {}
     },
     "bdcab59d0f7c4b338f163a1b9939d90b": {
      "model_module": "@jupyter-widgets/base",
      "model_module_version": "1.2.0",
      "model_name": "LayoutModel",
      "state": {}
     },
     "be22897daa7a415ca03bba7837aefea7": {
      "model_module": "@jupyter-widgets/base",
      "model_module_version": "1.2.0",
      "model_name": "LayoutModel",
      "state": {}
     },
     "c01eb40e2a1244728db609eca6cdf75c": {
      "model_module": "@jupyter-widgets/controls",
      "model_module_version": "1.5.0",
      "model_name": "DropdownModel",
      "state": {
       "_options_labels": [
        "Confirmed",
        "Recovered",
        "Death"
       ],
       "description": "content",
       "index": 0,
       "layout": "IPY_MODEL_02aedf537979400aa718d98a4d7b4f29",
       "style": "IPY_MODEL_c0c68bfda778486591295bd800020804"
      }
     },
     "c0c68bfda778486591295bd800020804": {
      "model_module": "@jupyter-widgets/controls",
      "model_module_version": "1.5.0",
      "model_name": "DescriptionStyleModel",
      "state": {
       "description_width": ""
      }
     },
     "c1bad2676dd74e899e38c53fa1806d91": {
      "model_module": "@jupyter-widgets/base",
      "model_module_version": "1.2.0",
      "model_name": "LayoutModel",
      "state": {}
     },
     "c36812a150734b92ba1970f3036cbe7c": {
      "model_module": "@jupyter-widgets/base",
      "model_module_version": "1.2.0",
      "model_name": "LayoutModel",
      "state": {}
     },
     "c422b7e39d9441b08d37beed39da29bd": {
      "model_module": "@jupyter-widgets/base",
      "model_module_version": "1.2.0",
      "model_name": "LayoutModel",
      "state": {}
     },
     "c642e71069ab4084bcabf28464c0b3e5": {
      "model_module": "@jupyter-widgets/controls",
      "model_module_version": "1.5.0",
      "model_name": "DescriptionStyleModel",
      "state": {
       "description_width": ""
      }
     },
     "c7b00052e33e4e8d8bb678013937814b": {
      "model_module": "@jupyter-widgets/controls",
      "model_module_version": "1.5.0",
      "model_name": "DescriptionStyleModel",
      "state": {
       "description_width": ""
      }
     },
     "c80520e5525d48808573672c31d2ba11": {
      "model_module": "@jupyter-widgets/output",
      "model_module_version": "1.0.0",
      "model_name": "OutputModel",
      "state": {
       "layout": "IPY_MODEL_1b1660a4750b4bc6a5d80a7486c2450d",
       "outputs": [
        {
         "data": {
          "application/vnd.plotly.v1+json": {
           "config": {
            "plotlyServerURL": "https://plot.ly"
           },
           "data": [
            {
             "alignmentgroup": "True",
             "customdata": [
              [
               22847637
              ]
             ],
             "hovertemplate": "country=%{x}<br>Confirmed=%{customdata[0]}<extra></extra>",
             "legendgroup": "US",
             "marker": {
              "color": "#636efa"
             },
             "name": "US",
             "offsetgroup": "US",
             "orientation": "v",
             "showlegend": true,
             "textposition": "auto",
             "type": "bar",
             "x": [
              "US"
             ],
             "xaxis": "x",
             "y": [
              22847637
             ],
             "yaxis": "y"
            }
           ],
           "layout": {
            "barmode": "relative",
            "height": 400,
            "legend": {
             "title": {
              "text": "country"
             },
             "tracegroupgap": 0
            },
            "template": {
             "data": {
              "bar": [
               {
                "error_x": {
                 "color": "#2a3f5f"
                },
                "error_y": {
                 "color": "#2a3f5f"
                },
                "marker": {
                 "line": {
                  "color": "#E5ECF6",
                  "width": 0.5
                 }
                },
                "type": "bar"
               }
              ],
              "barpolar": [
               {
                "marker": {
                 "line": {
                  "color": "#E5ECF6",
                  "width": 0.5
                 }
                },
                "type": "barpolar"
               }
              ],
              "carpet": [
               {
                "aaxis": {
                 "endlinecolor": "#2a3f5f",
                 "gridcolor": "white",
                 "linecolor": "white",
                 "minorgridcolor": "white",
                 "startlinecolor": "#2a3f5f"
                },
                "baxis": {
                 "endlinecolor": "#2a3f5f",
                 "gridcolor": "white",
                 "linecolor": "white",
                 "minorgridcolor": "white",
                 "startlinecolor": "#2a3f5f"
                },
                "type": "carpet"
               }
              ],
              "choropleth": [
               {
                "colorbar": {
                 "outlinewidth": 0,
                 "ticks": ""
                },
                "type": "choropleth"
               }
              ],
              "contour": [
               {
                "colorbar": {
                 "outlinewidth": 0,
                 "ticks": ""
                },
                "colorscale": [
                 [
                  0,
                  "#0d0887"
                 ],
                 [
                  0.1111111111111111,
                  "#46039f"
                 ],
                 [
                  0.2222222222222222,
                  "#7201a8"
                 ],
                 [
                  0.3333333333333333,
                  "#9c179e"
                 ],
                 [
                  0.4444444444444444,
                  "#bd3786"
                 ],
                 [
                  0.5555555555555556,
                  "#d8576b"
                 ],
                 [
                  0.6666666666666666,
                  "#ed7953"
                 ],
                 [
                  0.7777777777777778,
                  "#fb9f3a"
                 ],
                 [
                  0.8888888888888888,
                  "#fdca26"
                 ],
                 [
                  1,
                  "#f0f921"
                 ]
                ],
                "type": "contour"
               }
              ],
              "contourcarpet": [
               {
                "colorbar": {
                 "outlinewidth": 0,
                 "ticks": ""
                },
                "type": "contourcarpet"
               }
              ],
              "heatmap": [
               {
                "colorbar": {
                 "outlinewidth": 0,
                 "ticks": ""
                },
                "colorscale": [
                 [
                  0,
                  "#0d0887"
                 ],
                 [
                  0.1111111111111111,
                  "#46039f"
                 ],
                 [
                  0.2222222222222222,
                  "#7201a8"
                 ],
                 [
                  0.3333333333333333,
                  "#9c179e"
                 ],
                 [
                  0.4444444444444444,
                  "#bd3786"
                 ],
                 [
                  0.5555555555555556,
                  "#d8576b"
                 ],
                 [
                  0.6666666666666666,
                  "#ed7953"
                 ],
                 [
                  0.7777777777777778,
                  "#fb9f3a"
                 ],
                 [
                  0.8888888888888888,
                  "#fdca26"
                 ],
                 [
                  1,
                  "#f0f921"
                 ]
                ],
                "type": "heatmap"
               }
              ],
              "heatmapgl": [
               {
                "colorbar": {
                 "outlinewidth": 0,
                 "ticks": ""
                },
                "colorscale": [
                 [
                  0,
                  "#0d0887"
                 ],
                 [
                  0.1111111111111111,
                  "#46039f"
                 ],
                 [
                  0.2222222222222222,
                  "#7201a8"
                 ],
                 [
                  0.3333333333333333,
                  "#9c179e"
                 ],
                 [
                  0.4444444444444444,
                  "#bd3786"
                 ],
                 [
                  0.5555555555555556,
                  "#d8576b"
                 ],
                 [
                  0.6666666666666666,
                  "#ed7953"
                 ],
                 [
                  0.7777777777777778,
                  "#fb9f3a"
                 ],
                 [
                  0.8888888888888888,
                  "#fdca26"
                 ],
                 [
                  1,
                  "#f0f921"
                 ]
                ],
                "type": "heatmapgl"
               }
              ],
              "histogram": [
               {
                "marker": {
                 "colorbar": {
                  "outlinewidth": 0,
                  "ticks": ""
                 }
                },
                "type": "histogram"
               }
              ],
              "histogram2d": [
               {
                "colorbar": {
                 "outlinewidth": 0,
                 "ticks": ""
                },
                "colorscale": [
                 [
                  0,
                  "#0d0887"
                 ],
                 [
                  0.1111111111111111,
                  "#46039f"
                 ],
                 [
                  0.2222222222222222,
                  "#7201a8"
                 ],
                 [
                  0.3333333333333333,
                  "#9c179e"
                 ],
                 [
                  0.4444444444444444,
                  "#bd3786"
                 ],
                 [
                  0.5555555555555556,
                  "#d8576b"
                 ],
                 [
                  0.6666666666666666,
                  "#ed7953"
                 ],
                 [
                  0.7777777777777778,
                  "#fb9f3a"
                 ],
                 [
                  0.8888888888888888,
                  "#fdca26"
                 ],
                 [
                  1,
                  "#f0f921"
                 ]
                ],
                "type": "histogram2d"
               }
              ],
              "histogram2dcontour": [
               {
                "colorbar": {
                 "outlinewidth": 0,
                 "ticks": ""
                },
                "colorscale": [
                 [
                  0,
                  "#0d0887"
                 ],
                 [
                  0.1111111111111111,
                  "#46039f"
                 ],
                 [
                  0.2222222222222222,
                  "#7201a8"
                 ],
                 [
                  0.3333333333333333,
                  "#9c179e"
                 ],
                 [
                  0.4444444444444444,
                  "#bd3786"
                 ],
                 [
                  0.5555555555555556,
                  "#d8576b"
                 ],
                 [
                  0.6666666666666666,
                  "#ed7953"
                 ],
                 [
                  0.7777777777777778,
                  "#fb9f3a"
                 ],
                 [
                  0.8888888888888888,
                  "#fdca26"
                 ],
                 [
                  1,
                  "#f0f921"
                 ]
                ],
                "type": "histogram2dcontour"
               }
              ],
              "mesh3d": [
               {
                "colorbar": {
                 "outlinewidth": 0,
                 "ticks": ""
                },
                "type": "mesh3d"
               }
              ],
              "parcoords": [
               {
                "line": {
                 "colorbar": {
                  "outlinewidth": 0,
                  "ticks": ""
                 }
                },
                "type": "parcoords"
               }
              ],
              "pie": [
               {
                "automargin": true,
                "type": "pie"
               }
              ],
              "scatter": [
               {
                "marker": {
                 "colorbar": {
                  "outlinewidth": 0,
                  "ticks": ""
                 }
                },
                "type": "scatter"
               }
              ],
              "scatter3d": [
               {
                "line": {
                 "colorbar": {
                  "outlinewidth": 0,
                  "ticks": ""
                 }
                },
                "marker": {
                 "colorbar": {
                  "outlinewidth": 0,
                  "ticks": ""
                 }
                },
                "type": "scatter3d"
               }
              ],
              "scattercarpet": [
               {
                "marker": {
                 "colorbar": {
                  "outlinewidth": 0,
                  "ticks": ""
                 }
                },
                "type": "scattercarpet"
               }
              ],
              "scattergeo": [
               {
                "marker": {
                 "colorbar": {
                  "outlinewidth": 0,
                  "ticks": ""
                 }
                },
                "type": "scattergeo"
               }
              ],
              "scattergl": [
               {
                "marker": {
                 "colorbar": {
                  "outlinewidth": 0,
                  "ticks": ""
                 }
                },
                "type": "scattergl"
               }
              ],
              "scattermapbox": [
               {
                "marker": {
                 "colorbar": {
                  "outlinewidth": 0,
                  "ticks": ""
                 }
                },
                "type": "scattermapbox"
               }
              ],
              "scatterpolar": [
               {
                "marker": {
                 "colorbar": {
                  "outlinewidth": 0,
                  "ticks": ""
                 }
                },
                "type": "scatterpolar"
               }
              ],
              "scatterpolargl": [
               {
                "marker": {
                 "colorbar": {
                  "outlinewidth": 0,
                  "ticks": ""
                 }
                },
                "type": "scatterpolargl"
               }
              ],
              "scatterternary": [
               {
                "marker": {
                 "colorbar": {
                  "outlinewidth": 0,
                  "ticks": ""
                 }
                },
                "type": "scatterternary"
               }
              ],
              "surface": [
               {
                "colorbar": {
                 "outlinewidth": 0,
                 "ticks": ""
                },
                "colorscale": [
                 [
                  0,
                  "#0d0887"
                 ],
                 [
                  0.1111111111111111,
                  "#46039f"
                 ],
                 [
                  0.2222222222222222,
                  "#7201a8"
                 ],
                 [
                  0.3333333333333333,
                  "#9c179e"
                 ],
                 [
                  0.4444444444444444,
                  "#bd3786"
                 ],
                 [
                  0.5555555555555556,
                  "#d8576b"
                 ],
                 [
                  0.6666666666666666,
                  "#ed7953"
                 ],
                 [
                  0.7777777777777778,
                  "#fb9f3a"
                 ],
                 [
                  0.8888888888888888,
                  "#fdca26"
                 ],
                 [
                  1,
                  "#f0f921"
                 ]
                ],
                "type": "surface"
               }
              ],
              "table": [
               {
                "cells": {
                 "fill": {
                  "color": "#EBF0F8"
                 },
                 "line": {
                  "color": "white"
                 }
                },
                "header": {
                 "fill": {
                  "color": "#C8D4E3"
                 },
                 "line": {
                  "color": "white"
                 }
                },
                "type": "table"
               }
              ]
             },
             "layout": {
              "annotationdefaults": {
               "arrowcolor": "#2a3f5f",
               "arrowhead": 0,
               "arrowwidth": 1
              },
              "autotypenumbers": "strict",
              "coloraxis": {
               "colorbar": {
                "outlinewidth": 0,
                "ticks": ""
               }
              },
              "colorscale": {
               "diverging": [
                [
                 0,
                 "#8e0152"
                ],
                [
                 0.1,
                 "#c51b7d"
                ],
                [
                 0.2,
                 "#de77ae"
                ],
                [
                 0.3,
                 "#f1b6da"
                ],
                [
                 0.4,
                 "#fde0ef"
                ],
                [
                 0.5,
                 "#f7f7f7"
                ],
                [
                 0.6,
                 "#e6f5d0"
                ],
                [
                 0.7,
                 "#b8e186"
                ],
                [
                 0.8,
                 "#7fbc41"
                ],
                [
                 0.9,
                 "#4d9221"
                ],
                [
                 1,
                 "#276419"
                ]
               ],
               "sequential": [
                [
                 0,
                 "#0d0887"
                ],
                [
                 0.1111111111111111,
                 "#46039f"
                ],
                [
                 0.2222222222222222,
                 "#7201a8"
                ],
                [
                 0.3333333333333333,
                 "#9c179e"
                ],
                [
                 0.4444444444444444,
                 "#bd3786"
                ],
                [
                 0.5555555555555556,
                 "#d8576b"
                ],
                [
                 0.6666666666666666,
                 "#ed7953"
                ],
                [
                 0.7777777777777778,
                 "#fb9f3a"
                ],
                [
                 0.8888888888888888,
                 "#fdca26"
                ],
                [
                 1,
                 "#f0f921"
                ]
               ],
               "sequentialminus": [
                [
                 0,
                 "#0d0887"
                ],
                [
                 0.1111111111111111,
                 "#46039f"
                ],
                [
                 0.2222222222222222,
                 "#7201a8"
                ],
                [
                 0.3333333333333333,
                 "#9c179e"
                ],
                [
                 0.4444444444444444,
                 "#bd3786"
                ],
                [
                 0.5555555555555556,
                 "#d8576b"
                ],
                [
                 0.6666666666666666,
                 "#ed7953"
                ],
                [
                 0.7777777777777778,
                 "#fb9f3a"
                ],
                [
                 0.8888888888888888,
                 "#fdca26"
                ],
                [
                 1,
                 "#f0f921"
                ]
               ]
              },
              "colorway": [
               "#636efa",
               "#EF553B",
               "#00cc96",
               "#ab63fa",
               "#FFA15A",
               "#19d3f3",
               "#FF6692",
               "#B6E880",
               "#FF97FF",
               "#FECB52"
              ],
              "font": {
               "color": "#2a3f5f"
              },
              "geo": {
               "bgcolor": "white",
               "lakecolor": "white",
               "landcolor": "#E5ECF6",
               "showlakes": true,
               "showland": true,
               "subunitcolor": "white"
              },
              "hoverlabel": {
               "align": "left"
              },
              "hovermode": "closest",
              "mapbox": {
               "style": "light"
              },
              "paper_bgcolor": "white",
              "plot_bgcolor": "#E5ECF6",
              "polar": {
               "angularaxis": {
                "gridcolor": "white",
                "linecolor": "white",
                "ticks": ""
               },
               "bgcolor": "#E5ECF6",
               "radialaxis": {
                "gridcolor": "white",
                "linecolor": "white",
                "ticks": ""
               }
              },
              "scene": {
               "xaxis": {
                "backgroundcolor": "#E5ECF6",
                "gridcolor": "white",
                "gridwidth": 2,
                "linecolor": "white",
                "showbackground": true,
                "ticks": "",
                "zerolinecolor": "white"
               },
               "yaxis": {
                "backgroundcolor": "#E5ECF6",
                "gridcolor": "white",
                "gridwidth": 2,
                "linecolor": "white",
                "showbackground": true,
                "ticks": "",
                "zerolinecolor": "white"
               },
               "zaxis": {
                "backgroundcolor": "#E5ECF6",
                "gridcolor": "white",
                "gridwidth": 2,
                "linecolor": "white",
                "showbackground": true,
                "ticks": "",
                "zerolinecolor": "white"
               }
              },
              "shapedefaults": {
               "line": {
                "color": "#2a3f5f"
               }
              },
              "ternary": {
               "aaxis": {
                "gridcolor": "white",
                "linecolor": "white",
                "ticks": ""
               },
               "baxis": {
                "gridcolor": "white",
                "linecolor": "white",
                "ticks": ""
               },
               "bgcolor": "#E5ECF6",
               "caxis": {
                "gridcolor": "white",
                "linecolor": "white",
                "ticks": ""
               }
              },
              "title": {
               "x": 0.05
              },
              "xaxis": {
               "automargin": true,
               "gridcolor": "white",
               "linecolor": "white",
               "ticks": "",
               "title": {
                "standoff": 15
               },
               "zerolinecolor": "white",
               "zerolinewidth": 2
              },
              "yaxis": {
               "automargin": true,
               "gridcolor": "white",
               "linecolor": "white",
               "ticks": "",
               "title": {
                "standoff": 15
               },
               "zerolinecolor": "white",
               "zerolinewidth": 2
              }
             }
            },
            "title": {
             "text": "Top infected Countries"
            },
            "xaxis": {
             "anchor": "y",
             "categoryarray": [
              "US"
             ],
             "categoryorder": "array",
             "domain": [
              0,
              1
             ],
             "title": {
              "text": "country"
             }
            },
            "yaxis": {
             "anchor": "x",
             "domain": [
              0,
              1
             ],
             "title": {
              "text": "Confirmed"
             }
            }
           }
          },
          "text/html": "<div>                            <div id=\"22a64c1c-c2cf-4543-9427-2a2f24746e1e\" class=\"plotly-graph-div\" style=\"height:400px; width:100%;\"></div>            <script type=\"text/javascript\">                require([\"plotly\"], function(Plotly) {                    window.PLOTLYENV=window.PLOTLYENV || {};                                    if (document.getElementById(\"22a64c1c-c2cf-4543-9427-2a2f24746e1e\")) {                    Plotly.newPlot(                        \"22a64c1c-c2cf-4543-9427-2a2f24746e1e\",                        [{\"alignmentgroup\": \"True\", \"customdata\": [[22847637]], \"hovertemplate\": \"country=%{x}<br>Confirmed=%{customdata[0]}<extra></extra>\", \"legendgroup\": \"US\", \"marker\": {\"color\": \"#636efa\"}, \"name\": \"US\", \"offsetgroup\": \"US\", \"orientation\": \"v\", \"showlegend\": true, \"textposition\": \"auto\", \"type\": \"bar\", \"x\": [\"US\"], \"xaxis\": \"x\", \"y\": [22847637], \"yaxis\": \"y\"}],                        {\"barmode\": \"relative\", \"height\": 400, \"legend\": {\"title\": {\"text\": \"country\"}, \"tracegroupgap\": 0}, \"template\": {\"data\": {\"bar\": [{\"error_x\": {\"color\": \"#2a3f5f\"}, \"error_y\": {\"color\": \"#2a3f5f\"}, \"marker\": {\"line\": {\"color\": \"#E5ECF6\", \"width\": 0.5}}, \"type\": \"bar\"}], \"barpolar\": [{\"marker\": {\"line\": {\"color\": \"#E5ECF6\", \"width\": 0.5}}, \"type\": \"barpolar\"}], \"carpet\": [{\"aaxis\": {\"endlinecolor\": \"#2a3f5f\", \"gridcolor\": \"white\", \"linecolor\": \"white\", \"minorgridcolor\": \"white\", \"startlinecolor\": \"#2a3f5f\"}, \"baxis\": {\"endlinecolor\": \"#2a3f5f\", \"gridcolor\": \"white\", \"linecolor\": \"white\", \"minorgridcolor\": \"white\", \"startlinecolor\": \"#2a3f5f\"}, \"type\": \"carpet\"}], \"choropleth\": [{\"colorbar\": {\"outlinewidth\": 0, \"ticks\": \"\"}, \"type\": \"choropleth\"}], \"contour\": [{\"colorbar\": {\"outlinewidth\": 0, \"ticks\": \"\"}, \"colorscale\": [[0.0, \"#0d0887\"], [0.1111111111111111, \"#46039f\"], [0.2222222222222222, \"#7201a8\"], [0.3333333333333333, \"#9c179e\"], [0.4444444444444444, \"#bd3786\"], [0.5555555555555556, \"#d8576b\"], [0.6666666666666666, \"#ed7953\"], [0.7777777777777778, \"#fb9f3a\"], [0.8888888888888888, \"#fdca26\"], [1.0, \"#f0f921\"]], \"type\": \"contour\"}], \"contourcarpet\": [{\"colorbar\": {\"outlinewidth\": 0, \"ticks\": \"\"}, \"type\": \"contourcarpet\"}], \"heatmap\": [{\"colorbar\": {\"outlinewidth\": 0, \"ticks\": \"\"}, \"colorscale\": [[0.0, \"#0d0887\"], [0.1111111111111111, \"#46039f\"], [0.2222222222222222, \"#7201a8\"], [0.3333333333333333, \"#9c179e\"], [0.4444444444444444, \"#bd3786\"], [0.5555555555555556, \"#d8576b\"], [0.6666666666666666, \"#ed7953\"], [0.7777777777777778, \"#fb9f3a\"], [0.8888888888888888, \"#fdca26\"], [1.0, \"#f0f921\"]], \"type\": \"heatmap\"}], \"heatmapgl\": [{\"colorbar\": {\"outlinewidth\": 0, \"ticks\": \"\"}, \"colorscale\": [[0.0, \"#0d0887\"], [0.1111111111111111, \"#46039f\"], [0.2222222222222222, \"#7201a8\"], [0.3333333333333333, \"#9c179e\"], [0.4444444444444444, \"#bd3786\"], [0.5555555555555556, \"#d8576b\"], [0.6666666666666666, \"#ed7953\"], [0.7777777777777778, \"#fb9f3a\"], [0.8888888888888888, \"#fdca26\"], [1.0, \"#f0f921\"]], \"type\": \"heatmapgl\"}], \"histogram\": [{\"marker\": {\"colorbar\": {\"outlinewidth\": 0, \"ticks\": \"\"}}, \"type\": \"histogram\"}], \"histogram2d\": [{\"colorbar\": {\"outlinewidth\": 0, \"ticks\": \"\"}, \"colorscale\": [[0.0, \"#0d0887\"], [0.1111111111111111, \"#46039f\"], [0.2222222222222222, \"#7201a8\"], [0.3333333333333333, \"#9c179e\"], [0.4444444444444444, \"#bd3786\"], [0.5555555555555556, \"#d8576b\"], [0.6666666666666666, \"#ed7953\"], [0.7777777777777778, \"#fb9f3a\"], [0.8888888888888888, \"#fdca26\"], [1.0, \"#f0f921\"]], \"type\": \"histogram2d\"}], \"histogram2dcontour\": [{\"colorbar\": {\"outlinewidth\": 0, \"ticks\": \"\"}, \"colorscale\": [[0.0, \"#0d0887\"], [0.1111111111111111, \"#46039f\"], [0.2222222222222222, \"#7201a8\"], [0.3333333333333333, \"#9c179e\"], [0.4444444444444444, \"#bd3786\"], [0.5555555555555556, \"#d8576b\"], [0.6666666666666666, \"#ed7953\"], [0.7777777777777778, \"#fb9f3a\"], [0.8888888888888888, \"#fdca26\"], [1.0, \"#f0f921\"]], \"type\": \"histogram2dcontour\"}], \"mesh3d\": [{\"colorbar\": {\"outlinewidth\": 0, \"ticks\": \"\"}, \"type\": \"mesh3d\"}], \"parcoords\": [{\"line\": {\"colorbar\": {\"outlinewidth\": 0, \"ticks\": \"\"}}, \"type\": \"parcoords\"}], \"pie\": [{\"automargin\": true, \"type\": \"pie\"}], \"scatter\": [{\"marker\": {\"colorbar\": {\"outlinewidth\": 0, \"ticks\": \"\"}}, \"type\": \"scatter\"}], \"scatter3d\": [{\"line\": {\"colorbar\": {\"outlinewidth\": 0, \"ticks\": \"\"}}, \"marker\": {\"colorbar\": {\"outlinewidth\": 0, \"ticks\": \"\"}}, \"type\": \"scatter3d\"}], \"scattercarpet\": [{\"marker\": {\"colorbar\": {\"outlinewidth\": 0, \"ticks\": \"\"}}, \"type\": \"scattercarpet\"}], \"scattergeo\": [{\"marker\": {\"colorbar\": {\"outlinewidth\": 0, \"ticks\": \"\"}}, \"type\": \"scattergeo\"}], \"scattergl\": [{\"marker\": {\"colorbar\": {\"outlinewidth\": 0, \"ticks\": \"\"}}, \"type\": \"scattergl\"}], \"scattermapbox\": [{\"marker\": {\"colorbar\": {\"outlinewidth\": 0, \"ticks\": \"\"}}, \"type\": \"scattermapbox\"}], \"scatterpolar\": [{\"marker\": {\"colorbar\": {\"outlinewidth\": 0, \"ticks\": \"\"}}, \"type\": \"scatterpolar\"}], \"scatterpolargl\": [{\"marker\": {\"colorbar\": {\"outlinewidth\": 0, \"ticks\": \"\"}}, \"type\": \"scatterpolargl\"}], \"scatterternary\": [{\"marker\": {\"colorbar\": {\"outlinewidth\": 0, \"ticks\": \"\"}}, \"type\": \"scatterternary\"}], \"surface\": [{\"colorbar\": {\"outlinewidth\": 0, \"ticks\": \"\"}, \"colorscale\": [[0.0, \"#0d0887\"], [0.1111111111111111, \"#46039f\"], [0.2222222222222222, \"#7201a8\"], [0.3333333333333333, \"#9c179e\"], [0.4444444444444444, \"#bd3786\"], [0.5555555555555556, \"#d8576b\"], [0.6666666666666666, \"#ed7953\"], [0.7777777777777778, \"#fb9f3a\"], [0.8888888888888888, \"#fdca26\"], [1.0, \"#f0f921\"]], \"type\": \"surface\"}], \"table\": [{\"cells\": {\"fill\": {\"color\": \"#EBF0F8\"}, \"line\": {\"color\": \"white\"}}, \"header\": {\"fill\": {\"color\": \"#C8D4E3\"}, \"line\": {\"color\": \"white\"}}, \"type\": \"table\"}]}, \"layout\": {\"annotationdefaults\": {\"arrowcolor\": \"#2a3f5f\", \"arrowhead\": 0, \"arrowwidth\": 1}, \"autotypenumbers\": \"strict\", \"coloraxis\": {\"colorbar\": {\"outlinewidth\": 0, \"ticks\": \"\"}}, \"colorscale\": {\"diverging\": [[0, \"#8e0152\"], [0.1, \"#c51b7d\"], [0.2, \"#de77ae\"], [0.3, \"#f1b6da\"], [0.4, \"#fde0ef\"], [0.5, \"#f7f7f7\"], [0.6, \"#e6f5d0\"], [0.7, \"#b8e186\"], [0.8, \"#7fbc41\"], [0.9, \"#4d9221\"], [1, \"#276419\"]], \"sequential\": [[0.0, \"#0d0887\"], [0.1111111111111111, \"#46039f\"], [0.2222222222222222, \"#7201a8\"], [0.3333333333333333, \"#9c179e\"], [0.4444444444444444, \"#bd3786\"], [0.5555555555555556, \"#d8576b\"], [0.6666666666666666, \"#ed7953\"], [0.7777777777777778, \"#fb9f3a\"], [0.8888888888888888, \"#fdca26\"], [1.0, \"#f0f921\"]], \"sequentialminus\": [[0.0, \"#0d0887\"], [0.1111111111111111, \"#46039f\"], [0.2222222222222222, \"#7201a8\"], [0.3333333333333333, \"#9c179e\"], [0.4444444444444444, \"#bd3786\"], [0.5555555555555556, \"#d8576b\"], [0.6666666666666666, \"#ed7953\"], [0.7777777777777778, \"#fb9f3a\"], [0.8888888888888888, \"#fdca26\"], [1.0, \"#f0f921\"]]}, \"colorway\": [\"#636efa\", \"#EF553B\", \"#00cc96\", \"#ab63fa\", \"#FFA15A\", \"#19d3f3\", \"#FF6692\", \"#B6E880\", \"#FF97FF\", \"#FECB52\"], \"font\": {\"color\": \"#2a3f5f\"}, \"geo\": {\"bgcolor\": \"white\", \"lakecolor\": \"white\", \"landcolor\": \"#E5ECF6\", \"showlakes\": true, \"showland\": true, \"subunitcolor\": \"white\"}, \"hoverlabel\": {\"align\": \"left\"}, \"hovermode\": \"closest\", \"mapbox\": {\"style\": \"light\"}, \"paper_bgcolor\": \"white\", \"plot_bgcolor\": \"#E5ECF6\", \"polar\": {\"angularaxis\": {\"gridcolor\": \"white\", \"linecolor\": \"white\", \"ticks\": \"\"}, \"bgcolor\": \"#E5ECF6\", \"radialaxis\": {\"gridcolor\": \"white\", \"linecolor\": \"white\", \"ticks\": \"\"}}, \"scene\": {\"xaxis\": {\"backgroundcolor\": \"#E5ECF6\", \"gridcolor\": \"white\", \"gridwidth\": 2, \"linecolor\": \"white\", \"showbackground\": true, \"ticks\": \"\", \"zerolinecolor\": \"white\"}, \"yaxis\": {\"backgroundcolor\": \"#E5ECF6\", \"gridcolor\": \"white\", \"gridwidth\": 2, \"linecolor\": \"white\", \"showbackground\": true, \"ticks\": \"\", \"zerolinecolor\": \"white\"}, \"zaxis\": {\"backgroundcolor\": \"#E5ECF6\", \"gridcolor\": \"white\", \"gridwidth\": 2, \"linecolor\": \"white\", \"showbackground\": true, \"ticks\": \"\", \"zerolinecolor\": \"white\"}}, \"shapedefaults\": {\"line\": {\"color\": \"#2a3f5f\"}}, \"ternary\": {\"aaxis\": {\"gridcolor\": \"white\", \"linecolor\": \"white\", \"ticks\": \"\"}, \"baxis\": {\"gridcolor\": \"white\", \"linecolor\": \"white\", \"ticks\": \"\"}, \"bgcolor\": \"#E5ECF6\", \"caxis\": {\"gridcolor\": \"white\", \"linecolor\": \"white\", \"ticks\": \"\"}}, \"title\": {\"x\": 0.05}, \"xaxis\": {\"automargin\": true, \"gridcolor\": \"white\", \"linecolor\": \"white\", \"ticks\": \"\", \"title\": {\"standoff\": 15}, \"zerolinecolor\": \"white\", \"zerolinewidth\": 2}, \"yaxis\": {\"automargin\": true, \"gridcolor\": \"white\", \"linecolor\": \"white\", \"ticks\": \"\", \"title\": {\"standoff\": 15}, \"zerolinecolor\": \"white\", \"zerolinewidth\": 2}}}, \"title\": {\"text\": \"Top infected Countries\"}, \"xaxis\": {\"anchor\": \"y\", \"categoryarray\": [\"US\"], \"categoryorder\": \"array\", \"domain\": [0.0, 1.0], \"title\": {\"text\": \"country\"}}, \"yaxis\": {\"anchor\": \"x\", \"domain\": [0.0, 1.0], \"title\": {\"text\": \"Confirmed\"}}},                        {\"responsive\": true}                    ).then(function(){\n                            \nvar gd = document.getElementById('22a64c1c-c2cf-4543-9427-2a2f24746e1e');\nvar x = new MutationObserver(function (mutations, observer) {{\n        var display = window.getComputedStyle(gd).display;\n        if (!display || display === 'none') {{\n            console.log([gd, 'removed!']);\n            Plotly.purge(gd);\n            observer.disconnect();\n        }}\n}});\n\n// Listen for the removal of the full notebook cells\nvar notebookContainer = gd.closest('#notebook-container');\nif (notebookContainer) {{\n    x.observe(notebookContainer, {childList: true});\n}}\n\n// Listen for the clearing of the current output cell\nvar outputEl = gd.closest('.output');\nif (outputEl) {{\n    x.observe(outputEl, {childList: true});\n}}\n\n                        })                };                });            </script>        </div>"
         },
         "metadata": {},
         "output_type": "display_data"
        }
       ]
      }
     },
     "c8f9540817284cb9b126baf588568361": {
      "model_module": "@jupyter-widgets/controls",
      "model_module_version": "1.5.0",
      "model_name": "DropdownModel",
      "state": {
       "_options_labels": [
        "Confirmed",
        "Recovered",
        "Death"
       ],
       "description": "content",
       "index": 0,
       "layout": "IPY_MODEL_bc31c62a910d4a75aa9543ea91ab86fe",
       "style": "IPY_MODEL_7dd7aba3f5854c92a44187561e19a89f"
      }
     },
     "ca1042465ba142e0bb13a64aff5e25e8": {
      "model_module": "@jupyter-widgets/controls",
      "model_module_version": "1.5.0",
      "model_name": "DropdownModel",
      "state": {
       "_options_labels": [
        "Afghanistan",
        "Albania",
        "Algeria",
        "Andorra",
        "Angola",
        "Antigua and Barbuda",
        "Argentina",
        "Armenia",
        "Australia",
        "Australia",
        "Australia",
        "Australia",
        "Australia",
        "Australia",
        "Australia",
        "Australia",
        "Austria",
        "Azerbaijan",
        "Bahamas",
        "Bahrain",
        "Bangladesh",
        "Barbados",
        "Belarus",
        "Belgium",
        "Belize",
        "Benin",
        "Bhutan",
        "Bolivia",
        "Bosnia and Herzegovina",
        "Botswana",
        "Brazil",
        "Brunei",
        "Bulgaria",
        "Burkina Faso",
        "Burma",
        "Burundi",
        "Cabo Verde",
        "Cambodia",
        "Cameroon",
        "Canada",
        "Canada",
        "Canada",
        "Canada",
        "Canada",
        "Canada",
        "Canada",
        "Canada",
        "Canada",
        "Canada",
        "Canada",
        "Canada",
        "Canada",
        "Canada",
        "Canada",
        "Canada",
        "Central African Republic",
        "Chad",
        "Chile",
        "China",
        "China",
        "China",
        "China",
        "China",
        "China",
        "China",
        "China",
        "China",
        "China",
        "China",
        "China",
        "China",
        "China",
        "China",
        "China",
        "China",
        "China",
        "China",
        "China",
        "China",
        "China",
        "China",
        "China",
        "China",
        "China",
        "China",
        "China",
        "China",
        "China",
        "China",
        "China",
        "China",
        "Colombia",
        "Comoros",
        "Congo (Brazzaville)",
        "Congo (Kinshasa)",
        "Costa Rica",
        "Cote d'Ivoire",
        "Croatia",
        "Cuba",
        "Cyprus",
        "Czechia",
        "Denmark",
        "Denmark",
        "Denmark",
        "Diamond Princess",
        "Djibouti",
        "Dominica",
        "Dominican Republic",
        "Ecuador",
        "Egypt",
        "El Salvador",
        "Equatorial Guinea",
        "Eritrea",
        "Estonia",
        "Eswatini",
        "Ethiopia",
        "Fiji",
        "Finland",
        "France",
        "France",
        "France",
        "France",
        "France",
        "France",
        "France",
        "France",
        "France",
        "France",
        "France",
        "France",
        "Gabon",
        "Gambia",
        "Georgia",
        "Germany",
        "Ghana",
        "Greece",
        "Grenada",
        "Guatemala",
        "Guinea",
        "Guinea-Bissau",
        "Guyana",
        "Haiti",
        "Holy See",
        "Honduras",
        "Hungary",
        "Iceland",
        "India",
        "Indonesia",
        "Iran",
        "Iraq",
        "Ireland",
        "Israel",
        "Italy",
        "Jamaica",
        "Japan",
        "Jordan",
        "Kazakhstan",
        "Kenya",
        "Korea, South",
        "Kosovo",
        "Kuwait",
        "Kyrgyzstan",
        "Laos",
        "Latvia",
        "Lebanon",
        "Lesotho",
        "Liberia",
        "Libya",
        "Liechtenstein",
        "Lithuania",
        "Luxembourg",
        "MS Zaandam",
        "Madagascar",
        "Malawi",
        "Malaysia",
        "Maldives",
        "Mali",
        "Malta",
        "Marshall Islands",
        "Mauritania",
        "Mauritius",
        "Mexico",
        "Moldova",
        "Monaco",
        "Mongolia",
        "Montenegro",
        "Morocco",
        "Mozambique",
        "Namibia",
        "Nepal",
        "Netherlands",
        "Netherlands",
        "Netherlands",
        "Netherlands",
        "Netherlands",
        "New Zealand",
        "Nicaragua",
        "Niger",
        "Nigeria",
        "North Macedonia",
        "Norway",
        "Oman",
        "Pakistan",
        "Panama",
        "Papua New Guinea",
        "Paraguay",
        "Peru",
        "Philippines",
        "Poland",
        "Portugal",
        "Qatar",
        "Romania",
        "Russia",
        "Rwanda",
        "Saint Kitts and Nevis",
        "Saint Lucia",
        "Saint Vincent and the Grenadines",
        "Samoa",
        "San Marino",
        "Sao Tome and Principe",
        "Saudi Arabia",
        "Senegal",
        "Serbia",
        "Seychelles",
        "Sierra Leone",
        "Singapore",
        "Slovakia",
        "Slovenia",
        "Solomon Islands",
        "Somalia",
        "South Africa",
        "South Sudan",
        "Spain",
        "Sri Lanka",
        "Sudan",
        "Suriname",
        "Sweden",
        "Switzerland",
        "Syria",
        "Taiwan*",
        "Tajikistan",
        "Tanzania",
        "Thailand",
        "Timor-Leste",
        "Togo",
        "Trinidad and Tobago",
        "Tunisia",
        "Turkey",
        "US",
        "Uganda",
        "Ukraine",
        "United Arab Emirates",
        "United Kingdom",
        "United Kingdom",
        "United Kingdom",
        "United Kingdom",
        "United Kingdom",
        "United Kingdom",
        "United Kingdom",
        "United Kingdom",
        "United Kingdom",
        "United Kingdom",
        "United Kingdom",
        "Uruguay",
        "Uzbekistan",
        "Vanuatu",
        "Venezuela",
        "Vietnam",
        "West Bank and Gaza",
        "Yemen",
        "Zambia",
        "Zimbabwe"
       ],
       "description": "country",
       "index": 0,
       "layout": "IPY_MODEL_e6d35bee1e1d4ce8b355bd83b45872a1",
       "style": "IPY_MODEL_49b2c754d7fd429eac93218f800a7f9f"
      }
     },
     "cf39e95a736e491a95c045441086bff2": {
      "model_module": "@jupyter-widgets/controls",
      "model_module_version": "1.5.0",
      "model_name": "CheckboxModel",
      "state": {
       "description": "Worldwide",
       "disabled": false,
       "layout": "IPY_MODEL_3edb0e961c374c4dbe20ee8cff302457",
       "style": "IPY_MODEL_c642e71069ab4084bcabf28464c0b3e5",
       "value": false
      }
     },
     "d023050e383145abaf78f03c90f8bfc3": {
      "model_module": "@jupyter-widgets/controls",
      "model_module_version": "1.5.0",
      "model_name": "SliderStyleModel",
      "state": {
       "description_width": ""
      }
     },
     "d0bcba171da04ba6a6be2ed597d3d8c6": {
      "model_module": "@jupyter-widgets/controls",
      "model_module_version": "1.5.0",
      "model_name": "SliderStyleModel",
      "state": {
       "description_width": ""
      }
     },
     "d334527dbd254711be6dccc15406525c": {
      "model_module": "@jupyter-widgets/base",
      "model_module_version": "1.2.0",
      "model_name": "LayoutModel",
      "state": {}
     },
     "d404959320d74328844b90c27f15fa31": {
      "model_module": "@jupyter-widgets/base",
      "model_module_version": "1.2.0",
      "model_name": "LayoutModel",
      "state": {}
     },
     "d55ff0cd43664f788d8fc8242d8cee2a": {
      "model_module": "@jupyter-widgets/base",
      "model_module_version": "1.2.0",
      "model_name": "LayoutModel",
      "state": {}
     },
     "d69104dd8f174a93af0750a05a00c0a5": {
      "model_module": "@jupyter-widgets/controls",
      "model_module_version": "1.5.0",
      "model_name": "DropdownModel",
      "state": {
       "_options_labels": [
        "Confirmed",
        "Recovered",
        "Death"
       ],
       "description": "content",
       "index": 0,
       "layout": "IPY_MODEL_28524c6be55d4910a53b270c3340a48f",
       "style": "IPY_MODEL_64b8372f6c7047aa97f6442ced24c941"
      }
     },
     "d7c475c985fd4cb7952aa6c7296296ff": {
      "model_module": "@jupyter-widgets/base",
      "model_module_version": "1.2.0",
      "model_name": "LayoutModel",
      "state": {}
     },
     "d9a1fe98d2ed4794b55e981ac2105f1b": {
      "model_module": "@jupyter-widgets/base",
      "model_module_version": "1.2.0",
      "model_name": "LayoutModel",
      "state": {}
     },
     "da6596def03a4af0adfde0066ee83c8e": {
      "model_module": "@jupyter-widgets/base",
      "model_module_version": "1.2.0",
      "model_name": "LayoutModel",
      "state": {}
     },
     "db1c272d90ff497ba5c24d5f5f117cf3": {
      "model_module": "@jupyter-widgets/output",
      "model_module_version": "1.0.0",
      "model_name": "OutputModel",
      "state": {
       "layout": "IPY_MODEL_d55ff0cd43664f788d8fc8242d8cee2a",
       "outputs": [
        {
         "data": {
          "application/vnd.plotly.v1+json": {
           "config": {
            "plotlyServerURL": "https://plot.ly"
           },
           "data": [
            {
             "alignmentgroup": "True",
             "customdata": [
              [
               22847637
              ]
             ],
             "hovertemplate": "country=%{x}<br>Confirmed=%{customdata[0]}<extra></extra>",
             "legendgroup": "US",
             "marker": {
              "color": "#636efa"
             },
             "name": "US",
             "offsetgroup": "US",
             "orientation": "v",
             "showlegend": true,
             "textposition": "auto",
             "type": "bar",
             "x": [
              "US"
             ],
             "xaxis": "x",
             "y": [
              22847637
             ],
             "yaxis": "y"
            },
            {
             "alignmentgroup": "True",
             "customdata": [
              [
               10495147
              ]
             ],
             "hovertemplate": "country=%{x}<br>Confirmed=%{customdata[0]}<extra></extra>",
             "legendgroup": "India",
             "marker": {
              "color": "#EF553B"
             },
             "name": "India",
             "offsetgroup": "India",
             "orientation": "v",
             "showlegend": true,
             "textposition": "auto",
             "type": "bar",
             "x": [
              "India"
             ],
             "xaxis": "x",
             "y": [
              10495147
             ],
             "yaxis": "y"
            },
            {
             "alignmentgroup": "True",
             "customdata": [
              [
               8195637
              ]
             ],
             "hovertemplate": "country=%{x}<br>Confirmed=%{customdata[0]}<extra></extra>",
             "legendgroup": "Brazil",
             "marker": {
              "color": "#00cc96"
             },
             "name": "Brazil",
             "offsetgroup": "Brazil",
             "orientation": "v",
             "showlegend": true,
             "textposition": "auto",
             "type": "bar",
             "x": [
              "Brazil"
             ],
             "xaxis": "x",
             "y": [
              8195637
             ],
             "yaxis": "y"
            },
            {
             "alignmentgroup": "True",
             "customdata": [
              [
               3412390
              ]
             ],
             "hovertemplate": "country=%{x}<br>Confirmed=%{customdata[0]}<extra></extra>",
             "legendgroup": "Russia",
             "marker": {
              "color": "#ab63fa"
             },
             "name": "Russia",
             "offsetgroup": "Russia",
             "orientation": "v",
             "showlegend": true,
             "textposition": "auto",
             "type": "bar",
             "x": [
              "Russia"
             ],
             "xaxis": "x",
             "y": [
              3412390
             ],
             "yaxis": "y"
            },
            {
             "alignmentgroup": "True",
             "customdata": [
              [
               3173291
              ]
             ],
             "hovertemplate": "country=%{x}<br>Confirmed=%{customdata[0]}<extra></extra>",
             "legendgroup": "United Kingdom",
             "marker": {
              "color": "#FFA15A"
             },
             "name": "United Kingdom",
             "offsetgroup": "United Kingdom",
             "orientation": "v",
             "showlegend": true,
             "textposition": "auto",
             "type": "bar",
             "x": [
              "United Kingdom"
             ],
             "xaxis": "x",
             "y": [
              3173291
             ],
             "yaxis": "y"
            },
            {
             "alignmentgroup": "True",
             "customdata": [
              [
               2864360
              ]
             ],
             "hovertemplate": "country=%{x}<br>Confirmed=%{customdata[0]}<extra></extra>",
             "legendgroup": "France",
             "marker": {
              "color": "#19d3f3"
             },
             "name": "France",
             "offsetgroup": "France",
             "orientation": "v",
             "showlegend": true,
             "textposition": "auto",
             "type": "bar",
             "x": [
              "France"
             ],
             "xaxis": "x",
             "y": [
              2864360
             ],
             "yaxis": "y"
            },
            {
             "alignmentgroup": "True",
             "customdata": [
              [
               2346285
              ]
             ],
             "hovertemplate": "country=%{x}<br>Confirmed=%{customdata[0]}<extra></extra>",
             "legendgroup": "Turkey",
             "marker": {
              "color": "#FF6692"
             },
             "name": "Turkey",
             "offsetgroup": "Turkey",
             "orientation": "v",
             "showlegend": true,
             "textposition": "auto",
             "type": "bar",
             "x": [
              "Turkey"
             ],
             "xaxis": "x",
             "y": [
              2346285
             ],
             "yaxis": "y"
            },
            {
             "alignmentgroup": "True",
             "customdata": [
              [
               2303263
              ]
             ],
             "hovertemplate": "country=%{x}<br>Confirmed=%{customdata[0]}<extra></extra>",
             "legendgroup": "Italy",
             "marker": {
              "color": "#B6E880"
             },
             "name": "Italy",
             "offsetgroup": "Italy",
             "orientation": "v",
             "showlegend": true,
             "textposition": "auto",
             "type": "bar",
             "x": [
              "Italy"
             ],
             "xaxis": "x",
             "y": [
              2303263
             ],
             "yaxis": "y"
            },
            {
             "alignmentgroup": "True",
             "customdata": [
              [
               2137220
              ]
             ],
             "hovertemplate": "country=%{x}<br>Confirmed=%{customdata[0]}<extra></extra>",
             "legendgroup": "Spain",
             "marker": {
              "color": "#FF97FF"
             },
             "name": "Spain",
             "offsetgroup": "Spain",
             "orientation": "v",
             "showlegend": true,
             "textposition": "auto",
             "type": "bar",
             "x": [
              "Spain"
             ],
             "xaxis": "x",
             "y": [
              2137220
             ],
             "yaxis": "y"
            },
            {
             "alignmentgroup": "True",
             "customdata": [
              [
               1968326
              ]
             ],
             "hovertemplate": "country=%{x}<br>Confirmed=%{customdata[0]}<extra></extra>",
             "legendgroup": "Germany",
             "marker": {
              "color": "#FECB52"
             },
             "name": "Germany",
             "offsetgroup": "Germany",
             "orientation": "v",
             "showlegend": true,
             "textposition": "auto",
             "type": "bar",
             "x": [
              "Germany"
             ],
             "xaxis": "x",
             "y": [
              1968326
             ],
             "yaxis": "y"
            }
           ],
           "layout": {
            "barmode": "relative",
            "height": 400,
            "legend": {
             "title": {
              "text": "country"
             },
             "tracegroupgap": 0
            },
            "template": {
             "data": {
              "bar": [
               {
                "error_x": {
                 "color": "#2a3f5f"
                },
                "error_y": {
                 "color": "#2a3f5f"
                },
                "marker": {
                 "line": {
                  "color": "#E5ECF6",
                  "width": 0.5
                 }
                },
                "type": "bar"
               }
              ],
              "barpolar": [
               {
                "marker": {
                 "line": {
                  "color": "#E5ECF6",
                  "width": 0.5
                 }
                },
                "type": "barpolar"
               }
              ],
              "carpet": [
               {
                "aaxis": {
                 "endlinecolor": "#2a3f5f",
                 "gridcolor": "white",
                 "linecolor": "white",
                 "minorgridcolor": "white",
                 "startlinecolor": "#2a3f5f"
                },
                "baxis": {
                 "endlinecolor": "#2a3f5f",
                 "gridcolor": "white",
                 "linecolor": "white",
                 "minorgridcolor": "white",
                 "startlinecolor": "#2a3f5f"
                },
                "type": "carpet"
               }
              ],
              "choropleth": [
               {
                "colorbar": {
                 "outlinewidth": 0,
                 "ticks": ""
                },
                "type": "choropleth"
               }
              ],
              "contour": [
               {
                "colorbar": {
                 "outlinewidth": 0,
                 "ticks": ""
                },
                "colorscale": [
                 [
                  0,
                  "#0d0887"
                 ],
                 [
                  0.1111111111111111,
                  "#46039f"
                 ],
                 [
                  0.2222222222222222,
                  "#7201a8"
                 ],
                 [
                  0.3333333333333333,
                  "#9c179e"
                 ],
                 [
                  0.4444444444444444,
                  "#bd3786"
                 ],
                 [
                  0.5555555555555556,
                  "#d8576b"
                 ],
                 [
                  0.6666666666666666,
                  "#ed7953"
                 ],
                 [
                  0.7777777777777778,
                  "#fb9f3a"
                 ],
                 [
                  0.8888888888888888,
                  "#fdca26"
                 ],
                 [
                  1,
                  "#f0f921"
                 ]
                ],
                "type": "contour"
               }
              ],
              "contourcarpet": [
               {
                "colorbar": {
                 "outlinewidth": 0,
                 "ticks": ""
                },
                "type": "contourcarpet"
               }
              ],
              "heatmap": [
               {
                "colorbar": {
                 "outlinewidth": 0,
                 "ticks": ""
                },
                "colorscale": [
                 [
                  0,
                  "#0d0887"
                 ],
                 [
                  0.1111111111111111,
                  "#46039f"
                 ],
                 [
                  0.2222222222222222,
                  "#7201a8"
                 ],
                 [
                  0.3333333333333333,
                  "#9c179e"
                 ],
                 [
                  0.4444444444444444,
                  "#bd3786"
                 ],
                 [
                  0.5555555555555556,
                  "#d8576b"
                 ],
                 [
                  0.6666666666666666,
                  "#ed7953"
                 ],
                 [
                  0.7777777777777778,
                  "#fb9f3a"
                 ],
                 [
                  0.8888888888888888,
                  "#fdca26"
                 ],
                 [
                  1,
                  "#f0f921"
                 ]
                ],
                "type": "heatmap"
               }
              ],
              "heatmapgl": [
               {
                "colorbar": {
                 "outlinewidth": 0,
                 "ticks": ""
                },
                "colorscale": [
                 [
                  0,
                  "#0d0887"
                 ],
                 [
                  0.1111111111111111,
                  "#46039f"
                 ],
                 [
                  0.2222222222222222,
                  "#7201a8"
                 ],
                 [
                  0.3333333333333333,
                  "#9c179e"
                 ],
                 [
                  0.4444444444444444,
                  "#bd3786"
                 ],
                 [
                  0.5555555555555556,
                  "#d8576b"
                 ],
                 [
                  0.6666666666666666,
                  "#ed7953"
                 ],
                 [
                  0.7777777777777778,
                  "#fb9f3a"
                 ],
                 [
                  0.8888888888888888,
                  "#fdca26"
                 ],
                 [
                  1,
                  "#f0f921"
                 ]
                ],
                "type": "heatmapgl"
               }
              ],
              "histogram": [
               {
                "marker": {
                 "colorbar": {
                  "outlinewidth": 0,
                  "ticks": ""
                 }
                },
                "type": "histogram"
               }
              ],
              "histogram2d": [
               {
                "colorbar": {
                 "outlinewidth": 0,
                 "ticks": ""
                },
                "colorscale": [
                 [
                  0,
                  "#0d0887"
                 ],
                 [
                  0.1111111111111111,
                  "#46039f"
                 ],
                 [
                  0.2222222222222222,
                  "#7201a8"
                 ],
                 [
                  0.3333333333333333,
                  "#9c179e"
                 ],
                 [
                  0.4444444444444444,
                  "#bd3786"
                 ],
                 [
                  0.5555555555555556,
                  "#d8576b"
                 ],
                 [
                  0.6666666666666666,
                  "#ed7953"
                 ],
                 [
                  0.7777777777777778,
                  "#fb9f3a"
                 ],
                 [
                  0.8888888888888888,
                  "#fdca26"
                 ],
                 [
                  1,
                  "#f0f921"
                 ]
                ],
                "type": "histogram2d"
               }
              ],
              "histogram2dcontour": [
               {
                "colorbar": {
                 "outlinewidth": 0,
                 "ticks": ""
                },
                "colorscale": [
                 [
                  0,
                  "#0d0887"
                 ],
                 [
                  0.1111111111111111,
                  "#46039f"
                 ],
                 [
                  0.2222222222222222,
                  "#7201a8"
                 ],
                 [
                  0.3333333333333333,
                  "#9c179e"
                 ],
                 [
                  0.4444444444444444,
                  "#bd3786"
                 ],
                 [
                  0.5555555555555556,
                  "#d8576b"
                 ],
                 [
                  0.6666666666666666,
                  "#ed7953"
                 ],
                 [
                  0.7777777777777778,
                  "#fb9f3a"
                 ],
                 [
                  0.8888888888888888,
                  "#fdca26"
                 ],
                 [
                  1,
                  "#f0f921"
                 ]
                ],
                "type": "histogram2dcontour"
               }
              ],
              "mesh3d": [
               {
                "colorbar": {
                 "outlinewidth": 0,
                 "ticks": ""
                },
                "type": "mesh3d"
               }
              ],
              "parcoords": [
               {
                "line": {
                 "colorbar": {
                  "outlinewidth": 0,
                  "ticks": ""
                 }
                },
                "type": "parcoords"
               }
              ],
              "pie": [
               {
                "automargin": true,
                "type": "pie"
               }
              ],
              "scatter": [
               {
                "marker": {
                 "colorbar": {
                  "outlinewidth": 0,
                  "ticks": ""
                 }
                },
                "type": "scatter"
               }
              ],
              "scatter3d": [
               {
                "line": {
                 "colorbar": {
                  "outlinewidth": 0,
                  "ticks": ""
                 }
                },
                "marker": {
                 "colorbar": {
                  "outlinewidth": 0,
                  "ticks": ""
                 }
                },
                "type": "scatter3d"
               }
              ],
              "scattercarpet": [
               {
                "marker": {
                 "colorbar": {
                  "outlinewidth": 0,
                  "ticks": ""
                 }
                },
                "type": "scattercarpet"
               }
              ],
              "scattergeo": [
               {
                "marker": {
                 "colorbar": {
                  "outlinewidth": 0,
                  "ticks": ""
                 }
                },
                "type": "scattergeo"
               }
              ],
              "scattergl": [
               {
                "marker": {
                 "colorbar": {
                  "outlinewidth": 0,
                  "ticks": ""
                 }
                },
                "type": "scattergl"
               }
              ],
              "scattermapbox": [
               {
                "marker": {
                 "colorbar": {
                  "outlinewidth": 0,
                  "ticks": ""
                 }
                },
                "type": "scattermapbox"
               }
              ],
              "scatterpolar": [
               {
                "marker": {
                 "colorbar": {
                  "outlinewidth": 0,
                  "ticks": ""
                 }
                },
                "type": "scatterpolar"
               }
              ],
              "scatterpolargl": [
               {
                "marker": {
                 "colorbar": {
                  "outlinewidth": 0,
                  "ticks": ""
                 }
                },
                "type": "scatterpolargl"
               }
              ],
              "scatterternary": [
               {
                "marker": {
                 "colorbar": {
                  "outlinewidth": 0,
                  "ticks": ""
                 }
                },
                "type": "scatterternary"
               }
              ],
              "surface": [
               {
                "colorbar": {
                 "outlinewidth": 0,
                 "ticks": ""
                },
                "colorscale": [
                 [
                  0,
                  "#0d0887"
                 ],
                 [
                  0.1111111111111111,
                  "#46039f"
                 ],
                 [
                  0.2222222222222222,
                  "#7201a8"
                 ],
                 [
                  0.3333333333333333,
                  "#9c179e"
                 ],
                 [
                  0.4444444444444444,
                  "#bd3786"
                 ],
                 [
                  0.5555555555555556,
                  "#d8576b"
                 ],
                 [
                  0.6666666666666666,
                  "#ed7953"
                 ],
                 [
                  0.7777777777777778,
                  "#fb9f3a"
                 ],
                 [
                  0.8888888888888888,
                  "#fdca26"
                 ],
                 [
                  1,
                  "#f0f921"
                 ]
                ],
                "type": "surface"
               }
              ],
              "table": [
               {
                "cells": {
                 "fill": {
                  "color": "#EBF0F8"
                 },
                 "line": {
                  "color": "white"
                 }
                },
                "header": {
                 "fill": {
                  "color": "#C8D4E3"
                 },
                 "line": {
                  "color": "white"
                 }
                },
                "type": "table"
               }
              ]
             },
             "layout": {
              "annotationdefaults": {
               "arrowcolor": "#2a3f5f",
               "arrowhead": 0,
               "arrowwidth": 1
              },
              "autotypenumbers": "strict",
              "coloraxis": {
               "colorbar": {
                "outlinewidth": 0,
                "ticks": ""
               }
              },
              "colorscale": {
               "diverging": [
                [
                 0,
                 "#8e0152"
                ],
                [
                 0.1,
                 "#c51b7d"
                ],
                [
                 0.2,
                 "#de77ae"
                ],
                [
                 0.3,
                 "#f1b6da"
                ],
                [
                 0.4,
                 "#fde0ef"
                ],
                [
                 0.5,
                 "#f7f7f7"
                ],
                [
                 0.6,
                 "#e6f5d0"
                ],
                [
                 0.7,
                 "#b8e186"
                ],
                [
                 0.8,
                 "#7fbc41"
                ],
                [
                 0.9,
                 "#4d9221"
                ],
                [
                 1,
                 "#276419"
                ]
               ],
               "sequential": [
                [
                 0,
                 "#0d0887"
                ],
                [
                 0.1111111111111111,
                 "#46039f"
                ],
                [
                 0.2222222222222222,
                 "#7201a8"
                ],
                [
                 0.3333333333333333,
                 "#9c179e"
                ],
                [
                 0.4444444444444444,
                 "#bd3786"
                ],
                [
                 0.5555555555555556,
                 "#d8576b"
                ],
                [
                 0.6666666666666666,
                 "#ed7953"
                ],
                [
                 0.7777777777777778,
                 "#fb9f3a"
                ],
                [
                 0.8888888888888888,
                 "#fdca26"
                ],
                [
                 1,
                 "#f0f921"
                ]
               ],
               "sequentialminus": [
                [
                 0,
                 "#0d0887"
                ],
                [
                 0.1111111111111111,
                 "#46039f"
                ],
                [
                 0.2222222222222222,
                 "#7201a8"
                ],
                [
                 0.3333333333333333,
                 "#9c179e"
                ],
                [
                 0.4444444444444444,
                 "#bd3786"
                ],
                [
                 0.5555555555555556,
                 "#d8576b"
                ],
                [
                 0.6666666666666666,
                 "#ed7953"
                ],
                [
                 0.7777777777777778,
                 "#fb9f3a"
                ],
                [
                 0.8888888888888888,
                 "#fdca26"
                ],
                [
                 1,
                 "#f0f921"
                ]
               ]
              },
              "colorway": [
               "#636efa",
               "#EF553B",
               "#00cc96",
               "#ab63fa",
               "#FFA15A",
               "#19d3f3",
               "#FF6692",
               "#B6E880",
               "#FF97FF",
               "#FECB52"
              ],
              "font": {
               "color": "#2a3f5f"
              },
              "geo": {
               "bgcolor": "white",
               "lakecolor": "white",
               "landcolor": "#E5ECF6",
               "showlakes": true,
               "showland": true,
               "subunitcolor": "white"
              },
              "hoverlabel": {
               "align": "left"
              },
              "hovermode": "closest",
              "mapbox": {
               "style": "light"
              },
              "paper_bgcolor": "white",
              "plot_bgcolor": "#E5ECF6",
              "polar": {
               "angularaxis": {
                "gridcolor": "white",
                "linecolor": "white",
                "ticks": ""
               },
               "bgcolor": "#E5ECF6",
               "radialaxis": {
                "gridcolor": "white",
                "linecolor": "white",
                "ticks": ""
               }
              },
              "scene": {
               "xaxis": {
                "backgroundcolor": "#E5ECF6",
                "gridcolor": "white",
                "gridwidth": 2,
                "linecolor": "white",
                "showbackground": true,
                "ticks": "",
                "zerolinecolor": "white"
               },
               "yaxis": {
                "backgroundcolor": "#E5ECF6",
                "gridcolor": "white",
                "gridwidth": 2,
                "linecolor": "white",
                "showbackground": true,
                "ticks": "",
                "zerolinecolor": "white"
               },
               "zaxis": {
                "backgroundcolor": "#E5ECF6",
                "gridcolor": "white",
                "gridwidth": 2,
                "linecolor": "white",
                "showbackground": true,
                "ticks": "",
                "zerolinecolor": "white"
               }
              },
              "shapedefaults": {
               "line": {
                "color": "#2a3f5f"
               }
              },
              "ternary": {
               "aaxis": {
                "gridcolor": "white",
                "linecolor": "white",
                "ticks": ""
               },
               "baxis": {
                "gridcolor": "white",
                "linecolor": "white",
                "ticks": ""
               },
               "bgcolor": "#E5ECF6",
               "caxis": {
                "gridcolor": "white",
                "linecolor": "white",
                "ticks": ""
               }
              },
              "title": {
               "x": 0.05
              },
              "xaxis": {
               "automargin": true,
               "gridcolor": "white",
               "linecolor": "white",
               "ticks": "",
               "title": {
                "standoff": 15
               },
               "zerolinecolor": "white",
               "zerolinewidth": 2
              },
              "yaxis": {
               "automargin": true,
               "gridcolor": "white",
               "linecolor": "white",
               "ticks": "",
               "title": {
                "standoff": 15
               },
               "zerolinecolor": "white",
               "zerolinewidth": 2
              }
             }
            },
            "title": {
             "text": "Top infected Countries"
            },
            "xaxis": {
             "anchor": "y",
             "categoryarray": [
              "US",
              "India",
              "Brazil",
              "Russia",
              "United Kingdom",
              "France",
              "Turkey",
              "Italy",
              "Spain",
              "Germany"
             ],
             "categoryorder": "array",
             "domain": [
              0,
              1
             ],
             "title": {
              "text": "country"
             }
            },
            "yaxis": {
             "anchor": "x",
             "domain": [
              0,
              1
             ],
             "title": {
              "text": "Confirmed"
             }
            }
           }
          },
          "text/html": "<div>                            <div id=\"bfb014c8-de52-4a37-8501-f80ba712f8ff\" class=\"plotly-graph-div\" style=\"height:400px; width:100%;\"></div>            <script type=\"text/javascript\">                require([\"plotly\"], function(Plotly) {                    window.PLOTLYENV=window.PLOTLYENV || {};                                    if (document.getElementById(\"bfb014c8-de52-4a37-8501-f80ba712f8ff\")) {                    Plotly.newPlot(                        \"bfb014c8-de52-4a37-8501-f80ba712f8ff\",                        [{\"alignmentgroup\": \"True\", \"customdata\": [[22847637]], \"hovertemplate\": \"country=%{x}<br>Confirmed=%{customdata[0]}<extra></extra>\", \"legendgroup\": \"US\", \"marker\": {\"color\": \"#636efa\"}, \"name\": \"US\", \"offsetgroup\": \"US\", \"orientation\": \"v\", \"showlegend\": true, \"textposition\": \"auto\", \"type\": \"bar\", \"x\": [\"US\"], \"xaxis\": \"x\", \"y\": [22847637], \"yaxis\": \"y\"}, {\"alignmentgroup\": \"True\", \"customdata\": [[10495147]], \"hovertemplate\": \"country=%{x}<br>Confirmed=%{customdata[0]}<extra></extra>\", \"legendgroup\": \"India\", \"marker\": {\"color\": \"#EF553B\"}, \"name\": \"India\", \"offsetgroup\": \"India\", \"orientation\": \"v\", \"showlegend\": true, \"textposition\": \"auto\", \"type\": \"bar\", \"x\": [\"India\"], \"xaxis\": \"x\", \"y\": [10495147], \"yaxis\": \"y\"}, {\"alignmentgroup\": \"True\", \"customdata\": [[8195637]], \"hovertemplate\": \"country=%{x}<br>Confirmed=%{customdata[0]}<extra></extra>\", \"legendgroup\": \"Brazil\", \"marker\": {\"color\": \"#00cc96\"}, \"name\": \"Brazil\", \"offsetgroup\": \"Brazil\", \"orientation\": \"v\", \"showlegend\": true, \"textposition\": \"auto\", \"type\": \"bar\", \"x\": [\"Brazil\"], \"xaxis\": \"x\", \"y\": [8195637], \"yaxis\": \"y\"}, {\"alignmentgroup\": \"True\", \"customdata\": [[3412390]], \"hovertemplate\": \"country=%{x}<br>Confirmed=%{customdata[0]}<extra></extra>\", \"legendgroup\": \"Russia\", \"marker\": {\"color\": \"#ab63fa\"}, \"name\": \"Russia\", \"offsetgroup\": \"Russia\", \"orientation\": \"v\", \"showlegend\": true, \"textposition\": \"auto\", \"type\": \"bar\", \"x\": [\"Russia\"], \"xaxis\": \"x\", \"y\": [3412390], \"yaxis\": \"y\"}, {\"alignmentgroup\": \"True\", \"customdata\": [[3173291]], \"hovertemplate\": \"country=%{x}<br>Confirmed=%{customdata[0]}<extra></extra>\", \"legendgroup\": \"United Kingdom\", \"marker\": {\"color\": \"#FFA15A\"}, \"name\": \"United Kingdom\", \"offsetgroup\": \"United Kingdom\", \"orientation\": \"v\", \"showlegend\": true, \"textposition\": \"auto\", \"type\": \"bar\", \"x\": [\"United Kingdom\"], \"xaxis\": \"x\", \"y\": [3173291], \"yaxis\": \"y\"}, {\"alignmentgroup\": \"True\", \"customdata\": [[2864360]], \"hovertemplate\": \"country=%{x}<br>Confirmed=%{customdata[0]}<extra></extra>\", \"legendgroup\": \"France\", \"marker\": {\"color\": \"#19d3f3\"}, \"name\": \"France\", \"offsetgroup\": \"France\", \"orientation\": \"v\", \"showlegend\": true, \"textposition\": \"auto\", \"type\": \"bar\", \"x\": [\"France\"], \"xaxis\": \"x\", \"y\": [2864360], \"yaxis\": \"y\"}, {\"alignmentgroup\": \"True\", \"customdata\": [[2346285]], \"hovertemplate\": \"country=%{x}<br>Confirmed=%{customdata[0]}<extra></extra>\", \"legendgroup\": \"Turkey\", \"marker\": {\"color\": \"#FF6692\"}, \"name\": \"Turkey\", \"offsetgroup\": \"Turkey\", \"orientation\": \"v\", \"showlegend\": true, \"textposition\": \"auto\", \"type\": \"bar\", \"x\": [\"Turkey\"], \"xaxis\": \"x\", \"y\": [2346285], \"yaxis\": \"y\"}, {\"alignmentgroup\": \"True\", \"customdata\": [[2303263]], \"hovertemplate\": \"country=%{x}<br>Confirmed=%{customdata[0]}<extra></extra>\", \"legendgroup\": \"Italy\", \"marker\": {\"color\": \"#B6E880\"}, \"name\": \"Italy\", \"offsetgroup\": \"Italy\", \"orientation\": \"v\", \"showlegend\": true, \"textposition\": \"auto\", \"type\": \"bar\", \"x\": [\"Italy\"], \"xaxis\": \"x\", \"y\": [2303263], \"yaxis\": \"y\"}, {\"alignmentgroup\": \"True\", \"customdata\": [[2137220]], \"hovertemplate\": \"country=%{x}<br>Confirmed=%{customdata[0]}<extra></extra>\", \"legendgroup\": \"Spain\", \"marker\": {\"color\": \"#FF97FF\"}, \"name\": \"Spain\", \"offsetgroup\": \"Spain\", \"orientation\": \"v\", \"showlegend\": true, \"textposition\": \"auto\", \"type\": \"bar\", \"x\": [\"Spain\"], \"xaxis\": \"x\", \"y\": [2137220], \"yaxis\": \"y\"}, {\"alignmentgroup\": \"True\", \"customdata\": [[1968326]], \"hovertemplate\": \"country=%{x}<br>Confirmed=%{customdata[0]}<extra></extra>\", \"legendgroup\": \"Germany\", \"marker\": {\"color\": \"#FECB52\"}, \"name\": \"Germany\", \"offsetgroup\": \"Germany\", \"orientation\": \"v\", \"showlegend\": true, \"textposition\": \"auto\", \"type\": \"bar\", \"x\": [\"Germany\"], \"xaxis\": \"x\", \"y\": [1968326], \"yaxis\": \"y\"}],                        {\"barmode\": \"relative\", \"height\": 400, \"legend\": {\"title\": {\"text\": \"country\"}, \"tracegroupgap\": 0}, \"template\": {\"data\": {\"bar\": [{\"error_x\": {\"color\": \"#2a3f5f\"}, \"error_y\": {\"color\": \"#2a3f5f\"}, \"marker\": {\"line\": {\"color\": \"#E5ECF6\", \"width\": 0.5}}, \"type\": \"bar\"}], \"barpolar\": [{\"marker\": {\"line\": {\"color\": \"#E5ECF6\", \"width\": 0.5}}, \"type\": \"barpolar\"}], \"carpet\": [{\"aaxis\": {\"endlinecolor\": \"#2a3f5f\", \"gridcolor\": \"white\", \"linecolor\": \"white\", \"minorgridcolor\": \"white\", \"startlinecolor\": \"#2a3f5f\"}, \"baxis\": {\"endlinecolor\": \"#2a3f5f\", \"gridcolor\": \"white\", \"linecolor\": \"white\", \"minorgridcolor\": \"white\", \"startlinecolor\": \"#2a3f5f\"}, \"type\": \"carpet\"}], \"choropleth\": [{\"colorbar\": {\"outlinewidth\": 0, \"ticks\": \"\"}, \"type\": \"choropleth\"}], \"contour\": [{\"colorbar\": {\"outlinewidth\": 0, \"ticks\": \"\"}, \"colorscale\": [[0.0, \"#0d0887\"], [0.1111111111111111, \"#46039f\"], [0.2222222222222222, \"#7201a8\"], [0.3333333333333333, \"#9c179e\"], [0.4444444444444444, \"#bd3786\"], [0.5555555555555556, \"#d8576b\"], [0.6666666666666666, \"#ed7953\"], [0.7777777777777778, \"#fb9f3a\"], [0.8888888888888888, \"#fdca26\"], [1.0, \"#f0f921\"]], \"type\": \"contour\"}], \"contourcarpet\": [{\"colorbar\": {\"outlinewidth\": 0, \"ticks\": \"\"}, \"type\": \"contourcarpet\"}], \"heatmap\": [{\"colorbar\": {\"outlinewidth\": 0, \"ticks\": \"\"}, \"colorscale\": [[0.0, \"#0d0887\"], [0.1111111111111111, \"#46039f\"], [0.2222222222222222, \"#7201a8\"], [0.3333333333333333, \"#9c179e\"], [0.4444444444444444, \"#bd3786\"], [0.5555555555555556, \"#d8576b\"], [0.6666666666666666, \"#ed7953\"], [0.7777777777777778, \"#fb9f3a\"], [0.8888888888888888, \"#fdca26\"], [1.0, \"#f0f921\"]], \"type\": \"heatmap\"}], \"heatmapgl\": [{\"colorbar\": {\"outlinewidth\": 0, \"ticks\": \"\"}, \"colorscale\": [[0.0, \"#0d0887\"], [0.1111111111111111, \"#46039f\"], [0.2222222222222222, \"#7201a8\"], [0.3333333333333333, \"#9c179e\"], [0.4444444444444444, \"#bd3786\"], [0.5555555555555556, \"#d8576b\"], [0.6666666666666666, \"#ed7953\"], [0.7777777777777778, \"#fb9f3a\"], [0.8888888888888888, \"#fdca26\"], [1.0, \"#f0f921\"]], \"type\": \"heatmapgl\"}], \"histogram\": [{\"marker\": {\"colorbar\": {\"outlinewidth\": 0, \"ticks\": \"\"}}, \"type\": \"histogram\"}], \"histogram2d\": [{\"colorbar\": {\"outlinewidth\": 0, \"ticks\": \"\"}, \"colorscale\": [[0.0, \"#0d0887\"], [0.1111111111111111, \"#46039f\"], [0.2222222222222222, \"#7201a8\"], [0.3333333333333333, \"#9c179e\"], [0.4444444444444444, \"#bd3786\"], [0.5555555555555556, \"#d8576b\"], [0.6666666666666666, \"#ed7953\"], [0.7777777777777778, \"#fb9f3a\"], [0.8888888888888888, \"#fdca26\"], [1.0, \"#f0f921\"]], \"type\": \"histogram2d\"}], \"histogram2dcontour\": [{\"colorbar\": {\"outlinewidth\": 0, \"ticks\": \"\"}, \"colorscale\": [[0.0, \"#0d0887\"], [0.1111111111111111, \"#46039f\"], [0.2222222222222222, \"#7201a8\"], [0.3333333333333333, \"#9c179e\"], [0.4444444444444444, \"#bd3786\"], [0.5555555555555556, \"#d8576b\"], [0.6666666666666666, \"#ed7953\"], [0.7777777777777778, \"#fb9f3a\"], [0.8888888888888888, \"#fdca26\"], [1.0, \"#f0f921\"]], \"type\": \"histogram2dcontour\"}], \"mesh3d\": [{\"colorbar\": {\"outlinewidth\": 0, \"ticks\": \"\"}, \"type\": \"mesh3d\"}], \"parcoords\": [{\"line\": {\"colorbar\": {\"outlinewidth\": 0, \"ticks\": \"\"}}, \"type\": \"parcoords\"}], \"pie\": [{\"automargin\": true, \"type\": \"pie\"}], \"scatter\": [{\"marker\": {\"colorbar\": {\"outlinewidth\": 0, \"ticks\": \"\"}}, \"type\": \"scatter\"}], \"scatter3d\": [{\"line\": {\"colorbar\": {\"outlinewidth\": 0, \"ticks\": \"\"}}, \"marker\": {\"colorbar\": {\"outlinewidth\": 0, \"ticks\": \"\"}}, \"type\": \"scatter3d\"}], \"scattercarpet\": [{\"marker\": {\"colorbar\": {\"outlinewidth\": 0, \"ticks\": \"\"}}, \"type\": \"scattercarpet\"}], \"scattergeo\": [{\"marker\": {\"colorbar\": {\"outlinewidth\": 0, \"ticks\": \"\"}}, \"type\": \"scattergeo\"}], \"scattergl\": [{\"marker\": {\"colorbar\": {\"outlinewidth\": 0, \"ticks\": \"\"}}, \"type\": \"scattergl\"}], \"scattermapbox\": [{\"marker\": {\"colorbar\": {\"outlinewidth\": 0, \"ticks\": \"\"}}, \"type\": \"scattermapbox\"}], \"scatterpolar\": [{\"marker\": {\"colorbar\": {\"outlinewidth\": 0, \"ticks\": \"\"}}, \"type\": \"scatterpolar\"}], \"scatterpolargl\": [{\"marker\": {\"colorbar\": {\"outlinewidth\": 0, \"ticks\": \"\"}}, \"type\": \"scatterpolargl\"}], \"scatterternary\": [{\"marker\": {\"colorbar\": {\"outlinewidth\": 0, \"ticks\": \"\"}}, \"type\": \"scatterternary\"}], \"surface\": [{\"colorbar\": {\"outlinewidth\": 0, \"ticks\": \"\"}, \"colorscale\": [[0.0, \"#0d0887\"], [0.1111111111111111, \"#46039f\"], [0.2222222222222222, \"#7201a8\"], [0.3333333333333333, \"#9c179e\"], [0.4444444444444444, \"#bd3786\"], [0.5555555555555556, \"#d8576b\"], [0.6666666666666666, \"#ed7953\"], [0.7777777777777778, \"#fb9f3a\"], [0.8888888888888888, \"#fdca26\"], [1.0, \"#f0f921\"]], \"type\": \"surface\"}], \"table\": [{\"cells\": {\"fill\": {\"color\": \"#EBF0F8\"}, \"line\": {\"color\": \"white\"}}, \"header\": {\"fill\": {\"color\": \"#C8D4E3\"}, \"line\": {\"color\": \"white\"}}, \"type\": \"table\"}]}, \"layout\": {\"annotationdefaults\": {\"arrowcolor\": \"#2a3f5f\", \"arrowhead\": 0, \"arrowwidth\": 1}, \"autotypenumbers\": \"strict\", \"coloraxis\": {\"colorbar\": {\"outlinewidth\": 0, \"ticks\": \"\"}}, \"colorscale\": {\"diverging\": [[0, \"#8e0152\"], [0.1, \"#c51b7d\"], [0.2, \"#de77ae\"], [0.3, \"#f1b6da\"], [0.4, \"#fde0ef\"], [0.5, \"#f7f7f7\"], [0.6, \"#e6f5d0\"], [0.7, \"#b8e186\"], [0.8, \"#7fbc41\"], [0.9, \"#4d9221\"], [1, \"#276419\"]], \"sequential\": [[0.0, \"#0d0887\"], [0.1111111111111111, \"#46039f\"], [0.2222222222222222, \"#7201a8\"], [0.3333333333333333, \"#9c179e\"], [0.4444444444444444, \"#bd3786\"], [0.5555555555555556, \"#d8576b\"], [0.6666666666666666, \"#ed7953\"], [0.7777777777777778, \"#fb9f3a\"], [0.8888888888888888, \"#fdca26\"], [1.0, \"#f0f921\"]], \"sequentialminus\": [[0.0, \"#0d0887\"], [0.1111111111111111, \"#46039f\"], [0.2222222222222222, \"#7201a8\"], [0.3333333333333333, \"#9c179e\"], [0.4444444444444444, \"#bd3786\"], [0.5555555555555556, \"#d8576b\"], [0.6666666666666666, \"#ed7953\"], [0.7777777777777778, \"#fb9f3a\"], [0.8888888888888888, \"#fdca26\"], [1.0, \"#f0f921\"]]}, \"colorway\": [\"#636efa\", \"#EF553B\", \"#00cc96\", \"#ab63fa\", \"#FFA15A\", \"#19d3f3\", \"#FF6692\", \"#B6E880\", \"#FF97FF\", \"#FECB52\"], \"font\": {\"color\": \"#2a3f5f\"}, \"geo\": {\"bgcolor\": \"white\", \"lakecolor\": \"white\", \"landcolor\": \"#E5ECF6\", \"showlakes\": true, \"showland\": true, \"subunitcolor\": \"white\"}, \"hoverlabel\": {\"align\": \"left\"}, \"hovermode\": \"closest\", \"mapbox\": {\"style\": \"light\"}, \"paper_bgcolor\": \"white\", \"plot_bgcolor\": \"#E5ECF6\", \"polar\": {\"angularaxis\": {\"gridcolor\": \"white\", \"linecolor\": \"white\", \"ticks\": \"\"}, \"bgcolor\": \"#E5ECF6\", \"radialaxis\": {\"gridcolor\": \"white\", \"linecolor\": \"white\", \"ticks\": \"\"}}, \"scene\": {\"xaxis\": {\"backgroundcolor\": \"#E5ECF6\", \"gridcolor\": \"white\", \"gridwidth\": 2, \"linecolor\": \"white\", \"showbackground\": true, \"ticks\": \"\", \"zerolinecolor\": \"white\"}, \"yaxis\": {\"backgroundcolor\": \"#E5ECF6\", \"gridcolor\": \"white\", \"gridwidth\": 2, \"linecolor\": \"white\", \"showbackground\": true, \"ticks\": \"\", \"zerolinecolor\": \"white\"}, \"zaxis\": {\"backgroundcolor\": \"#E5ECF6\", \"gridcolor\": \"white\", \"gridwidth\": 2, \"linecolor\": \"white\", \"showbackground\": true, \"ticks\": \"\", \"zerolinecolor\": \"white\"}}, \"shapedefaults\": {\"line\": {\"color\": \"#2a3f5f\"}}, \"ternary\": {\"aaxis\": {\"gridcolor\": \"white\", \"linecolor\": \"white\", \"ticks\": \"\"}, \"baxis\": {\"gridcolor\": \"white\", \"linecolor\": \"white\", \"ticks\": \"\"}, \"bgcolor\": \"#E5ECF6\", \"caxis\": {\"gridcolor\": \"white\", \"linecolor\": \"white\", \"ticks\": \"\"}}, \"title\": {\"x\": 0.05}, \"xaxis\": {\"automargin\": true, \"gridcolor\": \"white\", \"linecolor\": \"white\", \"ticks\": \"\", \"title\": {\"standoff\": 15}, \"zerolinecolor\": \"white\", \"zerolinewidth\": 2}, \"yaxis\": {\"automargin\": true, \"gridcolor\": \"white\", \"linecolor\": \"white\", \"ticks\": \"\", \"title\": {\"standoff\": 15}, \"zerolinecolor\": \"white\", \"zerolinewidth\": 2}}}, \"title\": {\"text\": \"Top infected Countries\"}, \"xaxis\": {\"anchor\": \"y\", \"categoryarray\": [\"US\", \"India\", \"Brazil\", \"Russia\", \"United Kingdom\", \"France\", \"Turkey\", \"Italy\", \"Spain\", \"Germany\"], \"categoryorder\": \"array\", \"domain\": [0.0, 1.0], \"title\": {\"text\": \"country\"}}, \"yaxis\": {\"anchor\": \"x\", \"domain\": [0.0, 1.0], \"title\": {\"text\": \"Confirmed\"}}},                        {\"responsive\": true}                    ).then(function(){\n                            \nvar gd = document.getElementById('bfb014c8-de52-4a37-8501-f80ba712f8ff');\nvar x = new MutationObserver(function (mutations, observer) {{\n        var display = window.getComputedStyle(gd).display;\n        if (!display || display === 'none') {{\n            console.log([gd, 'removed!']);\n            Plotly.purge(gd);\n            observer.disconnect();\n        }}\n}});\n\n// Listen for the removal of the full notebook cells\nvar notebookContainer = gd.closest('#notebook-container');\nif (notebookContainer) {{\n    x.observe(notebookContainer, {childList: true});\n}}\n\n// Listen for the clearing of the current output cell\nvar outputEl = gd.closest('.output');\nif (outputEl) {{\n    x.observe(outputEl, {childList: true});\n}}\n\n                        })                };                });            </script>        </div>"
         },
         "metadata": {},
         "output_type": "display_data"
        }
       ]
      }
     },
     "db5cab31076849198f62c915bc0234b4": {
      "model_module": "@jupyter-widgets/base",
      "model_module_version": "1.2.0",
      "model_name": "LayoutModel",
      "state": {}
     },
     "dd30c984008e4f0aaaccda2f218cf8cf": {
      "model_module": "@jupyter-widgets/controls",
      "model_module_version": "1.5.0",
      "model_name": "DescriptionStyleModel",
      "state": {
       "description_width": ""
      }
     },
     "dff5f56976894aa4ae89b5c6246f0554": {
      "model_module": "@jupyter-widgets/output",
      "model_module_version": "1.0.0",
      "model_name": "OutputModel",
      "state": {
       "layout": "IPY_MODEL_c36812a150734b92ba1970f3036cbe7c",
       "outputs": [
        {
         "data": {
          "application/vnd.plotly.v1+json": {
           "config": {
            "plotlyServerURL": "https://plot.ly"
           },
           "data": [
            {
             "alignmentgroup": "True",
             "customdata": [
              [
               22847637
              ]
             ],
             "hovertemplate": "country=%{x}<br>Confirmed=%{customdata[0]}<extra></extra>",
             "legendgroup": "US",
             "marker": {
              "color": "#636efa"
             },
             "name": "US",
             "offsetgroup": "US",
             "orientation": "v",
             "showlegend": true,
             "textposition": "auto",
             "type": "bar",
             "x": [
              "US"
             ],
             "xaxis": "x",
             "y": [
              22847637
             ],
             "yaxis": "y"
            },
            {
             "alignmentgroup": "True",
             "customdata": [
              [
               10495147
              ]
             ],
             "hovertemplate": "country=%{x}<br>Confirmed=%{customdata[0]}<extra></extra>",
             "legendgroup": "India",
             "marker": {
              "color": "#EF553B"
             },
             "name": "India",
             "offsetgroup": "India",
             "orientation": "v",
             "showlegend": true,
             "textposition": "auto",
             "type": "bar",
             "x": [
              "India"
             ],
             "xaxis": "x",
             "y": [
              10495147
             ],
             "yaxis": "y"
            },
            {
             "alignmentgroup": "True",
             "customdata": [
              [
               8195637
              ]
             ],
             "hovertemplate": "country=%{x}<br>Confirmed=%{customdata[0]}<extra></extra>",
             "legendgroup": "Brazil",
             "marker": {
              "color": "#00cc96"
             },
             "name": "Brazil",
             "offsetgroup": "Brazil",
             "orientation": "v",
             "showlegend": true,
             "textposition": "auto",
             "type": "bar",
             "x": [
              "Brazil"
             ],
             "xaxis": "x",
             "y": [
              8195637
             ],
             "yaxis": "y"
            },
            {
             "alignmentgroup": "True",
             "customdata": [
              [
               3412390
              ]
             ],
             "hovertemplate": "country=%{x}<br>Confirmed=%{customdata[0]}<extra></extra>",
             "legendgroup": "Russia",
             "marker": {
              "color": "#ab63fa"
             },
             "name": "Russia",
             "offsetgroup": "Russia",
             "orientation": "v",
             "showlegend": true,
             "textposition": "auto",
             "type": "bar",
             "x": [
              "Russia"
             ],
             "xaxis": "x",
             "y": [
              3412390
             ],
             "yaxis": "y"
            },
            {
             "alignmentgroup": "True",
             "customdata": [
              [
               3173291
              ]
             ],
             "hovertemplate": "country=%{x}<br>Confirmed=%{customdata[0]}<extra></extra>",
             "legendgroup": "United Kingdom",
             "marker": {
              "color": "#FFA15A"
             },
             "name": "United Kingdom",
             "offsetgroup": "United Kingdom",
             "orientation": "v",
             "showlegend": true,
             "textposition": "auto",
             "type": "bar",
             "x": [
              "United Kingdom"
             ],
             "xaxis": "x",
             "y": [
              3173291
             ],
             "yaxis": "y"
            },
            {
             "alignmentgroup": "True",
             "customdata": [
              [
               2864360
              ]
             ],
             "hovertemplate": "country=%{x}<br>Confirmed=%{customdata[0]}<extra></extra>",
             "legendgroup": "France",
             "marker": {
              "color": "#19d3f3"
             },
             "name": "France",
             "offsetgroup": "France",
             "orientation": "v",
             "showlegend": true,
             "textposition": "auto",
             "type": "bar",
             "x": [
              "France"
             ],
             "xaxis": "x",
             "y": [
              2864360
             ],
             "yaxis": "y"
            },
            {
             "alignmentgroup": "True",
             "customdata": [
              [
               2346285
              ]
             ],
             "hovertemplate": "country=%{x}<br>Confirmed=%{customdata[0]}<extra></extra>",
             "legendgroup": "Turkey",
             "marker": {
              "color": "#FF6692"
             },
             "name": "Turkey",
             "offsetgroup": "Turkey",
             "orientation": "v",
             "showlegend": true,
             "textposition": "auto",
             "type": "bar",
             "x": [
              "Turkey"
             ],
             "xaxis": "x",
             "y": [
              2346285
             ],
             "yaxis": "y"
            },
            {
             "alignmentgroup": "True",
             "customdata": [
              [
               2303263
              ]
             ],
             "hovertemplate": "country=%{x}<br>Confirmed=%{customdata[0]}<extra></extra>",
             "legendgroup": "Italy",
             "marker": {
              "color": "#B6E880"
             },
             "name": "Italy",
             "offsetgroup": "Italy",
             "orientation": "v",
             "showlegend": true,
             "textposition": "auto",
             "type": "bar",
             "x": [
              "Italy"
             ],
             "xaxis": "x",
             "y": [
              2303263
             ],
             "yaxis": "y"
            },
            {
             "alignmentgroup": "True",
             "customdata": [
              [
               2137220
              ]
             ],
             "hovertemplate": "country=%{x}<br>Confirmed=%{customdata[0]}<extra></extra>",
             "legendgroup": "Spain",
             "marker": {
              "color": "#FF97FF"
             },
             "name": "Spain",
             "offsetgroup": "Spain",
             "orientation": "v",
             "showlegend": true,
             "textposition": "auto",
             "type": "bar",
             "x": [
              "Spain"
             ],
             "xaxis": "x",
             "y": [
              2137220
             ],
             "yaxis": "y"
            },
            {
             "alignmentgroup": "True",
             "customdata": [
              [
               1968326
              ]
             ],
             "hovertemplate": "country=%{x}<br>Confirmed=%{customdata[0]}<extra></extra>",
             "legendgroup": "Germany",
             "marker": {
              "color": "#FECB52"
             },
             "name": "Germany",
             "offsetgroup": "Germany",
             "orientation": "v",
             "showlegend": true,
             "textposition": "auto",
             "type": "bar",
             "x": [
              "Germany"
             ],
             "xaxis": "x",
             "y": [
              1968326
             ],
             "yaxis": "y"
            }
           ],
           "layout": {
            "barmode": "relative",
            "height": 400,
            "legend": {
             "title": {
              "text": "country"
             },
             "tracegroupgap": 0
            },
            "template": {
             "data": {
              "bar": [
               {
                "error_x": {
                 "color": "#2a3f5f"
                },
                "error_y": {
                 "color": "#2a3f5f"
                },
                "marker": {
                 "line": {
                  "color": "#E5ECF6",
                  "width": 0.5
                 }
                },
                "type": "bar"
               }
              ],
              "barpolar": [
               {
                "marker": {
                 "line": {
                  "color": "#E5ECF6",
                  "width": 0.5
                 }
                },
                "type": "barpolar"
               }
              ],
              "carpet": [
               {
                "aaxis": {
                 "endlinecolor": "#2a3f5f",
                 "gridcolor": "white",
                 "linecolor": "white",
                 "minorgridcolor": "white",
                 "startlinecolor": "#2a3f5f"
                },
                "baxis": {
                 "endlinecolor": "#2a3f5f",
                 "gridcolor": "white",
                 "linecolor": "white",
                 "minorgridcolor": "white",
                 "startlinecolor": "#2a3f5f"
                },
                "type": "carpet"
               }
              ],
              "choropleth": [
               {
                "colorbar": {
                 "outlinewidth": 0,
                 "ticks": ""
                },
                "type": "choropleth"
               }
              ],
              "contour": [
               {
                "colorbar": {
                 "outlinewidth": 0,
                 "ticks": ""
                },
                "colorscale": [
                 [
                  0,
                  "#0d0887"
                 ],
                 [
                  0.1111111111111111,
                  "#46039f"
                 ],
                 [
                  0.2222222222222222,
                  "#7201a8"
                 ],
                 [
                  0.3333333333333333,
                  "#9c179e"
                 ],
                 [
                  0.4444444444444444,
                  "#bd3786"
                 ],
                 [
                  0.5555555555555556,
                  "#d8576b"
                 ],
                 [
                  0.6666666666666666,
                  "#ed7953"
                 ],
                 [
                  0.7777777777777778,
                  "#fb9f3a"
                 ],
                 [
                  0.8888888888888888,
                  "#fdca26"
                 ],
                 [
                  1,
                  "#f0f921"
                 ]
                ],
                "type": "contour"
               }
              ],
              "contourcarpet": [
               {
                "colorbar": {
                 "outlinewidth": 0,
                 "ticks": ""
                },
                "type": "contourcarpet"
               }
              ],
              "heatmap": [
               {
                "colorbar": {
                 "outlinewidth": 0,
                 "ticks": ""
                },
                "colorscale": [
                 [
                  0,
                  "#0d0887"
                 ],
                 [
                  0.1111111111111111,
                  "#46039f"
                 ],
                 [
                  0.2222222222222222,
                  "#7201a8"
                 ],
                 [
                  0.3333333333333333,
                  "#9c179e"
                 ],
                 [
                  0.4444444444444444,
                  "#bd3786"
                 ],
                 [
                  0.5555555555555556,
                  "#d8576b"
                 ],
                 [
                  0.6666666666666666,
                  "#ed7953"
                 ],
                 [
                  0.7777777777777778,
                  "#fb9f3a"
                 ],
                 [
                  0.8888888888888888,
                  "#fdca26"
                 ],
                 [
                  1,
                  "#f0f921"
                 ]
                ],
                "type": "heatmap"
               }
              ],
              "heatmapgl": [
               {
                "colorbar": {
                 "outlinewidth": 0,
                 "ticks": ""
                },
                "colorscale": [
                 [
                  0,
                  "#0d0887"
                 ],
                 [
                  0.1111111111111111,
                  "#46039f"
                 ],
                 [
                  0.2222222222222222,
                  "#7201a8"
                 ],
                 [
                  0.3333333333333333,
                  "#9c179e"
                 ],
                 [
                  0.4444444444444444,
                  "#bd3786"
                 ],
                 [
                  0.5555555555555556,
                  "#d8576b"
                 ],
                 [
                  0.6666666666666666,
                  "#ed7953"
                 ],
                 [
                  0.7777777777777778,
                  "#fb9f3a"
                 ],
                 [
                  0.8888888888888888,
                  "#fdca26"
                 ],
                 [
                  1,
                  "#f0f921"
                 ]
                ],
                "type": "heatmapgl"
               }
              ],
              "histogram": [
               {
                "marker": {
                 "colorbar": {
                  "outlinewidth": 0,
                  "ticks": ""
                 }
                },
                "type": "histogram"
               }
              ],
              "histogram2d": [
               {
                "colorbar": {
                 "outlinewidth": 0,
                 "ticks": ""
                },
                "colorscale": [
                 [
                  0,
                  "#0d0887"
                 ],
                 [
                  0.1111111111111111,
                  "#46039f"
                 ],
                 [
                  0.2222222222222222,
                  "#7201a8"
                 ],
                 [
                  0.3333333333333333,
                  "#9c179e"
                 ],
                 [
                  0.4444444444444444,
                  "#bd3786"
                 ],
                 [
                  0.5555555555555556,
                  "#d8576b"
                 ],
                 [
                  0.6666666666666666,
                  "#ed7953"
                 ],
                 [
                  0.7777777777777778,
                  "#fb9f3a"
                 ],
                 [
                  0.8888888888888888,
                  "#fdca26"
                 ],
                 [
                  1,
                  "#f0f921"
                 ]
                ],
                "type": "histogram2d"
               }
              ],
              "histogram2dcontour": [
               {
                "colorbar": {
                 "outlinewidth": 0,
                 "ticks": ""
                },
                "colorscale": [
                 [
                  0,
                  "#0d0887"
                 ],
                 [
                  0.1111111111111111,
                  "#46039f"
                 ],
                 [
                  0.2222222222222222,
                  "#7201a8"
                 ],
                 [
                  0.3333333333333333,
                  "#9c179e"
                 ],
                 [
                  0.4444444444444444,
                  "#bd3786"
                 ],
                 [
                  0.5555555555555556,
                  "#d8576b"
                 ],
                 [
                  0.6666666666666666,
                  "#ed7953"
                 ],
                 [
                  0.7777777777777778,
                  "#fb9f3a"
                 ],
                 [
                  0.8888888888888888,
                  "#fdca26"
                 ],
                 [
                  1,
                  "#f0f921"
                 ]
                ],
                "type": "histogram2dcontour"
               }
              ],
              "mesh3d": [
               {
                "colorbar": {
                 "outlinewidth": 0,
                 "ticks": ""
                },
                "type": "mesh3d"
               }
              ],
              "parcoords": [
               {
                "line": {
                 "colorbar": {
                  "outlinewidth": 0,
                  "ticks": ""
                 }
                },
                "type": "parcoords"
               }
              ],
              "pie": [
               {
                "automargin": true,
                "type": "pie"
               }
              ],
              "scatter": [
               {
                "marker": {
                 "colorbar": {
                  "outlinewidth": 0,
                  "ticks": ""
                 }
                },
                "type": "scatter"
               }
              ],
              "scatter3d": [
               {
                "line": {
                 "colorbar": {
                  "outlinewidth": 0,
                  "ticks": ""
                 }
                },
                "marker": {
                 "colorbar": {
                  "outlinewidth": 0,
                  "ticks": ""
                 }
                },
                "type": "scatter3d"
               }
              ],
              "scattercarpet": [
               {
                "marker": {
                 "colorbar": {
                  "outlinewidth": 0,
                  "ticks": ""
                 }
                },
                "type": "scattercarpet"
               }
              ],
              "scattergeo": [
               {
                "marker": {
                 "colorbar": {
                  "outlinewidth": 0,
                  "ticks": ""
                 }
                },
                "type": "scattergeo"
               }
              ],
              "scattergl": [
               {
                "marker": {
                 "colorbar": {
                  "outlinewidth": 0,
                  "ticks": ""
                 }
                },
                "type": "scattergl"
               }
              ],
              "scattermapbox": [
               {
                "marker": {
                 "colorbar": {
                  "outlinewidth": 0,
                  "ticks": ""
                 }
                },
                "type": "scattermapbox"
               }
              ],
              "scatterpolar": [
               {
                "marker": {
                 "colorbar": {
                  "outlinewidth": 0,
                  "ticks": ""
                 }
                },
                "type": "scatterpolar"
               }
              ],
              "scatterpolargl": [
               {
                "marker": {
                 "colorbar": {
                  "outlinewidth": 0,
                  "ticks": ""
                 }
                },
                "type": "scatterpolargl"
               }
              ],
              "scatterternary": [
               {
                "marker": {
                 "colorbar": {
                  "outlinewidth": 0,
                  "ticks": ""
                 }
                },
                "type": "scatterternary"
               }
              ],
              "surface": [
               {
                "colorbar": {
                 "outlinewidth": 0,
                 "ticks": ""
                },
                "colorscale": [
                 [
                  0,
                  "#0d0887"
                 ],
                 [
                  0.1111111111111111,
                  "#46039f"
                 ],
                 [
                  0.2222222222222222,
                  "#7201a8"
                 ],
                 [
                  0.3333333333333333,
                  "#9c179e"
                 ],
                 [
                  0.4444444444444444,
                  "#bd3786"
                 ],
                 [
                  0.5555555555555556,
                  "#d8576b"
                 ],
                 [
                  0.6666666666666666,
                  "#ed7953"
                 ],
                 [
                  0.7777777777777778,
                  "#fb9f3a"
                 ],
                 [
                  0.8888888888888888,
                  "#fdca26"
                 ],
                 [
                  1,
                  "#f0f921"
                 ]
                ],
                "type": "surface"
               }
              ],
              "table": [
               {
                "cells": {
                 "fill": {
                  "color": "#EBF0F8"
                 },
                 "line": {
                  "color": "white"
                 }
                },
                "header": {
                 "fill": {
                  "color": "#C8D4E3"
                 },
                 "line": {
                  "color": "white"
                 }
                },
                "type": "table"
               }
              ]
             },
             "layout": {
              "annotationdefaults": {
               "arrowcolor": "#2a3f5f",
               "arrowhead": 0,
               "arrowwidth": 1
              },
              "autotypenumbers": "strict",
              "coloraxis": {
               "colorbar": {
                "outlinewidth": 0,
                "ticks": ""
               }
              },
              "colorscale": {
               "diverging": [
                [
                 0,
                 "#8e0152"
                ],
                [
                 0.1,
                 "#c51b7d"
                ],
                [
                 0.2,
                 "#de77ae"
                ],
                [
                 0.3,
                 "#f1b6da"
                ],
                [
                 0.4,
                 "#fde0ef"
                ],
                [
                 0.5,
                 "#f7f7f7"
                ],
                [
                 0.6,
                 "#e6f5d0"
                ],
                [
                 0.7,
                 "#b8e186"
                ],
                [
                 0.8,
                 "#7fbc41"
                ],
                [
                 0.9,
                 "#4d9221"
                ],
                [
                 1,
                 "#276419"
                ]
               ],
               "sequential": [
                [
                 0,
                 "#0d0887"
                ],
                [
                 0.1111111111111111,
                 "#46039f"
                ],
                [
                 0.2222222222222222,
                 "#7201a8"
                ],
                [
                 0.3333333333333333,
                 "#9c179e"
                ],
                [
                 0.4444444444444444,
                 "#bd3786"
                ],
                [
                 0.5555555555555556,
                 "#d8576b"
                ],
                [
                 0.6666666666666666,
                 "#ed7953"
                ],
                [
                 0.7777777777777778,
                 "#fb9f3a"
                ],
                [
                 0.8888888888888888,
                 "#fdca26"
                ],
                [
                 1,
                 "#f0f921"
                ]
               ],
               "sequentialminus": [
                [
                 0,
                 "#0d0887"
                ],
                [
                 0.1111111111111111,
                 "#46039f"
                ],
                [
                 0.2222222222222222,
                 "#7201a8"
                ],
                [
                 0.3333333333333333,
                 "#9c179e"
                ],
                [
                 0.4444444444444444,
                 "#bd3786"
                ],
                [
                 0.5555555555555556,
                 "#d8576b"
                ],
                [
                 0.6666666666666666,
                 "#ed7953"
                ],
                [
                 0.7777777777777778,
                 "#fb9f3a"
                ],
                [
                 0.8888888888888888,
                 "#fdca26"
                ],
                [
                 1,
                 "#f0f921"
                ]
               ]
              },
              "colorway": [
               "#636efa",
               "#EF553B",
               "#00cc96",
               "#ab63fa",
               "#FFA15A",
               "#19d3f3",
               "#FF6692",
               "#B6E880",
               "#FF97FF",
               "#FECB52"
              ],
              "font": {
               "color": "#2a3f5f"
              },
              "geo": {
               "bgcolor": "white",
               "lakecolor": "white",
               "landcolor": "#E5ECF6",
               "showlakes": true,
               "showland": true,
               "subunitcolor": "white"
              },
              "hoverlabel": {
               "align": "left"
              },
              "hovermode": "closest",
              "mapbox": {
               "style": "light"
              },
              "paper_bgcolor": "white",
              "plot_bgcolor": "#E5ECF6",
              "polar": {
               "angularaxis": {
                "gridcolor": "white",
                "linecolor": "white",
                "ticks": ""
               },
               "bgcolor": "#E5ECF6",
               "radialaxis": {
                "gridcolor": "white",
                "linecolor": "white",
                "ticks": ""
               }
              },
              "scene": {
               "xaxis": {
                "backgroundcolor": "#E5ECF6",
                "gridcolor": "white",
                "gridwidth": 2,
                "linecolor": "white",
                "showbackground": true,
                "ticks": "",
                "zerolinecolor": "white"
               },
               "yaxis": {
                "backgroundcolor": "#E5ECF6",
                "gridcolor": "white",
                "gridwidth": 2,
                "linecolor": "white",
                "showbackground": true,
                "ticks": "",
                "zerolinecolor": "white"
               },
               "zaxis": {
                "backgroundcolor": "#E5ECF6",
                "gridcolor": "white",
                "gridwidth": 2,
                "linecolor": "white",
                "showbackground": true,
                "ticks": "",
                "zerolinecolor": "white"
               }
              },
              "shapedefaults": {
               "line": {
                "color": "#2a3f5f"
               }
              },
              "ternary": {
               "aaxis": {
                "gridcolor": "white",
                "linecolor": "white",
                "ticks": ""
               },
               "baxis": {
                "gridcolor": "white",
                "linecolor": "white",
                "ticks": ""
               },
               "bgcolor": "#E5ECF6",
               "caxis": {
                "gridcolor": "white",
                "linecolor": "white",
                "ticks": ""
               }
              },
              "title": {
               "x": 0.05
              },
              "xaxis": {
               "automargin": true,
               "gridcolor": "white",
               "linecolor": "white",
               "ticks": "",
               "title": {
                "standoff": 15
               },
               "zerolinecolor": "white",
               "zerolinewidth": 2
              },
              "yaxis": {
               "automargin": true,
               "gridcolor": "white",
               "linecolor": "white",
               "ticks": "",
               "title": {
                "standoff": 15
               },
               "zerolinecolor": "white",
               "zerolinewidth": 2
              }
             }
            },
            "title": {
             "text": "Top infected Countries"
            },
            "xaxis": {
             "anchor": "y",
             "categoryarray": [
              "US",
              "India",
              "Brazil",
              "Russia",
              "United Kingdom",
              "France",
              "Turkey",
              "Italy",
              "Spain",
              "Germany"
             ],
             "categoryorder": "array",
             "domain": [
              0,
              1
             ],
             "title": {
              "text": "country"
             }
            },
            "yaxis": {
             "anchor": "x",
             "domain": [
              0,
              1
             ],
             "title": {
              "text": "Confirmed"
             }
            }
           }
          },
          "text/html": "<div>                            <div id=\"55145e46-95ea-450f-ae3d-30ea5e09e814\" class=\"plotly-graph-div\" style=\"height:400px; width:100%;\"></div>            <script type=\"text/javascript\">                require([\"plotly\"], function(Plotly) {                    window.PLOTLYENV=window.PLOTLYENV || {};                                    if (document.getElementById(\"55145e46-95ea-450f-ae3d-30ea5e09e814\")) {                    Plotly.newPlot(                        \"55145e46-95ea-450f-ae3d-30ea5e09e814\",                        [{\"alignmentgroup\": \"True\", \"customdata\": [[22847637]], \"hovertemplate\": \"country=%{x}<br>Confirmed=%{customdata[0]}<extra></extra>\", \"legendgroup\": \"US\", \"marker\": {\"color\": \"#636efa\"}, \"name\": \"US\", \"offsetgroup\": \"US\", \"orientation\": \"v\", \"showlegend\": true, \"textposition\": \"auto\", \"type\": \"bar\", \"x\": [\"US\"], \"xaxis\": \"x\", \"y\": [22847637], \"yaxis\": \"y\"}, {\"alignmentgroup\": \"True\", \"customdata\": [[10495147]], \"hovertemplate\": \"country=%{x}<br>Confirmed=%{customdata[0]}<extra></extra>\", \"legendgroup\": \"India\", \"marker\": {\"color\": \"#EF553B\"}, \"name\": \"India\", \"offsetgroup\": \"India\", \"orientation\": \"v\", \"showlegend\": true, \"textposition\": \"auto\", \"type\": \"bar\", \"x\": [\"India\"], \"xaxis\": \"x\", \"y\": [10495147], \"yaxis\": \"y\"}, {\"alignmentgroup\": \"True\", \"customdata\": [[8195637]], \"hovertemplate\": \"country=%{x}<br>Confirmed=%{customdata[0]}<extra></extra>\", \"legendgroup\": \"Brazil\", \"marker\": {\"color\": \"#00cc96\"}, \"name\": \"Brazil\", \"offsetgroup\": \"Brazil\", \"orientation\": \"v\", \"showlegend\": true, \"textposition\": \"auto\", \"type\": \"bar\", \"x\": [\"Brazil\"], \"xaxis\": \"x\", \"y\": [8195637], \"yaxis\": \"y\"}, {\"alignmentgroup\": \"True\", \"customdata\": [[3412390]], \"hovertemplate\": \"country=%{x}<br>Confirmed=%{customdata[0]}<extra></extra>\", \"legendgroup\": \"Russia\", \"marker\": {\"color\": \"#ab63fa\"}, \"name\": \"Russia\", \"offsetgroup\": \"Russia\", \"orientation\": \"v\", \"showlegend\": true, \"textposition\": \"auto\", \"type\": \"bar\", \"x\": [\"Russia\"], \"xaxis\": \"x\", \"y\": [3412390], \"yaxis\": \"y\"}, {\"alignmentgroup\": \"True\", \"customdata\": [[3173291]], \"hovertemplate\": \"country=%{x}<br>Confirmed=%{customdata[0]}<extra></extra>\", \"legendgroup\": \"United Kingdom\", \"marker\": {\"color\": \"#FFA15A\"}, \"name\": \"United Kingdom\", \"offsetgroup\": \"United Kingdom\", \"orientation\": \"v\", \"showlegend\": true, \"textposition\": \"auto\", \"type\": \"bar\", \"x\": [\"United Kingdom\"], \"xaxis\": \"x\", \"y\": [3173291], \"yaxis\": \"y\"}, {\"alignmentgroup\": \"True\", \"customdata\": [[2864360]], \"hovertemplate\": \"country=%{x}<br>Confirmed=%{customdata[0]}<extra></extra>\", \"legendgroup\": \"France\", \"marker\": {\"color\": \"#19d3f3\"}, \"name\": \"France\", \"offsetgroup\": \"France\", \"orientation\": \"v\", \"showlegend\": true, \"textposition\": \"auto\", \"type\": \"bar\", \"x\": [\"France\"], \"xaxis\": \"x\", \"y\": [2864360], \"yaxis\": \"y\"}, {\"alignmentgroup\": \"True\", \"customdata\": [[2346285]], \"hovertemplate\": \"country=%{x}<br>Confirmed=%{customdata[0]}<extra></extra>\", \"legendgroup\": \"Turkey\", \"marker\": {\"color\": \"#FF6692\"}, \"name\": \"Turkey\", \"offsetgroup\": \"Turkey\", \"orientation\": \"v\", \"showlegend\": true, \"textposition\": \"auto\", \"type\": \"bar\", \"x\": [\"Turkey\"], \"xaxis\": \"x\", \"y\": [2346285], \"yaxis\": \"y\"}, {\"alignmentgroup\": \"True\", \"customdata\": [[2303263]], \"hovertemplate\": \"country=%{x}<br>Confirmed=%{customdata[0]}<extra></extra>\", \"legendgroup\": \"Italy\", \"marker\": {\"color\": \"#B6E880\"}, \"name\": \"Italy\", \"offsetgroup\": \"Italy\", \"orientation\": \"v\", \"showlegend\": true, \"textposition\": \"auto\", \"type\": \"bar\", \"x\": [\"Italy\"], \"xaxis\": \"x\", \"y\": [2303263], \"yaxis\": \"y\"}, {\"alignmentgroup\": \"True\", \"customdata\": [[2137220]], \"hovertemplate\": \"country=%{x}<br>Confirmed=%{customdata[0]}<extra></extra>\", \"legendgroup\": \"Spain\", \"marker\": {\"color\": \"#FF97FF\"}, \"name\": \"Spain\", \"offsetgroup\": \"Spain\", \"orientation\": \"v\", \"showlegend\": true, \"textposition\": \"auto\", \"type\": \"bar\", \"x\": [\"Spain\"], \"xaxis\": \"x\", \"y\": [2137220], \"yaxis\": \"y\"}, {\"alignmentgroup\": \"True\", \"customdata\": [[1968326]], \"hovertemplate\": \"country=%{x}<br>Confirmed=%{customdata[0]}<extra></extra>\", \"legendgroup\": \"Germany\", \"marker\": {\"color\": \"#FECB52\"}, \"name\": \"Germany\", \"offsetgroup\": \"Germany\", \"orientation\": \"v\", \"showlegend\": true, \"textposition\": \"auto\", \"type\": \"bar\", \"x\": [\"Germany\"], \"xaxis\": \"x\", \"y\": [1968326], \"yaxis\": \"y\"}],                        {\"barmode\": \"relative\", \"height\": 400, \"legend\": {\"title\": {\"text\": \"country\"}, \"tracegroupgap\": 0}, \"template\": {\"data\": {\"bar\": [{\"error_x\": {\"color\": \"#2a3f5f\"}, \"error_y\": {\"color\": \"#2a3f5f\"}, \"marker\": {\"line\": {\"color\": \"#E5ECF6\", \"width\": 0.5}}, \"type\": \"bar\"}], \"barpolar\": [{\"marker\": {\"line\": {\"color\": \"#E5ECF6\", \"width\": 0.5}}, \"type\": \"barpolar\"}], \"carpet\": [{\"aaxis\": {\"endlinecolor\": \"#2a3f5f\", \"gridcolor\": \"white\", \"linecolor\": \"white\", \"minorgridcolor\": \"white\", \"startlinecolor\": \"#2a3f5f\"}, \"baxis\": {\"endlinecolor\": \"#2a3f5f\", \"gridcolor\": \"white\", \"linecolor\": \"white\", \"minorgridcolor\": \"white\", \"startlinecolor\": \"#2a3f5f\"}, \"type\": \"carpet\"}], \"choropleth\": [{\"colorbar\": {\"outlinewidth\": 0, \"ticks\": \"\"}, \"type\": \"choropleth\"}], \"contour\": [{\"colorbar\": {\"outlinewidth\": 0, \"ticks\": \"\"}, \"colorscale\": [[0.0, \"#0d0887\"], [0.1111111111111111, \"#46039f\"], [0.2222222222222222, \"#7201a8\"], [0.3333333333333333, \"#9c179e\"], [0.4444444444444444, \"#bd3786\"], [0.5555555555555556, \"#d8576b\"], [0.6666666666666666, \"#ed7953\"], [0.7777777777777778, \"#fb9f3a\"], [0.8888888888888888, \"#fdca26\"], [1.0, \"#f0f921\"]], \"type\": \"contour\"}], \"contourcarpet\": [{\"colorbar\": {\"outlinewidth\": 0, \"ticks\": \"\"}, \"type\": \"contourcarpet\"}], \"heatmap\": [{\"colorbar\": {\"outlinewidth\": 0, \"ticks\": \"\"}, \"colorscale\": [[0.0, \"#0d0887\"], [0.1111111111111111, \"#46039f\"], [0.2222222222222222, \"#7201a8\"], [0.3333333333333333, \"#9c179e\"], [0.4444444444444444, \"#bd3786\"], [0.5555555555555556, \"#d8576b\"], [0.6666666666666666, \"#ed7953\"], [0.7777777777777778, \"#fb9f3a\"], [0.8888888888888888, \"#fdca26\"], [1.0, \"#f0f921\"]], \"type\": \"heatmap\"}], \"heatmapgl\": [{\"colorbar\": {\"outlinewidth\": 0, \"ticks\": \"\"}, \"colorscale\": [[0.0, \"#0d0887\"], [0.1111111111111111, \"#46039f\"], [0.2222222222222222, \"#7201a8\"], [0.3333333333333333, \"#9c179e\"], [0.4444444444444444, \"#bd3786\"], [0.5555555555555556, \"#d8576b\"], [0.6666666666666666, \"#ed7953\"], [0.7777777777777778, \"#fb9f3a\"], [0.8888888888888888, \"#fdca26\"], [1.0, \"#f0f921\"]], \"type\": \"heatmapgl\"}], \"histogram\": [{\"marker\": {\"colorbar\": {\"outlinewidth\": 0, \"ticks\": \"\"}}, \"type\": \"histogram\"}], \"histogram2d\": [{\"colorbar\": {\"outlinewidth\": 0, \"ticks\": \"\"}, \"colorscale\": [[0.0, \"#0d0887\"], [0.1111111111111111, \"#46039f\"], [0.2222222222222222, \"#7201a8\"], [0.3333333333333333, \"#9c179e\"], [0.4444444444444444, \"#bd3786\"], [0.5555555555555556, \"#d8576b\"], [0.6666666666666666, \"#ed7953\"], [0.7777777777777778, \"#fb9f3a\"], [0.8888888888888888, \"#fdca26\"], [1.0, \"#f0f921\"]], \"type\": \"histogram2d\"}], \"histogram2dcontour\": [{\"colorbar\": {\"outlinewidth\": 0, \"ticks\": \"\"}, \"colorscale\": [[0.0, \"#0d0887\"], [0.1111111111111111, \"#46039f\"], [0.2222222222222222, \"#7201a8\"], [0.3333333333333333, \"#9c179e\"], [0.4444444444444444, \"#bd3786\"], [0.5555555555555556, \"#d8576b\"], [0.6666666666666666, \"#ed7953\"], [0.7777777777777778, \"#fb9f3a\"], [0.8888888888888888, \"#fdca26\"], [1.0, \"#f0f921\"]], \"type\": \"histogram2dcontour\"}], \"mesh3d\": [{\"colorbar\": {\"outlinewidth\": 0, \"ticks\": \"\"}, \"type\": \"mesh3d\"}], \"parcoords\": [{\"line\": {\"colorbar\": {\"outlinewidth\": 0, \"ticks\": \"\"}}, \"type\": \"parcoords\"}], \"pie\": [{\"automargin\": true, \"type\": \"pie\"}], \"scatter\": [{\"marker\": {\"colorbar\": {\"outlinewidth\": 0, \"ticks\": \"\"}}, \"type\": \"scatter\"}], \"scatter3d\": [{\"line\": {\"colorbar\": {\"outlinewidth\": 0, \"ticks\": \"\"}}, \"marker\": {\"colorbar\": {\"outlinewidth\": 0, \"ticks\": \"\"}}, \"type\": \"scatter3d\"}], \"scattercarpet\": [{\"marker\": {\"colorbar\": {\"outlinewidth\": 0, \"ticks\": \"\"}}, \"type\": \"scattercarpet\"}], \"scattergeo\": [{\"marker\": {\"colorbar\": {\"outlinewidth\": 0, \"ticks\": \"\"}}, \"type\": \"scattergeo\"}], \"scattergl\": [{\"marker\": {\"colorbar\": {\"outlinewidth\": 0, \"ticks\": \"\"}}, \"type\": \"scattergl\"}], \"scattermapbox\": [{\"marker\": {\"colorbar\": {\"outlinewidth\": 0, \"ticks\": \"\"}}, \"type\": \"scattermapbox\"}], \"scatterpolar\": [{\"marker\": {\"colorbar\": {\"outlinewidth\": 0, \"ticks\": \"\"}}, \"type\": \"scatterpolar\"}], \"scatterpolargl\": [{\"marker\": {\"colorbar\": {\"outlinewidth\": 0, \"ticks\": \"\"}}, \"type\": \"scatterpolargl\"}], \"scatterternary\": [{\"marker\": {\"colorbar\": {\"outlinewidth\": 0, \"ticks\": \"\"}}, \"type\": \"scatterternary\"}], \"surface\": [{\"colorbar\": {\"outlinewidth\": 0, \"ticks\": \"\"}, \"colorscale\": [[0.0, \"#0d0887\"], [0.1111111111111111, \"#46039f\"], [0.2222222222222222, \"#7201a8\"], [0.3333333333333333, \"#9c179e\"], [0.4444444444444444, \"#bd3786\"], [0.5555555555555556, \"#d8576b\"], [0.6666666666666666, \"#ed7953\"], [0.7777777777777778, \"#fb9f3a\"], [0.8888888888888888, \"#fdca26\"], [1.0, \"#f0f921\"]], \"type\": \"surface\"}], \"table\": [{\"cells\": {\"fill\": {\"color\": \"#EBF0F8\"}, \"line\": {\"color\": \"white\"}}, \"header\": {\"fill\": {\"color\": \"#C8D4E3\"}, \"line\": {\"color\": \"white\"}}, \"type\": \"table\"}]}, \"layout\": {\"annotationdefaults\": {\"arrowcolor\": \"#2a3f5f\", \"arrowhead\": 0, \"arrowwidth\": 1}, \"autotypenumbers\": \"strict\", \"coloraxis\": {\"colorbar\": {\"outlinewidth\": 0, \"ticks\": \"\"}}, \"colorscale\": {\"diverging\": [[0, \"#8e0152\"], [0.1, \"#c51b7d\"], [0.2, \"#de77ae\"], [0.3, \"#f1b6da\"], [0.4, \"#fde0ef\"], [0.5, \"#f7f7f7\"], [0.6, \"#e6f5d0\"], [0.7, \"#b8e186\"], [0.8, \"#7fbc41\"], [0.9, \"#4d9221\"], [1, \"#276419\"]], \"sequential\": [[0.0, \"#0d0887\"], [0.1111111111111111, \"#46039f\"], [0.2222222222222222, \"#7201a8\"], [0.3333333333333333, \"#9c179e\"], [0.4444444444444444, \"#bd3786\"], [0.5555555555555556, \"#d8576b\"], [0.6666666666666666, \"#ed7953\"], [0.7777777777777778, \"#fb9f3a\"], [0.8888888888888888, \"#fdca26\"], [1.0, \"#f0f921\"]], \"sequentialminus\": [[0.0, \"#0d0887\"], [0.1111111111111111, \"#46039f\"], [0.2222222222222222, \"#7201a8\"], [0.3333333333333333, \"#9c179e\"], [0.4444444444444444, \"#bd3786\"], [0.5555555555555556, \"#d8576b\"], [0.6666666666666666, \"#ed7953\"], [0.7777777777777778, \"#fb9f3a\"], [0.8888888888888888, \"#fdca26\"], [1.0, \"#f0f921\"]]}, \"colorway\": [\"#636efa\", \"#EF553B\", \"#00cc96\", \"#ab63fa\", \"#FFA15A\", \"#19d3f3\", \"#FF6692\", \"#B6E880\", \"#FF97FF\", \"#FECB52\"], \"font\": {\"color\": \"#2a3f5f\"}, \"geo\": {\"bgcolor\": \"white\", \"lakecolor\": \"white\", \"landcolor\": \"#E5ECF6\", \"showlakes\": true, \"showland\": true, \"subunitcolor\": \"white\"}, \"hoverlabel\": {\"align\": \"left\"}, \"hovermode\": \"closest\", \"mapbox\": {\"style\": \"light\"}, \"paper_bgcolor\": \"white\", \"plot_bgcolor\": \"#E5ECF6\", \"polar\": {\"angularaxis\": {\"gridcolor\": \"white\", \"linecolor\": \"white\", \"ticks\": \"\"}, \"bgcolor\": \"#E5ECF6\", \"radialaxis\": {\"gridcolor\": \"white\", \"linecolor\": \"white\", \"ticks\": \"\"}}, \"scene\": {\"xaxis\": {\"backgroundcolor\": \"#E5ECF6\", \"gridcolor\": \"white\", \"gridwidth\": 2, \"linecolor\": \"white\", \"showbackground\": true, \"ticks\": \"\", \"zerolinecolor\": \"white\"}, \"yaxis\": {\"backgroundcolor\": \"#E5ECF6\", \"gridcolor\": \"white\", \"gridwidth\": 2, \"linecolor\": \"white\", \"showbackground\": true, \"ticks\": \"\", \"zerolinecolor\": \"white\"}, \"zaxis\": {\"backgroundcolor\": \"#E5ECF6\", \"gridcolor\": \"white\", \"gridwidth\": 2, \"linecolor\": \"white\", \"showbackground\": true, \"ticks\": \"\", \"zerolinecolor\": \"white\"}}, \"shapedefaults\": {\"line\": {\"color\": \"#2a3f5f\"}}, \"ternary\": {\"aaxis\": {\"gridcolor\": \"white\", \"linecolor\": \"white\", \"ticks\": \"\"}, \"baxis\": {\"gridcolor\": \"white\", \"linecolor\": \"white\", \"ticks\": \"\"}, \"bgcolor\": \"#E5ECF6\", \"caxis\": {\"gridcolor\": \"white\", \"linecolor\": \"white\", \"ticks\": \"\"}}, \"title\": {\"x\": 0.05}, \"xaxis\": {\"automargin\": true, \"gridcolor\": \"white\", \"linecolor\": \"white\", \"ticks\": \"\", \"title\": {\"standoff\": 15}, \"zerolinecolor\": \"white\", \"zerolinewidth\": 2}, \"yaxis\": {\"automargin\": true, \"gridcolor\": \"white\", \"linecolor\": \"white\", \"ticks\": \"\", \"title\": {\"standoff\": 15}, \"zerolinecolor\": \"white\", \"zerolinewidth\": 2}}}, \"title\": {\"text\": \"Top infected Countries\"}, \"xaxis\": {\"anchor\": \"y\", \"categoryarray\": [\"US\", \"India\", \"Brazil\", \"Russia\", \"United Kingdom\", \"France\", \"Turkey\", \"Italy\", \"Spain\", \"Germany\"], \"categoryorder\": \"array\", \"domain\": [0.0, 1.0], \"title\": {\"text\": \"country\"}}, \"yaxis\": {\"anchor\": \"x\", \"domain\": [0.0, 1.0], \"title\": {\"text\": \"Confirmed\"}}},                        {\"responsive\": true}                    ).then(function(){\n                            \nvar gd = document.getElementById('55145e46-95ea-450f-ae3d-30ea5e09e814');\nvar x = new MutationObserver(function (mutations, observer) {{\n        var display = window.getComputedStyle(gd).display;\n        if (!display || display === 'none') {{\n            console.log([gd, 'removed!']);\n            Plotly.purge(gd);\n            observer.disconnect();\n        }}\n}});\n\n// Listen for the removal of the full notebook cells\nvar notebookContainer = gd.closest('#notebook-container');\nif (notebookContainer) {{\n    x.observe(notebookContainer, {childList: true});\n}}\n\n// Listen for the clearing of the current output cell\nvar outputEl = gd.closest('.output');\nif (outputEl) {{\n    x.observe(outputEl, {childList: true});\n}}\n\n                        })                };                });            </script>        </div>"
         },
         "metadata": {},
         "output_type": "display_data"
        }
       ]
      }
     },
     "e0b16a9facc44782b8c33dab27c907b0": {
      "model_module": "@jupyter-widgets/base",
      "model_module_version": "1.2.0",
      "model_name": "LayoutModel",
      "state": {}
     },
     "e20cf6aaaa2e4527a96211244ea94dab": {
      "model_module": "jupyter-vue",
      "model_module_version": "^1.5.0",
      "model_name": "ForceLoadModel",
      "state": {
       "_model_module_version": "^1.5.0",
       "_view_module": null,
       "_view_module_version": "",
       "layout": "IPY_MODEL_b1f495c3bdea4b0ab4c2fa3c765a4b74"
      }
     },
     "e2e6d1ec2ba643e99b70a4926ed804c3": {
      "model_module": "@jupyter-widgets/controls",
      "model_module_version": "1.5.0",
      "model_name": "CheckboxModel",
      "state": {
       "description": "Worldwide",
       "disabled": false,
       "layout": "IPY_MODEL_d404959320d74328844b90c27f15fa31",
       "style": "IPY_MODEL_f21a40f01869436eb894fcf420a29103",
       "value": false
      }
     },
     "e3dd704819634f0bb25a3e7ac9cc3667": {
      "model_module": "@jupyter-widgets/base",
      "model_module_version": "1.2.0",
      "model_name": "LayoutModel",
      "state": {}
     },
     "e4d167e887f848168dfdf3f4d04c44f1": {
      "model_module": "@jupyter-widgets/controls",
      "model_module_version": "1.5.0",
      "model_name": "DropdownModel",
      "state": {
       "_options_labels": [
        "Confirmed",
        "Recovered",
        "Death"
       ],
       "description": "content",
       "index": 0,
       "layout": "IPY_MODEL_b1f0f79a8b424ad19d73a37ea8d168e5",
       "style": "IPY_MODEL_4c2c71a82d204ef0a88a1a1af548c066"
      }
     },
     "e501044e8b9642e7b1e836d5be834a54": {
      "model_module": "@jupyter-widgets/controls",
      "model_module_version": "1.5.0",
      "model_name": "DescriptionStyleModel",
      "state": {
       "description_width": ""
      }
     },
     "e5ffbdeb4c054c04a9e2ed199099ac49": {
      "model_module": "@jupyter-widgets/base",
      "model_module_version": "1.2.0",
      "model_name": "LayoutModel",
      "state": {}
     },
     "e6d35bee1e1d4ce8b355bd83b45872a1": {
      "model_module": "@jupyter-widgets/base",
      "model_module_version": "1.2.0",
      "model_name": "LayoutModel",
      "state": {}
     },
     "e845b2e0ba154856aac85f806e303d80": {
      "model_module": "@jupyter-widgets/base",
      "model_module_version": "1.2.0",
      "model_name": "LayoutModel",
      "state": {}
     },
     "ebd25b7d33894ddaae81b0e766b43d7c": {
      "model_module": "@jupyter-widgets/base",
      "model_module_version": "1.2.0",
      "model_name": "LayoutModel",
      "state": {}
     },
     "ec3f36c97da047c9a8d227a3999effd6": {
      "model_module": "@jupyter-widgets/controls",
      "model_module_version": "1.5.0",
      "model_name": "VBoxModel",
      "state": {
       "_dom_classes": [
        "widget-interact"
       ],
       "children": [
        "IPY_MODEL_fc8527fd92d14a9aaf53a1f142bb4e6f",
        "IPY_MODEL_861ac5607f6341e1ad9c4a7b427a762e",
        "IPY_MODEL_efba990f80734357b4c8b24bb7e7697a"
       ],
       "layout": "IPY_MODEL_f18d8b862c1d4f42b4fc000bb3acacc9"
      }
     },
     "ed188ac3dcb64f1aa703c4b810c0f8df": {
      "model_module": "@jupyter-widgets/base",
      "model_module_version": "1.2.0",
      "model_name": "LayoutModel",
      "state": {}
     },
     "ed49d7b691c3403b885531be19b11d08": {
      "model_module": "@jupyter-widgets/base",
      "model_module_version": "1.2.0",
      "model_name": "LayoutModel",
      "state": {}
     },
     "efba990f80734357b4c8b24bb7e7697a": {
      "model_module": "@jupyter-widgets/output",
      "model_module_version": "1.0.0",
      "model_name": "OutputModel",
      "state": {
       "layout": "IPY_MODEL_db5cab31076849198f62c915bc0234b4",
       "outputs": [
        {
         "data": {
          "application/vnd.plotly.v1+json": {
           "config": {
            "plotlyServerURL": "https://plot.ly"
           },
           "data": [
            {
             "alignmentgroup": "True",
             "customdata": [
              [
               22847637
              ]
             ],
             "hovertemplate": "country=%{x}<br>Confirmed=%{customdata[0]}<extra></extra>",
             "legendgroup": "US",
             "marker": {
              "color": "#636efa"
             },
             "name": "US",
             "offsetgroup": "US",
             "orientation": "v",
             "showlegend": true,
             "textposition": "auto",
             "type": "bar",
             "x": [
              "US"
             ],
             "xaxis": "x",
             "y": [
              22847637
             ],
             "yaxis": "y"
            },
            {
             "alignmentgroup": "True",
             "customdata": [
              [
               10495147
              ]
             ],
             "hovertemplate": "country=%{x}<br>Confirmed=%{customdata[0]}<extra></extra>",
             "legendgroup": "India",
             "marker": {
              "color": "#EF553B"
             },
             "name": "India",
             "offsetgroup": "India",
             "orientation": "v",
             "showlegend": true,
             "textposition": "auto",
             "type": "bar",
             "x": [
              "India"
             ],
             "xaxis": "x",
             "y": [
              10495147
             ],
             "yaxis": "y"
            },
            {
             "alignmentgroup": "True",
             "customdata": [
              [
               8195637
              ]
             ],
             "hovertemplate": "country=%{x}<br>Confirmed=%{customdata[0]}<extra></extra>",
             "legendgroup": "Brazil",
             "marker": {
              "color": "#00cc96"
             },
             "name": "Brazil",
             "offsetgroup": "Brazil",
             "orientation": "v",
             "showlegend": true,
             "textposition": "auto",
             "type": "bar",
             "x": [
              "Brazil"
             ],
             "xaxis": "x",
             "y": [
              8195637
             ],
             "yaxis": "y"
            },
            {
             "alignmentgroup": "True",
             "customdata": [
              [
               3412390
              ]
             ],
             "hovertemplate": "country=%{x}<br>Confirmed=%{customdata[0]}<extra></extra>",
             "legendgroup": "Russia",
             "marker": {
              "color": "#ab63fa"
             },
             "name": "Russia",
             "offsetgroup": "Russia",
             "orientation": "v",
             "showlegend": true,
             "textposition": "auto",
             "type": "bar",
             "x": [
              "Russia"
             ],
             "xaxis": "x",
             "y": [
              3412390
             ],
             "yaxis": "y"
            },
            {
             "alignmentgroup": "True",
             "customdata": [
              [
               3173291
              ]
             ],
             "hovertemplate": "country=%{x}<br>Confirmed=%{customdata[0]}<extra></extra>",
             "legendgroup": "United Kingdom",
             "marker": {
              "color": "#FFA15A"
             },
             "name": "United Kingdom",
             "offsetgroup": "United Kingdom",
             "orientation": "v",
             "showlegend": true,
             "textposition": "auto",
             "type": "bar",
             "x": [
              "United Kingdom"
             ],
             "xaxis": "x",
             "y": [
              3173291
             ],
             "yaxis": "y"
            },
            {
             "alignmentgroup": "True",
             "customdata": [
              [
               2864360
              ]
             ],
             "hovertemplate": "country=%{x}<br>Confirmed=%{customdata[0]}<extra></extra>",
             "legendgroup": "France",
             "marker": {
              "color": "#19d3f3"
             },
             "name": "France",
             "offsetgroup": "France",
             "orientation": "v",
             "showlegend": true,
             "textposition": "auto",
             "type": "bar",
             "x": [
              "France"
             ],
             "xaxis": "x",
             "y": [
              2864360
             ],
             "yaxis": "y"
            },
            {
             "alignmentgroup": "True",
             "customdata": [
              [
               2346285
              ]
             ],
             "hovertemplate": "country=%{x}<br>Confirmed=%{customdata[0]}<extra></extra>",
             "legendgroup": "Turkey",
             "marker": {
              "color": "#FF6692"
             },
             "name": "Turkey",
             "offsetgroup": "Turkey",
             "orientation": "v",
             "showlegend": true,
             "textposition": "auto",
             "type": "bar",
             "x": [
              "Turkey"
             ],
             "xaxis": "x",
             "y": [
              2346285
             ],
             "yaxis": "y"
            },
            {
             "alignmentgroup": "True",
             "customdata": [
              [
               2303263
              ]
             ],
             "hovertemplate": "country=%{x}<br>Confirmed=%{customdata[0]}<extra></extra>",
             "legendgroup": "Italy",
             "marker": {
              "color": "#B6E880"
             },
             "name": "Italy",
             "offsetgroup": "Italy",
             "orientation": "v",
             "showlegend": true,
             "textposition": "auto",
             "type": "bar",
             "x": [
              "Italy"
             ],
             "xaxis": "x",
             "y": [
              2303263
             ],
             "yaxis": "y"
            },
            {
             "alignmentgroup": "True",
             "customdata": [
              [
               2137220
              ]
             ],
             "hovertemplate": "country=%{x}<br>Confirmed=%{customdata[0]}<extra></extra>",
             "legendgroup": "Spain",
             "marker": {
              "color": "#FF97FF"
             },
             "name": "Spain",
             "offsetgroup": "Spain",
             "orientation": "v",
             "showlegend": true,
             "textposition": "auto",
             "type": "bar",
             "x": [
              "Spain"
             ],
             "xaxis": "x",
             "y": [
              2137220
             ],
             "yaxis": "y"
            },
            {
             "alignmentgroup": "True",
             "customdata": [
              [
               1968326
              ]
             ],
             "hovertemplate": "country=%{x}<br>Confirmed=%{customdata[0]}<extra></extra>",
             "legendgroup": "Germany",
             "marker": {
              "color": "#FECB52"
             },
             "name": "Germany",
             "offsetgroup": "Germany",
             "orientation": "v",
             "showlegend": true,
             "textposition": "auto",
             "type": "bar",
             "x": [
              "Germany"
             ],
             "xaxis": "x",
             "y": [
              1968326
             ],
             "yaxis": "y"
            }
           ],
           "layout": {
            "barmode": "relative",
            "height": 400,
            "legend": {
             "title": {
              "text": "country"
             },
             "tracegroupgap": 0
            },
            "template": {
             "data": {
              "bar": [
               {
                "error_x": {
                 "color": "#2a3f5f"
                },
                "error_y": {
                 "color": "#2a3f5f"
                },
                "marker": {
                 "line": {
                  "color": "#E5ECF6",
                  "width": 0.5
                 }
                },
                "type": "bar"
               }
              ],
              "barpolar": [
               {
                "marker": {
                 "line": {
                  "color": "#E5ECF6",
                  "width": 0.5
                 }
                },
                "type": "barpolar"
               }
              ],
              "carpet": [
               {
                "aaxis": {
                 "endlinecolor": "#2a3f5f",
                 "gridcolor": "white",
                 "linecolor": "white",
                 "minorgridcolor": "white",
                 "startlinecolor": "#2a3f5f"
                },
                "baxis": {
                 "endlinecolor": "#2a3f5f",
                 "gridcolor": "white",
                 "linecolor": "white",
                 "minorgridcolor": "white",
                 "startlinecolor": "#2a3f5f"
                },
                "type": "carpet"
               }
              ],
              "choropleth": [
               {
                "colorbar": {
                 "outlinewidth": 0,
                 "ticks": ""
                },
                "type": "choropleth"
               }
              ],
              "contour": [
               {
                "colorbar": {
                 "outlinewidth": 0,
                 "ticks": ""
                },
                "colorscale": [
                 [
                  0,
                  "#0d0887"
                 ],
                 [
                  0.1111111111111111,
                  "#46039f"
                 ],
                 [
                  0.2222222222222222,
                  "#7201a8"
                 ],
                 [
                  0.3333333333333333,
                  "#9c179e"
                 ],
                 [
                  0.4444444444444444,
                  "#bd3786"
                 ],
                 [
                  0.5555555555555556,
                  "#d8576b"
                 ],
                 [
                  0.6666666666666666,
                  "#ed7953"
                 ],
                 [
                  0.7777777777777778,
                  "#fb9f3a"
                 ],
                 [
                  0.8888888888888888,
                  "#fdca26"
                 ],
                 [
                  1,
                  "#f0f921"
                 ]
                ],
                "type": "contour"
               }
              ],
              "contourcarpet": [
               {
                "colorbar": {
                 "outlinewidth": 0,
                 "ticks": ""
                },
                "type": "contourcarpet"
               }
              ],
              "heatmap": [
               {
                "colorbar": {
                 "outlinewidth": 0,
                 "ticks": ""
                },
                "colorscale": [
                 [
                  0,
                  "#0d0887"
                 ],
                 [
                  0.1111111111111111,
                  "#46039f"
                 ],
                 [
                  0.2222222222222222,
                  "#7201a8"
                 ],
                 [
                  0.3333333333333333,
                  "#9c179e"
                 ],
                 [
                  0.4444444444444444,
                  "#bd3786"
                 ],
                 [
                  0.5555555555555556,
                  "#d8576b"
                 ],
                 [
                  0.6666666666666666,
                  "#ed7953"
                 ],
                 [
                  0.7777777777777778,
                  "#fb9f3a"
                 ],
                 [
                  0.8888888888888888,
                  "#fdca26"
                 ],
                 [
                  1,
                  "#f0f921"
                 ]
                ],
                "type": "heatmap"
               }
              ],
              "heatmapgl": [
               {
                "colorbar": {
                 "outlinewidth": 0,
                 "ticks": ""
                },
                "colorscale": [
                 [
                  0,
                  "#0d0887"
                 ],
                 [
                  0.1111111111111111,
                  "#46039f"
                 ],
                 [
                  0.2222222222222222,
                  "#7201a8"
                 ],
                 [
                  0.3333333333333333,
                  "#9c179e"
                 ],
                 [
                  0.4444444444444444,
                  "#bd3786"
                 ],
                 [
                  0.5555555555555556,
                  "#d8576b"
                 ],
                 [
                  0.6666666666666666,
                  "#ed7953"
                 ],
                 [
                  0.7777777777777778,
                  "#fb9f3a"
                 ],
                 [
                  0.8888888888888888,
                  "#fdca26"
                 ],
                 [
                  1,
                  "#f0f921"
                 ]
                ],
                "type": "heatmapgl"
               }
              ],
              "histogram": [
               {
                "marker": {
                 "colorbar": {
                  "outlinewidth": 0,
                  "ticks": ""
                 }
                },
                "type": "histogram"
               }
              ],
              "histogram2d": [
               {
                "colorbar": {
                 "outlinewidth": 0,
                 "ticks": ""
                },
                "colorscale": [
                 [
                  0,
                  "#0d0887"
                 ],
                 [
                  0.1111111111111111,
                  "#46039f"
                 ],
                 [
                  0.2222222222222222,
                  "#7201a8"
                 ],
                 [
                  0.3333333333333333,
                  "#9c179e"
                 ],
                 [
                  0.4444444444444444,
                  "#bd3786"
                 ],
                 [
                  0.5555555555555556,
                  "#d8576b"
                 ],
                 [
                  0.6666666666666666,
                  "#ed7953"
                 ],
                 [
                  0.7777777777777778,
                  "#fb9f3a"
                 ],
                 [
                  0.8888888888888888,
                  "#fdca26"
                 ],
                 [
                  1,
                  "#f0f921"
                 ]
                ],
                "type": "histogram2d"
               }
              ],
              "histogram2dcontour": [
               {
                "colorbar": {
                 "outlinewidth": 0,
                 "ticks": ""
                },
                "colorscale": [
                 [
                  0,
                  "#0d0887"
                 ],
                 [
                  0.1111111111111111,
                  "#46039f"
                 ],
                 [
                  0.2222222222222222,
                  "#7201a8"
                 ],
                 [
                  0.3333333333333333,
                  "#9c179e"
                 ],
                 [
                  0.4444444444444444,
                  "#bd3786"
                 ],
                 [
                  0.5555555555555556,
                  "#d8576b"
                 ],
                 [
                  0.6666666666666666,
                  "#ed7953"
                 ],
                 [
                  0.7777777777777778,
                  "#fb9f3a"
                 ],
                 [
                  0.8888888888888888,
                  "#fdca26"
                 ],
                 [
                  1,
                  "#f0f921"
                 ]
                ],
                "type": "histogram2dcontour"
               }
              ],
              "mesh3d": [
               {
                "colorbar": {
                 "outlinewidth": 0,
                 "ticks": ""
                },
                "type": "mesh3d"
               }
              ],
              "parcoords": [
               {
                "line": {
                 "colorbar": {
                  "outlinewidth": 0,
                  "ticks": ""
                 }
                },
                "type": "parcoords"
               }
              ],
              "pie": [
               {
                "automargin": true,
                "type": "pie"
               }
              ],
              "scatter": [
               {
                "marker": {
                 "colorbar": {
                  "outlinewidth": 0,
                  "ticks": ""
                 }
                },
                "type": "scatter"
               }
              ],
              "scatter3d": [
               {
                "line": {
                 "colorbar": {
                  "outlinewidth": 0,
                  "ticks": ""
                 }
                },
                "marker": {
                 "colorbar": {
                  "outlinewidth": 0,
                  "ticks": ""
                 }
                },
                "type": "scatter3d"
               }
              ],
              "scattercarpet": [
               {
                "marker": {
                 "colorbar": {
                  "outlinewidth": 0,
                  "ticks": ""
                 }
                },
                "type": "scattercarpet"
               }
              ],
              "scattergeo": [
               {
                "marker": {
                 "colorbar": {
                  "outlinewidth": 0,
                  "ticks": ""
                 }
                },
                "type": "scattergeo"
               }
              ],
              "scattergl": [
               {
                "marker": {
                 "colorbar": {
                  "outlinewidth": 0,
                  "ticks": ""
                 }
                },
                "type": "scattergl"
               }
              ],
              "scattermapbox": [
               {
                "marker": {
                 "colorbar": {
                  "outlinewidth": 0,
                  "ticks": ""
                 }
                },
                "type": "scattermapbox"
               }
              ],
              "scatterpolar": [
               {
                "marker": {
                 "colorbar": {
                  "outlinewidth": 0,
                  "ticks": ""
                 }
                },
                "type": "scatterpolar"
               }
              ],
              "scatterpolargl": [
               {
                "marker": {
                 "colorbar": {
                  "outlinewidth": 0,
                  "ticks": ""
                 }
                },
                "type": "scatterpolargl"
               }
              ],
              "scatterternary": [
               {
                "marker": {
                 "colorbar": {
                  "outlinewidth": 0,
                  "ticks": ""
                 }
                },
                "type": "scatterternary"
               }
              ],
              "surface": [
               {
                "colorbar": {
                 "outlinewidth": 0,
                 "ticks": ""
                },
                "colorscale": [
                 [
                  0,
                  "#0d0887"
                 ],
                 [
                  0.1111111111111111,
                  "#46039f"
                 ],
                 [
                  0.2222222222222222,
                  "#7201a8"
                 ],
                 [
                  0.3333333333333333,
                  "#9c179e"
                 ],
                 [
                  0.4444444444444444,
                  "#bd3786"
                 ],
                 [
                  0.5555555555555556,
                  "#d8576b"
                 ],
                 [
                  0.6666666666666666,
                  "#ed7953"
                 ],
                 [
                  0.7777777777777778,
                  "#fb9f3a"
                 ],
                 [
                  0.8888888888888888,
                  "#fdca26"
                 ],
                 [
                  1,
                  "#f0f921"
                 ]
                ],
                "type": "surface"
               }
              ],
              "table": [
               {
                "cells": {
                 "fill": {
                  "color": "#EBF0F8"
                 },
                 "line": {
                  "color": "white"
                 }
                },
                "header": {
                 "fill": {
                  "color": "#C8D4E3"
                 },
                 "line": {
                  "color": "white"
                 }
                },
                "type": "table"
               }
              ]
             },
             "layout": {
              "annotationdefaults": {
               "arrowcolor": "#2a3f5f",
               "arrowhead": 0,
               "arrowwidth": 1
              },
              "autotypenumbers": "strict",
              "coloraxis": {
               "colorbar": {
                "outlinewidth": 0,
                "ticks": ""
               }
              },
              "colorscale": {
               "diverging": [
                [
                 0,
                 "#8e0152"
                ],
                [
                 0.1,
                 "#c51b7d"
                ],
                [
                 0.2,
                 "#de77ae"
                ],
                [
                 0.3,
                 "#f1b6da"
                ],
                [
                 0.4,
                 "#fde0ef"
                ],
                [
                 0.5,
                 "#f7f7f7"
                ],
                [
                 0.6,
                 "#e6f5d0"
                ],
                [
                 0.7,
                 "#b8e186"
                ],
                [
                 0.8,
                 "#7fbc41"
                ],
                [
                 0.9,
                 "#4d9221"
                ],
                [
                 1,
                 "#276419"
                ]
               ],
               "sequential": [
                [
                 0,
                 "#0d0887"
                ],
                [
                 0.1111111111111111,
                 "#46039f"
                ],
                [
                 0.2222222222222222,
                 "#7201a8"
                ],
                [
                 0.3333333333333333,
                 "#9c179e"
                ],
                [
                 0.4444444444444444,
                 "#bd3786"
                ],
                [
                 0.5555555555555556,
                 "#d8576b"
                ],
                [
                 0.6666666666666666,
                 "#ed7953"
                ],
                [
                 0.7777777777777778,
                 "#fb9f3a"
                ],
                [
                 0.8888888888888888,
                 "#fdca26"
                ],
                [
                 1,
                 "#f0f921"
                ]
               ],
               "sequentialminus": [
                [
                 0,
                 "#0d0887"
                ],
                [
                 0.1111111111111111,
                 "#46039f"
                ],
                [
                 0.2222222222222222,
                 "#7201a8"
                ],
                [
                 0.3333333333333333,
                 "#9c179e"
                ],
                [
                 0.4444444444444444,
                 "#bd3786"
                ],
                [
                 0.5555555555555556,
                 "#d8576b"
                ],
                [
                 0.6666666666666666,
                 "#ed7953"
                ],
                [
                 0.7777777777777778,
                 "#fb9f3a"
                ],
                [
                 0.8888888888888888,
                 "#fdca26"
                ],
                [
                 1,
                 "#f0f921"
                ]
               ]
              },
              "colorway": [
               "#636efa",
               "#EF553B",
               "#00cc96",
               "#ab63fa",
               "#FFA15A",
               "#19d3f3",
               "#FF6692",
               "#B6E880",
               "#FF97FF",
               "#FECB52"
              ],
              "font": {
               "color": "#2a3f5f"
              },
              "geo": {
               "bgcolor": "white",
               "lakecolor": "white",
               "landcolor": "#E5ECF6",
               "showlakes": true,
               "showland": true,
               "subunitcolor": "white"
              },
              "hoverlabel": {
               "align": "left"
              },
              "hovermode": "closest",
              "mapbox": {
               "style": "light"
              },
              "paper_bgcolor": "white",
              "plot_bgcolor": "#E5ECF6",
              "polar": {
               "angularaxis": {
                "gridcolor": "white",
                "linecolor": "white",
                "ticks": ""
               },
               "bgcolor": "#E5ECF6",
               "radialaxis": {
                "gridcolor": "white",
                "linecolor": "white",
                "ticks": ""
               }
              },
              "scene": {
               "xaxis": {
                "backgroundcolor": "#E5ECF6",
                "gridcolor": "white",
                "gridwidth": 2,
                "linecolor": "white",
                "showbackground": true,
                "ticks": "",
                "zerolinecolor": "white"
               },
               "yaxis": {
                "backgroundcolor": "#E5ECF6",
                "gridcolor": "white",
                "gridwidth": 2,
                "linecolor": "white",
                "showbackground": true,
                "ticks": "",
                "zerolinecolor": "white"
               },
               "zaxis": {
                "backgroundcolor": "#E5ECF6",
                "gridcolor": "white",
                "gridwidth": 2,
                "linecolor": "white",
                "showbackground": true,
                "ticks": "",
                "zerolinecolor": "white"
               }
              },
              "shapedefaults": {
               "line": {
                "color": "#2a3f5f"
               }
              },
              "ternary": {
               "aaxis": {
                "gridcolor": "white",
                "linecolor": "white",
                "ticks": ""
               },
               "baxis": {
                "gridcolor": "white",
                "linecolor": "white",
                "ticks": ""
               },
               "bgcolor": "#E5ECF6",
               "caxis": {
                "gridcolor": "white",
                "linecolor": "white",
                "ticks": ""
               }
              },
              "title": {
               "x": 0.05
              },
              "xaxis": {
               "automargin": true,
               "gridcolor": "white",
               "linecolor": "white",
               "ticks": "",
               "title": {
                "standoff": 15
               },
               "zerolinecolor": "white",
               "zerolinewidth": 2
              },
              "yaxis": {
               "automargin": true,
               "gridcolor": "white",
               "linecolor": "white",
               "ticks": "",
               "title": {
                "standoff": 15
               },
               "zerolinecolor": "white",
               "zerolinewidth": 2
              }
             }
            },
            "title": {
             "text": "Top infected Countries"
            },
            "xaxis": {
             "anchor": "y",
             "categoryarray": [
              "US",
              "India",
              "Brazil",
              "Russia",
              "United Kingdom",
              "France",
              "Turkey",
              "Italy",
              "Spain",
              "Germany"
             ],
             "categoryorder": "array",
             "domain": [
              0,
              1
             ],
             "title": {
              "text": "country"
             }
            },
            "yaxis": {
             "anchor": "x",
             "domain": [
              0,
              1
             ],
             "title": {
              "text": "Confirmed"
             }
            }
           }
          },
          "text/html": "<div>                            <div id=\"3a8d49bb-8f4e-4e86-aea6-103b53db9f17\" class=\"plotly-graph-div\" style=\"height:400px; width:100%;\"></div>            <script type=\"text/javascript\">                require([\"plotly\"], function(Plotly) {                    window.PLOTLYENV=window.PLOTLYENV || {};                                    if (document.getElementById(\"3a8d49bb-8f4e-4e86-aea6-103b53db9f17\")) {                    Plotly.newPlot(                        \"3a8d49bb-8f4e-4e86-aea6-103b53db9f17\",                        [{\"alignmentgroup\": \"True\", \"customdata\": [[22847637]], \"hovertemplate\": \"country=%{x}<br>Confirmed=%{customdata[0]}<extra></extra>\", \"legendgroup\": \"US\", \"marker\": {\"color\": \"#636efa\"}, \"name\": \"US\", \"offsetgroup\": \"US\", \"orientation\": \"v\", \"showlegend\": true, \"textposition\": \"auto\", \"type\": \"bar\", \"x\": [\"US\"], \"xaxis\": \"x\", \"y\": [22847637], \"yaxis\": \"y\"}, {\"alignmentgroup\": \"True\", \"customdata\": [[10495147]], \"hovertemplate\": \"country=%{x}<br>Confirmed=%{customdata[0]}<extra></extra>\", \"legendgroup\": \"India\", \"marker\": {\"color\": \"#EF553B\"}, \"name\": \"India\", \"offsetgroup\": \"India\", \"orientation\": \"v\", \"showlegend\": true, \"textposition\": \"auto\", \"type\": \"bar\", \"x\": [\"India\"], \"xaxis\": \"x\", \"y\": [10495147], \"yaxis\": \"y\"}, {\"alignmentgroup\": \"True\", \"customdata\": [[8195637]], \"hovertemplate\": \"country=%{x}<br>Confirmed=%{customdata[0]}<extra></extra>\", \"legendgroup\": \"Brazil\", \"marker\": {\"color\": \"#00cc96\"}, \"name\": \"Brazil\", \"offsetgroup\": \"Brazil\", \"orientation\": \"v\", \"showlegend\": true, \"textposition\": \"auto\", \"type\": \"bar\", \"x\": [\"Brazil\"], \"xaxis\": \"x\", \"y\": [8195637], \"yaxis\": \"y\"}, {\"alignmentgroup\": \"True\", \"customdata\": [[3412390]], \"hovertemplate\": \"country=%{x}<br>Confirmed=%{customdata[0]}<extra></extra>\", \"legendgroup\": \"Russia\", \"marker\": {\"color\": \"#ab63fa\"}, \"name\": \"Russia\", \"offsetgroup\": \"Russia\", \"orientation\": \"v\", \"showlegend\": true, \"textposition\": \"auto\", \"type\": \"bar\", \"x\": [\"Russia\"], \"xaxis\": \"x\", \"y\": [3412390], \"yaxis\": \"y\"}, {\"alignmentgroup\": \"True\", \"customdata\": [[3173291]], \"hovertemplate\": \"country=%{x}<br>Confirmed=%{customdata[0]}<extra></extra>\", \"legendgroup\": \"United Kingdom\", \"marker\": {\"color\": \"#FFA15A\"}, \"name\": \"United Kingdom\", \"offsetgroup\": \"United Kingdom\", \"orientation\": \"v\", \"showlegend\": true, \"textposition\": \"auto\", \"type\": \"bar\", \"x\": [\"United Kingdom\"], \"xaxis\": \"x\", \"y\": [3173291], \"yaxis\": \"y\"}, {\"alignmentgroup\": \"True\", \"customdata\": [[2864360]], \"hovertemplate\": \"country=%{x}<br>Confirmed=%{customdata[0]}<extra></extra>\", \"legendgroup\": \"France\", \"marker\": {\"color\": \"#19d3f3\"}, \"name\": \"France\", \"offsetgroup\": \"France\", \"orientation\": \"v\", \"showlegend\": true, \"textposition\": \"auto\", \"type\": \"bar\", \"x\": [\"France\"], \"xaxis\": \"x\", \"y\": [2864360], \"yaxis\": \"y\"}, {\"alignmentgroup\": \"True\", \"customdata\": [[2346285]], \"hovertemplate\": \"country=%{x}<br>Confirmed=%{customdata[0]}<extra></extra>\", \"legendgroup\": \"Turkey\", \"marker\": {\"color\": \"#FF6692\"}, \"name\": \"Turkey\", \"offsetgroup\": \"Turkey\", \"orientation\": \"v\", \"showlegend\": true, \"textposition\": \"auto\", \"type\": \"bar\", \"x\": [\"Turkey\"], \"xaxis\": \"x\", \"y\": [2346285], \"yaxis\": \"y\"}, {\"alignmentgroup\": \"True\", \"customdata\": [[2303263]], \"hovertemplate\": \"country=%{x}<br>Confirmed=%{customdata[0]}<extra></extra>\", \"legendgroup\": \"Italy\", \"marker\": {\"color\": \"#B6E880\"}, \"name\": \"Italy\", \"offsetgroup\": \"Italy\", \"orientation\": \"v\", \"showlegend\": true, \"textposition\": \"auto\", \"type\": \"bar\", \"x\": [\"Italy\"], \"xaxis\": \"x\", \"y\": [2303263], \"yaxis\": \"y\"}, {\"alignmentgroup\": \"True\", \"customdata\": [[2137220]], \"hovertemplate\": \"country=%{x}<br>Confirmed=%{customdata[0]}<extra></extra>\", \"legendgroup\": \"Spain\", \"marker\": {\"color\": \"#FF97FF\"}, \"name\": \"Spain\", \"offsetgroup\": \"Spain\", \"orientation\": \"v\", \"showlegend\": true, \"textposition\": \"auto\", \"type\": \"bar\", \"x\": [\"Spain\"], \"xaxis\": \"x\", \"y\": [2137220], \"yaxis\": \"y\"}, {\"alignmentgroup\": \"True\", \"customdata\": [[1968326]], \"hovertemplate\": \"country=%{x}<br>Confirmed=%{customdata[0]}<extra></extra>\", \"legendgroup\": \"Germany\", \"marker\": {\"color\": \"#FECB52\"}, \"name\": \"Germany\", \"offsetgroup\": \"Germany\", \"orientation\": \"v\", \"showlegend\": true, \"textposition\": \"auto\", \"type\": \"bar\", \"x\": [\"Germany\"], \"xaxis\": \"x\", \"y\": [1968326], \"yaxis\": \"y\"}],                        {\"barmode\": \"relative\", \"height\": 400, \"legend\": {\"title\": {\"text\": \"country\"}, \"tracegroupgap\": 0}, \"template\": {\"data\": {\"bar\": [{\"error_x\": {\"color\": \"#2a3f5f\"}, \"error_y\": {\"color\": \"#2a3f5f\"}, \"marker\": {\"line\": {\"color\": \"#E5ECF6\", \"width\": 0.5}}, \"type\": \"bar\"}], \"barpolar\": [{\"marker\": {\"line\": {\"color\": \"#E5ECF6\", \"width\": 0.5}}, \"type\": \"barpolar\"}], \"carpet\": [{\"aaxis\": {\"endlinecolor\": \"#2a3f5f\", \"gridcolor\": \"white\", \"linecolor\": \"white\", \"minorgridcolor\": \"white\", \"startlinecolor\": \"#2a3f5f\"}, \"baxis\": {\"endlinecolor\": \"#2a3f5f\", \"gridcolor\": \"white\", \"linecolor\": \"white\", \"minorgridcolor\": \"white\", \"startlinecolor\": \"#2a3f5f\"}, \"type\": \"carpet\"}], \"choropleth\": [{\"colorbar\": {\"outlinewidth\": 0, \"ticks\": \"\"}, \"type\": \"choropleth\"}], \"contour\": [{\"colorbar\": {\"outlinewidth\": 0, \"ticks\": \"\"}, \"colorscale\": [[0.0, \"#0d0887\"], [0.1111111111111111, \"#46039f\"], [0.2222222222222222, \"#7201a8\"], [0.3333333333333333, \"#9c179e\"], [0.4444444444444444, \"#bd3786\"], [0.5555555555555556, \"#d8576b\"], [0.6666666666666666, \"#ed7953\"], [0.7777777777777778, \"#fb9f3a\"], [0.8888888888888888, \"#fdca26\"], [1.0, \"#f0f921\"]], \"type\": \"contour\"}], \"contourcarpet\": [{\"colorbar\": {\"outlinewidth\": 0, \"ticks\": \"\"}, \"type\": \"contourcarpet\"}], \"heatmap\": [{\"colorbar\": {\"outlinewidth\": 0, \"ticks\": \"\"}, \"colorscale\": [[0.0, \"#0d0887\"], [0.1111111111111111, \"#46039f\"], [0.2222222222222222, \"#7201a8\"], [0.3333333333333333, \"#9c179e\"], [0.4444444444444444, \"#bd3786\"], [0.5555555555555556, \"#d8576b\"], [0.6666666666666666, \"#ed7953\"], [0.7777777777777778, \"#fb9f3a\"], [0.8888888888888888, \"#fdca26\"], [1.0, \"#f0f921\"]], \"type\": \"heatmap\"}], \"heatmapgl\": [{\"colorbar\": {\"outlinewidth\": 0, \"ticks\": \"\"}, \"colorscale\": [[0.0, \"#0d0887\"], [0.1111111111111111, \"#46039f\"], [0.2222222222222222, \"#7201a8\"], [0.3333333333333333, \"#9c179e\"], [0.4444444444444444, \"#bd3786\"], [0.5555555555555556, \"#d8576b\"], [0.6666666666666666, \"#ed7953\"], [0.7777777777777778, \"#fb9f3a\"], [0.8888888888888888, \"#fdca26\"], [1.0, \"#f0f921\"]], \"type\": \"heatmapgl\"}], \"histogram\": [{\"marker\": {\"colorbar\": {\"outlinewidth\": 0, \"ticks\": \"\"}}, \"type\": \"histogram\"}], \"histogram2d\": [{\"colorbar\": {\"outlinewidth\": 0, \"ticks\": \"\"}, \"colorscale\": [[0.0, \"#0d0887\"], [0.1111111111111111, \"#46039f\"], [0.2222222222222222, \"#7201a8\"], [0.3333333333333333, \"#9c179e\"], [0.4444444444444444, \"#bd3786\"], [0.5555555555555556, \"#d8576b\"], [0.6666666666666666, \"#ed7953\"], [0.7777777777777778, \"#fb9f3a\"], [0.8888888888888888, \"#fdca26\"], [1.0, \"#f0f921\"]], \"type\": \"histogram2d\"}], \"histogram2dcontour\": [{\"colorbar\": {\"outlinewidth\": 0, \"ticks\": \"\"}, \"colorscale\": [[0.0, \"#0d0887\"], [0.1111111111111111, \"#46039f\"], [0.2222222222222222, \"#7201a8\"], [0.3333333333333333, \"#9c179e\"], [0.4444444444444444, \"#bd3786\"], [0.5555555555555556, \"#d8576b\"], [0.6666666666666666, \"#ed7953\"], [0.7777777777777778, \"#fb9f3a\"], [0.8888888888888888, \"#fdca26\"], [1.0, \"#f0f921\"]], \"type\": \"histogram2dcontour\"}], \"mesh3d\": [{\"colorbar\": {\"outlinewidth\": 0, \"ticks\": \"\"}, \"type\": \"mesh3d\"}], \"parcoords\": [{\"line\": {\"colorbar\": {\"outlinewidth\": 0, \"ticks\": \"\"}}, \"type\": \"parcoords\"}], \"pie\": [{\"automargin\": true, \"type\": \"pie\"}], \"scatter\": [{\"marker\": {\"colorbar\": {\"outlinewidth\": 0, \"ticks\": \"\"}}, \"type\": \"scatter\"}], \"scatter3d\": [{\"line\": {\"colorbar\": {\"outlinewidth\": 0, \"ticks\": \"\"}}, \"marker\": {\"colorbar\": {\"outlinewidth\": 0, \"ticks\": \"\"}}, \"type\": \"scatter3d\"}], \"scattercarpet\": [{\"marker\": {\"colorbar\": {\"outlinewidth\": 0, \"ticks\": \"\"}}, \"type\": \"scattercarpet\"}], \"scattergeo\": [{\"marker\": {\"colorbar\": {\"outlinewidth\": 0, \"ticks\": \"\"}}, \"type\": \"scattergeo\"}], \"scattergl\": [{\"marker\": {\"colorbar\": {\"outlinewidth\": 0, \"ticks\": \"\"}}, \"type\": \"scattergl\"}], \"scattermapbox\": [{\"marker\": {\"colorbar\": {\"outlinewidth\": 0, \"ticks\": \"\"}}, \"type\": \"scattermapbox\"}], \"scatterpolar\": [{\"marker\": {\"colorbar\": {\"outlinewidth\": 0, \"ticks\": \"\"}}, \"type\": \"scatterpolar\"}], \"scatterpolargl\": [{\"marker\": {\"colorbar\": {\"outlinewidth\": 0, \"ticks\": \"\"}}, \"type\": \"scatterpolargl\"}], \"scatterternary\": [{\"marker\": {\"colorbar\": {\"outlinewidth\": 0, \"ticks\": \"\"}}, \"type\": \"scatterternary\"}], \"surface\": [{\"colorbar\": {\"outlinewidth\": 0, \"ticks\": \"\"}, \"colorscale\": [[0.0, \"#0d0887\"], [0.1111111111111111, \"#46039f\"], [0.2222222222222222, \"#7201a8\"], [0.3333333333333333, \"#9c179e\"], [0.4444444444444444, \"#bd3786\"], [0.5555555555555556, \"#d8576b\"], [0.6666666666666666, \"#ed7953\"], [0.7777777777777778, \"#fb9f3a\"], [0.8888888888888888, \"#fdca26\"], [1.0, \"#f0f921\"]], \"type\": \"surface\"}], \"table\": [{\"cells\": {\"fill\": {\"color\": \"#EBF0F8\"}, \"line\": {\"color\": \"white\"}}, \"header\": {\"fill\": {\"color\": \"#C8D4E3\"}, \"line\": {\"color\": \"white\"}}, \"type\": \"table\"}]}, \"layout\": {\"annotationdefaults\": {\"arrowcolor\": \"#2a3f5f\", \"arrowhead\": 0, \"arrowwidth\": 1}, \"autotypenumbers\": \"strict\", \"coloraxis\": {\"colorbar\": {\"outlinewidth\": 0, \"ticks\": \"\"}}, \"colorscale\": {\"diverging\": [[0, \"#8e0152\"], [0.1, \"#c51b7d\"], [0.2, \"#de77ae\"], [0.3, \"#f1b6da\"], [0.4, \"#fde0ef\"], [0.5, \"#f7f7f7\"], [0.6, \"#e6f5d0\"], [0.7, \"#b8e186\"], [0.8, \"#7fbc41\"], [0.9, \"#4d9221\"], [1, \"#276419\"]], \"sequential\": [[0.0, \"#0d0887\"], [0.1111111111111111, \"#46039f\"], [0.2222222222222222, \"#7201a8\"], [0.3333333333333333, \"#9c179e\"], [0.4444444444444444, \"#bd3786\"], [0.5555555555555556, \"#d8576b\"], [0.6666666666666666, \"#ed7953\"], [0.7777777777777778, \"#fb9f3a\"], [0.8888888888888888, \"#fdca26\"], [1.0, \"#f0f921\"]], \"sequentialminus\": [[0.0, \"#0d0887\"], [0.1111111111111111, \"#46039f\"], [0.2222222222222222, \"#7201a8\"], [0.3333333333333333, \"#9c179e\"], [0.4444444444444444, \"#bd3786\"], [0.5555555555555556, \"#d8576b\"], [0.6666666666666666, \"#ed7953\"], [0.7777777777777778, \"#fb9f3a\"], [0.8888888888888888, \"#fdca26\"], [1.0, \"#f0f921\"]]}, \"colorway\": [\"#636efa\", \"#EF553B\", \"#00cc96\", \"#ab63fa\", \"#FFA15A\", \"#19d3f3\", \"#FF6692\", \"#B6E880\", \"#FF97FF\", \"#FECB52\"], \"font\": {\"color\": \"#2a3f5f\"}, \"geo\": {\"bgcolor\": \"white\", \"lakecolor\": \"white\", \"landcolor\": \"#E5ECF6\", \"showlakes\": true, \"showland\": true, \"subunitcolor\": \"white\"}, \"hoverlabel\": {\"align\": \"left\"}, \"hovermode\": \"closest\", \"mapbox\": {\"style\": \"light\"}, \"paper_bgcolor\": \"white\", \"plot_bgcolor\": \"#E5ECF6\", \"polar\": {\"angularaxis\": {\"gridcolor\": \"white\", \"linecolor\": \"white\", \"ticks\": \"\"}, \"bgcolor\": \"#E5ECF6\", \"radialaxis\": {\"gridcolor\": \"white\", \"linecolor\": \"white\", \"ticks\": \"\"}}, \"scene\": {\"xaxis\": {\"backgroundcolor\": \"#E5ECF6\", \"gridcolor\": \"white\", \"gridwidth\": 2, \"linecolor\": \"white\", \"showbackground\": true, \"ticks\": \"\", \"zerolinecolor\": \"white\"}, \"yaxis\": {\"backgroundcolor\": \"#E5ECF6\", \"gridcolor\": \"white\", \"gridwidth\": 2, \"linecolor\": \"white\", \"showbackground\": true, \"ticks\": \"\", \"zerolinecolor\": \"white\"}, \"zaxis\": {\"backgroundcolor\": \"#E5ECF6\", \"gridcolor\": \"white\", \"gridwidth\": 2, \"linecolor\": \"white\", \"showbackground\": true, \"ticks\": \"\", \"zerolinecolor\": \"white\"}}, \"shapedefaults\": {\"line\": {\"color\": \"#2a3f5f\"}}, \"ternary\": {\"aaxis\": {\"gridcolor\": \"white\", \"linecolor\": \"white\", \"ticks\": \"\"}, \"baxis\": {\"gridcolor\": \"white\", \"linecolor\": \"white\", \"ticks\": \"\"}, \"bgcolor\": \"#E5ECF6\", \"caxis\": {\"gridcolor\": \"white\", \"linecolor\": \"white\", \"ticks\": \"\"}}, \"title\": {\"x\": 0.05}, \"xaxis\": {\"automargin\": true, \"gridcolor\": \"white\", \"linecolor\": \"white\", \"ticks\": \"\", \"title\": {\"standoff\": 15}, \"zerolinecolor\": \"white\", \"zerolinewidth\": 2}, \"yaxis\": {\"automargin\": true, \"gridcolor\": \"white\", \"linecolor\": \"white\", \"ticks\": \"\", \"title\": {\"standoff\": 15}, \"zerolinecolor\": \"white\", \"zerolinewidth\": 2}}}, \"title\": {\"text\": \"Top infected Countries\"}, \"xaxis\": {\"anchor\": \"y\", \"categoryarray\": [\"US\", \"India\", \"Brazil\", \"Russia\", \"United Kingdom\", \"France\", \"Turkey\", \"Italy\", \"Spain\", \"Germany\"], \"categoryorder\": \"array\", \"domain\": [0.0, 1.0], \"title\": {\"text\": \"country\"}}, \"yaxis\": {\"anchor\": \"x\", \"domain\": [0.0, 1.0], \"title\": {\"text\": \"Confirmed\"}}},                        {\"responsive\": true}                    ).then(function(){\n                            \nvar gd = document.getElementById('3a8d49bb-8f4e-4e86-aea6-103b53db9f17');\nvar x = new MutationObserver(function (mutations, observer) {{\n        var display = window.getComputedStyle(gd).display;\n        if (!display || display === 'none') {{\n            console.log([gd, 'removed!']);\n            Plotly.purge(gd);\n            observer.disconnect();\n        }}\n}});\n\n// Listen for the removal of the full notebook cells\nvar notebookContainer = gd.closest('#notebook-container');\nif (notebookContainer) {{\n    x.observe(notebookContainer, {childList: true});\n}}\n\n// Listen for the clearing of the current output cell\nvar outputEl = gd.closest('.output');\nif (outputEl) {{\n    x.observe(outputEl, {childList: true});\n}}\n\n                        })                };                });            </script>        </div>"
         },
         "metadata": {},
         "output_type": "display_data"
        }
       ]
      }
     },
     "f0aa9b5ffb0e496f8bfca044cb577031": {
      "model_module": "@jupyter-widgets/controls",
      "model_module_version": "1.5.0",
      "model_name": "SliderStyleModel",
      "state": {
       "description_width": ""
      }
     },
     "f18d8b862c1d4f42b4fc000bb3acacc9": {
      "model_module": "@jupyter-widgets/base",
      "model_module_version": "1.2.0",
      "model_name": "LayoutModel",
      "state": {}
     },
     "f21a40f01869436eb894fcf420a29103": {
      "model_module": "@jupyter-widgets/controls",
      "model_module_version": "1.5.0",
      "model_name": "DescriptionStyleModel",
      "state": {
       "description_width": ""
      }
     },
     "f222ad5d38f246d1a108e0e08fa2a131": {
      "model_module": "@jupyter-widgets/controls",
      "model_module_version": "1.5.0",
      "model_name": "CheckboxModel",
      "state": {
       "description": "Worldwide",
       "disabled": false,
       "layout": "IPY_MODEL_bdcab59d0f7c4b338f163a1b9939d90b",
       "style": "IPY_MODEL_0a1704fb3708481e8b098a3f342c6928",
       "value": true
      }
     },
     "f2bea4be32db4ace93c4db73455b49e7": {
      "model_module": "@jupyter-widgets/controls",
      "model_module_version": "1.5.0",
      "model_name": "IntSliderModel",
      "state": {
       "description": "number",
       "layout": "IPY_MODEL_e3dd704819634f0bb25a3e7ac9cc3667",
       "max": 30,
       "min": 1,
       "style": "IPY_MODEL_06047989825b49379e7632759d2d3531",
       "value": 10
      }
     },
     "f4f1a4551e384c70a4ab962bace62d84": {
      "model_module": "@jupyter-widgets/controls",
      "model_module_version": "1.5.0",
      "model_name": "DescriptionStyleModel",
      "state": {
       "description_width": ""
      }
     },
     "f6905a5101604cf0aa575401d9b67c3a": {
      "model_module": "@jupyter-widgets/controls",
      "model_module_version": "1.5.0",
      "model_name": "DescriptionStyleModel",
      "state": {
       "description_width": ""
      }
     },
     "f7bbdcc165b2458ba4898769a2a53604": {
      "model_module": "@jupyter-widgets/base",
      "model_module_version": "1.2.0",
      "model_name": "LayoutModel",
      "state": {}
     },
     "f95eebdfbed14520876fffe95d896dbf": {
      "model_module": "@jupyter-widgets/controls",
      "model_module_version": "1.5.0",
      "model_name": "SliderStyleModel",
      "state": {
       "description_width": ""
      }
     },
     "fc8527fd92d14a9aaf53a1f142bb4e6f": {
      "model_module": "@jupyter-widgets/controls",
      "model_module_version": "1.5.0",
      "model_name": "IntSliderModel",
      "state": {
       "description": "number",
       "layout": "IPY_MODEL_140b32a3870147c09dc92b6d80d7e53c",
       "max": 30,
       "min": 1,
       "style": "IPY_MODEL_d0bcba171da04ba6a6be2ed597d3d8c6",
       "value": 10
      }
     },
     "ff02f066ab5448999fc3742f8eab3ad4": {
      "model_module": "@jupyter-widgets/controls",
      "model_module_version": "1.5.0",
      "model_name": "SliderStyleModel",
      "state": {
       "description_width": ""
      }
     },
     "ff18481996114c6196f978eeac193d2b": {
      "model_module": "@jupyter-widgets/base",
      "model_module_version": "1.2.0",
      "model_name": "LayoutModel",
      "state": {}
     }
    },
    "version_major": 2,
    "version_minor": 0
   }
  }
 },
 "nbformat": 4,
 "nbformat_minor": 4
}
